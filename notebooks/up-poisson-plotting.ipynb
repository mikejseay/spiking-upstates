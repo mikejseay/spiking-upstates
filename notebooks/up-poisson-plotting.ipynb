{
 "cells": [
  {
   "cell_type": "code",
   "execution_count": 3,
   "metadata": {
    "scrolled": true
   },
   "outputs": [
    {
     "name": "stdout",
     "output_type": "stream",
     "text": [
      "Using matplotlib backend: Qt5Agg\n"
     ]
    },
    {
     "name": "stderr",
     "output_type": "stream",
     "text": [
      "INFO       Cache size for target \"cython\": 14417 MB.\n",
      "You can call \"clear_cache('cython')\" to delete all files from the cache or manually delete files in the \"C:\\Users\\mikejseay\\.cython\\brian_extensions\" directory. [brian2]\n"
     ]
    }
   ],
   "source": [
    "%matplotlib\n",
    "\n",
    "import sys\n",
    "sys.path.append('..')\n",
    "\n",
    "from brian2 import defaultclock, ms, pA, nA, Hz, seed, mV, second\n",
    "import numpy as np\n",
    "from results import Results\n",
    "import matplotlib.pyplot as plt"
   ]
  },
  {
   "cell_type": "code",
   "execution_count": 23,
   "metadata": {},
   "outputs": [],
   "source": [
    "# targetFile = 'buonoEphys_2000_0p25_upPoisson_guessBuono2Weights2e3p025LogNormal_test_2021-08-13-14-55_results'  # very nice but not the right params exactly\n",
    "# targetFile = 'buonoEphys2_2000_0p25_upPoisson_guessBuono2Weights2e3p025LogNormal2_test_2021-08-16-14-26_results'  # very nice\n",
    "# targetFile = 'buonoEphys2_2000_0p25_upPoisson_guessBuono2Weights2e3p025LogNormal2_test_2021-08-16-14-35_results'  # very nice\n",
    "# targetFile = 'buonoEphysBen1_2000_0p25_upPoisson_guessBuono2Weights2e3p025LogNormal_test_2021-08-16-16-19_results'  # very nice (ben idea worked)\n",
    "# targetFile = 'buonoEphysBen1_2000_0p25_upPoisson_guessBuono2Weights2e3p025LogNormal_test_2021-08-16-16-46_results'  # another example\n",
    "# targetFile = 'buonoEphysBen1_2000_0p25_upPoisson_guessBuono2Weights2e3p025LogNormal_test_2021-08-17-11-09_results'  # good\n",
    "\n",
    "# targetFile = 'buonoEphysBen1_2000_0p25_upPoisson_guessBuono2Weights2e3p025LogNormal_test_2021-08-17-14-13_results'  # no Exc2\n",
    "# targetFile = 'buonoEphysBen1_2000_0p25_upPoisson_guessBuono2Weights2e3p025LogNormal_test_2021-08-17-14-16_results'  # yes Exc2\n",
    "\n",
    "# targetFile = 'buonoEphysBen1_2000_0p25_upPoisson_guessBuono4Weights2e3p025LogNormal3__2021-08-23-14-49_results'  # yes Exc2\n",
    "# targetFile = 'buonoEphysBen1_2000_0p25_upPoisson_guessBuono4Weights2e3p025LogNormal3__2021-08-23-14-12_results'  # no Exc2\n",
    "\n",
    "# targetFile = 'buonoEphysBen1_2000_0p5_upPoisson_guessBuono4Weights2e3p05LogNormal3__2021-08-23-15-57_results'  # yes Exc2\n",
    "# targetFile = 'buonoEphysBen1_2000_0p5_upPoisson_guessBuono4Weights2e3p05LogNormal3__2021-08-23-15-52_results'  # no Exc2\n",
    "\n",
    "# targetFile = 'buonoEphysBen1_2000_0p5_upPoisson_guessBuono4Weights2e3p05LogNormal3__2021-08-23-16-05_results'  # yes Exc2, really good\n",
    "\n",
    "targetFile = 'buonoEphysBen1_2000_0p5_upPoisson_guessBuono6Weights2e3p05Beta10__2021-08-24-11-16_results'  # no Exc2\n",
    "# targetFile = 'buonoEphysBen1_2000_0p5_upPoisson_guessBuono6Weights2e3p05Beta10__2021-08-24-11-20_results'  # yes Exc2\n",
    "\n",
    "targetFolder = 'C:/Users/mikejseay/Documents/BrianResults/upPoisson'"
   ]
  },
  {
   "cell_type": "code",
   "execution_count": 24,
   "metadata": {},
   "outputs": [
    {
     "name": "stdout",
     "output_type": "stream",
     "text": [
      "classicJercogEphysBuonoBen1\n"
     ]
    }
   ],
   "source": [
    "R = Results()\n",
    "R.init_from_file(targetFile, targetFolder)\n",
    "\n",
    "print(R.p['simName'])"
   ]
  },
  {
   "cell_type": "code",
   "execution_count": 25,
   "metadata": {},
   "outputs": [
    {
     "data": {
      "text/plain": [
       "(3, 600000)"
      ]
     },
     "execution_count": 25,
     "metadata": {},
     "output_type": "execute_result"
    }
   ],
   "source": [
    "R.stateMonExcV.shape"
   ]
  },
  {
   "cell_type": "code",
   "execution_count": 26,
   "metadata": {},
   "outputs": [],
   "source": [
    "plt.close('all')"
   ]
  },
  {
   "cell_type": "code",
   "execution_count": 27,
   "metadata": {},
   "outputs": [
    {
     "data": {
      "text/plain": [
       "[0, 1599, 100]"
      ]
     },
     "execution_count": 27,
     "metadata": {},
     "output_type": "execute_result"
    }
   ],
   "source": [
    "R.p['indsRecordStateExc']"
   ]
  },
  {
   "cell_type": "code",
   "execution_count": 28,
   "metadata": {},
   "outputs": [
    {
     "name": "stdout",
     "output_type": "stream",
     "text": [
      "average FR in upstate for Exc: 2.11, Inh: 4.31, average upDur: 1.79\n"
     ]
    },
    {
     "data": {
      "text/plain": [
       "Text(0.5, 0.98, 'average FR in upstate for Exc: 2.11, Inh: 4.31, average upDur: 1.79')"
      ]
     },
     "execution_count": 28,
     "metadata": {},
     "output_type": "execute_result"
    }
   ],
   "source": [
    "R.calculate_PSTH()\n",
    "R.calculate_voltage_histogram(removeMode=True, useAllRecordedUnits=False, useExcUnits=1)\n",
    "R.calculate_upstates()\n",
    "if len(R.ups) > 0:\n",
    "    R.reshape_upstates()\n",
    "    R.calculate_FR_in_upstates()\n",
    "    infoStr = 'average FR in upstate for Exc: {:.2f}, Inh: {:.2f}, average upDur: {:.2f}'.format(R.upstateFRExcHist.mean(), R.upstateFRInhHist.mean(), R.upDurs.mean())\n",
    "    print(infoStr)\n",
    "\n",
    "\n",
    "R.calculate_voltage_histogram(removeMode=True)\n",
    "R.reshape_upstates()\n",
    "\n",
    "fig1, ax1 = plt.subplots(6, 1, num=1, figsize=(16, 9),\n",
    "                         gridspec_kw={'height_ratios': [3, 1, 1, 1, 1, 1]},\n",
    "                         sharex=True)\n",
    "R.plot_spike_raster(ax1[0])  # uses RNG but with a separate random seed\n",
    "R.plot_firing_rate(ax1[1])\n",
    "ax1[1].set_ylim(0, 30)\n",
    "R.plot_voltage_detail(ax1[2], unitType='Exc', useStateInd=0)\n",
    "R.plot_updur_lines(ax1[2])\n",
    "R.plot_voltage_detail(ax1[3], unitType='Inh', useStateInd=0)\n",
    "R.plot_updur_lines(ax1[3])\n",
    "R.plot_voltage_detail(ax1[4], unitType='Exc', useStateInd=1)\n",
    "R.plot_updur_lines(ax1[4])\n",
    "if 'useSecondPopExc' in R.p and R.p['useSecondPopExc']:\n",
    "    R.plot_voltage_detail(ax1[5], unitType='Exc', useStateInd=2)\n",
    "    R.plot_updur_lines(ax1[5])\n",
    "ax1[5].set(xlabel='Time (s)')\n",
    "R.plot_voltage_histogram_sideways(ax1[2], 'Exc')\n",
    "R.plot_voltage_histogram_sideways(ax1[3], 'Inh')\n",
    "fig1.suptitle(infoStr)"
   ]
  },
  {
   "cell_type": "code",
   "execution_count": 13,
   "metadata": {},
   "outputs": [],
   "source": [
    "R.calculate_voltage_histogram(removeMode=True, useAllRecordedUnits=False, useExcUnits=2)"
   ]
  },
  {
   "cell_type": "code",
   "execution_count": 29,
   "metadata": {},
   "outputs": [
    {
     "data": {
      "text/plain": [
       "[<matplotlib.lines.Line2D at 0x20207666088>]"
      ]
     },
     "execution_count": 29,
     "metadata": {},
     "output_type": "execute_result"
    }
   ],
   "source": [
    "f, ax = plt.subplots()\n",
    "# R.plot_voltage_histogram(ax)\n",
    "ax.plot(R.voltageHistCenters, (R.voltageHistExc + R.voltageHistInh)/2)"
   ]
  },
  {
   "cell_type": "code",
   "execution_count": 11,
   "metadata": {},
   "outputs": [],
   "source": [
    "R.calculate_upFR_units()"
   ]
  },
  {
   "cell_type": "code",
   "execution_count": 12,
   "metadata": {},
   "outputs": [],
   "source": [
    "frInp = R.upstateFRExcUnits[:, :R.p['nUnitsToSpike']].mean(0)  # input pop\n",
    "frEx2 = R.upstateFRExcUnits[:, R.p['nUnitsToSpike']:(R.p['nUnitsToSpike'] + R.p['nUnitsSecondPopExc'])].mean(0)  # secondary pop\n",
    "frEx1 = R.upstateFRExcUnits[:, (R.p['nUnitsToSpike'] + R.p['nUnitsSecondPopExc']):].mean(0)  # normal pop\n",
    "frInh = R.upstateFRInhUnits.mean(0)"
   ]
  },
  {
   "cell_type": "code",
   "execution_count": 13,
   "metadata": {},
   "outputs": [],
   "source": [
    "frInpHat = frInp.mean()\n",
    "frEx2Hat = frEx2.mean()\n",
    "frEx1Hat = frEx1.mean()\n",
    "frInhHat = frInh.mean()"
   ]
  },
  {
   "cell_type": "code",
   "execution_count": 14,
   "metadata": {
    "scrolled": true
   },
   "outputs": [],
   "source": [
    "frInpSTD = frInp.std()\n",
    "frEx2STD = frEx1.std()\n",
    "frEx1STD = frEx1.std()\n",
    "frInhSTD = frInh.std()"
   ]
  },
  {
   "cell_type": "code",
   "execution_count": 15,
   "metadata": {
    "scrolled": true
   },
   "outputs": [
    {
     "name": "stdout",
     "output_type": "stream",
     "text": [
      "2.467404279991682 1.308283321245025 2.5702626198933136 4.947048367269613\n"
     ]
    }
   ],
   "source": [
    "print(frInpHat, frEx2Hat, frEx1Hat, frInhHat, )"
   ]
  },
  {
   "cell_type": "code",
   "execution_count": 16,
   "metadata": {
    "scrolled": true
   },
   "outputs": [
    {
     "name": "stdout",
     "output_type": "stream",
     "text": [
      "1.149796735658158 1.2779727532255407 1.2779727532255407 2.914200552686734\n"
     ]
    }
   ],
   "source": [
    "print(frInpSTD, frEx2STD, frEx1STD, frInhSTD, )"
   ]
  },
  {
   "cell_type": "code",
   "execution_count": 17,
   "metadata": {},
   "outputs": [],
   "source": [
    "import seaborn as sns\n",
    "import pandas as pd"
   ]
  },
  {
   "cell_type": "code",
   "execution_count": 18,
   "metadata": {},
   "outputs": [],
   "source": [
    "frInpDF = pd.DataFrame(frInp, columns=('FR',))\n",
    "frEx2DF = pd.DataFrame(frEx2, columns=('FR',))\n",
    "frEx1DF = pd.DataFrame(frEx1, columns=('FR',))\n",
    "frInhDF = pd.DataFrame(frInh, columns=('FR',))"
   ]
  },
  {
   "cell_type": "code",
   "execution_count": 19,
   "metadata": {},
   "outputs": [],
   "source": [
    "frInpDF['unitType'] = 'Inp'\n",
    "frEx2DF['unitType'] = 'Ex2'\n",
    "frEx1DF['unitType'] = 'Ex1'\n",
    "frInhDF['unitType'] = 'Inh'"
   ]
  },
  {
   "cell_type": "code",
   "execution_count": 20,
   "metadata": {},
   "outputs": [],
   "source": [
    "frDF = pd.concat((frInpDF, frEx2DF, frEx1DF, frInhDF, ))\n",
    "\n",
    "# frDF = pd.concat((frEx2DF, frEx1DF, frInhDF, ))"
   ]
  },
  {
   "cell_type": "code",
   "execution_count": 21,
   "metadata": {},
   "outputs": [],
   "source": [
    "# Create an array with the colors you want to use\n",
    "colors = [\"#006400\", \"#90EE90\"]\n",
    "# Set your custom color palette\n",
    "customPalette = sns.set_palette(sns.color_palette(colors))"
   ]
  },
  {
   "cell_type": "code",
   "execution_count": 22,
   "metadata": {},
   "outputs": [
    {
     "data": {
      "text/plain": [
       "<matplotlib.axes._subplots.AxesSubplot at 0x20209c4ddc8>"
      ]
     },
     "execution_count": 22,
     "metadata": {},
     "output_type": "execute_result"
    }
   ],
   "source": [
    "f, ax = plt.subplots()\n",
    "sns.violinplot(x='unitType', y='FR', data=frDF, width=.6, palette=customPalette, order=('Ex1', 'Ex2'))\n",
    "# sns.stripplot(x=\"unitType\", y=\"FR\", data=frDF, size=4, color=\".3\", linewidth=0)"
   ]
  },
  {
   "cell_type": "code",
   "execution_count": 60,
   "metadata": {},
   "outputs": [
    {
     "data": {
      "text/plain": [
       "<matplotlib.axes._subplots.AxesSubplot at 0x25d6850bf88>"
      ]
     },
     "execution_count": 60,
     "metadata": {},
     "output_type": "execute_result"
    }
   ],
   "source": [
    "sns.swarmplot(x='unitType', y='FR', size=1.5, color='k', data=frDF, order=('Ex1', 'Ex2'))"
   ]
  },
  {
   "cell_type": "code",
   "execution_count": 64,
   "metadata": {
    "scrolled": true
   },
   "outputs": [
    {
     "data": {
      "text/plain": [
       "<matplotlib.axes._subplots.AxesSubplot at 0x25d6a0c4788>"
      ]
     },
     "execution_count": 64,
     "metadata": {},
     "output_type": "execute_result"
    }
   ],
   "source": [
    "f, ax = plt.subplots()\n",
    "sns.boxplot(x='unitType', y='FR', data=frDF, width=.6, order=('Ex1', 'Ex2'), palette=customPalette)\n",
    "# sns.stripplot(x=\"unitType\", y=\"FR\", data=frDF, size=4, color=\".3\", linewidth=0)"
   ]
  },
  {
   "cell_type": "code",
   "execution_count": 63,
   "metadata": {},
   "outputs": [
    {
     "data": {
      "text/plain": [
       "<matplotlib.axes._subplots.AxesSubplot at 0x25d685f0148>"
      ]
     },
     "execution_count": 63,
     "metadata": {},
     "output_type": "execute_result"
    }
   ],
   "source": [
    "sns.stripplot(x='unitType', y='FR', size=1.5, color='k', data=frDF, order=('Ex1', 'Ex2'))"
   ]
  },
  {
   "cell_type": "code",
   "execution_count": null,
   "metadata": {},
   "outputs": [],
   "source": []
  },
  {
   "cell_type": "code",
   "execution_count": null,
   "metadata": {},
   "outputs": [],
   "source": []
  },
  {
   "cell_type": "code",
   "execution_count": null,
   "metadata": {},
   "outputs": [],
   "source": []
  },
  {
   "cell_type": "code",
   "execution_count": 22,
   "metadata": {},
   "outputs": [
    {
     "name": "stdout",
     "output_type": "stream",
     "text": [
      "1997 83 640 532\n"
     ]
    }
   ],
   "source": [
    "# get the QTCore PyRect object\n",
    "geom = mngr.window.geometry()\n",
    "\n",
    "x,y,dx,dy = geom.getRect()\n",
    "\n",
    "print(x,y,dx,dy)"
   ]
  },
  {
   "cell_type": "code",
   "execution_count": null,
   "metadata": {},
   "outputs": [],
   "source": [
    "mngr = plt.get_current_fig_manager()\n",
    "# to put it into the upper left corner for example:\n",
    "# mngr.window.setGeometry(50,100,640, 545)\n",
    "targetFile = ''"
   ]
  }
 ],
 "metadata": {
  "kernelspec": {
   "display_name": "Python 3",
   "language": "python",
   "name": "python3"
  },
  "language_info": {
   "codemirror_mode": {
    "name": "ipython",
    "version": 3
   },
   "file_extension": ".py",
   "mimetype": "text/x-python",
   "name": "python",
   "nbconvert_exporter": "python",
   "pygments_lexer": "ipython3",
   "version": "3.7.6"
  }
 },
 "nbformat": 4,
 "nbformat_minor": 4
}

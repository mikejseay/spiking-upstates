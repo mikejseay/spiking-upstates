{
 "cells": [
  {
   "cell_type": "code",
   "execution_count": 1,
   "metadata": {
    "scrolled": true
   },
   "outputs": [
    {
     "name": "stdout",
     "output_type": "stream",
     "text": [
      "Using matplotlib backend: Qt5Agg\n"
     ]
    },
    {
     "name": "stderr",
     "output_type": "stream",
     "text": [
      "INFO       Cache size for target \"cython\": 9089 MB.\n",
      "You can call \"clear_cache('cython')\" to delete all files from the cache or manually delete files in the \"C:\\Users\\mikejseay\\.cython\\brian_extensions\" directory. [brian2]\n"
     ]
    }
   ],
   "source": [
    "%matplotlib\n",
    "\n",
    "import sys\n",
    "sys.path.append('..')\n",
    "\n",
    "from brian2 import defaultclock, ms, pA, nA, Hz, seed, mV, second\n",
    "import numpy as np\n",
    "from results import Results\n",
    "import matplotlib.pyplot as plt\n",
    "import matplotlib\n",
    "matplotlib.rcParams['pdf.fonttype'] = 42\n",
    "matplotlib.rcParams['ps.fonttype'] = 42\n",
    "import matplotlib.font_manager as fm\n",
    "\n",
    "import seaborn as sns\n",
    "import pandas as pd\n",
    "\n",
    "from stats import moving_average, outlying\n",
    "from scipy.stats import ttest_rel, mannwhitneyu\n",
    "import plot\n",
    "import importlib"
   ]
  },
  {
   "cell_type": "code",
   "execution_count": 2,
   "metadata": {},
   "outputs": [],
   "source": [
    "fontProp = fm.FontProperties(fname='C:\\\\Users\\\\mikejseay\\\\anaconda3\\\\Lib\\\\site-packages\\\\matplotlib\\\\mpl-data\\\\fonts\\\\otf\\\\MYRIADPRO-REGULAR.otf')\n",
    "fontProp.set_size(24)"
   ]
  },
  {
   "cell_type": "code",
   "execution_count": 43,
   "metadata": {},
   "outputs": [
    {
     "name": "stdout",
     "output_type": "stream",
     "text": [
      "classicJercogEphysBuonoBen1\n"
     ]
    }
   ],
   "source": [
    "# targetFile = 'buonoEphys_2000_0p25_upPoisson_guessBuono2Weights2e3p025LogNormal_test_2021-08-13-14-55_results'  # very nice but not the right params exactly\n",
    "# targetFile = 'buonoEphys2_2000_0p25_upPoisson_guessBuono2Weights2e3p025LogNormal2_test_2021-08-16-14-26_results'  # very nice\n",
    "# targetFile = 'buonoEphys2_2000_0p25_upPoisson_guessBuono2Weights2e3p025LogNormal2_test_2021-08-16-14-35_results'  # very nice\n",
    "# targetFile = 'buonoEphysBen1_2000_0p25_upPoisson_guessBuono2Weights2e3p025LogNormal_test_2021-08-16-16-19_results'  # very nice (ben idea worked)\n",
    "# targetFile = 'buonoEphysBen1_2000_0p25_upPoisson_guessBuono2Weights2e3p025LogNormal_test_2021-08-16-16-46_results'  # another example\n",
    "# targetFile = 'buonoEphysBen1_2000_0p25_upPoisson_guessBuono2Weights2e3p025LogNormal_test_2021-08-17-11-09_results'  # good\n",
    "\n",
    "# targetFile = 'buonoEphysBen1_2000_0p25_upPoisson_guessBuono2Weights2e3p025LogNormal_test_2021-08-17-14-13_results'  # no Exc2\n",
    "# targetFile = 'buonoEphysBen1_2000_0p25_upPoisson_guessBuono2Weights2e3p025LogNormal_test_2021-08-17-14-16_results'  # yes Exc2\n",
    "\n",
    "# targetFile = 'buonoEphysBen1_2000_0p25_upPoisson_guessBuono4Weights2e3p025LogNormal3__2021-08-23-14-49_results'  # yes Exc2\n",
    "# targetFile = 'buonoEphysBen1_2000_0p25_upPoisson_guessBuono4Weights2e3p025LogNormal3__2021-08-23-14-12_results'  # no Exc2\n",
    "\n",
    "# targetFile = 'buonoEphysBen1_2000_0p5_upPoisson_guessBuono4Weights2e3p05LogNormal3__2021-08-23-15-57_results'  # yes Exc2\n",
    "# targetFile = 'buonoEphysBen1_2000_0p5_upPoisson_guessBuono4Weights2e3p05LogNormal3__2021-08-23-15-52_results'  # no Exc2\n",
    "\n",
    "# targetFile = 'buonoEphysBen1_2000_0p5_upPoisson_guessBuono4Weights2e3p05LogNormal3__2021-08-23-16-05_results'  # yes Exc2, really good\n",
    "\n",
    "# targetFile = 'buonoEphysBen1_2000_0p5_upPoisson_guessBuono6Weights2e3p05Beta10__2021-08-24-11-16_results'  # no Exc2\n",
    "# targetFile = 'buonoEphysBen1_2000_0p5_upPoisson_guessBuono6Weights2e3p05Beta10__2021-08-24-11-20_results'  # yes Exc2\n",
    "\n",
    "targetFile = 'buonoEphysBen1_2000_0p25_upPoisson_resumePrior__2021-09-04-17-21_results'  # excitability experiment (ex- vs ex+)\n",
    "# targetFile = 'buonoEphysBen1_2000_0p25_upPoisson_resumePrior__2021-09-05-21-49_results'  # control equivalent\n",
    "\n",
    "# targetFile = 'buonoEphysBen1_2000_0p25_upPoisson_resumePrior__2021-09-08-14-28_results'  # good control, 30 s with 2 ups\n",
    "# targetFile = 'buonoEphysBen1_2000_0p25_upPoisson_resumePrior__2021-09-08-14-43_results'  # good experimental, 30 s with 2 ups\n",
    "\n",
    "# targetFile = 'buonoEphysBen1_2000_0p25_upPoisson_resumePrior__2021-09-09-10-47_results'  # modify conn 1: 10% removed\n",
    "# targetFile = 'buonoEphysBen1_2000_0p25_upPoisson_resumePrior__2021-09-10-10-15_results'  # modify conn 2: 10% removed, some added back\n",
    "\n",
    "# targetFile = 'buonoEphysBen1_2000_0p25_upPoisson_resumePrior__2021-10-04-13-54_results'  # 20% removed, added back\n",
    "# targetFile = 'buonoEphysBen1_2000_0p25_upPoisson_resumePrior_EImod_2021-10-04-14-03_results'  # 20% removed, added back\n",
    "\n",
    "# targetFile = 'buonoEphysBen1_2000_0p25_upPoisson_resumePrior_rem35AddBackBias_2022-01-09-23-17-25_results'\n",
    "# targetFile = 'buonoEphysBen1_2000_0p25_upPoisson_resumePrior_rem25AddBackBias_2022-01-07-09-54-33_results'\n",
    "\n",
    "# targetFile = 'classicJercog_2000_0p25_upPoisson_resumePrior_fig1_2022-02-23-09-32-06_results'\n",
    "\n",
    "# targetFile = 'buonoEphysBen1_2000_0p25_upPoisson_resumePrior_lessAdapt_2022-03-17-10-42-40'  # 10% removed, good params\n",
    "targetFile = 'buonoEphysBen1_2000_0p25_upPoisson_resumePrior_actualPoisson_2022-03-17-12-23-45_results'  # 10% removed, actual poisson\n",
    "\n",
    "targetFolder = 'C:/Users/mikejseay/Documents/BrianResults/'\n",
    "\n",
    "R = Results()\n",
    "R.init_from_file(targetFile, targetFolder)\n",
    "\n",
    "print(R.p['simName'])"
   ]
  },
  {
   "cell_type": "code",
   "execution_count": 4,
   "metadata": {
    "scrolled": true
   },
   "outputs": [
    {
     "name": "stdout",
     "output_type": "stream",
     "text": [
      "216.77431313143737\n",
      "10. pC\n"
     ]
    }
   ],
   "source": [
    "targetFile = 'buonoEphysBen1_2000_0p25_cross-homeo-pre-outer-homeo_guessBuono7Weights2e3p025SlightLow__2021-09-04-08-20_results'\n",
    "targetFolder = 'C:/Users/mikejseay/Documents/BrianResults/'\n",
    "RP = Results()\n",
    "RP.init_from_file(targetFile, targetFolder)\n",
    "print(RP.wEE_init.mean())\n",
    "print(RP.p['betaAdaptExc'])"
   ]
  },
  {
   "cell_type": "code",
   "execution_count": 5,
   "metadata": {},
   "outputs": [
    {
     "data": {
      "text/plain": [
       "0.9884124898961805"
      ]
     },
     "execution_count": 5,
     "metadata": {},
     "output_type": "execute_result"
    }
   ],
   "source": [
    "R.wEE_init.mean() / RP.wEE_init.mean()"
   ]
  },
  {
   "cell_type": "code",
   "execution_count": 6,
   "metadata": {},
   "outputs": [
    {
     "data": {
      "text/latex": [
       "$13.0\\,\\mathrm{p}\\,\\mathrm{C}$"
      ],
      "text/plain": [
       "13. * pcoulomb"
      ]
     },
     "execution_count": 6,
     "metadata": {},
     "output_type": "execute_result"
    }
   ],
   "source": [
    "R.p['betaAdaptExc']"
   ]
  },
  {
   "cell_type": "code",
   "execution_count": 7,
   "metadata": {},
   "outputs": [],
   "source": [
    "plt.close('all')"
   ]
  },
  {
   "cell_type": "code",
   "execution_count": 8,
   "metadata": {
    "scrolled": true
   },
   "outputs": [
    {
     "data": {
      "text/plain": [
       "[0, 1599, 100, 1152, 239, 892]"
      ]
     },
     "execution_count": 8,
     "metadata": {},
     "output_type": "execute_result"
    }
   ],
   "source": [
    "R.p['indsRecordStateExc']"
   ]
  },
  {
   "cell_type": "code",
   "execution_count": 9,
   "metadata": {
    "scrolled": true
   },
   "outputs": [
    {
     "data": {
      "text/plain": [
       "[0, 59]"
      ]
     },
     "execution_count": 9,
     "metadata": {},
     "output_type": "execute_result"
    }
   ],
   "source": [
    "R.p['indsRecordStateInh']"
   ]
  },
  {
   "cell_type": "code",
   "execution_count": 44,
   "metadata": {},
   "outputs": [
    {
     "name": "stdout",
     "output_type": "stream",
     "text": [
      "average FR in upstate for Exc: 3.53, Inh: 8.08, average upDur: 0.88, upFreq: 0.15\n"
     ]
    }
   ],
   "source": [
    "if 'dtHistPSTH' not in R.p:\n",
    "    R.p['dtHistPSTH'] = 10 * ms\n",
    "\n",
    "R.calculate_PSTH()\n",
    "R.calculate_voltage_histogram(removeMode=True, removeReset=True, useAllRecordedUnits=False, useExcUnits=1)\n",
    "R.calculate_upstates()\n",
    "if len(R.ups) > 0:\n",
    "#     R.reshape_upstates()\n",
    "    R.calculate_FR_in_upstates()\n",
    "    infoStr = 'average FR in upstate for Exc: {:.2f}, Inh: {:.2f}, average upDur: {:.2f}, upFreq: {:.2f}'.format(R.upstateFRExcHist.mean(), R.upstateFRInhHist.mean(), R.upDurs.mean(), R.ups.size / R.p['duration'] / Hz)\n",
    "    print(infoStr)\n",
    "\n",
    "\n",
    "R.calculate_voltage_histogram(useExcUnits=(2, 4,), useInhUnits=(0,))\n",
    "# R.reshape_upstates()"
   ]
  },
  {
   "cell_type": "code",
   "execution_count": 13,
   "metadata": {},
   "outputs": [
    {
     "data": {
      "text/plain": [
       "'buonoEphysBen1_2000_0p25_upPoisson_resumePrior__2021-09-05-21-49'"
      ]
     },
     "execution_count": 13,
     "metadata": {},
     "output_type": "execute_result"
    }
   ],
   "source": [
    "R.rID"
   ]
  },
  {
   "cell_type": "code",
   "execution_count": 14,
   "metadata": {},
   "outputs": [
    {
     "data": {
      "text/latex": [
       "$60.0\\,\\mathrm{s}$"
      ],
      "text/plain": [
       "60. * second"
      ]
     },
     "execution_count": 14,
     "metadata": {},
     "output_type": "execute_result"
    }
   ],
   "source": [
    "R.p['duration']"
   ]
  },
  {
   "cell_type": "code",
   "execution_count": 19,
   "metadata": {},
   "outputs": [],
   "source": [
    "# special plot: two voltages for a 20 sec period with 3 up states (hopefully)\n",
    "# e vs i\n",
    "\n",
    "doSave = False\n",
    "\n",
    "timePeriod = (0, 7.85)\n",
    "\n",
    "f, ax = plt.subplots(4, 1, num=2, figsize=(16, 10), sharex=True, sharey=True)\n",
    "R.plot_voltage_detail(ax[0], unitType='Exc', useStateInd=4)\n",
    "R.plot_voltage_detail(ax[1], unitType='Exc', useStateInd=5)\n",
    "R.plot_voltage_detail(ax[2], unitType='Exc', useStateInd=2)\n",
    "R.plot_voltage_detail(ax[3], unitType='Exc', useStateInd=3)\n",
    "\n",
    "# R.plot_voltage_detail(ax[1], unitType='Inh', useStateInd=1)\n",
    "R.plot_updur_lines(ax[3])\n",
    "ax[1].set(xlim=timePeriod, xlabel='Time (s)')\n",
    "\n",
    "if doSave:\n",
    "    f.savefig(R.rID + 'UpPoissonVoltage.pdf', transparent=True)"
   ]
  },
  {
   "cell_type": "code",
   "execution_count": 20,
   "metadata": {},
   "outputs": [],
   "source": [
    "# special plot: two voltages for a 20 sec period with 3 up states (hopefully)\n",
    "# e vs i\n",
    "\n",
    "doSave = True\n",
    "\n",
    "timePeriod = (0, 8)\n",
    "\n",
    "f, ax = plt.subplots(2, 1, num=2, figsize=(16, 5), sharex=True, sharey=True)\n",
    "R.plot_voltage_detail(ax[0], unitType='Exc', useStateInd=3)\n",
    "R.plot_voltage_detail(ax[1], unitType='Exc', useStateInd=2)\n",
    "# R.plot_voltage_detail(ax[1], unitType='Inh', useStateInd=1)\n",
    "R.plot_updur_lines(ax[1])\n",
    "ax[1].set(xlim=timePeriod, xlabel='Time (s)')\n",
    "\n",
    "if doSave:\n",
    "    f.savefig(R.rID + 'UpPoissonVoltage.pdf', transparent=True)"
   ]
  },
  {
   "cell_type": "code",
   "execution_count": 89,
   "metadata": {},
   "outputs": [],
   "source": [
    "# special plot: two voltages for a 20 sec period with 3 up states (hopefully)\n",
    "# e- vs e+\n",
    "\n",
    "doSave = True\n",
    "\n",
    "timePeriod = (0, 10)\n",
    "\n",
    "f, ax = plt.subplots(2, 1, num=2, figsize=(9, 5), sharex=True, sharey=True)\n",
    "R.plot_voltage_detail(ax[0], unitType='Exc', useStateInd=449)\n",
    "R.plot_voltage_detail(ax[1], unitType='Exc', useStateInd=209, overrideColor='royalblue')\n",
    "R.plot_updur_lines(ax[1])\n",
    "ax[1].set(xlim=timePeriod, xlabel='Time (s)')\n",
    "\n",
    "if doSave:\n",
    "    f.savefig('benEphys3Voltage.pdf', transparent=True)"
   ]
  },
  {
   "cell_type": "code",
   "execution_count": 16,
   "metadata": {},
   "outputs": [],
   "source": [
    "# special plot: spike raster for a 20 sec period with 3 up states (hopefully)\n",
    "\n",
    "doSave = True\n",
    "\n",
    "timePeriod = (0, 20)\n",
    "\n",
    "fig1, ax1 = plt.subplots(2, 1, num=3,\n",
    "                         gridspec_kw={'height_ratios': [2, 1]},\n",
    "                         figsize=(16, 5), sharex=True)\n",
    "R.plot_spike_raster(ax1[0])\n",
    "R.plot_firing_rate(ax1[1])\n",
    "ax1[1].set_ylim(0, 40)\n",
    "ax1[1].set(xlim=timePeriod, xlabel='Time (s)')\n",
    "\n",
    "if doSave:\n",
    "    fig1.savefig(R.rID + 'UpPoissonRaster.pdf', transparent=True)"
   ]
  },
  {
   "cell_type": "code",
   "execution_count": 17,
   "metadata": {},
   "outputs": [
    {
     "data": {
      "text/plain": [
       "Text(0.5, 0.98, 'average FR in upstate for Exc: 3.87, Inh: 9.14, average upDur: 0.77, upFreq: 0.13')"
      ]
     },
     "execution_count": 17,
     "metadata": {},
     "output_type": "execute_result"
    }
   ],
   "source": [
    "fig1, ax1 = plt.subplots(6, 1, num=1, figsize=(16, 9),\n",
    "                         gridspec_kw={'height_ratios': [3, 1, 1, 1, 1, 1]},\n",
    "                         sharex=True)\n",
    "R.plot_spike_raster(ax1[0])  # uses RNG but with a separate random seed\n",
    "R.plot_firing_rate(ax1[1])\n",
    "ax1[1].set_ylim(0, 30)\n",
    "R.plot_voltage_detail(ax1[2], unitType='Exc', useStateInd=0)\n",
    "R.plot_updur_lines(ax1[2])\n",
    "R.plot_voltage_detail(ax1[3], unitType='Inh', useStateInd=0)\n",
    "R.plot_updur_lines(ax1[3])\n",
    "R.plot_voltage_detail(ax1[4], unitType='Exc', useStateInd=1)\n",
    "R.plot_updur_lines(ax1[4])\n",
    "if 'useSecondPopExc' in R.p and R.p['useSecondPopExc']:\n",
    "    R.plot_voltage_detail(ax1[5], unitType='Exc', useStateInd=2)\n",
    "    R.plot_updur_lines(ax1[5])\n",
    "ax1[5].set(xlabel='Time (s)')\n",
    "R.plot_voltage_histogram_sideways(ax1[2], 'Exc')\n",
    "R.plot_voltage_histogram_sideways(ax1[3], 'Inh')\n",
    "fig1.suptitle(infoStr)"
   ]
  },
  {
   "cell_type": "code",
   "execution_count": 46,
   "metadata": {},
   "outputs": [
    {
     "data": {
      "text/plain": [
       "Text(0.5, 0.98, 'classicJercogEphysBuonoBen1')"
      ]
     },
     "execution_count": 46,
     "metadata": {},
     "output_type": "execute_result"
    }
   ],
   "source": [
    "fig1, ax1 = plt.subplots(5, 1, num=1, figsize=(16, 9),\n",
    "                         gridspec_kw={'height_ratios': [3, 1, 1, 1, 1]},\n",
    "                         sharex=True)\n",
    "R.plot_spike_raster(ax1[0])  # uses RNG but with a separate random seed\n",
    "R.plot_firing_rate(ax1[1])\n",
    "ax1[1].set_ylim(0, 30)\n",
    "R.plot_voltage_detail(ax1[2], unitType='Exc', useStateInd=5)\n",
    "R.plot_voltage_detail(ax1[3], unitType='Inh', useStateInd=0)\n",
    "R.plot_voltage_detail(ax1[4], unitType='Exc', useStateInd=2, overrideColor='royalblue')\n",
    "R.plot_updur_lines(ax1[2])\n",
    "R.plot_updur_lines(ax1[3])\n",
    "R.plot_updur_lines(ax1[4])\n",
    "ax1[4].set(xlabel='Time (s)')\n",
    "R.plot_voltage_histogram_sideways(ax1[2], 'Exc')\n",
    "R.plot_voltage_histogram_sideways(ax1[3], 'Inh')\n",
    "R.plot_voltage_histogram_sideways(ax1[4], 'Exc')\n",
    "fig1.suptitle(R.p['simName'])"
   ]
  },
  {
   "cell_type": "code",
   "execution_count": 62,
   "metadata": {},
   "outputs": [],
   "source": [
    "R.calculate_voltage_histogram(removeMode=True, useAllRecordedUnits=False, useExcUnits=2)"
   ]
  },
  {
   "cell_type": "code",
   "execution_count": 13,
   "metadata": {},
   "outputs": [
    {
     "data": {
      "text/plain": [
       "[Text(0.5, 0, 'Voltage (mv)'), Text(0, 0.5, '# of occurences')]"
      ]
     },
     "execution_count": 13,
     "metadata": {},
     "output_type": "execute_result"
    }
   ],
   "source": [
    "f, ax = plt.subplots(figsize=(6, 4))\n",
    "# R.plot_voltage_histogram(ax)\n",
    "# ax.plot(R.voltageHistCenters, (R.voltageHistExc + R.voltageHistInh)/2)\n",
    "ax.plot(R.voltageHistCenters, R.voltageHistExc)\n",
    "ax.set(xlabel='Voltage (mv)', ylabel='# of occurences')"
   ]
  },
  {
   "cell_type": "code",
   "execution_count": 45,
   "metadata": {},
   "outputs": [],
   "source": [
    "R.calculate_upFR_units()"
   ]
  },
  {
   "cell_type": "markdown",
   "metadata": {},
   "source": [
    "# UP POISSON START HERE"
   ]
  },
  {
   "cell_type": "code",
   "execution_count": 3,
   "metadata": {},
   "outputs": [],
   "source": [
    "plt.close('all')"
   ]
  },
  {
   "cell_type": "code",
   "execution_count": 62,
   "metadata": {},
   "outputs": [],
   "source": [
    "# targetFile = 'buonoEphysBen1_2000_0p25_upPoisson_resumePrior_rem10AddBackE1E1_2022-01-10-09-15-34_results'\n",
    "# targetFile = 'buonoEphysBen1_2000_0p25_upPoisson_resumePrior_rem15AddBackE1E1_2022-01-10-09-34-49_results'\n",
    "# targetFile = 'buonoEphysBen1_2000_0p25_upPoisson_resumePrior_rem20AddBackBoth_2022-01-10-09-17-27_results'\n",
    "# targetFile = 'buonoEphysBen1_2000_0p25_upPoisson_resumePrior_rem20AddBackE1E1CompInh_2022-01-10-09-17-59_results'\n",
    "# targetFile = 'buonoEphysBen1_2000_0p25_upPoisson_resumePrior_rem20_2022-01-13-08-48-23_results'\n",
    "# targetFile = 'buonoEphysBen1_2000_0p25_upPoisson_resumePrior_rem10_2022-01-13-08-47-51_results'\n",
    "# targetFile = 'buonoEphysBen1_2000_0p25_upPoisson_resumePrior_lessAdapt_2022-03-07-15-48-20_results'\n",
    "targetFile = 'buonoEphysBen1_2000_0p25_upPoisson_resumePrior_lessAdapt_2022-03-17-10-42-40'  # 10%\n",
    "targetFolder = 'C:/Users/mikejseay/Documents/BrianResults/'\n",
    "R = Results()\n",
    "R.init_from_file(targetFile, targetFolder)"
   ]
  },
  {
   "cell_type": "code",
   "execution_count": 42,
   "metadata": {},
   "outputs": [
    {
     "ename": "ValueError",
     "evalue": "could not broadcast input array from shape (0) into shape (12700)",
     "output_type": "error",
     "traceback": [
      "\u001b[1;31m---------------------------------------------------------------------------\u001b[0m",
      "\u001b[1;31mValueError\u001b[0m                                Traceback (most recent call last)",
      "\u001b[1;32m<ipython-input-42-b8b6c9ed2a89>\u001b[0m in \u001b[0;36m<module>\u001b[1;34m\u001b[0m\n\u001b[0;32m      6\u001b[0m \u001b[0mR\u001b[0m\u001b[1;33m.\u001b[0m\u001b[0mcalculate_upstates\u001b[0m\u001b[1;33m(\u001b[0m\u001b[1;33m)\u001b[0m\u001b[1;33m\u001b[0m\u001b[1;33m\u001b[0m\u001b[0m\n\u001b[0;32m      7\u001b[0m \u001b[1;32mif\u001b[0m \u001b[0mlen\u001b[0m\u001b[1;33m(\u001b[0m\u001b[0mR\u001b[0m\u001b[1;33m.\u001b[0m\u001b[0mups\u001b[0m\u001b[1;33m)\u001b[0m \u001b[1;33m>\u001b[0m \u001b[1;36m0\u001b[0m\u001b[1;33m:\u001b[0m\u001b[1;33m\u001b[0m\u001b[1;33m\u001b[0m\u001b[0m\n\u001b[1;32m----> 8\u001b[1;33m     \u001b[0mR\u001b[0m\u001b[1;33m.\u001b[0m\u001b[0mreshape_upstates\u001b[0m\u001b[1;33m(\u001b[0m\u001b[1;33m)\u001b[0m\u001b[1;33m\u001b[0m\u001b[1;33m\u001b[0m\u001b[0m\n\u001b[0m\u001b[0;32m      9\u001b[0m     \u001b[0mR\u001b[0m\u001b[1;33m.\u001b[0m\u001b[0mcalculate_FR_in_upstates\u001b[0m\u001b[1;33m(\u001b[0m\u001b[1;33m)\u001b[0m\u001b[1;33m\u001b[0m\u001b[1;33m\u001b[0m\u001b[0m\n\u001b[0;32m     10\u001b[0m     \u001b[0minfoStr\u001b[0m \u001b[1;33m=\u001b[0m \u001b[1;34m'average FR in upstate for Exc: {:.2f}, Inh: {:.2f}, average upDur: {:.2f}, upFreq: {:.2f}'\u001b[0m\u001b[1;33m.\u001b[0m\u001b[0mformat\u001b[0m\u001b[1;33m(\u001b[0m\u001b[0mR\u001b[0m\u001b[1;33m.\u001b[0m\u001b[0mupstateFRExcHist\u001b[0m\u001b[1;33m.\u001b[0m\u001b[0mmean\u001b[0m\u001b[1;33m(\u001b[0m\u001b[1;33m)\u001b[0m\u001b[1;33m,\u001b[0m \u001b[0mR\u001b[0m\u001b[1;33m.\u001b[0m\u001b[0mupstateFRInhHist\u001b[0m\u001b[1;33m.\u001b[0m\u001b[0mmean\u001b[0m\u001b[1;33m(\u001b[0m\u001b[1;33m)\u001b[0m\u001b[1;33m,\u001b[0m \u001b[0mR\u001b[0m\u001b[1;33m.\u001b[0m\u001b[0mupDurs\u001b[0m\u001b[1;33m.\u001b[0m\u001b[0mmean\u001b[0m\u001b[1;33m(\u001b[0m\u001b[1;33m)\u001b[0m\u001b[1;33m,\u001b[0m \u001b[0mR\u001b[0m\u001b[1;33m.\u001b[0m\u001b[0mups\u001b[0m\u001b[1;33m.\u001b[0m\u001b[0msize\u001b[0m \u001b[1;33m/\u001b[0m \u001b[0mR\u001b[0m\u001b[1;33m.\u001b[0m\u001b[0mp\u001b[0m\u001b[1;33m[\u001b[0m\u001b[1;34m'duration'\u001b[0m\u001b[1;33m]\u001b[0m \u001b[1;33m/\u001b[0m \u001b[0mHz\u001b[0m\u001b[1;33m)\u001b[0m\u001b[1;33m\u001b[0m\u001b[1;33m\u001b[0m\u001b[0m\n",
      "\u001b[1;32m~\\PycharmProjects\\spiking-upstates\\results.py\u001b[0m in \u001b[0;36mreshape_upstates\u001b[1;34m(self)\u001b[0m\n\u001b[0;32m    299\u001b[0m \u001b[1;33m\u001b[0m\u001b[0m\n\u001b[0;32m    300\u001b[0m             vUpstatesExc[upstateInd, startIndLeft:endIndLeft] = voltageNumpyExc[\n\u001b[1;32m--> 301\u001b[1;33m                                                                 adjustedStartIndRight:adjustedEndIndRight]\n\u001b[0m\u001b[0;32m    302\u001b[0m             vUpstatesInh[upstateInd, startIndLeft:endIndLeft] = voltageNumpyInh[\n\u001b[0;32m    303\u001b[0m                                                                 adjustedStartIndRight:adjustedEndIndRight]\n",
      "\u001b[1;31mValueError\u001b[0m: could not broadcast input array from shape (0) into shape (12700)"
     ]
    }
   ],
   "source": [
    "if 'dtHistPSTH' not in R.p:\n",
    "    R.p['dtHistPSTH'] = 10 * ms\n",
    "\n",
    "R.calculate_PSTH()\n",
    "R.calculate_voltage_histogram(removeMode=True, removeReset=True, useAllRecordedUnits=False, useExcUnits=1)\n",
    "R.calculate_upstates()\n",
    "if len(R.ups) > 0:\n",
    "    R.reshape_upstates()\n",
    "    R.calculate_FR_in_upstates()\n",
    "    infoStr = 'average FR in upstate for Exc: {:.2f}, Inh: {:.2f}, average upDur: {:.2f}, upFreq: {:.2f}'.format(R.upstateFRExcHist.mean(), R.upstateFRInhHist.mean(), R.upDurs.mean(), R.ups.size / R.p['duration'] / Hz)\n",
    "    print(infoStr)\n",
    "\n",
    "R.calculate_voltage_histogram(useExcUnits=(2, 4,), useInhUnits=(0,))\n",
    "R.reshape_upstates()\n",
    "R.calculate_upFR_units()\n",
    "\n",
    "useTitle = targetFile.split('_')[-3]"
   ]
  },
  {
   "cell_type": "code",
   "execution_count": 7,
   "metadata": {},
   "outputs": [],
   "source": [
    "R.calculate_upCorr_units()"
   ]
  },
  {
   "cell_type": "code",
   "execution_count": 65,
   "metadata": {},
   "outputs": [
    {
     "data": {
      "text/plain": [
       "20000"
      ]
     },
     "execution_count": 65,
     "metadata": {},
     "output_type": "execute_result"
    }
   ],
   "source": [
    "R.stateMonExcV.shape[1]"
   ]
  },
  {
   "cell_type": "code",
   "execution_count": 66,
   "metadata": {},
   "outputs": [
    {
     "data": {
      "text/latex": [
       "$1.0\\,\\mathrm{m}\\,\\mathrm{s}$"
      ],
      "text/plain": [
       "1. * msecond"
      ]
     },
     "execution_count": 66,
     "metadata": {},
     "output_type": "execute_result"
    }
   ],
   "source": [
    "R.p['duration'] / R.stateMonExcV.shape[1]"
   ]
  },
  {
   "cell_type": "code",
   "execution_count": 30,
   "metadata": {
    "scrolled": true
   },
   "outputs": [
    {
     "data": {
      "text/plain": [
       "<module 'plot' from '..\\\\plot.py'>"
      ]
     },
     "execution_count": 30,
     "metadata": {},
     "output_type": "execute_result"
    }
   ],
   "source": [
    "importlib.reload(plot)"
   ]
  },
  {
   "cell_type": "code",
   "execution_count": 67,
   "metadata": {},
   "outputs": [],
   "source": [
    "f, ax = plt.subplots()\n",
    "plot.weight_matrix(ax, R.rhoUpExc)"
   ]
  },
  {
   "cell_type": "code",
   "execution_count": 8,
   "metadata": {},
   "outputs": [],
   "source": [
    "# how to set the diagonal to nan,\n",
    "# get rid of the upper triangular part,\n",
    "# then find the average correlation within and among the input units, Ex2, and Ex1 (3 x 3)"
   ]
  },
  {
   "cell_type": "code",
   "execution_count": 73,
   "metadata": {},
   "outputs": [],
   "source": [
    "rhoUpExc = R.rhoUpExc.copy()\n",
    "rhoUpExc[np.diag_indices_from(rhoUpExc)] = np.nan\n",
    "# rhoUpExc[np.triu_indices(rhoUpExc.shape[0])] = np.nan\n",
    "\n",
    "f, ax = plt.subplots()\n",
    "plot.weight_matrix(ax, rhoUpExc)"
   ]
  },
  {
   "cell_type": "code",
   "execution_count": 68,
   "metadata": {},
   "outputs": [
    {
     "data": {
      "text/plain": [
       "[<matplotlib.lines.Line2D at 0x15072e74908>]"
      ]
     },
     "execution_count": 68,
     "metadata": {},
     "output_type": "execute_result"
    }
   ],
   "source": [
    "# find the pair with the highest correlation and plot the two traces\n",
    "\n",
    "rhoUpExcD0 = R.rhoUpExc.copy()\n",
    "rhoUpExcD0[np.diag_indices_from(rhoUpExcD0)] = 0\n",
    "\n",
    "u1, u2 = np.unravel_index(np.argmax(rhoUpExcD0), rhoUpExcD0.shape)\n",
    "stateMonT = np.arange(0, float(R.p['duration']), R.p['stateVariableDT'])\n",
    "\n",
    "f, ax = plt.subplots()\n",
    "ax.plot(stateMonT, R.stateMonExcV[u1, :])\n",
    "ax.plot(stateMonT, R.stateMonExcV[u2, :])"
   ]
  },
  {
   "cell_type": "code",
   "execution_count": 69,
   "metadata": {},
   "outputs": [
    {
     "data": {
      "text/plain": [
       "[<matplotlib.lines.Line2D at 0x15077256a08>]"
      ]
     },
     "execution_count": 69,
     "metadata": {},
     "output_type": "execute_result"
    }
   ],
   "source": [
    "# plot the average voltage trace for E2 / E1\n",
    "\n",
    "f, ax = plt.subplots()\n",
    "ax.plot(stateMonT, R.stateMonExcV[R.p['nUnitsToSpike']:(R.p['nUnitsToSpike'] + R.p['nUnitsSecondPopExc']), :].mean(0))\n",
    "ax.plot(stateMonT, R.stateMonExcV[(R.p['nUnitsToSpike'] + R.p['nUnitsSecondPopExc']):, :].mean(0))"
   ]
  },
  {
   "cell_type": "code",
   "execution_count": 11,
   "metadata": {
    "collapsed": true
   },
   "outputs": [
    {
     "data": {
      "text/plain": [
       "array([[       nan, 0.92756153, 0.89390248, ..., 0.55289599, 0.63980039,\n",
       "        0.70774998],\n",
       "       [0.92756153,        nan, 0.84805388, ..., 0.61549191, 0.60644421,\n",
       "        0.76779306],\n",
       "       [0.89390248, 0.84805388,        nan, ..., 0.5076966 , 0.58915537,\n",
       "        0.63510686],\n",
       "       ...,\n",
       "       [0.55289599, 0.61549191, 0.5076966 , ...,        nan, 0.80691381,\n",
       "        0.75658165],\n",
       "       [0.63980039, 0.60644421, 0.58915537, ..., 0.80691381,        nan,\n",
       "        0.79335056],\n",
       "       [0.70774998, 0.76779306, 0.63510686, ..., 0.75658165, 0.79335056,\n",
       "               nan]])"
      ]
     },
     "execution_count": 11,
     "metadata": {},
     "output_type": "execute_result"
    }
   ],
   "source": [
    "rhoUpExc"
   ]
  },
  {
   "cell_type": "code",
   "execution_count": 70,
   "metadata": {},
   "outputs": [],
   "source": [
    "# calculating 3 submatrix averages with start and stop indices\n",
    "# pop order is input, Ex2, Ex1\n",
    "\n",
    "rhoUpExc = R.rhoUpExc.copy()\n",
    "rhoUpExc[np.diag_indices_from(rhoUpExc)] = np.nan\n",
    "\n",
    "popLabels = ['Inp', 'Ex2', 'Ex1']\n",
    "\n",
    "sI = [0,\n",
    "      R.p['nUnitsToSpike'],\n",
    "      (R.p['nUnitsToSpike'] + R.p['nUnitsSecondPopExc'])]\n",
    "eI = [R.p['nUnitsToSpike'],\n",
    "      (R.p['nUnitsToSpike'] + R.p['nUnitsSecondPopExc']),\n",
    "      -1]\n",
    "\n",
    "assert(len(sI) == len(eI))\n",
    "\n",
    "nPops = len(sI)\n",
    "\n",
    "sectionCorrMean = np.full((nPops, nPops), np.nan)\n",
    "sectionCorrStd = np.full((nPops, nPops), np.nan)\n",
    "\n",
    "meanCompareLabels = []\n",
    "seqLst = []\n",
    "for p1I in range(nPops):\n",
    "    for p2I in range(nPops):\n",
    "        if p2I > p1I:\n",
    "            continue\n",
    "        rhoSub = rhoUpExc[sI[p1I]:eI[p1I], sI[p2I]:eI[p2I]]\n",
    "        rhoSubNN = rhoSub[~np.isnan(rhoSub)]\n",
    "        sectionCorrMean[p1I, p2I] = np.nanmean(rhoSubNN)\n",
    "        sectionCorrStd[p1I, p2I] = np.nanstd(rhoSubNN)\n",
    "        meanCompareLabels.append(popLabels[p1I] + '-' + popLabels[p2I])\n",
    "        dfTmp = pd.DataFrame(rhoSubNN, columns=('Correlation',))\n",
    "        dfTmp['Comparison'] = popLabels[p1I] + '-' + popLabels[p2I]\n",
    "        seqLst.append(dfTmp)"
   ]
  },
  {
   "cell_type": "code",
   "execution_count": 71,
   "metadata": {},
   "outputs": [],
   "source": [
    "corrCompareDF = pd.concat(seqLst)"
   ]
  },
  {
   "cell_type": "code",
   "execution_count": 72,
   "metadata": {},
   "outputs": [
    {
     "data": {
      "text/plain": [
       "<AxesSubplot:xlabel='Comparison', ylabel='Correlation'>"
      ]
     },
     "execution_count": 72,
     "metadata": {},
     "output_type": "execute_result"
    }
   ],
   "source": [
    "f, ax = plt.subplots()\n",
    "# sns.pointplot(x='Comparison', y='Correlation', data=corrCompareDF, join=False, ci=\"sd\")\n",
    "# sns.pointplot(x='Comparison', y='Correlation', data=corrCompareDF, join=False, ci=99.9999)\n",
    "sns.boxplot(x='Comparison', y='Correlation', data=corrCompareDF, order=('Ex2-Ex2', 'Ex1-Ex2', 'Ex1-Ex1', ))\n",
    "# sns.violinplot(x='Comparison', y='Correlation', data=corrCompareDF, width=.6)\n",
    "# ax.set_title(useTitle)"
   ]
  },
  {
   "cell_type": "code",
   "execution_count": 46,
   "metadata": {
    "scrolled": true
   },
   "outputs": [
    {
     "name": "stdout",
     "output_type": "stream",
     "text": [
      "4.445479741141243 2.567834575166506 4.414310951279735 10.23758963521136\n"
     ]
    }
   ],
   "source": [
    "frInp = R.upstateFRExcUnits[:, :R.p['nUnitsToSpike']].mean(0)  # input pop\n",
    "frEx2 = R.upstateFRExcUnits[:, R.p['nUnitsToSpike']:(R.p['nUnitsToSpike'] + R.p['nUnitsSecondPopExc'])].mean(0)  # secondary pop\n",
    "frEx1 = R.upstateFRExcUnits[:, (R.p['nUnitsToSpike'] + R.p['nUnitsSecondPopExc']):].mean(0)  # normal pop\n",
    "frInh = R.upstateFRInhUnits.mean(0)\n",
    "\n",
    "frInpHat = frInp.mean()\n",
    "frEx2Hat = frEx2.mean()\n",
    "frEx1Hat = frEx1.mean()\n",
    "frInhHat = frInh.mean()\n",
    "\n",
    "print(frInpHat, frEx2Hat, frEx1Hat, frInhHat, )"
   ]
  },
  {
   "cell_type": "code",
   "execution_count": 47,
   "metadata": {},
   "outputs": [
    {
     "data": {
      "text/plain": [
       "(1300,)"
      ]
     },
     "execution_count": 47,
     "metadata": {},
     "output_type": "execute_result"
    }
   ],
   "source": [
    "frEx1.shape"
   ]
  },
  {
   "cell_type": "code",
   "execution_count": 48,
   "metadata": {
    "scrolled": true
   },
   "outputs": [
    {
     "data": {
      "text/plain": [
       "(200,)"
      ]
     },
     "execution_count": 48,
     "metadata": {},
     "output_type": "execute_result"
    }
   ],
   "source": [
    "frEx2.shape"
   ]
  },
  {
   "cell_type": "code",
   "execution_count": 12,
   "metadata": {},
   "outputs": [
    {
     "data": {
      "text/plain": [
       "(-0.5, 2.5, 2.5, -0.5)"
      ]
     },
     "execution_count": 12,
     "metadata": {},
     "output_type": "execute_result"
    }
   ],
   "source": [
    "f, ax = plt.subplots()\n",
    "plot.weight_matrix(ax, sectionCorrMean)\n",
    "ax.get_xaxis().set_ticks([])\n",
    "ax.get_yaxis().set_ticks([])\n",
    "ax.axis('off')"
   ]
  },
  {
   "cell_type": "code",
   "execution_count": 14,
   "metadata": {},
   "outputs": [
    {
     "name": "stdout",
     "output_type": "stream",
     "text": [
      "20100 0\n",
      "20100 844350\n",
      "0 844350\n"
     ]
    }
   ],
   "source": [
    "# now for each of the 6 meaningful inter-pop comparisons, let's compare the magnitude of correlations for those comparisons\n",
    "# to keep things simple and illustrate how the mann whitney U works, let's just do the three compares we care about,\n",
    "# ex2-ex2, ex1-ex2, ex1-ex1, which come from (1, 1), (2, 1), and (2, 2)\n",
    "# so (1, 1) vs (2, 1) then (1, 1) vs (2, 2) then (2, 1) vs (2, 2)\n",
    "\n",
    "comparesWeCare = (((1, 1), (2, 1)),\n",
    "                  ((1, 1), (2, 2)),\n",
    "                  ((2, 1), (2, 2)),)\n",
    "\n",
    "rhoUpExcNTU = R.rhoUpExc.copy()\n",
    "rhoUpExcNTU[np.triu_indices(rhoUpExc.shape[0])] = np.nan\n",
    "\n",
    "pVals = np.empty((len(comparesWeCare),))\n",
    "uVals = np.empty((len(comparesWeCare),))\n",
    "\n",
    "for compareInd in range(len(comparesWeCare)):\n",
    "    p1I1, p2I1 = comparesWeCare[compareInd][0]\n",
    "    corrs1 = rhoUpExcNTU[sI[p1I1]:eI[p1I1], sI[p2I1]:eI[p2I1]]\n",
    "    p1I2, p2I2 = comparesWeCare[compareInd][1]\n",
    "    corrs2 = rhoUpExcNTU[sI[p1I2]:eI[p1I2], sI[p2I2]:eI[p2I2]]\n",
    "    print(np.isnan(corrs1).sum(), np.isnan(corrs2).sum())\n",
    "    corrs1NN = corrs1[~np.isnan(corrs1)]\n",
    "    corrs2NN = corrs2[~np.isnan(corrs2)]\n",
    "    res = mannwhitneyu(corrs1NN, corrs2NN)\n",
    "    pVals[compareInd] = res.pvalue\n",
    "    uVals[compareInd] = res.statistic"
   ]
  },
  {
   "cell_type": "code",
   "execution_count": 15,
   "metadata": {},
   "outputs": [
    {
     "data": {
      "text/plain": [
       "array([2.20863329e+09, 4.77070908e+09, 5.18796998e+10])"
      ]
     },
     "execution_count": 15,
     "metadata": {},
     "output_type": "execute_result"
    }
   ],
   "source": [
    "uVals"
   ]
  },
  {
   "cell_type": "code",
   "execution_count": 11,
   "metadata": {},
   "outputs": [
    {
     "data": {
      "text/plain": [
       "[<matplotlib.lines.Line2D at 0x1ef11024c48>]"
      ]
     },
     "execution_count": 11,
     "metadata": {},
     "output_type": "execute_result"
    }
   ],
   "source": [
    "f, ax = plt.subplots()\n",
    "ax.plot(R.stateMonExcV[0, :])"
   ]
  },
  {
   "cell_type": "code",
   "execution_count": 10,
   "metadata": {
    "collapsed": true
   },
   "outputs": [
    {
     "ename": "ValueError",
     "evalue": "x and y must have same first dimension, but have shapes (20000,) and (200000,)",
     "output_type": "error",
     "traceback": [
      "\u001b[1;31m---------------------------------------------------------------------------\u001b[0m",
      "\u001b[1;31mValueError\u001b[0m                                Traceback (most recent call last)",
      "\u001b[1;32m<ipython-input-10-c3af566a5d34>\u001b[0m in \u001b[0;36m<module>\u001b[1;34m\u001b[0m\n\u001b[0;32m      5\u001b[0m \u001b[1;33m\u001b[0m\u001b[0m\n\u001b[0;32m      6\u001b[0m \u001b[0mf\u001b[0m\u001b[1;33m,\u001b[0m \u001b[0max\u001b[0m \u001b[1;33m=\u001b[0m \u001b[0mplt\u001b[0m\u001b[1;33m.\u001b[0m\u001b[0msubplots\u001b[0m\u001b[1;33m(\u001b[0m\u001b[1;36m2\u001b[0m\u001b[1;33m,\u001b[0m \u001b[1;36m1\u001b[0m\u001b[1;33m,\u001b[0m \u001b[0mfigsize\u001b[0m\u001b[1;33m=\u001b[0m\u001b[1;33m(\u001b[0m\u001b[1;36m15\u001b[0m\u001b[1;33m,\u001b[0m \u001b[1;36m5\u001b[0m\u001b[1;33m)\u001b[0m\u001b[1;33m,\u001b[0m \u001b[0msharex\u001b[0m\u001b[1;33m=\u001b[0m\u001b[1;32mTrue\u001b[0m\u001b[1;33m,\u001b[0m \u001b[0msharey\u001b[0m\u001b[1;33m=\u001b[0m\u001b[1;32mTrue\u001b[0m\u001b[1;33m)\u001b[0m\u001b[1;33m\u001b[0m\u001b[1;33m\u001b[0m\u001b[0m\n\u001b[1;32m----> 7\u001b[1;33m \u001b[0mR\u001b[0m\u001b[1;33m.\u001b[0m\u001b[0mplot_voltage_detail\u001b[0m\u001b[1;33m(\u001b[0m\u001b[0max\u001b[0m\u001b[1;33m[\u001b[0m\u001b[1;36m0\u001b[0m\u001b[1;33m]\u001b[0m\u001b[1;33m,\u001b[0m \u001b[0munitType\u001b[0m\u001b[1;33m=\u001b[0m\u001b[1;34m'Exc'\u001b[0m\u001b[1;33m,\u001b[0m \u001b[0museStateInd\u001b[0m\u001b[1;33m=\u001b[0m\u001b[1;36m3\u001b[0m\u001b[1;33m)\u001b[0m\u001b[1;33m\u001b[0m\u001b[1;33m\u001b[0m\u001b[0m\n\u001b[0m\u001b[0;32m      8\u001b[0m \u001b[0mR\u001b[0m\u001b[1;33m.\u001b[0m\u001b[0mplot_voltage_detail\u001b[0m\u001b[1;33m(\u001b[0m\u001b[0max\u001b[0m\u001b[1;33m[\u001b[0m\u001b[1;36m1\u001b[0m\u001b[1;33m]\u001b[0m\u001b[1;33m,\u001b[0m \u001b[0munitType\u001b[0m\u001b[1;33m=\u001b[0m\u001b[1;34m'Exc'\u001b[0m\u001b[1;33m,\u001b[0m \u001b[0museStateInd\u001b[0m\u001b[1;33m=\u001b[0m\u001b[1;36m2\u001b[0m\u001b[1;33m,\u001b[0m \u001b[0moverrideColor\u001b[0m\u001b[1;33m=\u001b[0m\u001b[1;34m'royalblue'\u001b[0m\u001b[1;33m)\u001b[0m\u001b[1;33m\u001b[0m\u001b[1;33m\u001b[0m\u001b[0m\n\u001b[0;32m      9\u001b[0m \u001b[0mR\u001b[0m\u001b[1;33m.\u001b[0m\u001b[0mplot_updur_lines\u001b[0m\u001b[1;33m(\u001b[0m\u001b[0max\u001b[0m\u001b[1;33m[\u001b[0m\u001b[1;36m1\u001b[0m\u001b[1;33m]\u001b[0m\u001b[1;33m)\u001b[0m\u001b[1;33m\u001b[0m\u001b[1;33m\u001b[0m\u001b[0m\n",
      "\u001b[1;32m~\\PycharmProjects\\spiking-upstates\\results.py\u001b[0m in \u001b[0;36mplot_voltage_detail\u001b[1;34m(self, ax, unitType, useStateInd, yOffset, plotKicks, overrideColor, **kwargs)\u001b[0m\n\u001b[0;32m    651\u001b[0m         \u001b[1;31m# ax.axhline(useThresh, color=useColor, linestyle=':')  # Threshold\u001b[0m\u001b[1;33m\u001b[0m\u001b[1;33m\u001b[0m\u001b[1;33m\u001b[0m\u001b[0m\n\u001b[0;32m    652\u001b[0m         \u001b[1;31m# ax.axhline(self.p['eLeak' + unitType] / mV, color=useColor, linestyle='--')  # Resting\u001b[0m\u001b[1;33m\u001b[0m\u001b[1;33m\u001b[0m\u001b[1;33m\u001b[0m\u001b[0m\n\u001b[1;32m--> 653\u001b[1;33m         \u001b[0max\u001b[0m\u001b[1;33m.\u001b[0m\u001b[0mplot\u001b[0m\u001b[1;33m(\u001b[0m\u001b[0mstateMonT\u001b[0m\u001b[1;33m,\u001b[0m \u001b[0mvoltageSeries\u001b[0m \u001b[1;33m+\u001b[0m \u001b[0myOffset\u001b[0m\u001b[1;33m,\u001b[0m \u001b[0mcolor\u001b[0m\u001b[1;33m=\u001b[0m\u001b[0museColor\u001b[0m\u001b[1;33m,\u001b[0m \u001b[0mlw\u001b[0m\u001b[1;33m=\u001b[0m\u001b[0museLineWidth\u001b[0m\u001b[1;33m,\u001b[0m \u001b[1;33m**\u001b[0m\u001b[0mkwargs\u001b[0m\u001b[1;33m)\u001b[0m\u001b[1;33m\u001b[0m\u001b[1;33m\u001b[0m\u001b[0m\n\u001b[0m\u001b[0;32m    654\u001b[0m \u001b[1;33m\u001b[0m\u001b[0m\n\u001b[0;32m    655\u001b[0m         \u001b[1;32mif\u001b[0m \u001b[0mplotKicks\u001b[0m \u001b[1;32mand\u001b[0m \u001b[1;34m'kickTimes'\u001b[0m \u001b[1;32min\u001b[0m \u001b[0mself\u001b[0m\u001b[1;33m.\u001b[0m\u001b[0mp\u001b[0m\u001b[1;33m:\u001b[0m\u001b[1;33m\u001b[0m\u001b[1;33m\u001b[0m\u001b[0m\n",
      "\u001b[1;32m~\\anaconda3\\lib\\site-packages\\matplotlib\\axes\\_axes.py\u001b[0m in \u001b[0;36mplot\u001b[1;34m(self, scalex, scaley, data, *args, **kwargs)\u001b[0m\n\u001b[0;32m   1603\u001b[0m         \"\"\"\n\u001b[0;32m   1604\u001b[0m         \u001b[0mkwargs\u001b[0m \u001b[1;33m=\u001b[0m \u001b[0mcbook\u001b[0m\u001b[1;33m.\u001b[0m\u001b[0mnormalize_kwargs\u001b[0m\u001b[1;33m(\u001b[0m\u001b[0mkwargs\u001b[0m\u001b[1;33m,\u001b[0m \u001b[0mmlines\u001b[0m\u001b[1;33m.\u001b[0m\u001b[0mLine2D\u001b[0m\u001b[1;33m)\u001b[0m\u001b[1;33m\u001b[0m\u001b[1;33m\u001b[0m\u001b[0m\n\u001b[1;32m-> 1605\u001b[1;33m         \u001b[0mlines\u001b[0m \u001b[1;33m=\u001b[0m \u001b[1;33m[\u001b[0m\u001b[1;33m*\u001b[0m\u001b[0mself\u001b[0m\u001b[1;33m.\u001b[0m\u001b[0m_get_lines\u001b[0m\u001b[1;33m(\u001b[0m\u001b[1;33m*\u001b[0m\u001b[0margs\u001b[0m\u001b[1;33m,\u001b[0m \u001b[0mdata\u001b[0m\u001b[1;33m=\u001b[0m\u001b[0mdata\u001b[0m\u001b[1;33m,\u001b[0m \u001b[1;33m**\u001b[0m\u001b[0mkwargs\u001b[0m\u001b[1;33m)\u001b[0m\u001b[1;33m]\u001b[0m\u001b[1;33m\u001b[0m\u001b[1;33m\u001b[0m\u001b[0m\n\u001b[0m\u001b[0;32m   1606\u001b[0m         \u001b[1;32mfor\u001b[0m \u001b[0mline\u001b[0m \u001b[1;32min\u001b[0m \u001b[0mlines\u001b[0m\u001b[1;33m:\u001b[0m\u001b[1;33m\u001b[0m\u001b[1;33m\u001b[0m\u001b[0m\n\u001b[0;32m   1607\u001b[0m             \u001b[0mself\u001b[0m\u001b[1;33m.\u001b[0m\u001b[0madd_line\u001b[0m\u001b[1;33m(\u001b[0m\u001b[0mline\u001b[0m\u001b[1;33m)\u001b[0m\u001b[1;33m\u001b[0m\u001b[1;33m\u001b[0m\u001b[0m\n",
      "\u001b[1;32m~\\anaconda3\\lib\\site-packages\\matplotlib\\axes\\_base.py\u001b[0m in \u001b[0;36m__call__\u001b[1;34m(self, data, *args, **kwargs)\u001b[0m\n\u001b[0;32m    313\u001b[0m                 \u001b[0mthis\u001b[0m \u001b[1;33m+=\u001b[0m \u001b[0margs\u001b[0m\u001b[1;33m[\u001b[0m\u001b[1;36m0\u001b[0m\u001b[1;33m]\u001b[0m\u001b[1;33m,\u001b[0m\u001b[1;33m\u001b[0m\u001b[1;33m\u001b[0m\u001b[0m\n\u001b[0;32m    314\u001b[0m                 \u001b[0margs\u001b[0m \u001b[1;33m=\u001b[0m \u001b[0margs\u001b[0m\u001b[1;33m[\u001b[0m\u001b[1;36m1\u001b[0m\u001b[1;33m:\u001b[0m\u001b[1;33m]\u001b[0m\u001b[1;33m\u001b[0m\u001b[1;33m\u001b[0m\u001b[0m\n\u001b[1;32m--> 315\u001b[1;33m             \u001b[1;32myield\u001b[0m \u001b[1;32mfrom\u001b[0m \u001b[0mself\u001b[0m\u001b[1;33m.\u001b[0m\u001b[0m_plot_args\u001b[0m\u001b[1;33m(\u001b[0m\u001b[0mthis\u001b[0m\u001b[1;33m,\u001b[0m \u001b[0mkwargs\u001b[0m\u001b[1;33m)\u001b[0m\u001b[1;33m\u001b[0m\u001b[1;33m\u001b[0m\u001b[0m\n\u001b[0m\u001b[0;32m    316\u001b[0m \u001b[1;33m\u001b[0m\u001b[0m\n\u001b[0;32m    317\u001b[0m     \u001b[1;32mdef\u001b[0m \u001b[0mget_next_color\u001b[0m\u001b[1;33m(\u001b[0m\u001b[0mself\u001b[0m\u001b[1;33m)\u001b[0m\u001b[1;33m:\u001b[0m\u001b[1;33m\u001b[0m\u001b[1;33m\u001b[0m\u001b[0m\n",
      "\u001b[1;32m~\\anaconda3\\lib\\site-packages\\matplotlib\\axes\\_base.py\u001b[0m in \u001b[0;36m_plot_args\u001b[1;34m(self, tup, kwargs, return_kwargs)\u001b[0m\n\u001b[0;32m    499\u001b[0m \u001b[1;33m\u001b[0m\u001b[0m\n\u001b[0;32m    500\u001b[0m         \u001b[1;32mif\u001b[0m \u001b[0mx\u001b[0m\u001b[1;33m.\u001b[0m\u001b[0mshape\u001b[0m\u001b[1;33m[\u001b[0m\u001b[1;36m0\u001b[0m\u001b[1;33m]\u001b[0m \u001b[1;33m!=\u001b[0m \u001b[0my\u001b[0m\u001b[1;33m.\u001b[0m\u001b[0mshape\u001b[0m\u001b[1;33m[\u001b[0m\u001b[1;36m0\u001b[0m\u001b[1;33m]\u001b[0m\u001b[1;33m:\u001b[0m\u001b[1;33m\u001b[0m\u001b[1;33m\u001b[0m\u001b[0m\n\u001b[1;32m--> 501\u001b[1;33m             raise ValueError(f\"x and y must have same first dimension, but \"\n\u001b[0m\u001b[0;32m    502\u001b[0m                              f\"have shapes {x.shape} and {y.shape}\")\n\u001b[0;32m    503\u001b[0m         \u001b[1;32mif\u001b[0m \u001b[0mx\u001b[0m\u001b[1;33m.\u001b[0m\u001b[0mndim\u001b[0m \u001b[1;33m>\u001b[0m \u001b[1;36m2\u001b[0m \u001b[1;32mor\u001b[0m \u001b[0my\u001b[0m\u001b[1;33m.\u001b[0m\u001b[0mndim\u001b[0m \u001b[1;33m>\u001b[0m \u001b[1;36m2\u001b[0m\u001b[1;33m:\u001b[0m\u001b[1;33m\u001b[0m\u001b[1;33m\u001b[0m\u001b[0m\n",
      "\u001b[1;31mValueError\u001b[0m: x and y must have same first dimension, but have shapes (20000,) and (200000,)"
     ]
    }
   ],
   "source": [
    "# voltage plot\n",
    "timePeriod = (0, 60)\n",
    "# timePeriod = (52, 60)\n",
    "# timePeriod = (48, 56)\n",
    "\n",
    "f, ax = plt.subplots(2, 1, figsize=(15, 5), sharex=True, sharey=True)\n",
    "R.plot_voltage_detail(ax[0], unitType='Exc', useStateInd=3)\n",
    "R.plot_voltage_detail(ax[1], unitType='Exc', useStateInd=2, overrideColor='royalblue')\n",
    "R.plot_updur_lines(ax[1])\n",
    "ax[1].set(xlim=timePeriod, xlabel='Time (s)')\n",
    "f.suptitle(useTitle)"
   ]
  },
  {
   "cell_type": "code",
   "execution_count": 49,
   "metadata": {},
   "outputs": [
    {
     "name": "stdout",
     "output_type": "stream",
     "text": [
      "4.445479741141243 2.567834575166506 4.414310951279735 10.23758963521136\n",
      "0.5157087171166281 0.5128456755071986 0.5128456755071986 1.3676525253485545\n"
     ]
    }
   ],
   "source": [
    "# violin plot\n",
    "\n",
    "frInp = R.upstateFRExcUnits[:, :R.p['nUnitsToSpike']].mean(0)  # input pop\n",
    "frEx2 = R.upstateFRExcUnits[:, R.p['nUnitsToSpike']:(R.p['nUnitsToSpike'] + R.p['nUnitsSecondPopExc'])].mean(0)  # secondary pop\n",
    "frEx1 = R.upstateFRExcUnits[:, (R.p['nUnitsToSpike'] + R.p['nUnitsSecondPopExc']):].mean(0)  # normal pop\n",
    "frInh = R.upstateFRInhUnits.mean(0)\n",
    "\n",
    "frInpHat = frInp.mean()\n",
    "frEx2Hat = frEx2.mean()\n",
    "frEx1Hat = frEx1.mean()\n",
    "frInhHat = frInh.mean()\n",
    "\n",
    "frInpSTD = frInp.std()\n",
    "frEx2STD = frEx1.std()\n",
    "frEx1STD = frEx1.std()\n",
    "frInhSTD = frInh.std()\n",
    "\n",
    "print(frInpHat, frEx2Hat, frEx1Hat, frInhHat, )\n",
    "print(frInpSTD, frEx2STD, frEx1STD, frInhSTD, )\n",
    "\n",
    "frInpDF = pd.DataFrame(frInp, columns=('FR',))\n",
    "frEx2DF = pd.DataFrame(frEx2, columns=('FR',))\n",
    "frEx1DF = pd.DataFrame(frEx1, columns=('FR',))\n",
    "frInhDF = pd.DataFrame(frInh, columns=('FR',))\n",
    "\n",
    "frInpDF['unitType'] = 'Inp'\n",
    "frEx2DF['unitType'] = 'Ex2'\n",
    "frEx1DF['unitType'] = 'Ex1'\n",
    "frInhDF['unitType'] = 'Inh'\n",
    "\n",
    "frDF = pd.concat((frInpDF, frEx2DF, frEx1DF, frInhDF, ))\n",
    "\n",
    "frEx1C = R.upstateFRExcUnits[:, (R.p['nUnitsToSpike'] + R.p['nUnitsSecondPopExc']):].mean(0)  # normal pop\n",
    "frEx1CHat = frEx1C.mean()\n",
    "frEx1CSTD = frEx1C.std()\n",
    "frEx1CDF = pd.DataFrame(frEx1C, columns=('FR',))\n",
    "frEx1CDF['unitType'] = 'Ex1C'\n",
    "\n",
    "frDF = pd.concat((frInpDF, frEx2DF, frEx1DF, frInhDF, frEx1CDF))\n",
    "\n",
    "colors = [\"#00FFFF\", \"#4E69B2\"]\n",
    "customPalette = sns.set_palette(sns.color_palette(colors))\n",
    "\n",
    "f, ax = plt.subplots(figsize=(3.25, 4))\n",
    "# sns.violinplot(x='unitType', y='FR', data=frDF, width=.6, palette=customPalette, order=('Ex1C', 'Ex1', 'Ex2'))\n",
    "sns.violinplot(x='unitType', y='FR', data=frDF, width=.6, palette=customPalette, order=('Ex1', 'Ex2'))\n",
    "# sns.stripplot(x=\"unitType\", y=\"FR\", data=frDF, size=4, color=\".3\", linewidth=0)\n",
    "ax.set_title(useTitle)\n",
    "f.savefig('benEphys3Violin.pdf', transparent=True)"
   ]
  },
  {
   "cell_type": "code",
   "execution_count": 11,
   "metadata": {},
   "outputs": [],
   "source": [
    "from scipy.stats import ttest_ind"
   ]
  },
  {
   "cell_type": "code",
   "execution_count": 50,
   "metadata": {},
   "outputs": [],
   "source": [
    "frDF2 = frDF.copy()\n",
    "frDF2.loc[frDF2['unitType'] == 'Inp', 'unitType'] = 'Ex1'"
   ]
  },
  {
   "cell_type": "code",
   "execution_count": 51,
   "metadata": {},
   "outputs": [],
   "source": [
    "frDF2 = frDF2.loc[(frDF2['unitType'] == 'Ex1') | (frDF2['unitType'] == 'Ex2'), :]"
   ]
  },
  {
   "cell_type": "code",
   "execution_count": 53,
   "metadata": {},
   "outputs": [],
   "source": [
    "frDF2.to_csv('ben_ephys_expt2.csv')"
   ]
  },
  {
   "cell_type": "code",
   "execution_count": 37,
   "metadata": {},
   "outputs": [
    {
     "data": {
      "text/plain": [
       "(1600, 2)"
      ]
     },
     "execution_count": 37,
     "metadata": {},
     "output_type": "execute_result"
    }
   ],
   "source": [
    "frDF2.shape"
   ]
  },
  {
   "cell_type": "code",
   "execution_count": 35,
   "metadata": {
    "scrolled": true
   },
   "outputs": [
    {
     "data": {
      "text/plain": [
       "<AxesSubplot:xlabel='unitType', ylabel='FR'>"
      ]
     },
     "execution_count": 35,
     "metadata": {},
     "output_type": "execute_result"
    }
   ],
   "source": [
    "sns.swarmplot(x='unitType', y='FR', size=1.5, color='k', data=frDF, order=('Ex1', 'Ex2'))"
   ]
  },
  {
   "cell_type": "code",
   "execution_count": 36,
   "metadata": {
    "scrolled": true
   },
   "outputs": [
    {
     "data": {
      "text/plain": [
       "<AxesSubplot:xlabel='unitType', ylabel='FR'>"
      ]
     },
     "execution_count": 36,
     "metadata": {},
     "output_type": "execute_result"
    }
   ],
   "source": [
    "f, ax = plt.subplots()\n",
    "sns.boxplot(x='unitType', y='FR', data=frDF, width=.6, order=('Ex1', 'Ex2'), palette=customPalette)\n",
    "# sns.stripplot(x=\"unitType\", y=\"FR\", data=frDF, size=4, color=\".3\", linewidth=0)"
   ]
  },
  {
   "cell_type": "code",
   "execution_count": 37,
   "metadata": {
    "scrolled": true
   },
   "outputs": [
    {
     "data": {
      "text/plain": [
       "<AxesSubplot:xlabel='unitType', ylabel='FR'>"
      ]
     },
     "execution_count": 37,
     "metadata": {},
     "output_type": "execute_result"
    }
   ],
   "source": [
    "sns.stripplot(x='unitType', y='FR', size=1.5, color='k', data=frDF, order=('Ex1', 'Ex2'))"
   ]
  },
  {
   "cell_type": "code",
   "execution_count": null,
   "metadata": {},
   "outputs": [],
   "source": []
  },
  {
   "cell_type": "code",
   "execution_count": 2,
   "metadata": {},
   "outputs": [],
   "source": []
  },
  {
   "cell_type": "code",
   "execution_count": 172,
   "metadata": {},
   "outputs": [],
   "source": [
    "# 1-2 vs 2-3\n",
    "# paradoxControlFrDF = pd.read_csv('C:/Users/mikejseay/PycharmProjects/spiking-upstates/paradox_control_results1.csv').set_index('trialIndex')\n",
    "# paradoxExperimentFrDF = pd.read_csv('C:/Users/mikejseay/PycharmProjects/spiking-upstates/paradox_experiment_results1.csv').set_index('trialIndex')\n",
    "\n",
    "# 2-3 vs 3-4\n",
    "# paradoxControlFrDF = pd.read_csv('C:/Users/mikejseay/PycharmProjects/spiking-upstates/control_results2.csv').set_index('trialIndex')\n",
    "# paradoxExperimentFrDF = pd.read_csv('C:/Users/mikejseay/PycharmProjects/spiking-upstates/experiment_results2.csv').set_index('trialIndex')\n",
    "\n",
    "# 3-4 vs 4-5\n",
    "# paradoxControlFrDF = pd.read_csv('C:/Users/mikejseay/PycharmProjects/spiking-upstates/control_4s_results.csv').set_index('trialIndex')\n",
    "# paradoxExperimentFrDF = pd.read_csv('C:/Users/mikejseay/PycharmProjects/spiking-upstates/experimental_4s_results.csv').set_index('trialIndex')\n",
    "# paradoxControlFrDF = paradoxControlFrDF.replace('3-4 s', '4-5 s').replace('2-3 s', '3-4 s')\n",
    "# paradoxExperimentFrDF = paradoxExperimentFrDF.replace('3-4 s', '4-5 s').replace('2-3 s', '3-4 s')\n",
    "\n",
    "# comparison = 2-3, experiment = 3-4\n",
    "FrDF = pd.read_csv('C:/Users/mikejseay/PycharmProjects/spiking-upstates/multiMeta1_results.csv').set_index('trialIndex')"
   ]
  },
  {
   "cell_type": "code",
   "execution_count": 173,
   "metadata": {},
   "outputs": [],
   "source": [
    "paradoxControlFrDF = FrDF[FrDF['currentAmplitude'] == '0. A']\n",
    "paradoxExperimentFrDF = FrDF[FrDF['currentAmplitude'] == '6. pA']"
   ]
  },
  {
   "cell_type": "code",
   "execution_count": 174,
   "metadata": {},
   "outputs": [],
   "source": [
    "# paradoxControlFrDF['Current Amplitude (nA)'] = '0 pA'\n",
    "# paradoxExperimentFrDF['Current Amplitude (nA)'] = '8 pA'"
   ]
  },
  {
   "cell_type": "code",
   "execution_count": 175,
   "metadata": {},
   "outputs": [
    {
     "name": "stdout",
     "output_type": "stream",
     "text": [
      "{3, 5, 7}\n"
     ]
    }
   ],
   "source": [
    "outlyingIndicesControl = outlying(paradoxControlFrDF['FR'][:30], sd_thresh=2.5)\n",
    "outlyingIndicesExperiment = outlying(paradoxExperimentFrDF['FR'][:30], sd_thresh=2.5)\n",
    "\n",
    "outlyingIndices = set(np.concatenate((np.where(outlyingIndicesControl)[0], np.where(outlyingIndicesExperiment)[0])))\n",
    "\n",
    "print(outlyingIndices)\n",
    "\n",
    "paradoxControlFrDF2 = paradoxControlFrDF.drop(outlyingIndices)\n",
    "paradoxExperimentFrDF2 = paradoxExperimentFrDF.drop(outlyingIndices)\n",
    "\n",
    "paradoxDF = pd.concat((paradoxControlFrDF2, paradoxExperimentFrDF2))\n",
    "\n",
    "paradoxDFEx = paradoxDF[paradoxDF['unitType'] == 'Ex']\n",
    "paradoxDFInh = paradoxDF[paradoxDF['unitType'] == 'Inh']"
   ]
  },
  {
   "cell_type": "code",
   "execution_count": 176,
   "metadata": {},
   "outputs": [
    {
     "name": "stdout",
     "output_type": "stream",
     "text": [
      "{3, 5, 7}\n"
     ]
    }
   ],
   "source": [
    "print(outlyingIndices)"
   ]
  },
  {
   "cell_type": "code",
   "execution_count": 180,
   "metadata": {},
   "outputs": [],
   "source": [
    "paradoxControlFrDF2 = paradoxControlFrDF.drop(outlyingIndices)\n",
    "paradoxExperimentFrDF2 = paradoxExperimentFrDF.drop(outlyingIndices)\n",
    "\n",
    "paradoxDF = pd.concat((paradoxControlFrDF2, paradoxExperimentFrDF2))\n",
    "\n",
    "paradoxDFEx = paradoxDF[paradoxDF['unitType'] == 'Ex']\n",
    "paradoxDFInh = paradoxDF[paradoxDF['unitType'] == 'Inh']"
   ]
  },
  {
   "cell_type": "code",
   "execution_count": 220,
   "metadata": {},
   "outputs": [],
   "source": [
    "# colors = [\"#00FFFF\", \"#4E69B2\"]\n",
    "# customPalette = sns.set_palette(sns.color_palette(colors))\n",
    "\n",
    "useDF = paradoxDFInh\n",
    "# level1 = 'currentAmplitude'\n",
    "# level2 = 'timePeriod'\n",
    "# level2order = ('2-3 s', '3-4 s')\n",
    "level1 = 'timePeriod'\n",
    "level2 = 'currentAmplitude'\n",
    "level2order = useDF[level2].unique()\n",
    "dvName = 'FR'\n",
    "xValues = ([-0.25, 0.25], [0.75, 1.25])\n",
    "\n",
    "# Draw a nested barplot by species and sex\n",
    "g = sns.catplot(\n",
    "#     data=paradoxDFEx,\n",
    "    data=useDF,\n",
    "    kind=\"box\",\n",
    "    x=level1, y=dvName, hue=level2,\n",
    "    hue_order=level2order,\n",
    "    # col='unitType', palette=customPalette,\n",
    ")\n",
    "g.despine(left=True)\n",
    "g.set_axis_labels('Current Amplitude (pA)', \"Firing Rate (Hz)\")\n",
    "g.fig.subplots_adjust(top=0.85)\n",
    "g.fig.suptitle('Firing Rate during Up state prior to (2-3 s)\\n and during (3-4 s) current injection')\n",
    "g.legend.set_title(level2)\n",
    "yMin, yMax = g.ax.get_ylim()\n",
    "g.set(ylim=(np.floor(yMax / 2), yMax))\n",
    "\n",
    "# try to superimpose the lines\n",
    "# reshape the data\n",
    "\n",
    "for level1Ind, level1Value in enumerate(useDF[level1].unique()):\n",
    "    statsDF = useDF[useDF[level1] == level1Value]\n",
    "    statsDF1 = statsDF[statsDF[level2] == level2order[0]]\n",
    "    statsDF2 = statsDF[statsDF[level2] == level2order[1]]\n",
    "    t, p = ttest_rel(statsDF1[dvName].values, statsDF2[dvName].values)\n",
    "    statsText = 't = {:.2f}, -log10(p) = {:.2f}'.format(t, -np.log10(p))\n",
    "    g.ax.text(level1Ind - 0.4, yMin + 1 - 2 * level1Ind, statsText)\n",
    "    seriesLst = []\n",
    "    for level2Value in level2order:\n",
    "        boolSelection = (useDF[level1] == level1Value) & (useDF[level2] == level2Value)\n",
    "        seriesLst.append(useDF[dvName][boolSelection].values.reshape(-1, 1))\n",
    "    pairedArray = np.concatenate(seriesLst, 1)\n",
    "    g.ax.plot(np.array(xValues[level1Ind]).reshape(-1, 1), pairedArray.T, color='k', lw=0.4, alpha=0.4)"
   ]
  },
  {
   "cell_type": "code",
   "execution_count": null,
   "metadata": {},
   "outputs": [],
   "source": []
  },
  {
   "cell_type": "code",
   "execution_count": null,
   "metadata": {},
   "outputs": [],
   "source": []
  },
  {
   "cell_type": "code",
   "execution_count": 135,
   "metadata": {},
   "outputs": [],
   "source": [
    "colors = [\"#00FFFF\", \"#4E69B2\"]\n",
    "customPalette = sns.set_palette(sns.color_palette(colors))\n",
    "\n",
    "# Draw a nested barplot by species and sex\n",
    "g = sns.catplot(\n",
    "    data=paradoxDFInh, kind=\"violin\",\n",
    "    x=\"timePeriod\", y=\"FR\", hue=\"Current Amplitude (nA)\", # col='unitType',\n",
    "    palette=customPalette\n",
    ")\n",
    "g.despine(left=True)\n",
    "g.set_axis_labels(\"Time Period\", \"Firing Rate (Hz)\")\n",
    "g.fig.subplots_adjust(top=0.85)\n",
    "g.fig.suptitle('Firing Rate during Up state when Inh units receive current\\ninjection (1-2 s) and afterward in its absence (2-3 s)')\n",
    "g.legend.set_title(\"\")"
   ]
  },
  {
   "cell_type": "code",
   "execution_count": null,
   "metadata": {},
   "outputs": [],
   "source": []
  },
  {
   "cell_type": "code",
   "execution_count": 36,
   "metadata": {},
   "outputs": [],
   "source": [
    "plt.close('all')"
   ]
  },
  {
   "cell_type": "markdown",
   "metadata": {},
   "source": [
    "### PSTH analysis of paradoxical effect"
   ]
  },
  {
   "cell_type": "code",
   "execution_count": 17,
   "metadata": {},
   "outputs": [],
   "source": [
    "fontProp = fm.FontProperties(fname='C:\\\\Users\\\\mikejseay\\\\anaconda3\\\\Lib\\\\site-packages\\\\matplotlib\\\\mpl-data\\\\fonts\\\\otf\\\\MYRIADPRO-REGULAR.otf')\n",
    "fontProp.set_size(18)"
   ]
  },
  {
   "cell_type": "code",
   "execution_count": 18,
   "metadata": {},
   "outputs": [],
   "source": [
    "import matplotlib\n",
    "matplotlib.rcParams.update({'font.size': 14})"
   ]
  },
  {
   "cell_type": "code",
   "execution_count": 19,
   "metadata": {},
   "outputs": [],
   "source": [
    "class Results(object): pass"
   ]
  },
  {
   "cell_type": "code",
   "execution_count": 20,
   "metadata": {},
   "outputs": [
    {
     "name": "stdout",
     "output_type": "stream",
     "text": [
      "[ 0.  4.  8. 12. 16. 20. 24. 28. 32.]\n"
     ]
    }
   ],
   "source": [
    "loadPath = 'C:/Users/mikejseay/PycharmProjects/spiking-upstates/results/multiMeta1L_PSTH.npz'  # up state regime\n",
    "# loadPath = 'C:/Users/mikejseay/PycharmProjects/spiking-upstates/results/multiMetaHyp1_PSTH.npz'  # up state regime - high currents\n",
    "# loadPath = 'C:/Users/mikejseay/PycharmProjects/spiking-upstates/results/multiMetaHigh1_PSTH.npz'  # up state regime - hyperpolarize I units\n",
    "# loadPath = 'C:/Users/mikejseay/PycharmProjects/spiking-upstates/results/multiMetaDestexheAI3_PSTH.npz'  # AI regime - Destexhe\n",
    "# loadPath = 'C:/Users/mikejseay/PycharmProjects/spiking-upstates/results/multiMetaAI4_PSTH.npz'  # AI regime - Jercog\n",
    "# loadPath = 'C:/Users/mikejseay/PycharmProjects/spiking-upstates/results/multiMetaUpWeightsPoissonInput1_PSTH.npz'  # AI protocol, up state weights\n",
    "\n",
    "\n",
    "npzObject = np.load(loadPath, allow_pickle=True)\n",
    "R = Results()\n",
    "for savedObjectName in npzObject.files:\n",
    "    setattr(R, savedObjectName, npzObject[savedObjectName])\n",
    "\n",
    "print(R.currentValues * 1e12)"
   ]
  },
  {
   "cell_type": "code",
   "execution_count": 21,
   "metadata": {},
   "outputs": [],
   "source": [
    "timeVector = np.arange(0, 5.1, 0.01)[:-1]\n",
    "histCenters = timeVector + (timeVector[1] - timeVector[0]) / 2\n",
    "\n",
    "# check for outliers in the FR\n",
    "# cut off is 2 Hz for Exc and 6 Hz for Inh\n",
    "\n",
    "REMOVE_OUTLIERS = False\n",
    "PLOT_FAILURES = False\n",
    "\n",
    "paraStartTime = 3\n",
    "paraEndTime = 4\n",
    "paraStartInd = np.argmin(np.abs(histCenters - paraStartTime))\n",
    "paraEndInd = np.argmin(np.abs(histCenters - paraEndTime))\n",
    "\n",
    "paraPeriodTrialMeansExc = R.PSTHExc[:, :, paraStartInd:paraEndInd].mean(2)\n",
    "paraPeriodTrialMeansInh = R.PSTHInh[:, :, paraStartInd:paraEndInd].mean(2)\n",
    "\n",
    "paraPeriodTrialMeansExcNoFailures = paraPeriodTrialMeansExc.copy()\n",
    "paraPeriodTrialMeansInhNoFailures = paraPeriodTrialMeansInh.copy()\n",
    "\n",
    "if REMOVE_OUTLIERS:\n",
    "    paraPeriodTrialMeansExcNoFailures[paraPeriodTrialMeansExc < 2] = np.nan\n",
    "    paraPeriodTrialMeansInhNoFailures[paraPeriodTrialMeansInh < 6] = np.nan\n",
    "\n",
    "# paraPeriodMeansExc = R.PSTHExc[:, :, paraStartInd:paraEndInd].mean((1, 2))\n",
    "# paraPeriodMeansInh = R.PSTHInh[:, :, paraStartInd:paraEndInd].mean((1, 2))\n",
    "\n",
    "paraPeriodMeansExc = np.nanmean(paraPeriodTrialMeansExcNoFailures, 1)\n",
    "paraPeriodMeansInh = np.nanmean(paraPeriodTrialMeansInhNoFailures, 1)\n",
    "paraPeriodSTDsExc = np.nanstd(paraPeriodTrialMeansExcNoFailures, 1)\n",
    "paraPeriodSTDsInh = np.nanstd(paraPeriodTrialMeansInhNoFailures, 1)"
   ]
  },
  {
   "cell_type": "code",
   "execution_count": 32,
   "metadata": {},
   "outputs": [
    {
     "data": {
      "text/plain": [
       "(9, 30)"
      ]
     },
     "execution_count": 32,
     "metadata": {},
     "output_type": "execute_result"
    }
   ],
   "source": [
    "paraPeriodTrialMeansExc.shape"
   ]
  },
  {
   "cell_type": "code",
   "execution_count": 31,
   "metadata": {},
   "outputs": [
    {
     "data": {
      "text/plain": [
       "(9, 30)"
      ]
     },
     "execution_count": 31,
     "metadata": {},
     "output_type": "execute_result"
    }
   ],
   "source": [
    "paraPeriodTrialMeansExcNoFailures.shape"
   ]
  },
  {
   "cell_type": "code",
   "execution_count": 22,
   "metadata": {},
   "outputs": [],
   "source": [
    "# FR in the stim period as a function of current with outliers removed\n",
    "\n",
    "fontProp.set_size(20)\n",
    "removeFrame = True\n",
    "doSave = True\n",
    "\n",
    "f, ax = plt.subplots(1, 2, sharey=True, figsize=(9, 4))\n",
    "\n",
    "ax[0].plot(R.currentValues * 1e12, paraPeriodMeansExc, color='green')\n",
    "ax[1].plot(R.currentValues * 1e12, paraPeriodMeansInh, color='red')\n",
    "\n",
    "ax[0].fill_between(R.currentValues * 1e12, paraPeriodMeansExc - paraPeriodSTDsExc, paraPeriodMeansExc + paraPeriodSTDsExc,\n",
    "               alpha=0.5, color='green')\n",
    "ax[1].fill_between(R.currentValues * 1e12, paraPeriodMeansInh - paraPeriodSTDsInh, paraPeriodMeansInh + paraPeriodSTDsInh,\n",
    "               alpha=0.5, color='red')\n",
    "\n",
    "ax[0].set_xlabel('Current Applied (pA)', fontproperties=fontProp)\n",
    "ax[0].set_ylabel('FR from 3-4 s (Hz)', fontproperties=fontProp)\n",
    "ax[1].set_xlabel('Current Applied (pA)', fontproperties=fontProp)\n",
    "\n",
    "f.subplots_adjust(left=0.1, bottom=0.15, right=0.95, top=0.95)\n",
    "\n",
    "if removeFrame:\n",
    "    for axr in ax:\n",
    "        axr.spines['top'].set_visible(False)\n",
    "        axr.spines['right'].set_visible(False)\n",
    "\n",
    "if doSave:\n",
    "    saveFileName = 'figs/paradoxAvgFR.pdf'\n",
    "    f.savefig(saveFileName, transparent=True)"
   ]
  },
  {
   "cell_type": "code",
   "execution_count": 23,
   "metadata": {},
   "outputs": [],
   "source": [
    "# number of failures per thing\n",
    "outlierPSTHExc = paraPeriodTrialMeansExc < 2\n",
    "outlierPSTHInh = paraPeriodTrialMeansInh < 6\n",
    "\n",
    "if PLOT_FAILURES:\n",
    "    f, ax = plt.subplots()\n",
    "    ax.plot(R.currentValues * 1e12, outlierPSTHExc.sum(1) / 30, color='cyan')\n",
    "    ax.plot(R.currentValues * 1e12, outlierPSTHInh.sum(1) / 30, color='red')\n",
    "    ax.set(xlabel='Current Applied (pA)', ylabel='Proportion of up states ended')\n",
    "\n",
    "PSTHExcOutNan = R.PSTHExc.copy()\n",
    "PSTHExcOutNan[outlierPSTHExc, :] = np.nan\n",
    "\n",
    "PSTHInhOutNan = R.PSTHInh.copy()\n",
    "PSTHInhOutNan[outlierPSTHInh, :] = np.nan"
   ]
  },
  {
   "cell_type": "code",
   "execution_count": 25,
   "metadata": {},
   "outputs": [],
   "source": [
    "# average PSTH, no outliers removed\n",
    "\n",
    "fontProp.set_size(18)\n",
    "removeFrame = True\n",
    "doSave = True\n",
    "spaceCurrentValues = 2\n",
    "movAvgWidth = 3\n",
    "movAvgAdj = int(movAvgWidth / 2)\n",
    "\n",
    "f, ax = plt.subplots(1, 2, sharex=True, figsize=(10.5, 4.5))\n",
    "\n",
    "nCurrentValues = len(R.currentValues)\n",
    "redColors = plt.cm.Reds(np.linspace(0, 1, nCurrentValues + 3))\n",
    "blueColors = plt.cm.Blues(np.linspace(0, 1, nCurrentValues + 3))\n",
    "\n",
    "useCurrentValues = range(0, 9, spaceCurrentValues)\n",
    "\n",
    "for currentValueInd in useCurrentValues:\n",
    "    currentValue = R.currentValues[currentValueInd]\n",
    "    useLabel = str(int(currentValue * 1e12)) + ' pA'\n",
    "    xVals = timeVector\n",
    "    yValsExc = R.PSTHExc.mean(1)[currentValueInd, :]\n",
    "    yValsInh = R.PSTHInh.mean(1)[currentValueInd, :]\n",
    "#     xVals = timeVector[movAvgAdj:-movAvgAdj]\n",
    "#     yValsExc = moving_average(R.PSTHExc.mean(1)[currentValueInd, :], movAvgWidth)\n",
    "#     yValsInh = moving_average(R.PSTHInh.mean(1)[currentValueInd, :], movAvgWidth)\n",
    "    ax[0].plot(xVals, yValsExc, label=useLabel, color=blueColors[currentValueInd + 3])\n",
    "    ax[1].plot(xVals, yValsInh, label=useLabel, color=redColors[currentValueInd + 3])\n",
    "\n",
    "ax[0].legend(loc='upper right', frameon=False, prop=fontProp)\n",
    "ax[1].legend(loc='upper right', frameon=False, prop=fontProp)\n",
    "\n",
    "# ax[0].set(xlabel='Time (s)', ylabel='E FR (Hz)', ylim=(0, 9))\n",
    "# ax[1].set(xlabel='Time (s)', ylabel='I FR (Hz)', ylim=(0, 24))\n",
    "\n",
    "ax[0].set_xlabel('Time (s)', fontproperties=fontProp)\n",
    "ax[0].set_ylabel('E FR (Hz)', fontproperties=fontProp)\n",
    "ax[0].set_ylim(0, 17)\n",
    "\n",
    "ax[1].set_xlabel('Time (s)', fontproperties=fontProp)\n",
    "ax[1].set_ylabel('I FR (Hz)', fontproperties=fontProp)\n",
    "ax[1].set_ylim(0, 35)\n",
    "\n",
    "for axr in ax:  # christ\n",
    "    for xtl in axr.get_xticklabels():\n",
    "        xtl.set_fontproperties(fontProp)\n",
    "    for ytl in axr.get_yticklabels():\n",
    "        ytl.set_fontproperties(fontProp)\n",
    "\n",
    "if removeFrame:\n",
    "    for axr in ax:\n",
    "        axr.spines['top'].set_visible(False)\n",
    "        axr.spines['right'].set_visible(False)\n",
    "        \n",
    "f.subplots_adjust(left=0.1, bottom=0.15, right=0.95, top=0.95)\n",
    "# ax[0].vlines(3, *ax[0].get_ylim(), color='k', ls='--', lw=1)\n",
    "# ax[1].vlines(3, *ax[1].get_ylim(), color='k', ls='--', lw=1)\n",
    "if doSave:\n",
    "    saveFileName = 'figs/paradoxPSTHs.pdf'\n",
    "    f.savefig(saveFileName, transparent=True)"
   ]
  },
  {
   "cell_type": "code",
   "execution_count": null,
   "metadata": {},
   "outputs": [],
   "source": []
  },
  {
   "cell_type": "code",
   "execution_count": null,
   "metadata": {},
   "outputs": [],
   "source": []
  },
  {
   "cell_type": "code",
   "execution_count": 26,
   "metadata": {
    "collapsed": true
   },
   "outputs": [
    {
     "name": "stderr",
     "output_type": "stream",
     "text": [
      "WARNING    C:\\Users\\mikejseay\\anaconda3\\lib\\site-packages\\ipykernel_launcher.py:11: RuntimeWarning: Mean of empty slice\n",
      "  # This is added back by InteractiveShellApp.init_path()\n",
      " [py.warnings]\n",
      "WARNING    C:\\Users\\mikejseay\\anaconda3\\lib\\site-packages\\ipykernel_launcher.py:12: RuntimeWarning: Mean of empty slice\n",
      "  if sys.path[0] == '':\n",
      " [py.warnings]\n",
      "WARNING    C:\\Users\\mikejseay\\anaconda3\\lib\\site-packages\\ipykernel_launcher.py:11: RuntimeWarning: Mean of empty slice\n",
      "  # This is added back by InteractiveShellApp.init_path()\n",
      " [py.warnings]\n",
      "WARNING    C:\\Users\\mikejseay\\anaconda3\\lib\\site-packages\\ipykernel_launcher.py:12: RuntimeWarning: Mean of empty slice\n",
      "  if sys.path[0] == '':\n",
      " [py.warnings]\n",
      "WARNING    C:\\Users\\mikejseay\\anaconda3\\lib\\site-packages\\ipykernel_launcher.py:11: RuntimeWarning: Mean of empty slice\n",
      "  # This is added back by InteractiveShellApp.init_path()\n",
      " [py.warnings]\n",
      "WARNING    C:\\Users\\mikejseay\\anaconda3\\lib\\site-packages\\ipykernel_launcher.py:12: RuntimeWarning: Mean of empty slice\n",
      "  if sys.path[0] == '':\n",
      " [py.warnings]\n",
      "WARNING    C:\\Users\\mikejseay\\anaconda3\\lib\\site-packages\\ipykernel_launcher.py:11: RuntimeWarning: Mean of empty slice\n",
      "  # This is added back by InteractiveShellApp.init_path()\n",
      " [py.warnings]\n",
      "WARNING    C:\\Users\\mikejseay\\anaconda3\\lib\\site-packages\\ipykernel_launcher.py:12: RuntimeWarning: Mean of empty slice\n",
      "  if sys.path[0] == '':\n",
      " [py.warnings]\n",
      "WARNING    C:\\Users\\mikejseay\\anaconda3\\lib\\site-packages\\ipykernel_launcher.py:11: RuntimeWarning: Mean of empty slice\n",
      "  # This is added back by InteractiveShellApp.init_path()\n",
      " [py.warnings]\n",
      "WARNING    C:\\Users\\mikejseay\\anaconda3\\lib\\site-packages\\ipykernel_launcher.py:12: RuntimeWarning: Mean of empty slice\n",
      "  if sys.path[0] == '':\n",
      " [py.warnings]\n",
      "WARNING    C:\\Users\\mikejseay\\anaconda3\\lib\\site-packages\\ipykernel_launcher.py:11: RuntimeWarning: Mean of empty slice\n",
      "  # This is added back by InteractiveShellApp.init_path()\n",
      " [py.warnings]\n",
      "WARNING    C:\\Users\\mikejseay\\anaconda3\\lib\\site-packages\\ipykernel_launcher.py:12: RuntimeWarning: Mean of empty slice\n",
      "  if sys.path[0] == '':\n",
      " [py.warnings]\n",
      "WARNING    C:\\Users\\mikejseay\\anaconda3\\lib\\site-packages\\ipykernel_launcher.py:11: RuntimeWarning: Mean of empty slice\n",
      "  # This is added back by InteractiveShellApp.init_path()\n",
      " [py.warnings]\n",
      "WARNING    C:\\Users\\mikejseay\\anaconda3\\lib\\site-packages\\ipykernel_launcher.py:12: RuntimeWarning: Mean of empty slice\n",
      "  if sys.path[0] == '':\n",
      " [py.warnings]\n",
      "WARNING    C:\\Users\\mikejseay\\anaconda3\\lib\\site-packages\\ipykernel_launcher.py:11: RuntimeWarning: Mean of empty slice\n",
      "  # This is added back by InteractiveShellApp.init_path()\n",
      " [py.warnings]\n",
      "WARNING    C:\\Users\\mikejseay\\anaconda3\\lib\\site-packages\\ipykernel_launcher.py:12: RuntimeWarning: Mean of empty slice\n",
      "  if sys.path[0] == '':\n",
      " [py.warnings]\n",
      "WARNING    C:\\Users\\mikejseay\\anaconda3\\lib\\site-packages\\ipykernel_launcher.py:11: RuntimeWarning: Mean of empty slice\n",
      "  # This is added back by InteractiveShellApp.init_path()\n",
      " [py.warnings]\n",
      "WARNING    C:\\Users\\mikejseay\\anaconda3\\lib\\site-packages\\ipykernel_launcher.py:12: RuntimeWarning: Mean of empty slice\n",
      "  if sys.path[0] == '':\n",
      " [py.warnings]\n"
     ]
    }
   ],
   "source": [
    "# average PSTH, outliers removed\n",
    "\n",
    "f, ax = plt.subplots(2, 1, sharex=True, figsize=(7, 9))\n",
    "\n",
    "movAvgWidth = 3\n",
    "movAvgAdj = int(movAvgWidth / 2)\n",
    "\n",
    "for currentValueInd, currentValue in enumerate(R.currentValues):\n",
    "    useLabel = str(int(currentValue * 1e12)) + ' pA'\n",
    "    xVals = timeVector\n",
    "    yValsExc = np.nanmean(PSTHExcOutNan, 1)[currentValueInd, :]\n",
    "    yValsInh = np.nanmean(PSTHInhOutNan, 1)[currentValueInd, :]\n",
    "#     xVals = timeVector[movAvgAdj:-movAvgAdj]\n",
    "#     yValsExc = moving_average(R.PSTHExc.mean(1)[currentValueInd, :], movAvgWidth)\n",
    "#     yValsInh = moving_average(R.PSTHInh.mean(1)[currentValueInd, :], movAvgWidth)\n",
    "    ax[0].plot(xVals, yValsExc, label=useLabel)\n",
    "    ax[1].plot(xVals, yValsInh, label=useLabel)\n",
    "\n",
    "    ax[0].set(ylabel='E FR (Hz)', ylim=(0, 9))\n",
    "    ax[0].legend(loc='lower left')\n",
    "    ax[1].set(xlabel='Time (s)', ylabel='I FR (Hz)', ylim=(0, 24))\n",
    "# ax[0].vlines(3, *ax[0].get_ylim(), color='k', ls='--', lw=1)\n",
    "# ax[1].vlines(3, *ax[1].get_ylim(), color='k', ls='--', lw=1)"
   ]
  },
  {
   "cell_type": "markdown",
   "metadata": {},
   "source": [
    "# Do some stats for paradoxical effect righ quick"
   ]
  },
  {
   "cell_type": "code",
   "execution_count": 27,
   "metadata": {},
   "outputs": [],
   "source": [
    "# first turn the results into a dataframe"
   ]
  },
  {
   "cell_type": "code",
   "execution_count": 42,
   "metadata": {},
   "outputs": [
    {
     "data": {
      "text/plain": [
       "(9, 30)"
      ]
     },
     "execution_count": 42,
     "metadata": {},
     "output_type": "execute_result"
    }
   ],
   "source": [
    "paraPeriodTrialMeansExc.shape"
   ]
  },
  {
   "cell_type": "code",
   "execution_count": 43,
   "metadata": {},
   "outputs": [],
   "source": [
    "nCurrentValues, nTrials = paraPeriodTrialMeansExc.shape"
   ]
  },
  {
   "cell_type": "code",
   "execution_count": 62,
   "metadata": {},
   "outputs": [
    {
     "data": {
      "text/plain": [
       "array([ 0.,  4.,  8., 12., 16., 20., 24., 28., 32.])"
      ]
     },
     "execution_count": 62,
     "metadata": {},
     "output_type": "execute_result"
    }
   ],
   "source": [
    "R.currentValues * 1e12"
   ]
  },
  {
   "cell_type": "code",
   "execution_count": 70,
   "metadata": {},
   "outputs": [
    {
     "data": {
      "text/plain": [
       "array([ 0.,  8., 16., 24.])"
      ]
     },
     "execution_count": 70,
     "metadata": {},
     "output_type": "execute_result"
    }
   ],
   "source": [
    "(R.currentValues * 1e12)[[0, 2, 4, 6]]"
   ]
  },
  {
   "cell_type": "code",
   "execution_count": 44,
   "metadata": {
    "collapsed": true
   },
   "outputs": [
    {
     "data": {
      "text/plain": [
       "array([ 0.,  0.,  0.,  0.,  0.,  0.,  0.,  0.,  0.,  0.,  0.,  0.,  0.,\n",
       "        0.,  0.,  0.,  0.,  0.,  0.,  0.,  0.,  0.,  0.,  0.,  0.,  0.,\n",
       "        0.,  0.,  0.,  0.,  4.,  4.,  4.,  4.,  4.,  4.,  4.,  4.,  4.,\n",
       "        4.,  4.,  4.,  4.,  4.,  4.,  4.,  4.,  4.,  4.,  4.,  4.,  4.,\n",
       "        4.,  4.,  4.,  4.,  4.,  4.,  4.,  4.,  8.,  8.,  8.,  8.,  8.,\n",
       "        8.,  8.,  8.,  8.,  8.,  8.,  8.,  8.,  8.,  8.,  8.,  8.,  8.,\n",
       "        8.,  8.,  8.,  8.,  8.,  8.,  8.,  8.,  8.,  8.,  8.,  8., 12.,\n",
       "       12., 12., 12., 12., 12., 12., 12., 12., 12., 12., 12., 12., 12.,\n",
       "       12., 12., 12., 12., 12., 12., 12., 12., 12., 12., 12., 12., 12.,\n",
       "       12., 12., 12., 16., 16., 16., 16., 16., 16., 16., 16., 16., 16.,\n",
       "       16., 16., 16., 16., 16., 16., 16., 16., 16., 16., 16., 16., 16.,\n",
       "       16., 16., 16., 16., 16., 16., 16., 20., 20., 20., 20., 20., 20.,\n",
       "       20., 20., 20., 20., 20., 20., 20., 20., 20., 20., 20., 20., 20.,\n",
       "       20., 20., 20., 20., 20., 20., 20., 20., 20., 20., 20., 24., 24.,\n",
       "       24., 24., 24., 24., 24., 24., 24., 24., 24., 24., 24., 24., 24.,\n",
       "       24., 24., 24., 24., 24., 24., 24., 24., 24., 24., 24., 24., 24.,\n",
       "       24., 24., 28., 28., 28., 28., 28., 28., 28., 28., 28., 28., 28.,\n",
       "       28., 28., 28., 28., 28., 28., 28., 28., 28., 28., 28., 28., 28.,\n",
       "       28., 28., 28., 28., 28., 28., 32., 32., 32., 32., 32., 32., 32.,\n",
       "       32., 32., 32., 32., 32., 32., 32., 32., 32., 32., 32., 32., 32.,\n",
       "       32., 32., 32., 32., 32., 32., 32., 32., 32., 32.])"
      ]
     },
     "execution_count": 44,
     "metadata": {},
     "output_type": "execute_result"
    }
   ],
   "source": [
    "np.repeat(R.currentValues * 1e12, nTrials)"
   ]
  },
  {
   "cell_type": "code",
   "execution_count": 45,
   "metadata": {
    "collapsed": true
   },
   "outputs": [
    {
     "data": {
      "text/plain": [
       "array([ 0,  1,  2,  3,  4,  5,  6,  7,  8,  9, 10, 11, 12, 13, 14, 15, 16,\n",
       "       17, 18, 19, 20, 21, 22, 23, 24, 25, 26, 27, 28, 29,  0,  1,  2,  3,\n",
       "        4,  5,  6,  7,  8,  9, 10, 11, 12, 13, 14, 15, 16, 17, 18, 19, 20,\n",
       "       21, 22, 23, 24, 25, 26, 27, 28, 29,  0,  1,  2,  3,  4,  5,  6,  7,\n",
       "        8,  9, 10, 11, 12, 13, 14, 15, 16, 17, 18, 19, 20, 21, 22, 23, 24,\n",
       "       25, 26, 27, 28, 29,  0,  1,  2,  3,  4,  5,  6,  7,  8,  9, 10, 11,\n",
       "       12, 13, 14, 15, 16, 17, 18, 19, 20, 21, 22, 23, 24, 25, 26, 27, 28,\n",
       "       29,  0,  1,  2,  3,  4,  5,  6,  7,  8,  9, 10, 11, 12, 13, 14, 15,\n",
       "       16, 17, 18, 19, 20, 21, 22, 23, 24, 25, 26, 27, 28, 29,  0,  1,  2,\n",
       "        3,  4,  5,  6,  7,  8,  9, 10, 11, 12, 13, 14, 15, 16, 17, 18, 19,\n",
       "       20, 21, 22, 23, 24, 25, 26, 27, 28, 29,  0,  1,  2,  3,  4,  5,  6,\n",
       "        7,  8,  9, 10, 11, 12, 13, 14, 15, 16, 17, 18, 19, 20, 21, 22, 23,\n",
       "       24, 25, 26, 27, 28, 29,  0,  1,  2,  3,  4,  5,  6,  7,  8,  9, 10,\n",
       "       11, 12, 13, 14, 15, 16, 17, 18, 19, 20, 21, 22, 23, 24, 25, 26, 27,\n",
       "       28, 29,  0,  1,  2,  3,  4,  5,  6,  7,  8,  9, 10, 11, 12, 13, 14,\n",
       "       15, 16, 17, 18, 19, 20, 21, 22, 23, 24, 25, 26, 27, 28, 29])"
      ]
     },
     "execution_count": 45,
     "metadata": {},
     "output_type": "execute_result"
    }
   ],
   "source": [
    "np.tile(np.arange(nTrials), nCurrentValues)"
   ]
  },
  {
   "cell_type": "code",
   "execution_count": 41,
   "metadata": {
    "collapsed": true
   },
   "outputs": [
    {
     "data": {
      "text/plain": [
       "array([4.855   , 4.87    , 4.871875, 4.9475  , 4.89375 , 4.924375,\n",
       "       4.7425  , 4.843125, 4.94875 , 4.831875, 4.8525  , 4.82625 ,\n",
       "       4.853125, 4.965   , 4.738125, 4.83875 , 4.865   , 4.8675  ,\n",
       "       4.8725  , 4.8175  , 4.8875  , 4.8725  , 4.810625, 4.72125 ,\n",
       "       4.899375, 4.79625 , 4.958125, 4.83375 , 4.643125, 4.745   ,\n",
       "       4.62125 , 4.488125, 4.500625, 4.436875, 4.38875 , 4.388125,\n",
       "       4.325   , 4.416875, 4.58125 , 4.429375, 4.47875 , 4.508125,\n",
       "       4.369375, 4.55625 , 4.441875, 4.5175  , 4.4975  , 4.58125 ,\n",
       "       4.43375 , 4.48625 , 4.526875, 4.496875, 4.5025  , 4.379375,\n",
       "       4.43375 , 4.420625, 4.52125 , 4.570625, 4.476875, 4.5675  ,\n",
       "       4.060625, 4.28625 , 4.009375, 4.211875, 4.205625, 4.14875 ,\n",
       "       4.0575  , 4.056875, 4.2     , 4.003125, 4.150625, 4.060625,\n",
       "       4.115   , 4.090625, 4.2125  , 4.054375, 4.0075  , 4.12375 ,\n",
       "       3.985   , 4.141875, 4.1     , 4.02375 , 4.043125, 4.2025  ,\n",
       "       4.065   , 4.014375, 4.085   , 4.119375, 4.18875 , 4.1325  ,\n",
       "       3.7525  , 3.641875, 3.813125, 3.826875, 3.821875, 3.731875,\n",
       "       3.833125, 3.8     , 3.6175  , 3.68125 , 3.79    , 3.690625,\n",
       "       3.61    , 3.70875 , 3.698125, 3.73625 , 3.686875, 3.6225  ,\n",
       "       3.713125, 3.72875 , 3.70625 , 3.778125, 3.8275  , 3.709375,\n",
       "       3.76125 , 3.720625, 3.76125 , 3.605625, 3.746875, 3.689375,\n",
       "       3.38125 , 3.270625, 3.344375, 3.29375 , 3.315   , 3.413125,\n",
       "       3.285625, 3.329375, 3.43    , 3.308125, 3.401875, 3.381875,\n",
       "       3.23125 , 3.391875, 3.251875, 3.295625, 3.37    , 3.3625  ,\n",
       "       3.355625, 3.33375 , 3.341875, 3.44375 , 3.386875, 3.32875 ,\n",
       "       3.358125, 3.41125 , 3.284375, 3.333125, 3.42125 , 3.399375,\n",
       "       2.948125, 2.894375, 2.944375, 2.865625, 2.949375, 3.0025  ,\n",
       "       2.835   , 2.97375 , 2.921875, 2.8875  , 2.856875, 3.014375,\n",
       "       3.081875, 2.959375, 2.93375 , 2.840625, 2.95375 , 3.0175  ,\n",
       "       2.900625, 2.931875, 2.925625, 2.966875, 2.9575  , 2.986875,\n",
       "       2.970625, 2.954375, 2.990625, 2.9375  , 2.845625, 3.21125 ,\n",
       "       2.47875 , 2.588125, 2.640625, 2.638125, 2.57375 , 2.59875 ,\n",
       "       0.930625, 2.406875, 2.52125 , 2.4175  , 2.465625, 2.475625,\n",
       "       2.625625, 2.6075  , 2.46375 , 2.435625, 2.618125, 2.639375,\n",
       "       2.5575  , 2.49875 , 2.59625 , 2.51375 , 2.53    , 2.539375,\n",
       "       2.39375 , 2.424375, 2.41125 , 2.515   , 2.370625, 1.0225  ,\n",
       "       0.2175  , 0.775625, 0.575625, 0.6875  , 0.194375, 0.61625 ,\n",
       "       1.033125, 0.778125, 2.26375 , 2.19375 , 2.133125, 2.16625 ,\n",
       "       0.578125, 1.060625, 0.14125 , 0.6875  , 2.181875, 0.216875,\n",
       "       1.725   , 2.064375, 0.895625, 1.0125  , 0.9475  , 1.11375 ,\n",
       "       1.11625 , 0.17375 , 2.199375, 0.233125, 1.425   , 1.9025  ,\n",
       "       0.208125, 0.523125, 0.42    , 0.221875, 0.235625, 0.3575  ,\n",
       "       0.21625 , 0.515625, 0.48    , 0.119375, 0.1975  , 0.231875,\n",
       "       0.141875, 0.1275  , 0.87875 , 0.135625, 0.206875, 0.15125 ,\n",
       "       0.15375 , 0.153125, 0.180625, 0.195   , 0.205   , 0.50625 ,\n",
       "       0.226875, 0.16    , 0.866875, 0.33375 , 0.2075  , 0.434375])"
      ]
     },
     "execution_count": 41,
     "metadata": {},
     "output_type": "execute_result"
    }
   ],
   "source": [
    "paraPeriodTrialMeansExc.ravel()"
   ]
  },
  {
   "cell_type": "code",
   "execution_count": 71,
   "metadata": {},
   "outputs": [],
   "source": [
    "takeCurrentIndices = [0, 2, 4, 6]\n",
    "\n",
    "df = pd.DataFrame({\n",
    "    'currentValues': np.repeat(R.currentValues[takeCurrentIndices] * 1e12, nTrials),\n",
    "    'trialIndex': np.tile(np.arange(nTrials), len(takeCurrentIndices)),\n",
    "    'E': paraPeriodTrialMeansExc[takeCurrentIndices, :].ravel(),\n",
    "    'I': paraPeriodTrialMeansInh[takeCurrentIndices, :].ravel(),\n",
    "    'E-nf': paraPeriodTrialMeansExcNoFailures[takeCurrentIndices, :].ravel(),\n",
    "    'I-nf': paraPeriodTrialMeansInhNoFailures[takeCurrentIndices, :].ravel(),\n",
    "})"
   ]
  },
  {
   "cell_type": "code",
   "execution_count": 73,
   "metadata": {},
   "outputs": [],
   "source": [
    "df.to_csv('paradoxPSTHResults.csv')"
   ]
  },
  {
   "cell_type": "code",
   "execution_count": 74,
   "metadata": {},
   "outputs": [],
   "source": [
    "from statsmodels.stats.anova import AnovaRM"
   ]
  },
  {
   "cell_type": "code",
   "execution_count": 75,
   "metadata": {},
   "outputs": [],
   "source": [
    "ARM = AnovaRM(data=df, depvar='I', subject='trialIndex', within=['currentValues']).fit()"
   ]
  },
  {
   "cell_type": "code",
   "execution_count": 76,
   "metadata": {},
   "outputs": [
    {
     "data": {
      "text/html": [
       "<div>\n",
       "<style scoped>\n",
       "    .dataframe tbody tr th:only-of-type {\n",
       "        vertical-align: middle;\n",
       "    }\n",
       "\n",
       "    .dataframe tbody tr th {\n",
       "        vertical-align: top;\n",
       "    }\n",
       "\n",
       "    .dataframe thead th {\n",
       "        text-align: right;\n",
       "    }\n",
       "</style>\n",
       "<table border=\"1\" class=\"dataframe\">\n",
       "  <thead>\n",
       "    <tr style=\"text-align: right;\">\n",
       "      <th></th>\n",
       "      <th>F Value</th>\n",
       "      <th>Num DF</th>\n",
       "      <th>Den DF</th>\n",
       "      <th>Pr &gt; F</th>\n",
       "    </tr>\n",
       "  </thead>\n",
       "  <tbody>\n",
       "    <tr>\n",
       "      <th>currentValues</th>\n",
       "      <td>1353.705774</td>\n",
       "      <td>3.0</td>\n",
       "      <td>87.0</td>\n",
       "      <td>7.302718e-73</td>\n",
       "    </tr>\n",
       "  </tbody>\n",
       "</table>\n",
       "</div>"
      ],
      "text/plain": [
       "                   F Value  Num DF  Den DF        Pr > F\n",
       "currentValues  1353.705774     3.0    87.0  7.302718e-73"
      ]
     },
     "execution_count": 76,
     "metadata": {},
     "output_type": "execute_result"
    }
   ],
   "source": [
    "ARM.anova_table"
   ]
  },
  {
   "cell_type": "code",
   "execution_count": 72,
   "metadata": {},
   "outputs": [
    {
     "data": {
      "text/html": [
       "<div>\n",
       "<style scoped>\n",
       "    .dataframe tbody tr th:only-of-type {\n",
       "        vertical-align: middle;\n",
       "    }\n",
       "\n",
       "    .dataframe tbody tr th {\n",
       "        vertical-align: top;\n",
       "    }\n",
       "\n",
       "    .dataframe thead th {\n",
       "        text-align: right;\n",
       "    }\n",
       "</style>\n",
       "<table border=\"1\" class=\"dataframe\">\n",
       "  <thead>\n",
       "    <tr style=\"text-align: right;\">\n",
       "      <th></th>\n",
       "      <th>currentValues</th>\n",
       "      <th>trialIndex</th>\n",
       "      <th>E</th>\n",
       "      <th>I</th>\n",
       "      <th>E-nf</th>\n",
       "      <th>I-nf</th>\n",
       "    </tr>\n",
       "  </thead>\n",
       "  <tbody>\n",
       "    <tr>\n",
       "      <th>0</th>\n",
       "      <td>0.0</td>\n",
       "      <td>0</td>\n",
       "      <td>4.855000</td>\n",
       "      <td>13.4075</td>\n",
       "      <td>4.855000</td>\n",
       "      <td>13.4075</td>\n",
       "    </tr>\n",
       "    <tr>\n",
       "      <th>1</th>\n",
       "      <td>0.0</td>\n",
       "      <td>1</td>\n",
       "      <td>4.870000</td>\n",
       "      <td>13.5175</td>\n",
       "      <td>4.870000</td>\n",
       "      <td>13.5175</td>\n",
       "    </tr>\n",
       "    <tr>\n",
       "      <th>2</th>\n",
       "      <td>0.0</td>\n",
       "      <td>2</td>\n",
       "      <td>4.871875</td>\n",
       "      <td>13.7225</td>\n",
       "      <td>4.871875</td>\n",
       "      <td>13.7225</td>\n",
       "    </tr>\n",
       "    <tr>\n",
       "      <th>3</th>\n",
       "      <td>0.0</td>\n",
       "      <td>3</td>\n",
       "      <td>4.947500</td>\n",
       "      <td>13.8225</td>\n",
       "      <td>4.947500</td>\n",
       "      <td>13.8225</td>\n",
       "    </tr>\n",
       "    <tr>\n",
       "      <th>4</th>\n",
       "      <td>0.0</td>\n",
       "      <td>4</td>\n",
       "      <td>4.893750</td>\n",
       "      <td>13.7450</td>\n",
       "      <td>4.893750</td>\n",
       "      <td>13.7450</td>\n",
       "    </tr>\n",
       "    <tr>\n",
       "      <th>...</th>\n",
       "      <td>...</td>\n",
       "      <td>...</td>\n",
       "      <td>...</td>\n",
       "      <td>...</td>\n",
       "      <td>...</td>\n",
       "      <td>...</td>\n",
       "    </tr>\n",
       "    <tr>\n",
       "      <th>115</th>\n",
       "      <td>24.0</td>\n",
       "      <td>25</td>\n",
       "      <td>2.424375</td>\n",
       "      <td>5.8950</td>\n",
       "      <td>2.424375</td>\n",
       "      <td>5.8950</td>\n",
       "    </tr>\n",
       "    <tr>\n",
       "      <th>116</th>\n",
       "      <td>24.0</td>\n",
       "      <td>26</td>\n",
       "      <td>2.411250</td>\n",
       "      <td>5.7800</td>\n",
       "      <td>2.411250</td>\n",
       "      <td>5.7800</td>\n",
       "    </tr>\n",
       "    <tr>\n",
       "      <th>117</th>\n",
       "      <td>24.0</td>\n",
       "      <td>27</td>\n",
       "      <td>2.515000</td>\n",
       "      <td>6.1700</td>\n",
       "      <td>2.515000</td>\n",
       "      <td>6.1700</td>\n",
       "    </tr>\n",
       "    <tr>\n",
       "      <th>118</th>\n",
       "      <td>24.0</td>\n",
       "      <td>28</td>\n",
       "      <td>2.370625</td>\n",
       "      <td>5.7025</td>\n",
       "      <td>2.370625</td>\n",
       "      <td>5.7025</td>\n",
       "    </tr>\n",
       "    <tr>\n",
       "      <th>119</th>\n",
       "      <td>24.0</td>\n",
       "      <td>29</td>\n",
       "      <td>1.022500</td>\n",
       "      <td>2.7250</td>\n",
       "      <td>1.022500</td>\n",
       "      <td>2.7250</td>\n",
       "    </tr>\n",
       "  </tbody>\n",
       "</table>\n",
       "<p>120 rows × 6 columns</p>\n",
       "</div>"
      ],
      "text/plain": [
       "     currentValues  trialIndex         E        I      E-nf     I-nf\n",
       "0              0.0           0  4.855000  13.4075  4.855000  13.4075\n",
       "1              0.0           1  4.870000  13.5175  4.870000  13.5175\n",
       "2              0.0           2  4.871875  13.7225  4.871875  13.7225\n",
       "3              0.0           3  4.947500  13.8225  4.947500  13.8225\n",
       "4              0.0           4  4.893750  13.7450  4.893750  13.7450\n",
       "..             ...         ...       ...      ...       ...      ...\n",
       "115           24.0          25  2.424375   5.8950  2.424375   5.8950\n",
       "116           24.0          26  2.411250   5.7800  2.411250   5.7800\n",
       "117           24.0          27  2.515000   6.1700  2.515000   6.1700\n",
       "118           24.0          28  2.370625   5.7025  2.370625   5.7025\n",
       "119           24.0          29  1.022500   2.7250  1.022500   2.7250\n",
       "\n",
       "[120 rows x 6 columns]"
      ]
     },
     "execution_count": 72,
     "metadata": {},
     "output_type": "execute_result"
    }
   ],
   "source": [
    "df"
   ]
  },
  {
   "cell_type": "code",
   "execution_count": 212,
   "metadata": {},
   "outputs": [],
   "source": [
    "anax = ax[0]"
   ]
  },
  {
   "cell_type": "code",
   "execution_count": 50,
   "metadata": {},
   "outputs": [
    {
     "data": {
      "text/plain": [
       "(0.0, 7.0)"
      ]
     },
     "execution_count": 50,
     "metadata": {},
     "output_type": "execute_result"
    }
   ],
   "source": [
    "anax.get_ylim()"
   ]
  },
  {
   "cell_type": "code",
   "execution_count": null,
   "metadata": {},
   "outputs": [],
   "source": [
    "anax.legend()"
   ]
  },
  {
   "cell_type": "code",
   "execution_count": null,
   "metadata": {},
   "outputs": [],
   "source": []
  },
  {
   "cell_type": "code",
   "execution_count": 22,
   "metadata": {},
   "outputs": [
    {
     "name": "stdout",
     "output_type": "stream",
     "text": [
      "1997 83 640 532\n"
     ]
    }
   ],
   "source": [
    "# get the QTCore PyRect object\n",
    "geom = mngr.window.geometry()\n",
    "\n",
    "x,y,dx,dy = geom.getRect()\n",
    "\n",
    "print(x,y,dx,dy)"
   ]
  },
  {
   "cell_type": "code",
   "execution_count": null,
   "metadata": {},
   "outputs": [],
   "source": [
    "mngr = plt.get_current_fig_manager()\n",
    "# to put it into the upper left corner for example:\n",
    "# mngr.window.setGeometry(50,100,640, 545)\n",
    "targetFile = ''"
   ]
  }
 ],
 "metadata": {
  "kernelspec": {
   "display_name": "Python 3",
   "language": "python",
   "name": "python3"
  },
  "language_info": {
   "codemirror_mode": {
    "name": "ipython",
    "version": 3
   },
   "file_extension": ".py",
   "mimetype": "text/x-python",
   "name": "python",
   "nbconvert_exporter": "python",
   "pygments_lexer": "ipython3",
   "version": "3.7.6"
  }
 },
 "nbformat": 4,
 "nbformat_minor": 4
}

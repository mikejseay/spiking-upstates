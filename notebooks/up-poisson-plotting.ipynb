{
 "cells": [
  {
   "cell_type": "code",
   "execution_count": 2,
   "metadata": {
    "scrolled": true
   },
   "outputs": [
    {
     "name": "stdout",
     "output_type": "stream",
     "text": [
      "Using matplotlib backend: Qt5Agg\n"
     ]
    },
    {
     "name": "stderr",
     "output_type": "stream",
     "text": [
      "INFO       Cache size for target \"cython\": 13145 MB.\n",
      "You can call \"clear_cache('cython')\" to delete all files from the cache or manually delete files in the \"C:\\Users\\mikejseay\\.cython\\brian_extensions\" directory. [brian2]\n"
     ]
    }
   ],
   "source": [
    "%matplotlib\n",
    "\n",
    "import sys\n",
    "sys.path.append('..')\n",
    "\n",
    "from brian2 import defaultclock, ms, pA, nA, Hz, seed, mV, second\n",
    "import numpy as np\n",
    "from results import Results\n",
    "import matplotlib.pyplot as plt"
   ]
  },
  {
   "cell_type": "code",
   "execution_count": 86,
   "metadata": {},
   "outputs": [],
   "source": [
    "# targetFile = 'buonoEphys_2000_0p25_upPoisson_guessBuono2Weights2e3p025LogNormal_test_2021-08-13-14-55_results'  # very nice but not the right params exactly\n",
    "# targetFile = 'buonoEphys2_2000_0p25_upPoisson_guessBuono2Weights2e3p025LogNormal2_test_2021-08-16-14-26_results'  # very nice\n",
    "# targetFile = 'buonoEphys2_2000_0p25_upPoisson_guessBuono2Weights2e3p025LogNormal2_test_2021-08-16-14-35_results'  # very nice\n",
    "# targetFile = 'buonoEphysBen1_2000_0p25_upPoisson_guessBuono2Weights2e3p025LogNormal_test_2021-08-16-16-19_results'  # very nice (ben idea worked)\n",
    "# targetFile = 'buonoEphysBen1_2000_0p25_upPoisson_guessBuono2Weights2e3p025LogNormal_test_2021-08-16-16-46_results'  # another example\n",
    "# targetFile = 'buonoEphysBen1_2000_0p25_upPoisson_guessBuono2Weights2e3p025LogNormal_test_2021-08-17-11-09_results'  # good\n",
    "\n",
    "targetFile = 'buonoEphysBen1_2000_0p25_upPoisson_guessBuono2Weights2e3p025LogNormal_test_2021-08-17-14-13_results'  # no Exc2\n",
    "# targetFile = 'buonoEphysBen1_2000_0p25_upPoisson_guessBuono2Weights2e3p025LogNormal_test_2021-08-17-14-16_results'  # yes Exc2\n",
    "targetFolder = 'C:/Users/mikejseay/Documents/BrianResults/upPoisson'"
   ]
  },
  {
   "cell_type": "code",
   "execution_count": 87,
   "metadata": {},
   "outputs": [
    {
     "name": "stdout",
     "output_type": "stream",
     "text": [
      "classicJercogEphysBuonoBen1\n"
     ]
    }
   ],
   "source": [
    "R = Results()\n",
    "R.init_from_file(targetFile, targetFolder)\n",
    "\n",
    "print(R.p['simName'])"
   ]
  },
  {
   "cell_type": "code",
   "execution_count": 88,
   "metadata": {},
   "outputs": [],
   "source": [
    "plt.close('all')"
   ]
  },
  {
   "cell_type": "code",
   "execution_count": 89,
   "metadata": {},
   "outputs": [
    {
     "name": "stdout",
     "output_type": "stream",
     "text": [
      "average FR in upstate for Exc: 2.31, Inh: 4.73, average upDur: 2.07\n"
     ]
    },
    {
     "data": {
      "text/plain": [
       "Text(0.5, 0.98, 'average FR in upstate for Exc: 2.31, Inh: 4.73, average upDur: 2.07')"
      ]
     },
     "execution_count": 89,
     "metadata": {},
     "output_type": "execute_result"
    }
   ],
   "source": [
    "R.calculate_PSTH()\n",
    "R.calculate_voltage_histogram(removeMode=True, useAllRecordedUnits=True)\n",
    "R.calculate_upstates()\n",
    "if len(R.ups) > 0:\n",
    "    R.reshape_upstates()\n",
    "    R.calculate_FR_in_upstates()\n",
    "    infoStr = 'average FR in upstate for Exc: {:.2f}, Inh: {:.2f}, average upDur: {:.2f}'.format(R.upstateFRExcHist.mean(), R.upstateFRInhHist.mean(), R.upDurs.mean())\n",
    "    print(infoStr)\n",
    "\n",
    "\n",
    "R.calculate_voltage_histogram(removeMode=True)\n",
    "R.reshape_upstates()\n",
    "\n",
    "fig1, ax1 = plt.subplots(6, 1, num=1, figsize=(16, 9),\n",
    "                         gridspec_kw={'height_ratios': [3, 1, 1, 1, 1, 1]},\n",
    "                         sharex=True)\n",
    "R.plot_spike_raster(ax1[0])  # uses RNG but with a separate random seed\n",
    "R.plot_firing_rate(ax1[1])\n",
    "ax1[1].set_ylim(0, 30)\n",
    "R.plot_voltage_detail(ax1[2], unitType='Exc', useStateInd=0)\n",
    "R.plot_updur_lines(ax1[2])\n",
    "R.plot_voltage_detail(ax1[3], unitType='Inh', useStateInd=0)\n",
    "R.plot_updur_lines(ax1[3])\n",
    "R.plot_voltage_detail(ax1[4], unitType='Exc', useStateInd=1)\n",
    "R.plot_updur_lines(ax1[4])\n",
    "if 'useSecondPopExc' in R.p and R.p['useSecondPopExc']:\n",
    "    R.plot_voltage_detail(ax1[5], unitType='Exc', useStateInd=2)\n",
    "    R.plot_updur_lines(ax1[5])\n",
    "ax1[5].set(xlabel='Time (s)')\n",
    "R.plot_voltage_histogram_sideways(ax1[2], 'Exc')\n",
    "R.plot_voltage_histogram_sideways(ax1[3], 'Inh')\n",
    "fig1.suptitle(infoStr)"
   ]
  },
  {
   "cell_type": "code",
   "execution_count": 21,
   "metadata": {},
   "outputs": [],
   "source": [
    "R.calculate_upFR_units()"
   ]
  },
  {
   "cell_type": "code",
   "execution_count": 22,
   "metadata": {},
   "outputs": [
    {
     "data": {
      "text/plain": [
       "(8, 1600)"
      ]
     },
     "execution_count": 22,
     "metadata": {},
     "output_type": "execute_result"
    }
   ],
   "source": [
    "R.upstateFRExcUnits.shape"
   ]
  },
  {
   "cell_type": "code",
   "execution_count": 27,
   "metadata": {},
   "outputs": [
    {
     "data": {
      "text/plain": [
       "100"
      ]
     },
     "execution_count": 27,
     "metadata": {},
     "output_type": "execute_result"
    }
   ],
   "source": [
    "R.p['nUnitsToSpike']"
   ]
  },
  {
   "cell_type": "code",
   "execution_count": 28,
   "metadata": {},
   "outputs": [
    {
     "data": {
      "text/plain": [
       "100"
      ]
     },
     "execution_count": 28,
     "metadata": {},
     "output_type": "execute_result"
    }
   ],
   "source": [
    "R.p['nUnitsSecondPopExc']"
   ]
  },
  {
   "cell_type": "code",
   "execution_count": 58,
   "metadata": {},
   "outputs": [],
   "source": [
    "frInp = R.upstateFRExcUnits[:, :R.p['nUnitsToSpike']].mean(0)  # input pop\n",
    "frEx2 = R.upstateFRExcUnits[:, R.p['nUnitsToSpike']:R.p['nUnitsToSpike'] + R.p['nUnitsSecondPopExc']].mean(0)  # secondary pop\n",
    "frEx1 = R.upstateFRExcUnits[:, 200:].mean(0)  # normal pop\n",
    "frInh = R.upstateFRInhUnits.mean(0)"
   ]
  },
  {
   "cell_type": "code",
   "execution_count": 59,
   "metadata": {},
   "outputs": [],
   "source": [
    "frInpHat = frInp.mean()\n",
    "frEx2Hat = frEx2.mean()\n",
    "frEx1Hat = frEx1.mean()\n",
    "frInhHat = frInh.mean()"
   ]
  },
  {
   "cell_type": "code",
   "execution_count": 60,
   "metadata": {
    "scrolled": true
   },
   "outputs": [],
   "source": [
    "frInpSTD = frInp.std()\n",
    "frEx2STD = frEx1.std()\n",
    "frEx1STD = frEx1.std()\n",
    "frInhSTD = frInh.std()"
   ]
  },
  {
   "cell_type": "code",
   "execution_count": 61,
   "metadata": {
    "scrolled": true
   },
   "outputs": [
    {
     "name": "stdout",
     "output_type": "stream",
     "text": [
      "2.6257324199438994 0.5135641858576404 2.960596197631221 6.757260244565425\n"
     ]
    }
   ],
   "source": [
    "print(frInpHat, frEx2Hat, frEx1Hat, frInhHat, )"
   ]
  },
  {
   "cell_type": "code",
   "execution_count": 62,
   "metadata": {
    "scrolled": true
   },
   "outputs": [
    {
     "name": "stdout",
     "output_type": "stream",
     "text": [
      "0.48798605018010816 0.49950287580926406 0.49950287580926406 2.9756498702977696\n"
     ]
    }
   ],
   "source": [
    "print(frInpSTD, frEx2STD, frEx1STD, frInhSTD, )"
   ]
  },
  {
   "cell_type": "code",
   "execution_count": 49,
   "metadata": {},
   "outputs": [],
   "source": [
    "import seaborn as sns\n",
    "import pandas as pd"
   ]
  },
  {
   "cell_type": "code",
   "execution_count": 65,
   "metadata": {},
   "outputs": [],
   "source": [
    "frInpDF = pd.DataFrame(frInp, columns=('FR',))\n",
    "frEx2DF = pd.DataFrame(frEx2, columns=('FR',))\n",
    "frEx1DF = pd.DataFrame(frEx1, columns=('FR',))\n",
    "frInhDF = pd.DataFrame(frInh, columns=('FR',))"
   ]
  },
  {
   "cell_type": "code",
   "execution_count": 66,
   "metadata": {},
   "outputs": [],
   "source": [
    "frInpDF['unitType'] = 'Inp'\n",
    "frEx2DF['unitType'] = 'Ex2'\n",
    "frEx1DF['unitType'] = 'Ex1'\n",
    "frInhDF['unitType'] = 'Inh'"
   ]
  },
  {
   "cell_type": "code",
   "execution_count": 67,
   "metadata": {},
   "outputs": [],
   "source": [
    "frDF = pd.concat((frInpDF, frEx2DF, frEx1DF, frInhDF, ))"
   ]
  },
  {
   "cell_type": "code",
   "execution_count": 68,
   "metadata": {
    "collapsed": true
   },
   "outputs": [
    {
     "data": {
      "text/html": [
       "<div>\n",
       "<style scoped>\n",
       "    .dataframe tbody tr th:only-of-type {\n",
       "        vertical-align: middle;\n",
       "    }\n",
       "\n",
       "    .dataframe tbody tr th {\n",
       "        vertical-align: top;\n",
       "    }\n",
       "\n",
       "    .dataframe thead th {\n",
       "        text-align: right;\n",
       "    }\n",
       "</style>\n",
       "<table border=\"1\" class=\"dataframe\">\n",
       "  <thead>\n",
       "    <tr style=\"text-align: right;\">\n",
       "      <th></th>\n",
       "      <th>FR</th>\n",
       "      <th>unitType</th>\n",
       "    </tr>\n",
       "  </thead>\n",
       "  <tbody>\n",
       "    <tr>\n",
       "      <th>0</th>\n",
       "      <td>3.573941</td>\n",
       "      <td>Inp</td>\n",
       "    </tr>\n",
       "    <tr>\n",
       "      <th>1</th>\n",
       "      <td>3.302398</td>\n",
       "      <td>Inp</td>\n",
       "    </tr>\n",
       "    <tr>\n",
       "      <th>2</th>\n",
       "      <td>2.217661</td>\n",
       "      <td>Inp</td>\n",
       "    </tr>\n",
       "    <tr>\n",
       "      <th>3</th>\n",
       "      <td>2.385036</td>\n",
       "      <td>Inp</td>\n",
       "    </tr>\n",
       "    <tr>\n",
       "      <th>4</th>\n",
       "      <td>2.397402</td>\n",
       "      <td>Inp</td>\n",
       "    </tr>\n",
       "    <tr>\n",
       "      <th>...</th>\n",
       "      <td>...</td>\n",
       "      <td>...</td>\n",
       "    </tr>\n",
       "    <tr>\n",
       "      <th>395</th>\n",
       "      <td>6.062659</td>\n",
       "      <td>Inh</td>\n",
       "    </tr>\n",
       "    <tr>\n",
       "      <th>396</th>\n",
       "      <td>4.238428</td>\n",
       "      <td>Inh</td>\n",
       "    </tr>\n",
       "    <tr>\n",
       "      <th>397</th>\n",
       "      <td>10.620160</td>\n",
       "      <td>Inh</td>\n",
       "    </tr>\n",
       "    <tr>\n",
       "      <th>398</th>\n",
       "      <td>2.507565</td>\n",
       "      <td>Inh</td>\n",
       "    </tr>\n",
       "    <tr>\n",
       "      <th>399</th>\n",
       "      <td>10.971995</td>\n",
       "      <td>Inh</td>\n",
       "    </tr>\n",
       "  </tbody>\n",
       "</table>\n",
       "<p>2000 rows × 2 columns</p>\n",
       "</div>"
      ],
      "text/plain": [
       "            FR unitType\n",
       "0     3.573941      Inp\n",
       "1     3.302398      Inp\n",
       "2     2.217661      Inp\n",
       "3     2.385036      Inp\n",
       "4     2.397402      Inp\n",
       "..         ...      ...\n",
       "395   6.062659      Inh\n",
       "396   4.238428      Inh\n",
       "397  10.620160      Inh\n",
       "398   2.507565      Inh\n",
       "399  10.971995      Inh\n",
       "\n",
       "[2000 rows x 2 columns]"
      ]
     },
     "execution_count": 68,
     "metadata": {},
     "output_type": "execute_result"
    }
   ],
   "source": [
    "frDF"
   ]
  },
  {
   "cell_type": "code",
   "execution_count": 75,
   "metadata": {},
   "outputs": [
    {
     "data": {
      "text/plain": [
       "<matplotlib.axes._subplots.AxesSubplot at 0x1b23859d488>"
      ]
     },
     "execution_count": 75,
     "metadata": {},
     "output_type": "execute_result"
    }
   ],
   "source": [
    "sns.boxplot(x='unitType', y='FR', data=frDF, width=.6, palette=\"vlag\")\n",
    "# sns.stripplot(x=\"unitType\", y=\"FR\", data=frDF, size=4, color=\".3\", linewidth=0)"
   ]
  },
  {
   "cell_type": "code",
   "execution_count": 76,
   "metadata": {},
   "outputs": [
    {
     "data": {
      "text/plain": [
       "<matplotlib.axes._subplots.AxesSubplot at 0x1b23859d488>"
      ]
     },
     "execution_count": 76,
     "metadata": {},
     "output_type": "execute_result"
    }
   ],
   "source": [
    "sns.swarmplot(x='unitType', y='FR', data=frDF)"
   ]
  },
  {
   "cell_type": "code",
   "execution_count": null,
   "metadata": {},
   "outputs": [],
   "source": []
  },
  {
   "cell_type": "code",
   "execution_count": null,
   "metadata": {},
   "outputs": [],
   "source": []
  },
  {
   "cell_type": "code",
   "execution_count": null,
   "metadata": {},
   "outputs": [],
   "source": []
  },
  {
   "cell_type": "code",
   "execution_count": 22,
   "metadata": {},
   "outputs": [
    {
     "name": "stdout",
     "output_type": "stream",
     "text": [
      "1997 83 640 532\n"
     ]
    }
   ],
   "source": [
    "# get the QTCore PyRect object\n",
    "geom = mngr.window.geometry()\n",
    "\n",
    "x,y,dx,dy = geom.getRect()\n",
    "\n",
    "print(x,y,dx,dy)"
   ]
  },
  {
   "cell_type": "code",
   "execution_count": null,
   "metadata": {},
   "outputs": [],
   "source": [
    "mngr = plt.get_current_fig_manager()\n",
    "# to put it into the upper left corner for example:\n",
    "# mngr.window.setGeometry(50,100,640, 545)\n",
    "targetFile = ''"
   ]
  }
 ],
 "metadata": {
  "kernelspec": {
   "display_name": "Python 3",
   "language": "python",
   "name": "python3"
  },
  "language_info": {
   "codemirror_mode": {
    "name": "ipython",
    "version": 3
   },
   "file_extension": ".py",
   "mimetype": "text/x-python",
   "name": "python",
   "nbconvert_exporter": "python",
   "pygments_lexer": "ipython3",
   "version": "3.7.6"
  }
 },
 "nbformat": 4,
 "nbformat_minor": 4
}

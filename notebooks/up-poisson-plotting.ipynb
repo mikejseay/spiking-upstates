{
 "cells": [
  {
   "cell_type": "code",
   "execution_count": 1,
   "metadata": {
    "scrolled": true
   },
   "outputs": [
    {
     "name": "stdout",
     "output_type": "stream",
     "text": [
      "Using matplotlib backend: Qt5Agg\n"
     ]
    },
    {
     "name": "stderr",
     "output_type": "stream",
     "text": [
      "INFO       Cache size for target \"cython\": 8721 MB.\n",
      "You can call \"clear_cache('cython')\" to delete all files from the cache or manually delete files in the \"C:\\Users\\mikejseay\\.cython\\brian_extensions\" directory. [brian2]\n"
     ]
    }
   ],
   "source": [
    "%matplotlib\n",
    "\n",
    "import sys\n",
    "sys.path.append('..')\n",
    "\n",
    "from brian2 import defaultclock, ms, pA, nA, Hz, seed, mV, second\n",
    "import numpy as np\n",
    "from results import Results\n",
    "import matplotlib.pyplot as plt\n",
    "import matplotlib\n",
    "matplotlib.rcParams['pdf.fonttype'] = 42\n",
    "matplotlib.rcParams['ps.fonttype'] = 42\n",
    "import matplotlib.font_manager as fm\n",
    "\n",
    "import seaborn as sns\n",
    "import pandas as pd\n",
    "\n",
    "from stats import moving_average, outlying\n",
    "from scipy.stats import ttest_rel"
   ]
  },
  {
   "cell_type": "code",
   "execution_count": 2,
   "metadata": {},
   "outputs": [],
   "source": [
    "fontProp = fm.FontProperties(fname='C:\\\\Users\\\\mikejseay\\\\anaconda3\\\\Lib\\\\site-packages\\\\matplotlib\\\\mpl-data\\\\fonts\\\\otf\\\\MYRIADPRO-REGULAR.otf')\n",
    "fontProp.set_size(24)"
   ]
  },
  {
   "cell_type": "code",
   "execution_count": 81,
   "metadata": {},
   "outputs": [],
   "source": [
    "# targetFile = 'buonoEphys_2000_0p25_upPoisson_guessBuono2Weights2e3p025LogNormal_test_2021-08-13-14-55_results'  # very nice but not the right params exactly\n",
    "# targetFile = 'buonoEphys2_2000_0p25_upPoisson_guessBuono2Weights2e3p025LogNormal2_test_2021-08-16-14-26_results'  # very nice\n",
    "# targetFile = 'buonoEphys2_2000_0p25_upPoisson_guessBuono2Weights2e3p025LogNormal2_test_2021-08-16-14-35_results'  # very nice\n",
    "# targetFile = 'buonoEphysBen1_2000_0p25_upPoisson_guessBuono2Weights2e3p025LogNormal_test_2021-08-16-16-19_results'  # very nice (ben idea worked)\n",
    "# targetFile = 'buonoEphysBen1_2000_0p25_upPoisson_guessBuono2Weights2e3p025LogNormal_test_2021-08-16-16-46_results'  # another example\n",
    "# targetFile = 'buonoEphysBen1_2000_0p25_upPoisson_guessBuono2Weights2e3p025LogNormal_test_2021-08-17-11-09_results'  # good\n",
    "\n",
    "# targetFile = 'buonoEphysBen1_2000_0p25_upPoisson_guessBuono2Weights2e3p025LogNormal_test_2021-08-17-14-13_results'  # no Exc2\n",
    "# targetFile = 'buonoEphysBen1_2000_0p25_upPoisson_guessBuono2Weights2e3p025LogNormal_test_2021-08-17-14-16_results'  # yes Exc2\n",
    "\n",
    "# targetFile = 'buonoEphysBen1_2000_0p25_upPoisson_guessBuono4Weights2e3p025LogNormal3__2021-08-23-14-49_results'  # yes Exc2\n",
    "# targetFile = 'buonoEphysBen1_2000_0p25_upPoisson_guessBuono4Weights2e3p025LogNormal3__2021-08-23-14-12_results'  # no Exc2\n",
    "\n",
    "# targetFile = 'buonoEphysBen1_2000_0p5_upPoisson_guessBuono4Weights2e3p05LogNormal3__2021-08-23-15-57_results'  # yes Exc2\n",
    "# targetFile = 'buonoEphysBen1_2000_0p5_upPoisson_guessBuono4Weights2e3p05LogNormal3__2021-08-23-15-52_results'  # no Exc2\n",
    "\n",
    "# targetFile = 'buonoEphysBen1_2000_0p5_upPoisson_guessBuono4Weights2e3p05LogNormal3__2021-08-23-16-05_results'  # yes Exc2, really good\n",
    "\n",
    "# targetFile = 'buonoEphysBen1_2000_0p5_upPoisson_guessBuono6Weights2e3p05Beta10__2021-08-24-11-16_results'  # no Exc2\n",
    "# targetFile = 'buonoEphysBen1_2000_0p5_upPoisson_guessBuono6Weights2e3p05Beta10__2021-08-24-11-20_results'  # yes Exc2\n",
    "\n",
    "# targetFile = 'buonoEphysBen1_2000_0p25_upPoisson_resumePrior__2021-09-04-17-21_results'  # best so far\n",
    "# targetFile = 'buonoEphysBen1_2000_0p25_upPoisson_resumePrior__2021-09-05-21-49_results'  # control equivalent\n",
    "\n",
    "# targetFile = 'buonoEphysBen1_2000_0p25_upPoisson_resumePrior__2021-09-08-14-28_results'  # good control, 30 s with 2 ups\n",
    "# targetFile = 'buonoEphysBen1_2000_0p25_upPoisson_resumePrior__2021-09-08-14-43_results'  # good experimental, 30 s with 2 ups\n",
    "\n",
    "# targetFile = 'buonoEphysBen1_2000_0p25_upPoisson_resumePrior__2021-09-09-10-47_results'  # modify conn 1: 10% removed\n",
    "# targetFile = 'buonoEphysBen1_2000_0p25_upPoisson_resumePrior__2021-09-10-10-15_results'  # modify conn 2: 10% removed, some added back\n",
    "\n",
    "# targetFile = 'buonoEphysBen1_2000_0p25_upPoisson_resumePrior__2021-10-04-13-54_results'  # 20% removed, added back\n",
    "# targetFile = 'buonoEphysBen1_2000_0p25_upPoisson_resumePrior_EImod_2021-10-04-14-03_results'  # 20% removed, added back\n",
    "\n",
    "targetFile = 'buonoEphysBen1_2000_0p25_upPoisson_resumePrior_rem35AddBackBias_2022-01-09-23-17-25_results'\n",
    "# targetFile = 'buonoEphysBen1_2000_0p25_upPoisson_resumePrior_rem25AddBackBias_2022-01-07-09-54-33_results'\n",
    "\n",
    "targetFolder = 'C:/Users/mikejseay/Documents/BrianResults/'"
   ]
  },
  {
   "cell_type": "code",
   "execution_count": 70,
   "metadata": {},
   "outputs": [
    {
     "name": "stdout",
     "output_type": "stream",
     "text": [
      "classicJercogEphysBuonoBen1\n"
     ]
    }
   ],
   "source": [
    "R = Results()\n",
    "R.init_from_file(targetFile, targetFolder)\n",
    "\n",
    "print(R.p['simName'])"
   ]
  },
  {
   "cell_type": "code",
   "execution_count": 24,
   "metadata": {},
   "outputs": [],
   "source": [
    "plt.close('all')"
   ]
  },
  {
   "cell_type": "code",
   "execution_count": 25,
   "metadata": {
    "scrolled": true
   },
   "outputs": [
    {
     "data": {
      "text/plain": [
       "[0, 1599, 100, 1422, 87, 1357]"
      ]
     },
     "execution_count": 25,
     "metadata": {},
     "output_type": "execute_result"
    }
   ],
   "source": [
    "R.p['indsRecordStateExc']"
   ]
  },
  {
   "cell_type": "code",
   "execution_count": 26,
   "metadata": {
    "scrolled": true
   },
   "outputs": [
    {
     "data": {
      "text/plain": [
       "[0, 238]"
      ]
     },
     "execution_count": 26,
     "metadata": {},
     "output_type": "execute_result"
    }
   ],
   "source": [
    "R.p['indsRecordStateInh']"
   ]
  },
  {
   "cell_type": "code",
   "execution_count": 71,
   "metadata": {},
   "outputs": [
    {
     "name": "stdout",
     "output_type": "stream",
     "text": [
      "average FR in upstate for Exc: 3.28, Inh: 6.94, average upDur: 2.08, upFreq: 0.10\n"
     ]
    }
   ],
   "source": [
    "R.calculate_PSTH()\n",
    "R.calculate_voltage_histogram(removeMode=True, removeReset=True, useAllRecordedUnits=False, useExcUnits=1)\n",
    "R.calculate_upstates()\n",
    "if len(R.ups) > 0:\n",
    "    R.reshape_upstates()\n",
    "    R.calculate_FR_in_upstates()\n",
    "    infoStr = 'average FR in upstate for Exc: {:.2f}, Inh: {:.2f}, average upDur: {:.2f}, upFreq: {:.2f}'.format(R.upstateFRExcHist.mean(), R.upstateFRInhHist.mean(), R.upDurs.mean(), R.ups.size / R.p['duration'] / Hz)\n",
    "    print(infoStr)\n",
    "\n",
    "\n",
    "R.calculate_voltage_histogram(useExcUnits=(2, 4,), useInhUnits=(0,))\n",
    "R.reshape_upstates()"
   ]
  },
  {
   "cell_type": "code",
   "execution_count": 55,
   "metadata": {},
   "outputs": [],
   "source": [
    "# special plot: two voltages for a 20 sec period with 3 up states (hopefully)\n",
    "# e vs i\n",
    "\n",
    "timePeriod = (0, 60)\n",
    "\n",
    "f, ax = plt.subplots(2, 1, num=2, figsize=(16, 5), sharex=True, sharey=True)\n",
    "R.plot_voltage_detail(ax[0], unitType='Exc', useStateInd=3)\n",
    "R.plot_voltage_detail(ax[1], unitType='Inh', useStateInd=1)\n",
    "R.plot_updur_lines(ax[1])\n",
    "ax[1].set(xlim=timePeriod, xlabel='Time (s)')\n",
    "\n",
    "f.savefig('benEphys1Voltage.pdf', transparent=True)"
   ]
  },
  {
   "cell_type": "code",
   "execution_count": 72,
   "metadata": {},
   "outputs": [],
   "source": [
    "# special plot: two voltages for a 20 sec period with 3 up states (hopefully)\n",
    "# e- vs e+\n",
    "\n",
    "timePeriod = (0, 60)\n",
    "\n",
    "f, ax = plt.subplots(2, 1, num=2, figsize=(9, 5), sharex=True, sharey=True)\n",
    "R.plot_voltage_detail(ax[0], unitType='Exc', useStateInd=3)\n",
    "R.plot_voltage_detail(ax[1], unitType='Exc', useStateInd=2, overrideColor='royalblue')\n",
    "R.plot_updur_lines(ax[1])\n",
    "ax[1].set(xlim=timePeriod, xlabel='Time (s)')\n",
    "\n",
    "f.savefig('benEphys3Voltage.pdf', transparent=True)"
   ]
  },
  {
   "cell_type": "code",
   "execution_count": 10,
   "metadata": {},
   "outputs": [],
   "source": [
    "# special plot: spike raster for a 20 sec period with 3 up states (hopefully)\n",
    "\n",
    "timePeriod = (0, 8)\n",
    "\n",
    "fig1, ax1 = plt.subplots(2, 1, num=3,\n",
    "                         gridspec_kw={'height_ratios': [2, 1]},\n",
    "                         figsize=(16, 5), sharex=True)\n",
    "R.plot_spike_raster(ax1[0])\n",
    "R.plot_firing_rate(ax1[1])\n",
    "ax1[1].set_ylim(0, 40)\n",
    "ax1[1].set(xlim=timePeriod, xlabel='Time (s)')\n",
    "\n",
    "fig1.savefig('benEphys1Raster.pdf', transparent=True)"
   ]
  },
  {
   "cell_type": "code",
   "execution_count": 17,
   "metadata": {},
   "outputs": [
    {
     "data": {
      "text/plain": [
       "Text(0.5, 0.98, 'average FR in upstate for Exc: 3.87, Inh: 9.14, average upDur: 0.77, upFreq: 0.13')"
      ]
     },
     "execution_count": 17,
     "metadata": {},
     "output_type": "execute_result"
    }
   ],
   "source": [
    "fig1, ax1 = plt.subplots(6, 1, num=1, figsize=(16, 9),\n",
    "                         gridspec_kw={'height_ratios': [3, 1, 1, 1, 1, 1]},\n",
    "                         sharex=True)\n",
    "R.plot_spike_raster(ax1[0])  # uses RNG but with a separate random seed\n",
    "R.plot_firing_rate(ax1[1])\n",
    "ax1[1].set_ylim(0, 30)\n",
    "R.plot_voltage_detail(ax1[2], unitType='Exc', useStateInd=0)\n",
    "R.plot_updur_lines(ax1[2])\n",
    "R.plot_voltage_detail(ax1[3], unitType='Inh', useStateInd=0)\n",
    "R.plot_updur_lines(ax1[3])\n",
    "R.plot_voltage_detail(ax1[4], unitType='Exc', useStateInd=1)\n",
    "R.plot_updur_lines(ax1[4])\n",
    "if 'useSecondPopExc' in R.p and R.p['useSecondPopExc']:\n",
    "    R.plot_voltage_detail(ax1[5], unitType='Exc', useStateInd=2)\n",
    "    R.plot_updur_lines(ax1[5])\n",
    "ax1[5].set(xlabel='Time (s)')\n",
    "R.plot_voltage_histogram_sideways(ax1[2], 'Exc')\n",
    "R.plot_voltage_histogram_sideways(ax1[3], 'Inh')\n",
    "fig1.suptitle(infoStr)"
   ]
  },
  {
   "cell_type": "code",
   "execution_count": 46,
   "metadata": {},
   "outputs": [
    {
     "data": {
      "text/plain": [
       "Text(0.5, 0.98, 'classicJercogEphysBuonoBen1')"
      ]
     },
     "execution_count": 46,
     "metadata": {},
     "output_type": "execute_result"
    }
   ],
   "source": [
    "fig1, ax1 = plt.subplots(5, 1, num=1, figsize=(16, 9),\n",
    "                         gridspec_kw={'height_ratios': [3, 1, 1, 1, 1]},\n",
    "                         sharex=True)\n",
    "R.plot_spike_raster(ax1[0])  # uses RNG but with a separate random seed\n",
    "R.plot_firing_rate(ax1[1])\n",
    "ax1[1].set_ylim(0, 30)\n",
    "R.plot_voltage_detail(ax1[2], unitType='Exc', useStateInd=5)\n",
    "R.plot_voltage_detail(ax1[3], unitType='Inh', useStateInd=0)\n",
    "R.plot_voltage_detail(ax1[4], unitType='Exc', useStateInd=2, overrideColor='royalblue')\n",
    "R.plot_updur_lines(ax1[2])\n",
    "R.plot_updur_lines(ax1[3])\n",
    "R.plot_updur_lines(ax1[4])\n",
    "ax1[4].set(xlabel='Time (s)')\n",
    "R.plot_voltage_histogram_sideways(ax1[2], 'Exc')\n",
    "R.plot_voltage_histogram_sideways(ax1[3], 'Inh')\n",
    "R.plot_voltage_histogram_sideways(ax1[4], 'Exc')\n",
    "fig1.suptitle(R.p['simName'])"
   ]
  },
  {
   "cell_type": "code",
   "execution_count": 62,
   "metadata": {},
   "outputs": [],
   "source": [
    "R.calculate_voltage_histogram(removeMode=True, useAllRecordedUnits=False, useExcUnits=2)"
   ]
  },
  {
   "cell_type": "code",
   "execution_count": 13,
   "metadata": {},
   "outputs": [
    {
     "data": {
      "text/plain": [
       "[Text(0.5, 0, 'Voltage (mv)'), Text(0, 0.5, '# of occurences')]"
      ]
     },
     "execution_count": 13,
     "metadata": {},
     "output_type": "execute_result"
    }
   ],
   "source": [
    "f, ax = plt.subplots(figsize=(6, 4))\n",
    "# R.plot_voltage_histogram(ax)\n",
    "# ax.plot(R.voltageHistCenters, (R.voltageHistExc + R.voltageHistInh)/2)\n",
    "ax.plot(R.voltageHistCenters, R.voltageHistExc)\n",
    "ax.set(xlabel='Voltage (mv)', ylabel='# of occurences')"
   ]
  },
  {
   "cell_type": "code",
   "execution_count": 73,
   "metadata": {},
   "outputs": [],
   "source": [
    "R.calculate_upFR_units()"
   ]
  },
  {
   "cell_type": "markdown",
   "metadata": {},
   "source": [
    "# UP POISSON START HERE"
   ]
  },
  {
   "cell_type": "code",
   "execution_count": 18,
   "metadata": {},
   "outputs": [],
   "source": [
    "plt.close('all')"
   ]
  },
  {
   "cell_type": "code",
   "execution_count": 15,
   "metadata": {},
   "outputs": [
    {
     "name": "stdout",
     "output_type": "stream",
     "text": [
      "average FR in upstate for Exc: 3.22, Inh: 6.72, average upDur: 2.24, upFreq: 0.10\n"
     ]
    }
   ],
   "source": [
    "# targetFile = 'buonoEphysBen1_2000_0p25_upPoisson_resumePrior_rem10AddBackE1E1_2022-01-10-09-15-34_results'\n",
    "# targetFile = 'buonoEphysBen1_2000_0p25_upPoisson_resumePrior_rem15AddBackE1E1_2022-01-10-09-34-49_results'\n",
    "# targetFile = 'buonoEphysBen1_2000_0p25_upPoisson_resumePrior_rem20AddBackBoth_2022-01-10-09-17-27_results'\n",
    "targetFile = 'buonoEphysBen1_2000_0p25_upPoisson_resumePrior_rem20AddBackE1E1CompInh_2022-01-10-09-17-59_results'\n",
    "# targetFile = 'buonoEphysBen1_2000_0p25_upPoisson_resumePrior_rem20_2022-01-13-08-48-23_results'\n",
    "# targetFile = 'buonoEphysBen1_2000_0p25_upPoisson_resumePrior_rem10_2022-01-13-08-47-51_results'\n",
    "\n",
    "targetFolder = 'C:/Users/mikejseay/Documents/BrianResults/'\n",
    "R = Results()\n",
    "R.init_from_file(targetFile, targetFolder)\n",
    "R.calculate_PSTH()\n",
    "R.calculate_voltage_histogram(removeMode=True, removeReset=True, useAllRecordedUnits=False, useExcUnits=1)\n",
    "R.calculate_upstates()\n",
    "if len(R.ups) > 0:\n",
    "    R.reshape_upstates()\n",
    "    R.calculate_FR_in_upstates()\n",
    "    infoStr = 'average FR in upstate for Exc: {:.2f}, Inh: {:.2f}, average upDur: {:.2f}, upFreq: {:.2f}'.format(R.upstateFRExcHist.mean(), R.upstateFRInhHist.mean(), R.upDurs.mean(), R.ups.size / R.p['duration'] / Hz)\n",
    "    print(infoStr)\n",
    "\n",
    "R.calculate_voltage_histogram(useExcUnits=(2, 4,), useInhUnits=(0,))\n",
    "R.reshape_upstates()\n",
    "R.calculate_upFR_units()\n",
    "\n",
    "useTitle = targetFile.split('_')[-3]"
   ]
  },
  {
   "cell_type": "code",
   "execution_count": 16,
   "metadata": {},
   "outputs": [
    {
     "data": {
      "text/plain": [
       "Text(0.5, 0.98, 'rem20AddBackE1E1CompInh')"
      ]
     },
     "execution_count": 16,
     "metadata": {},
     "output_type": "execute_result"
    }
   ],
   "source": [
    "# voltage plot\n",
    "timePeriod = (0, 60)\n",
    "# timePeriod = (52, 60)\n",
    "# timePeriod = (48, 56)\n",
    "\n",
    "f, ax = plt.subplots(2, 1, figsize=(15, 5), sharex=True, sharey=True)\n",
    "R.plot_voltage_detail(ax[0], unitType='Exc', useStateInd=3)\n",
    "R.plot_voltage_detail(ax[1], unitType='Exc', useStateInd=2, overrideColor='royalblue')\n",
    "R.plot_updur_lines(ax[1])\n",
    "ax[1].set(xlim=timePeriod, xlabel='Time (s)')\n",
    "f.suptitle(useTitle)"
   ]
  },
  {
   "cell_type": "code",
   "execution_count": 17,
   "metadata": {},
   "outputs": [
    {
     "name": "stdout",
     "output_type": "stream",
     "text": [
      "3.5564272641881756 2.103259566073299 3.822224269802127 8.392053105307426\n",
      "0.3483277629663283 0.388311043120522 0.388311043120522 1.0338862338332888\n"
     ]
    },
    {
     "data": {
      "text/plain": [
       "Text(0.5, 1.0, 'rem20AddBackE1E1CompInh')"
      ]
     },
     "execution_count": 17,
     "metadata": {},
     "output_type": "execute_result"
    }
   ],
   "source": [
    "# violin plot\n",
    "\n",
    "frInp = R.upstateFRExcUnits[:, :R.p['nUnitsToSpike']].mean(0)  # input pop\n",
    "frEx2 = R.upstateFRExcUnits[:, R.p['nUnitsToSpike']:(R.p['nUnitsToSpike'] + R.p['nUnitsSecondPopExc'])].mean(0)  # secondary pop\n",
    "frEx1 = R.upstateFRExcUnits[:, (R.p['nUnitsToSpike'] + R.p['nUnitsSecondPopExc']):].mean(0)  # normal pop\n",
    "frInh = R.upstateFRInhUnits.mean(0)\n",
    "\n",
    "frInpHat = frInp.mean()\n",
    "frEx2Hat = frEx2.mean()\n",
    "frEx1Hat = frEx1.mean()\n",
    "frInhHat = frInh.mean()\n",
    "\n",
    "frInpSTD = frInp.std()\n",
    "frEx2STD = frEx1.std()\n",
    "frEx1STD = frEx1.std()\n",
    "frInhSTD = frInh.std()\n",
    "\n",
    "print(frInpHat, frEx2Hat, frEx1Hat, frInhHat, )\n",
    "print(frInpSTD, frEx2STD, frEx1STD, frInhSTD, )\n",
    "\n",
    "frInpDF = pd.DataFrame(frInp, columns=('FR',))\n",
    "frEx2DF = pd.DataFrame(frEx2, columns=('FR',))\n",
    "frEx1DF = pd.DataFrame(frEx1, columns=('FR',))\n",
    "frInhDF = pd.DataFrame(frInh, columns=('FR',))\n",
    "\n",
    "frInpDF['unitType'] = 'Inp'\n",
    "frEx2DF['unitType'] = 'Ex2'\n",
    "frEx1DF['unitType'] = 'Ex1'\n",
    "frInhDF['unitType'] = 'Inh'\n",
    "\n",
    "frDF = pd.concat((frInpDF, frEx2DF, frEx1DF, frInhDF, ))\n",
    "\n",
    "frEx1C = R.upstateFRExcUnits[:, (R.p['nUnitsToSpike'] + R.p['nUnitsSecondPopExc']):].mean(0)  # normal pop\n",
    "frEx1CHat = frEx1C.mean()\n",
    "frEx1CSTD = frEx1C.std()\n",
    "frEx1CDF = pd.DataFrame(frEx1C, columns=('FR',))\n",
    "frEx1CDF['unitType'] = 'Ex1C'\n",
    "\n",
    "frDF = pd.concat((frInpDF, frEx2DF, frEx1DF, frInhDF, frEx1CDF))\n",
    "\n",
    "colors = [\"#00FFFF\", \"#4E69B2\"]\n",
    "customPalette = sns.set_palette(sns.color_palette(colors))\n",
    "\n",
    "f, ax = plt.subplots(figsize=(3.25, 4))\n",
    "# sns.violinplot(x='unitType', y='FR', data=frDF, width=.6, palette=customPalette, order=('Ex1C', 'Ex1', 'Ex2'))\n",
    "sns.violinplot(x='unitType', y='FR', data=frDF, width=.6, palette=customPalette, order=('Ex1', 'Ex2'))\n",
    "# sns.stripplot(x=\"unitType\", y=\"FR\", data=frDF, size=4, color=\".3\", linewidth=0)\n",
    "# f.savefig('benEphys3Violin.pdf', transparent=True)\n",
    "ax.set_title(useTitle)"
   ]
  },
  {
   "cell_type": "code",
   "execution_count": 7,
   "metadata": {
    "scrolled": true
   },
   "outputs": [
    {
     "name": "stderr",
     "output_type": "stream",
     "text": [
      "WARNING    C:\\Users\\mikejseay\\anaconda3\\lib\\site-packages\\seaborn\\categorical.py:1296: UserWarning: 8.9% of the points cannot be placed; you may want to decrease the size of the markers or use stripplot.\n",
      "  warnings.warn(msg, UserWarning)\n",
      " [py.warnings]\n"
     ]
    },
    {
     "data": {
      "text/plain": [
       "<AxesSubplot:title={'center':'rem20'}, xlabel='unitType', ylabel='FR'>"
      ]
     },
     "execution_count": 7,
     "metadata": {},
     "output_type": "execute_result"
    }
   ],
   "source": [
    "sns.swarmplot(x='unitType', y='FR', size=1.5, color='k', data=frDF, order=('Ex1', 'Ex2'))"
   ]
  },
  {
   "cell_type": "code",
   "execution_count": 64,
   "metadata": {
    "scrolled": true
   },
   "outputs": [
    {
     "data": {
      "text/plain": [
       "<matplotlib.axes._subplots.AxesSubplot at 0x25d6a0c4788>"
      ]
     },
     "execution_count": 64,
     "metadata": {},
     "output_type": "execute_result"
    }
   ],
   "source": [
    "f, ax = plt.subplots()\n",
    "sns.boxplot(x='unitType', y='FR', data=frDF, width=.6, order=('Ex1', 'Ex2'), palette=customPalette)\n",
    "# sns.stripplot(x=\"unitType\", y=\"FR\", data=frDF, size=4, color=\".3\", linewidth=0)"
   ]
  },
  {
   "cell_type": "code",
   "execution_count": 63,
   "metadata": {
    "scrolled": true
   },
   "outputs": [
    {
     "data": {
      "text/plain": [
       "<matplotlib.axes._subplots.AxesSubplot at 0x25d685f0148>"
      ]
     },
     "execution_count": 63,
     "metadata": {},
     "output_type": "execute_result"
    }
   ],
   "source": [
    "sns.stripplot(x='unitType', y='FR', size=1.5, color='k', data=frDF, order=('Ex1', 'Ex2'))"
   ]
  },
  {
   "cell_type": "code",
   "execution_count": null,
   "metadata": {},
   "outputs": [],
   "source": []
  },
  {
   "cell_type": "code",
   "execution_count": 2,
   "metadata": {},
   "outputs": [],
   "source": []
  },
  {
   "cell_type": "code",
   "execution_count": 172,
   "metadata": {},
   "outputs": [],
   "source": [
    "# 1-2 vs 2-3\n",
    "# paradoxControlFrDF = pd.read_csv('C:/Users/mikejseay/PycharmProjects/spiking-upstates/paradox_control_results1.csv').set_index('trialIndex')\n",
    "# paradoxExperimentFrDF = pd.read_csv('C:/Users/mikejseay/PycharmProjects/spiking-upstates/paradox_experiment_results1.csv').set_index('trialIndex')\n",
    "\n",
    "# 2-3 vs 3-4\n",
    "# paradoxControlFrDF = pd.read_csv('C:/Users/mikejseay/PycharmProjects/spiking-upstates/control_results2.csv').set_index('trialIndex')\n",
    "# paradoxExperimentFrDF = pd.read_csv('C:/Users/mikejseay/PycharmProjects/spiking-upstates/experiment_results2.csv').set_index('trialIndex')\n",
    "\n",
    "# 3-4 vs 4-5\n",
    "# paradoxControlFrDF = pd.read_csv('C:/Users/mikejseay/PycharmProjects/spiking-upstates/control_4s_results.csv').set_index('trialIndex')\n",
    "# paradoxExperimentFrDF = pd.read_csv('C:/Users/mikejseay/PycharmProjects/spiking-upstates/experimental_4s_results.csv').set_index('trialIndex')\n",
    "# paradoxControlFrDF = paradoxControlFrDF.replace('3-4 s', '4-5 s').replace('2-3 s', '3-4 s')\n",
    "# paradoxExperimentFrDF = paradoxExperimentFrDF.replace('3-4 s', '4-5 s').replace('2-3 s', '3-4 s')\n",
    "\n",
    "# comparison = 2-3, experiment = 3-4\n",
    "FrDF = pd.read_csv('C:/Users/mikejseay/PycharmProjects/spiking-upstates/multiMeta1_results.csv').set_index('trialIndex')"
   ]
  },
  {
   "cell_type": "code",
   "execution_count": 173,
   "metadata": {},
   "outputs": [],
   "source": [
    "paradoxControlFrDF = FrDF[FrDF['currentAmplitude'] == '0. A']\n",
    "paradoxExperimentFrDF = FrDF[FrDF['currentAmplitude'] == '6. pA']"
   ]
  },
  {
   "cell_type": "code",
   "execution_count": 174,
   "metadata": {},
   "outputs": [],
   "source": [
    "# paradoxControlFrDF['Current Amplitude (nA)'] = '0 pA'\n",
    "# paradoxExperimentFrDF['Current Amplitude (nA)'] = '8 pA'"
   ]
  },
  {
   "cell_type": "code",
   "execution_count": 175,
   "metadata": {},
   "outputs": [
    {
     "name": "stdout",
     "output_type": "stream",
     "text": [
      "{3, 5, 7}\n"
     ]
    }
   ],
   "source": [
    "outlyingIndicesControl = outlying(paradoxControlFrDF['FR'][:30], sd_thresh=2.5)\n",
    "outlyingIndicesExperiment = outlying(paradoxExperimentFrDF['FR'][:30], sd_thresh=2.5)\n",
    "\n",
    "outlyingIndices = set(np.concatenate((np.where(outlyingIndicesControl)[0], np.where(outlyingIndicesExperiment)[0])))\n",
    "\n",
    "print(outlyingIndices)\n",
    "\n",
    "paradoxControlFrDF2 = paradoxControlFrDF.drop(outlyingIndices)\n",
    "paradoxExperimentFrDF2 = paradoxExperimentFrDF.drop(outlyingIndices)\n",
    "\n",
    "paradoxDF = pd.concat((paradoxControlFrDF2, paradoxExperimentFrDF2))\n",
    "\n",
    "paradoxDFEx = paradoxDF[paradoxDF['unitType'] == 'Ex']\n",
    "paradoxDFInh = paradoxDF[paradoxDF['unitType'] == 'Inh']"
   ]
  },
  {
   "cell_type": "code",
   "execution_count": 176,
   "metadata": {},
   "outputs": [
    {
     "name": "stdout",
     "output_type": "stream",
     "text": [
      "{3, 5, 7}\n"
     ]
    }
   ],
   "source": [
    "print(outlyingIndices)"
   ]
  },
  {
   "cell_type": "code",
   "execution_count": 180,
   "metadata": {},
   "outputs": [],
   "source": [
    "paradoxControlFrDF2 = paradoxControlFrDF.drop(outlyingIndices)\n",
    "paradoxExperimentFrDF2 = paradoxExperimentFrDF.drop(outlyingIndices)\n",
    "\n",
    "paradoxDF = pd.concat((paradoxControlFrDF2, paradoxExperimentFrDF2))\n",
    "\n",
    "paradoxDFEx = paradoxDF[paradoxDF['unitType'] == 'Ex']\n",
    "paradoxDFInh = paradoxDF[paradoxDF['unitType'] == 'Inh']"
   ]
  },
  {
   "cell_type": "code",
   "execution_count": 220,
   "metadata": {},
   "outputs": [],
   "source": [
    "# colors = [\"#00FFFF\", \"#4E69B2\"]\n",
    "# customPalette = sns.set_palette(sns.color_palette(colors))\n",
    "\n",
    "useDF = paradoxDFInh\n",
    "# level1 = 'currentAmplitude'\n",
    "# level2 = 'timePeriod'\n",
    "# level2order = ('2-3 s', '3-4 s')\n",
    "level1 = 'timePeriod'\n",
    "level2 = 'currentAmplitude'\n",
    "level2order = useDF[level2].unique()\n",
    "dvName = 'FR'\n",
    "xValues = ([-0.25, 0.25], [0.75, 1.25])\n",
    "\n",
    "# Draw a nested barplot by species and sex\n",
    "g = sns.catplot(\n",
    "#     data=paradoxDFEx,\n",
    "    data=useDF,\n",
    "    kind=\"box\",\n",
    "    x=level1, y=dvName, hue=level2,\n",
    "    hue_order=level2order,\n",
    "    # col='unitType', palette=customPalette,\n",
    ")\n",
    "g.despine(left=True)\n",
    "g.set_axis_labels('Current Amplitude (pA)', \"Firing Rate (Hz)\")\n",
    "g.fig.subplots_adjust(top=0.85)\n",
    "g.fig.suptitle('Firing Rate during Up state prior to (2-3 s)\\n and during (3-4 s) current injection')\n",
    "g.legend.set_title(level2)\n",
    "yMin, yMax = g.ax.get_ylim()\n",
    "g.set(ylim=(np.floor(yMax / 2), yMax))\n",
    "\n",
    "# try to superimpose the lines\n",
    "# reshape the data\n",
    "\n",
    "for level1Ind, level1Value in enumerate(useDF[level1].unique()):\n",
    "    statsDF = useDF[useDF[level1] == level1Value]\n",
    "    statsDF1 = statsDF[statsDF[level2] == level2order[0]]\n",
    "    statsDF2 = statsDF[statsDF[level2] == level2order[1]]\n",
    "    t, p = ttest_rel(statsDF1[dvName].values, statsDF2[dvName].values)\n",
    "    statsText = 't = {:.2f}, -log10(p) = {:.2f}'.format(t, -np.log10(p))\n",
    "    g.ax.text(level1Ind - 0.4, yMin + 1 - 2 * level1Ind, statsText)\n",
    "    seriesLst = []\n",
    "    for level2Value in level2order:\n",
    "        boolSelection = (useDF[level1] == level1Value) & (useDF[level2] == level2Value)\n",
    "        seriesLst.append(useDF[dvName][boolSelection].values.reshape(-1, 1))\n",
    "    pairedArray = np.concatenate(seriesLst, 1)\n",
    "    g.ax.plot(np.array(xValues[level1Ind]).reshape(-1, 1), pairedArray.T, color='k', lw=0.4, alpha=0.4)"
   ]
  },
  {
   "cell_type": "code",
   "execution_count": null,
   "metadata": {},
   "outputs": [],
   "source": []
  },
  {
   "cell_type": "code",
   "execution_count": null,
   "metadata": {},
   "outputs": [],
   "source": []
  },
  {
   "cell_type": "code",
   "execution_count": 135,
   "metadata": {},
   "outputs": [],
   "source": [
    "colors = [\"#00FFFF\", \"#4E69B2\"]\n",
    "customPalette = sns.set_palette(sns.color_palette(colors))\n",
    "\n",
    "# Draw a nested barplot by species and sex\n",
    "g = sns.catplot(\n",
    "    data=paradoxDFInh, kind=\"violin\",\n",
    "    x=\"timePeriod\", y=\"FR\", hue=\"Current Amplitude (nA)\", # col='unitType',\n",
    "    palette=customPalette\n",
    ")\n",
    "g.despine(left=True)\n",
    "g.set_axis_labels(\"Time Period\", \"Firing Rate (Hz)\")\n",
    "g.fig.subplots_adjust(top=0.85)\n",
    "g.fig.suptitle('Firing Rate during Up state when Inh units receive current\\ninjection (1-2 s) and afterward in its absence (2-3 s)')\n",
    "g.legend.set_title(\"\")"
   ]
  },
  {
   "cell_type": "code",
   "execution_count": null,
   "metadata": {},
   "outputs": [],
   "source": []
  },
  {
   "cell_type": "code",
   "execution_count": 36,
   "metadata": {},
   "outputs": [],
   "source": [
    "plt.close('all')"
   ]
  },
  {
   "cell_type": "markdown",
   "metadata": {},
   "source": [
    "### PSTH analysis of paradoxical effect"
   ]
  },
  {
   "cell_type": "code",
   "execution_count": 3,
   "metadata": {},
   "outputs": [],
   "source": [
    "fontProp = fm.FontProperties(fname='C:\\\\Users\\\\mikejseay\\\\anaconda3\\\\Lib\\\\site-packages\\\\matplotlib\\\\mpl-data\\\\fonts\\\\otf\\\\MYRIADPRO-REGULAR.otf')\n",
    "fontProp.set_size(18)"
   ]
  },
  {
   "cell_type": "code",
   "execution_count": 4,
   "metadata": {},
   "outputs": [],
   "source": [
    "import matplotlib\n",
    "matplotlib.rcParams.update({'font.size': 14})"
   ]
  },
  {
   "cell_type": "code",
   "execution_count": 5,
   "metadata": {},
   "outputs": [],
   "source": [
    "class Results(object): pass"
   ]
  },
  {
   "cell_type": "code",
   "execution_count": 6,
   "metadata": {},
   "outputs": [
    {
     "name": "stdout",
     "output_type": "stream",
     "text": [
      "[ 0.  4.  8. 12. 16. 20. 24. 28. 32.]\n"
     ]
    }
   ],
   "source": [
    "loadPath = 'C:/Users/mikejseay/PycharmProjects/spiking-upstates/results/multiMeta1L_PSTH.npz'  # up state regime\n",
    "# loadPath = 'C:/Users/mikejseay/PycharmProjects/spiking-upstates/results/multiMetaHyp1_PSTH.npz'  # up state regime - high currents\n",
    "# loadPath = 'C:/Users/mikejseay/PycharmProjects/spiking-upstates/results/multiMetaHigh1_PSTH.npz'  # up state regime - hyperpolarize I units\n",
    "# loadPath = 'C:/Users/mikejseay/PycharmProjects/spiking-upstates/results/multiMetaDestexheAI3_PSTH.npz'  # AI regime - Destexhe\n",
    "# loadPath = 'C:/Users/mikejseay/PycharmProjects/spiking-upstates/results/multiMetaAI4_PSTH.npz'  # AI regime - Jercog\n",
    "# loadPath = 'C:/Users/mikejseay/PycharmProjects/spiking-upstates/results/multiMetaUpWeightsPoissonInput1_PSTH.npz'  # AI protocol, up state weights\n",
    "\n",
    "\n",
    "npzObject = np.load(loadPath, allow_pickle=True)\n",
    "R = Results()\n",
    "for savedObjectName in npzObject.files:\n",
    "    setattr(R, savedObjectName, npzObject[savedObjectName])\n",
    "\n",
    "print(R.currentValues * 1e12)"
   ]
  },
  {
   "cell_type": "code",
   "execution_count": 7,
   "metadata": {},
   "outputs": [],
   "source": [
    "timeVector = np.arange(0, 5.1, 0.01)[:-1]\n",
    "histCenters = timeVector + (timeVector[1] - timeVector[0]) / 2\n",
    "\n",
    "# check for outliers in the FR\n",
    "# cut off is 2 Hz for Exc and 6 Hz for Inh\n",
    "\n",
    "REMOVE_OUTLIERS = False\n",
    "PLOT_FAILURES = False\n",
    "\n",
    "paraStartTime = 3\n",
    "paraEndTime = 4\n",
    "paraStartInd = np.argmin(np.abs(histCenters - paraStartTime))\n",
    "paraEndInd = np.argmin(np.abs(histCenters - paraEndTime))\n",
    "\n",
    "paraPeriodTrialMeansExc = R.PSTHExc[:, :, paraStartInd:paraEndInd].mean(2)\n",
    "paraPeriodTrialMeansInh = R.PSTHInh[:, :, paraStartInd:paraEndInd].mean(2)\n",
    "\n",
    "paraPeriodTrialMeansExcNoFailures = paraPeriodTrialMeansExc.copy()\n",
    "paraPeriodTrialMeansInhNoFailures = paraPeriodTrialMeansInh.copy()\n",
    "\n",
    "if REMOVE_OUTLIERS:\n",
    "    paraPeriodTrialMeansExcNoFailures[paraPeriodTrialMeansExc < 2] = np.nan\n",
    "    paraPeriodTrialMeansInhNoFailures[paraPeriodTrialMeansInh < 6] = np.nan\n",
    "\n",
    "# paraPeriodMeansExc = R.PSTHExc[:, :, paraStartInd:paraEndInd].mean((1, 2))\n",
    "# paraPeriodMeansInh = R.PSTHInh[:, :, paraStartInd:paraEndInd].mean((1, 2))\n",
    "\n",
    "paraPeriodMeansExc = np.nanmean(paraPeriodTrialMeansExcNoFailures, 1)\n",
    "paraPeriodMeansInh = np.nanmean(paraPeriodTrialMeansInhNoFailures, 1)\n",
    "paraPeriodSTDsExc = np.nanstd(paraPeriodTrialMeansExcNoFailures, 1)\n",
    "paraPeriodSTDsInh = np.nanstd(paraPeriodTrialMeansInhNoFailures, 1)"
   ]
  },
  {
   "cell_type": "code",
   "execution_count": 15,
   "metadata": {},
   "outputs": [],
   "source": [
    "# FR in the stim period as a function of current with outliers removed\n",
    "\n",
    "fontProp.set_size(20)\n",
    "removeFrame = True\n",
    "doSave = True\n",
    "\n",
    "f, ax = plt.subplots(1, 2, sharey=True, figsize=(9, 4))\n",
    "\n",
    "ax[0].plot(R.currentValues * 1e12, paraPeriodMeansExc, color='green')\n",
    "ax[1].plot(R.currentValues * 1e12, paraPeriodMeansInh, color='red')\n",
    "\n",
    "ax[0].fill_between(R.currentValues * 1e12, paraPeriodMeansExc - paraPeriodSTDsExc, paraPeriodMeansExc + paraPeriodSTDsExc,\n",
    "               alpha=0.5, color='green')\n",
    "ax[1].fill_between(R.currentValues * 1e12, paraPeriodMeansInh - paraPeriodSTDsInh, paraPeriodMeansInh + paraPeriodSTDsInh,\n",
    "               alpha=0.5, color='red')\n",
    "\n",
    "ax[0].set_xlabel('Current Applied (pA)', fontproperties=fontProp)\n",
    "ax[0].set_ylabel('FR from 3-4 s (Hz)', fontproperties=fontProp)\n",
    "ax[1].set_xlabel('Current Applied (pA)', fontproperties=fontProp)\n",
    "\n",
    "f.subplots_adjust(left=0.1, bottom=0.15, right=0.95, top=0.95)\n",
    "\n",
    "if removeFrame:\n",
    "    for axr in ax:\n",
    "        axr.spines['top'].set_visible(False)\n",
    "        axr.spines['right'].set_visible(False)\n",
    "\n",
    "if doSave:\n",
    "    saveFileName = 'figs/paradoxAvgFR.pdf'\n",
    "    f.savefig(saveFileName, transparent=True)"
   ]
  },
  {
   "cell_type": "code",
   "execution_count": 8,
   "metadata": {},
   "outputs": [],
   "source": [
    "# number of failures per thing\n",
    "outlierPSTHExc = paraPeriodTrialMeansExc < 2\n",
    "outlierPSTHInh = paraPeriodTrialMeansInh < 6\n",
    "\n",
    "if PLOT_FAILURES:\n",
    "    f, ax = plt.subplots()\n",
    "    ax.plot(R.currentValues * 1e12, outlierPSTHExc.sum(1) / 30, color='cyan')\n",
    "    ax.plot(R.currentValues * 1e12, outlierPSTHInh.sum(1) / 30, color='red')\n",
    "    ax.set(xlabel='Current Applied (pA)', ylabel='Proportion of up states ended')\n",
    "\n",
    "PSTHExcOutNan = R.PSTHExc.copy()\n",
    "PSTHExcOutNan[outlierPSTHExc, :] = np.nan\n",
    "\n",
    "PSTHInhOutNan = R.PSTHInh.copy()\n",
    "PSTHInhOutNan[outlierPSTHInh, :] = np.nan"
   ]
  },
  {
   "cell_type": "code",
   "execution_count": 17,
   "metadata": {},
   "outputs": [],
   "source": [
    "# average PSTH, no outliers removed\n",
    "\n",
    "fontProp.set_size(18)\n",
    "removeFrame = True\n",
    "doSave = True\n",
    "spaceCurrentValues = 2\n",
    "movAvgWidth = 3\n",
    "movAvgAdj = int(movAvgWidth / 2)\n",
    "\n",
    "f, ax = plt.subplots(1, 2, sharex=True, figsize=(10.5, 4.5))\n",
    "\n",
    "nCurrentValues = len(R.currentValues)\n",
    "redColors = plt.cm.Reds(np.linspace(0, 1, nCurrentValues + 3))\n",
    "blueColors = plt.cm.Greens(np.linspace(0, 1, nCurrentValues + 3))\n",
    "\n",
    "useCurrentValues = range(0, 9, spaceCurrentValues)\n",
    "\n",
    "for currentValueInd in useCurrentValues:\n",
    "    currentValue = R.currentValues[currentValueInd]\n",
    "    useLabel = str(int(currentValue * 1e12)) + ' pA'\n",
    "    xVals = timeVector\n",
    "    yValsExc = R.PSTHExc.mean(1)[currentValueInd, :]\n",
    "    yValsInh = R.PSTHInh.mean(1)[currentValueInd, :]\n",
    "#     xVals = timeVector[movAvgAdj:-movAvgAdj]\n",
    "#     yValsExc = moving_average(R.PSTHExc.mean(1)[currentValueInd, :], movAvgWidth)\n",
    "#     yValsInh = moving_average(R.PSTHInh.mean(1)[currentValueInd, :], movAvgWidth)\n",
    "    ax[0].plot(xVals, yValsExc, label=useLabel, color=blueColors[currentValueInd + 3])\n",
    "    ax[1].plot(xVals, yValsInh, label=useLabel, color=redColors[currentValueInd + 3])\n",
    "\n",
    "ax[0].legend(loc='upper right', frameon=False, prop=fontProp)\n",
    "ax[1].legend(loc='upper right', frameon=False, prop=fontProp)\n",
    "\n",
    "# ax[0].set(xlabel='Time (s)', ylabel='E FR (Hz)', ylim=(0, 9))\n",
    "# ax[1].set(xlabel='Time (s)', ylabel='I FR (Hz)', ylim=(0, 24))\n",
    "\n",
    "ax[0].set_xlabel('Time (s)', fontproperties=fontProp)\n",
    "ax[0].set_ylabel('E FR (Hz)', fontproperties=fontProp)\n",
    "ax[0].set_ylim(0, 17)\n",
    "\n",
    "ax[1].set_xlabel('Time (s)', fontproperties=fontProp)\n",
    "ax[1].set_ylabel('I FR (Hz)', fontproperties=fontProp)\n",
    "ax[1].set_ylim(0, 35)\n",
    "\n",
    "for axr in ax:  # christ\n",
    "    for xtl in axr.get_xticklabels():\n",
    "        xtl.set_fontproperties(fontProp)\n",
    "    for ytl in axr.get_yticklabels():\n",
    "        ytl.set_fontproperties(fontProp)\n",
    "\n",
    "if removeFrame:\n",
    "    for axr in ax:\n",
    "        axr.spines['top'].set_visible(False)\n",
    "        axr.spines['right'].set_visible(False)\n",
    "        \n",
    "f.subplots_adjust(left=0.1, bottom=0.15, right=0.95, top=0.95)\n",
    "# ax[0].vlines(3, *ax[0].get_ylim(), color='k', ls='--', lw=1)\n",
    "# ax[1].vlines(3, *ax[1].get_ylim(), color='k', ls='--', lw=1)\n",
    "if doSave:\n",
    "    saveFileName = 'figs/paradoxPSTHs.pdf'\n",
    "    f.savefig(saveFileName, transparent=True)"
   ]
  },
  {
   "cell_type": "code",
   "execution_count": null,
   "metadata": {},
   "outputs": [],
   "source": []
  },
  {
   "cell_type": "code",
   "execution_count": null,
   "metadata": {},
   "outputs": [],
   "source": []
  },
  {
   "cell_type": "code",
   "execution_count": 11,
   "metadata": {},
   "outputs": [
    {
     "name": "stderr",
     "output_type": "stream",
     "text": [
      "WARNING    C:\\Users\\mikejseay\\anaconda3\\lib\\site-packages\\ipykernel_launcher.py:11: RuntimeWarning: Mean of empty slice\n",
      "  # This is added back by InteractiveShellApp.init_path()\n",
      " [py.warnings]\n",
      "WARNING    C:\\Users\\mikejseay\\anaconda3\\lib\\site-packages\\ipykernel_launcher.py:12: RuntimeWarning: Mean of empty slice\n",
      "  if sys.path[0] == '':\n",
      " [py.warnings]\n",
      "WARNING    C:\\Users\\mikejseay\\anaconda3\\lib\\site-packages\\ipykernel_launcher.py:11: RuntimeWarning: Mean of empty slice\n",
      "  # This is added back by InteractiveShellApp.init_path()\n",
      " [py.warnings]\n",
      "WARNING    C:\\Users\\mikejseay\\anaconda3\\lib\\site-packages\\ipykernel_launcher.py:12: RuntimeWarning: Mean of empty slice\n",
      "  if sys.path[0] == '':\n",
      " [py.warnings]\n",
      "WARNING    C:\\Users\\mikejseay\\anaconda3\\lib\\site-packages\\ipykernel_launcher.py:11: RuntimeWarning: Mean of empty slice\n",
      "  # This is added back by InteractiveShellApp.init_path()\n",
      " [py.warnings]\n",
      "WARNING    C:\\Users\\mikejseay\\anaconda3\\lib\\site-packages\\ipykernel_launcher.py:12: RuntimeWarning: Mean of empty slice\n",
      "  if sys.path[0] == '':\n",
      " [py.warnings]\n",
      "WARNING    C:\\Users\\mikejseay\\anaconda3\\lib\\site-packages\\ipykernel_launcher.py:11: RuntimeWarning: Mean of empty slice\n",
      "  # This is added back by InteractiveShellApp.init_path()\n",
      " [py.warnings]\n",
      "WARNING    C:\\Users\\mikejseay\\anaconda3\\lib\\site-packages\\ipykernel_launcher.py:12: RuntimeWarning: Mean of empty slice\n",
      "  if sys.path[0] == '':\n",
      " [py.warnings]\n",
      "WARNING    C:\\Users\\mikejseay\\anaconda3\\lib\\site-packages\\ipykernel_launcher.py:11: RuntimeWarning: Mean of empty slice\n",
      "  # This is added back by InteractiveShellApp.init_path()\n",
      " [py.warnings]\n",
      "WARNING    C:\\Users\\mikejseay\\anaconda3\\lib\\site-packages\\ipykernel_launcher.py:12: RuntimeWarning: Mean of empty slice\n",
      "  if sys.path[0] == '':\n",
      " [py.warnings]\n",
      "WARNING    C:\\Users\\mikejseay\\anaconda3\\lib\\site-packages\\ipykernel_launcher.py:11: RuntimeWarning: Mean of empty slice\n",
      "  # This is added back by InteractiveShellApp.init_path()\n",
      " [py.warnings]\n",
      "WARNING    C:\\Users\\mikejseay\\anaconda3\\lib\\site-packages\\ipykernel_launcher.py:12: RuntimeWarning: Mean of empty slice\n",
      "  if sys.path[0] == '':\n",
      " [py.warnings]\n",
      "WARNING    C:\\Users\\mikejseay\\anaconda3\\lib\\site-packages\\ipykernel_launcher.py:11: RuntimeWarning: Mean of empty slice\n",
      "  # This is added back by InteractiveShellApp.init_path()\n",
      " [py.warnings]\n",
      "WARNING    C:\\Users\\mikejseay\\anaconda3\\lib\\site-packages\\ipykernel_launcher.py:12: RuntimeWarning: Mean of empty slice\n",
      "  if sys.path[0] == '':\n",
      " [py.warnings]\n",
      "WARNING    C:\\Users\\mikejseay\\anaconda3\\lib\\site-packages\\ipykernel_launcher.py:11: RuntimeWarning: Mean of empty slice\n",
      "  # This is added back by InteractiveShellApp.init_path()\n",
      " [py.warnings]\n",
      "WARNING    C:\\Users\\mikejseay\\anaconda3\\lib\\site-packages\\ipykernel_launcher.py:12: RuntimeWarning: Mean of empty slice\n",
      "  if sys.path[0] == '':\n",
      " [py.warnings]\n",
      "WARNING    C:\\Users\\mikejseay\\anaconda3\\lib\\site-packages\\ipykernel_launcher.py:11: RuntimeWarning: Mean of empty slice\n",
      "  # This is added back by InteractiveShellApp.init_path()\n",
      " [py.warnings]\n",
      "WARNING    C:\\Users\\mikejseay\\anaconda3\\lib\\site-packages\\ipykernel_launcher.py:12: RuntimeWarning: Mean of empty slice\n",
      "  if sys.path[0] == '':\n",
      " [py.warnings]\n"
     ]
    }
   ],
   "source": [
    "# average PSTH, outliers removed\n",
    "\n",
    "f, ax = plt.subplots(2, 1, sharex=True, figsize=(7, 9))\n",
    "\n",
    "movAvgWidth = 3\n",
    "movAvgAdj = int(movAvgWidth / 2)\n",
    "\n",
    "for currentValueInd, currentValue in enumerate(R.currentValues):\n",
    "    useLabel = str(int(currentValue * 1e12)) + ' pA'\n",
    "    xVals = timeVector\n",
    "    yValsExc = np.nanmean(PSTHExcOutNan, 1)[currentValueInd, :]\n",
    "    yValsInh = np.nanmean(PSTHInhOutNan, 1)[currentValueInd, :]\n",
    "#     xVals = timeVector[movAvgAdj:-movAvgAdj]\n",
    "#     yValsExc = moving_average(R.PSTHExc.mean(1)[currentValueInd, :], movAvgWidth)\n",
    "#     yValsInh = moving_average(R.PSTHInh.mean(1)[currentValueInd, :], movAvgWidth)\n",
    "    ax[0].plot(xVals, yValsExc, label=useLabel)\n",
    "    ax[1].plot(xVals, yValsInh, label=useLabel)\n",
    "\n",
    "    ax[0].set(ylabel='E FR (Hz)', ylim=(0, 9))\n",
    "    ax[0].legend(loc='lower left')\n",
    "    ax[1].set(xlabel='Time (s)', ylabel='I FR (Hz)', ylim=(0, 24))\n",
    "# ax[0].vlines(3, *ax[0].get_ylim(), color='k', ls='--', lw=1)\n",
    "# ax[1].vlines(3, *ax[1].get_ylim(), color='k', ls='--', lw=1)"
   ]
  },
  {
   "cell_type": "code",
   "execution_count": 212,
   "metadata": {},
   "outputs": [],
   "source": [
    "anax = ax[0]"
   ]
  },
  {
   "cell_type": "code",
   "execution_count": 50,
   "metadata": {},
   "outputs": [
    {
     "data": {
      "text/plain": [
       "(0.0, 7.0)"
      ]
     },
     "execution_count": 50,
     "metadata": {},
     "output_type": "execute_result"
    }
   ],
   "source": [
    "anax.get_ylim()"
   ]
  },
  {
   "cell_type": "code",
   "execution_count": null,
   "metadata": {},
   "outputs": [],
   "source": [
    "anax.legend()"
   ]
  },
  {
   "cell_type": "code",
   "execution_count": null,
   "metadata": {},
   "outputs": [],
   "source": []
  },
  {
   "cell_type": "code",
   "execution_count": 22,
   "metadata": {},
   "outputs": [
    {
     "name": "stdout",
     "output_type": "stream",
     "text": [
      "1997 83 640 532\n"
     ]
    }
   ],
   "source": [
    "# get the QTCore PyRect object\n",
    "geom = mngr.window.geometry()\n",
    "\n",
    "x,y,dx,dy = geom.getRect()\n",
    "\n",
    "print(x,y,dx,dy)"
   ]
  },
  {
   "cell_type": "code",
   "execution_count": null,
   "metadata": {},
   "outputs": [],
   "source": [
    "mngr = plt.get_current_fig_manager()\n",
    "# to put it into the upper left corner for example:\n",
    "# mngr.window.setGeometry(50,100,640, 545)\n",
    "targetFile = ''"
   ]
  }
 ],
 "metadata": {
  "kernelspec": {
   "display_name": "Python 3",
   "language": "python",
   "name": "python3"
  },
  "language_info": {
   "codemirror_mode": {
    "name": "ipython",
    "version": 3
   },
   "file_extension": ".py",
   "mimetype": "text/x-python",
   "name": "python",
   "nbconvert_exporter": "python",
   "pygments_lexer": "ipython3",
   "version": "3.7.6"
  }
 },
 "nbformat": 4,
 "nbformat_minor": 4
}

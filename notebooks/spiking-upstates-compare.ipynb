{
 "cells": [
  {
   "cell_type": "code",
   "execution_count": 1,
   "metadata": {
    "scrolled": false
   },
   "outputs": [
    {
     "name": "stdout",
     "output_type": "stream",
     "text": [
      "Using matplotlib backend: Qt5Agg\n"
     ]
    },
    {
     "name": "stderr",
     "output_type": "stream",
     "text": [
      "INFO       Cache size for target \"cython\": 11959 MB.\n",
      "You can call \"clear_cache('cython')\" to delete all files from the cache or manually delete files in the \"C:\\Users\\mikejseay\\.cython\\brian_extensions\" directory. [brian2]\n"
     ]
    }
   ],
   "source": [
    "# to add the spiking model codebase to the path\n",
    "import sys\n",
    "sys.path.append('..')\n",
    "\n",
    "%matplotlib\n",
    "import matplotlib.pyplot as plt\n",
    "import matplotlib.colors as colors\n",
    "from matplotlib.animation import FuncAnimation\n",
    "# plt.style.use('seaborn-pastel')\n",
    "\n",
    "from brian2 import pA, Hz, second, ms\n",
    "import numpy as np\n",
    "\n",
    "from results import Results\n",
    "from plot import (MidpointNormalize, weight_matrix, remove_axes_less, prune_figure, prune_figure_less, prune_figure_more,\n",
    "                  plot_spike_raster, plot_firing_rate, plot_voltage_detail)\n",
    "from generate import weight_matrix_from_flat_inds_weights"
   ]
  },
  {
   "cell_type": "code",
   "execution_count": 2,
   "metadata": {},
   "outputs": [],
   "source": [
    "plt.close('all')"
   ]
  },
  {
   "cell_type": "code",
   "execution_count": 3,
   "metadata": {},
   "outputs": [],
   "source": [
    "# targetPath = 'C:/Users/mikejseay/Documents/BrianResults/'\n",
    "targetPath = 'C:/Users/mikejseay/Documents/BrianResultsHoff/'"
   ]
  },
  {
   "cell_type": "code",
   "execution_count": 4,
   "metadata": {},
   "outputs": [],
   "source": [
    "targetFile1 = 'classicJercog_2000_0p25_cross-homeo-pre-scalar-homeo_seed4_testSeed_2021-08-03-12-11_results'\n",
    "targetFile2 = 'classicJercog_2000_0p25_cross-homeo-pre-scalar-homeo_seed4_testSeed_2021-08-03-12-41_results'"
   ]
  },
  {
   "cell_type": "code",
   "execution_count": 8,
   "metadata": {},
   "outputs": [
    {
     "name": "stdout",
     "output_type": "stream",
     "text": [
      "wEE mult: 1.174080810546875\n",
      "wIE mult: 1.0921601019965277\n",
      "wEI mult: 0.9564825439453127\n",
      "wII mult: 0.9769585503472222\n"
     ]
    }
   ],
   "source": [
    "R1 = Results()\n",
    "R1.init_from_file(targetFile1, targetPath)\n",
    "\n",
    "if R1.p['useRule'][:5] == 'cross':\n",
    "    R1.p['alpha2'] = -1e-12\n",
    "    R1.p['tauPlasticityTrials'] = None\n",
    "elif R1.p['useRule'] == 'homeo':\n",
    "    R1.p['alpha2'] = -1e-12\n",
    "    R1.p['tauPlasticityTrials'] = None\n",
    "\n",
    "if 'wEEScale' not in R1.p:\n",
    "    R1.p['wEEScale'] = None\n",
    "    R1.p['wIEScale'] = None\n",
    "    R1.p['wEIScale'] = None\n",
    "    R1.p['wIIScale'] = None\n",
    "\n",
    "importantInfoString = 'Name: {}\\nEE: {}, IE: {}, EI: {}, II: {}\\n tauFR={}, a1={:.4f} pA, a2={:.4f} pA, tauP={}'.format(R1.rID,\n",
    "    R1.p['wEEScale'],R1.p['wIEScale'],R1.p['wEIScale'],R1.p['wIIScale'],\n",
    "    R1.p['tauUpFRTrials'], R1.p['alpha1'] / pA, R1.p['alpha2'] / pA, R1.p['tauPlasticityTrials'])\n",
    "\n",
    "wEEInit1 = weight_matrix_from_flat_inds_weights(R1.p['nExc'], R1.p['nExc'], R1.preEE, R1.posEE, R1.wEE_init)\n",
    "wIEInit1 = weight_matrix_from_flat_inds_weights(R1.p['nExc'], R1.p['nInh'], R1.preIE, R1.posIE, R1.wIE_init)\n",
    "wEIInit1 = weight_matrix_from_flat_inds_weights(R1.p['nInh'], R1.p['nExc'], R1.preEI, R1.posEI, R1.wEI_init)\n",
    "wIIInit1 = weight_matrix_from_flat_inds_weights(R1.p['nInh'], R1.p['nInh'], R1.preII, R1.posII, R1.wII_init)\n",
    "\n",
    "wEEFinal1 = weight_matrix_from_flat_inds_weights(R1.p['nExc'], R1.p['nExc'], R1.preEE, R1.posEE, R1.wEE_final)\n",
    "wIEFinal1 = weight_matrix_from_flat_inds_weights(R1.p['nExc'], R1.p['nInh'], R1.preIE, R1.posIE, R1.wIE_final)\n",
    "wEIFinal1 = weight_matrix_from_flat_inds_weights(R1.p['nInh'], R1.p['nExc'], R1.preEI, R1.posEI, R1.wEI_final)\n",
    "wIIFinal1 = weight_matrix_from_flat_inds_weights(R1.p['nInh'], R1.p['nInh'], R1.preII, R1.posII, R1.wII_final)\n",
    "\n",
    "wFullInit1 = np.block([[wEEInit1, wIEInit1], [-wEIInit1, -wIIInit1]])\n",
    "wFullFinal1 = np.block([[wEEFinal1, wIEFinal1], [-wEIFinal1, -wIIFinal1]])\n",
    "\n",
    "# get summed presynaptic input to each unit\n",
    "\n",
    "wEEInitP1 = np.nansum(wEEInit1, 0)\n",
    "wIEInitP1 = np.nansum(wIEInit1, 0)\n",
    "wEIInitP1 = np.nansum(wEIInit1, 0)\n",
    "wIIInitP1 = np.nansum(wIIInit1, 0)\n",
    "\n",
    "wEEFinalP1 = np.nansum(wEEFinal1, 0)\n",
    "wIEFinalP1 = np.nansum(wIEFinal1, 0)\n",
    "wEIFinalP1 = np.nansum(wEIFinal1, 0)\n",
    "wIIFinalP1 = np.nansum(wIIFinal1, 0)\n",
    "\n",
    "print('wEE mult:', R1.wEE_final.mean() / R1.wEE_init.mean())\n",
    "print('wIE mult:', R1.wIE_final.mean() / R1.wIE_init.mean())\n",
    "print('wEI mult:', R1.wEI_final.mean() / R1.wEI_init.mean())\n",
    "print('wII mult:', R1.wII_final.mean() / R1.wII_init.mean())"
   ]
  },
  {
   "cell_type": "code",
   "execution_count": 9,
   "metadata": {},
   "outputs": [
    {
     "name": "stdout",
     "output_type": "stream",
     "text": [
      "wEE mult: 1.174080810546875\n",
      "wIE mult: 1.0921601019965277\n",
      "wEI mult: 0.9564825439453127\n",
      "wII mult: 0.9769585503472222\n"
     ]
    }
   ],
   "source": [
    "R2 = Results()\n",
    "R2.init_from_file(targetFile2, targetPath)\n",
    "\n",
    "if R2.p['useRule'][:5] == 'cross':\n",
    "    R2.p['alpha2'] = -1e-12\n",
    "    R2.p['tauPlasticityTrials'] = None\n",
    "elif R2.p['useRule'] == 'homeo':\n",
    "    R2.p['alpha2'] = -1e-12\n",
    "    R2.p['tauPlasticityTrials'] = None\n",
    "\n",
    "if 'wEEScale' not in R2.p:\n",
    "    R2.p['wEEScale'] = None\n",
    "    R2.p['wIEScale'] = None\n",
    "    R2.p['wEIScale'] = None\n",
    "    R2.p['wIIScale'] = None\n",
    "\n",
    "importantInfoString = 'Name: {}\\nEE: {}, IE: {}, EI: {}, II: {}\\n tauFR={}, a2={:.4f} pA, a2={:.4f} pA, tauP={}'.format(R2.rID,\n",
    "    R2.p['wEEScale'],R2.p['wIEScale'],R2.p['wEIScale'],R2.p['wIIScale'],\n",
    "    R2.p['tauUpFRTrials'], R2.p['alpha2'] / pA, R2.p['alpha2'] / pA, R2.p['tauPlasticityTrials'])\n",
    "\n",
    "wEEInit2 = weight_matrix_from_flat_inds_weights(R2.p['nExc'], R2.p['nExc'], R2.preEE, R2.posEE, R2.wEE_init)\n",
    "wIEInit2 = weight_matrix_from_flat_inds_weights(R2.p['nExc'], R2.p['nInh'], R2.preIE, R2.posIE, R2.wIE_init)\n",
    "wEIInit2 = weight_matrix_from_flat_inds_weights(R2.p['nInh'], R2.p['nExc'], R2.preEI, R2.posEI, R2.wEI_init)\n",
    "wIIInit2 = weight_matrix_from_flat_inds_weights(R2.p['nInh'], R2.p['nInh'], R2.preII, R2.posII, R2.wII_init)\n",
    "\n",
    "wEEFinal2 = weight_matrix_from_flat_inds_weights(R2.p['nExc'], R2.p['nExc'], R2.preEE, R2.posEE, R2.wEE_final)\n",
    "wIEFinal2 = weight_matrix_from_flat_inds_weights(R2.p['nExc'], R2.p['nInh'], R2.preIE, R2.posIE, R2.wIE_final)\n",
    "wEIFinal2 = weight_matrix_from_flat_inds_weights(R2.p['nInh'], R2.p['nExc'], R2.preEI, R2.posEI, R2.wEI_final)\n",
    "wIIFinal2 = weight_matrix_from_flat_inds_weights(R2.p['nInh'], R2.p['nInh'], R2.preII, R2.posII, R2.wII_final)\n",
    "\n",
    "wFullInit2 = np.block([[wEEInit2, wIEInit2], [-wEIInit2, -wIIInit2]])\n",
    "wFullFinal2 = np.block([[wEEFinal2, wIEFinal2], [-wEIFinal2, -wIIFinal2]])\n",
    "\n",
    "# get summed presynaptic input to each unit\n",
    "\n",
    "wEEInitP2 = np.nansum(wEEInit2, 0)\n",
    "wIEInitP2 = np.nansum(wIEInit2, 0)\n",
    "wEIInitP2 = np.nansum(wEIInit2, 0)\n",
    "wIIInitP2 = np.nansum(wIIInit2, 0)\n",
    "\n",
    "wEEFinalP2 = np.nansum(wEEFinal2, 0)\n",
    "wIEFinalP2 = np.nansum(wIEFinal2, 0)\n",
    "wEIFinalP2 = np.nansum(wEIFinal2, 0)\n",
    "wIIFinalP2 = np.nansum(wIIFinal2, 0)\n",
    "\n",
    "print('wEE mult:', R2.wEE_final.mean() / R2.wEE_init.mean())\n",
    "print('wIE mult:', R2.wIE_final.mean() / R2.wIE_init.mean())\n",
    "print('wEI mult:', R2.wEI_final.mean() / R2.wEI_init.mean())\n",
    "print('wII mult:', R2.wII_final.mean() / R2.wII_init.mean())"
   ]
  },
  {
   "cell_type": "code",
   "execution_count": 10,
   "metadata": {},
   "outputs": [],
   "source": [
    "downSampleFactorForE = 0.025\n",
    "downSampleFactorForI = 0.1\n",
    "\n",
    "downSampleNForE = int(downSampleFactorForE * R1.p['nExc'])\n",
    "downSampleNForI = int(downSampleFactorForI * R1.p['nInh'])\n",
    "\n",
    "downSampleE = np.random.choice(R1.p['nExc'], size=downSampleNForE, replace=False)\n",
    "downSampleI = np.random.choice(R1.p['nInh'], size=downSampleNForI, replace=False)"
   ]
  },
  {
   "cell_type": "code",
   "execution_count": 13,
   "metadata": {},
   "outputs": [
    {
     "data": {
      "text/plain": [
       "True"
      ]
     },
     "execution_count": 13,
     "metadata": {},
     "output_type": "execute_result"
    }
   ],
   "source": [
    "np.all(R1.trialUpFRExc == R2.trialUpFRExc)"
   ]
  },
  {
   "cell_type": "code",
   "execution_count": 14,
   "metadata": {},
   "outputs": [
    {
     "data": {
      "text/plain": [
       "True"
      ]
     },
     "execution_count": 14,
     "metadata": {},
     "output_type": "execute_result"
    }
   ],
   "source": [
    "np.all(R1.trialwEE == R2.trialwEE)"
   ]
  },
  {
   "cell_type": "code",
   "execution_count": 20,
   "metadata": {},
   "outputs": [
    {
     "data": {
      "text/plain": [
       "True"
      ]
     },
     "execution_count": 20,
     "metadata": {},
     "output_type": "execute_result"
    }
   ],
   "source": [
    "np.allclose(wFullInit1, wFullInit2, equal_nan=True)"
   ]
  },
  {
   "cell_type": "code",
   "execution_count": 21,
   "metadata": {},
   "outputs": [
    {
     "data": {
      "text/plain": [
       "True"
      ]
     },
     "execution_count": 21,
     "metadata": {},
     "output_type": "execute_result"
    }
   ],
   "source": [
    "np.allclose(wFullFinal1, wFullFinal2, equal_nan=True)"
   ]
  }
 ],
 "metadata": {
  "kernelspec": {
   "display_name": "Python 3",
   "language": "python",
   "name": "python3"
  },
  "language_info": {
   "codemirror_mode": {
    "name": "ipython",
    "version": 3
   },
   "file_extension": ".py",
   "mimetype": "text/x-python",
   "name": "python",
   "nbconvert_exporter": "python",
   "pygments_lexer": "ipython3",
   "version": "3.7.6"
  }
 },
 "nbformat": 4,
 "nbformat_minor": 4
}

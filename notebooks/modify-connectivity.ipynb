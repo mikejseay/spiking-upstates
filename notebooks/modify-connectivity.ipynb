{
 "cells": [
  {
   "cell_type": "code",
   "execution_count": 1,
   "id": "b9e7ec37",
   "metadata": {},
   "outputs": [
    {
     "name": "stdout",
     "output_type": "stream",
     "text": [
      "Using matplotlib backend: Qt5Agg\n"
     ]
    },
    {
     "name": "stderr",
     "output_type": "stream",
     "text": [
      "INFO       Cache size for target \"cython\": 15612 MB.\n",
      "You can call \"clear_cache('cython')\" to delete all files from the cache or manually delete files in the \"C:\\Users\\mikejseay\\.cython\\brian_extensions\" directory. [brian2]\n"
     ]
    }
   ],
   "source": [
    "%matplotlib\n",
    "\n",
    "import sys\n",
    "sys.path.append('..')\n",
    "\n",
    "from brian2 import defaultclock, ms, pA, nA, Hz, seed, mV, second\n",
    "from params import paramsJercog as p\n",
    "from params import (paramsJercogEphysBuono22, paramsJercogEphysBuono4, paramsJercogEphysBuono5, paramsJercogEphysBuono6,\n",
    "                    paramsJercogEphysBuono7)\n",
    "import numpy as np\n",
    "from generate import convert_kicks_to_current_series, norm_weights, weight_matrix_from_flat_inds_weights, adjacency_indices_within\n",
    "from trainer import JercogTrainer\n",
    "from results import Results\n",
    "import matplotlib.pyplot as plt\n",
    "from plot import weight_matrix\n",
    "import matplotlib\n",
    "matplotlib.rcParams['pdf.fonttype'] = 42\n",
    "matplotlib.rcParams['ps.fonttype'] = 42"
   ]
  },
  {
   "cell_type": "code",
   "execution_count": 2,
   "id": "e227e7bc",
   "metadata": {},
   "outputs": [],
   "source": [
    "rngSeed = 43\n",
    "defaultclock.dt = p['dt']\n",
    "\n",
    "p['useNewEphysParams'] = True\n",
    "ephysParams = paramsJercogEphysBuono7.copy()\n",
    "p['useSecondPopExc'] = False\n",
    "\n",
    "if p['useNewEphysParams']:\n",
    "    # remove protected keys from the dict whose params are being imported\n",
    "    protectedKeys = ('nUnits', 'propInh', 'duration')\n",
    "    for pK in protectedKeys:\n",
    "        del ephysParams[pK]\n",
    "    p.update(ephysParams)\n",
    "\n",
    "p['useRule'] = 'upCrit'\n",
    "p['nameSuffix'] = ''\n",
    "p['saveFolder'] = 'C:/Users/mikejseay/Documents/BrianResults/'\n",
    "p['saveWithDate'] = True\n",
    "p['useOldWeightMagnitude'] = True\n",
    "p['disableWeightScaling'] = True\n",
    "p['applyLogToFR'] = False\n",
    "p['setMinimumBasedOnBalance'] = False\n",
    "p['recordMovieVariables'] = False\n",
    "p['downSampleVoltageTo'] = 1 * ms\n",
    "p['stateVariableDT'] = 1 * ms\n",
    "p['recordAllVoltage'] = True\n",
    "\n",
    "# simulation params\n",
    "p['nUnits'] = 2e3\n",
    "p['propConnect'] = 0.25\n",
    "\n",
    "# p['initWeightMethod'] = 'guessBuono7Weights2e3p025'\n",
    "# p['initWeightMethod'] = 'guessBuono7Weights2e3p025SlightLowTuned'\n",
    "p['initWeightMethod'] = 'resumePrior'\n",
    "p['initWeightPrior'] = 'buonoEphysBen1_2000_0p25_cross-homeo-pre-outer-homeo_guessBuono7Weights2e3p025SlightLow__2021-09-04-08-20_results'\n",
    "p['kickType'] = 'spike'  # kick or spike\n",
    "p['nUnitsToSpike'] = int(np.round(0.05 * p['nUnits']))\n",
    "p['timeToSpike'] = 100 * ms\n",
    "p['timeAfterSpiked'] = 3000 * ms\n",
    "p['spikeInputAmplitude'] = 0.96  # in nA\n",
    "p['allowAutapses'] = False\n",
    "\n",
    "# params not important unless using \"kick\" instead of \"spike\"\n",
    "p['propKicked'] = 0.1\n",
    "p['onlyKickExc'] = True\n",
    "p['kickTimes'] = [100 * ms]\n",
    "p['kickSizes'] = [1]\n",
    "iKickRecorded = convert_kicks_to_current_series(p['kickDur'], p['kickTau'],\n",
    "                                                p['kickTimes'], p['kickSizes'], p['duration'], p['dt'])\n",
    "p['iKickRecorded'] = iKickRecorded\n",
    "\n",
    "# boring params\n",
    "p['nIncInh'] = int(p['propConnect'] * p['propInh'] * p['nUnits'])\n",
    "p['nIncExc'] = int(p['propConnect'] * (1 - p['propInh']) * p['nUnits'])\n",
    "indUnkickedExc = int(p['nUnits'] - (p['propInh'] * p['nUnits']) - 1)\n",
    "p['indsRecordStateExc'].append(indUnkickedExc)\n",
    "p['nExc'] = int(p['nUnits'] * (1 - p['propInh']))\n",
    "p['nInh'] = int(p['nUnits'] * p['propInh'])\n",
    "\n",
    "if p['recordAllVoltage']:\n",
    "    p['indsRecordStateExc'] = list(range(p['nExc']))\n",
    "    p['indsRecordStateInh'] = list(range(p['nInh']))\n",
    "\n",
    "# END OF PARAMS\n",
    "\n",
    "# set RNG seeds...\n",
    "p['rngSeed'] = rngSeed\n",
    "rng = np.random.default_rng(rngSeed)  # for numpy\n",
    "seed(rngSeed)  # for Brian... will insert code to set the random number generator seed into the generated code\n",
    "p['rng'] = rng\n",
    "\n",
    "JT = JercogTrainer(p)\n",
    "\n",
    "if p['initWeightMethod'] == 'resumePrior':\n",
    "    PR = Results()\n",
    "    PR.init_from_file(p['initWeightPrior'], p['saveFolder'])\n",
    "    p = dict(list(p.items()) + list(PR.p.items()))\n",
    "    # p = PR.p.copy()  # note this completely overwrites all settings above\n",
    "    p['nameSuffix'] = p['initWeightMethod'] + p['nameSuffix']  # a way to remember what it was...\n",
    "    if 'seed' in p['nameSuffix']:  # this will only work for single digit seeds...\n",
    "        rngSeed = int(p['nameSuffix'][p['nameSuffix'].find('seed') + 4])\n",
    "    p['initWeightMethod'] = 'resumePrior'  # and then we put this back...\n",
    "else:\n",
    "    PR = None"
   ]
  },
  {
   "cell_type": "code",
   "execution_count": 63,
   "id": "8bbe902f",
   "metadata": {},
   "outputs": [
    {
     "name": "stdout",
     "output_type": "stream",
     "text": [
      "4\n"
     ]
    }
   ],
   "source": [
    "# modify for schematic\n",
    "\n",
    "nUnits = 20\n",
    "pConn = 0.25\n",
    "pChanged = 0.2\n",
    "nChanged = int(np.round(nUnits * pChanged))\n",
    "\n",
    "print(nChanged)\n",
    "\n",
    "preInds, postInds = adjacency_indices_within(nUnits, pConn)\n",
    "\n",
    "nConnections = preInds.size\n",
    "weights = norm_weights(nConnections)\n",
    "\n",
    "wMat = weight_matrix_from_flat_inds_weights(nUnits, nUnits, preInds, postInds, weights)"
   ]
  },
  {
   "cell_type": "code",
   "execution_count": 64,
   "id": "56e9102d",
   "metadata": {},
   "outputs": [
    {
     "data": {
      "text/plain": [
       "<matplotlib.collections.LineCollection at 0x284de504248>"
      ]
     },
     "execution_count": 64,
     "metadata": {},
     "output_type": "execute_result"
    }
   ],
   "source": [
    "values = wMat\n",
    "useCmap = 'Reds'\n",
    "limsMethod = 'custom'\n",
    "xlabel = ''\n",
    "ylabel = ''\n",
    "clabel = ''\n",
    "vlims = (0, weights.max())\n",
    "\n",
    "f.clf()\n",
    "f, ax = plt.subplots(figsize=(6, 6), num=1)\n",
    "i = ax.imshow(values,\n",
    "              cmap=getattr(plt.cm, useCmap),\n",
    "              aspect='auto',\n",
    "              interpolation='none')\n",
    "ax.set(xlabel=xlabel, ylabel=ylabel)\n",
    "\n",
    "if limsMethod == 'absmax':\n",
    "    vmax = np.nanmax(np.fabs(values))\n",
    "    vmin = -vmax\n",
    "elif limsMethod == 'minmax':\n",
    "    vmax, vmin = np.nanmax(values), np.nanmin(values)\n",
    "elif limsMethod == 'custom':\n",
    "    vmin, vmax = vlims\n",
    "\n",
    "i.set_clim(vmin, vmax)\n",
    "\n",
    "ax.vlines(nUnits - nChanged - 0.5, -0.5, nUnits - 0.5, color='k')\n",
    "ax.hlines(nUnits - nChanged - 0.5, -0.5, nUnits - 0.5, color='k')\n",
    "\n",
    "# cb = plt.colorbar(i, ax=ax)\n",
    "# cb.ax.set_ylabel(clabel, rotation=270)"
   ]
  },
  {
   "cell_type": "code",
   "execution_count": 60,
   "id": "58fb840a",
   "metadata": {},
   "outputs": [],
   "source": [
    "p['nUnits'] = nUnits\n",
    "\n",
    "p['nUnitsSecondPopExc'] = int(np.round(0.05 * p['nUnits']))\n",
    "p['startIndSecondPopExc'] = p['nUnitsToSpike']\n",
    "p['removePropConn'] = 0.1\n",
    "p['addBackRemovedConns'] = True\n",
    "\n",
    "\n",
    "startIndExc2 = p['startIndSecondPopExc']\n",
    "endIndExc2 = p['startIndSecondPopExc'] + p['nUnitsSecondPopExc']\n",
    "\n",
    "E2E1Inds = \\\n",
    "    np.where(\n",
    "        np.logical_and(PR.preEE >= endIndExc2, np.logical_and(PR.posEE >= startIndExc2, PR.posEE < endIndExc2)))[0]\n",
    "E1E2Inds = \\\n",
    "    np.where(\n",
    "        np.logical_and(PR.posEE >= endIndExc2, np.logical_and(PR.preEE >= startIndExc2, PR.preEE < endIndExc2)))[0]\n",
    "\n",
    "removeE2E1Inds = np.random.choice(E2E1Inds, int(np.round(E2E1Inds.size * p['removePropConn'])), replace=False)\n",
    "removeE1E2Inds = np.random.choice(E1E2Inds, int(np.round(E1E2Inds.size * p['removePropConn'])), replace=False)\n",
    "\n",
    "removeInds = np.concatenate((removeE2E1Inds, removeE1E2Inds))\n",
    "\n",
    "# save some info...\n",
    "wEEInit = weight_matrix_from_flat_inds_weights(PR.p['nExc'], PR.p['nExc'], PR.preEE, PR.posEE, PR.wEE_final)"
   ]
  },
  {
   "cell_type": "code",
   "execution_count": 40,
   "id": "9f84251e",
   "metadata": {},
   "outputs": [],
   "source": [
    "# making a different version of the weight matrix where the modify conn population got moved\n",
    "\n",
    "preEEInitR = PR.preEE.copy()\n",
    "posEEInitR = PR.posEE.copy()\n",
    "\n",
    "swapDict = dict()\n",
    "for n in range(100, 200):\n",
    "    swapDict[n] = n + 1400\n",
    "for n in range(1500, 1600):\n",
    "    swapDict[n] = n - 1400\n",
    "\n",
    "for connInd in range(preEEInitR.size):\n",
    "    preInd = PR.preEE[connInd]\n",
    "    posInd = PR.posEE[connInd]\n",
    "    if preInd in swapDict:\n",
    "        preEEInitR[connInd] = swapDict[preInd]\n",
    "    if posInd in swapDict:\n",
    "        posEEInitR[connInd] = swapDict[posInd]"
   ]
  },
  {
   "cell_type": "code",
   "execution_count": 41,
   "id": "2e9798f7",
   "metadata": {},
   "outputs": [],
   "source": [
    "wEEInitR = weight_matrix_from_flat_inds_weights(PR.p['nExc'], PR.p['nExc'], preEEInitR, posEEInitR, PR.wEE_final)"
   ]
  },
  {
   "cell_type": "code",
   "execution_count": 42,
   "id": "b2eca307",
   "metadata": {},
   "outputs": [
    {
     "name": "stdout",
     "output_type": "stream",
     "text": [
      "0.19987142857142856\n",
      "0.20025\n",
      "0.34\n",
      "0.2567035714285714\n"
     ]
    }
   ],
   "source": [
    "weightsSaved = PR.wEE_final[removeInds]  # save the weights to be used below\n",
    "\n",
    "PR.preEE = np.delete(PR.preEE, removeInds, None)\n",
    "PR.posEE = np.delete(PR.posEE, removeInds, None)\n",
    "PR.wEE_final = np.delete(PR.wEE_final, removeInds, None)\n",
    "\n",
    "if p['addBackRemovedConns']:\n",
    "    nConnRemoved = removeInds.size\n",
    "    propAddedConnToE2E2 = p['nUnitsSecondPopExc'] / (p['nExc'] - p['nUnitsToSpike'])\n",
    "    # propAddedConnToE2E2 = (p['nUnitsSecondPopExc'] / (p['nExc'] - p['nUnitsToSpike'])) ** 2  # arguably should be this\n",
    "    nConnAddedToE2E2 = int(np.round(propAddedConnToE2E2 * nConnRemoved))\n",
    "    nConnAddedToE1E1 = nConnRemoved - nConnAddedToE2E2\n",
    "    E2E2Inds = np.where(np.logical_and(np.logical_and(PR.preEE >= startIndExc2, PR.preEE < endIndExc2),\n",
    "                                       np.logical_and(PR.posEE >= startIndExc2, PR.posEE < endIndExc2)))[0]\n",
    "    E1E1Inds = np.where(np.logical_and(PR.preEE >= endIndExc2, PR.posEE >= endIndExc2))[0]\n",
    "\n",
    "    # construct a probability array that is the shape of E2E2, fill it with the value of 1 / (nExc2*nExc2 - nExistingConns - nExc2)\n",
    "    # in positions where there are not already connections... set existing connection and the diagonal to 0 (should sum to 1)\n",
    "    # and same for E1E1\n",
    "    # this will allow us to choose some number of new synapses to add, where there are not already connections, and not on the diag\n",
    "\n",
    "    nExc1 = p['nExc'] - p['nUnitsSecondPopExc'] - p['nUnitsToSpike']\n",
    "    nExc2 = p['nUnitsSecondPopExc']\n",
    "    probabilityArrayE2E2 = np.full((nExc2, nExc2), 1 / (nExc2 * nExc2 - E2E2Inds.size - nExc2))\n",
    "    probabilityArrayE2E2[PR.preEE[E2E2Inds] - p['nUnitsToSpike'], PR.posEE[E2E2Inds] - p['nUnitsToSpike']] = 0\n",
    "    probabilityArrayE2E2[np.diag_indices_from(probabilityArrayE2E2)] = 0\n",
    "    probabilityArrayE1E1 = np.full((nExc1, nExc1), 1 / (nExc1 * nExc1 - E1E1Inds.size - nExc1))\n",
    "    probabilityArrayE1E1[\n",
    "        PR.preEE[E1E1Inds] - nExc2 - p['nUnitsToSpike'], PR.posEE[E1E1Inds] - nExc2 - p['nUnitsToSpike']] = 0\n",
    "    probabilityArrayE1E1[np.diag_indices_from(probabilityArrayE1E1)] = 0\n",
    "\n",
    "    indicesE2E2Flat = np.random.choice(nExc2 ** 2, nConnAddedToE2E2, replace=False, p=probabilityArrayE2E2.ravel())\n",
    "    indicesE1E1Flat = np.random.choice(nExc1 ** 2, nConnAddedToE1E1, replace=False, p=probabilityArrayE1E1.ravel())\n",
    "\n",
    "    propConnE2E1 = (E2E1Inds.size - removeE2E1Inds.size) / (nExc2 * nExc1)\n",
    "    propConnE1E2 = (E1E2Inds.size - removeE1E2Inds.size) / (nExc2 * nExc1)\n",
    "    propConnE2E2 = (E2E2Inds.size + nConnAddedToE2E2) / (nExc2 * nExc2)\n",
    "    propConnE1E1 = (E1E1Inds.size + nConnAddedToE1E1) / (nExc1 * nExc1)\n",
    "\n",
    "    print(propConnE2E1)\n",
    "    print(propConnE1E2)\n",
    "    print(propConnE2E2)\n",
    "    print(propConnE1E1)\n",
    "\n",
    "    # must add  + p['nUnitsToSpike'] for E2E2 and  + p['nUnitsToSpike'] + nExc2 for E1E1\n",
    "    preIndsE2E2, posIndsE2E2 = np.unravel_index(indicesE2E2Flat, (nExc2, nExc2))\n",
    "    preIndsE1E1, posIndsE1E1 = np.unravel_index(indicesE1E1Flat, (nExc1, nExc1))\n",
    "    PR.preEE = np.concatenate((PR.preEE, preIndsE2E2 + p['nUnitsToSpike']))\n",
    "    PR.posEE = np.concatenate((PR.posEE, posIndsE2E2 + p['nUnitsToSpike']))\n",
    "    PR.wEE_final = np.concatenate((PR.wEE_final, weightsSaved[:preIndsE2E2.size]))\n",
    "    PR.preEE = np.concatenate((PR.preEE, preIndsE1E1 + p['nUnitsToSpike'] + nExc2))\n",
    "    PR.posEE = np.concatenate((PR.posEE, posIndsE1E1 + p['nUnitsToSpike'] + nExc2))\n",
    "    PR.wEE_final = np.concatenate((PR.wEE_final, weightsSaved[preIndsE2E2.size:]))\n",
    "\n",
    "    # turn the final into a matrix also...\n",
    "    wEEFinal = weight_matrix_from_flat_inds_weights(PR.p['nExc'], PR.p['nExc'], PR.preEE, PR.posEE, PR.wEE_final)\n",
    "\n",
    "    # make inhibition stronger/weaker to compensate\n",
    "    wEICompensate = weight_matrix_from_flat_inds_weights(PR.p['nInh'], PR.p['nExc'], PR.preEI, PR.posEI,\n",
    "                                                         PR.wEI_final)\n",
    "    wEICompensate[:, endIndExc2:] = wEICompensate[:, endIndExc2:] * propConnE1E1 / PR.p['propConnect']\n",
    "\n",
    "    # decreaseInhOntoE2Factor = np.nansum(wEEFinal[startIndExc2:endIndExc2, :], 0).mean() / np.nansum(wEEInit[startIndExc2:endIndExc2, :], 0).mean()\n",
    "    decreaseInhOntoE2Factor = np.nansum(wEEFinal[:, startIndExc2:endIndExc2], 1).mean() / np.nansum(wEEInit[:, startIndExc2:endIndExc2], 1).mean()\n",
    "    wEICompensate[:, startIndExc2:endIndExc2] = wEICompensate[:, startIndExc2:endIndExc2] * decreaseInhOntoE2Factor\n",
    "    PR.wEI_final = wEICompensate[PR.preEI, PR.posEI]"
   ]
  },
  {
   "cell_type": "code",
   "execution_count": 43,
   "id": "4253b311",
   "metadata": {},
   "outputs": [],
   "source": [
    "# making a different version of the weight matrix where the modify conn population got moved\n",
    "\n",
    "preEEFinalR = PR.preEE.copy()\n",
    "posEEFinalR = PR.posEE.copy()\n",
    "\n",
    "for connInd in range(preEEFinalR.size):\n",
    "    preInd = PR.preEE[connInd]\n",
    "    posInd = PR.posEE[connInd]\n",
    "    if preInd in swapDict:\n",
    "        preEEFinalR[connInd] = swapDict[preInd]\n",
    "    if posInd in swapDict:\n",
    "        posEEFinalR[connInd] = swapDict[posInd]"
   ]
  },
  {
   "cell_type": "code",
   "execution_count": 44,
   "id": "1d9d8b49",
   "metadata": {},
   "outputs": [],
   "source": [
    "\n",
    "wEEFinalR = weight_matrix_from_flat_inds_weights(PR.p['nExc'], PR.p['nExc'], preEEFinalR, posEEFinalR, PR.wEE_final)"
   ]
  },
  {
   "cell_type": "code",
   "execution_count": 49,
   "id": "05e5dd08",
   "metadata": {},
   "outputs": [
    {
     "data": {
      "text/plain": [
       "461.50757"
      ]
     },
     "execution_count": 49,
     "metadata": {},
     "output_type": "execute_result"
    }
   ],
   "source": [
    "np.nanmax(wEEInitR)"
   ]
  },
  {
   "cell_type": "code",
   "execution_count": 52,
   "id": "c49be1d4",
   "metadata": {},
   "outputs": [],
   "source": [
    "# wEEInit and wEEFinal\n",
    "\n",
    "f, ax = plt.subplots(1, 2, figsize=(12, 5))\n",
    "weight_matrix(ax[0], wEEInitR, useCmap='Reds', limsMethod='custom', vlims=(0, np.nanmax(wEEInitR)))\n",
    "weight_matrix(ax[1], wEEFinalR, useCmap='Reds', limsMethod='custom', vlims=(0, np.nanmax(wEEInitR)))\n",
    "\n",
    "for anax in ax:\n",
    "    anax.hlines(1500, 0, 1599, color='k')\n",
    "    anax.vlines(1500, 0, 1599, color='k')\n",
    "    anax.set(xlabel='Postsynaptic Index', ylabel='Presynaptic Index')\n",
    "    \n",
    "f.savefig('benEphys3Weights.pdf', transparent=True)"
   ]
  },
  {
   "cell_type": "code",
   "execution_count": 14,
   "id": "60efae9e",
   "metadata": {},
   "outputs": [],
   "source": [
    "anax = ax[0]"
   ]
  },
  {
   "cell_type": "code",
   "execution_count": null,
   "id": "eac81400",
   "metadata": {},
   "outputs": [],
   "source": [
    "anax.hlines()"
   ]
  },
  {
   "cell_type": "code",
   "execution_count": null,
   "id": "d4e4e4aa",
   "metadata": {},
   "outputs": [],
   "source": []
  },
  {
   "cell_type": "code",
   "execution_count": 5,
   "id": "1b2c97c9",
   "metadata": {},
   "outputs": [
    {
     "data": {
      "text/plain": [
       "<results.Results at 0x16736367c08>"
      ]
     },
     "execution_count": 5,
     "metadata": {},
     "output_type": "execute_result"
    }
   ],
   "source": [
    "PR"
   ]
  },
  {
   "cell_type": "code",
   "execution_count": 6,
   "id": "c2c23d34",
   "metadata": {},
   "outputs": [
    {
     "data": {
      "text/plain": [
       "(640000,)"
      ]
     },
     "execution_count": 6,
     "metadata": {},
     "output_type": "execute_result"
    }
   ],
   "source": [
    "PR.wEE_final.shape"
   ]
  },
  {
   "cell_type": "code",
   "execution_count": null,
   "id": "68b2ae2f",
   "metadata": {},
   "outputs": [],
   "source": []
  },
  {
   "cell_type": "code",
   "execution_count": null,
   "id": "f220a958",
   "metadata": {},
   "outputs": [],
   "source": [
    "JT.set_up_network_upCrit(priorResults=PR, recordAllVoltage=True)"
   ]
  }
 ],
 "metadata": {
  "kernelspec": {
   "display_name": "Python 3",
   "language": "python",
   "name": "python3"
  },
  "language_info": {
   "codemirror_mode": {
    "name": "ipython",
    "version": 3
   },
   "file_extension": ".py",
   "mimetype": "text/x-python",
   "name": "python",
   "nbconvert_exporter": "python",
   "pygments_lexer": "ipython3",
   "version": "3.7.6"
  }
 },
 "nbformat": 4,
 "nbformat_minor": 5
}

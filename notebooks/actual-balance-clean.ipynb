{
 "cells": [
  {
   "cell_type": "code",
   "execution_count": 1,
   "metadata": {
    "scrolled": false
   },
   "outputs": [
    {
     "name": "stderr",
     "output_type": "stream",
     "text": [
      "INFO       Cache size for target \"cython\": 11811 MB.\n",
      "You can call \"clear_cache('cython')\" to delete all files from the cache or manually delete files in the \"C:\\Users\\mikejseay\\.cython\\brian_extensions\" directory. [brian2]\n"
     ]
    },
    {
     "name": "stdout",
     "output_type": "stream",
     "text": [
      "Using matplotlib backend: Qt5Agg\n"
     ]
    }
   ],
   "source": [
    "# to add the spiking model codebase to the path\n",
    "import sys\n",
    "sys.path.append('..')\n",
    "\n",
    "from brian2 import *\n",
    "from params import paramsJercog as p\n",
    "\n",
    "import numpy as np\n",
    "\n",
    "from network import JercogEphysNetwork\n",
    "from results import ResultsEphys\n",
    "\n",
    "%matplotlib\n",
    "import matplotlib.pyplot as plt"
   ]
  },
  {
   "cell_type": "code",
   "execution_count": 4,
   "metadata": {},
   "outputs": [],
   "source": [
    "p['setUpFRExc'] = 5 * Hz\n",
    "p['setUpFRInh'] = 14 * Hz\n",
    "\n",
    "p['threshExc'] = 130 * pA  # this is a bad approximation and replaced later by a precise test\n",
    "p['threshInh'] = 140 * pA\n",
    "\n",
    "p['gainExc'] = 0.49 * Hz / pA\n",
    "p['gainInh'] = 1.46 * Hz / pA"
   ]
  },
  {
   "cell_type": "code",
   "execution_count": 5,
   "metadata": {},
   "outputs": [],
   "source": [
    "p['recordStateVariables'] = ['v', 'sE', 'sI']\n",
    "p['duration'] = 1 * second\n",
    "p['nUnits'] = 1000\n",
    "p['propConnect'] = 0.5\n",
    "\n",
    "nExc = 400\n",
    "nInh = 100\n",
    "simType = 'poisson'  # poisson or fixed"
   ]
  },
  {
   "cell_type": "markdown",
   "metadata": {},
   "source": [
    "- simulate 400 poisson processes that represent presynaptic E Units at E_set\n",
    "- simulate 100 poisson processes that represent presynaptic I units at I_set\n",
    "- connect them all to a single real IAF E unit and I unit\n",
    "- set the synaptic weights based on the result of a cross-homeo training that converged to the set points\n",
    "- measure the excitatory and inhibitory currents"
   ]
  },
  {
   "cell_type": "code",
   "execution_count": 6,
   "metadata": {},
   "outputs": [],
   "source": [
    "defaultclock.dt = p['dt']\n",
    "p['nInh'] = int(p['propInh'] * p['nUnits'])\n",
    "p['nExc'] = int(p['nUnits'] - p['nInh'])\n",
    "p['nExcSpikemon'] = int(p['nExc'] * p['propSpikemon'])\n",
    "p['nInhSpikemon'] = int(p['nInh'] * p['propSpikemon'])\n",
    "p['nIncInh'] = int(p['propConnect'] * p['propInh'] * p['nUnits'])\n",
    "p['nIncExc'] = int(p['propConnect'] * (1 - p['propInh']) * p['nUnits'])\n",
    "\n",
    "N = Network()\n",
    "\n",
    "# NOTICE NO NOISE\n",
    "\n",
    "unitModel = '''\n",
    "                dv/dt = (gl * (eLeak - v) - iAdapt +\n",
    "                         sE - sI) / Cm : volt (unless refractory)\n",
    "                diAdapt/dt = -iAdapt / tauAdapt : amp\n",
    "\n",
    "                dsE/dt = (-sE + uE) / tauFallE : amp\n",
    "                duE/dt = -uE / tauRiseE : amp\n",
    "                dsI/dt = (-sI + uI) / tauFallI : amp\n",
    "                duI/dt = -uI / tauRiseI : amp\n",
    "                \n",
    "                eLeak : volt\n",
    "                vReset : volt\n",
    "                vThresh : volt\n",
    "                betaAdapt : amp * second\n",
    "                gl : siemens\n",
    "                Cm : farad\n",
    "                '''\n",
    "\n",
    "resetCode = '''\n",
    "        v = vReset\n",
    "        iAdapt += betaAdapt / tauAdapt \n",
    "        '''\n",
    "\n",
    "threshCode = 'v >= vThresh'\n",
    "\n",
    "unitsExc = NeuronGroup(N=1, model=unitModel, method=p['updateMethod'], threshold=threshCode, reset=resetCode,\n",
    "                       refractory=p['refractoryPeriodExc'], clock=defaultclock)\n",
    "unitsInh = NeuronGroup(N=1, model=unitModel, method=p['updateMethod'], threshold=threshCode, reset=resetCode,\n",
    "                       refractory=p['refractoryPeriodInh'], clock=defaultclock)\n",
    "\n",
    "unitsExc.v = p['eLeakExc']\n",
    "unitsExc.vReset = p['vResetExc']\n",
    "unitsExc.vThresh = p['vThreshExc']\n",
    "unitsExc.betaAdapt = p['betaAdaptExc']\n",
    "unitsExc.eLeak = p['eLeakExc']\n",
    "unitsExc.Cm = p['membraneCapacitanceExc']\n",
    "unitsExc.gl = p['gLeakExc']\n",
    "\n",
    "unitsInh.v = p['eLeakInh']\n",
    "unitsInh.vReset = p['vResetInh']\n",
    "unitsInh.vThresh = p['vThreshInh']\n",
    "unitsInh.betaAdapt = p['betaAdaptInh']\n",
    "unitsInh.eLeak = p['eLeakInh']\n",
    "unitsInh.Cm = p['membraneCapacitanceInh']\n",
    "unitsInh.gl = p['gLeakInh']\n",
    "\n",
    "N.add(unitsExc, unitsInh)"
   ]
  },
  {
   "cell_type": "code",
   "execution_count": 7,
   "metadata": {},
   "outputs": [],
   "source": [
    "if simType == 'poisson':  # make the Poisson spikers\n",
    "    \n",
    "    poissonExc = PoissonGroup(N=nExc, rates=p['setUpFRExc'], clock=defaultclock)\n",
    "    poissonInh = PoissonGroup(N=nInh, rates=p['setUpFRInh'], clock=defaultclock)\n",
    "    \n",
    "elif simType == 'fixed':  # instead, make fixed rate that tiles the time period\n",
    "    \n",
    "    numSpikesExc = int(np.round(p['setUpFRExc'] * p['duration']))\n",
    "    numSpikesInh = int(np.round(p['setUpFRInh'] * p['duration']))\n",
    "\n",
    "    fixedIndicesExc = np.zeros((numSpikesExc, ), )\n",
    "    fixedIndicesInh = np.zeros((numSpikesInh, ), )\n",
    "\n",
    "    spikeTimesExc = np.linspace(0, p['duration'] / second, numSpikesExc + 1) * second\n",
    "    spikeTimesExc = spikeTimesExc[:-1]\n",
    "\n",
    "    spikeTimesInh = np.linspace(0, p['duration'] / second, numSpikesInh + 1) * second\n",
    "    spikeTimesInh = spikeTimesInh[:-1]\n",
    "\n",
    "    poissonExc = SpikeGeneratorGroup(N=1, indices=fixedIndicesExc, times=spikeTimesExc, clock=defaultclock)\n",
    "    poissonInh = SpikeGeneratorGroup(N=1, indices=fixedIndicesInh, times=spikeTimesInh, clock=defaultclock)\n",
    "\n",
    "N.add(poissonExc, poissonInh)"
   ]
  },
  {
   "cell_type": "code",
   "execution_count": 8,
   "metadata": {},
   "outputs": [],
   "source": [
    "# make the synapses\n",
    "\n",
    "onPreStrings = ('uE_post += jEE / tauRiseEOverMS',\n",
    "                'uE_post += jIE / tauRiseEOverMS',\n",
    "                'uI_post += jEI / tauRiseIOverMS',\n",
    "                'uI_post += jII / tauRiseIOverMS',)\n",
    "\n",
    "tauRiseEOverMS = p['tauRiseExc'] / ms\n",
    "tauRiseIOverMS = p['tauRiseInh'] / ms\n",
    "vTauExcOverMS = p['membraneCapacitanceExc'] / p['gLeakExc'] / ms\n",
    "vTauInhOverMS = p['membraneCapacitanceInh'] / p['gLeakInh'] / ms\n",
    "\n",
    "synapsesEE = Synapses(model='jEE: amp',\n",
    "                     source=poissonExc,\n",
    "                     target=unitsExc,\n",
    "                     on_pre=onPreStrings[0])\n",
    "synapsesIE = Synapses(model='jIE: amp',\n",
    "                     source=poissonExc,\n",
    "                     target=unitsInh,\n",
    "                     on_pre=onPreStrings[1])\n",
    "synapsesEI = Synapses(model='jEI: amp',\n",
    "                     source=poissonInh,\n",
    "                     target=unitsExc,\n",
    "                     on_pre=onPreStrings[2])\n",
    "synapsesII = Synapses(model='jII: amp',\n",
    "                     source=poissonInh,\n",
    "                     target=unitsInh,\n",
    "                     on_pre=onPreStrings[3])\n",
    "\n",
    "synapsesEE.connect()\n",
    "synapsesIE.connect()\n",
    "synapsesEI.connect()\n",
    "synapsesII.connect()"
   ]
  },
  {
   "cell_type": "code",
   "execution_count": 9,
   "metadata": {},
   "outputs": [],
   "source": [
    "useBetterWeights = True\n",
    "\n",
    "if useBetterWeights:\n",
    "    jEEmult = 1.0249649370098968\n",
    "    jIEmult = 0.9913780811668145\n",
    "    jEImult = 0.9750494640455015\n",
    "    jIImult = 1.0108023944074438\n",
    "else:\n",
    "    jEEmult = 1\n",
    "    jIEmult = 1\n",
    "    jEImult = 1\n",
    "    jIImult = 1\n",
    "\n",
    "usejEE = p['jEE'] / p['nIncExc'] * vTauExcOverMS * jEEmult\n",
    "usejIE = p['jIE'] / p['nIncExc'] * vTauInhOverMS * jIEmult\n",
    "usejEI = p['jEI'] / p['nIncInh'] * vTauExcOverMS * jEImult\n",
    "usejII = p['jII'] / p['nIncInh'] * vTauInhOverMS * jIImult\n",
    "\n",
    "synapsesEE.jEE = usejEE\n",
    "synapsesIE.jIE = usejIE\n",
    "synapsesEI.jEI = usejEI\n",
    "synapsesII.jII = usejII"
   ]
  },
  {
   "cell_type": "code",
   "execution_count": 10,
   "metadata": {},
   "outputs": [
    {
     "name": "stdout",
     "output_type": "stream",
     "text": [
      "143.49509118 pA 123.92226015 pA 136.50692497 pA 101.08023944 pA\n"
     ]
    }
   ],
   "source": [
    "print(usejEE, usejIE, usejEI, usejII, )"
   ]
  },
  {
   "cell_type": "code",
   "execution_count": 11,
   "metadata": {},
   "outputs": [],
   "source": [
    "N.add(synapsesEE, synapsesIE, synapsesEI, synapsesII)\n",
    "\n",
    "# create monitors\n",
    "spikeMonExc = SpikeMonitor(unitsExc[:p['nExcSpikemon']])\n",
    "spikeMonInh = SpikeMonitor(unitsInh[:p['nInhSpikemon']])\n",
    "stateMonExc = StateMonitor(unitsExc,\n",
    "                           p['recordStateVariables'],\n",
    "                           record=p['indsRecordStateExc'],\n",
    "                           clock=defaultclock)\n",
    "stateMonInh = StateMonitor(unitsInh,\n",
    "                           p['recordStateVariables'],\n",
    "                           record=p['indsRecordStateInh'],\n",
    "                           clock=defaultclock)\n",
    "N.add(spikeMonExc, spikeMonInh, stateMonExc, stateMonInh)"
   ]
  },
  {
   "cell_type": "code",
   "execution_count": 12,
   "metadata": {},
   "outputs": [
    {
     "name": "stdout",
     "output_type": "stream",
     "text": [
      "Starting simulation at t=0. s for a duration of 1. s\n",
      "1. s (100%) simulated in 1s\n"
     ]
    }
   ],
   "source": [
    "tauRiseE = p['tauRiseExc']\n",
    "tauFallE = p['tauFallExc']\n",
    "tauRiseI = p['tauRiseInh']\n",
    "tauFallI = p['tauFallInh']\n",
    "tauAdapt = p['adaptTau']\n",
    "tauRiseEOverMS = p['tauRiseExc'] / ms\n",
    "tauRiseIOverMS = p['tauRiseInh'] / ms\n",
    "vTauExcOverMS = p['membraneCapacitanceExc'] / p['gLeakExc'] / ms\n",
    "vTauInhOverMS = p['membraneCapacitanceInh'] / p['gLeakInh'] / ms\n",
    "\n",
    "N.run(p['duration'], report=p['reportType'], report_period=p['reportPeriod'], profile=p['doProfile'])"
   ]
  },
  {
   "cell_type": "code",
   "execution_count": 13,
   "metadata": {},
   "outputs": [],
   "source": [
    "useDType = np.single\n",
    "\n",
    "timeArray = np.arange(0, float(p['duration']), float(p['dt']), dtype=useDType)\n",
    "\n",
    "spikeMonExcT = np.array(spikeMonExc.t, dtype=useDType)\n",
    "spikeMonExcI = np.array(spikeMonExc.i, dtype=useDType)\n",
    "spikeMonInhT = np.array(spikeMonInh.t, dtype=useDType)\n",
    "spikeMonInhI = np.array(spikeMonInh.i, dtype=useDType)\n",
    "stateMonExcV = np.array(stateMonExc.v / mV, dtype=useDType)\n",
    "stateMonInhV = np.array(stateMonInh.v / mV, dtype=useDType)\n",
    "\n",
    "stateMonExcSE = np.array(stateMonExc.sE / pA, dtype=useDType)\n",
    "stateMonInhSE = np.array(stateMonInh.sE / pA, dtype=useDType)\n",
    "stateMonExcSI = np.array(stateMonExc.sI / pA, dtype=useDType)\n",
    "stateMonInhSI = np.array(stateMonInh.sI / pA, dtype=useDType)"
   ]
  },
  {
   "cell_type": "code",
   "execution_count": 14,
   "metadata": {},
   "outputs": [
    {
     "data": {
      "text/plain": [
       "[<matplotlib.lines.Line2D at 0x265b10c8dc8>]"
      ]
     },
     "execution_count": 14,
     "metadata": {},
     "output_type": "execute_result"
    }
   ],
   "source": [
    "# plots\n",
    "\n",
    "f, ax = plt.subplots()\n",
    "ax.plot(timeArray, stateMonExcV[0, :])\n",
    "ax.plot(timeArray, stateMonInhV[0, :])\n",
    "\n",
    "f, ax = plt.subplots()\n",
    "ax.plot(timeArray, stateMonExcSE[0, :])\n",
    "ax.plot(timeArray, stateMonExcSI[0, :])\n",
    "\n",
    "f, ax = plt.subplots()\n",
    "ax.plot(timeArray, stateMonExcSE[0, :] - stateMonExcSI[0, :])"
   ]
  },
  {
   "cell_type": "code",
   "execution_count": 15,
   "metadata": {
    "scrolled": true
   },
   "outputs": [],
   "source": [
    "# this one works better...\n",
    "sESumExc = (stateMonExc.sE).sum() * p['dt'] * 1e3\n",
    "sESumInh = (stateMonInh.sE).sum() * p['dt'] * 1e3\n",
    "sISumExc = (stateMonExc.sI).sum() * p['dt'] * 1e3\n",
    "sISumInh = (stateMonInh.sI).sum() * p['dt'] * 1e3"
   ]
  },
  {
   "cell_type": "code",
   "execution_count": 16,
   "metadata": {
    "scrolled": true
   },
   "outputs": [
    {
     "name": "stdout",
     "output_type": "stream",
     "text": [
      "276.66296644 nC 238.92594386 nC 188.63632144 nC 139.680859 nC\n"
     ]
    }
   ],
   "source": [
    "print(sESumExc, sESumInh, sISumExc, sISumInh, )"
   ]
  },
  {
   "cell_type": "code",
   "execution_count": 17,
   "metadata": {
    "scrolled": true
   },
   "outputs": [
    {
     "name": "stdout",
     "output_type": "stream",
     "text": [
      "143.49509118 pA 123.92226015 pA 136.50692497 pA 101.08023944 pA\n"
     ]
    }
   ],
   "source": [
    "print(usejEE, usejIE, usejEI, usejII, )"
   ]
  },
  {
   "cell_type": "code",
   "execution_count": 18,
   "metadata": {
    "scrolled": true
   },
   "outputs": [
    {
     "name": "stdout",
     "output_type": "stream",
     "text": [
      "8. Hz 18. Hz\n"
     ]
    }
   ],
   "source": [
    "print(spikeMonExcT.size / p['duration'], spikeMonInhT.size / p['duration'])"
   ]
  },
  {
   "cell_type": "code",
   "execution_count": 19,
   "metadata": {},
   "outputs": [],
   "source": [
    "doEmpiricalTest = True"
   ]
  },
  {
   "cell_type": "code",
   "execution_count": 20,
   "metadata": {},
   "outputs": [
    {
     "name": "stdout",
     "output_type": "stream",
     "text": [
      "Starting simulation at t=0. s for a duration of 1. s\n",
      "1. s (100%) simulated in 1s\n"
     ]
    }
   ],
   "source": [
    "if doEmpiricalTest:\n",
    "    pForEphys = p.copy()\n",
    "    if 'iExtRange' not in pForEphys:\n",
    "        pForEphys['recordStateVariables'] = ['v', ]\n",
    "        pForEphys['propInh'] = 0.5\n",
    "        pForEphys['duration'] = 1 * second\n",
    "        pForEphys['iExtRange'] = np.linspace(0, .3, 3001) * nA\n",
    "    JEN = JercogEphysNetwork(pForEphys)\n",
    "    JEN.build_classic()\n",
    "    JEN.run()\n",
    "    RE = ResultsEphys()\n",
    "    RE.init_from_network_object(JEN)\n",
    "    RE.calculate_thresh_and_gain()\n",
    "    \n",
    "    p['threshExc'] = RE.threshExc\n",
    "    p['threshInh'] = RE.threshInh\n",
    "    p['gainExc'] = RE.gainExc\n",
    "    p['gainInh'] = RE.gainInh"
   ]
  },
  {
   "cell_type": "code",
   "execution_count": 22,
   "metadata": {
    "collapsed": true
   },
   "outputs": [
    {
     "ename": "IndexError",
     "evalue": "too many indices for array",
     "output_type": "error",
     "traceback": [
      "\u001b[1;31m---------------------------------------------------------------------------\u001b[0m",
      "\u001b[1;31mIndexError\u001b[0m                                Traceback (most recent call last)",
      "\u001b[1;32m<ipython-input-22-cf08f3e743ed>\u001b[0m in \u001b[0;36m<module>\u001b[1;34m\u001b[0m\n\u001b[0;32m      1\u001b[0m \u001b[0mf\u001b[0m\u001b[1;33m,\u001b[0m \u001b[0max\u001b[0m \u001b[1;33m=\u001b[0m \u001b[0mplt\u001b[0m\u001b[1;33m.\u001b[0m\u001b[0msubplots\u001b[0m\u001b[1;33m(\u001b[0m\u001b[1;36m2\u001b[0m\u001b[1;33m,\u001b[0m \u001b[1;36m2\u001b[0m\u001b[1;33m)\u001b[0m\u001b[1;33m\u001b[0m\u001b[1;33m\u001b[0m\u001b[0m\n\u001b[1;32m----> 2\u001b[1;33m \u001b[0mRE\u001b[0m\u001b[1;33m.\u001b[0m\u001b[0mcalculate_and_plot\u001b[0m\u001b[1;33m(\u001b[0m\u001b[0mf\u001b[0m\u001b[1;33m,\u001b[0m \u001b[0max\u001b[0m\u001b[1;33m)\u001b[0m\u001b[1;33m\u001b[0m\u001b[1;33m\u001b[0m\u001b[0m\n\u001b[0m",
      "\u001b[1;32m~\\PycharmProjects\\spiking-upstates\\results.py\u001b[0m in \u001b[0;36mcalculate_and_plot\u001b[1;34m(self, f, ax)\u001b[0m\n\u001b[0;32m    729\u001b[0m         \u001b[0museThresh\u001b[0m \u001b[1;33m=\u001b[0m \u001b[0mself\u001b[0m\u001b[1;33m.\u001b[0m\u001b[0mp\u001b[0m\u001b[1;33m[\u001b[0m\u001b[1;34m'vThreshExc'\u001b[0m\u001b[1;33m]\u001b[0m \u001b[1;33m/\u001b[0m \u001b[0mmV\u001b[0m\u001b[1;33m\u001b[0m\u001b[1;33m\u001b[0m\u001b[0m\n\u001b[0;32m    730\u001b[0m         \u001b[0max\u001b[0m\u001b[1;33m[\u001b[0m\u001b[1;36m0\u001b[0m\u001b[1;33m,\u001b[0m \u001b[1;36m0\u001b[0m\u001b[1;33m]\u001b[0m\u001b[1;33m.\u001b[0m\u001b[0mplot\u001b[0m\u001b[1;33m(\u001b[0m\u001b[0mstateMonT\u001b[0m\u001b[1;33m,\u001b[0m \u001b[0mself\u001b[0m\u001b[1;33m.\u001b[0m\u001b[0mstateMonExcV\u001b[0m\u001b[1;33m[\u001b[0m\u001b[0mI_index_for_ISI\u001b[0m\u001b[1;33m,\u001b[0m \u001b[1;33m:\u001b[0m\u001b[1;33m]\u001b[0m\u001b[1;33m,\u001b[0m \u001b[0mcolor\u001b[0m\u001b[1;33m=\u001b[0m\u001b[1;34m'g'\u001b[0m\u001b[1;33m)\u001b[0m\u001b[1;33m\u001b[0m\u001b[1;33m\u001b[0m\u001b[0m\n\u001b[1;32m--> 731\u001b[1;33m         \u001b[0max\u001b[0m\u001b[1;33m[\u001b[0m\u001b[1;36m0\u001b[0m\u001b[1;33m,\u001b[0m \u001b[1;36m0\u001b[0m\u001b[1;33m]\u001b[0m\u001b[1;33m.\u001b[0m\u001b[0mvlines\u001b[0m\u001b[1;33m(\u001b[0m\u001b[0mself\u001b[0m\u001b[1;33m.\u001b[0m\u001b[0mspikeTrainsExc\u001b[0m\u001b[1;33m[\u001b[0m\u001b[0mI_index_for_ISI\u001b[0m\u001b[1;33m]\u001b[0m\u001b[1;33m,\u001b[0m \u001b[0museThresh\u001b[0m\u001b[1;33m,\u001b[0m \u001b[0museThresh\u001b[0m \u001b[1;33m+\u001b[0m \u001b[1;36m40\u001b[0m\u001b[1;33m,\u001b[0m \u001b[0mcolor\u001b[0m\u001b[1;33m=\u001b[0m\u001b[1;34m'g'\u001b[0m\u001b[1;33m,\u001b[0m \u001b[0mlw\u001b[0m\u001b[1;33m=\u001b[0m\u001b[1;36m.3\u001b[0m\u001b[1;33m)\u001b[0m\u001b[1;33m\u001b[0m\u001b[1;33m\u001b[0m\u001b[0m\n\u001b[0m\u001b[0;32m    732\u001b[0m         \u001b[0max\u001b[0m\u001b[1;33m[\u001b[0m\u001b[1;36m0\u001b[0m\u001b[1;33m,\u001b[0m \u001b[1;36m0\u001b[0m\u001b[1;33m]\u001b[0m\u001b[1;33m.\u001b[0m\u001b[0mset\u001b[0m\u001b[1;33m(\u001b[0m\u001b[0mxlim\u001b[0m\u001b[1;33m=\u001b[0m\u001b[1;33m(\u001b[0m\u001b[1;36m0.\u001b[0m\u001b[1;33m,\u001b[0m \u001b[0mself\u001b[0m\u001b[1;33m.\u001b[0m\u001b[0mp\u001b[0m\u001b[1;33m[\u001b[0m\u001b[1;34m'duration'\u001b[0m\u001b[1;33m]\u001b[0m \u001b[1;33m/\u001b[0m \u001b[0msecond\u001b[0m\u001b[1;33m)\u001b[0m\u001b[1;33m,\u001b[0m \u001b[0mylabel\u001b[0m\u001b[1;33m=\u001b[0m\u001b[1;34m'mV'\u001b[0m\u001b[1;33m,\u001b[0m \u001b[0mxlabel\u001b[0m\u001b[1;33m=\u001b[0m\u001b[1;34m'Time (s)'\u001b[0m\u001b[1;33m)\u001b[0m\u001b[1;33m\u001b[0m\u001b[1;33m\u001b[0m\u001b[0m\n\u001b[0;32m    733\u001b[0m \u001b[1;33m\u001b[0m\u001b[0m\n",
      "\u001b[1;31mIndexError\u001b[0m: too many indices for array"
     ]
    }
   ],
   "source": [
    "f, ax = plt.subplots(2, 2)\n",
    "RE.calculate_and_plot(f, ax)"
   ]
  },
  {
   "cell_type": "code",
   "execution_count": 41,
   "metadata": {},
   "outputs": [],
   "source": [
    "f, ax = plt.subplots(2, 2)\n",
    "\n",
    "I_ext_range = RE.p['iExtRange']\n",
    "ExcData = RE.spikeMonExcC / RE.p['duration']\n",
    "InhData = RE.spikeMonInhC / RE.p['duration']\n",
    "\n",
    "I_index_for_ISI = int(len(I_ext_range) * .9) - 1\n",
    "\n",
    "# reconstruct time\n",
    "stateMonT = np.arange(0, float(RE.p['duration']), float(RE.p['dt']))\n",
    "\n",
    "# might be useful...\n",
    "# ax.axhline(useThresh, color=useColor, linestyle=':')  # Threshold\n",
    "# ax.axhline(RE.p['eLeak' + unitType] / mV, color=useColor, linestyle='--')  # Resting\n",
    "\n",
    "useThresh = RE.p['vThreshExc'] / mV\n",
    "ax[0, 0].plot(stateMonT, RE.stateMonExcV[I_index_for_ISI, :], color='g')\n",
    "ax[0, 0].vlines(RE.spikeTrainsExc[()][I_index_for_ISI], useThresh, useThresh + 40, color='g', lw=.3)\n",
    "ax[0, 0].set(xlim=(0., RE.p['duration'] / second), ylabel='mV', xlabel='Time (s)')\n",
    "\n",
    "useThresh = RE.p['vThreshInh'] / mV\n",
    "ax[0, 1].plot(stateMonT, RE.stateMonInhV[I_index_for_ISI, :], color='g')\n",
    "ax[0, 1].vlines(RE.spikeTrainsInh[()][I_index_for_ISI], useThresh, useThresh + 40, color='g', lw=.3)\n",
    "ax[0, 1].set(xlim=(0., RE.p['duration'] / second), ylabel='mV', xlabel='Time (s)')\n",
    "\n",
    "ax[1, 0].plot(I_ext_range * 1e9, ExcData, label='Exc')\n",
    "ax[1, 0].plot(I_ext_range * 1e9, InhData, label='Inh')\n",
    "ax[1, 0].axvline(float(I_ext_range[I_index_for_ISI]) * 1e9,\n",
    "                 label='displayed value', color='grey', ls='--')\n",
    "ax[1, 0].set_xlabel('Current (nA)')\n",
    "ax[1, 0].set_ylabel('Firing Rate (Hz)')\n",
    "ax[1, 0].legend()\n",
    "\n",
    "ISIExc = diff(RE.spikeTrainsExc[()][I_index_for_ISI])\n",
    "ISIInh = diff(RE.spikeTrainsInh[()][I_index_for_ISI])\n",
    "ax[1, 1].plot(arange(1, len(ISIExc) + 1), ISIExc * 1000, label='Exc')\n",
    "ax[1, 1].plot(arange(1, len(ISIInh) + 1), ISIInh * 1000, label='Inh')\n",
    "ax[1, 1].set_xlabel('ISI number')\n",
    "ax[1, 1].set_ylabel('ISI (ms)')\n",
    "ax[1, 1].legend()\n",
    "\n",
    "f.tight_layout()\n",
    "f.subplots_adjust(top=.9)"
   ]
  },
  {
   "cell_type": "code",
   "execution_count": 40,
   "metadata": {},
   "outputs": [
    {
     "data": {
      "text/plain": [
       "{0: array([], dtype=float64) * second,\n",
       " 1: array([], dtype=float64) * second,\n",
       " 2: array([], dtype=float64) * second,\n",
       " 3: array([], dtype=float64) * second,\n",
       " 4: array([], dtype=float64) * second,\n",
       " 5: array([], dtype=float64) * second,\n",
       " 6: array([], dtype=float64) * second,\n",
       " 7: array([], dtype=float64) * second,\n",
       " 8: array([], dtype=float64) * second,\n",
       " 9: array([], dtype=float64) * second,\n",
       " 10: array([], dtype=float64) * second,\n",
       " 11: array([], dtype=float64) * second,\n",
       " 12: array([], dtype=float64) * second,\n",
       " 13: array([], dtype=float64) * second,\n",
       " 14: array([], dtype=float64) * second,\n",
       " 15: array([], dtype=float64) * second,\n",
       " 16: array([], dtype=float64) * second,\n",
       " 17: array([], dtype=float64) * second,\n",
       " 18: array([], dtype=float64) * second,\n",
       " 19: array([], dtype=float64) * second,\n",
       " 20: array([], dtype=float64) * second,\n",
       " 21: array([], dtype=float64) * second,\n",
       " 22: array([], dtype=float64) * second,\n",
       " 23: array([], dtype=float64) * second,\n",
       " 24: array([], dtype=float64) * second,\n",
       " 25: array([], dtype=float64) * second,\n",
       " 26: array([], dtype=float64) * second,\n",
       " 27: array([], dtype=float64) * second,\n",
       " 28: array([], dtype=float64) * second,\n",
       " 29: array([], dtype=float64) * second,\n",
       " 30: array([], dtype=float64) * second,\n",
       " 31: array([], dtype=float64) * second,\n",
       " 32: array([], dtype=float64) * second,\n",
       " 33: array([], dtype=float64) * second,\n",
       " 34: array([], dtype=float64) * second,\n",
       " 35: array([], dtype=float64) * second,\n",
       " 36: array([], dtype=float64) * second,\n",
       " 37: array([], dtype=float64) * second,\n",
       " 38: array([], dtype=float64) * second,\n",
       " 39: array([], dtype=float64) * second,\n",
       " 40: array([], dtype=float64) * second,\n",
       " 41: array([], dtype=float64) * second,\n",
       " 42: array([], dtype=float64) * second,\n",
       " 43: array([], dtype=float64) * second,\n",
       " 44: array([], dtype=float64) * second,\n",
       " 45: array([], dtype=float64) * second,\n",
       " 46: array([], dtype=float64) * second,\n",
       " 47: array([], dtype=float64) * second,\n",
       " 48: array([], dtype=float64) * second,\n",
       " 49: array([], dtype=float64) * second,\n",
       " 50: array([], dtype=float64) * second,\n",
       " 51: array([], dtype=float64) * second,\n",
       " 52: array([], dtype=float64) * second,\n",
       " 53: array([], dtype=float64) * second,\n",
       " 54: array([], dtype=float64) * second,\n",
       " 55: array([], dtype=float64) * second,\n",
       " 56: array([], dtype=float64) * second,\n",
       " 57: array([], dtype=float64) * second,\n",
       " 58: array([], dtype=float64) * second,\n",
       " 59: array([], dtype=float64) * second,\n",
       " 60: array([], dtype=float64) * second,\n",
       " 61: array([], dtype=float64) * second,\n",
       " 62: array([], dtype=float64) * second,\n",
       " 63: array([], dtype=float64) * second,\n",
       " 64: array([], dtype=float64) * second,\n",
       " 65: array([], dtype=float64) * second,\n",
       " 66: array([], dtype=float64) * second,\n",
       " 67: array([], dtype=float64) * second,\n",
       " 68: array([], dtype=float64) * second,\n",
       " 69: array([], dtype=float64) * second,\n",
       " 70: array([], dtype=float64) * second,\n",
       " 71: array([], dtype=float64) * second,\n",
       " 72: array([], dtype=float64) * second,\n",
       " 73: array([], dtype=float64) * second,\n",
       " 74: array([], dtype=float64) * second,\n",
       " 75: array([], dtype=float64) * second,\n",
       " 76: array([], dtype=float64) * second,\n",
       " 77: array([], dtype=float64) * second,\n",
       " 78: array([], dtype=float64) * second,\n",
       " 79: array([], dtype=float64) * second,\n",
       " 80: array([], dtype=float64) * second,\n",
       " 81: array([], dtype=float64) * second,\n",
       " 82: array([], dtype=float64) * second,\n",
       " 83: array([], dtype=float64) * second,\n",
       " 84: array([], dtype=float64) * second,\n",
       " 85: array([], dtype=float64) * second,\n",
       " 86: array([], dtype=float64) * second,\n",
       " 87: array([], dtype=float64) * second,\n",
       " 88: array([], dtype=float64) * second,\n",
       " 89: array([], dtype=float64) * second,\n",
       " 90: array([], dtype=float64) * second,\n",
       " 91: array([], dtype=float64) * second,\n",
       " 92: array([], dtype=float64) * second,\n",
       " 93: array([], dtype=float64) * second,\n",
       " 94: array([], dtype=float64) * second,\n",
       " 95: array([], dtype=float64) * second,\n",
       " 96: array([], dtype=float64) * second,\n",
       " 97: array([], dtype=float64) * second,\n",
       " 98: array([], dtype=float64) * second,\n",
       " 99: array([], dtype=float64) * second,\n",
       " 100: array([], dtype=float64) * second,\n",
       " 101: array([], dtype=float64) * second,\n",
       " 102: array([], dtype=float64) * second,\n",
       " 103: array([], dtype=float64) * second,\n",
       " 104: array([], dtype=float64) * second,\n",
       " 105: array([], dtype=float64) * second,\n",
       " 106: array([], dtype=float64) * second,\n",
       " 107: array([], dtype=float64) * second,\n",
       " 108: array([], dtype=float64) * second,\n",
       " 109: array([], dtype=float64) * second,\n",
       " 110: array([], dtype=float64) * second,\n",
       " 111: array([], dtype=float64) * second,\n",
       " 112: array([], dtype=float64) * second,\n",
       " 113: array([], dtype=float64) * second,\n",
       " 114: array([], dtype=float64) * second,\n",
       " 115: array([], dtype=float64) * second,\n",
       " 116: array([], dtype=float64) * second,\n",
       " 117: array([], dtype=float64) * second,\n",
       " 118: array([], dtype=float64) * second,\n",
       " 119: array([], dtype=float64) * second,\n",
       " 120: array([], dtype=float64) * second,\n",
       " 121: array([], dtype=float64) * second,\n",
       " 122: array([], dtype=float64) * second,\n",
       " 123: array([], dtype=float64) * second,\n",
       " 124: array([], dtype=float64) * second,\n",
       " 125: array([], dtype=float64) * second,\n",
       " 126: array([], dtype=float64) * second,\n",
       " 127: array([], dtype=float64) * second,\n",
       " 128: array([], dtype=float64) * second,\n",
       " 129: array([], dtype=float64) * second,\n",
       " 130: array([], dtype=float64) * second,\n",
       " 131: array([], dtype=float64) * second,\n",
       " 132: array([], dtype=float64) * second,\n",
       " 133: array([], dtype=float64) * second,\n",
       " 134: array([], dtype=float64) * second,\n",
       " 135: array([], dtype=float64) * second,\n",
       " 136: array([], dtype=float64) * second,\n",
       " 137: array([], dtype=float64) * second,\n",
       " 138: array([], dtype=float64) * second,\n",
       " 139: array([], dtype=float64) * second,\n",
       " 140: array([], dtype=float64) * second,\n",
       " 141: array([], dtype=float64) * second,\n",
       " 142: array([], dtype=float64) * second,\n",
       " 143: array([], dtype=float64) * second,\n",
       " 144: array([], dtype=float64) * second,\n",
       " 145: array([], dtype=float64) * second,\n",
       " 146: array([], dtype=float64) * second,\n",
       " 147: array([], dtype=float64) * second,\n",
       " 148: array([], dtype=float64) * second,\n",
       " 149: array([], dtype=float64) * second,\n",
       " 150: array([], dtype=float64) * second,\n",
       " 151: array([], dtype=float64) * second,\n",
       " 152: array([], dtype=float64) * second,\n",
       " 153: array([], dtype=float64) * second,\n",
       " 154: array([], dtype=float64) * second,\n",
       " 155: array([], dtype=float64) * second,\n",
       " 156: array([], dtype=float64) * second,\n",
       " 157: array([], dtype=float64) * second,\n",
       " 158: array([], dtype=float64) * second,\n",
       " 159: array([], dtype=float64) * second,\n",
       " 160: array([], dtype=float64) * second,\n",
       " 161: array([], dtype=float64) * second,\n",
       " 162: array([], dtype=float64) * second,\n",
       " 163: array([], dtype=float64) * second,\n",
       " 164: array([], dtype=float64) * second,\n",
       " 165: array([], dtype=float64) * second,\n",
       " 166: array([], dtype=float64) * second,\n",
       " 167: array([], dtype=float64) * second,\n",
       " 168: array([], dtype=float64) * second,\n",
       " 169: array([], dtype=float64) * second,\n",
       " 170: array([], dtype=float64) * second,\n",
       " 171: array([], dtype=float64) * second,\n",
       " 172: array([], dtype=float64) * second,\n",
       " 173: array([], dtype=float64) * second,\n",
       " 174: array([], dtype=float64) * second,\n",
       " 175: array([], dtype=float64) * second,\n",
       " 176: array([], dtype=float64) * second,\n",
       " 177: array([], dtype=float64) * second,\n",
       " 178: array([], dtype=float64) * second,\n",
       " 179: array([], dtype=float64) * second,\n",
       " 180: array([], dtype=float64) * second,\n",
       " 181: array([], dtype=float64) * second,\n",
       " 182: array([], dtype=float64) * second,\n",
       " 183: array([], dtype=float64) * second,\n",
       " 184: array([], dtype=float64) * second,\n",
       " 185: array([], dtype=float64) * second,\n",
       " 186: array([], dtype=float64) * second,\n",
       " 187: array([], dtype=float64) * second,\n",
       " 188: array([], dtype=float64) * second,\n",
       " 189: array([], dtype=float64) * second,\n",
       " 190: array([], dtype=float64) * second,\n",
       " 191: array([], dtype=float64) * second,\n",
       " 192: array([], dtype=float64) * second,\n",
       " 193: array([], dtype=float64) * second,\n",
       " 194: array([], dtype=float64) * second,\n",
       " 195: array([], dtype=float64) * second,\n",
       " 196: array([], dtype=float64) * second,\n",
       " 197: array([], dtype=float64) * second,\n",
       " 198: array([], dtype=float64) * second,\n",
       " 199: array([], dtype=float64) * second,\n",
       " 200: array([], dtype=float64) * second,\n",
       " 201: array([], dtype=float64) * second,\n",
       " 202: array([], dtype=float64) * second,\n",
       " 203: array([], dtype=float64) * second,\n",
       " 204: array([], dtype=float64) * second,\n",
       " 205: array([], dtype=float64) * second,\n",
       " 206: array([], dtype=float64) * second,\n",
       " 207: array([], dtype=float64) * second,\n",
       " 208: array([], dtype=float64) * second,\n",
       " 209: array([], dtype=float64) * second,\n",
       " 210: array([], dtype=float64) * second,\n",
       " 211: array([], dtype=float64) * second,\n",
       " 212: array([], dtype=float64) * second,\n",
       " 213: array([], dtype=float64) * second,\n",
       " 214: array([], dtype=float64) * second,\n",
       " 215: array([], dtype=float64) * second,\n",
       " 216: array([], dtype=float64) * second,\n",
       " 217: array([], dtype=float64) * second,\n",
       " 218: array([], dtype=float64) * second,\n",
       " 219: array([], dtype=float64) * second,\n",
       " 220: array([], dtype=float64) * second,\n",
       " 221: array([], dtype=float64) * second,\n",
       " 222: array([], dtype=float64) * second,\n",
       " 223: array([], dtype=float64) * second,\n",
       " 224: array([], dtype=float64) * second,\n",
       " 225: array([], dtype=float64) * second,\n",
       " 226: array([], dtype=float64) * second,\n",
       " 227: array([], dtype=float64) * second,\n",
       " 228: array([], dtype=float64) * second,\n",
       " 229: array([], dtype=float64) * second,\n",
       " 230: array([], dtype=float64) * second,\n",
       " 231: array([], dtype=float64) * second,\n",
       " 232: array([], dtype=float64) * second,\n",
       " 233: array([], dtype=float64) * second,\n",
       " 234: array([], dtype=float64) * second,\n",
       " 235: array([], dtype=float64) * second,\n",
       " 236: array([], dtype=float64) * second,\n",
       " 237: array([], dtype=float64) * second,\n",
       " 238: array([], dtype=float64) * second,\n",
       " 239: array([], dtype=float64) * second,\n",
       " 240: array([], dtype=float64) * second,\n",
       " 241: array([], dtype=float64) * second,\n",
       " 242: array([], dtype=float64) * second,\n",
       " 243: array([], dtype=float64) * second,\n",
       " 244: array([], dtype=float64) * second,\n",
       " 245: array([], dtype=float64) * second,\n",
       " 246: array([], dtype=float64) * second,\n",
       " 247: array([], dtype=float64) * second,\n",
       " 248: array([], dtype=float64) * second,\n",
       " 249: array([], dtype=float64) * second,\n",
       " 250: array([], dtype=float64) * second,\n",
       " 251: array([], dtype=float64) * second,\n",
       " 252: array([], dtype=float64) * second,\n",
       " 253: array([], dtype=float64) * second,\n",
       " 254: array([], dtype=float64) * second,\n",
       " 255: array([], dtype=float64) * second,\n",
       " 256: array([], dtype=float64) * second,\n",
       " 257: array([], dtype=float64) * second,\n",
       " 258: array([], dtype=float64) * second,\n",
       " 259: array([], dtype=float64) * second,\n",
       " 260: array([], dtype=float64) * second,\n",
       " 261: array([], dtype=float64) * second,\n",
       " 262: array([], dtype=float64) * second,\n",
       " 263: array([], dtype=float64) * second,\n",
       " 264: array([], dtype=float64) * second,\n",
       " 265: array([], dtype=float64) * second,\n",
       " 266: array([], dtype=float64) * second,\n",
       " 267: array([], dtype=float64) * second,\n",
       " 268: array([], dtype=float64) * second,\n",
       " 269: array([], dtype=float64) * second,\n",
       " 270: array([], dtype=float64) * second,\n",
       " 271: array([], dtype=float64) * second,\n",
       " 272: array([], dtype=float64) * second,\n",
       " 273: array([], dtype=float64) * second,\n",
       " 274: array([], dtype=float64) * second,\n",
       " 275: array([], dtype=float64) * second,\n",
       " 276: array([], dtype=float64) * second,\n",
       " 277: array([], dtype=float64) * second,\n",
       " 278: array([], dtype=float64) * second,\n",
       " 279: array([], dtype=float64) * second,\n",
       " 280: array([], dtype=float64) * second,\n",
       " 281: array([], dtype=float64) * second,\n",
       " 282: array([], dtype=float64) * second,\n",
       " 283: array([], dtype=float64) * second,\n",
       " 284: array([], dtype=float64) * second,\n",
       " 285: array([], dtype=float64) * second,\n",
       " 286: array([], dtype=float64) * second,\n",
       " 287: array([], dtype=float64) * second,\n",
       " 288: array([], dtype=float64) * second,\n",
       " 289: array([], dtype=float64) * second,\n",
       " 290: array([], dtype=float64) * second,\n",
       " 291: array([], dtype=float64) * second,\n",
       " 292: array([], dtype=float64) * second,\n",
       " 293: array([], dtype=float64) * second,\n",
       " 294: array([], dtype=float64) * second,\n",
       " 295: array([], dtype=float64) * second,\n",
       " 296: array([], dtype=float64) * second,\n",
       " 297: array([], dtype=float64) * second,\n",
       " 298: array([], dtype=float64) * second,\n",
       " 299: array([], dtype=float64) * second,\n",
       " 300: array([], dtype=float64) * second,\n",
       " 301: array([], dtype=float64) * second,\n",
       " 302: array([], dtype=float64) * second,\n",
       " 303: array([], dtype=float64) * second,\n",
       " 304: array([], dtype=float64) * second,\n",
       " 305: array([], dtype=float64) * second,\n",
       " 306: array([], dtype=float64) * second,\n",
       " 307: array([], dtype=float64) * second,\n",
       " 308: array([], dtype=float64) * second,\n",
       " 309: array([], dtype=float64) * second,\n",
       " 310: array([], dtype=float64) * second,\n",
       " 311: array([], dtype=float64) * second,\n",
       " 312: array([], dtype=float64) * second,\n",
       " 313: array([], dtype=float64) * second,\n",
       " 314: array([], dtype=float64) * second,\n",
       " 315: array([], dtype=float64) * second,\n",
       " 316: array([], dtype=float64) * second,\n",
       " 317: array([], dtype=float64) * second,\n",
       " 318: array([], dtype=float64) * second,\n",
       " 319: array([], dtype=float64) * second,\n",
       " 320: array([], dtype=float64) * second,\n",
       " 321: array([], dtype=float64) * second,\n",
       " 322: array([], dtype=float64) * second,\n",
       " 323: array([], dtype=float64) * second,\n",
       " 324: array([], dtype=float64) * second,\n",
       " 325: array([], dtype=float64) * second,\n",
       " 326: array([], dtype=float64) * second,\n",
       " 327: array([], dtype=float64) * second,\n",
       " 328: array([], dtype=float64) * second,\n",
       " 329: array([], dtype=float64) * second,\n",
       " 330: array([], dtype=float64) * second,\n",
       " 331: array([], dtype=float64) * second,\n",
       " 332: array([], dtype=float64) * second,\n",
       " 333: array([], dtype=float64) * second,\n",
       " 334: array([], dtype=float64) * second,\n",
       " 335: array([], dtype=float64) * second,\n",
       " 336: array([], dtype=float64) * second,\n",
       " 337: array([], dtype=float64) * second,\n",
       " 338: array([], dtype=float64) * second,\n",
       " 339: array([], dtype=float64) * second,\n",
       " 340: array([], dtype=float64) * second,\n",
       " 341: array([], dtype=float64) * second,\n",
       " 342: array([], dtype=float64) * second,\n",
       " 343: array([], dtype=float64) * second,\n",
       " 344: array([], dtype=float64) * second,\n",
       " 345: array([], dtype=float64) * second,\n",
       " 346: array([], dtype=float64) * second,\n",
       " 347: array([], dtype=float64) * second,\n",
       " 348: array([], dtype=float64) * second,\n",
       " 349: array([], dtype=float64) * second,\n",
       " 350: array([], dtype=float64) * second,\n",
       " 351: array([], dtype=float64) * second,\n",
       " 352: array([], dtype=float64) * second,\n",
       " 353: array([], dtype=float64) * second,\n",
       " 354: array([], dtype=float64) * second,\n",
       " 355: array([], dtype=float64) * second,\n",
       " 356: array([], dtype=float64) * second,\n",
       " 357: array([], dtype=float64) * second,\n",
       " 358: array([], dtype=float64) * second,\n",
       " 359: array([], dtype=float64) * second,\n",
       " 360: array([], dtype=float64) * second,\n",
       " 361: array([], dtype=float64) * second,\n",
       " 362: array([], dtype=float64) * second,\n",
       " 363: array([], dtype=float64) * second,\n",
       " 364: array([], dtype=float64) * second,\n",
       " 365: array([], dtype=float64) * second,\n",
       " 366: array([], dtype=float64) * second,\n",
       " 367: array([], dtype=float64) * second,\n",
       " 368: array([], dtype=float64) * second,\n",
       " 369: array([], dtype=float64) * second,\n",
       " 370: array([], dtype=float64) * second,\n",
       " 371: array([], dtype=float64) * second,\n",
       " 372: array([], dtype=float64) * second,\n",
       " 373: array([], dtype=float64) * second,\n",
       " 374: array([], dtype=float64) * second,\n",
       " 375: array([], dtype=float64) * second,\n",
       " 376: array([], dtype=float64) * second,\n",
       " 377: array([], dtype=float64) * second,\n",
       " 378: array([], dtype=float64) * second,\n",
       " 379: array([], dtype=float64) * second,\n",
       " 380: array([], dtype=float64) * second,\n",
       " 381: array([], dtype=float64) * second,\n",
       " 382: array([], dtype=float64) * second,\n",
       " 383: array([], dtype=float64) * second,\n",
       " 384: array([], dtype=float64) * second,\n",
       " 385: array([], dtype=float64) * second,\n",
       " 386: array([], dtype=float64) * second,\n",
       " 387: array([], dtype=float64) * second,\n",
       " 388: array([], dtype=float64) * second,\n",
       " 389: array([], dtype=float64) * second,\n",
       " 390: array([], dtype=float64) * second,\n",
       " 391: array([], dtype=float64) * second,\n",
       " 392: array([], dtype=float64) * second,\n",
       " 393: array([], dtype=float64) * second,\n",
       " 394: array([], dtype=float64) * second,\n",
       " 395: array([], dtype=float64) * second,\n",
       " 396: array([], dtype=float64) * second,\n",
       " 397: array([], dtype=float64) * second,\n",
       " 398: array([], dtype=float64) * second,\n",
       " 399: array([], dtype=float64) * second,\n",
       " 400: array([], dtype=float64) * second,\n",
       " 401: array([], dtype=float64) * second,\n",
       " 402: array([], dtype=float64) * second,\n",
       " 403: array([], dtype=float64) * second,\n",
       " 404: array([], dtype=float64) * second,\n",
       " 405: array([], dtype=float64) * second,\n",
       " 406: array([], dtype=float64) * second,\n",
       " 407: array([], dtype=float64) * second,\n",
       " 408: array([], dtype=float64) * second,\n",
       " 409: array([], dtype=float64) * second,\n",
       " 410: array([], dtype=float64) * second,\n",
       " 411: array([], dtype=float64) * second,\n",
       " 412: array([], dtype=float64) * second,\n",
       " 413: array([], dtype=float64) * second,\n",
       " 414: array([], dtype=float64) * second,\n",
       " 415: array([], dtype=float64) * second,\n",
       " 416: array([], dtype=float64) * second,\n",
       " 417: array([], dtype=float64) * second,\n",
       " 418: array([], dtype=float64) * second,\n",
       " 419: array([], dtype=float64) * second,\n",
       " 420: array([], dtype=float64) * second,\n",
       " 421: array([], dtype=float64) * second,\n",
       " 422: array([], dtype=float64) * second,\n",
       " 423: array([], dtype=float64) * second,\n",
       " 424: array([], dtype=float64) * second,\n",
       " 425: array([], dtype=float64) * second,\n",
       " 426: array([], dtype=float64) * second,\n",
       " 427: array([], dtype=float64) * second,\n",
       " 428: array([], dtype=float64) * second,\n",
       " 429: array([], dtype=float64) * second,\n",
       " 430: array([], dtype=float64) * second,\n",
       " 431: array([], dtype=float64) * second,\n",
       " 432: array([], dtype=float64) * second,\n",
       " 433: array([], dtype=float64) * second,\n",
       " 434: array([], dtype=float64) * second,\n",
       " 435: array([], dtype=float64) * second,\n",
       " 436: array([], dtype=float64) * second,\n",
       " 437: array([], dtype=float64) * second,\n",
       " 438: array([], dtype=float64) * second,\n",
       " 439: array([], dtype=float64) * second,\n",
       " 440: array([], dtype=float64) * second,\n",
       " 441: array([], dtype=float64) * second,\n",
       " 442: array([], dtype=float64) * second,\n",
       " 443: array([], dtype=float64) * second,\n",
       " 444: array([], dtype=float64) * second,\n",
       " 445: array([], dtype=float64) * second,\n",
       " 446: array([], dtype=float64) * second,\n",
       " 447: array([], dtype=float64) * second,\n",
       " 448: array([], dtype=float64) * second,\n",
       " 449: array([], dtype=float64) * second,\n",
       " 450: array([], dtype=float64) * second,\n",
       " 451: array([], dtype=float64) * second,\n",
       " 452: array([], dtype=float64) * second,\n",
       " 453: array([], dtype=float64) * second,\n",
       " 454: array([], dtype=float64) * second,\n",
       " 455: array([], dtype=float64) * second,\n",
       " 456: array([], dtype=float64) * second,\n",
       " 457: array([], dtype=float64) * second,\n",
       " 458: array([], dtype=float64) * second,\n",
       " 459: array([], dtype=float64) * second,\n",
       " 460: array([], dtype=float64) * second,\n",
       " 461: array([], dtype=float64) * second,\n",
       " 462: array([], dtype=float64) * second,\n",
       " 463: array([], dtype=float64) * second,\n",
       " 464: array([], dtype=float64) * second,\n",
       " 465: array([], dtype=float64) * second,\n",
       " 466: array([], dtype=float64) * second,\n",
       " 467: array([], dtype=float64) * second,\n",
       " 468: array([], dtype=float64) * second,\n",
       " 469: array([], dtype=float64) * second,\n",
       " 470: array([], dtype=float64) * second,\n",
       " 471: array([], dtype=float64) * second,\n",
       " 472: array([], dtype=float64) * second,\n",
       " 473: array([], dtype=float64) * second,\n",
       " 474: array([], dtype=float64) * second,\n",
       " 475: array([], dtype=float64) * second,\n",
       " 476: array([], dtype=float64) * second,\n",
       " 477: array([], dtype=float64) * second,\n",
       " 478: array([], dtype=float64) * second,\n",
       " 479: array([], dtype=float64) * second,\n",
       " 480: array([], dtype=float64) * second,\n",
       " 481: array([], dtype=float64) * second,\n",
       " 482: array([], dtype=float64) * second,\n",
       " 483: array([], dtype=float64) * second,\n",
       " 484: array([], dtype=float64) * second,\n",
       " 485: array([], dtype=float64) * second,\n",
       " 486: array([], dtype=float64) * second,\n",
       " 487: array([], dtype=float64) * second,\n",
       " 488: array([], dtype=float64) * second,\n",
       " 489: array([], dtype=float64) * second,\n",
       " 490: array([], dtype=float64) * second,\n",
       " 491: array([], dtype=float64) * second,\n",
       " 492: array([], dtype=float64) * second,\n",
       " 493: array([], dtype=float64) * second,\n",
       " 494: array([], dtype=float64) * second,\n",
       " 495: array([], dtype=float64) * second,\n",
       " 496: array([], dtype=float64) * second,\n",
       " 497: array([], dtype=float64) * second,\n",
       " 498: array([], dtype=float64) * second,\n",
       " 499: array([], dtype=float64) * second,\n",
       " 500: array([], dtype=float64) * second,\n",
       " 501: array([], dtype=float64) * second,\n",
       " 502: array([], dtype=float64) * second,\n",
       " 503: array([], dtype=float64) * second,\n",
       " 504: array([], dtype=float64) * second,\n",
       " 505: array([], dtype=float64) * second,\n",
       " 506: array([], dtype=float64) * second,\n",
       " 507: array([], dtype=float64) * second,\n",
       " 508: array([], dtype=float64) * second,\n",
       " 509: array([], dtype=float64) * second,\n",
       " 510: array([], dtype=float64) * second,\n",
       " 511: array([], dtype=float64) * second,\n",
       " 512: array([], dtype=float64) * second,\n",
       " 513: array([], dtype=float64) * second,\n",
       " 514: array([], dtype=float64) * second,\n",
       " 515: array([], dtype=float64) * second,\n",
       " 516: array([], dtype=float64) * second,\n",
       " 517: array([], dtype=float64) * second,\n",
       " 518: array([], dtype=float64) * second,\n",
       " 519: array([], dtype=float64) * second,\n",
       " 520: array([], dtype=float64) * second,\n",
       " 521: array([], dtype=float64) * second,\n",
       " 522: array([], dtype=float64) * second,\n",
       " 523: array([], dtype=float64) * second,\n",
       " 524: array([], dtype=float64) * second,\n",
       " 525: array([], dtype=float64) * second,\n",
       " 526: array([], dtype=float64) * second,\n",
       " 527: array([], dtype=float64) * second,\n",
       " 528: array([], dtype=float64) * second,\n",
       " 529: array([], dtype=float64) * second,\n",
       " 530: array([], dtype=float64) * second,\n",
       " 531: array([], dtype=float64) * second,\n",
       " 532: array([], dtype=float64) * second,\n",
       " 533: array([], dtype=float64) * second,\n",
       " 534: array([], dtype=float64) * second,\n",
       " 535: array([], dtype=float64) * second,\n",
       " 536: array([], dtype=float64) * second,\n",
       " 537: array([], dtype=float64) * second,\n",
       " 538: array([], dtype=float64) * second,\n",
       " 539: array([], dtype=float64) * second,\n",
       " 540: array([], dtype=float64) * second,\n",
       " 541: array([], dtype=float64) * second,\n",
       " 542: array([], dtype=float64) * second,\n",
       " 543: array([], dtype=float64) * second,\n",
       " 544: array([], dtype=float64) * second,\n",
       " 545: array([], dtype=float64) * second,\n",
       " 546: array([], dtype=float64) * second,\n",
       " 547: array([], dtype=float64) * second,\n",
       " 548: array([], dtype=float64) * second,\n",
       " 549: array([], dtype=float64) * second,\n",
       " 550: array([], dtype=float64) * second,\n",
       " 551: array([], dtype=float64) * second,\n",
       " 552: array([], dtype=float64) * second,\n",
       " 553: array([], dtype=float64) * second,\n",
       " 554: array([], dtype=float64) * second,\n",
       " 555: array([], dtype=float64) * second,\n",
       " 556: array([], dtype=float64) * second,\n",
       " 557: array([], dtype=float64) * second,\n",
       " 558: array([], dtype=float64) * second,\n",
       " 559: array([], dtype=float64) * second,\n",
       " 560: array([], dtype=float64) * second,\n",
       " 561: array([], dtype=float64) * second,\n",
       " 562: array([], dtype=float64) * second,\n",
       " 563: array([], dtype=float64) * second,\n",
       " 564: array([], dtype=float64) * second,\n",
       " 565: array([], dtype=float64) * second,\n",
       " 566: array([], dtype=float64) * second,\n",
       " 567: array([], dtype=float64) * second,\n",
       " 568: array([], dtype=float64) * second,\n",
       " 569: array([], dtype=float64) * second,\n",
       " 570: array([], dtype=float64) * second,\n",
       " 571: array([], dtype=float64) * second,\n",
       " 572: array([], dtype=float64) * second,\n",
       " 573: array([], dtype=float64) * second,\n",
       " 574: array([], dtype=float64) * second,\n",
       " 575: array([], dtype=float64) * second,\n",
       " 576: array([], dtype=float64) * second,\n",
       " 577: array([], dtype=float64) * second,\n",
       " 578: array([], dtype=float64) * second,\n",
       " 579: array([], dtype=float64) * second,\n",
       " 580: array([], dtype=float64) * second,\n",
       " 581: array([], dtype=float64) * second,\n",
       " 582: array([], dtype=float64) * second,\n",
       " 583: array([], dtype=float64) * second,\n",
       " 584: array([], dtype=float64) * second,\n",
       " 585: array([], dtype=float64) * second,\n",
       " 586: array([], dtype=float64) * second,\n",
       " 587: array([], dtype=float64) * second,\n",
       " 588: array([], dtype=float64) * second,\n",
       " 589: array([], dtype=float64) * second,\n",
       " 590: array([], dtype=float64) * second,\n",
       " 591: array([], dtype=float64) * second,\n",
       " 592: array([], dtype=float64) * second,\n",
       " 593: array([], dtype=float64) * second,\n",
       " 594: array([], dtype=float64) * second,\n",
       " 595: array([], dtype=float64) * second,\n",
       " 596: array([], dtype=float64) * second,\n",
       " 597: array([], dtype=float64) * second,\n",
       " 598: array([], dtype=float64) * second,\n",
       " 599: array([], dtype=float64) * second,\n",
       " 600: array([], dtype=float64) * second,\n",
       " 601: array([], dtype=float64) * second,\n",
       " 602: array([], dtype=float64) * second,\n",
       " 603: array([], dtype=float64) * second,\n",
       " 604: array([], dtype=float64) * second,\n",
       " 605: array([], dtype=float64) * second,\n",
       " 606: array([], dtype=float64) * second,\n",
       " 607: array([], dtype=float64) * second,\n",
       " 608: array([], dtype=float64) * second,\n",
       " 609: array([], dtype=float64) * second,\n",
       " 610: array([], dtype=float64) * second,\n",
       " 611: array([], dtype=float64) * second,\n",
       " 612: array([], dtype=float64) * second,\n",
       " 613: array([], dtype=float64) * second,\n",
       " 614: array([], dtype=float64) * second,\n",
       " 615: array([], dtype=float64) * second,\n",
       " 616: array([], dtype=float64) * second,\n",
       " 617: array([], dtype=float64) * second,\n",
       " 618: array([], dtype=float64) * second,\n",
       " 619: array([], dtype=float64) * second,\n",
       " 620: array([], dtype=float64) * second,\n",
       " 621: array([], dtype=float64) * second,\n",
       " 622: array([], dtype=float64) * second,\n",
       " 623: array([], dtype=float64) * second,\n",
       " 624: array([], dtype=float64) * second,\n",
       " 625: array([], dtype=float64) * second,\n",
       " 626: array([], dtype=float64) * second,\n",
       " 627: array([], dtype=float64) * second,\n",
       " 628: array([], dtype=float64) * second,\n",
       " 629: array([], dtype=float64) * second,\n",
       " 630: array([], dtype=float64) * second,\n",
       " 631: array([], dtype=float64) * second,\n",
       " 632: array([], dtype=float64) * second,\n",
       " 633: array([], dtype=float64) * second,\n",
       " 634: array([], dtype=float64) * second,\n",
       " 635: array([], dtype=float64) * second,\n",
       " 636: array([], dtype=float64) * second,\n",
       " 637: array([], dtype=float64) * second,\n",
       " 638: array([], dtype=float64) * second,\n",
       " 639: array([], dtype=float64) * second,\n",
       " 640: array([], dtype=float64) * second,\n",
       " 641: array([], dtype=float64) * second,\n",
       " 642: array([], dtype=float64) * second,\n",
       " 643: array([], dtype=float64) * second,\n",
       " 644: array([], dtype=float64) * second,\n",
       " 645: array([], dtype=float64) * second,\n",
       " 646: array([], dtype=float64) * second,\n",
       " 647: array([], dtype=float64) * second,\n",
       " 648: array([], dtype=float64) * second,\n",
       " 649: array([], dtype=float64) * second,\n",
       " 650: array([], dtype=float64) * second,\n",
       " 651: array([], dtype=float64) * second,\n",
       " 652: array([], dtype=float64) * second,\n",
       " 653: array([], dtype=float64) * second,\n",
       " 654: array([], dtype=float64) * second,\n",
       " 655: array([], dtype=float64) * second,\n",
       " 656: array([], dtype=float64) * second,\n",
       " 657: array([], dtype=float64) * second,\n",
       " 658: array([], dtype=float64) * second,\n",
       " 659: array([], dtype=float64) * second,\n",
       " 660: array([], dtype=float64) * second,\n",
       " 661: array([], dtype=float64) * second,\n",
       " 662: array([], dtype=float64) * second,\n",
       " 663: array([], dtype=float64) * second,\n",
       " 664: array([], dtype=float64) * second,\n",
       " 665: array([], dtype=float64) * second,\n",
       " 666: array([], dtype=float64) * second,\n",
       " 667: array([], dtype=float64) * second,\n",
       " 668: array([], dtype=float64) * second,\n",
       " 669: array([], dtype=float64) * second,\n",
       " 670: array([], dtype=float64) * second,\n",
       " 671: array([], dtype=float64) * second,\n",
       " 672: array([], dtype=float64) * second,\n",
       " 673: array([], dtype=float64) * second,\n",
       " 674: array([], dtype=float64) * second,\n",
       " 675: array([], dtype=float64) * second,\n",
       " 676: array([], dtype=float64) * second,\n",
       " 677: array([], dtype=float64) * second,\n",
       " 678: array([], dtype=float64) * second,\n",
       " 679: array([], dtype=float64) * second,\n",
       " 680: array([], dtype=float64) * second,\n",
       " 681: array([], dtype=float64) * second,\n",
       " 682: array([], dtype=float64) * second,\n",
       " 683: array([], dtype=float64) * second,\n",
       " 684: array([], dtype=float64) * second,\n",
       " 685: array([], dtype=float64) * second,\n",
       " 686: array([], dtype=float64) * second,\n",
       " 687: array([], dtype=float64) * second,\n",
       " 688: array([], dtype=float64) * second,\n",
       " 689: array([], dtype=float64) * second,\n",
       " 690: array([], dtype=float64) * second,\n",
       " 691: array([], dtype=float64) * second,\n",
       " 692: array([], dtype=float64) * second,\n",
       " 693: array([], dtype=float64) * second,\n",
       " 694: array([], dtype=float64) * second,\n",
       " 695: array([], dtype=float64) * second,\n",
       " 696: array([], dtype=float64) * second,\n",
       " 697: array([], dtype=float64) * second,\n",
       " 698: array([], dtype=float64) * second,\n",
       " 699: array([], dtype=float64) * second,\n",
       " 700: array([], dtype=float64) * second,\n",
       " 701: array([], dtype=float64) * second,\n",
       " 702: array([], dtype=float64) * second,\n",
       " 703: array([], dtype=float64) * second,\n",
       " 704: array([], dtype=float64) * second,\n",
       " 705: array([], dtype=float64) * second,\n",
       " 706: array([], dtype=float64) * second,\n",
       " 707: array([], dtype=float64) * second,\n",
       " 708: array([], dtype=float64) * second,\n",
       " 709: array([], dtype=float64) * second,\n",
       " 710: array([], dtype=float64) * second,\n",
       " 711: array([], dtype=float64) * second,\n",
       " 712: array([], dtype=float64) * second,\n",
       " 713: array([], dtype=float64) * second,\n",
       " 714: array([], dtype=float64) * second,\n",
       " 715: array([], dtype=float64) * second,\n",
       " 716: array([], dtype=float64) * second,\n",
       " 717: array([], dtype=float64) * second,\n",
       " 718: array([], dtype=float64) * second,\n",
       " 719: array([], dtype=float64) * second,\n",
       " 720: array([], dtype=float64) * second,\n",
       " 721: array([], dtype=float64) * second,\n",
       " 722: array([], dtype=float64) * second,\n",
       " 723: array([], dtype=float64) * second,\n",
       " 724: array([], dtype=float64) * second,\n",
       " 725: array([], dtype=float64) * second,\n",
       " 726: array([], dtype=float64) * second,\n",
       " 727: array([], dtype=float64) * second,\n",
       " 728: array([], dtype=float64) * second,\n",
       " 729: array([], dtype=float64) * second,\n",
       " 730: array([], dtype=float64) * second,\n",
       " 731: array([], dtype=float64) * second,\n",
       " 732: array([], dtype=float64) * second,\n",
       " 733: array([], dtype=float64) * second,\n",
       " 734: array([], dtype=float64) * second,\n",
       " 735: array([], dtype=float64) * second,\n",
       " 736: array([], dtype=float64) * second,\n",
       " 737: array([], dtype=float64) * second,\n",
       " 738: array([], dtype=float64) * second,\n",
       " 739: array([], dtype=float64) * second,\n",
       " 740: array([], dtype=float64) * second,\n",
       " 741: array([], dtype=float64) * second,\n",
       " 742: array([], dtype=float64) * second,\n",
       " 743: array([], dtype=float64) * second,\n",
       " 744: array([], dtype=float64) * second,\n",
       " 745: array([], dtype=float64) * second,\n",
       " 746: array([], dtype=float64) * second,\n",
       " 747: array([], dtype=float64) * second,\n",
       " 748: array([], dtype=float64) * second,\n",
       " 749: array([], dtype=float64) * second,\n",
       " 750: array([], dtype=float64) * second,\n",
       " 751: array([], dtype=float64) * second,\n",
       " 752: array([], dtype=float64) * second,\n",
       " 753: array([], dtype=float64) * second,\n",
       " 754: array([], dtype=float64) * second,\n",
       " 755: array([], dtype=float64) * second,\n",
       " 756: array([], dtype=float64) * second,\n",
       " 757: array([], dtype=float64) * second,\n",
       " 758: array([], dtype=float64) * second,\n",
       " 759: array([], dtype=float64) * second,\n",
       " 760: array([], dtype=float64) * second,\n",
       " 761: array([], dtype=float64) * second,\n",
       " 762: array([], dtype=float64) * second,\n",
       " 763: array([], dtype=float64) * second,\n",
       " 764: array([], dtype=float64) * second,\n",
       " 765: array([], dtype=float64) * second,\n",
       " 766: array([], dtype=float64) * second,\n",
       " 767: array([], dtype=float64) * second,\n",
       " 768: array([], dtype=float64) * second,\n",
       " 769: array([], dtype=float64) * second,\n",
       " 770: array([], dtype=float64) * second,\n",
       " 771: array([], dtype=float64) * second,\n",
       " 772: array([], dtype=float64) * second,\n",
       " 773: array([], dtype=float64) * second,\n",
       " 774: array([], dtype=float64) * second,\n",
       " 775: array([], dtype=float64) * second,\n",
       " 776: array([], dtype=float64) * second,\n",
       " 777: array([], dtype=float64) * second,\n",
       " 778: array([], dtype=float64) * second,\n",
       " 779: array([], dtype=float64) * second,\n",
       " 780: array([], dtype=float64) * second,\n",
       " 781: array([], dtype=float64) * second,\n",
       " 782: array([], dtype=float64) * second,\n",
       " 783: array([], dtype=float64) * second,\n",
       " 784: array([], dtype=float64) * second,\n",
       " 785: array([], dtype=float64) * second,\n",
       " 786: array([], dtype=float64) * second,\n",
       " 787: array([], dtype=float64) * second,\n",
       " 788: array([], dtype=float64) * second,\n",
       " 789: array([], dtype=float64) * second,\n",
       " 790: array([], dtype=float64) * second,\n",
       " 791: array([], dtype=float64) * second,\n",
       " 792: array([], dtype=float64) * second,\n",
       " 793: array([], dtype=float64) * second,\n",
       " 794: array([], dtype=float64) * second,\n",
       " 795: array([], dtype=float64) * second,\n",
       " 796: array([], dtype=float64) * second,\n",
       " 797: array([], dtype=float64) * second,\n",
       " 798: array([], dtype=float64) * second,\n",
       " 799: array([], dtype=float64) * second,\n",
       " 800: array([], dtype=float64) * second,\n",
       " 801: array([], dtype=float64) * second,\n",
       " 802: array([], dtype=float64) * second,\n",
       " 803: array([], dtype=float64) * second,\n",
       " 804: array([], dtype=float64) * second,\n",
       " 805: array([], dtype=float64) * second,\n",
       " 806: array([], dtype=float64) * second,\n",
       " 807: array([], dtype=float64) * second,\n",
       " 808: array([], dtype=float64) * second,\n",
       " 809: array([], dtype=float64) * second,\n",
       " 810: array([], dtype=float64) * second,\n",
       " 811: array([], dtype=float64) * second,\n",
       " 812: array([], dtype=float64) * second,\n",
       " 813: array([], dtype=float64) * second,\n",
       " 814: array([], dtype=float64) * second,\n",
       " 815: array([], dtype=float64) * second,\n",
       " 816: array([], dtype=float64) * second,\n",
       " 817: array([], dtype=float64) * second,\n",
       " 818: array([], dtype=float64) * second,\n",
       " 819: array([], dtype=float64) * second,\n",
       " 820: array([], dtype=float64) * second,\n",
       " 821: array([], dtype=float64) * second,\n",
       " 822: array([], dtype=float64) * second,\n",
       " 823: array([], dtype=float64) * second,\n",
       " 824: array([], dtype=float64) * second,\n",
       " 825: array([], dtype=float64) * second,\n",
       " 826: array([], dtype=float64) * second,\n",
       " 827: array([], dtype=float64) * second,\n",
       " 828: array([], dtype=float64) * second,\n",
       " 829: array([], dtype=float64) * second,\n",
       " 830: array([], dtype=float64) * second,\n",
       " 831: array([], dtype=float64) * second,\n",
       " 832: array([], dtype=float64) * second,\n",
       " 833: array([], dtype=float64) * second,\n",
       " 834: array([], dtype=float64) * second,\n",
       " 835: array([], dtype=float64) * second,\n",
       " 836: array([], dtype=float64) * second,\n",
       " 837: array([], dtype=float64) * second,\n",
       " 838: array([], dtype=float64) * second,\n",
       " 839: array([], dtype=float64) * second,\n",
       " 840: array([], dtype=float64) * second,\n",
       " 841: array([], dtype=float64) * second,\n",
       " 842: array([], dtype=float64) * second,\n",
       " 843: array([], dtype=float64) * second,\n",
       " 844: array([], dtype=float64) * second,\n",
       " 845: array([], dtype=float64) * second,\n",
       " 846: array([], dtype=float64) * second,\n",
       " 847: array([], dtype=float64) * second,\n",
       " 848: array([], dtype=float64) * second,\n",
       " 849: array([], dtype=float64) * second,\n",
       " 850: array([], dtype=float64) * second,\n",
       " 851: array([], dtype=float64) * second,\n",
       " 852: array([], dtype=float64) * second,\n",
       " 853: array([], dtype=float64) * second,\n",
       " 854: array([], dtype=float64) * second,\n",
       " 855: array([], dtype=float64) * second,\n",
       " 856: array([], dtype=float64) * second,\n",
       " 857: array([], dtype=float64) * second,\n",
       " 858: array([], dtype=float64) * second,\n",
       " 859: array([], dtype=float64) * second,\n",
       " 860: array([], dtype=float64) * second,\n",
       " 861: array([], dtype=float64) * second,\n",
       " 862: array([], dtype=float64) * second,\n",
       " 863: array([], dtype=float64) * second,\n",
       " 864: array([], dtype=float64) * second,\n",
       " 865: array([], dtype=float64) * second,\n",
       " 866: array([], dtype=float64) * second,\n",
       " 867: array([], dtype=float64) * second,\n",
       " 868: array([], dtype=float64) * second,\n",
       " 869: array([], dtype=float64) * second,\n",
       " 870: array([], dtype=float64) * second,\n",
       " 871: array([], dtype=float64) * second,\n",
       " 872: array([], dtype=float64) * second,\n",
       " 873: array([], dtype=float64) * second,\n",
       " 874: array([], dtype=float64) * second,\n",
       " 875: array([], dtype=float64) * second,\n",
       " 876: array([], dtype=float64) * second,\n",
       " 877: array([], dtype=float64) * second,\n",
       " 878: array([], dtype=float64) * second,\n",
       " 879: array([], dtype=float64) * second,\n",
       " 880: array([], dtype=float64) * second,\n",
       " 881: array([], dtype=float64) * second,\n",
       " 882: array([], dtype=float64) * second,\n",
       " 883: array([], dtype=float64) * second,\n",
       " 884: array([], dtype=float64) * second,\n",
       " 885: array([], dtype=float64) * second,\n",
       " 886: array([], dtype=float64) * second,\n",
       " 887: array([], dtype=float64) * second,\n",
       " 888: array([], dtype=float64) * second,\n",
       " 889: array([], dtype=float64) * second,\n",
       " 890: array([], dtype=float64) * second,\n",
       " 891: array([], dtype=float64) * second,\n",
       " 892: array([], dtype=float64) * second,\n",
       " 893: array([], dtype=float64) * second,\n",
       " 894: array([], dtype=float64) * second,\n",
       " 895: array([], dtype=float64) * second,\n",
       " 896: array([], dtype=float64) * second,\n",
       " 897: array([], dtype=float64) * second,\n",
       " 898: array([], dtype=float64) * second,\n",
       " 899: array([], dtype=float64) * second,\n",
       " 900: array([], dtype=float64) * second,\n",
       " 901: array([], dtype=float64) * second,\n",
       " 902: array([], dtype=float64) * second,\n",
       " 903: array([], dtype=float64) * second,\n",
       " 904: array([], dtype=float64) * second,\n",
       " 905: array([], dtype=float64) * second,\n",
       " 906: array([], dtype=float64) * second,\n",
       " 907: array([], dtype=float64) * second,\n",
       " 908: array([], dtype=float64) * second,\n",
       " 909: array([], dtype=float64) * second,\n",
       " 910: array([], dtype=float64) * second,\n",
       " 911: array([], dtype=float64) * second,\n",
       " 912: array([], dtype=float64) * second,\n",
       " 913: array([], dtype=float64) * second,\n",
       " 914: array([], dtype=float64) * second,\n",
       " 915: array([], dtype=float64) * second,\n",
       " 916: array([], dtype=float64) * second,\n",
       " 917: array([], dtype=float64) * second,\n",
       " 918: array([], dtype=float64) * second,\n",
       " 919: array([], dtype=float64) * second,\n",
       " 920: array([], dtype=float64) * second,\n",
       " 921: array([], dtype=float64) * second,\n",
       " 922: array([], dtype=float64) * second,\n",
       " 923: array([], dtype=float64) * second,\n",
       " 924: array([], dtype=float64) * second,\n",
       " 925: array([], dtype=float64) * second,\n",
       " 926: array([], dtype=float64) * second,\n",
       " 927: array([], dtype=float64) * second,\n",
       " 928: array([], dtype=float64) * second,\n",
       " 929: array([], dtype=float64) * second,\n",
       " 930: array([], dtype=float64) * second,\n",
       " 931: array([], dtype=float64) * second,\n",
       " 932: array([], dtype=float64) * second,\n",
       " 933: array([], dtype=float64) * second,\n",
       " 934: array([], dtype=float64) * second,\n",
       " 935: array([], dtype=float64) * second,\n",
       " 936: array([], dtype=float64) * second,\n",
       " 937: array([], dtype=float64) * second,\n",
       " 938: array([], dtype=float64) * second,\n",
       " 939: array([], dtype=float64) * second,\n",
       " 940: array([], dtype=float64) * second,\n",
       " 941: array([], dtype=float64) * second,\n",
       " 942: array([], dtype=float64) * second,\n",
       " 943: array([], dtype=float64) * second,\n",
       " 944: array([], dtype=float64) * second,\n",
       " 945: array([], dtype=float64) * second,\n",
       " 946: array([], dtype=float64) * second,\n",
       " 947: array([], dtype=float64) * second,\n",
       " 948: array([], dtype=float64) * second,\n",
       " 949: array([], dtype=float64) * second,\n",
       " 950: array([], dtype=float64) * second,\n",
       " 951: array([], dtype=float64) * second,\n",
       " 952: array([], dtype=float64) * second,\n",
       " 953: array([], dtype=float64) * second,\n",
       " 954: array([], dtype=float64) * second,\n",
       " 955: array([], dtype=float64) * second,\n",
       " 956: array([], dtype=float64) * second,\n",
       " 957: array([], dtype=float64) * second,\n",
       " 958: array([], dtype=float64) * second,\n",
       " 959: array([], dtype=float64) * second,\n",
       " 960: array([], dtype=float64) * second,\n",
       " 961: array([], dtype=float64) * second,\n",
       " 962: array([], dtype=float64) * second,\n",
       " 963: array([], dtype=float64) * second,\n",
       " 964: array([], dtype=float64) * second,\n",
       " 965: array([], dtype=float64) * second,\n",
       " 966: array([], dtype=float64) * second,\n",
       " 967: array([], dtype=float64) * second,\n",
       " 968: array([], dtype=float64) * second,\n",
       " 969: array([], dtype=float64) * second,\n",
       " 970: array([], dtype=float64) * second,\n",
       " 971: array([], dtype=float64) * second,\n",
       " 972: array([], dtype=float64) * second,\n",
       " 973: array([], dtype=float64) * second,\n",
       " 974: array([], dtype=float64) * second,\n",
       " 975: array([], dtype=float64) * second,\n",
       " 976: array([], dtype=float64) * second,\n",
       " 977: array([], dtype=float64) * second,\n",
       " 978: array([], dtype=float64) * second,\n",
       " 979: array([], dtype=float64) * second,\n",
       " 980: array([], dtype=float64) * second,\n",
       " 981: array([], dtype=float64) * second,\n",
       " 982: array([], dtype=float64) * second,\n",
       " 983: array([], dtype=float64) * second,\n",
       " 984: array([], dtype=float64) * second,\n",
       " 985: array([], dtype=float64) * second,\n",
       " 986: array([], dtype=float64) * second,\n",
       " 987: array([], dtype=float64) * second,\n",
       " 988: array([], dtype=float64) * second,\n",
       " 989: array([], dtype=float64) * second,\n",
       " 990: array([], dtype=float64) * second,\n",
       " 991: array([], dtype=float64) * second,\n",
       " 992: array([], dtype=float64) * second,\n",
       " 993: array([], dtype=float64) * second,\n",
       " 994: array([], dtype=float64) * second,\n",
       " 995: array([], dtype=float64) * second,\n",
       " 996: array([], dtype=float64) * second,\n",
       " 997: array([], dtype=float64) * second,\n",
       " 998: array([], dtype=float64) * second,\n",
       " 999: array([], dtype=float64) * second,\n",
       " ...}"
      ]
     },
     "execution_count": 40,
     "metadata": {},
     "output_type": "execute_result"
    }
   ],
   "source": [
    "RE.spikeTrainsExc[()]"
   ]
  },
  {
   "cell_type": "code",
   "execution_count": 23,
   "metadata": {},
   "outputs": [],
   "source": [
    "# average net positive current to sustain set FR"
   ]
  },
  {
   "cell_type": "code",
   "execution_count": 24,
   "metadata": {},
   "outputs": [],
   "source": [
    "p['threshExc'] = RE.threshExc\n",
    "p['threshInh'] = RE.threshInh\n",
    "p['gainExc'] = RE.gainExc\n",
    "p['gainInh'] = RE.gainInh"
   ]
  },
  {
   "cell_type": "code",
   "execution_count": 25,
   "metadata": {
    "scrolled": true
   },
   "outputs": [
    {
     "name": "stdout",
     "output_type": "stream",
     "text": [
      "124.1 pA 135.1 pA 0.34659091 Hz/pA 1.50909091 Hz/pA\n"
     ]
    }
   ],
   "source": [
    "print(RE.threshExc, RE.threshInh, RE.gainExc, RE.gainInh, )"
   ]
  },
  {
   "cell_type": "code",
   "execution_count": 22,
   "metadata": {},
   "outputs": [],
   "source": [
    "# rough estimates\n",
    "sumExcInputToExc = nExc * usejEE * float(p['setUpFRExc']) * p['duration']\n",
    "sumExcInputToInh = nExc * usejIE * float(p['setUpFRExc']) * p['duration']"
   ]
  },
  {
   "cell_type": "code",
   "execution_count": 23,
   "metadata": {},
   "outputs": [],
   "source": [
    "# rough estimates\n",
    "sumInhInputToExc = nInh * usejEI * float(p['setUpFRInh']) * p['duration']\n",
    "sumInhInputToInh = nInh * usejII * float(p['setUpFRInh']) * p['duration']"
   ]
  },
  {
   "cell_type": "code",
   "execution_count": 24,
   "metadata": {},
   "outputs": [
    {
     "name": "stdout",
     "output_type": "stream",
     "text": [
      "286.99018236 nC 247.84452029 nC 191.10969495 nC 141.51233522 nC\n"
     ]
    }
   ],
   "source": [
    "print(sumExcInputToExc, sumExcInputToInh, sumInhInputToExc, sumInhInputToInh)"
   ]
  },
  {
   "cell_type": "code",
   "execution_count": 25,
   "metadata": {
    "scrolled": true
   },
   "outputs": [
    {
     "name": "stdout",
     "output_type": "stream",
     "text": [
      "289.86654356 nC 250.32854381 nC 193.64915285 nC 143.3927454 nC\n"
     ]
    }
   ],
   "source": [
    "print(sESumExc, sESumInh, sISumExc, sISumInh)"
   ]
  },
  {
   "cell_type": "code",
   "execution_count": 24,
   "metadata": {},
   "outputs": [],
   "source": [
    "# my calculation of the total excitatory charge is accurate!\n",
    "# now we compare the excitatory to inhibitory currents to get an estimate of the balancing inhibitory weights"
   ]
  },
  {
   "cell_type": "code",
   "execution_count": 25,
   "metadata": {},
   "outputs": [],
   "source": [
    "jEESum = nExc * usejEE * float(p['setUpFRExc'])\n",
    "jIESum = nExc * usejIE * float(p['setUpFRExc'])\n",
    "\n",
    "# NOTE: these are observed empirically!!!!\n",
    "jEISumgood = sISumExc / p['duration']\n",
    "jIISumgood = sISumInh / p['duration']"
   ]
  },
  {
   "cell_type": "code",
   "execution_count": 94,
   "metadata": {},
   "outputs": [
    {
     "data": {
      "text/latex": [
       "$136.5069249663702\\,\\mathrm{p}\\,\\mathrm{A}$"
      ],
      "text/plain": [
       "136.50692497 * pamp"
      ]
     },
     "execution_count": 94,
     "metadata": {},
     "output_type": "execute_result"
    }
   ],
   "source": [
    "usejEI"
   ]
  },
  {
   "cell_type": "code",
   "execution_count": 26,
   "metadata": {},
   "outputs": [],
   "source": [
    "# additive model: I = E + b\n",
    "# solve for b as b = I - E\n",
    "\n",
    "sustainingWeightImbalanceExc = jEISumgood - jEESum\n",
    "sustainingWeightImbalanceInh = jIISumgood - jIESum\n",
    "\n",
    "# now calculate I = E + b\n",
    "\n",
    "proposedjEISum = (jEESum + sustainingWeightImbalanceExc)\n",
    "proposedjIISum = (jIESum + sustainingWeightImbalanceInh)\n",
    "proposedjEI = proposedjEISum / nInh / float(p['setUpFRInh'])\n",
    "proposedjII = proposedjIISum / nInh / float(p['setUpFRInh'])"
   ]
  },
  {
   "cell_type": "code",
   "execution_count": 27,
   "metadata": {},
   "outputs": [
    {
     "name": "stdout",
     "output_type": "stream",
     "text": [
      "-76.47829669 nA -84.89833122 nA\n"
     ]
    }
   ],
   "source": [
    "print(sustainingWeightImbalanceExc, sustainingWeightImbalanceInh)"
   ]
  },
  {
   "cell_type": "code",
   "execution_count": 28,
   "metadata": {
    "scrolled": true
   },
   "outputs": [
    {
     "name": "stdout",
     "output_type": "stream",
     "text": [
      "136.70879393 pA 101.22971876 pA\n"
     ]
    }
   ],
   "source": [
    "print(proposedjEI, proposedjII)"
   ]
  },
  {
   "cell_type": "code",
   "execution_count": 29,
   "metadata": {},
   "outputs": [
    {
     "name": "stdout",
     "output_type": "stream",
     "text": [
      "136.50692497 pA 101.08023944 pA\n"
     ]
    }
   ],
   "source": [
    "print(usejEI, usejII)"
   ]
  },
  {
   "cell_type": "code",
   "execution_count": 30,
   "metadata": {},
   "outputs": [],
   "source": [
    "# multiplicative model: I = m * E\n",
    "\n",
    "# solve for m as m = I / E\n",
    "sustainingWeightRatioExc = jEISumgood / jEESum\n",
    "sustainingWeightRatioInh = jIISumgood / jIESum\n",
    "\n",
    "# claculate I = m * E\n",
    "proposedjEISum = (jEESum * sustainingWeightRatioExc)\n",
    "proposedjIISum = (jIESum * sustainingWeightRatioInh)\n",
    "proposedjEI = proposedjEISum / nInh / float(p['setUpFRInh'])\n",
    "proposedjII = proposedjIISum / nInh / float(p['setUpFRInh'])"
   ]
  },
  {
   "cell_type": "code",
   "execution_count": 31,
   "metadata": {},
   "outputs": [
    {
     "name": "stdout",
     "output_type": "stream",
     "text": [
      "0.6668949784973939 0.5718165812278555\n"
     ]
    }
   ],
   "source": [
    "print(sustainingWeightRatioExc, sustainingWeightRatioInh)"
   ]
  },
  {
   "cell_type": "code",
   "execution_count": 32,
   "metadata": {
    "scrolled": true
   },
   "outputs": [
    {
     "name": "stdout",
     "output_type": "stream",
     "text": [
      "136.70879393 pA 101.22971876 pA\n"
     ]
    }
   ],
   "source": [
    "print(proposedjEI, proposedjII)"
   ]
  },
  {
   "cell_type": "code",
   "execution_count": 33,
   "metadata": {
    "scrolled": true
   },
   "outputs": [
    {
     "name": "stdout",
     "output_type": "stream",
     "text": [
      "136.50692497 pA 101.08023944 pA\n"
     ]
    }
   ],
   "source": [
    "print(usejEI, usejII)"
   ]
  },
  {
   "cell_type": "code",
   "execution_count": 83,
   "metadata": {},
   "outputs": [],
   "source": [
    "# linear model with bias: I = m * E + b\n",
    "\n",
    "# m is known (or is it?)...\n",
    "# given enough realizations of E and I with balanced E I to generate Ups with the set points,\n",
    "# could do linear fit to find out if this is a good estimate of the actual slope\n",
    "slopeExc = p['setUpFRExc'] / p['setUpFRInh']\n",
    "slopeInh = p['setUpFRExc'] / p['setUpFRInh']\n",
    "\n",
    "# assuming m is known, solve for b as b = I - m * E\n",
    "offsetExc = jEISumgood - jEESum * p['setUpFRExc'] / p['setUpFRInh']\n",
    "offsetInh = jIISumgood - jIESum * p['setUpFRExc'] / p['setUpFRInh']\n",
    "\n",
    "# calculate I as I = m * E + b\n",
    "proposedjEISum = jEESum * slopeExc + offsetExc\n",
    "proposedjIISum = jIESum * slopeInh + offsetInh\n",
    "proposedjEI = proposedjEISum / nInh / float(p['setUpFRInh'])\n",
    "proposedjII = proposedjIISum / nInh / float(p['setUpFRInh'])"
   ]
  },
  {
   "cell_type": "code",
   "execution_count": 84,
   "metadata": {
    "scrolled": true
   },
   "outputs": [
    {
     "name": "stdout",
     "output_type": "stream",
     "text": [
      "0.35714285714285715 0.35714285714285715 71.11665424 nA 42.56456493 nA\n"
     ]
    }
   ],
   "source": [
    "print(slopeExc, slopeInh, offsetExc, offsetInh)"
   ]
  },
  {
   "cell_type": "code",
   "execution_count": 85,
   "metadata": {
    "scrolled": true
   },
   "outputs": [
    {
     "name": "stdout",
     "output_type": "stream",
     "text": [
      "136.70879393 pA 101.22971876 pA\n"
     ]
    }
   ],
   "source": [
    "print(proposedjEI, proposedjII)"
   ]
  },
  {
   "cell_type": "code",
   "execution_count": 86,
   "metadata": {},
   "outputs": [
    {
     "name": "stdout",
     "output_type": "stream",
     "text": [
      "136.50692497 pA 101.08023944 pA\n"
     ]
    }
   ],
   "source": [
    "print(usejEI, usejII)"
   ]
  },
  {
   "cell_type": "code",
   "execution_count": 38,
   "metadata": {
    "scrolled": false
   },
   "outputs": [
    {
     "data": {
      "text/latex": [
       "$143.49509118138553\\,\\mathrm{p}\\,\\mathrm{A}$"
      ],
      "text/plain": [
       "143.49509118 * pamp"
      ]
     },
     "execution_count": 38,
     "metadata": {},
     "output_type": "execute_result"
    }
   ],
   "source": [
    "usejEE"
   ]
  },
  {
   "cell_type": "code",
   "execution_count": 44,
   "metadata": {},
   "outputs": [],
   "source": [
    "# how do the purely divisive and slope models compare?"
   ]
  },
  {
   "cell_type": "code",
   "execution_count": 47,
   "metadata": {},
   "outputs": [],
   "source": [
    "xVals = np.linspace(0, 200, 1000)  # pretend in pA\n",
    "yValsDiv = sustainingWeightRatioExc * xVals\n",
    "yValsSlope = offsetExc / nA + slopeExc * xVals"
   ]
  },
  {
   "cell_type": "code",
   "execution_count": 53,
   "metadata": {},
   "outputs": [
    {
     "data": {
      "text/plain": [
       "<matplotlib.legend.Legend at 0x2a4ab847dc8>"
      ]
     },
     "execution_count": 53,
     "metadata": {},
     "output_type": "execute_result"
    }
   ],
   "source": [
    "f, ax = plt.subplots()\n",
    "ax.plot(xVals, yValsDiv, label='I = m * E')\n",
    "ax.plot(xVals, yValsSlope, label='I = m * E + b (m assumed)')\n",
    "ax.scatter(usejEE / pA, proposedjEI / pA)\n",
    "ax.legend()"
   ]
  },
  {
   "cell_type": "code",
   "execution_count": 66,
   "metadata": {},
   "outputs": [],
   "source": [
    "# what happens if i don't multiply and divide by the set-points twice?"
   ]
  },
  {
   "cell_type": "code",
   "execution_count": 71,
   "metadata": {},
   "outputs": [],
   "source": [
    "jEESum = nExc * usejEE\n",
    "jIESum = nExc * usejIE\n",
    "\n",
    "slopeExc = p['setUpFRExc'] / p['setUpFRInh']\n",
    "slopeInh = p['setUpFRExc'] / p['setUpFRInh']\n",
    "\n",
    "# assuming m is known, solve for b as b = I - m * E\n",
    "offsetExc = jEISumgood - jEESum * slopeExc\n",
    "offsetInh = jIISumgood - jIESum * slopeInh\n",
    "\n",
    "# calculate I as I = m * E + b\n",
    "proposedjEISum = jEESum * slopeExc + offsetExc\n",
    "proposedjIISum = jIESum * slopeInh + offsetInh\n",
    "proposedjEI = proposedjEISum / nInh\n",
    "proposedjII = proposedjIISum / nInh\n",
    "\n",
    "# this seems quite wrong!!!"
   ]
  },
  {
   "cell_type": "code",
   "execution_count": null,
   "metadata": {},
   "outputs": [],
   "source": []
  },
  {
   "cell_type": "code",
   "execution_count": null,
   "metadata": {},
   "outputs": [],
   "source": []
  },
  {
   "cell_type": "code",
   "execution_count": null,
   "metadata": {},
   "outputs": [],
   "source": []
  },
  {
   "cell_type": "code",
   "execution_count": null,
   "metadata": {},
   "outputs": [],
   "source": []
  },
  {
   "cell_type": "code",
   "execution_count": 87,
   "metadata": {
    "scrolled": true
   },
   "outputs": [
    {
     "name": "stdout",
     "output_type": "stream",
     "text": [
      "136.70879393 pA 101.22971876 pA\n"
     ]
    }
   ],
   "source": [
    "print(proposedjEI, proposedjII)   # objectively good weights"
   ]
  },
  {
   "cell_type": "code",
   "execution_count": 61,
   "metadata": {},
   "outputs": [
    {
     "data": {
      "text/latex": [
       "$81.99719496079172\\,\\mathrm{n}\\,\\mathrm{A}$"
      ],
      "text/plain": [
       "81.99719496 * namp"
      ]
     },
     "execution_count": 61,
     "metadata": {},
     "output_type": "execute_result"
    }
   ],
   "source": [
    "p['setUpFRExc'] / p['setUpFRInh'] * sumExcInputToExc"
   ]
  },
  {
   "cell_type": "code",
   "execution_count": 89,
   "metadata": {},
   "outputs": [],
   "source": [
    "jEESum = nExc * usejEE * float(p['setUpFRExc'])\n",
    "\n",
    "sumExcInputToExc = jEESum.copy()\n",
    "sumInhInputToExc = p['setUpFRExc'] / p['setUpFRInh'] * sumExcInputToExc - \\\n",
    "                   p['setUpFRExc'] / p['setUpFRInh'] / p['gainExc'] / second - \\\n",
    "                   p['threshExc'] / p['setUpFRInh'] / second  # amp\n",
    "\n",
    "proposedjEI = sumInhInputToExc / nInh / float(p['setUpFRInh'])"
   ]
  },
  {
   "cell_type": "code",
   "execution_count": 91,
   "metadata": {},
   "outputs": [
    {
     "data": {
      "text/latex": [
       "$81.99719496079172\\,\\mathrm{n}\\,\\mathrm{A}$"
      ],
      "text/plain": [
       "81.99719496 * namp"
      ]
     },
     "execution_count": 91,
     "metadata": {},
     "output_type": "execute_result"
    }
   ],
   "source": [
    "p['setUpFRExc'] / p['setUpFRInh'] * sumExcInputToExc"
   ]
  },
  {
   "cell_type": "code",
   "execution_count": 76,
   "metadata": {},
   "outputs": [
    {
     "data": {
      "text/latex": [
       "$81.98730023011255\\,\\mathrm{n}\\,\\mathrm{A}$"
      ],
      "text/plain": [
       "81.98730023 * namp"
      ]
     },
     "execution_count": 76,
     "metadata": {},
     "output_type": "execute_result"
    }
   ],
   "source": [
    "sumInhInputToExc"
   ]
  },
  {
   "cell_type": "code",
   "execution_count": 77,
   "metadata": {
    "scrolled": false
   },
   "outputs": [
    {
     "data": {
      "text/latex": [
       "$1.0248412528764068\\,\\mathrm{n}\\,\\mathrm{A}$"
      ],
      "text/plain": [
       "1.02484125 * namp"
      ]
     },
     "execution_count": 77,
     "metadata": {},
     "output_type": "execute_result"
    }
   ],
   "source": [
    "# i believe this is essentially what my old version was driving towards... 8x too big\n",
    "\n",
    "sumInhInputToExc / nInh"
   ]
  },
  {
   "cell_type": "code",
   "execution_count": 78,
   "metadata": {
    "scrolled": false
   },
   "outputs": [
    {
     "data": {
      "text/latex": [
       "$73.20294663402906\\,\\mathrm{p}\\,\\mathrm{A}$"
      ],
      "text/plain": [
       "73.20294663 * pamp"
      ]
     },
     "execution_count": 78,
     "metadata": {},
     "output_type": "execute_result"
    }
   ],
   "source": [
    "sumInhInputToExc / nInh / float(p['setUpFRInh'])  # now that's too low?"
   ]
  },
  {
   "cell_type": "code",
   "execution_count": 79,
   "metadata": {},
   "outputs": [],
   "source": [
    "jIESum = nExc * usejIE * float(p['setUpFRExc'])\n",
    "\n",
    "sumExcInputToInh = jIESum.copy()\n",
    "sumInhInputToInh = p['setUpFRExc'] / p['setUpFRInh'] * sumExcInputToInh - \\\n",
    "                   1 / p['gainInh'] / second - \\\n",
    "                   p['threshInh'] / p['setUpFRInh'] / second"
   ]
  },
  {
   "cell_type": "code",
   "execution_count": 80,
   "metadata": {},
   "outputs": [
    {
     "data": {
      "text/latex": [
       "$70.80240743274149\\,\\mathrm{n}\\,\\mathrm{A}$"
      ],
      "text/plain": [
       "70.80240743 * namp"
      ]
     },
     "execution_count": 80,
     "metadata": {},
     "output_type": "execute_result"
    }
   ],
   "source": [
    "sumInhInputToInh"
   ]
  },
  {
   "cell_type": "code",
   "execution_count": 81,
   "metadata": {},
   "outputs": [
    {
     "data": {
      "text/latex": [
       "$63.2164352078049\\,\\mathrm{p}\\,\\mathrm{A}$"
      ],
      "text/plain": [
       "63.21643521 * pamp"
      ]
     },
     "execution_count": 81,
     "metadata": {},
     "output_type": "execute_result"
    }
   ],
   "source": [
    "sumInhInputToInh / nInh / float(p['setUpFRInh'])"
   ]
  },
  {
   "cell_type": "code",
   "execution_count": 82,
   "metadata": {},
   "outputs": [],
   "source": [
    "plt.close('all')"
   ]
  },
  {
   "cell_type": "code",
   "execution_count": null,
   "metadata": {},
   "outputs": [],
   "source": []
  }
 ],
 "metadata": {
  "kernelspec": {
   "display_name": "Python 3",
   "language": "python",
   "name": "python3"
  },
  "language_info": {
   "codemirror_mode": {
    "name": "ipython",
    "version": 3
   },
   "file_extension": ".py",
   "mimetype": "text/x-python",
   "name": "python",
   "nbconvert_exporter": "python",
   "pygments_lexer": "ipython3",
   "version": "3.7.6"
  }
 },
 "nbformat": 4,
 "nbformat_minor": 4
}

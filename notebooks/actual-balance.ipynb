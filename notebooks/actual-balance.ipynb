{
 "cells": [
  {
   "cell_type": "code",
   "execution_count": 1,
   "metadata": {
    "scrolled": true
   },
   "outputs": [
    {
     "name": "stderr",
     "output_type": "stream",
     "text": [
      "INFO       Cache size for target \"cython\": 10481 MB.\n",
      "You can call \"clear_cache('cython')\" to delete all files from the cache or manually delete files in the \"C:\\Users\\mikejseay\\.cython\\brian_extensions\" directory. [brian2]\n"
     ]
    }
   ],
   "source": [
    "# to add the spiking model codebase to the path\n",
    "import sys\n",
    "sys.path.append('..')\n",
    "\n",
    "from brian2 import *\n",
    "from params import paramsJercog as p\n",
    "\n",
    "import numpy as np\n",
    "\n",
    "from network import JercogEphysNetwork\n",
    "from results import ResultsEphys\n",
    "\n",
    "%matplotlib\n",
    "import matplotlib.pyplot as plt"
   ]
  },
  {
   "cell_type": "code",
   "execution_count": 3,
   "metadata": {},
   "outputs": [],
   "source": [
    "p['setUpFRExc'] = 5 * Hz\n",
    "p['setUpFRInh'] = 14 * Hz\n",
    "\n",
    "p['threshExc'] = 130 * pA\n",
    "p['threshInh'] = 140 * pA\n",
    "\n",
    "p['gainExc'] = 0.49 * Hz / pA\n",
    "p['gainInh'] = 1.46 * Hz / pA"
   ]
  },
  {
   "cell_type": "code",
   "execution_count": 4,
   "metadata": {},
   "outputs": [],
   "source": [
    "p['recordStateVariables'] = ['v', 'sE', 'sI']\n",
    "p['duration'] = 1 * second\n",
    "p['nUnits'] = 1000\n",
    "p['propConnect'] = 0.5\n",
    "\n",
    "nExc = 400\n",
    "nInh = 100\n",
    "simType = 'poisson'  # poisson or fixed"
   ]
  },
  {
   "cell_type": "code",
   "execution_count": 5,
   "metadata": {},
   "outputs": [],
   "source": [
    "defaultclock.dt = p['dt']\n",
    "p['nInh'] = int(p['propInh'] * p['nUnits'])\n",
    "p['nExc'] = int(p['nUnits'] - p['nInh'])\n",
    "p['nExcSpikemon'] = int(p['nExc'] * p['propSpikemon'])\n",
    "p['nInhSpikemon'] = int(p['nInh'] * p['propSpikemon'])\n",
    "p['nIncInh'] = int(p['propConnect'] * p['propInh'] * p['nUnits'])\n",
    "p['nIncExc'] = int(p['propConnect'] * (1 - p['propInh']) * p['nUnits'])\n",
    "\n",
    "N = Network()\n",
    "\n",
    "# NOTICE NO NOISE\n",
    "\n",
    "unitModel = '''\n",
    "                dv/dt = (gl * (eLeak - v) - iAdapt +\n",
    "                         sE - sI) / Cm : volt (unless refractory)\n",
    "                diAdapt/dt = -iAdapt / tauAdapt : amp\n",
    "\n",
    "                dsE/dt = (-sE + uE) / tauFallE : amp\n",
    "                duE/dt = -uE / tauRiseE : amp\n",
    "                dsI/dt = (-sI + uI) / tauFallI : amp\n",
    "                duI/dt = -uI / tauRiseI : amp\n",
    "                \n",
    "                eLeak : volt\n",
    "                vReset : volt\n",
    "                vThresh : volt\n",
    "                betaAdapt : amp * second\n",
    "                gl : siemens\n",
    "                Cm : farad\n",
    "                '''\n",
    "\n",
    "resetCode = '''\n",
    "        v = vReset\n",
    "        iAdapt += betaAdapt / tauAdapt \n",
    "        '''\n",
    "\n",
    "threshCode = 'v >= vThresh'\n",
    "\n",
    "unitsExc = NeuronGroup(N=1, model=unitModel, method=p['updateMethod'], threshold=threshCode, reset=resetCode,\n",
    "                       refractory=p['refractoryPeriodExc'], clock=defaultclock)\n",
    "unitsInh = NeuronGroup(N=1, model=unitModel, method=p['updateMethod'], threshold=threshCode, reset=resetCode,\n",
    "                       refractory=p['refractoryPeriodInh'], clock=defaultclock)\n",
    "\n",
    "unitsExc.v = p['eLeakExc']\n",
    "unitsExc.vReset = p['vResetExc']\n",
    "unitsExc.vThresh = p['vThreshExc']\n",
    "unitsExc.betaAdapt = p['betaAdaptExc']\n",
    "unitsExc.eLeak = p['eLeakExc']\n",
    "unitsExc.Cm = p['membraneCapacitanceExc']\n",
    "unitsExc.gl = p['gLeakExc']\n",
    "\n",
    "unitsInh.v = p['eLeakInh']\n",
    "unitsInh.vReset = p['vResetInh']\n",
    "unitsInh.vThresh = p['vThreshInh']\n",
    "unitsInh.betaAdapt = p['betaAdaptInh']\n",
    "unitsInh.eLeak = p['eLeakInh']\n",
    "unitsInh.Cm = p['membraneCapacitanceInh']\n",
    "unitsInh.gl = p['gLeakInh']\n",
    "\n",
    "N.add(unitsExc, unitsInh)"
   ]
  },
  {
   "cell_type": "code",
   "execution_count": 6,
   "metadata": {},
   "outputs": [],
   "source": [
    "if simType == 'poisson':  # make the Poisson spikers\n",
    "    \n",
    "    poissonExc = PoissonGroup(N=nExc, rates=p['setUpFRExc'], clock=defaultclock)\n",
    "    poissonInh = PoissonGroup(N=nInh, rates=p['setUpFRInh'], clock=defaultclock)\n",
    "    \n",
    "elif simType == 'fixed':  # instead, make fixed rate that tiles the time period\n",
    "    \n",
    "    numSpikesExc = int(np.round(p['setUpFRExc'] * p['duration']))\n",
    "    numSpikesInh = int(np.round(p['setUpFRInh'] * p['duration']))\n",
    "\n",
    "    fixedIndicesExc = np.zeros((numSpikesExc, ), )\n",
    "    fixedIndicesInh = np.zeros((numSpikesInh, ), )\n",
    "\n",
    "    spikeTimesExc = np.linspace(0, p['duration'] / second, numSpikesExc + 1) * second\n",
    "    spikeTimesExc = spikeTimesExc[:-1]\n",
    "\n",
    "    spikeTimesInh = np.linspace(0, p['duration'] / second, numSpikesInh + 1) * second\n",
    "    spikeTimesInh = spikeTimesInh[:-1]\n",
    "\n",
    "    poissonExc = SpikeGeneratorGroup(N=1, indices=fixedIndicesExc, times=spikeTimesExc, clock=defaultclock)\n",
    "    poissonInh = SpikeGeneratorGroup(N=1, indices=fixedIndicesInh, times=spikeTimesInh, clock=defaultclock)\n",
    "\n",
    "N.add(poissonExc, poissonInh)"
   ]
  },
  {
   "cell_type": "code",
   "execution_count": 7,
   "metadata": {},
   "outputs": [],
   "source": [
    "# make the synapses\n",
    "\n",
    "onPreStrings = ('uE_post += jEE / tauRiseEOverMS',\n",
    "                'uE_post += jIE / tauRiseEOverMS',\n",
    "                'uI_post += jEI / tauRiseIOverMS',\n",
    "                'uI_post += jII / tauRiseIOverMS',)\n",
    "\n",
    "tauRiseEOverMS = p['tauRiseExc'] / ms\n",
    "tauRiseIOverMS = p['tauRiseInh'] / ms\n",
    "vTauExcOverMS = p['membraneCapacitanceExc'] / p['gLeakExc'] / ms\n",
    "vTauInhOverMS = p['membraneCapacitanceInh'] / p['gLeakInh'] / ms\n",
    "\n",
    "synapsesEE = Synapses(model='jEE: amp',\n",
    "                     source=poissonExc,\n",
    "                     target=unitsExc,\n",
    "                     on_pre=onPreStrings[0])\n",
    "synapsesIE = Synapses(model='jIE: amp',\n",
    "                     source=poissonExc,\n",
    "                     target=unitsInh,\n",
    "                     on_pre=onPreStrings[1])\n",
    "synapsesEI = Synapses(model='jEI: amp',\n",
    "                     source=poissonInh,\n",
    "                     target=unitsExc,\n",
    "                     on_pre=onPreStrings[2])\n",
    "synapsesII = Synapses(model='jII: amp',\n",
    "                     source=poissonInh,\n",
    "                     target=unitsInh,\n",
    "                     on_pre=onPreStrings[3])\n",
    "\n",
    "synapsesEE.connect()\n",
    "synapsesIE.connect()\n",
    "synapsesEI.connect()\n",
    "synapsesII.connect()"
   ]
  },
  {
   "cell_type": "code",
   "execution_count": 8,
   "metadata": {},
   "outputs": [],
   "source": [
    "useBetterWeights = True\n",
    "\n",
    "if useBetterWeights:\n",
    "    jEEmult = 1.0249649370098968\n",
    "    jIEmult = 0.9913780811668145\n",
    "    jEImult = 0.9750494640455015\n",
    "    jIImult = 1.0108023944074438\n",
    "else:\n",
    "    jEEmult = 1\n",
    "    jIEmult = 1\n",
    "    jEImult = 1\n",
    "    jIImult = 1\n",
    "\n",
    "usejEE = p['jEE'] / p['nIncExc'] * vTauExcOverMS * jEEmult\n",
    "usejIE = p['jIE'] / p['nIncExc'] * vTauInhOverMS * jIEmult\n",
    "usejEI = p['jEI'] / p['nIncInh'] * vTauExcOverMS * jEImult\n",
    "usejII = p['jII'] / p['nIncInh'] * vTauInhOverMS * jIImult\n",
    "\n",
    "synapsesEE.jEE = usejEE\n",
    "synapsesIE.jIE = usejIE\n",
    "synapsesEI.jEI = usejEI\n",
    "synapsesII.jII = usejII"
   ]
  },
  {
   "cell_type": "code",
   "execution_count": 9,
   "metadata": {},
   "outputs": [
    {
     "name": "stdout",
     "output_type": "stream",
     "text": [
      "143.49509118 pA 123.92226015 pA 136.50692497 pA 101.08023944 pA\n"
     ]
    }
   ],
   "source": [
    "print(usejEE, usejIE, usejEI, usejII, )"
   ]
  },
  {
   "cell_type": "code",
   "execution_count": 10,
   "metadata": {},
   "outputs": [],
   "source": [
    "N.add(synapsesEE, synapsesIE, synapsesEI, synapsesII)\n",
    "\n",
    "# create monitors\n",
    "spikeMonExc = SpikeMonitor(unitsExc[:p['nExcSpikemon']])\n",
    "spikeMonInh = SpikeMonitor(unitsInh[:p['nInhSpikemon']])\n",
    "stateMonExc = StateMonitor(unitsExc,\n",
    "                           p['recordStateVariables'],\n",
    "                           record=p['indsRecordStateExc'],\n",
    "                           clock=defaultclock)\n",
    "stateMonInh = StateMonitor(unitsInh,\n",
    "                           p['recordStateVariables'],\n",
    "                           record=p['indsRecordStateInh'],\n",
    "                           clock=defaultclock)\n",
    "N.add(spikeMonExc, spikeMonInh, stateMonExc, stateMonInh)"
   ]
  },
  {
   "cell_type": "code",
   "execution_count": 11,
   "metadata": {},
   "outputs": [
    {
     "name": "stdout",
     "output_type": "stream",
     "text": [
      "Starting simulation at t=0. s for a duration of 1. s\n",
      "1. s (100%) simulated in 1s\n"
     ]
    }
   ],
   "source": [
    "tauRiseE = p['tauRiseExc']\n",
    "tauFallE = p['tauFallExc']\n",
    "tauRiseI = p['tauRiseInh']\n",
    "tauFallI = p['tauFallInh']\n",
    "tauAdapt = p['adaptTau']\n",
    "tauRiseEOverMS = p['tauRiseExc'] / ms\n",
    "tauRiseIOverMS = p['tauRiseInh'] / ms\n",
    "vTauExcOverMS = p['membraneCapacitanceExc'] / p['gLeakExc'] / ms\n",
    "vTauInhOverMS = p['membraneCapacitanceInh'] / p['gLeakInh'] / ms\n",
    "\n",
    "N.run(p['duration'], report=p['reportType'], report_period=p['reportPeriod'], profile=p['doProfile'])"
   ]
  },
  {
   "cell_type": "code",
   "execution_count": 12,
   "metadata": {},
   "outputs": [],
   "source": [
    "useDType = np.single\n",
    "\n",
    "timeArray = np.arange(0, float(p['duration']), float(p['dt']), dtype=useDType)\n",
    "\n",
    "spikeMonExcT = np.array(spikeMonExc.t, dtype=useDType)\n",
    "spikeMonExcI = np.array(spikeMonExc.i, dtype=useDType)\n",
    "spikeMonInhT = np.array(spikeMonInh.t, dtype=useDType)\n",
    "spikeMonInhI = np.array(spikeMonInh.i, dtype=useDType)\n",
    "stateMonExcV = np.array(stateMonExc.v / mV, dtype=useDType)\n",
    "stateMonInhV = np.array(stateMonInh.v / mV, dtype=useDType)\n",
    "\n",
    "stateMonExcSE = np.array(stateMonExc.sE / pA, dtype=useDType)\n",
    "stateMonInhSE = np.array(stateMonInh.sE / pA, dtype=useDType)\n",
    "stateMonExcSI = np.array(stateMonExc.sI / pA, dtype=useDType)\n",
    "stateMonInhSI = np.array(stateMonInh.sI / pA, dtype=useDType)"
   ]
  },
  {
   "cell_type": "code",
   "execution_count": 13,
   "metadata": {},
   "outputs": [
    {
     "data": {
      "text/plain": [
       "[<matplotlib.lines.Line2D at 0x2b8bf34cdc8>]"
      ]
     },
     "execution_count": 13,
     "metadata": {},
     "output_type": "execute_result"
    }
   ],
   "source": [
    "f, ax = plt.subplots()\n",
    "ax.plot(timeArray, stateMonExcV[0, :])\n",
    "ax.plot(timeArray, stateMonInhV[0, :])"
   ]
  },
  {
   "cell_type": "code",
   "execution_count": 14,
   "metadata": {},
   "outputs": [
    {
     "data": {
      "text/plain": [
       "[<matplotlib.lines.Line2D at 0x2b8c17b2cc8>]"
      ]
     },
     "execution_count": 14,
     "metadata": {},
     "output_type": "execute_result"
    }
   ],
   "source": [
    "f, ax = plt.subplots()\n",
    "ax.plot(timeArray, stateMonExcSE[0, :])\n",
    "ax.plot(timeArray, stateMonExcSI[0, :])"
   ]
  },
  {
   "cell_type": "code",
   "execution_count": 15,
   "metadata": {
    "scrolled": false
   },
   "outputs": [
    {
     "data": {
      "text/plain": [
       "[<matplotlib.lines.Line2D at 0x2b8c17f57c8>]"
      ]
     },
     "execution_count": 15,
     "metadata": {},
     "output_type": "execute_result"
    }
   ],
   "source": [
    "f, ax = plt.subplots()\n",
    "ax.plot(timeArray, stateMonExcSE[0, :] - stateMonExcSI[0, :])"
   ]
  },
  {
   "cell_type": "code",
   "execution_count": 445,
   "metadata": {
    "scrolled": true
   },
   "outputs": [],
   "source": [
    "sESumExc = (stateMonExc.sE).sum() * p['dt'] * 1e3\n",
    "sESumInh = (stateMonInh.sE).sum() * p['dt'] * 1e3\n",
    "sISumExc = (stateMonExc.sI).sum() * p['dt'] * 1e3\n",
    "sISumInh = (stateMonInh.sI).sum() * p['dt'] * 1e3"
   ]
  },
  {
   "cell_type": "code",
   "execution_count": 446,
   "metadata": {
    "scrolled": true
   },
   "outputs": [
    {
     "name": "stdout",
     "output_type": "stream",
     "text": [
      "271.79170679 nC 234.71912744 nC 188.9700735 nC 139.92799472 nC\n"
     ]
    }
   ],
   "source": [
    "print(sESumExc, sESumInh, sISumExc, sISumInh, )"
   ]
  },
  {
   "cell_type": "code",
   "execution_count": 447,
   "metadata": {
    "scrolled": true
   },
   "outputs": [
    {
     "name": "stdout",
     "output_type": "stream",
     "text": [
      "143.49509118 pA 123.92226015 pA 136.50692497 pA 101.08023944 pA\n"
     ]
    }
   ],
   "source": [
    "print(usejEE, usejIE, usejEI, usejII, )"
   ]
  },
  {
   "cell_type": "code",
   "execution_count": 448,
   "metadata": {},
   "outputs": [],
   "source": [
    "# time integral of sE and sI\n",
    "sESumExc = stateMonExcSE[0, :].sum() * p['dt'] / ms * ncoulomb\n",
    "sESumInh = stateMonInhSE[0, :].sum() * p['dt'] / ms * ncoulomb\n",
    "sISumExc = stateMonExcSI[0, :].sum() * p['dt'] / ms * ncoulomb\n",
    "sISumInh = stateMonInhSI[0, :].sum() * p['dt'] / ms * ncoulomb"
   ]
  },
  {
   "cell_type": "code",
   "execution_count": 449,
   "metadata": {},
   "outputs": [
    {
     "name": "stdout",
     "output_type": "stream",
     "text": [
      "271.7917 uC 234.719125 uC 188.970075 uC 139.928 uC\n"
     ]
    }
   ],
   "source": [
    "print(sESumExc, sESumInh, sISumExc, sISumInh, )  # in pC"
   ]
  },
  {
   "cell_type": "code",
   "execution_count": 444,
   "metadata": {
    "collapsed": true
   },
   "outputs": [
    {
     "ename": "NameError",
     "evalue": "name 'numSpikesExc' is not defined",
     "output_type": "error",
     "traceback": [
      "\u001b[1;31m---------------------------------------------------------------------------\u001b[0m",
      "\u001b[1;31mNameError\u001b[0m                                 Traceback (most recent call last)",
      "\u001b[1;32m<ipython-input-444-9f9692570310>\u001b[0m in \u001b[0;36m<module>\u001b[1;34m\u001b[0m\n\u001b[1;32m----> 1\u001b[1;33m \u001b[0mprint\u001b[0m\u001b[1;33m(\u001b[0m\u001b[0msESumExc\u001b[0m \u001b[1;33m/\u001b[0m \u001b[0mnumSpikesExc\u001b[0m\u001b[1;33m,\u001b[0m \u001b[0msESumInh\u001b[0m \u001b[1;33m/\u001b[0m \u001b[0mnumSpikesExc\u001b[0m\u001b[1;33m,\u001b[0m \u001b[0msISumExc\u001b[0m \u001b[1;33m/\u001b[0m \u001b[0mnumSpikesInh\u001b[0m\u001b[1;33m,\u001b[0m \u001b[0msISumInh\u001b[0m \u001b[1;33m/\u001b[0m \u001b[0mnumSpikesInh\u001b[0m\u001b[1;33m,\u001b[0m \u001b[1;33m)\u001b[0m\u001b[1;33m\u001b[0m\u001b[1;33m\u001b[0m\u001b[0m\n\u001b[0m",
      "\u001b[1;31mNameError\u001b[0m: name 'numSpikesExc' is not defined"
     ]
    }
   ],
   "source": [
    "print(sESumExc / numSpikesExc, sESumInh / numSpikesExc, sISumExc / numSpikesInh, sISumInh / numSpikesInh, )"
   ]
  },
  {
   "cell_type": "code",
   "execution_count": 18,
   "metadata": {
    "scrolled": true
   },
   "outputs": [
    {
     "name": "stdout",
     "output_type": "stream",
     "text": [
      "143.49509118 pA 123.92226015 pA 136.50692497 pA 101.08023944 pA\n"
     ]
    }
   ],
   "source": [
    "print(usejEE, usejIE, usejEI, usejII, )"
   ]
  },
  {
   "cell_type": "code",
   "execution_count": 21,
   "metadata": {
    "scrolled": true
   },
   "outputs": [
    {
     "data": {
      "text/latex": [
       "$139.99999999999997\\,\\mathrm{p}\\,\\mathrm{A}$"
      ],
      "text/plain": [
       "140. * pamp"
      ]
     },
     "execution_count": 21,
     "metadata": {},
     "output_type": "execute_result"
    }
   ],
   "source": [
    "usejEE"
   ]
  },
  {
   "cell_type": "code",
   "execution_count": 24,
   "metadata": {},
   "outputs": [
    {
     "data": {
      "text/latex": [
       "$139.99999999999997\\,\\mathrm{p}\\,\\mathrm{A}$"
      ],
      "text/plain": [
       "140. * pamp"
      ]
     },
     "execution_count": 24,
     "metadata": {},
     "output_type": "execute_result"
    }
   ],
   "source": [
    "usejEI"
   ]
  },
  {
   "cell_type": "code",
   "execution_count": 18,
   "metadata": {},
   "outputs": [
    {
     "data": {
      "text/plain": [
       "19600.0"
      ]
     },
     "execution_count": 18,
     "metadata": {},
     "output_type": "execute_result"
    }
   ],
   "source": [
    "sISumExc"
   ]
  },
  {
   "cell_type": "code",
   "execution_count": 19,
   "metadata": {
    "scrolled": true
   },
   "outputs": [
    {
     "data": {
      "text/latex": [
       "$4.0\\,\\mathrm{Hz}$"
      ],
      "text/plain": [
       "4. * hertz"
      ]
     },
     "execution_count": 19,
     "metadata": {},
     "output_type": "execute_result"
    }
   ],
   "source": [
    "spikeMonExcT.size / p['duration']"
   ]
  },
  {
   "cell_type": "code",
   "execution_count": 20,
   "metadata": {
    "scrolled": true
   },
   "outputs": [
    {
     "data": {
      "text/latex": [
       "$16.0\\,\\mathrm{Hz}$"
      ],
      "text/plain": [
       "16. * hertz"
      ]
     },
     "execution_count": 20,
     "metadata": {},
     "output_type": "execute_result"
    }
   ],
   "source": [
    "spikeMonInhT.size / p['duration']"
   ]
  },
  {
   "cell_type": "code",
   "execution_count": null,
   "metadata": {},
   "outputs": [],
   "source": []
  },
  {
   "cell_type": "code",
   "execution_count": null,
   "metadata": {},
   "outputs": [],
   "source": []
  },
  {
   "cell_type": "code",
   "execution_count": null,
   "metadata": {},
   "outputs": [],
   "source": []
  },
  {
   "cell_type": "code",
   "execution_count": 24,
   "metadata": {},
   "outputs": [],
   "source": [
    "doEmpiricalTest = True"
   ]
  },
  {
   "cell_type": "code",
   "execution_count": 25,
   "metadata": {},
   "outputs": [
    {
     "name": "stdout",
     "output_type": "stream",
     "text": [
      "Starting simulation at t=0. s for a duration of 1. s\n",
      "1. s (100%) simulated in 1s\n"
     ]
    }
   ],
   "source": [
    "if doEmpiricalTest:\n",
    "    pForEphys = p.copy()\n",
    "    if 'iExtRange' not in pForEphys:\n",
    "        pForEphys['recordStateVariables'] = ['v', ]\n",
    "        pForEphys['propInh'] = 0.5\n",
    "        pForEphys['duration'] = 1 * second\n",
    "        pForEphys['iExtRange'] = np.linspace(0, .3, 3001) * nA\n",
    "    JEN = JercogEphysNetwork(pForEphys)\n",
    "    JEN.build_classic()\n",
    "    JEN.run()\n",
    "    RE = ResultsEphys()\n",
    "    RE.init_from_network_object(JEN)\n",
    "    RE.calculate_thresh_and_gain()\n",
    "    \n",
    "    p['threshExc'] = RE.threshExc\n",
    "    p['threshInh'] = RE.threshInh\n",
    "    p['gainExc'] = RE.gainExc\n",
    "    p['gainInh'] = RE.gainInh"
   ]
  },
  {
   "cell_type": "code",
   "execution_count": 26,
   "metadata": {},
   "outputs": [],
   "source": [
    "# average net positive current to sustain set FR"
   ]
  },
  {
   "cell_type": "code",
   "execution_count": 30,
   "metadata": {},
   "outputs": [],
   "source": [
    "p['threshExc'] = RE.threshExc\n",
    "p['threshInh'] = RE.threshInh\n",
    "p['gainExc'] = RE.gainExc\n",
    "p['gainInh'] = RE.gainInh"
   ]
  },
  {
   "cell_type": "code",
   "execution_count": 31,
   "metadata": {
    "scrolled": false
   },
   "outputs": [
    {
     "name": "stdout",
     "output_type": "stream",
     "text": [
      "124.1 pA 135.1 pA 0.34659091 Hz/pA 1.50909091 Hz/pA\n"
     ]
    }
   ],
   "source": [
    "print(RE.threshExc, RE.threshInh, RE.gainExc, RE.gainInh, )"
   ]
  },
  {
   "cell_type": "code",
   "execution_count": 155,
   "metadata": {},
   "outputs": [
    {
     "data": {
      "text/plain": [
       "5.0"
      ]
     },
     "execution_count": 155,
     "metadata": {},
     "output_type": "execute_result"
    }
   ],
   "source": [
    "float(p['setUpFRExc'])"
   ]
  },
  {
   "cell_type": "code",
   "execution_count": 156,
   "metadata": {},
   "outputs": [
    {
     "data": {
      "text/latex": [
       "$1.0\\,\\mathrm{s}$"
      ],
      "text/plain": [
       "1. * second"
      ]
     },
     "execution_count": 156,
     "metadata": {},
     "output_type": "execute_result"
    }
   ],
   "source": [
    "p['duration']"
   ]
  },
  {
   "cell_type": "code",
   "execution_count": 243,
   "metadata": {},
   "outputs": [
    {
     "data": {
      "text/latex": [
       "$143.49509118138553\\,\\mathrm{p}\\,\\mathrm{A}$"
      ],
      "text/plain": [
       "143.49509118 * pamp"
      ]
     },
     "execution_count": 243,
     "metadata": {},
     "output_type": "execute_result"
    }
   ],
   "source": [
    "usejEE"
   ]
  },
  {
   "cell_type": "code",
   "execution_count": 253,
   "metadata": {},
   "outputs": [],
   "source": [
    "# rough estimates\n",
    "sumExcInputToExc = nExc * usejEE * float(p['setUpFRExc']) * p['duration']\n",
    "sumExcInputToInh = nExc * usejIE * float(p['setUpFRExc']) * p['duration']"
   ]
  },
  {
   "cell_type": "code",
   "execution_count": 254,
   "metadata": {},
   "outputs": [],
   "source": [
    "# rough estimates\n",
    "sumInhInputToExc = nInh * usejEI * float(p['setUpFRInh']) * p['duration']\n",
    "sumInhInputToInh = nInh * usejII * float(p['setUpFRInh']) * p['duration']"
   ]
  },
  {
   "cell_type": "code",
   "execution_count": 255,
   "metadata": {},
   "outputs": [
    {
     "name": "stdout",
     "output_type": "stream",
     "text": [
      "286.99018236 nC 247.84452029 nC 191.10969495 nC 141.51233522 nC\n"
     ]
    }
   ],
   "source": [
    "print(sumExcInputToExc, sumExcInputToInh, sumInhInputToExc, sumInhInputToInh)"
   ]
  },
  {
   "cell_type": "code",
   "execution_count": 256,
   "metadata": {
    "scrolled": true
   },
   "outputs": [
    {
     "name": "stdout",
     "output_type": "stream",
     "text": [
      "271.79170679 nC 234.71912744 nC 188.9700735 nC 139.92799472 nC\n"
     ]
    }
   ],
   "source": [
    "print(sESumExc, sESumInh, sISumExc, sISumInh)"
   ]
  },
  {
   "cell_type": "code",
   "execution_count": 205,
   "metadata": {},
   "outputs": [],
   "source": [
    "# !!! my calculation is somewhat close"
   ]
  },
  {
   "cell_type": "code",
   "execution_count": 206,
   "metadata": {
    "scrolled": true
   },
   "outputs": [
    {
     "data": {
      "text/latex": [
       "$82.82163329443094\\,\\mathrm{n}\\,\\mathrm{C}$"
      ],
      "text/plain": [
       "82.82163329 * ncoulomb"
      ]
     },
     "execution_count": 206,
     "metadata": {},
     "output_type": "execute_result"
    }
   ],
   "source": [
    "sESumExc - sISumExc"
   ]
  },
  {
   "cell_type": "code",
   "execution_count": 207,
   "metadata": {
    "scrolled": true
   },
   "outputs": [
    {
     "data": {
      "text/latex": [
       "$94.7911327214626\\,\\mathrm{n}\\,\\mathrm{C}$"
      ],
      "text/plain": [
       "94.79113272 * ncoulomb"
      ]
     },
     "execution_count": 207,
     "metadata": {},
     "output_type": "execute_result"
    }
   ],
   "source": [
    "sESumInh - sISumInh"
   ]
  },
  {
   "cell_type": "code",
   "execution_count": 340,
   "metadata": {},
   "outputs": [],
   "source": [
    "# net charge needed to sustain the setpoint FR\n",
    "sustainingChargeExc = 83 * ncoulomb\n",
    "sustainingChargeInh = 95 * ncoulomb"
   ]
  },
  {
   "cell_type": "code",
   "execution_count": 341,
   "metadata": {},
   "outputs": [],
   "source": [
    "# translating that back into a weight\n",
    "proposedjEI = (sESumExc - sustainingChargeExc) / nInh / float(p['setUpFRInh']) / p['duration']\n",
    "proposedjII = (sESumInh - sustainingChargeInh) / nInh / float(p['setUpFRInh']) / p['duration']"
   ]
  },
  {
   "cell_type": "code",
   "execution_count": 342,
   "metadata": {},
   "outputs": [
    {
     "name": "stdout",
     "output_type": "stream",
     "text": [
      "134.85121914 pA 99.79937675 pA\n"
     ]
    }
   ],
   "source": [
    "print(proposedjEI, proposedjII)"
   ]
  },
  {
   "cell_type": "code",
   "execution_count": 211,
   "metadata": {},
   "outputs": [],
   "source": [
    "# doing the same as above, but for the weights"
   ]
  },
  {
   "cell_type": "code",
   "execution_count": 442,
   "metadata": {},
   "outputs": [],
   "source": [
    "jEESum = nExc * usejEE * float(p['setUpFRExc'])\n",
    "jIESum = nExc * usejIE * float(p['setUpFRExc'])"
   ]
  },
  {
   "cell_type": "code",
   "execution_count": 443,
   "metadata": {
    "scrolled": true
   },
   "outputs": [
    {
     "name": "stdout",
     "output_type": "stream",
     "text": [
      "286.99018236 nA 247.84452029 nA\n"
     ]
    }
   ],
   "source": [
    "print(jEESum, jIESum)"
   ]
  },
  {
   "cell_type": "code",
   "execution_count": 345,
   "metadata": {},
   "outputs": [],
   "source": [
    "jEISumgood = sISumExc / p['duration']\n",
    "jIISumgood = sISumInh / p['duration']"
   ]
  },
  {
   "cell_type": "code",
   "execution_count": 346,
   "metadata": {
    "scrolled": true
   },
   "outputs": [
    {
     "name": "stdout",
     "output_type": "stream",
     "text": [
      "188.9700735 nA 139.92799472 nA\n"
     ]
    }
   ],
   "source": [
    "print(jEISumgood, jIISumgood)"
   ]
  },
  {
   "cell_type": "code",
   "execution_count": 347,
   "metadata": {},
   "outputs": [
    {
     "data": {
      "text/latex": [
       "$98.0201088644495\\,\\mathrm{n}\\,\\mathrm{A}$"
      ],
      "text/plain": [
       "98.02010886 * namp"
      ]
     },
     "execution_count": 347,
     "metadata": {},
     "output_type": "execute_result"
    }
   ],
   "source": [
    "jEESum - jEISumgood"
   ]
  },
  {
   "cell_type": "code",
   "execution_count": 348,
   "metadata": {
    "scrolled": true
   },
   "outputs": [
    {
     "data": {
      "text/latex": [
       "$107.91652556871678\\,\\mathrm{n}\\,\\mathrm{A}$"
      ],
      "text/plain": [
       "107.91652557 * namp"
      ]
     },
     "execution_count": 348,
     "metadata": {},
     "output_type": "execute_result"
    }
   ],
   "source": [
    "jIESum - jIISumgood"
   ]
  },
  {
   "cell_type": "code",
   "execution_count": 349,
   "metadata": {},
   "outputs": [],
   "source": [
    "# is this dependent on any chosen parameters here?\n",
    "# and how can this number be calculated analytically?\n",
    "\n",
    "sustainingWeightImbalanceExc = 98 * nA\n",
    "sustainingWeightImbalanceInh = 108 * nA"
   ]
  },
  {
   "cell_type": "code",
   "execution_count": 350,
   "metadata": {},
   "outputs": [],
   "source": [
    "proposedjEISum = (jEESum - sustainingWeightImbalanceExc)\n",
    "proposedjIISum = (jIESum - sustainingWeightImbalanceInh)\n",
    "proposedjEI = proposedjEISum / nInh / float(p['setUpFRInh'])\n",
    "proposedjII = proposedjIISum / nInh / float(p['setUpFRInh'])"
   ]
  },
  {
   "cell_type": "code",
   "execution_count": 351,
   "metadata": {},
   "outputs": [
    {
     "data": {
      "text/plain": [
       "0.6584548361290394"
      ]
     },
     "execution_count": 351,
     "metadata": {},
     "output_type": "execute_result"
    }
   ],
   "source": [
    "jEISumgood / jEESum"
   ]
  },
  {
   "cell_type": "code",
   "execution_count": 352,
   "metadata": {
    "scrolled": false
   },
   "outputs": [
    {
     "data": {
      "text/plain": [
       "0.5645797395814799"
      ]
     },
     "execution_count": 352,
     "metadata": {},
     "output_type": "execute_result"
    }
   ],
   "source": [
    "jIISumgood / jIESum"
   ]
  },
  {
   "cell_type": "code",
   "execution_count": 353,
   "metadata": {},
   "outputs": [],
   "source": [
    "# is this dependent on any chosen parameters here?\n",
    "# and how can this number be calculated analytically?\n",
    "\n",
    "sustainingWeightRatioExc = 0.658\n",
    "sustainingWeightRatioInh = 0.564"
   ]
  },
  {
   "cell_type": "code",
   "execution_count": 354,
   "metadata": {},
   "outputs": [],
   "source": [
    "proposedjEISum = (jEESum * sustainingWeightRatioExc)\n",
    "proposedjIISum = (jIESum * sustainingWeightRatioInh)\n",
    "proposedjEI = proposedjEISum / nInh / float(p['setUpFRInh'])\n",
    "proposedjII = proposedjIISum / nInh / float(p['setUpFRInh'])"
   ]
  },
  {
   "cell_type": "code",
   "execution_count": 355,
   "metadata": {},
   "outputs": [
    {
     "data": {
      "text/latex": [
       "$286.99018236277107\\,\\mathrm{n}\\,\\mathrm{A}$"
      ],
      "text/plain": [
       "286.99018236 * namp"
      ]
     },
     "execution_count": 355,
     "metadata": {},
     "output_type": "execute_result"
    }
   ],
   "source": [
    "jEESum"
   ]
  },
  {
   "cell_type": "code",
   "execution_count": 356,
   "metadata": {},
   "outputs": [
    {
     "data": {
      "text/latex": [
       "$-86.47357979733188\\,\\mathrm{n}\\,\\mathrm{A}$"
      ],
      "text/plain": [
       "-86.4735798 * namp"
      ]
     },
     "execution_count": 356,
     "metadata": {},
     "output_type": "execute_result"
    }
   ],
   "source": [
    "jEESum * p['setUpFRExc'] / p['setUpFRInh'] - jEISumgood"
   ]
  },
  {
   "cell_type": "code",
   "execution_count": 357,
   "metadata": {
    "scrolled": true
   },
   "outputs": [
    {
     "data": {
      "text/latex": [
       "$-51.412094618806975\\,\\mathrm{n}\\,\\mathrm{A}$"
      ],
      "text/plain": [
       "-51.41209462 * namp"
      ]
     },
     "execution_count": 357,
     "metadata": {},
     "output_type": "execute_result"
    }
   ],
   "source": [
    "jIESum * p['setUpFRExc'] / p['setUpFRInh'] - jIISumgood"
   ]
  },
  {
   "cell_type": "code",
   "execution_count": 436,
   "metadata": {},
   "outputs": [],
   "source": [
    "# is this dependent on any chosen parameters here?\n",
    "# and how can this number be calculated analytically?\n",
    "\n",
    "slopeExc = p['setUpFRExc'] / p['setUpFRInh']\n",
    "slopeInh = p['setUpFRExc'] / p['setUpFRInh']\n",
    "offsetExc = 86.5 * nA\n",
    "offsetInh = 51.4 * nA"
   ]
  },
  {
   "cell_type": "code",
   "execution_count": 437,
   "metadata": {},
   "outputs": [],
   "source": [
    "proposedjEISum = (offsetExc + jEESum * slopeExc)\n",
    "proposedjIISum = (offsetInh + jIESum * slopeInh)\n",
    "proposedjEI = proposedjEISum / nInh / float(p['setUpFRInh'])\n",
    "proposedjII = proposedjIISum / nInh / float(p['setUpFRInh'])"
   ]
  },
  {
   "cell_type": "code",
   "execution_count": 438,
   "metadata": {},
   "outputs": [
    {
     "name": "stdout",
     "output_type": "stream",
     "text": [
      "134.9974955 pA 99.93992865 pA\n"
     ]
    }
   ],
   "source": [
    "print(proposedjEI, proposedjII)"
   ]
  },
  {
   "cell_type": "code",
   "execution_count": 439,
   "metadata": {},
   "outputs": [
    {
     "name": "stdout",
     "output_type": "stream",
     "text": [
      "136.50692497 pA 101.08023944 pA\n"
     ]
    }
   ],
   "source": [
    "print(usejEI, usejII)"
   ]
  },
  {
   "cell_type": "code",
   "execution_count": 150,
   "metadata": {},
   "outputs": [],
   "source": [
    "# how to get it back to the weight?"
   ]
  },
  {
   "cell_type": "code",
   "execution_count": 258,
   "metadata": {},
   "outputs": [
    {
     "data": {
      "text/latex": [
       "$134.97862392737255\\,\\mathrm{p}\\,\\mathrm{C}$"
      ],
      "text/plain": [
       "134.97862393 * pcoulomb"
      ]
     },
     "execution_count": 258,
     "metadata": {},
     "output_type": "execute_result"
    }
   ],
   "source": [
    "sISumExc / nInh / float(p['setUpFRInh'])"
   ]
  },
  {
   "cell_type": "code",
   "execution_count": 259,
   "metadata": {
    "scrolled": true
   },
   "outputs": [
    {
     "name": "stdout",
     "output_type": "stream",
     "text": [
      "188.9700735 nC 139.92799472 nC\n"
     ]
    }
   ],
   "source": [
    "print(sISumExc, sISumInh)"
   ]
  },
  {
   "cell_type": "code",
   "execution_count": null,
   "metadata": {},
   "outputs": [],
   "source": [
    "# thi"
   ]
  },
  {
   "cell_type": "code",
   "execution_count": 284,
   "metadata": {},
   "outputs": [
    {
     "data": {
      "text/plain": [
       "0.35714285714285715"
      ]
     },
     "execution_count": 284,
     "metadata": {},
     "output_type": "execute_result"
    }
   ],
   "source": [
    "p['setUpFRExc'] / p['setUpFRInh']"
   ]
  },
  {
   "cell_type": "code",
   "execution_count": 377,
   "metadata": {
    "scrolled": true
   },
   "outputs": [
    {
     "data": {
      "text/latex": [
       "$102.49649370098966\\,\\mathrm{n}\\,\\mathrm{A}$"
      ],
      "text/plain": [
       "102.4964937 * namp"
      ]
     },
     "execution_count": 377,
     "metadata": {},
     "output_type": "execute_result"
    }
   ],
   "source": [
    "p['setUpFRExc'] / p['setUpFRInh'] * jEESum"
   ]
  },
  {
   "cell_type": "code",
   "execution_count": 386,
   "metadata": {},
   "outputs": [
    {
     "data": {
      "text/latex": [
       "$0.8243559718969555\\,\\mathrm{n}\\,\\mathrm{A}$"
      ],
      "text/plain": [
       "0.82435597 * namp"
      ]
     },
     "execution_count": 386,
     "metadata": {},
     "output_type": "execute_result"
    }
   ],
   "source": [
    "p['setUpFRExc'] / p['setUpFRInh'] / p['gainExc'] * p['nExc'] * Hz"
   ]
  },
  {
   "cell_type": "code",
   "execution_count": 384,
   "metadata": {},
   "outputs": [
    {
     "data": {
      "text/latex": [
       "$7.09142857142857\\,\\mathrm{n}\\,\\mathrm{A}$"
      ],
      "text/plain": [
       "7.09142857 * namp"
      ]
     },
     "execution_count": 384,
     "metadata": {},
     "output_type": "execute_result"
    }
   ],
   "source": [
    "(p['threshExc'] * p['nExc']) / p['setUpFRInh'] * Hz"
   ]
  },
  {
   "cell_type": "code",
   "execution_count": 268,
   "metadata": {},
   "outputs": [
    {
     "data": {
      "text/latex": [
       "$0.00043323863636363633\\,\\frac{\\mathrm{Hz}}{\\mathrm{p}\\,\\mathrm{A}}$"
      ],
      "text/plain": [
       "0.00043324 * hertz / pamp"
      ]
     },
     "execution_count": 268,
     "metadata": {},
     "output_type": "execute_result"
    }
   ],
   "source": [
    "(p['gainExc'] / p['nExc'])"
   ]
  },
  {
   "cell_type": "code",
   "execution_count": 326,
   "metadata": {
    "scrolled": true
   },
   "outputs": [
    {
     "data": {
      "text/latex": [
       "$286.99018236277107\\,\\mathrm{n}\\,\\mathrm{A}$"
      ],
      "text/plain": [
       "286.99018236 * namp"
      ]
     },
     "execution_count": 326,
     "metadata": {},
     "output_type": "execute_result"
    }
   ],
   "source": [
    "jEESum"
   ]
  },
  {
   "cell_type": "code",
   "execution_count": 394,
   "metadata": {},
   "outputs": [
    {
     "data": {
      "text/latex": [
       "$102.49649370098966\\,\\mathrm{n}\\,\\mathrm{A}$"
      ],
      "text/plain": [
       "102.4964937 * namp"
      ]
     },
     "execution_count": 394,
     "metadata": {},
     "output_type": "execute_result"
    }
   ],
   "source": [
    "p['setUpFRExc'] / p['setUpFRInh'] * jEESum"
   ]
  },
  {
   "cell_type": "code",
   "execution_count": 397,
   "metadata": {},
   "outputs": [
    {
     "data": {
      "text/latex": [
       "$0.8243559718969555\\,\\mathrm{n}\\,\\mathrm{A}$"
      ],
      "text/plain": [
       "0.82435597 * namp"
      ]
     },
     "execution_count": 397,
     "metadata": {},
     "output_type": "execute_result"
    }
   ],
   "source": [
    "p['setUpFRExc'] / p['setUpFRInh'] / (p['gainExc'] / p['nExc']) * Hz"
   ]
  },
  {
   "cell_type": "code",
   "execution_count": 391,
   "metadata": {},
   "outputs": [],
   "source": [
    "# balance calculation based on Wilson-Cowan, etc\n",
    "sumInhInputToExc1 = p['setUpFRExc'] / p['setUpFRInh'] * jEESum - \\\n",
    "                   p['setUpFRExc'] / p['setUpFRInh'] / (p['gainExc'] / p['nExc']) * Hz - \\\n",
    "                   (p['threshExc'] * p['nExc']) / p['setUpFRInh'] * Hz # amp\n",
    "sumInhInputToInh1 = p['setUpFRExc'] / p['setUpFRInh'] * jIESum - \\\n",
    "                   1 / (p['gainInh'] / p['nInh']) * Hz - \\\n",
    "                   (p['threshInh'] * p['nInh']) / p['setUpFRInh'] * Hz"
   ]
  },
  {
   "cell_type": "code",
   "execution_count": 392,
   "metadata": {},
   "outputs": [
    {
     "data": {
      "text/latex": [
       "$95.40506384150488\\,\\mathrm{n}\\,\\mathrm{A}$"
      ],
      "text/plain": [
       "95.40506384 * namp"
      ]
     },
     "execution_count": 392,
     "metadata": {},
     "output_type": "execute_result"
    }
   ],
   "source": [
    "sumInhInputToExc1"
   ]
  },
  {
   "cell_type": "code",
   "execution_count": 393,
   "metadata": {},
   "outputs": [
    {
     "data": {
      "text/latex": [
       "$86.58589679092685\\,\\mathrm{n}\\,\\mathrm{A}$"
      ],
      "text/plain": [
       "86.58589679 * namp"
      ]
     },
     "execution_count": 393,
     "metadata": {},
     "output_type": "execute_result"
    }
   ],
   "source": [
    "sumInhInputToInh1"
   ]
  },
  {
   "cell_type": "code",
   "execution_count": 322,
   "metadata": {
    "collapsed": true
   },
   "outputs": [
    {
     "ename": "DimensionMismatchError",
     "evalue": "Cannot calculate 102.4964937 nA - 1.03044496 pC, units do not match (units are A and C).",
     "output_type": "error",
     "traceback": [
      "\u001b[1;31m---------------------------------------------------------------------------\u001b[0m",
      "\u001b[1;31mDimensionMismatchError\u001b[0m                    Traceback (most recent call last)",
      "\u001b[1;32m<ipython-input-322-b3dda18043eb>\u001b[0m in \u001b[0;36m<module>\u001b[1;34m\u001b[0m\n\u001b[0;32m      1\u001b[0m \u001b[1;31m# balance calculation based on Wilson-Cowan, etc\u001b[0m\u001b[1;33m\u001b[0m\u001b[1;33m\u001b[0m\u001b[1;33m\u001b[0m\u001b[0m\n\u001b[0;32m      2\u001b[0m \u001b[0msumInhInputToExc1\u001b[0m \u001b[1;33m=\u001b[0m \u001b[0mp\u001b[0m\u001b[1;33m[\u001b[0m\u001b[1;34m'setUpFRExc'\u001b[0m\u001b[1;33m]\u001b[0m \u001b[1;33m/\u001b[0m \u001b[0mp\u001b[0m\u001b[1;33m[\u001b[0m\u001b[1;34m'setUpFRInh'\u001b[0m\u001b[1;33m]\u001b[0m \u001b[1;33m*\u001b[0m \u001b[0mjEESum\u001b[0m \u001b[1;33m-\u001b[0m\u001b[0;31m \u001b[0m\u001b[0;31m\\\u001b[0m\u001b[1;33m\u001b[0m\u001b[1;33m\u001b[0m\u001b[0m\n\u001b[1;32m----> 3\u001b[1;33m                    \u001b[0mp\u001b[0m\u001b[1;33m[\u001b[0m\u001b[1;34m'setUpFRExc'\u001b[0m\u001b[1;33m]\u001b[0m \u001b[1;33m/\u001b[0m \u001b[0mp\u001b[0m\u001b[1;33m[\u001b[0m\u001b[1;34m'setUpFRInh'\u001b[0m\u001b[1;33m]\u001b[0m \u001b[1;33m/\u001b[0m \u001b[0mp\u001b[0m\u001b[1;33m[\u001b[0m\u001b[1;34m'gainExc'\u001b[0m\u001b[1;33m]\u001b[0m \u001b[1;33m-\u001b[0m\u001b[0;31m \u001b[0m\u001b[0;31m\\\u001b[0m\u001b[1;33m\u001b[0m\u001b[1;33m\u001b[0m\u001b[0m\n\u001b[0m\u001b[0;32m      4\u001b[0m                    \u001b[0mp\u001b[0m\u001b[1;33m[\u001b[0m\u001b[1;34m'threshExc'\u001b[0m\u001b[1;33m]\u001b[0m \u001b[1;33m/\u001b[0m \u001b[0mp\u001b[0m\u001b[1;33m[\u001b[0m\u001b[1;34m'setUpFRInh'\u001b[0m\u001b[1;33m]\u001b[0m  \u001b[1;31m# amp\u001b[0m\u001b[1;33m\u001b[0m\u001b[1;33m\u001b[0m\u001b[0m\n\u001b[0;32m      5\u001b[0m \u001b[0msumInhInputToInh1\u001b[0m \u001b[1;33m=\u001b[0m \u001b[0mp\u001b[0m\u001b[1;33m[\u001b[0m\u001b[1;34m'setUpFRExc'\u001b[0m\u001b[1;33m]\u001b[0m \u001b[1;33m/\u001b[0m \u001b[0mp\u001b[0m\u001b[1;33m[\u001b[0m\u001b[1;34m'setUpFRInh'\u001b[0m\u001b[1;33m]\u001b[0m \u001b[1;33m*\u001b[0m \u001b[0mjIESum\u001b[0m \u001b[1;33m-\u001b[0m\u001b[0;31m \u001b[0m\u001b[0;31m\\\u001b[0m\u001b[1;33m\u001b[0m\u001b[1;33m\u001b[0m\u001b[0m\n",
      "\u001b[1;32m~\\anaconda3\\lib\\site-packages\\brian2\\units\\fundamentalunits.py\u001b[0m in \u001b[0;36m__sub__\u001b[1;34m(self, other)\u001b[0m\n\u001b[0;32m   1446\u001b[0m         return self._binary_operation(other, operator.sub,\n\u001b[0;32m   1447\u001b[0m                                       \u001b[0mfail_for_mismatch\u001b[0m\u001b[1;33m=\u001b[0m\u001b[1;32mTrue\u001b[0m\u001b[1;33m,\u001b[0m\u001b[1;33m\u001b[0m\u001b[1;33m\u001b[0m\u001b[0m\n\u001b[1;32m-> 1448\u001b[1;33m                                       operator_str='-')\n\u001b[0m\u001b[0;32m   1449\u001b[0m \u001b[1;33m\u001b[0m\u001b[0m\n\u001b[0;32m   1450\u001b[0m     \u001b[1;32mdef\u001b[0m \u001b[0m__rsub__\u001b[0m\u001b[1;33m(\u001b[0m\u001b[0mself\u001b[0m\u001b[1;33m,\u001b[0m \u001b[0mother\u001b[0m\u001b[1;33m)\u001b[0m\u001b[1;33m:\u001b[0m\u001b[1;33m\u001b[0m\u001b[1;33m\u001b[0m\u001b[0m\n",
      "\u001b[1;32m~\\anaconda3\\lib\\site-packages\\brian2\\units\\fundamentalunits.py\u001b[0m in \u001b[0;36m_binary_operation\u001b[1;34m(self, other, operation, dim_operation, fail_for_mismatch, operator_str, inplace)\u001b[0m\n\u001b[0;32m   1372\u001b[0m                 _, other_dim = fail_for_dimension_mismatch(self, other, message,\n\u001b[0;32m   1373\u001b[0m                                                            \u001b[0mvalue1\u001b[0m\u001b[1;33m=\u001b[0m\u001b[0mself\u001b[0m\u001b[1;33m,\u001b[0m\u001b[1;33m\u001b[0m\u001b[1;33m\u001b[0m\u001b[0m\n\u001b[1;32m-> 1374\u001b[1;33m                                                            value2=other)\n\u001b[0m\u001b[0;32m   1375\u001b[0m \u001b[1;33m\u001b[0m\u001b[0m\n\u001b[0;32m   1376\u001b[0m         \u001b[1;32mif\u001b[0m \u001b[0mother_dim\u001b[0m \u001b[1;32mis\u001b[0m \u001b[1;32mNone\u001b[0m\u001b[1;33m:\u001b[0m\u001b[1;33m\u001b[0m\u001b[1;33m\u001b[0m\u001b[0m\n",
      "\u001b[1;32m~\\anaconda3\\lib\\site-packages\\brian2\\units\\fundamentalunits.py\u001b[0m in \u001b[0;36mfail_for_dimension_mismatch\u001b[1;34m(obj1, obj2, error_message, **error_quantities)\u001b[0m\n\u001b[0;32m    185\u001b[0m             \u001b[1;32mraise\u001b[0m \u001b[0mDimensionMismatchError\u001b[0m\u001b[1;33m(\u001b[0m\u001b[0merror_message\u001b[0m\u001b[1;33m,\u001b[0m \u001b[0mdim1\u001b[0m\u001b[1;33m)\u001b[0m\u001b[1;33m\u001b[0m\u001b[1;33m\u001b[0m\u001b[0m\n\u001b[0;32m    186\u001b[0m         \u001b[1;32melse\u001b[0m\u001b[1;33m:\u001b[0m\u001b[1;33m\u001b[0m\u001b[1;33m\u001b[0m\u001b[0m\n\u001b[1;32m--> 187\u001b[1;33m             \u001b[1;32mraise\u001b[0m \u001b[0mDimensionMismatchError\u001b[0m\u001b[1;33m(\u001b[0m\u001b[0merror_message\u001b[0m\u001b[1;33m,\u001b[0m \u001b[0mdim1\u001b[0m\u001b[1;33m,\u001b[0m \u001b[0mdim2\u001b[0m\u001b[1;33m)\u001b[0m\u001b[1;33m\u001b[0m\u001b[1;33m\u001b[0m\u001b[0m\n\u001b[0m\u001b[0;32m    188\u001b[0m     \u001b[1;32melse\u001b[0m\u001b[1;33m:\u001b[0m\u001b[1;33m\u001b[0m\u001b[1;33m\u001b[0m\u001b[0m\n\u001b[0;32m    189\u001b[0m         \u001b[1;32mreturn\u001b[0m \u001b[0mdim1\u001b[0m\u001b[1;33m,\u001b[0m \u001b[0mdim2\u001b[0m\u001b[1;33m\u001b[0m\u001b[1;33m\u001b[0m\u001b[0m\n",
      "\u001b[1;31mDimensionMismatchError\u001b[0m: Cannot calculate 102.4964937 nA - 1.03044496 pC, units do not match (units are A and C)."
     ]
    }
   ],
   "source": [
    "# balance calculation based on Wilson-Cowan, etc\n",
    "sumInhInputToExc1 = p['setUpFRExc'] / p['setUpFRInh'] * jEESum - \\\n",
    "                   p['setUpFRExc'] / p['setUpFRInh'] / p['gainExc']  - \\\n",
    "                   p['threshExc'] / p['setUpFRInh']  # amp\n",
    "sumInhInputToInh1 = p['setUpFRExc'] / p['setUpFRInh'] * jIESum - \\\n",
    "                   1 / p['gainInh'] - \\\n",
    "                   p['threshInh'] / p['setUpFRInh']"
   ]
  },
  {
   "cell_type": "code",
   "execution_count": 323,
   "metadata": {},
   "outputs": [],
   "source": [
    "# balance calculation based on Wilson-Cowan, etc\n",
    "sumInhInputToExc1 = p['setUpFRExc'] / p['setUpFRInh'] * jEESum * second - \\\n",
    "                   p['setUpFRExc'] / p['setUpFRInh'] / p['gainExc'] - \\\n",
    "                   p['threshExc'] / p['setUpFRInh']  # amp\n",
    "sumInhInputToInh1 = p['setUpFRExc'] / p['setUpFRInh'] * jIESum * second - \\\n",
    "                   1 / p['gainInh'] - \\\n",
    "                   p['threshInh'] / p['setUpFRInh']"
   ]
  },
  {
   "cell_type": "code",
   "execution_count": 454,
   "metadata": {
    "scrolled": true
   },
   "outputs": [
    {
     "data": {
      "text/latex": [
       "$102.49649370098966\\,\\mathrm{n}\\,\\mathrm{C}$"
      ],
      "text/plain": [
       "102.4964937 * ncoulomb"
      ]
     },
     "execution_count": 454,
     "metadata": {},
     "output_type": "execute_result"
    }
   ],
   "source": [
    "p['setUpFRExc'] / p['setUpFRInh'] * jEESum / Hz"
   ]
  },
  {
   "cell_type": "code",
   "execution_count": 453,
   "metadata": {},
   "outputs": [
    {
     "data": {
      "text/latex": [
       "$1.0304449648711944\\,\\mathrm{p}\\,\\mathrm{C}$"
      ],
      "text/plain": [
       "1.03044496 * pcoulomb"
      ]
     },
     "execution_count": 453,
     "metadata": {},
     "output_type": "execute_result"
    }
   ],
   "source": [
    "p['setUpFRExc'] / p['setUpFRInh'] / p['gainExc']"
   ]
  },
  {
   "cell_type": "code",
   "execution_count": 455,
   "metadata": {},
   "outputs": [
    {
     "data": {
      "text/latex": [
       "$8.864285714285714\\,\\mathrm{p}\\,\\mathrm{C}$"
      ],
      "text/plain": [
       "8.86428571 * pcoulomb"
      ]
     },
     "execution_count": 455,
     "metadata": {},
     "output_type": "execute_result"
    }
   ],
   "source": [
    "p['threshExc'] / p['setUpFRInh']"
   ]
  },
  {
   "cell_type": "code",
   "execution_count": 456,
   "metadata": {},
   "outputs": [
    {
     "data": {
      "text/latex": [
       "$0.34659090909090906\\,\\frac{\\mathrm{Hz}}{\\mathrm{p}\\,\\mathrm{A}}$"
      ],
      "text/plain": [
       "0.34659091 * hertz / pamp"
      ]
     },
     "execution_count": 456,
     "metadata": {},
     "output_type": "execute_result"
    }
   ],
   "source": [
    "p['gainExc']"
   ]
  },
  {
   "cell_type": "code",
   "execution_count": 457,
   "metadata": {},
   "outputs": [
    {
     "data": {
      "text/latex": [
       "$1.5090909090909093\\,\\frac{\\mathrm{Hz}}{\\mathrm{p}\\,\\mathrm{A}}$"
      ],
      "text/plain": [
       "1.50909091 * hertz / pamp"
      ]
     },
     "execution_count": 457,
     "metadata": {},
     "output_type": "execute_result"
    }
   ],
   "source": [
    "p['gainInh']"
   ]
  },
  {
   "cell_type": "code",
   "execution_count": 458,
   "metadata": {},
   "outputs": [
    {
     "data": {
      "text/latex": [
       "$124.1\\,\\mathrm{p}\\,\\mathrm{A}$"
      ],
      "text/plain": [
       "124.1 * pamp"
      ]
     },
     "execution_count": 458,
     "metadata": {},
     "output_type": "execute_result"
    }
   ],
   "source": [
    "p['threshExc']"
   ]
  },
  {
   "cell_type": "code",
   "execution_count": 459,
   "metadata": {
    "scrolled": true
   },
   "outputs": [
    {
     "data": {
      "text/latex": [
       "$135.1\\,\\mathrm{p}\\,\\mathrm{A}$"
      ],
      "text/plain": [
       "135.1 * pamp"
      ]
     },
     "execution_count": 459,
     "metadata": {},
     "output_type": "execute_result"
    }
   ],
   "source": [
    "p['threshInh']"
   ]
  },
  {
   "cell_type": "code",
   "execution_count": null,
   "metadata": {},
   "outputs": [],
   "source": [
    "WEI = m * WEE + b"
   ]
  },
  {
   "cell_type": "code",
   "execution_count": 462,
   "metadata": {},
   "outputs": [
    {
     "data": {
      "text/plain": [
       "0.35714285714285715"
      ]
     },
     "execution_count": 462,
     "metadata": {},
     "output_type": "execute_result"
    }
   ],
   "source": [
    "m = p['setUpFRExc'] / p['setUpFRInh']\n",
    "m"
   ]
  },
  {
   "cell_type": "code",
   "execution_count": null,
   "metadata": {},
   "outputs": [],
   "source": []
  },
  {
   "cell_type": "code",
   "execution_count": 450,
   "metadata": {},
   "outputs": [],
   "source": [
    "# balance calculation based on Wilson-Cowan, etc\n",
    "sumInhInputToExc1 = p['setUpFRExc'] / p['setUpFRInh'] * jEESum / Hz - \\\n",
    "                   p['setUpFRExc'] / p['setUpFRInh'] / p['gainExc'] - \\\n",
    "                   p['threshExc'] / p['setUpFRInh']  # amp\n",
    "sumInhInputToInh1 = p['setUpFRExc'] / p['setUpFRInh'] * jIESum / Hz - \\\n",
    "                   1 / p['gainInh'] - \\\n",
    "                   p['threshInh'] / p['setUpFRInh']"
   ]
  },
  {
   "cell_type": "code",
   "execution_count": 325,
   "metadata": {},
   "outputs": [],
   "source": [
    "# balance calculation based on Wilson-Cowan, etc\n",
    "sumInhInputToExc1 = p['setUpFRExc'] / p['setUpFRInh'] * usejEE * float(p['setUpFRExc']) - \\\n",
    "                   p['setUpFRExc'] / p['setUpFRInh'] / p['gainExc'] - \\\n",
    "                   p['threshExc'] / p['setUpFRInh']  # amp\n",
    "sumInhInputToInh1 = p['setUpFRExc'] / p['setUpFRInh'] * (jIESum ) - \\\n",
    "                   1 / p['gainInh'] - \\\n",
    "                   p['threshInh'] / p['setUpFRInh']"
   ]
  },
  {
   "cell_type": "code",
   "execution_count": 336,
   "metadata": {},
   "outputs": [
    {
     "data": {
      "text/latex": [
       "$1.0304449648711944\\,\\mathrm{p}\\,\\mathrm{C}$"
      ],
      "text/plain": [
       "1.03044496 * pcoulomb"
      ]
     },
     "execution_count": 336,
     "metadata": {},
     "output_type": "execute_result"
    }
   ],
   "source": [
    "p['setUpFRExc'] / p['setUpFRInh'] / p['gainExc']"
   ]
  },
  {
   "cell_type": "code",
   "execution_count": 335,
   "metadata": {},
   "outputs": [
    {
     "data": {
      "text/latex": [
       "$0.7174754559069276\\,\\mathrm{n}\\,\\mathrm{A}$"
      ],
      "text/plain": [
       "0.71747546 * namp"
      ]
     },
     "execution_count": 335,
     "metadata": {},
     "output_type": "execute_result"
    }
   ],
   "source": [
    "usejEE * float(p['setUpFRExc'])"
   ]
  },
  {
   "cell_type": "code",
   "execution_count": 329,
   "metadata": {},
   "outputs": [
    {
     "data": {
      "text/latex": [
       "$1.4349509118138552e-06\\,$"
      ],
      "text/plain": [
       "1.43495091e-06 * second ** -1 * amp"
      ]
     },
     "execution_count": 329,
     "metadata": {},
     "output_type": "execute_result"
    }
   ],
   "source": [
    "jEESum * p['setUpFRExc']"
   ]
  },
  {
   "cell_type": "code",
   "execution_count": 328,
   "metadata": {},
   "outputs": [
    {
     "data": {
      "text/latex": [
       "$5.0\\,\\mathrm{Hz}$"
      ],
      "text/plain": [
       "5. * hertz"
      ]
     },
     "execution_count": 328,
     "metadata": {},
     "output_type": "execute_result"
    }
   ],
   "source": [
    "p['setUpFRExc']"
   ]
  },
  {
   "cell_type": "code",
   "execution_count": 325,
   "metadata": {},
   "outputs": [],
   "source": [
    "# balance calculation based on Wilson-Cowan, etc\n",
    "sumInhInputToExc1 = "
   ]
  },
  {
   "cell_type": "code",
   "execution_count": 425,
   "metadata": {},
   "outputs": [
    {
     "name": "stdout",
     "output_type": "stream",
     "text": [
      "124.1 pA 0.34659091 Hz/pA 135.1 pA 1.50909091 Hz/pA\n"
     ]
    }
   ],
   "source": [
    "print(p['threshExc'], p['gainExc'], p['threshInh'], p['gainInh'], )"
   ]
  },
  {
   "cell_type": "code",
   "execution_count": 426,
   "metadata": {},
   "outputs": [],
   "source": [
    "# is this dependent on any chosen parameters here?\n",
    "# and how can this number be calculated analytically?\n",
    "\n",
    "slopeExc = p['setUpFRExc'] / p['setUpFRInh']\n",
    "slopeInh = p['setUpFRExc'] / p['setUpFRInh']\n",
    "offsetExc = 86.5 * nA\n",
    "offsetInh = 51.4 * nA"
   ]
  },
  {
   "cell_type": "code",
   "execution_count": 440,
   "metadata": {},
   "outputs": [
    {
     "data": {
      "text/latex": [
       "$6.178571428571429\\,\\mathrm{n}\\,\\mathrm{A}$"
      ],
      "text/plain": [
       "6.17857143 * namp"
      ]
     },
     "execution_count": 440,
     "metadata": {},
     "output_type": "execute_result"
    }
   ],
   "source": [
    "offsetExc / float(p['setUpFRInh'])"
   ]
  },
  {
   "cell_type": "code",
   "execution_count": 441,
   "metadata": {},
   "outputs": [
    {
     "data": {
      "text/latex": [
       "$3.6714285714285713\\,\\mathrm{n}\\,\\mathrm{A}$"
      ],
      "text/plain": [
       "3.67142857 * namp"
      ]
     },
     "execution_count": 441,
     "metadata": {},
     "output_type": "execute_result"
    }
   ],
   "source": [
    "offsetInh / float(p['setUpFRInh'])"
   ]
  },
  {
   "cell_type": "code",
   "execution_count": 427,
   "metadata": {},
   "outputs": [],
   "source": [
    "proposedjEISum = (offsetExc + jEESum * slopeExc)\n",
    "proposedjIISum = (offsetInh + jIESum * slopeInh)\n",
    "proposedjEI = proposedjEISum / nInh / float(p['setUpFRInh'])\n",
    "proposedjII = proposedjIISum / nInh / float(p['setUpFRInh'])"
   ]
  },
  {
   "cell_type": "code",
   "execution_count": 314,
   "metadata": {},
   "outputs": [
    {
     "data": {
      "text/latex": [
       "$124.1\\,\\mathrm{p}\\,\\mathrm{A}$"
      ],
      "text/plain": [
       "124.1 * pamp"
      ]
     },
     "execution_count": 314,
     "metadata": {},
     "output_type": "execute_result"
    }
   ],
   "source": [
    "p['threshExc']"
   ]
  },
  {
   "cell_type": "code",
   "execution_count": 316,
   "metadata": {
    "scrolled": true
   },
   "outputs": [
    {
     "data": {
      "text/latex": [
       "$30.892857142857146\\,\\mathrm{p}\\,\\mathrm{A}$"
      ],
      "text/plain": [
       "30.89285714 * pamp"
      ]
     },
     "execution_count": 316,
     "metadata": {},
     "output_type": "execute_result"
    }
   ],
   "source": [
    "offsetExc / p['nInh'] / float(p['setUpFRInh'])"
   ]
  },
  {
   "cell_type": "code",
   "execution_count": 311,
   "metadata": {},
   "outputs": [
    {
     "data": {
      "text/plain": [
       "4.017109826589595"
      ]
     },
     "execution_count": 311,
     "metadata": {},
     "output_type": "execute_result"
    }
   ],
   "source": [
    "p['threshExc'] / (offsetExc / p['nInh'] / float(p['setUpFRInh']))"
   ]
  },
  {
   "cell_type": "code",
   "execution_count": 317,
   "metadata": {
    "scrolled": true
   },
   "outputs": [
    {
     "data": {
      "text/latex": [
       "$18.35714285714286\\,\\mathrm{p}\\,\\mathrm{A}$"
      ],
      "text/plain": [
       "18.35714286 * pamp"
      ]
     },
     "execution_count": 317,
     "metadata": {},
     "output_type": "execute_result"
    }
   ],
   "source": [
    "offsetInh / p['nInh'] / float(p['setUpFRInh'])"
   ]
  },
  {
   "cell_type": "code",
   "execution_count": 313,
   "metadata": {},
   "outputs": [
    {
     "data": {
      "text/plain": [
       "7.35953307392996"
      ]
     },
     "execution_count": 313,
     "metadata": {},
     "output_type": "execute_result"
    }
   ],
   "source": [
    "p['threshInh'] / (offsetInh / p['nInh'] / float(p['setUpFRInh']))"
   ]
  },
  {
   "cell_type": "code",
   "execution_count": 289,
   "metadata": {
    "scrolled": true
   },
   "outputs": [
    {
     "data": {
      "text/latex": [
       "$102.49649370098966\\,\\mathrm{n}\\,\\mathrm{A}$"
      ],
      "text/plain": [
       "102.4964937 * namp"
      ]
     },
     "execution_count": 289,
     "metadata": {},
     "output_type": "execute_result"
    }
   ],
   "source": [
    "p['setUpFRExc'] / p['setUpFRInh'] * jEESum"
   ]
  },
  {
   "cell_type": "code",
   "execution_count": 292,
   "metadata": {},
   "outputs": [
    {
     "data": {
      "text/latex": [
       "$9.894730679156908\\,\\mathrm{p}\\,\\mathrm{C}$"
      ],
      "text/plain": [
       "9.89473068 * pcoulomb"
      ]
     },
     "execution_count": 292,
     "metadata": {},
     "output_type": "execute_result"
    }
   ],
   "source": [
    "p['setUpFRExc'] / p['setUpFRInh'] / p['gainExc'] + p['threshExc'] / p['setUpFRInh']"
   ]
  },
  {
   "cell_type": "code",
   "execution_count": 293,
   "metadata": {},
   "outputs": [
    {
     "data": {
      "text/latex": [
       "$10.312650602409638\\,\\mathrm{p}\\,\\mathrm{C}$"
      ],
      "text/plain": [
       "10.3126506 * pcoulomb"
      ]
     },
     "execution_count": 293,
     "metadata": {},
     "output_type": "execute_result"
    }
   ],
   "source": [
    "(1 / p['gainInh'] + p['threshInh'] / p['setUpFRInh'])"
   ]
  },
  {
   "cell_type": "code",
   "execution_count": null,
   "metadata": {},
   "outputs": [],
   "source": []
  },
  {
   "cell_type": "code",
   "execution_count": 237,
   "metadata": {},
   "outputs": [],
   "source": [
    "# balance calculation based on Wilson-Cowan, etc\n",
    "sumInhInputToExc1 = p['setUpFRExc'] / p['setUpFRInh'] * sumExcInputToExc - \\\n",
    "                   p['setUpFRExc'] / p['setUpFRInh'] / p['gainExc'] - \\\n",
    "                   p['threshExc'] / p['setUpFRInh']  # amp\n",
    "sumInhInputToInh1 = p['setUpFRExc'] / p['setUpFRInh'] * sumExcInputToInh - \\\n",
    "                   1 / p['gainInh'] - \\\n",
    "                   p['threshInh'] / p['setUpFRInh']"
   ]
  },
  {
   "cell_type": "code",
   "execution_count": 238,
   "metadata": {},
   "outputs": [
    {
     "data": {
      "text/latex": [
       "$102.4865989703105\\,\\mathrm{n}\\,\\mathrm{C}$"
      ],
      "text/plain": [
       "102.48659897 * ncoulomb"
      ]
     },
     "execution_count": 238,
     "metadata": {},
     "output_type": "execute_result"
    }
   ],
   "source": [
    "sumInhInputToExc1"
   ]
  },
  {
   "cell_type": "code",
   "execution_count": 239,
   "metadata": {},
   "outputs": [
    {
     "data": {
      "text/latex": [
       "$88.50558745357746\\,\\mathrm{n}\\,\\mathrm{C}$"
      ],
      "text/plain": [
       "88.50558745 * ncoulomb"
      ]
     },
     "execution_count": 239,
     "metadata": {},
     "output_type": "execute_result"
    }
   ],
   "source": [
    "sumInhInputToInh1"
   ]
  },
  {
   "cell_type": "code",
   "execution_count": null,
   "metadata": {},
   "outputs": [],
   "source": []
  },
  {
   "cell_type": "code",
   "execution_count": 281,
   "metadata": {},
   "outputs": [],
   "source": [
    "# is this dependent on any chosen parameters here?\n",
    "# and how can this number be calculated analytically?\n",
    "\n",
    "slopeExc = p['setUpFRExc'] / p['setUpFRInh']\n",
    "slopeInh = p['setUpFRExc'] / p['setUpFRInh']\n",
    "offsetExc = 86.5 * nA\n",
    "offsetInh = 51.4 * nA"
   ]
  },
  {
   "cell_type": "code",
   "execution_count": 399,
   "metadata": {
    "scrolled": true
   },
   "outputs": [
    {
     "data": {
      "text/latex": [
       "$216.25\\,\\mathrm{p}\\,\\mathrm{A}$"
      ],
      "text/plain": [
       "216.25 * pamp"
      ]
     },
     "execution_count": 399,
     "metadata": {},
     "output_type": "execute_result"
    }
   ],
   "source": [
    "offsetExc / nExc"
   ]
  },
  {
   "cell_type": "code",
   "execution_count": 404,
   "metadata": {
    "scrolled": false
   },
   "outputs": [
    {
     "data": {
      "text/latex": [
       "$0.865\\,\\mathrm{n}\\,\\mathrm{A}$"
      ],
      "text/plain": [
       "0.865 * namp"
      ]
     },
     "execution_count": 404,
     "metadata": {},
     "output_type": "execute_result"
    }
   ],
   "source": [
    "offsetExc / nInh"
   ]
  },
  {
   "cell_type": "code",
   "execution_count": 411,
   "metadata": {
    "scrolled": true
   },
   "outputs": [
    {
     "data": {
      "text/plain": [
       "1.742546333601934"
      ]
     },
     "execution_count": 411,
     "metadata": {},
     "output_type": "execute_result"
    }
   ],
   "source": [
    "(offsetExc / nExc) / p['threshExc']"
   ]
  },
  {
   "cell_type": "code",
   "execution_count": 407,
   "metadata": {
    "scrolled": true
   },
   "outputs": [
    {
     "data": {
      "text/plain": [
       "6.970185334407736"
      ]
     },
     "execution_count": 407,
     "metadata": {},
     "output_type": "execute_result"
    }
   ],
   "source": [
    "(offsetExc / nInh) / p['threshExc']"
   ]
  },
  {
   "cell_type": "code",
   "execution_count": 400,
   "metadata": {},
   "outputs": [
    {
     "data": {
      "text/latex": [
       "$124.1\\,\\mathrm{p}\\,\\mathrm{A}$"
      ],
      "text/plain": [
       "124.1 * pamp"
      ]
     },
     "execution_count": 400,
     "metadata": {},
     "output_type": "execute_result"
    }
   ],
   "source": [
    "p['threshExc']"
   ]
  },
  {
   "cell_type": "code",
   "execution_count": 412,
   "metadata": {},
   "outputs": [
    {
     "data": {
      "text/plain": [
       "0.9511472982975575"
      ]
     },
     "execution_count": 412,
     "metadata": {},
     "output_type": "execute_result"
    }
   ],
   "source": [
    "(offsetInh / nExc) / p['threshInh']"
   ]
  },
  {
   "cell_type": "code",
   "execution_count": 421,
   "metadata": {},
   "outputs": [
    {
     "data": {
      "text/latex": [
       "$13.51\\,\\mathrm{n}\\,\\mathrm{A}$"
      ],
      "text/plain": [
       "13.51 * namp"
      ]
     },
     "execution_count": 421,
     "metadata": {},
     "output_type": "execute_result"
    }
   ],
   "source": [
    "p['threshInh'] * nInh"
   ]
  },
  {
   "cell_type": "code",
   "execution_count": 422,
   "metadata": {},
   "outputs": [
    {
     "data": {
      "text/plain": [
       "1.7425463336019342"
      ]
     },
     "execution_count": 422,
     "metadata": {},
     "output_type": "execute_result"
    }
   ],
   "source": [
    "offsetExc / (p['threshExc'] * nExc)"
   ]
  },
  {
   "cell_type": "code",
   "execution_count": 423,
   "metadata": {},
   "outputs": [
    {
     "data": {
      "text/plain": [
       "3.8045891931902296"
      ]
     },
     "execution_count": 423,
     "metadata": {},
     "output_type": "execute_result"
    }
   ],
   "source": [
    "offsetInh / (p['threshInh'] * nInh)"
   ]
  },
  {
   "cell_type": "code",
   "execution_count": null,
   "metadata": {},
   "outputs": [],
   "source": []
  },
  {
   "cell_type": "code",
   "execution_count": 409,
   "metadata": {},
   "outputs": [
    {
     "data": {
      "text/plain": [
       "3.80458919319023"
      ]
     },
     "execution_count": 409,
     "metadata": {},
     "output_type": "execute_result"
    }
   ],
   "source": [
    "(offsetInh / nInh) / p['threshInh']"
   ]
  },
  {
   "cell_type": "code",
   "execution_count": 403,
   "metadata": {},
   "outputs": [
    {
     "data": {
      "text/latex": [
       "$135.1\\,\\mathrm{p}\\,\\mathrm{A}$"
      ],
      "text/plain": [
       "135.1 * pamp"
      ]
     },
     "execution_count": 403,
     "metadata": {},
     "output_type": "execute_result"
    }
   ],
   "source": [
    "p['threshInh']"
   ]
  },
  {
   "cell_type": "code",
   "execution_count": 43,
   "metadata": {},
   "outputs": [
    {
     "name": "stdout",
     "output_type": "stream",
     "text": [
      "132.25 pA 135.1 pA\n"
     ]
    }
   ],
   "source": [
    "netSustainingCurrentExc = RE.p['iExtRange'][np.where(RE.spikeMonExcC == p['setUpFRExc'] * second)[0]].mean()\n",
    "netSustainingCurrentInh = RE.p['iExtRange'][np.argmin(np.abs(RE.spikeMonInhC - p['setUpFRInh'] * second))]\n",
    "\n",
    "print(netSustainingCurrentExc, netSustainingCurrentInh)"
   ]
  },
  {
   "cell_type": "code",
   "execution_count": 37,
   "metadata": {
    "scrolled": true
   },
   "outputs": [
    {
     "data": {
      "text/latex": [
       "$132.24999999999997\\,\\mathrm{p}\\,\\mathrm{A}$"
      ],
      "text/plain": [
       "132.25 * pamp"
      ]
     },
     "execution_count": 37,
     "metadata": {},
     "output_type": "execute_result"
    }
   ],
   "source": [
    "netSustainingCurrentExc"
   ]
  },
  {
   "cell_type": "code",
   "execution_count": 38,
   "metadata": {},
   "outputs": [
    {
     "data": {
      "text/latex": [
       "$286.99018236277107\\,\\mathrm{n}\\,\\mathrm{A}$"
      ],
      "text/plain": [
       "286.99018236 * namp"
      ]
     },
     "execution_count": 38,
     "metadata": {},
     "output_type": "execute_result"
    }
   ],
   "source": [
    "sumExcInputToExc"
   ]
  },
  {
   "cell_type": "code",
   "execution_count": null,
   "metadata": {},
   "outputs": [],
   "source": []
  },
  {
   "cell_type": "code",
   "execution_count": 128,
   "metadata": {},
   "outputs": [],
   "source": [
    "# balance calculation based on sustaining current idea (new)\n",
    "sumInhInputToExc2 = sumExcInputToExc - netSustainingCurrentExc\n",
    "sumInhInputToInh2 = sumExcInputToInh - netSustainingCurrentInh"
   ]
  },
  {
   "cell_type": "code",
   "execution_count": 129,
   "metadata": {},
   "outputs": [],
   "source": [
    "indivWeightEI2 = sumInhInputToExc2 / nInh / (p['setUpFRInh'] * second)\n",
    "indivWeightII2 = sumInhInputToInh2 / nInh / (p['setUpFRInh'] * second)"
   ]
  },
  {
   "cell_type": "code",
   "execution_count": 130,
   "metadata": {},
   "outputs": [
    {
     "name": "stdout",
     "output_type": "stream",
     "text": [
      "199.90553571 pA 178.47492857 pA\n"
     ]
    }
   ],
   "source": [
    "print(indivWeightEI2, indivWeightII2)"
   ]
  },
  {
   "cell_type": "code",
   "execution_count": 131,
   "metadata": {
    "scrolled": false
   },
   "outputs": [
    {
     "name": "stdout",
     "output_type": "stream",
     "text": [
      "280. nA 99.99010527 nA 250. nA 89.27540164 nA\n"
     ]
    }
   ],
   "source": [
    "print(sumExcInputToExc, sumInhInputToExc1, sumExcInputToInh, sumInhInputToInh1,)"
   ]
  },
  {
   "cell_type": "code",
   "execution_count": 132,
   "metadata": {
    "scrolled": false
   },
   "outputs": [
    {
     "name": "stdout",
     "output_type": "stream",
     "text": [
      "280. nA 279.86775 nA 250. nA 249.8649 nA\n"
     ]
    }
   ],
   "source": [
    "print(sumExcInputToExc, sumInhInputToExc2, sumExcInputToInh, sumInhInputToInh2,)"
   ]
  },
  {
   "cell_type": "code",
   "execution_count": 113,
   "metadata": {},
   "outputs": [],
   "source": [
    "roughInhInputToExc = (nInh * usejEI * p['setUpFRInh'] * second)\n",
    "roughInhInputToInh = (nInh * usejII * p['setUpFRInh'] * second)"
   ]
  },
  {
   "cell_type": "code",
   "execution_count": 114,
   "metadata": {
    "scrolled": false
   },
   "outputs": [
    {
     "data": {
      "text/plain": [
       "0.5101532703245233"
      ]
     },
     "execution_count": 114,
     "metadata": {},
     "output_type": "execute_result"
    }
   ],
   "source": [
    "sumInhInputToExc / roughInhInputToExc"
   ]
  },
  {
   "cell_type": "code",
   "execution_count": 115,
   "metadata": {
    "scrolled": true
   },
   "outputs": [
    {
     "data": {
      "text/plain": [
       "0.6376809810671256"
      ]
     },
     "execution_count": 115,
     "metadata": {},
     "output_type": "execute_result"
    }
   ],
   "source": [
    "sumInhInputToInh / roughInhInputToInh"
   ]
  },
  {
   "cell_type": "code",
   "execution_count": null,
   "metadata": {},
   "outputs": [],
   "source": []
  },
  {
   "cell_type": "code",
   "execution_count": null,
   "metadata": {},
   "outputs": [],
   "source": []
  }
 ],
 "metadata": {
  "kernelspec": {
   "display_name": "Python 3",
   "language": "python",
   "name": "python3"
  },
  "language_info": {
   "codemirror_mode": {
    "name": "ipython",
    "version": 3
   },
   "file_extension": ".py",
   "mimetype": "text/x-python",
   "name": "python",
   "nbconvert_exporter": "python",
   "pygments_lexer": "ipython3",
   "version": "3.7.6"
  }
 },
 "nbformat": 4,
 "nbformat_minor": 4
}

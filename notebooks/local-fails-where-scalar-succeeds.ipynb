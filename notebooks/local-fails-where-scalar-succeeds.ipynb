{
 "cells": [
  {
   "cell_type": "code",
   "execution_count": 1,
   "id": "e2093a51",
   "metadata": {
    "scrolled": true
   },
   "outputs": [
    {
     "name": "stdout",
     "output_type": "stream",
     "text": [
      "Using matplotlib backend: Qt5Agg\n"
     ]
    },
    {
     "name": "stderr",
     "output_type": "stream",
     "text": [
      "INFO       Cache size for target \"cython\": 8765 MB.\n",
      "You can call \"clear_cache('cython')\" to delete all files from the cache or manually delete files in the \"C:\\Users\\mikejseay\\.cython\\brian_extensions\" directory. [brian2]\n"
     ]
    }
   ],
   "source": [
    "# to add the spiking model codebase to the path\n",
    "import sys\n",
    "sys.path.append('..')\n",
    "\n",
    "%matplotlib\n",
    "import matplotlib.pyplot as plt\n",
    "import matplotlib.colors as colors\n",
    "from matplotlib.animation import FuncAnimation\n",
    "# plt.style.use('seaborn-pastel')\n",
    "\n",
    "from brian2 import pA, Hz, second, ms\n",
    "import numpy as np\n",
    "\n",
    "from results import Results\n",
    "from plot import (MidpointNormalize, weight_matrix, remove_axes_less, prune_figure, prune_figure_less, prune_figure_more,\n",
    "                  plot_spike_raster, plot_firing_rate, plot_voltage_detail)\n",
    "\n",
    "from generate import weight_matrix_from_flat_inds_weights, adjacency_matrix_from_flat_inds, adjacency_indices_within\n",
    "import pandas as pd\n",
    "from sklearn.neighbors import KernelDensity\n",
    "def cv(a):\n",
    "    return a.std() / a.mean()\n",
    "\n",
    "import os\n",
    "\n",
    "from stats import moving_average\n",
    "\n",
    "from tqdm import tqdm"
   ]
  },
  {
   "cell_type": "code",
   "execution_count": 13,
   "id": "07b74bd8",
   "metadata": {},
   "outputs": [],
   "source": [
    "# what i want to understand is how the matrix of proposed dW for one matrix, say EI, differs for the two rules\n",
    "# perhaps to be most simple we should take a single converged final matrix and calculate a single set of proposed weight changes\n",
    "\n",
    "# let's use seed 2\n",
    "\n",
    "# in the end game it seems like regardless of whether the presynaptic multiplier is included, the proposed changes to wEE and wEI\n",
    "# are ridiculous.. they keep diverging because the inhibitory FR stays above the set point"
   ]
  },
  {
   "cell_type": "code",
   "execution_count": 35,
   "id": "a08a4173",
   "metadata": {},
   "outputs": [],
   "source": [
    "targetPath = 'C:/Users/mikejseay/Documents/BrianResults/cross-homeo-pre-outer-homeo-explodeDealTest'\n",
    "targetFile = 'classicJercog_2000_0p25_cross-homeo-pre-outer-homeo_resumePrior_seed2explodeDealTestLowAlpha_2022-02-03-08-02-51_results'\n",
    "\n",
    "# targetPath = 'C:/Users/mikejseay/Documents/BrianResults/cross-homeo-pre-scalar-homeo-explodeDealTest'\n",
    "# targetFile = 'classicJercog_2000_0p25_cross-homeo-pre-scalar-homeo_seed2_explodeDealTestLowAlpha_2022-02-10-07-30-29_results'"
   ]
  },
  {
   "cell_type": "code",
   "execution_count": null,
   "id": "df55310c",
   "metadata": {},
   "outputs": [],
   "source": [
    "R = Results()\n",
    "R.init_from_file(targetFile, targetPath)\n",
    "p = R.p"
   ]
  },
  {
   "cell_type": "code",
   "execution_count": 61,
   "id": "3b28aa3b",
   "metadata": {},
   "outputs": [],
   "source": [
    "setUpFRExc = p['setUpFRExc'] / Hz\n",
    "setUpFRInh = p['setUpFRInh'] / Hz"
   ]
  },
  {
   "cell_type": "code",
   "execution_count": 48,
   "id": "4ccea182",
   "metadata": {},
   "outputs": [],
   "source": [
    "movAvgUpFRExcUnits = R.trialUpFRExcUnits[-1, :]\n",
    "movAvgUpFRInhUnits = R.trialUpFRInhUnits[-1, :]"
   ]
  },
  {
   "cell_type": "code",
   "execution_count": 63,
   "id": "a21c9eb5",
   "metadata": {},
   "outputs": [
    {
     "data": {
      "text/plain": [
       "14.196691176470587"
      ]
     },
     "execution_count": 63,
     "metadata": {},
     "output_type": "execute_result"
    }
   ],
   "source": [
    "movAvgUpFRInhUnits.mean()"
   ]
  },
  {
   "cell_type": "code",
   "execution_count": 60,
   "id": "be9db37c",
   "metadata": {},
   "outputs": [],
   "source": [
    "dwEIS = setUpFRInh - movAvgUpFRInhUnits.mean()  # scalar"
   ]
  },
  {
   "cell_type": "code",
   "execution_count": 67,
   "id": "cfbe1619",
   "metadata": {},
   "outputs": [
    {
     "data": {
      "text/plain": [
       "-0.19669117647058698"
      ]
     },
     "execution_count": 67,
     "metadata": {},
     "output_type": "execute_result"
    }
   ],
   "source": [
    "dwEIS"
   ]
  },
  {
   "cell_type": "code",
   "execution_count": 58,
   "id": "cec3b2e4",
   "metadata": {},
   "outputs": [],
   "source": [
    "aEE = adjacency_matrix_from_flat_inds(p['nExc'], p['nExc'], R.preEE, R.posEE)\n",
    "aEI = adjacency_matrix_from_flat_inds(p['nInh'], p['nExc'], R.preEI, R.posEI)\n",
    "aIE = adjacency_matrix_from_flat_inds(p['nExc'], p['nInh'], R.preIE, R.posIE)\n",
    "aII = adjacency_matrix_from_flat_inds(p['nInh'], p['nInh'], R.preII, R.posII)\n",
    "\n",
    "nIncomingExcOntoEachExc = aEE.sum(0)\n",
    "nIncomingInhOntoEachExc = aEI.sum(0)\n",
    "nIncomingExcOntoEachInh = aIE.sum(0)\n",
    "nIncomingInhOntoEachInh = aII.sum(0)"
   ]
  },
  {
   "cell_type": "code",
   "execution_count": 59,
   "id": "9059670f",
   "metadata": {},
   "outputs": [],
   "source": [
    "movAvgUpFRInhUnitsPreToPostExc = np.matmul(movAvgUpFRInhUnits, aEI) / nIncomingInhOntoEachExc\n",
    "movAvgUpFRExcUnitsPreToPostInh = np.matmul(movAvgUpFRExcUnits, aIE) / nIncomingExcOntoEachInh"
   ]
  },
  {
   "cell_type": "code",
   "execution_count": 62,
   "id": "56935c04",
   "metadata": {
    "scrolled": true
   },
   "outputs": [
    {
     "data": {
      "text/plain": [
       "14.188997053862186"
      ]
     },
     "execution_count": 62,
     "metadata": {},
     "output_type": "execute_result"
    }
   ],
   "source": [
    "movAvgUpFRInhUnitsPreToPostExc.mean()"
   ]
  },
  {
   "cell_type": "code",
   "execution_count": 64,
   "id": "54084943",
   "metadata": {},
   "outputs": [],
   "source": [
    "dwEIO = setUpFRInh - movAvgUpFRInhUnitsPreToPostExc"
   ]
  },
  {
   "cell_type": "code",
   "execution_count": 66,
   "id": "832ba952",
   "metadata": {
    "scrolled": true
   },
   "outputs": [
    {
     "data": {
      "text/plain": [
       "-0.18899705386218613"
      ]
     },
     "execution_count": 66,
     "metadata": {},
     "output_type": "execute_result"
    }
   ],
   "source": [
    "dwEIO.mean()"
   ]
  },
  {
   "cell_type": "code",
   "execution_count": null,
   "id": "d73d60ce",
   "metadata": {},
   "outputs": [],
   "source": []
  },
  {
   "cell_type": "code",
   "execution_count": null,
   "id": "79cef3bf",
   "metadata": {},
   "outputs": [],
   "source": []
  },
  {
   "cell_type": "code",
   "execution_count": null,
   "id": "2285db6a",
   "metadata": {},
   "outputs": [],
   "source": [
    "# compare seed 2...\n",
    "# around trial 550 outer has started to completely fail, while scalar is going just great\n"
   ]
  },
  {
   "cell_type": "code",
   "execution_count": 68,
   "id": "7a6198ed",
   "metadata": {},
   "outputs": [],
   "source": [
    "targetPath1 = 'C:/Users/mikejseay/Documents/BrianResults/cross-homeo-pre-outer-explodeDealTest/'\n",
    "targetPath2 = 'C:/Users/mikejseay/Documents/BrianResults/cross-homeo-pre-scalar-explodeDealTest/'"
   ]
  },
  {
   "cell_type": "code",
   "execution_count": 69,
   "id": "b323c2ae",
   "metadata": {},
   "outputs": [],
   "source": [
    "targetFile1 = 'classicJercog_2000_0p25_cross-homeo-pre-outer_seed2_explodeDealTest_2022-02-10-07-29-19_results'\n",
    "targetFile2 = 'classicJercog_2000_0p25_cross-homeo-pre-scalar_seed2_explodeDealTestLowAlpha_2022-02-09-07-28-45_results'"
   ]
  },
  {
   "cell_type": "code",
   "execution_count": 70,
   "id": "c6e1a0e6",
   "metadata": {},
   "outputs": [],
   "source": [
    "R1 = Results()\n",
    "R1.init_from_file(targetFile1, targetPath1)\n",
    "\n",
    "R2 = Results()\n",
    "R2.init_from_file(targetFile2, targetPath2)"
   ]
  },
  {
   "cell_type": "code",
   "execution_count": 7,
   "id": "eff3bcde",
   "metadata": {},
   "outputs": [],
   "source": [
    "nTrials = R1.p['nTrials']\n",
    "nRules = 2"
   ]
  },
  {
   "cell_type": "code",
   "execution_count": 75,
   "id": "0ac5f9df",
   "metadata": {},
   "outputs": [
    {
     "data": {
      "text/plain": [
       "(2000, 2000)"
      ]
     },
     "execution_count": 75,
     "metadata": {},
     "output_type": "execute_result"
    }
   ],
   "source": [
    "frCorrEI.shape"
   ]
  },
  {
   "cell_type": "code",
   "execution_count": 76,
   "id": "7ee4d4ff",
   "metadata": {
    "scrolled": true
   },
   "outputs": [
    {
     "data": {
      "text/plain": [
       "(1600, 550)"
      ]
     },
     "execution_count": 76,
     "metadata": {},
     "output_type": "execute_result"
    }
   ],
   "source": [
    "R1.trialUpFRExcUnits[startTrialInd:endTrialInd].T.shape"
   ]
  },
  {
   "cell_type": "code",
   "execution_count": 77,
   "id": "c2fbfc60",
   "metadata": {},
   "outputs": [
    {
     "data": {
      "text/plain": [
       "(400, 550)"
      ]
     },
     "execution_count": 77,
     "metadata": {},
     "output_type": "execute_result"
    }
   ],
   "source": [
    "R1.trialUpFRInhUnits[startTrialInd:endTrialInd].T.shape"
   ]
  },
  {
   "cell_type": "code",
   "execution_count": 83,
   "id": "8fade4d2",
   "metadata": {},
   "outputs": [
    {
     "data": {
      "text/plain": [
       "(6000, 1600)"
      ]
     },
     "execution_count": 83,
     "metadata": {},
     "output_type": "execute_result"
    }
   ],
   "source": [
    "R1.trialdwEEUnits"
   ]
  },
  {
   "cell_type": "code",
   "execution_count": 84,
   "id": "09df39f5",
   "metadata": {},
   "outputs": [],
   "source": [
    "# let's just try to compare the individual unit FRs over the course of training"
   ]
  },
  {
   "cell_type": "code",
   "execution_count": null,
   "id": "64ec4d64",
   "metadata": {},
   "outputs": [],
   "source": [
    "from analysis import weight_matrix"
   ]
  },
  {
   "cell_type": "code",
   "execution_count": 94,
   "id": "7d1efeb9",
   "metadata": {},
   "outputs": [],
   "source": [
    "# plotting the FR for each unit for each trial as an implot\n",
    "\n",
    "# startTrialInd = 800\n",
    "# endTrialInd = 1400\n",
    "\n",
    "startTrialInd = 0\n",
    "endTrialInd = -1\n",
    "\n",
    "# maxFRExc = 150\n",
    "# maxFRInh = 150\n",
    "\n",
    "useCmap = plt.cm.Reds\n",
    "f, ax = plt.subplots(2, 2, sharex=True, sharey=False)\n",
    "\n",
    "useDataExc1 = R1.trialUpFRExcUnits[startTrialInd:endTrialInd, :].T\n",
    "useDataInh1 = R1.trialUpFRInhUnits[startTrialInd:endTrialInd, :].T\n",
    "useDataExc2 = R2.trialUpFRExcUnits[startTrialInd:endTrialInd, :].T\n",
    "useDataInh2 = R2.trialUpFRInhUnits[startTrialInd:endTrialInd, :].T\n",
    "\n",
    "# useDataExc[useDataExc > maxFRExc] = np.nan\n",
    "# useDataInh[useDataInh > maxFRInh] = np.nan\n",
    "\n",
    "i00 = ax[0, 0].imshow(useDataExc1, cmap=plt.cm.Greens, aspect='auto', interpolation='none')\n",
    "i10 = ax[1, 0].imshow(useDataInh1, cmap=plt.cm.Reds, aspect='auto', interpolation='none')\n",
    "\n",
    "i01 = ax[0, 1].imshow(useDataExc2, cmap=plt.cm.Greens, aspect='auto', interpolation='none')\n",
    "i11 = ax[1, 1].imshow(useDataInh2, cmap=plt.cm.Reds, aspect='auto', interpolation='none')\n",
    "\n",
    "cb00 = plt.colorbar(i0, ax=ax[0, 0])\n",
    "cb10 = plt.colorbar(i1, ax=ax[1, 0])\n",
    "\n",
    "cb01 = plt.colorbar(i0, ax=ax[0, 1])\n",
    "cb11 = plt.colorbar(i1, ax=ax[1, 1])"
   ]
  },
  {
   "cell_type": "code",
   "execution_count": 87,
   "id": "d4b0d346",
   "metadata": {},
   "outputs": [],
   "source": [
    "# looks like there is a bit of \"whack-a-mole\" going on with the individual unit rates...\n",
    "# some units have a high rate for part of the training, then fade and then other take their place\n",
    "# whereas with the scalar version they tend to either stay high or low\n",
    "# let's visualize the variance in FR across units as a moving average"
   ]
  },
  {
   "cell_type": "code",
   "execution_count": 88,
   "id": "12863aec",
   "metadata": {},
   "outputs": [
    {
     "data": {
      "text/plain": [
       "(6000, 1600)"
      ]
     },
     "execution_count": 88,
     "metadata": {},
     "output_type": "execute_result"
    }
   ],
   "source": [
    "R1.trialUpFRExcUnits.shape"
   ]
  },
  {
   "cell_type": "code",
   "execution_count": 95,
   "id": "b20b59d8",
   "metadata": {},
   "outputs": [
    {
     "data": {
      "text/plain": [
       "<matplotlib.legend.Legend at 0x21d3141ca48>"
      ]
     },
     "execution_count": 95,
     "metadata": {},
     "output_type": "execute_result"
    }
   ],
   "source": [
    "f, ax = plt.subplots()\n",
    "\n",
    "ax.plot(R1.trialUpFRExcUnits.std(1), label='E-outer')\n",
    "ax.plot(R1.trialUpFRInhUnits.std(1), label='I-outer')\n",
    "ax.plot(R2.trialUpFRExcUnits.std(1), label='E-scalar')\n",
    "ax.plot(R2.trialUpFRInhUnits.std(1), label='I-scalar')\n",
    "\n",
    "ax.legend()"
   ]
  },
  {
   "cell_type": "code",
   "execution_count": null,
   "id": "e6f244d9",
   "metadata": {},
   "outputs": [],
   "source": [
    "# indeed, over the course of training, the outer rule appears to be boosting the variance of the FRs across units\n",
    "# whereas with the scalar they reach asymptotic values\n",
    "# so a key thing to look at will be how the computed dW values alter the E/I balance to individual units on a given trial\n",
    "# if the E/I balance shifts in different directions across units, their FR should change and spread apart, increasing variance\n",
    "# and this will only become more of a problem over time,"
   ]
  },
  {
   "cell_type": "code",
   "execution_count": 96,
   "id": "2ae777dd",
   "metadata": {},
   "outputs": [],
   "source": [
    "plt.close('all')"
   ]
  },
  {
   "cell_type": "code",
   "execution_count": 82,
   "id": "9a57b14c",
   "metadata": {
    "collapsed": true
   },
   "outputs": [
    {
     "name": "stdout",
     "output_type": "stream",
     "text": [
      "R1: outer\n",
      "0.28133488068379847\n",
      "* 0.28420836516923526\n",
      "0.2803752746136089\n",
      "0.23023272052572077\n",
      "* 0.25075490265988026\n",
      "* 0.26948269775518724\n",
      "0.22709786282769243\n",
      "0.08303565008657615\n",
      "* 0.07550921675137845\n",
      "0.08554345525961114\n",
      "R2: scalar\n",
      "0.14315690579864632\n",
      "* 0.15242798757242146\n",
      "0.14006080891960343\n",
      "0.07036389038471792\n",
      "* 0.1292407598295128\n",
      "* 0.13649879856056057\n",
      "0.06486852839082326\n",
      "0.04001453424250512\n",
      "* 4.269631976194476e-05\n",
      "0.053333137816602774\n"
     ]
    }
   ],
   "source": [
    "# just for reference, let's check the correlations\n",
    "\n",
    "startTrialInd = 0\n",
    "endTrialInd = -1\n",
    "\n",
    "frCorrEE = np.corrcoef(R1.trialUpFRExcUnits[startTrialInd:endTrialInd].T)\n",
    "frCorrEI = np.corrcoef(R1.trialUpFRExcUnits[startTrialInd:endTrialInd].T, R1.trialUpFRInhUnits[startTrialInd:endTrialInd].T)\n",
    "frCorrII = np.corrcoef(R1.trialUpFRInhUnits[startTrialInd:endTrialInd].T)\n",
    "\n",
    "frCorrEE[np.triu_indices(frCorrEE.shape[0])] = np.nan\n",
    "frCorrEI[np.triu_indices(frCorrEI.shape[0])] = np.nan\n",
    "frCorrII[np.triu_indices(frCorrII.shape[0])] = np.nan\n",
    "\n",
    "frCorrEEAnti = frCorrEE.copy()\n",
    "frCorrEIAnti = frCorrEI.copy()\n",
    "frCorrIIAnti = frCorrII.copy()\n",
    "\n",
    "frCorrEEAnti[R1.preEE, R1.posEE] = np.nan\n",
    "frCorrEIAnti[R1.preEI, R1.posEI] = np.nan\n",
    "frCorrEIAnti[R1.preIE, R1.posIE] = np.nan\n",
    "frCorrIIAnti[R1.preII, R1.posII] = np.nan\n",
    "\n",
    "print('R1: outer')\n",
    "print(np.nanmean(frCorrEE))  # average inter-unit correlation across trials (E to E)\n",
    "print('*', np.nanmean(frCorrEE[R1.preEE, R1.posEE])) # for only connect units\n",
    "print(np.nanmean(frCorrEEAnti))  # for only unconnected units\n",
    "\n",
    "print(np.nanmean(frCorrEI)) # average inter-unit correlation across trials (E to I)\n",
    "print('*', np.nanmean(frCorrEI[R1.preEI, R1.posEI])) # correlation between E and I units for which I --> E\n",
    "print('*', np.nanmean(frCorrEI[R1.preIE, R1.posIE])) # correlation between E and I units for which E --> I\n",
    "print(np.nanmean(frCorrEIAnti))  # for only unconnected units\n",
    "\n",
    "print(np.nanmean(frCorrII))  # average inter-unit correlation across trials (I to I)\n",
    "print('*', np.nanmean(frCorrII[R1.preII, R1.posII])) # for only connect units\n",
    "print(np.nanmean(frCorrIIAnti))  # for only unconnected units\n",
    "\n",
    "frCorrEE = np.corrcoef(R2.trialUpFRExcUnits[startTrialInd:endTrialInd].T)\n",
    "frCorrEI = np.corrcoef(R2.trialUpFRExcUnits[startTrialInd:endTrialInd].T, R2.trialUpFRInhUnits[startTrialInd:endTrialInd].T)\n",
    "frCorrII = np.corrcoef(R2.trialUpFRInhUnits[startTrialInd:endTrialInd].T)\n",
    "\n",
    "frCorrEE[np.triu_indices(frCorrEE.shape[0])] = np.nan\n",
    "frCorrEI[np.triu_indices(frCorrEI.shape[0])] = np.nan\n",
    "frCorrII[np.triu_indices(frCorrII.shape[0])] = np.nan\n",
    "\n",
    "frCorrEEAnti = frCorrEE.copy()\n",
    "frCorrEIAnti = frCorrEI.copy()\n",
    "frCorrIIAnti = frCorrII.copy()\n",
    "\n",
    "frCorrEEAnti[R2.preEE, R2.posEE] = np.nan\n",
    "frCorrEIAnti[R2.preEI, R2.posEI] = np.nan\n",
    "frCorrEIAnti[R2.preIE, R2.posIE] = np.nan\n",
    "frCorrIIAnti[R2.preII, R2.posII] = np.nan\n",
    "\n",
    "print('R2: scalar')\n",
    "print(np.nanmean(frCorrEE))\n",
    "print('*', np.nanmean(frCorrEE[R2.preEE, R2.posEE]))\n",
    "print(np.nanmean(frCorrEEAnti))\n",
    "\n",
    "print(np.nanmean(frCorrEI))\n",
    "print('*', np.nanmean(frCorrEI[R2.preEI, R2.posEI]))\n",
    "print('*', np.nanmean(frCorrEI[R2.preIE, R2.posIE]))\n",
    "print(np.nanmean(frCorrEIAnti))\n",
    "\n",
    "print(np.nanmean(frCorrII))\n",
    "print('*', np.nanmean(frCorrII[R2.preII, R2.posII]))\n",
    "print(np.nanmean(frCorrIIAnti))"
   ]
  },
  {
   "cell_type": "code",
   "execution_count": null,
   "id": "e4261215",
   "metadata": {},
   "outputs": [],
   "source": []
  },
  {
   "cell_type": "code",
   "execution_count": null,
   "id": "113b0b3f",
   "metadata": {},
   "outputs": [],
   "source": [
    "trialUpFRExc = np.stack((R1.trialUpFRExc, R2.trialUpFRExc))\n",
    "trialUpFRInh = np.stack((R1.trialUpFRInh, R2.trialUpFRInh))"
   ]
  },
  {
   "cell_type": "code",
   "execution_count": null,
   "id": "d0c2efe7",
   "metadata": {},
   "outputs": [],
   "source": [
    "for ruleInd in range(nRules):\n",
    "    for trialInd in range(nTrials):\n",
    "        \n",
    "    "
   ]
  },
  {
   "cell_type": "code",
   "execution_count": null,
   "id": "1ce6cfe6",
   "metadata": {},
   "outputs": [],
   "source": []
  }
 ],
 "metadata": {
  "kernelspec": {
   "display_name": "Python 3",
   "language": "python",
   "name": "python3"
  },
  "language_info": {
   "codemirror_mode": {
    "name": "ipython",
    "version": 3
   },
   "file_extension": ".py",
   "mimetype": "text/x-python",
   "name": "python",
   "nbconvert_exporter": "python",
   "pygments_lexer": "ipython3",
   "version": "3.7.6"
  }
 },
 "nbformat": 4,
 "nbformat_minor": 5
}

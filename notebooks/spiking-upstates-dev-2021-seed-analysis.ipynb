{
 "cells": [
  {
   "cell_type": "code",
   "execution_count": 1,
   "metadata": {
    "scrolled": true
   },
   "outputs": [
    {
     "name": "stdout",
     "output_type": "stream",
     "text": [
      "Using matplotlib backend: Qt5Agg\n"
     ]
    },
    {
     "name": "stderr",
     "output_type": "stream",
     "text": [
      "INFO       Cache size for target \"cython\": 15322 MB.\n",
      "You can call \"clear_cache('cython')\" to delete all files from the cache or manually delete files in the \"C:\\Users\\mikejseay\\.cython\\brian_extensions\" directory. [brian2]\n"
     ]
    }
   ],
   "source": [
    "%matplotlib\n",
    "# to add the spiking model codebase to the path\n",
    "import sys, os\n",
    "sys.path.append('..')\n",
    "from datetime import datetime\n",
    "\n",
    "from results import Results\n",
    "from analysis import (generate_description, FR_weights, determine_first_convergent_trial, determine_drift_rates,\n",
    "                      FR_scatter, FR_hist2d, FR_hist1d_compare, FR_weights_std, weights_scatter_matrix,\n",
    "                      weights_hist1d_compare, weights_matrix_compare, combine_two_sessions, calculate_convergence_index)\n",
    "from seed_files import (crossHomeoPreScalar, crossHomeoPreScalarHomeo, crossHomeoPreScalarHomeoRemean, crossHomeoPreOuterHomeo,\n",
    "                        crossHomeoPreOuter)\n",
    "from generate import adjacency_matrix_from_flat_inds\n",
    "from stats import moving_average\n",
    "\n",
    "import numpy as np\n",
    "import pandas as pd\n",
    "import seaborn as sns\n",
    "import matplotlib.pyplot as plt\n",
    "from matplotlib.backends.backend_pdf import PdfPages\n",
    "from brian2 import pA, second, Hz"
   ]
  },
  {
   "cell_type": "code",
   "execution_count": 117,
   "metadata": {},
   "outputs": [],
   "source": [
    "basePath = 'C:/Users/mikejseay/Documents/BrianResults/'\n",
    "movAvgWidth = 31\n",
    "analysisDicts = (crossHomeoPreScalar, crossHomeoPreScalarHomeo, crossHomeoPreOuter, crossHomeoPreOuterHomeo)\n",
    "# useSeeds = list(range(9))\n",
    "# useSeeds = [0, 1, 3, 4, 5, 6, 7, 8]\n",
    "useSeeds = [0, 1, 2, 3, 4, 5, 6, 7, 8]\n",
    "allSeries = []\n",
    "\n",
    "nRules = 4\n",
    "nSeeds = 9\n",
    "nTrials = 13530\n",
    "\n",
    "trialwEEAll = np.empty((nRules, nSeeds, nTrials))\n",
    "trialwIEAll = np.empty((nRules, nSeeds, nTrials))\n",
    "trialwEIAll = np.empty((nRules, nSeeds, nTrials))\n",
    "trialwIIAll = np.empty((nRules, nSeeds, nTrials))\n",
    "MSEExcUnitsHatAll = np.empty((nRules, nSeeds, nTrials))\n",
    "MSEInhUnitsHatAll = np.empty((nRules, nSeeds, nTrials))\n",
    "MSEExcAll = np.empty((nRules, nSeeds, nTrials))\n",
    "MSEInhAll = np.empty((nRules, nSeeds, nTrials))\n",
    "distanceFromSetAll = np.empty((nRules, nSeeds, nTrials))\n",
    "distanceFromSetUnitsAll = np.empty((nRules, nSeeds, nTrials))\n",
    "frSumExcAll = np.empty((nRules, nSeeds, nTrials - movAvgWidth + 1))\n",
    "frSumInhAll = np.empty((nRules, nSeeds, nTrials - movAvgWidth + 1))\n",
    "wSumAll = np.empty((nRules, nSeeds, nTrials - movAvgWidth))\n",
    "firstConvergentIndAll = np.empty((nRules, nSeeds))\n",
    "terminalInd = -2000\n",
    "\n",
    "for analysisInd, analysisDict in enumerate(analysisDicts):\n",
    "    targetPath = basePath + analysisDict['subfolder']\n",
    "    for useSeed in useSeeds:\n",
    "        targetFile1, targetFile2 = analysisDict[useSeed]\n",
    "        R1 = Results()\n",
    "        R1.init_from_file(targetFile1, targetPath)\n",
    "        R2 = Results()\n",
    "        R2.init_from_file(targetFile2, targetPath)\n",
    "        R = combine_two_sessions(R1, R2)\n",
    "        firstConvergentInd = determine_first_convergent_trial(R)\n",
    "        \n",
    "        # preparatory calculations\n",
    "        MSEExc = (R.trialUpFRExc - R.p['setUpFRExc'] / Hz) ** 2\n",
    "        MSEInh = (R.trialUpFRInh - R.p['setUpFRInh'] / Hz) ** 2\n",
    "        distanceFromSet = np.sqrt((R.trialUpFRExc - R.p['setUpFRExc'] / Hz) ** 2 + (R.trialUpFRInh - R.p['setUpFRInh'] / Hz) ** 2)\n",
    "        MSEExcUnits = (R.trialUpFRExcUnits - R.p['setUpFRExc'] / Hz) ** 2\n",
    "        MSEExcUnitsHat = MSEExcUnits.mean(1)\n",
    "        MSEInhUnits = (R.trialUpFRInhUnits - R.p['setUpFRInh'] / Hz) ** 2\n",
    "        MSEInhUnitsHat = MSEInhUnits.mean(1)\n",
    "        MSEUnitsHat = (MSEExcUnitsHat + MSEInhUnitsHat) / 2\n",
    "        distanceFromSetUnits = np.sqrt(MSEExcUnits.sum(1) + MSEInhUnits.sum(1))\n",
    "        trialdwEE = np.ediff1d(R.trialwEE)\n",
    "        trialdwIE = np.ediff1d(R.trialwIE)\n",
    "        trialdwEI = np.ediff1d(R.trialwEI)\n",
    "        trialdwII = np.ediff1d(R.trialwII)\n",
    "        allAbsdW = np.fabs(trialdwEE) + np.fabs(trialdwIE) + np.fabs(trialdwEI) + np.fabs(trialdwII)\n",
    "        wSum = calculate_convergence_index(R)\n",
    "        frSum = moving_average(MSEExcUnits.mean(1), movAvgWidth) + moving_average(MSEInhUnits.mean(1), movAvgWidth)\n",
    "        movAvgWidth=31\n",
    "        frSumExc = moving_average(MSEExcUnits.mean(1), movAvgWidth)\n",
    "        frSumInh = moving_average(MSEInhUnits.mean(1), movAvgWidth)\n",
    "        frSum = frSumExc + frSumInh\n",
    "        \n",
    "        # scalar quantifiers\n",
    "        meanAbsdwEE = np.fabs(trialdwEE).mean()\n",
    "        meanAbsdwIE = np.fabs(trialdwIE).mean()\n",
    "        meanAbsdwEI = np.fabs(trialdwEI).mean()\n",
    "        meanAbsdwII = np.fabs(trialdwII).mean()\n",
    "        meanAbsdwSum = meanAbsdwEE + meanAbsdwIE + meanAbsdwEI + meanAbsdwII\n",
    "        meanSumAbsMAvgDiffdW = wSum.mean()\n",
    "        meanSumAbsMAvgDiffTerminaldW = wSum[terminalInd:].mean()\n",
    "        meanSumAbsMAvgDiffFRMSE = frSum.mean()\n",
    "        meanSumAbsMAvgDiffTerminalFRMSE = frSum[terminalInd:].mean()\n",
    "        meanAbsTerminaldwEE = np.fabs(trialdwEE[terminalInd:]).mean()\n",
    "        meanAbsTerminaldwIE = np.fabs(trialdwIE[terminalInd:]).mean()\n",
    "        meanAbsTerminaldwEI = np.fabs(trialdwEI[terminalInd:]).mean()\n",
    "        meanAbsTerminaldwII = np.fabs(trialdwII[terminalInd:]).mean()\n",
    "        meanAbsTerminaldwSum = meanAbsTerminaldwEE + meanAbsTerminaldwIE + meanAbsTerminaldwEI + meanAbsTerminaldwII\n",
    "        \n",
    "        meanDistanceFromSet = distanceFromSet.mean()\n",
    "        meanTerminalDistanceFromSet = distanceFromSet[terminalInd:].mean()\n",
    "        meanDistanceFromSetUnits = distanceFromSetUnits.mean()\n",
    "        meanTerminalDistanceFromSetUnits = distanceFromSetUnits[terminalInd:].mean()\n",
    "        \n",
    "        minMSEExc = MSEExc.min()\n",
    "        meanMSEExc = MSEExc.mean()\n",
    "        meanTerminalMSEExc = MSEExc[terminalInd:].mean()\n",
    "        minMSEExcUnits = MSEExcUnitsHat.min()\n",
    "        meanMSEExcUnits = MSEExcUnitsHat.mean()\n",
    "        meanTerminalMSEExcUnits = MSEExcUnitsHat[terminalInd:].mean()\n",
    "        minMSEInh = MSEInh.min()\n",
    "        meanMSEInh = MSEInh.mean()\n",
    "        meanTerminalMSEInh = MSEInh[terminalInd:].mean()\n",
    "        minMSEInhUnits = MSEInhUnitsHat.min()\n",
    "        meanMSEInhUnits = MSEInhUnitsHat.mean()\n",
    "        meanTerminalMSEInhUnits = MSEInhUnitsHat[terminalInd:].mean()\n",
    "        meanTerminalMSEUnits = MSEUnitsHat[terminalInd:].mean()\n",
    "        \n",
    "        MSEExcUnitsHatAll[analysisInd, useSeed, :] = MSEExcUnitsHat\n",
    "        MSEInhUnitsHatAll[analysisInd, useSeed, :] = MSEInhUnitsHat\n",
    "        MSEExcAll[analysisInd, useSeed, :] = MSEExc\n",
    "        MSEInhAll[analysisInd, useSeed, :] = MSEInh\n",
    "        distanceFromSetAll[analysisInd, useSeed, :] = distanceFromSet\n",
    "        distanceFromSetUnitsAll[analysisInd, useSeed, :] = distanceFromSetUnits\n",
    "        frSumExcAll[analysisInd, useSeed, :] = frSumExc\n",
    "        frSumInhAll[analysisInd, useSeed, :] = frSumInh\n",
    "        wSumAll[analysisInd, useSeed, :] = wSum\n",
    "        firstConvergentIndAll[analysisInd, useSeed] = firstConvergentInd\n",
    "        trialwEEAll[analysisInd, useSeed, :] = R.trialwEE\n",
    "        trialwIEAll[analysisInd, useSeed, :] = R.trialwIE\n",
    "        trialwEIAll[analysisInd, useSeed, :] = R.trialwEI\n",
    "        trialwIIAll[analysisInd, useSeed, :] = R.trialwII\n",
    "        \n",
    "        # build a pandas series with all of the above info for the given seed\n",
    "        scalarQuantVals = (meanDistanceFromSet, meanTerminalDistanceFromSet, meanDistanceFromSetUnits, meanTerminalDistanceFromSetUnits, meanAbsdwEE, meanAbsdwIE, meanAbsdwEI, meanAbsdwII, meanAbsdwSum, meanSumAbsMAvgDiffdW, meanSumAbsMAvgDiffTerminaldW, meanSumAbsMAvgDiffFRMSE, meanSumAbsMAvgDiffTerminalFRMSE, meanAbsTerminaldwEE, meanAbsTerminaldwIE, meanAbsTerminaldwEI, meanAbsTerminaldwII, meanAbsTerminaldwSum, minMSEExc, meanMSEExc, meanTerminalMSEExc, minMSEExcUnits, meanMSEExcUnits, meanTerminalMSEExcUnits, minMSEInh, meanMSEInh, meanTerminalMSEInh, minMSEInhUnits, meanMSEInhUnits, meanTerminalMSEInhUnits, meanTerminalMSEUnits, firstConvergentInd + 1)\n",
    "        scalarQuantLbls = ('meanDistanceFromSet', 'meanTerminalDistanceFromSet', 'meanDistanceFromSetUnits', 'meanTerminalDistanceFromSetUnits', 'meanAbsdwEE', 'meanAbsdwIE', 'meanAbsdwEI', 'meanAbsdwII', 'meanAbsdwSum', 'meanSumAbsMAvgDiffdW', 'meanSumAbsMAvgDiffTerminaldW', 'meanSumAbsMAvgDiffFRMSE', 'meanSumAbsMAvgDiffTerminalFRMSE', 'meanAbsTerminaldwEE', 'meanAbsTerminaldwIE', 'meanAbsTerminaldwEI', 'meanAbsTerminaldwII', 'meanAbsTerminaldwSum', 'minMSEExc', 'meanMSEExc', 'meanTerminalMSEExc', 'minMSEExcUnits', 'meanMSEExcUnits', 'meanTerminalMSEExcUnits', 'minMSEInh', 'meanMSEInh', 'meanTerminalMSEInh', 'minMSEInhUnits', 'meanMSEInhUnits', 'meanTerminalMSEInhUnits', 'meanTerminalMSEUnits', 'trialsToConverge')\n",
    "        analysisName = (R.p['useRule'], R.p['rngSeed'])\n",
    "#         analysisName = (R.p['rngSeed'], R.p['useRule'])\n",
    "\n",
    "        currentSeries = pd.Series(scalarQuantVals, index=scalarQuantLbls, name=analysisName)\n",
    "        allSeries.append(currentSeries)"
   ]
  },
  {
   "cell_type": "code",
   "execution_count": 118,
   "metadata": {},
   "outputs": [],
   "source": [
    "MSEAll = MSEExcAll + MSEInhAll\n",
    "MSEUnitsHatAll = (MSEExcUnitsHatAll + MSEInhUnitsHatAll) / 2\n",
    "frSumAll = frSumExcAll + frSumInhAll"
   ]
  },
  {
   "cell_type": "code",
   "execution_count": 119,
   "metadata": {},
   "outputs": [],
   "source": [
    "totalEToSingleEAll = trialwEEAll * R.p['nExc'] * R.p['propConnect']\n",
    "totalIToSingleEAll = trialwEIAll * R.p['nInh'] * R.p['propConnect']\n",
    "totalEToSingleIAll = trialwIEAll * R.p['nExc'] * R.p['propConnect']\n",
    "totalIToSingleIAll = trialwIIAll * R.p['nInh'] * R.p['propConnect']\n",
    "\n",
    "netCurrentToSingleEAll = totalEToSingleEAll - totalIToSingleEAll\n",
    "netCurrentToSingleIAll = totalEToSingleIAll - totalIToSingleIAll"
   ]
  },
  {
   "cell_type": "code",
   "execution_count": 120,
   "metadata": {},
   "outputs": [],
   "source": [
    "overallDF = pd.concat(allSeries, axis=1).transpose()\n",
    "\n",
    "ruleRenamer = {\n",
    "    'cross-homeo-pre-scalar': 'CH-global',\n",
    "    'cross-homeo-pre-scalar-homeo': '2T-global',\n",
    "    'cross-homeo-pre-outer': 'CH-local',\n",
    "    'cross-homeo-pre-outer-homeo': '2T-local',\n",
    "}\n",
    "\n",
    "ruleValues = overallDF.index.get_level_values(0).to_list()\n",
    "ruleValuesRenamed = [ruleRenamer[rV] for rV in ruleValues]\n",
    "\n",
    "overallDF['rule'] = ruleValuesRenamed"
   ]
  },
  {
   "cell_type": "code",
   "execution_count": 121,
   "metadata": {},
   "outputs": [],
   "source": [
    "# optionally drop the data from seed = 2 and/or 6\n",
    "\n",
    "overallDF = overallDF.iloc[overallDF.index.get_level_values(1) != 2, :]\n",
    "overallDF = overallDF.iloc[overallDF.index.get_level_values(1) != 6, :]"
   ]
  },
  {
   "cell_type": "code",
   "execution_count": 122,
   "metadata": {},
   "outputs": [],
   "source": [
    "analysisLabels = ('cross-homeo-pre-scalar',\n",
    "'cross-homeo-pre-scalar-homeo',\n",
    "'cross-homeo-pre-outer',\n",
    "'cross-homeo-pre-outer-homeo')"
   ]
  },
  {
   "cell_type": "code",
   "execution_count": 69,
   "metadata": {},
   "outputs": [],
   "source": [
    "# for each measure, do a violinplot showing all 4 learning rules against each other\n",
    "# to do this we need a small dataframe with two columns: the measure, and the label\n",
    "# the dataframe ROWS should have all\n",
    "# so basically this requires making the label (the learning rule) a column"
   ]
  },
  {
   "cell_type": "code",
   "execution_count": 123,
   "metadata": {},
   "outputs": [],
   "source": [
    "measureLst = overallDF.columns.to_list()[:-1]"
   ]
  },
  {
   "cell_type": "code",
   "execution_count": 9,
   "metadata": {
    "collapsed": true
   },
   "outputs": [
    {
     "data": {
      "text/plain": [
       "['meanDistanceFromSet',\n",
       " 'meanTerminalDistanceFromSet',\n",
       " 'meanDistanceFromSetUnits',\n",
       " 'meanTerminalDistanceFromSetUnits',\n",
       " 'meanAbsdwEE',\n",
       " 'meanAbsdwIE',\n",
       " 'meanAbsdwEI',\n",
       " 'meanAbsdwII',\n",
       " 'meanAbsdwSum',\n",
       " 'meanSumAbsMAvgDiffdW',\n",
       " 'meanSumAbsMAvgDiffTerminaldW',\n",
       " 'meanSumAbsMAvgDiffFRMSE',\n",
       " 'meanSumAbsMAvgDiffTerminalFRMSE',\n",
       " 'meanAbsTerminaldwEE',\n",
       " 'meanAbsTerminaldwIE',\n",
       " 'meanAbsTerminaldwEI',\n",
       " 'meanAbsTerminaldwII',\n",
       " 'minMSEExc',\n",
       " 'meanMSEExc',\n",
       " 'meanTerminalMSEExc',\n",
       " 'minMSEExcUnits',\n",
       " 'meanMSEExcUnits',\n",
       " 'meanTerminalMSEExcUnits',\n",
       " 'minMSEInh',\n",
       " 'meanMSEInh',\n",
       " 'meanTerminalMSEInh',\n",
       " 'minMSEInhUnits',\n",
       " 'meanMSEInhUnits',\n",
       " 'meanTerminalMSEInhUnits',\n",
       " 'trialsToConverge']"
      ]
     },
     "execution_count": 9,
     "metadata": {},
     "output_type": "execute_result"
    }
   ],
   "source": [
    "measureLst"
   ]
  },
  {
   "cell_type": "code",
   "execution_count": 124,
   "metadata": {},
   "outputs": [],
   "source": [
    "selectMeasureLst = ('meanSumAbsMAvgDiffTerminalFRMSE', 'meanSumAbsMAvgDiffTerminaldW', 'trialsToConverge',)"
   ]
  },
  {
   "cell_type": "code",
   "execution_count": 125,
   "metadata": {},
   "outputs": [],
   "source": [
    "plt.close('all')"
   ]
  },
  {
   "cell_type": "code",
   "execution_count": null,
   "metadata": {},
   "outputs": [],
   "source": []
  },
  {
   "cell_type": "code",
   "execution_count": 116,
   "metadata": {},
   "outputs": [],
   "source": [
    "# plot dedicated to showing the chosen MSE measure\n",
    "\n",
    "f, ax = plt.subplots(figsize=(5, 6))\n",
    "\n",
    "measureName = 'meanTerminalMSEUnits'\n",
    "\n",
    "sns.barplot(x='rule', y=measureName, data=overallDF, ax=ax)\n",
    "sns.stripplot(x='rule', y=measureName, data=overallDF, color='k', ax=ax)\n",
    "ax.set(title=measureName)\n",
    "axr[measureInd].set(ylabel='MSE')\n",
    "plt.yscale('log')"
   ]
  },
  {
   "cell_type": "code",
   "execution_count": 128,
   "metadata": {},
   "outputs": [],
   "source": [
    "# plot dedicated to showing the mean MSE, for the average FR and the unit FR\n",
    "\n",
    "f, ax = plt.subplots(2, 2, sharex=True, sharey=False, figsize=(10, 10))\n",
    "axr = ax.ravel()\n",
    "\n",
    "# weightMeasures = ('meanMSEExc', 'meanMSEInh', 'meanMSEExcUnits','meanMSEInhUnits',)\n",
    "weightMeasures = ('meanTerminalMSEExc', 'meanTerminalMSEInh', 'meanTerminalMSEExcUnits', 'meanTerminalMSEInhUnits',)\n",
    "\n",
    "for measureInd, measureName in enumerate(weightMeasures):\n",
    "    sns.barplot(x='rule', y=measureName, data=overallDF, ax=axr[measureInd])\n",
    "#     sns.boxplot(x='rule', y=measureName, data=overallDF, width=.6, showfliers=False)\n",
    "    sns.stripplot(x='rule', y=measureName, data=overallDF, color='k', ax=axr[measureInd])\n",
    "#     sns.swarmplot(x='rule', y=measureName, data=overallDF, color='k', ax=axr[measureInd])\n",
    "    axr[measureInd].set(title=measureName)\n",
    "    if measureInd <= 1:\n",
    "        axr[measureInd].set(xlabel='')\n",
    "    if (measureInd % 2) == 1:\n",
    "        axr[measureInd].set(ylabel='')\n",
    "    else:\n",
    "        axr[measureInd].set(ylabel='MSE')"
   ]
  },
  {
   "cell_type": "code",
   "execution_count": 25,
   "metadata": {},
   "outputs": [],
   "source": [
    "from statsmodels import stats"
   ]
  },
  {
   "cell_type": "code",
   "execution_count": 28,
   "metadata": {
    "collapsed": true
   },
   "outputs": [
    {
     "data": {
      "text/plain": [
       "['PytestTester',\n",
       " '__builtins__',\n",
       " '__cached__',\n",
       " '__doc__',\n",
       " '__file__',\n",
       " '__loader__',\n",
       " '__name__',\n",
       " '__package__',\n",
       " '__path__',\n",
       " '__spec__',\n",
       " '_adnorm',\n",
       " '_knockoff',\n",
       " '_lilliefors',\n",
       " '_lilliefors_critical_values',\n",
       " 'anova',\n",
       " 'api',\n",
       " 'base',\n",
       " 'contingency_tables',\n",
       " 'contrast',\n",
       " 'correlation_tools',\n",
       " 'descriptivestats',\n",
       " 'diagnostic',\n",
       " 'gof',\n",
       " 'mediation',\n",
       " 'moment_helpers',\n",
       " 'multicomp',\n",
       " 'multitest',\n",
       " 'oaxaca',\n",
       " 'power',\n",
       " 'proportion',\n",
       " 'sandwich_covariance',\n",
       " 'stattools',\n",
       " 'tabledist',\n",
       " 'test',\n",
       " 'weightstats']"
      ]
     },
     "execution_count": 28,
     "metadata": {},
     "output_type": "execute_result"
    }
   ],
   "source": [
    "dir(stats)"
   ]
  },
  {
   "cell_type": "code",
   "execution_count": 20,
   "metadata": {},
   "outputs": [],
   "source": [
    "import statsmodels"
   ]
  },
  {
   "cell_type": "code",
   "execution_count": 21,
   "metadata": {},
   "outputs": [
    {
     "data": {
      "text/plain": [
       "'0.12.2'"
      ]
     },
     "execution_count": 21,
     "metadata": {},
     "output_type": "execute_result"
    }
   ],
   "source": [
    "statsmodels.__version__"
   ]
  },
  {
   "cell_type": "code",
   "execution_count": 74,
   "metadata": {},
   "outputs": [],
   "source": [
    "# plot dedicated to showing the euclidean distance measures\n",
    "\n",
    "f, ax = plt.subplots(2, 2, sharex=True, sharey=False, figsize=(10, 10))\n",
    "axr = ax.ravel()\n",
    "\n",
    "weightMeasures = ('meanDistanceFromSet', 'meanTerminalDistanceFromSet', 'meanDistanceFromSetUnits', 'meanTerminalDistanceFromSetUnits',)\n",
    "\n",
    "for measureInd, measureName in enumerate(weightMeasures):\n",
    "    sns.barplot(x='rule', y=measureName, data=overallDF, ax=axr[measureInd])\n",
    "#     sns.boxplot(x='rule', y=measureName, data=overallDF, width=.6, showfliers=False)\n",
    "    sns.stripplot(x='rule', y=measureName, data=overallDF, color='k', ax=axr[measureInd])\n",
    "#     sns.swarmplot(x='rule', y=measureName, data=overallDF, color='k', ax=axr[measureInd])\n",
    "    axr[measureInd].set(title=measureName)\n",
    "    if measureInd <= 1:\n",
    "        axr[measureInd].set(xlabel='')\n",
    "    if (measureInd % 2) == 1:\n",
    "        axr[measureInd].set(ylabel='')\n",
    "    else:\n",
    "        axr[measureInd].set(ylabel='Euclidean distance')"
   ]
  },
  {
   "cell_type": "code",
   "execution_count": 126,
   "metadata": {},
   "outputs": [],
   "source": [
    "# plot dedicated to showing the chosen MACW measure\n",
    "\n",
    "f, ax = plt.subplots(figsize=(5, 6))\n",
    "\n",
    "measureName = 'meanAbsTerminaldwSum'\n",
    "\n",
    "sns.barplot(x='rule', y=measureName, data=overallDF, ax=ax)\n",
    "sns.stripplot(x='rule', y=measureName, data=overallDF, color='k', ax=ax)\n",
    "ax.set(title=measureName)\n",
    "axr[measureInd].set(ylabel='MACW')\n",
    "plt.yscale('log')"
   ]
  },
  {
   "cell_type": "code",
   "execution_count": 129,
   "metadata": {},
   "outputs": [
    {
     "data": {
      "text/plain": [
       "[(0.0, 0.3)]"
      ]
     },
     "execution_count": 129,
     "metadata": {},
     "output_type": "execute_result"
    }
   ],
   "source": [
    "# plot dedicated to showing the mean(abs(dW)) for all 4 weight classes\n",
    "f, ax = plt.subplots(2, 2, sharex=True, sharey=True, figsize=(10, 10))\n",
    "axr = ax.ravel()\n",
    "\n",
    "# weightMeasures = ('meanAbsdwEE', 'meanAbsdwIE', 'meanAbsdwEI', 'meanAbsdwII',)\n",
    "weightMeasures = ('meanAbsTerminaldwEE', 'meanAbsTerminaldwIE', 'meanAbsTerminaldwEI', 'meanAbsTerminaldwII',)\n",
    "\n",
    "for measureInd, measureName in enumerate(weightMeasures):\n",
    "    sns.barplot(x='rule', y=measureName, data=overallDF, ax=axr[measureInd])\n",
    "#     sns.boxplot(x='rule', y=measureName, data=overallDF, width=.6, showfliers=False)\n",
    "    sns.stripplot(x='rule', y=measureName, data=overallDF, color='k', ax=axr[measureInd])\n",
    "#     sns.swarmplot(x='rule', y=measureName, data=overallDF, color='k', ax=axr[measureInd])\n",
    "    axr[measureInd].set(title=measureName)\n",
    "    if measureInd <= 1:\n",
    "        axr[measureInd].set(xlabel='')\n",
    "    if (measureInd % 2) == 1:\n",
    "        axr[measureInd].set(ylabel='')\n",
    "    else:\n",
    "        axr[measureInd].set(ylabel='mean(abs(dW))')\n",
    "\n",
    "axr[measureInd].set(ylim=(0, 0.3))"
   ]
  },
  {
   "cell_type": "code",
   "execution_count": 76,
   "metadata": {},
   "outputs": [],
   "source": [
    "# the rest\n",
    "\n",
    "for measureInd, measureName in enumerate(selectMeasureLst):\n",
    "    f, ax = plt.subplots()\n",
    "    sns.barplot(x='rule', y=measureName, data=overallDF)\n",
    "#     sns.boxplot(x='rule', y=measureName, data=overallDF, width=.6, showfliers=False)\n",
    "#     sns.stripplot(x='rule', y=measureName, data=overallDF, color='k')\n",
    "    sns.swarmplot(x='rule', y=measureName, data=overallDF, color='k')"
   ]
  },
  {
   "cell_type": "markdown",
   "metadata": {},
   "source": [
    "# NON BAR GRAPHS"
   ]
  },
  {
   "cell_type": "code",
   "execution_count": 131,
   "metadata": {},
   "outputs": [
    {
     "data": {
      "text/plain": [
       "[Text(0.5, 0, 'Trial #'), Text(0, 0.5, 'MACW')]"
      ]
     },
     "execution_count": 131,
     "metadata": {},
     "output_type": "execute_result"
    }
   ],
   "source": [
    "# plot that shows convergence of all 4 learning rules on one graph for one seed\n",
    "\n",
    "useData = wSumAll  # frSumAll, wSumAll, MSEAll, distanceFromSetAll, distanceFromSetUnitsAll\n",
    "useMovAvg = True\n",
    "useLogYScale = False\n",
    "movAvgWidth = 31\n",
    "useYLabel = 'MACW'\n",
    "\n",
    "f, ax = plt.subplots()\n",
    "\n",
    "useSeed = 8\n",
    "for analysisInd, analysisLabel in enumerate(analysisLabels):\n",
    "    useFirstConvergentInd = int(firstConvergentIndAll[analysisInd, useSeed])\n",
    "    yData = useData[analysisInd, useSeed, :]\n",
    "    if useMovAvg:\n",
    "        yData = moving_average(yData, movAvgWidth)\n",
    "    ax.plot(yData, label=ruleRenamer[analysisLabel], alpha=0.7)\n",
    "if useLogYScale:\n",
    "    plt.yscale('log')\n",
    "ax.legend()\n",
    "ax.set(xlabel='Trial #', ylabel=useYLabel)"
   ]
  },
  {
   "cell_type": "code",
   "execution_count": 130,
   "metadata": {},
   "outputs": [],
   "source": [
    "# plot that shows convergence of all 4 learning rules on one graph for each seed\n",
    "\n",
    "useData = wSumAll  # frSumAll, wSumAll, MSEAll, distanceFromSetAll, distanceFromSetUnitsAll\n",
    "useMovAvg = True\n",
    "useLogYScale = False\n",
    "movAvgWidth = 31\n",
    "useYLabel = 'MACW'\n",
    "# useYLims = (1e1, useData.max())\n",
    "useYLims = (0, 1)\n",
    "\n",
    "f, ax = plt.subplots(3, 3, sharex=True, sharey=True)\n",
    "axr = ax.ravel()\n",
    "\n",
    "for useSeed in useSeeds:\n",
    "    for analysisInd, analysisLabel in enumerate(analysisLabels):\n",
    "        useFirstConvergentInd = int(firstConvergentIndAll[analysisInd, useSeed])\n",
    "        yData = useData[analysisInd, useSeed, :]\n",
    "        if useMovAvg:\n",
    "            yData = moving_average(yData, movAvgWidth)\n",
    "        axr[useSeed].plot(yData, label=ruleRenamer[analysisLabel], alpha=0.5)\n",
    "    if useLogYScale:\n",
    "        plt.yscale('log')\n",
    "    axr[useSeed].set(title=str(useSeed), ylim=useYLims)\n",
    "    if useSeed == 2:\n",
    "        axr[useSeed].legend()\n",
    "    if useSeed % 3 == 0:\n",
    "        axr[useSeed].set(ylabel=useYLabel)\n",
    "    if useSeed >= 6:\n",
    "        axr[useSeed].set(xlabel='Trial #')"
   ]
  },
  {
   "cell_type": "code",
   "execution_count": 80,
   "metadata": {},
   "outputs": [],
   "source": [
    "# plot that shows convergence of all 9 seeds on one graph for only one learning rule\n",
    "\n",
    "useData = frSumAll  # frSumAll, wSumAll, MSEAll\n",
    "\n",
    "f, ax = plt.subplots(2, 2, sharex=True, sharey=True)\n",
    "axr = ax.ravel()\n",
    "\n",
    "useSeedsLocal = (0, 1, 3, 4, 5, 7, 8)\n",
    "\n",
    "for analysisInd, analysisLabel in enumerate(analysisLabels):\n",
    "    for useSeed in useSeedsLocal:\n",
    "        axr[analysisInd].plot(useData[analysisInd, useSeed, :], label=str(useSeed), alpha=.5)\n",
    "    plt.yscale('log')\n",
    "    axr[analysisInd].set(title=ruleRenamer[analysisLabel], ylim=(1e1, useData.max()))\n",
    "    if analysisInd == 2:\n",
    "        axr[analysisInd].legend()"
   ]
  },
  {
   "cell_type": "code",
   "execution_count": 31,
   "metadata": {},
   "outputs": [],
   "source": [
    "# original way, net current\n",
    "\n",
    "totalEToSingleEAll = trialwEEAll * R.p['nExc'] * R.p['propConnect']\n",
    "totalIToSingleEAll = trialwEIAll * R.p['nInh'] * R.p['propConnect']\n",
    "totalEToSingleIAll = trialwIEAll * R.p['nExc'] * R.p['propConnect']\n",
    "totalIToSingleIAll = trialwIIAll * R.p['nInh'] * R.p['propConnect']\n",
    "\n",
    "# make the numbers smaller for crybaby Dean\n",
    "\n",
    "netCurrentToSingleEAll = totalEToSingleEAll - totalIToSingleEAll\n",
    "netCurrentToSingleIAll = totalEToSingleIAll - totalIToSingleIAll\n",
    "\n",
    "# netCurrentToSingleEAll = (totalEToSingleEAll - totalIToSingleEAll) / R.p['nUnits'] * R.p['propConnect']\n",
    "# netCurrentToSingleIAll = (totalEToSingleIAll - totalIToSingleIAll) / R.p['nUnits'] * R.p['propConnect']"
   ]
  },
  {
   "cell_type": "code",
   "execution_count": 25,
   "metadata": {},
   "outputs": [],
   "source": [
    "# different way, weights\n",
    "\n",
    "netCurrentToSingleEAll = trialwEEAll - trialwEIAll\n",
    "netCurrentToSingleIAll = trialwIEAll - trialwIIAll"
   ]
  },
  {
   "cell_type": "code",
   "execution_count": 81,
   "metadata": {},
   "outputs": [
    {
     "data": {
      "text/plain": [
       "[Text(0.5, 0, 'Net weight onto each E unit (on average)'),\n",
       " Text(0, 0.5, 'Net weight onto each I unit (on average)')]"
      ]
     },
     "execution_count": 81,
     "metadata": {},
     "output_type": "execute_result"
    }
   ],
   "source": [
    "# plot that shows INITIAL CONDITIONS of all 9 seeds on one graph for only one learning rule, but in a 2D system defined by\n",
    "# the net current to each E unit (x) vs. the net current to each I unit (y)\n",
    "\n",
    "useSeedsLocal = (0, 1, 3, 4, 5, 7, 8,)\n",
    "# useSeedsLocal = (0, 1, 2, 3, 4, 5, 6, 7, 8)\n",
    "useColors = ('magenta', 'red', 'grey', 'orange', 'green', 'blue', 'purple', 'cyan', 'black')\n",
    "useAnalysisInd = 3\n",
    "\n",
    "f, ax = plt.subplots(figsize=(8, 5))\n",
    "for useSeed in useSeedsLocal:\n",
    "    ax.scatter(netCurrentToSingleEAll[useAnalysisInd, useSeed, 0], netCurrentToSingleIAll[useAnalysisInd, useSeed, 0], 30,\n",
    "               color=useColors[useSeed], marker='^')\n",
    "\n",
    "ax.set(xlabel='Net weight onto each E unit (on average)', ylabel='Net weight onto each I unit (on average)')"
   ]
  },
  {
   "cell_type": "code",
   "execution_count": 35,
   "metadata": {
    "scrolled": true
   },
   "outputs": [
    {
     "data": {
      "text/plain": [
       "(-102468.76635394698, 155546.3496547005)"
      ]
     },
     "execution_count": 35,
     "metadata": {},
     "output_type": "execute_result"
    }
   ],
   "source": [
    "ax.get_ylim()"
   ]
  },
  {
   "cell_type": "code",
   "execution_count": 47,
   "metadata": {},
   "outputs": [],
   "source": [
    "from stats import regress_linear"
   ]
  },
  {
   "cell_type": "code",
   "execution_count": 99,
   "metadata": {},
   "outputs": [],
   "source": [
    "plt.close('all')"
   ]
  },
  {
   "cell_type": "code",
   "execution_count": 63,
   "metadata": {},
   "outputs": [],
   "source": [
    "usewEEAll = trialwEEAll * R.p['nExc'] * R.p['propConnect']\n",
    "usewEIAll = trialwEIAll * R.p['nInh'] * R.p['propConnect']\n",
    "usewIEAll = trialwIEAll * R.p['nExc'] * R.p['propConnect']\n",
    "usewIIAll = trialwIIAll * R.p['nInh'] * R.p['propConnect']"
   ]
  },
  {
   "cell_type": "code",
   "execution_count": 82,
   "metadata": {},
   "outputs": [
    {
     "data": {
      "text/plain": [
       "<matplotlib.legend.Legend at 0x22cbdf6c448>"
      ]
     },
     "execution_count": 82,
     "metadata": {},
     "output_type": "execute_result"
    }
   ],
   "source": [
    "# plot that shows convergence of all 9 seeds on one graph for only one learning rule, but in a 2D system defined by\n",
    "# the net current to each E unit (x) vs. the net current to each I unit (y)\n",
    "\n",
    "useSeedsLocal = (0, 1, 3, 4, 5, 7, 8,)\n",
    "# useSeedsLocal = (0, 1, 2, 3, 4, 5, 6, 7, 8)\n",
    "useColors = ('magenta', 'red', 'grey', 'orange', 'green', 'blue', 'purple', 'cyan', 'black')\n",
    "useAnalysisInd = 3\n",
    "\n",
    "xVals = usewEEAll[useAnalysisInd, useSeedsLocal, -1]\n",
    "yVals = usewEIAll[useAnalysisInd, useSeedsLocal, -1]\n",
    "\n",
    "pred_x, pred_y, b, r2, p = regress_linear(xVals, yVals)\n",
    "\n",
    "f, ax = plt.subplots(2, 1, figsize=(6, 10))\n",
    "\n",
    "ax[0].plot(pred_x, pred_y, color='k')\n",
    "for useSeed in useSeedsLocal:\n",
    "    ax[0].plot(usewEEAll[useAnalysisInd, useSeed, :], usewEIAll[useAnalysisInd, useSeed, :],\n",
    "            label=str(useSeed), alpha=.5, color=useColors[useSeed])\n",
    "    ax[0].scatter(usewEEAll[useAnalysisInd, useSeed, 0], usewEIAll[useAnalysisInd, useSeed, 0], 30,\n",
    "               color=useColors[useSeed], marker='^')\n",
    "    ax[0].scatter(usewEEAll[useAnalysisInd, useSeed, -1], usewEIAll[useAnalysisInd, useSeed, -1], 30,\n",
    "               color=useColors[useSeed], marker='v')\n",
    "\n",
    "ax[0].axes.xaxis.set_ticks([])\n",
    "ax[0].axes.yaxis.set_ticks([])\n",
    "\n",
    "ax[0].set(xlabel='wEE', ylabel='wEI')\n",
    "ax[0].legend()\n",
    "\n",
    "xVals = usewIEAll[useAnalysisInd, useSeedsLocal, -1]\n",
    "yVals = usewIIAll[useAnalysisInd, useSeedsLocal, -1]\n",
    "\n",
    "pred_x, pred_y, b, r2, p = regress_linear(xVals, yVals)\n",
    "\n",
    "ax[1].plot(pred_x, pred_y, color='k')\n",
    "for useSeed in useSeedsLocal:\n",
    "    ax[1].plot(usewIEAll[useAnalysisInd, useSeed, :], usewIIAll[useAnalysisInd, useSeed, :],\n",
    "            label=str(useSeed), alpha=.5, color=useColors[useSeed])\n",
    "    ax[1].scatter(usewIEAll[useAnalysisInd, useSeed, 0], usewIIAll[useAnalysisInd, useSeed, 0], 30,\n",
    "               color=useColors[useSeed], marker='^')\n",
    "    ax[1].scatter(usewIEAll[useAnalysisInd, useSeed, -1], usewIIAll[useAnalysisInd, useSeed, -1], 30,\n",
    "               color=useColors[useSeed], marker='v')\n",
    "\n",
    "ax[1].axes.xaxis.set_ticks([])\n",
    "ax[1].axes.yaxis.set_ticks([])\n",
    "\n",
    "ax[1].set(xlabel='wIE', ylabel='wII')\n",
    "ax[1].legend()"
   ]
  },
  {
   "cell_type": "code",
   "execution_count": 51,
   "metadata": {},
   "outputs": [
    {
     "data": {
      "text/plain": [
       "<matplotlib.legend.Legend at 0x22cae0f0388>"
      ]
     },
     "execution_count": 51,
     "metadata": {},
     "output_type": "execute_result"
    }
   ],
   "source": [
    "# plot that shows convergence of all 9 seeds on one graph for only one learning rule, but in a 2D system defined by\n",
    "# the wEE and wEI\n",
    "\n",
    "useSeedsLocal = (0, 1, 3, 4, 5, 7, 8,)\n",
    "# useSeedsLocal = (0, 1, 2 3, 4, 5, 6, 7, 8)\n",
    "useColors = ('magenta', 'red', 'grey', 'orange', 'green', 'blue', 'purple', 'cyan', 'black')\n",
    "useAnalysisInd = 3\n",
    "\n",
    "xVals = netCurrentToSingleEAll[useAnalysisInd, useSeedsLocal, -1]\n",
    "yVals = netCurrentToSingleIAll[useAnalysisInd, useSeedsLocal, -1]\n",
    "\n",
    "pred_x, pred_y, b, r2, p = regress_linear(xVals, yVals)\n",
    "\n",
    "f, ax = plt.subplots(figsize=(9, 7))\n",
    "ax.plot(pred_x, pred_y, color='k')\n",
    "for useSeed in useSeedsLocal:\n",
    "    ax.plot(netCurrentToSingleEAll[useAnalysisInd, useSeed, :], netCurrentToSingleIAll[useAnalysisInd, useSeed, :],\n",
    "            label=str(useSeed), alpha=.5, color=useColors[useSeed])\n",
    "    ax.scatter(netCurrentToSingleEAll[useAnalysisInd, useSeed, 0], netCurrentToSingleIAll[useAnalysisInd, useSeed, 0], 30,\n",
    "               color=useColors[useSeed], marker='^')\n",
    "    ax.scatter(netCurrentToSingleEAll[useAnalysisInd, useSeed, -1], netCurrentToSingleIAll[useAnalysisInd, useSeed, -1], 30,\n",
    "               color=useColors[useSeed], marker='v')\n",
    "ax.hlines(0, *ax.get_xlim(), color='k', linestyle='--', alpha=0.2)\n",
    "ax.vlines(0, *ax.get_ylim(), color='k', linestyle='--', alpha=0.2)\n",
    "\n",
    "ax.axes.xaxis.set_ticks([])\n",
    "ax.axes.yaxis.set_ticks([])\n",
    "\n",
    "ax.set(xlabel='Mean synaptic current onto E units', ylabel='Mean synaptic current onto I units')\n",
    "ax.legend()"
   ]
  },
  {
   "cell_type": "code",
   "execution_count": null,
   "metadata": {},
   "outputs": [],
   "source": [
    "# additional measure: # of trials to convergence (double check!!!)"
   ]
  },
  {
   "cell_type": "code",
   "execution_count": null,
   "metadata": {},
   "outputs": [],
   "source": [
    "# additional measures: pre-convergent values"
   ]
  },
  {
   "cell_type": "code",
   "execution_count": null,
   "metadata": {},
   "outputs": [],
   "source": []
  },
  {
   "cell_type": "code",
   "execution_count": 28,
   "metadata": {},
   "outputs": [],
   "source": [
    "overallDF.to_csv(os.getcwd() + '\\\\seedResults.csv')"
   ]
  },
  {
   "cell_type": "code",
   "execution_count": 30,
   "metadata": {
    "collapsed": true
   },
   "outputs": [
    {
     "data": {
      "text/html": [
       "<div>\n",
       "<style scoped>\n",
       "    .dataframe tbody tr th:only-of-type {\n",
       "        vertical-align: middle;\n",
       "    }\n",
       "\n",
       "    .dataframe tbody tr th {\n",
       "        vertical-align: top;\n",
       "    }\n",
       "\n",
       "    .dataframe thead th {\n",
       "        text-align: right;\n",
       "    }\n",
       "</style>\n",
       "<table border=\"1\" class=\"dataframe\">\n",
       "  <thead>\n",
       "    <tr style=\"text-align: right;\">\n",
       "      <th></th>\n",
       "      <th>meanAbsdwEE</th>\n",
       "      <th>meanAbsdwIE</th>\n",
       "      <th>meanAbsdwEI</th>\n",
       "      <th>meanAbsdwII</th>\n",
       "      <th>meanSumAbsMAvgDiffdW</th>\n",
       "      <th>meanSumAbsMAvgDiffConvergentdW</th>\n",
       "      <th>meanSumAbsMAvgDiffFRMSE</th>\n",
       "      <th>meanSumAbsMAvgDiffConvergentFRMSE</th>\n",
       "      <th>meanAbsPostConvergencedwEE</th>\n",
       "      <th>meanAbsPostConvergencedwIE</th>\n",
       "      <th>...</th>\n",
       "      <th>meanConvergentMSEExc</th>\n",
       "      <th>minMSEExcUnits</th>\n",
       "      <th>meanMSEExcUnits</th>\n",
       "      <th>meanConvergentMSEExcUnits</th>\n",
       "      <th>minMSEInh</th>\n",
       "      <th>meanMSEInh</th>\n",
       "      <th>meanConvergentMSEInh</th>\n",
       "      <th>minMSEInhUnits</th>\n",
       "      <th>meanMSEInhUnits</th>\n",
       "      <th>meanConvergentMSEInhUnits</th>\n",
       "    </tr>\n",
       "  </thead>\n",
       "  <tbody>\n",
       "    <tr>\n",
       "      <th>0</th>\n",
       "      <td>0.057160</td>\n",
       "      <td>0.029620</td>\n",
       "      <td>0.194129</td>\n",
       "      <td>0.074381</td>\n",
       "      <td>0.141574</td>\n",
       "      <td>0.103030</td>\n",
       "      <td>2823.970796</td>\n",
       "      <td>2856.579789</td>\n",
       "      <td>0.044826</td>\n",
       "      <td>0.022205</td>\n",
       "      <td>...</td>\n",
       "      <td>8.509668</td>\n",
       "      <td>9.951347</td>\n",
       "      <td>232.634200</td>\n",
       "      <td>227.347556</td>\n",
       "      <td>0.000021</td>\n",
       "      <td>71.385862</td>\n",
       "      <td>67.700631</td>\n",
       "      <td>57.122678</td>\n",
       "      <td>2590.166666</td>\n",
       "      <td>2628.103358</td>\n",
       "    </tr>\n",
       "    <tr>\n",
       "      <th>1</th>\n",
       "      <td>0.094674</td>\n",
       "      <td>0.047954</td>\n",
       "      <td>0.290633</td>\n",
       "      <td>0.118944</td>\n",
       "      <td>0.185059</td>\n",
       "      <td>0.152298</td>\n",
       "      <td>3951.738314</td>\n",
       "      <td>3526.447666</td>\n",
       "      <td>0.081022</td>\n",
       "      <td>0.039941</td>\n",
       "      <td>...</td>\n",
       "      <td>191.302233</td>\n",
       "      <td>8.044849</td>\n",
       "      <td>872.539134</td>\n",
       "      <td>440.432213</td>\n",
       "      <td>0.000021</td>\n",
       "      <td>280.511193</td>\n",
       "      <td>197.972814</td>\n",
       "      <td>66.175572</td>\n",
       "      <td>3228.761297</td>\n",
       "      <td>3091.551480</td>\n",
       "    </tr>\n",
       "    <tr>\n",
       "      <th>2</th>\n",
       "      <td>0.154092</td>\n",
       "      <td>0.076263</td>\n",
       "      <td>0.428524</td>\n",
       "      <td>0.183083</td>\n",
       "      <td>0.255322</td>\n",
       "      <td>0.210957</td>\n",
       "      <td>16640.069687</td>\n",
       "      <td>16121.163998</td>\n",
       "      <td>0.147020</td>\n",
       "      <td>0.070511</td>\n",
       "      <td>...</td>\n",
       "      <td>2301.916613</td>\n",
       "      <td>10.791591</td>\n",
       "      <td>4343.776532</td>\n",
       "      <td>3029.728984</td>\n",
       "      <td>0.003185</td>\n",
       "      <td>4117.237460</td>\n",
       "      <td>4802.839801</td>\n",
       "      <td>82.643704</td>\n",
       "      <td>12545.081731</td>\n",
       "      <td>13084.209525</td>\n",
       "    </tr>\n",
       "    <tr>\n",
       "      <th>3</th>\n",
       "      <td>0.033611</td>\n",
       "      <td>0.013789</td>\n",
       "      <td>0.124078</td>\n",
       "      <td>0.033865</td>\n",
       "      <td>0.110457</td>\n",
       "      <td>0.079476</td>\n",
       "      <td>7826.012197</td>\n",
       "      <td>8199.675330</td>\n",
       "      <td>0.025655</td>\n",
       "      <td>0.009619</td>\n",
       "      <td>...</td>\n",
       "      <td>9.781097</td>\n",
       "      <td>6.746211</td>\n",
       "      <td>679.843213</td>\n",
       "      <td>709.225561</td>\n",
       "      <td>0.000977</td>\n",
       "      <td>380.937963</td>\n",
       "      <td>389.636368</td>\n",
       "      <td>63.363649</td>\n",
       "      <td>7140.821404</td>\n",
       "      <td>7484.347565</td>\n",
       "    </tr>\n",
       "    <tr>\n",
       "      <th>4</th>\n",
       "      <td>0.042073</td>\n",
       "      <td>0.020846</td>\n",
       "      <td>0.157902</td>\n",
       "      <td>0.056681</td>\n",
       "      <td>0.104929</td>\n",
       "      <td>0.077250</td>\n",
       "      <td>8299.170825</td>\n",
       "      <td>9592.480124</td>\n",
       "      <td>0.030489</td>\n",
       "      <td>0.015502</td>\n",
       "      <td>...</td>\n",
       "      <td>13.029149</td>\n",
       "      <td>7.705842</td>\n",
       "      <td>734.867557</td>\n",
       "      <td>834.033462</td>\n",
       "      <td>0.183035</td>\n",
       "      <td>412.555571</td>\n",
       "      <td>445.185071</td>\n",
       "      <td>59.654409</td>\n",
       "      <td>7558.122799</td>\n",
       "      <td>8758.260762</td>\n",
       "    </tr>\n",
       "    <tr>\n",
       "      <th>5</th>\n",
       "      <td>0.064156</td>\n",
       "      <td>0.033057</td>\n",
       "      <td>0.221891</td>\n",
       "      <td>0.084894</td>\n",
       "      <td>0.154651</td>\n",
       "      <td>0.115868</td>\n",
       "      <td>4484.105405</td>\n",
       "      <td>3245.788742</td>\n",
       "      <td>0.045674</td>\n",
       "      <td>0.022842</td>\n",
       "      <td>...</td>\n",
       "      <td>4.368634</td>\n",
       "      <td>10.515587</td>\n",
       "      <td>927.764743</td>\n",
       "      <td>236.717316</td>\n",
       "      <td>0.000016</td>\n",
       "      <td>671.887128</td>\n",
       "      <td>101.962647</td>\n",
       "      <td>65.549266</td>\n",
       "      <td>3967.428731</td>\n",
       "      <td>3006.860887</td>\n",
       "    </tr>\n",
       "    <tr>\n",
       "      <th>6</th>\n",
       "      <td>0.042064</td>\n",
       "      <td>0.020458</td>\n",
       "      <td>0.130534</td>\n",
       "      <td>0.044326</td>\n",
       "      <td>0.190723</td>\n",
       "      <td>0.088904</td>\n",
       "      <td>2733.131121</td>\n",
       "      <td>2848.930939</td>\n",
       "      <td>0.017761</td>\n",
       "      <td>0.008040</td>\n",
       "      <td>...</td>\n",
       "      <td>1.243542</td>\n",
       "      <td>7.247181</td>\n",
       "      <td>200.201422</td>\n",
       "      <td>210.191570</td>\n",
       "      <td>0.002198</td>\n",
       "      <td>99.580197</td>\n",
       "      <td>40.532338</td>\n",
       "      <td>54.977552</td>\n",
       "      <td>2531.829666</td>\n",
       "      <td>2637.297945</td>\n",
       "    </tr>\n",
       "    <tr>\n",
       "      <th>7</th>\n",
       "      <td>0.025470</td>\n",
       "      <td>0.011906</td>\n",
       "      <td>0.111210</td>\n",
       "      <td>0.030974</td>\n",
       "      <td>0.124954</td>\n",
       "      <td>0.086969</td>\n",
       "      <td>2814.244710</td>\n",
       "      <td>2868.801752</td>\n",
       "      <td>0.016693</td>\n",
       "      <td>0.007354</td>\n",
       "      <td>...</td>\n",
       "      <td>1.534841</td>\n",
       "      <td>6.628933</td>\n",
       "      <td>197.644560</td>\n",
       "      <td>201.055298</td>\n",
       "      <td>0.013254</td>\n",
       "      <td>61.488243</td>\n",
       "      <td>51.211928</td>\n",
       "      <td>55.811700</td>\n",
       "      <td>2614.738836</td>\n",
       "      <td>2665.845816</td>\n",
       "    </tr>\n",
       "    <tr>\n",
       "      <th>8</th>\n",
       "      <td>0.032891</td>\n",
       "      <td>0.016210</td>\n",
       "      <td>0.144658</td>\n",
       "      <td>0.048043</td>\n",
       "      <td>0.092354</td>\n",
       "      <td>0.082147</td>\n",
       "      <td>3269.479101</td>\n",
       "      <td>3265.773337</td>\n",
       "      <td>0.018979</td>\n",
       "      <td>0.008631</td>\n",
       "      <td>...</td>\n",
       "      <td>8.717169</td>\n",
       "      <td>9.830707</td>\n",
       "      <td>244.676393</td>\n",
       "      <td>239.876854</td>\n",
       "      <td>0.000070</td>\n",
       "      <td>175.371213</td>\n",
       "      <td>160.482102</td>\n",
       "      <td>60.913485</td>\n",
       "      <td>3044.370333</td>\n",
       "      <td>3024.113688</td>\n",
       "    </tr>\n",
       "  </tbody>\n",
       "</table>\n",
       "<p>9 rows × 24 columns</p>\n",
       "</div>"
      ],
      "text/plain": [
       "   meanAbsdwEE  meanAbsdwIE  meanAbsdwEI  meanAbsdwII  meanSumAbsMAvgDiffdW  \\\n",
       "0     0.057160     0.029620     0.194129     0.074381              0.141574   \n",
       "1     0.094674     0.047954     0.290633     0.118944              0.185059   \n",
       "2     0.154092     0.076263     0.428524     0.183083              0.255322   \n",
       "3     0.033611     0.013789     0.124078     0.033865              0.110457   \n",
       "4     0.042073     0.020846     0.157902     0.056681              0.104929   \n",
       "5     0.064156     0.033057     0.221891     0.084894              0.154651   \n",
       "6     0.042064     0.020458     0.130534     0.044326              0.190723   \n",
       "7     0.025470     0.011906     0.111210     0.030974              0.124954   \n",
       "8     0.032891     0.016210     0.144658     0.048043              0.092354   \n",
       "\n",
       "   meanSumAbsMAvgDiffConvergentdW  meanSumAbsMAvgDiffFRMSE  \\\n",
       "0                        0.103030              2823.970796   \n",
       "1                        0.152298              3951.738314   \n",
       "2                        0.210957             16640.069687   \n",
       "3                        0.079476              7826.012197   \n",
       "4                        0.077250              8299.170825   \n",
       "5                        0.115868              4484.105405   \n",
       "6                        0.088904              2733.131121   \n",
       "7                        0.086969              2814.244710   \n",
       "8                        0.082147              3269.479101   \n",
       "\n",
       "   meanSumAbsMAvgDiffConvergentFRMSE  meanAbsPostConvergencedwEE  \\\n",
       "0                        2856.579789                    0.044826   \n",
       "1                        3526.447666                    0.081022   \n",
       "2                       16121.163998                    0.147020   \n",
       "3                        8199.675330                    0.025655   \n",
       "4                        9592.480124                    0.030489   \n",
       "5                        3245.788742                    0.045674   \n",
       "6                        2848.930939                    0.017761   \n",
       "7                        2868.801752                    0.016693   \n",
       "8                        3265.773337                    0.018979   \n",
       "\n",
       "   meanAbsPostConvergencedwIE  ...  meanConvergentMSEExc  minMSEExcUnits  \\\n",
       "0                    0.022205  ...              8.509668        9.951347   \n",
       "1                    0.039941  ...            191.302233        8.044849   \n",
       "2                    0.070511  ...           2301.916613       10.791591   \n",
       "3                    0.009619  ...              9.781097        6.746211   \n",
       "4                    0.015502  ...             13.029149        7.705842   \n",
       "5                    0.022842  ...              4.368634       10.515587   \n",
       "6                    0.008040  ...              1.243542        7.247181   \n",
       "7                    0.007354  ...              1.534841        6.628933   \n",
       "8                    0.008631  ...              8.717169        9.830707   \n",
       "\n",
       "   meanMSEExcUnits  meanConvergentMSEExcUnits  minMSEInh   meanMSEInh  \\\n",
       "0       232.634200                 227.347556   0.000021    71.385862   \n",
       "1       872.539134                 440.432213   0.000021   280.511193   \n",
       "2      4343.776532                3029.728984   0.003185  4117.237460   \n",
       "3       679.843213                 709.225561   0.000977   380.937963   \n",
       "4       734.867557                 834.033462   0.183035   412.555571   \n",
       "5       927.764743                 236.717316   0.000016   671.887128   \n",
       "6       200.201422                 210.191570   0.002198    99.580197   \n",
       "7       197.644560                 201.055298   0.013254    61.488243   \n",
       "8       244.676393                 239.876854   0.000070   175.371213   \n",
       "\n",
       "   meanConvergentMSEInh  minMSEInhUnits  meanMSEInhUnits  \\\n",
       "0             67.700631       57.122678      2590.166666   \n",
       "1            197.972814       66.175572      3228.761297   \n",
       "2           4802.839801       82.643704     12545.081731   \n",
       "3            389.636368       63.363649      7140.821404   \n",
       "4            445.185071       59.654409      7558.122799   \n",
       "5            101.962647       65.549266      3967.428731   \n",
       "6             40.532338       54.977552      2531.829666   \n",
       "7             51.211928       55.811700      2614.738836   \n",
       "8            160.482102       60.913485      3044.370333   \n",
       "\n",
       "   meanConvergentMSEInhUnits  \n",
       "0                2628.103358  \n",
       "1                3091.551480  \n",
       "2               13084.209525  \n",
       "3                7484.347565  \n",
       "4                8758.260762  \n",
       "5                3006.860887  \n",
       "6                2637.297945  \n",
       "7                2665.845816  \n",
       "8                3024.113688  \n",
       "\n",
       "[9 rows x 24 columns]"
      ]
     },
     "execution_count": 30,
     "metadata": {},
     "output_type": "execute_result"
    }
   ],
   "source": [
    "overallDF.groupby(level=0).mean()"
   ]
  },
  {
   "cell_type": "code",
   "execution_count": 12,
   "metadata": {},
   "outputs": [
    {
     "data": {
      "text/plain": [
       "<pandas.core.groupby.generic.DataFrameGroupBy object at 0x000001E57B495BC8>"
      ]
     },
     "execution_count": 12,
     "metadata": {},
     "output_type": "execute_result"
    }
   ],
   "source": [
    "test"
   ]
  },
  {
   "cell_type": "code",
   "execution_count": 103,
   "metadata": {},
   "outputs": [],
   "source": [
    "basePath = 'C:/Users/mikejseay/Documents/BrianResults/'\n",
    "\n",
    "# analysisDict = crossHomeoPreScalar.copy()\n",
    "analysisDict = crossHomeoPreScalarHomeo.copy()\n",
    "# analysisDict = crossHomeoPreOuter.copy()\n",
    "# analysisDict = crossHomeoPreOuterHomeo.copy()\n",
    "# analysisDict = crossHomeoPreScalarHomeoRemean.copy()\n",
    "\n",
    "useSeed = 2"
   ]
  },
  {
   "cell_type": "code",
   "execution_count": 104,
   "metadata": {},
   "outputs": [],
   "source": [
    "targetPath = basePath + analysisDict['subfolder']"
   ]
  },
  {
   "cell_type": "code",
   "execution_count": 105,
   "metadata": {},
   "outputs": [
    {
     "name": "stdout",
     "output_type": "stream",
     "text": [
      "classicJercog_2000_0p25_cross-homeo-pre-scalar-homeo_seed2__2021-08-21-09-34\n"
     ]
    }
   ],
   "source": [
    "targetFile1, targetFile2 = analysisDict[useSeed]\n",
    "R1 = Results()\n",
    "R1.init_from_file(targetFile1, targetPath)\n",
    "R2 = Results()\n",
    "R2.init_from_file(targetFile2, targetPath)\n",
    "R = combine_two_sessions(R1, R2)\n",
    "print(R.rID)"
   ]
  },
  {
   "cell_type": "code",
   "execution_count": 106,
   "metadata": {},
   "outputs": [
    {
     "name": "stdout",
     "output_type": "stream",
     "text": [
      "5. Hz 1 8. fC 0.98\n"
     ]
    }
   ],
   "source": [
    "print(R.p['setUpFRExc'], R.p['tauUpFRTrials'], R.p['alpha1'], R.p['spikeInputAmplitude'])\n",
    "plt.close('all')\n",
    "pdfObject = PdfPages(targetPath + '/reports/' + R.rID + '_report.pdf')\n",
    "removeOutliers = True"
   ]
  },
  {
   "cell_type": "code",
   "execution_count": 107,
   "metadata": {},
   "outputs": [
    {
     "name": "stdout",
     "output_type": "stream",
     "text": [
      "We think the first convergent index is 5626\n"
     ]
    }
   ],
   "source": [
    "generate_description(R)\n",
    "\n",
    "FR_weights(R)\n",
    "plt.savefig(pdfObject, format='pdf')\n",
    "\n",
    "# firstConvergentInd = int(R.trialwEE.size / 2)\n",
    "# firstConvergentInd = 4700\n",
    "firstConvergentInd = determine_first_convergent_trial(R)\n",
    "# firstConvergentInd = determine_first_convergent_trial(R) + 1500\n",
    "print('We think the first convergent index is', firstConvergentInd)"
   ]
  },
  {
   "cell_type": "code",
   "execution_count": 108,
   "metadata": {
    "collapsed": true
   },
   "outputs": [
    {
     "name": "stdout",
     "output_type": "stream",
     "text": [
      "1.7345976444595907\n",
      "0.7466571490226588\n",
      "1.018813379420174\n",
      "-1.0040977452787898\n"
     ]
    },
    {
     "name": "stderr",
     "output_type": "stream",
     "text": [
      "WARNING    ..\\stats.py:17: RuntimeWarning: invalid value encountered in greater\n",
      "  a_outlying = np.logical_or(a > a_mean + sd_thresh * a_std, a < a_mean - sd_thresh * a_std)\n",
      " [py.warnings]\n",
      "WARNING    ..\\stats.py:17: RuntimeWarning: invalid value encountered in less\n",
      "  a_outlying = np.logical_or(a > a_mean + sd_thresh * a_std, a < a_mean - sd_thresh * a_std)\n",
      " [py.warnings]\n",
      "WARNING    ..\\analysis.py:333: RuntimeWarning: invalid value encountered in less\n",
      "  wFullInitPlot[wFullInitPlot < vlims[0]] = np.nan\n",
      " [py.warnings]\n",
      "WARNING    ..\\analysis.py:334: RuntimeWarning: invalid value encountered in greater\n",
      "  wFullInitPlot[wFullInitPlot > vlims[1]] = np.nan\n",
      " [py.warnings]\n",
      "WARNING    ..\\analysis.py:336: RuntimeWarning: invalid value encountered in less\n",
      "  wFullFinalPlot[wFullFinalPlot < vlims[0]] = np.nan\n",
      " [py.warnings]\n",
      "WARNING    ..\\analysis.py:337: RuntimeWarning: invalid value encountered in greater\n",
      "  wFullFinalPlot[wFullFinalPlot > vlims[1]] = np.nan\n",
      " [py.warnings]\n",
      "WARNING    C:\\Users\\mikejseay\\anaconda3\\lib\\site-packages\\numpy\\lib\\histograms.py:839: RuntimeWarning: invalid value encountered in greater_equal\n",
      "  keep = (tmp_a >= first_edge)\n",
      " [py.warnings]\n",
      "WARNING    C:\\Users\\mikejseay\\anaconda3\\lib\\site-packages\\numpy\\lib\\histograms.py:840: RuntimeWarning: invalid value encountered in less_equal\n",
      "  keep &= (tmp_a <= last_edge)\n",
      " [py.warnings]\n",
      "WARNING    ..\\analysis.py:370: RuntimeWarning: invalid value encountered in less\n",
      "  wFullInitPlot[wFullInitPlot < vlims[0]] = np.nan\n",
      " [py.warnings]\n",
      "WARNING    ..\\analysis.py:371: RuntimeWarning: invalid value encountered in greater\n",
      "  wFullInitPlot[wFullInitPlot > vlims[1]] = np.nan\n",
      " [py.warnings]\n",
      "WARNING    ..\\analysis.py:373: RuntimeWarning: invalid value encountered in less\n",
      "  wFullFinalPlot[wFullFinalPlot < vlims[0]] = np.nan\n",
      " [py.warnings]\n",
      "WARNING    ..\\analysis.py:374: RuntimeWarning: invalid value encountered in greater\n",
      "  wFullFinalPlot[wFullFinalPlot > vlims[1]] = np.nan\n",
      " [py.warnings]\n"
     ]
    }
   ],
   "source": [
    "determine_drift_rates(R, firstConvergentInd)\n",
    "print(R.driftRateEE)\n",
    "print(R.driftRateEI)\n",
    "print(R.driftRateIE)\n",
    "print(R.driftRateII)\n",
    "\n",
    "# convergence process\n",
    "FR_scatter(R, endTrialInd=firstConvergentInd)\n",
    "plt.savefig(pdfObject, format='pdf')\n",
    "FR_hist1d_compare(R, endTrialInd=firstConvergentInd)\n",
    "plt.savefig(pdfObject, format='pdf')\n",
    "FR_weights_std(R, endTrialInd=firstConvergentInd)\n",
    "plt.savefig(pdfObject, format='pdf')\n",
    "weights_scatter_matrix(R, endTrialInd=firstConvergentInd)\n",
    "plt.savefig(pdfObject, format='pdf')\n",
    "\n",
    "# post convergence\n",
    "FR_scatter(R, startTrialInd=firstConvergentInd, removeOutliers=removeOutliers)\n",
    "plt.savefig(pdfObject, format='pdf')\n",
    "FR_hist2d(R, startTrialInd=firstConvergentInd, removeOutliers=removeOutliers)\n",
    "plt.savefig(pdfObject, format='pdf')\n",
    "FR_hist1d_compare(R, startTrialInd=firstConvergentInd)\n",
    "plt.savefig(pdfObject, format='pdf')\n",
    "FR_weights_std(R, startTrialInd=firstConvergentInd)\n",
    "plt.savefig(pdfObject, format='pdf')\n",
    "weights_scatter_matrix(R, startTrialInd=firstConvergentInd)\n",
    "plt.savefig(pdfObject, format='pdf')\n",
    "\n",
    "# epilogue\n",
    "weights_hist1d_compare(R)\n",
    "plt.savefig(pdfObject, format='pdf')\n",
    "weights_matrix_compare(R)\n",
    "plt.savefig(pdfObject, format='pdf')\n",
    "\n",
    "pdfObject.close()"
   ]
  },
  {
   "cell_type": "code",
   "execution_count": 9,
   "metadata": {},
   "outputs": [],
   "source": [
    "plt.close('all')"
   ]
  },
  {
   "cell_type": "code",
   "execution_count": 10,
   "metadata": {},
   "outputs": [],
   "source": [
    "# goals:\n",
    "# quantify the MSE at each trial\n",
    "# quantify the mean(abs(dWEE)) at each step..\n",
    "# create a common plot across multiple seeds"
   ]
  },
  {
   "cell_type": "code",
   "execution_count": 144,
   "metadata": {},
   "outputs": [],
   "source": [
    "# preparatory calculations\n",
    "\n",
    "MSEExc = (R.trialUpFRExc - R.p['setUpFRExc'] / Hz) ** 2\n",
    "MSEInh = (R.trialUpFRInh - R.p['setUpFRInh'] / Hz) ** 2\n",
    "MSEExcUnits = (R.trialUpFRExcUnits - R.p['setUpFRExc'] / Hz) ** 2\n",
    "MSEExcUnitsHat = MSEExcUnits.mean(1)\n",
    "MSEInhUnits = (R.trialUpFRInhUnits - R.p['setUpFRInh'] / Hz) ** 2\n",
    "MSEInhUnitsHat = MSEInhUnits.mean(1)\n",
    "trialdwEE = np.ediff1d(R.trialwEE)\n",
    "trialdwIE = np.ediff1d(R.trialwIE)\n",
    "trialdwEI = np.ediff1d(R.trialwEI)\n",
    "trialdwII = np.ediff1d(R.trialwII)\n",
    "allAbsdW = np.fabs(trialdwEE) + np.fabs(trialdwIE) + np.fabs(trialdwEI) + np.fabs(trialdwII)\n",
    "wSum = calculate_convergence_index(R)\n",
    "frSum = moving_average(MSEExcUnits.mean(1), movAvgWidth) + moving_average(MSEInhUnits.mean(1), movAvgWidth)\n",
    "movAvgWidth=31\n",
    "frSumExc = moving_average(MSEExcUnits.mean(1), movAvgWidth)\n",
    "frSumInh = moving_average(MSEInhUnits.mean(1), movAvgWidth)\n",
    "frSum = frSumExc + frSumInh"
   ]
  },
  {
   "cell_type": "code",
   "execution_count": 145,
   "metadata": {},
   "outputs": [],
   "source": [
    "# scalar quantifiers\n",
    "\n",
    "meanAbsdwEE = np.fabs(trialdwEE).mean()\n",
    "meanAbsdwIE = np.fabs(trialdwIE).mean()\n",
    "meanAbsdwEI = np.fabs(trialdwEI).mean()\n",
    "meanAbsdwII = np.fabs(trialdwII).mean()\n",
    "meanSumAbsMAvgDiffdW = wSum.mean()\n",
    "meanSumAbsMAvgDiffConvergentdW = wSum[firstConvergentInd:].mean()\n",
    "meanSumAbsMAvgDiffFRMSE = frSum.mean()\n",
    "meanSumAbsMAvgDiffConvergentFRMSE = frSum[firstConvergentInd:].mean()\n",
    "meanAbsPostConvergencedwEE = np.fabs(trialdwEE[firstConvergentInd:]).mean()\n",
    "meanAbsPostConvergencedwIE = np.fabs(trialdwIE[firstConvergentInd:]).mean()\n",
    "meanAbsPostConvergencedwEI = np.fabs(trialdwEI[firstConvergentInd:]).mean()\n",
    "meanAbsPostConvergencedwII = np.fabs(trialdwII[firstConvergentInd:]).mean()\n",
    "minMSEExc = MSEExc.min()\n",
    "meanMSEExc = MSEExc.mean()\n",
    "meanConvergentMSEExc = MSEExc[firstConvergentInd:].mean()\n",
    "minMSEExcUnits = MSEExcUnitsHat.min()\n",
    "meanMSEExcUnits = MSEExcUnitsHat.mean()\n",
    "meanConvergentMSEExcUnits = MSEExcUnitsHat[firstConvergentInd:].mean()\n",
    "minMSEInh = MSEInh.min()\n",
    "meanMSEInh = MSEInh.mean()\n",
    "meanConvergentMSEInh = MSEInh[firstConvergentInd:].mean()\n",
    "minMSEInhUnits = MSEInhUnitsHat.min()\n",
    "meanMSEInhUnits = MSEInhUnitsHat.mean()\n",
    "meanConvergentMSEInhUnits = MSEInhUnitsHat[firstConvergentInd:].mean()"
   ]
  },
  {
   "cell_type": "code",
   "execution_count": 146,
   "metadata": {},
   "outputs": [],
   "source": [
    "plt.close('all')"
   ]
  },
  {
   "cell_type": "code",
   "execution_count": 140,
   "metadata": {
    "collapsed": true
   },
   "outputs": [
    {
     "data": {
      "text/plain": [
       "[Text(0, 0.5, 'MSE for avg. FR (Hz ^ 2)'), Text(0.5, 0, 'Trial #')]"
      ]
     },
     "execution_count": 140,
     "metadata": {},
     "output_type": "execute_result"
    }
   ],
   "source": [
    "# graphs\n",
    "\n",
    "f, ax = plt.subplots()\n",
    "ax.plot(MSEExcUnitsHat, color='green', linewidth=1)\n",
    "ax.plot(MSEInhUnitsHat, color='red', linewidth=1)\n",
    "plt.yscale('log')\n",
    "ax.legend(('Exc', 'Inh'))\n",
    "ax.set(xlabel='Trial #', ylabel='MSE for avg. FR (Hz ^ 2)')"
   ]
  },
  {
   "cell_type": "code",
   "execution_count": 131,
   "metadata": {
    "collapsed": true
   },
   "outputs": [
    {
     "data": {
      "text/plain": [
       "[(1e-06, 101964.4336322184),\n",
       " Text(0, 0.5, 'MSE for avg. I FR (Hz ^ 2)'),\n",
       " (1e-06, 14018.514809196724),\n",
       " Text(0.5, 0, 'MSE for avg. E FR (Hz ^ 2)')]"
      ]
     },
     "execution_count": 131,
     "metadata": {},
     "output_type": "execute_result"
    }
   ],
   "source": [
    "minVal = 1e-6\n",
    "\n",
    "zData = np.arange(MSEExc.size) + 2\n",
    "\n",
    "f, ax = plt.subplots()\n",
    "ax.scatter(MSEExc, MSEInh, s=3, c=zData, cmap=plt.cm.viridis, alpha=0.5)\n",
    "plt.xscale('log')\n",
    "plt.yscale('log')\n",
    "ax.set(xlim=(minVal, MSEExc.max()), ylim=(minVal, MSEInh.max()),\n",
    "       xlabel='MSE for avg. E FR (Hz ^ 2)', ylabel='MSE for avg. I FR (Hz ^ 2)')"
   ]
  },
  {
   "cell_type": "code",
   "execution_count": 132,
   "metadata": {
    "collapsed": true
   },
   "outputs": [
    {
     "data": {
      "text/plain": [
       "[(1.0, 148110.62455567857),\n",
       " Text(0, 0.5, 'MSE for avg. I FR (Hz ^ 2)'),\n",
       " (1.0, 20629.2448720937),\n",
       " Text(0.5, 0, 'MSE for avg. E FR (Hz ^ 2)')]"
      ]
     },
     "execution_count": 132,
     "metadata": {},
     "output_type": "execute_result"
    }
   ],
   "source": [
    "minVal = 1e0\n",
    "\n",
    "zData = np.arange(MSEExcUnitsHat.size) + 2\n",
    "\n",
    "f, ax = plt.subplots()\n",
    "ax.scatter(MSEExcUnitsHat, MSEInhUnitsHat, s=3, c=zData, cmap=plt.cm.viridis, alpha=0.5)\n",
    "plt.xscale('log')\n",
    "plt.yscale('log')\n",
    "ax.set(xlim=(minVal, MSEExcUnitsHat.max()), ylim=(minVal, MSEInhUnitsHat.max()),\n",
    "       xlabel='MSE for avg. E FR (Hz ^ 2)', ylabel='MSE for avg. I FR (Hz ^ 2)')"
   ]
  },
  {
   "cell_type": "code",
   "execution_count": 141,
   "metadata": {},
   "outputs": [
    {
     "data": {
      "text/plain": [
       "[Text(0, 0.5, 'MovAvg of MSE for avg. FR (Hz ^ 2)'), Text(0.5, 0, 'Trial #')]"
      ]
     },
     "execution_count": 141,
     "metadata": {},
     "output_type": "execute_result"
    }
   ],
   "source": [
    "f, ax = plt.subplots()\n",
    "ax.plot(frSumExc, color='green')\n",
    "ax.plot(frSumInh, color='red')\n",
    "# ax.plot(frSum, color='blue')\n",
    "plt.yscale('log')\n",
    "ax.legend(('Exc', 'Inh', 'Exc+Inh'))\n",
    "ax.set(xlabel='Trial #', ylabel='MovAvg of MSE for avg. FR (Hz ^ 2)')"
   ]
  },
  {
   "cell_type": "code",
   "execution_count": 152,
   "metadata": {},
   "outputs": [
    {
     "data": {
      "text/plain": [
       "[Text(0, 0.5, 'Abs. MovAvg. of dW (pA)'), Text(0.5, 0, 'Trial #')]"
      ]
     },
     "execution_count": 152,
     "metadata": {},
     "output_type": "execute_result"
    }
   ],
   "source": [
    "movAvgWidth = 31\n",
    "\n",
    "f, ax = plt.subplots()\n",
    "# ax.plot(moving_average(wSum, movAvgWidth))\n",
    "ax.plot(allAbsdW)\n",
    "ax.set(xlabel='Trial #', ylabel='Abs. MovAvg. of dW (pA)')"
   ]
  },
  {
   "cell_type": "code",
   "execution_count": 151,
   "metadata": {},
   "outputs": [
    {
     "data": {
      "text/plain": [
       "[(1.0, 148110.62455567857),\n",
       " Text(0, 0.5, 'MSE for movAvg. I FR (Hz ^ 2)'),\n",
       " (1.0, 20629.2448720937),\n",
       " Text(0.5, 0, 'MSE for movAvg. E FR (Hz ^ 2)')]"
      ]
     },
     "execution_count": 151,
     "metadata": {},
     "output_type": "execute_result"
    }
   ],
   "source": [
    "minVal = 1e0\n",
    "\n",
    "zData = np.arange(frSumExc.size) + 2\n",
    "\n",
    "f, ax = plt.subplots()\n",
    "ax.scatter(frSumExc, frSumInh, s=3, c=zData, cmap=plt.cm.viridis, alpha=0.5)\n",
    "plt.xscale('log')\n",
    "plt.yscale('log')\n",
    "ax.set(xlim=(minVal, MSEExcUnitsHat.max()), ylim=(minVal, MSEInhUnitsHat.max()),\n",
    "       xlabel='MSE for movAvg. E FR (Hz ^ 2)', ylabel='MSE for movAvg. I FR (Hz ^ 2)')"
   ]
  },
  {
   "cell_type": "code",
   "execution_count": null,
   "metadata": {},
   "outputs": [],
   "source": []
  },
  {
   "cell_type": "code",
   "execution_count": null,
   "metadata": {},
   "outputs": [],
   "source": []
  },
  {
   "cell_type": "code",
   "execution_count": null,
   "metadata": {},
   "outputs": [],
   "source": []
  },
  {
   "cell_type": "code",
   "execution_count": null,
   "metadata": {},
   "outputs": [],
   "source": []
  },
  {
   "cell_type": "code",
   "execution_count": 93,
   "metadata": {},
   "outputs": [
    {
     "name": "stdout",
     "output_type": "stream",
     "text": [
      "took 0:15:31.156521\n"
     ]
    }
   ],
   "source": [
    "# there is not enough information to calculate mean(abs(dwEE)) but it could be re-calculated like this...\n",
    "\n",
    "nTrials = R.trialUpFRExcUnits.shape[0]\n",
    "\n",
    "trialMAdwEE = np.empty((nTrials,))\n",
    "trialMAdwIE = np.empty((nTrials,))\n",
    "trialMAdwEI = np.empty((nTrials,))\n",
    "trialMAdwII = np.empty((nTrials,))\n",
    "\n",
    "# get some adjacency matrix and nPre\n",
    "aEE = adjacency_matrix_from_flat_inds(R.p['nExc'], R.p['nExc'], R.preEE, R.posEE)\n",
    "aEI = adjacency_matrix_from_flat_inds(R.p['nInh'], R.p['nExc'], R.preEI, R.posEI)\n",
    "aIE = adjacency_matrix_from_flat_inds(R.p['nExc'], R.p['nInh'], R.preIE, R.posIE)\n",
    "aII = adjacency_matrix_from_flat_inds(R.p['nInh'], R.p['nInh'], R.preII, R.posII)\n",
    "\n",
    "nIncomingExcOntoEachExc = aEE.sum(0)\n",
    "nIncomingInhOntoEachExc = aEI.sum(0)\n",
    "nIncomingExcOntoEachInh = aIE.sum(0)\n",
    "nIncomingInhOntoEachInh = aII.sum(0)\n",
    "\n",
    "t0 = datetime.now()\n",
    "\n",
    "for trialInd in range(nTrials):\n",
    "    \n",
    "    movAvgUpFRExcUnits = R.trialUpFRExcUnits[trialInd, :] * Hz\n",
    "    movAvgUpFRInhUnits = R.trialUpFRInhUnits[trialInd, :] * Hz\n",
    "    \n",
    "    movAvgUpFRInhUnitsPreToPostExc = np.matmul(movAvgUpFRInhUnits, aEI) / nIncomingInhOntoEachExc\n",
    "    movAvgUpFRExcUnitsPreToPostInh = np.matmul(movAvgUpFRExcUnits, aIE) / nIncomingExcOntoEachInh\n",
    "\n",
    "    movAvgUpFRExcUnits[movAvgUpFRExcUnits < 1 * Hz] = 1 * Hz\n",
    "    movAvgUpFRInhUnits[movAvgUpFRInhUnits < 1 * Hz] = 1 * Hz\n",
    "\n",
    "    movAvgUpFRInhUnitsPreToPostExc[movAvgUpFRInhUnitsPreToPostExc > (2 * R.p['setUpFRInh'] - 1 * Hz)] = (2 * R.p[\n",
    "        'setUpFRInh'] - 1 * Hz)\n",
    "    movAvgUpFRExcUnitsPreToPostInh[movAvgUpFRExcUnitsPreToPostInh > (2 * R.p['setUpFRExc'] - 1 * Hz)] = (2 * R.p[\n",
    "        'setUpFRExc'] - 1 * Hz)\n",
    "\n",
    "    movAvgUpFRExcUnits[movAvgUpFRExcUnits > (2 * R.p['setUpFRExc'] - 1 * Hz)] = (2 * R.p['setUpFRExc'] - 1 * Hz)\n",
    "    movAvgUpFRInhUnits[movAvgUpFRInhUnits > (2 * R.p['setUpFRInh'] - 1 * Hz)] = (2 * R.p['setUpFRInh'] - 1 * Hz)\n",
    "    \n",
    "    if R.p['useRule'] == 'cross-homeo-pre-outer':\n",
    "        \n",
    "        dwEE = R.p['alpha1'] * np.outer(movAvgUpFRExcUnits,\n",
    "                                      (R.p['setUpFRInh'] - movAvgUpFRInhUnitsPreToPostExc)) * Hz\n",
    "        dwEI = -R.p['alpha1'] * np.outer(movAvgUpFRInhUnits,\n",
    "                                       (R.p['setUpFRInh'] - movAvgUpFRInhUnitsPreToPostExc)) * Hz\n",
    "        dwIE = -R.p['alpha1'] * np.outer(movAvgUpFRExcUnits,\n",
    "                                       (R.p['setUpFRExc'] - movAvgUpFRExcUnitsPreToPostInh)) * Hz\n",
    "        dwII = R.p['alpha1'] * np.outer(movAvgUpFRInhUnits,\n",
    "                                      (R.p['setUpFRExc'] - movAvgUpFRExcUnitsPreToPostInh)) * Hz\n",
    "\n",
    "        # save the mean absolute delta in pA\n",
    "        # dwEE et al MUST be matrices of the right size here\n",
    "        trialMAdwEE[trialInd] = np.mean(np.fabs(dwEE[R.preEE, R.posEE] / pA))\n",
    "        trialMAdwEI[trialInd] = np.mean(np.fabs(dwEI[R.preEI, R.posEI] / pA))\n",
    "        trialMAdwIE[trialInd] = np.mean(np.fabs(dwIE[R.preIE, R.posIE] / pA))\n",
    "        trialMAdwII[trialInd] = np.mean(np.fabs(dwII[R.preII, R.posII] / pA))\n",
    "\n",
    "    elif R.p['useRule'] == 'cross-homeo-pre-scalar':\n",
    "\n",
    "        dwEECH1 = R.p['alpha1'] * movAvgUpFRExcUnits * (R.p['setUpFRInh'] - movAvgUpFRInhUnits.mean()) / Hz\n",
    "        dwEICH1 = -R.p['alpha1'] * movAvgUpFRInhUnits * (R.p['setUpFRInh'] - movAvgUpFRInhUnits.mean()) / Hz\n",
    "        dwIECH1 = -R.p['alpha1'] * movAvgUpFRExcUnits * (R.p['setUpFRExc'] - movAvgUpFRExcUnits.mean()) / Hz\n",
    "        dwIICH1 = R.p['alpha1'] * movAvgUpFRInhUnits * (R.p['setUpFRExc'] - movAvgUpFRExcUnits.mean()) / Hz\n",
    "\n",
    "        dwEE = np.tile(dwEECH1.reshape(-1, 1), R.p['nExc'])\n",
    "        dwEI = np.tile(dwEICH1.reshape(-1, 1), R.p['nExc'])\n",
    "        dwIE = np.tile(dwIECH1.reshape(-1, 1), R.p['nInh'])\n",
    "        dwII = np.tile(dwIICH1.reshape(-1, 1), R.p['nInh'])\n",
    "\n",
    "        # save the mean absolute delta in pA\n",
    "        # dwEE et al MUST be matrices of the right size here\n",
    "        trialMAdwEE[trialInd] = np.mean(np.fabs(dwEE[R.preEE, R.posEE] / pA))\n",
    "        trialMAdwEI[trialInd] = np.mean(np.fabs(dwEI[R.preEI, R.posEI] / pA))\n",
    "        trialMAdwIE[trialInd] = np.mean(np.fabs(dwIE[R.preIE, R.posIE] / pA))\n",
    "        trialMAdwII[trialInd] = np.mean(np.fabs(dwII[R.preII, R.posII] / pA))\n",
    "\n",
    "    elif R.p['useRule'] == 'cross-homeo-pre-outer-homeo':\n",
    "\n",
    "        # cross-homeo with presynaptic multiplier (outer product)\n",
    "        # since outer strips units and because of alpha we multiply by Hz to convert to amps\n",
    "        dwEECH = R.p['alpha1'] * np.outer(movAvgUpFRExcUnits,\n",
    "                                        (R.p['setUpFRInh'] - movAvgUpFRInhUnitsPreToPostExc)) * Hz\n",
    "        dwEICH = -R.p['alpha1'] * np.outer(movAvgUpFRInhUnits,\n",
    "                                         (R.p['setUpFRInh'] - movAvgUpFRInhUnitsPreToPostExc)) * Hz\n",
    "        dwIECH = -R.p['alpha1'] * np.outer(movAvgUpFRExcUnits,\n",
    "                                         (R.p['setUpFRExc'] - movAvgUpFRExcUnitsPreToPostInh)) * Hz\n",
    "        dwIICH = R.p['alpha1'] * np.outer(movAvgUpFRInhUnits,\n",
    "                                        (R.p['setUpFRExc'] - movAvgUpFRExcUnitsPreToPostInh)) * Hz\n",
    "\n",
    "        # regular homeo (outer product)\n",
    "        # since outer strips units and because of alpha we multiply by Hz to convert to amps\n",
    "        dwEEH = R.p['alpha1'] * np.outer(movAvgUpFRExcUnits, (R.p['setUpFRExc'] - movAvgUpFRExcUnits)) * Hz\n",
    "        dwEIH = -R.p['alpha1'] * np.outer(movAvgUpFRInhUnits, (R.p['setUpFRExc'] - movAvgUpFRExcUnits)) * Hz\n",
    "        dwIEH = R.p['alpha1'] * np.outer(movAvgUpFRExcUnits, (R.p['setUpFRInh'] - movAvgUpFRInhUnits)) * Hz\n",
    "        dwIIH = -R.p['alpha1'] * np.outer(movAvgUpFRInhUnits, (R.p['setUpFRInh'] - movAvgUpFRInhUnits)) * Hz\n",
    "\n",
    "        dwEE = dwEECH + dwEEH\n",
    "        dwEI = dwEICH + dwEIH\n",
    "        dwIE = dwIECH + dwIEH\n",
    "        dwII = dwIICH + dwIIH\n",
    "\n",
    "        # save the mean absolute delta in pA\n",
    "        # dwEE et al MUST be matrices of the right size here\n",
    "        trialMAdwEE[trialInd] = np.mean(np.fabs(dwEE[R.preEE, R.posEE] / pA))\n",
    "        trialMAdwEI[trialInd] = np.mean(np.fabs(dwEI[R.preEI, R.posEI] / pA))\n",
    "        trialMAdwIE[trialInd] = np.mean(np.fabs(dwIE[R.preIE, R.posIE] / pA))\n",
    "        trialMAdwII[trialInd] = np.mean(np.fabs(dwII[R.preII, R.posII] / pA))\n",
    "        \n",
    "    elif R.p['useRule'] == 'cross-homeo-pre-scalar-homeo':\n",
    "\n",
    "        dwEECH = R.p['alpha1'] * movAvgUpFRExcUnits * (R.p['setUpFRInh'] - movAvgUpFRInhUnits.mean()) / Hz\n",
    "        dwEICH = -R.p['alpha1'] * movAvgUpFRInhUnits * (R.p['setUpFRInh'] - movAvgUpFRInhUnits.mean()) / Hz\n",
    "        dwIECH = -R.p['alpha1'] * movAvgUpFRExcUnits * (R.p['setUpFRExc'] - movAvgUpFRExcUnits.mean()) / Hz\n",
    "        dwIICH = R.p['alpha1'] * movAvgUpFRInhUnits * (R.p['setUpFRExc'] - movAvgUpFRExcUnits.mean()) / Hz\n",
    "\n",
    "        # regular homeo (outer product)\n",
    "        # since outer strips units and because of alpha we multiply by Hz to convert to amps\n",
    "        dwEEH = R.p['alpha1'] * np.outer(movAvgUpFRExcUnits, (R.p['setUpFRExc'] - movAvgUpFRExcUnits)) * Hz\n",
    "        dwEIH = -R.p['alpha1'] * np.outer(movAvgUpFRInhUnits, (R.p['setUpFRExc'] - movAvgUpFRExcUnits)) * Hz\n",
    "        dwIEH = R.p['alpha1'] * np.outer(movAvgUpFRExcUnits, (R.p['setUpFRInh'] - movAvgUpFRInhUnits)) * Hz\n",
    "        dwIIH = -R.p['alpha1'] * np.outer(movAvgUpFRInhUnits, (R.p['setUpFRInh'] - movAvgUpFRInhUnits)) * Hz\n",
    "\n",
    "        dwEE = dwEECH.reshape(-1, 1) + dwEEH\n",
    "        dwEI = dwEICH.reshape(-1, 1) + dwEIH\n",
    "        dwIE = dwIECH.reshape(-1, 1) + dwIEH\n",
    "        dwII = dwIICH.reshape(-1, 1) + dwIIH\n",
    "\n",
    "        # save the mean absolute delta in pA\n",
    "        # dwEE et al MUST be matrices of the right size here\n",
    "        trialMAdwEE[trialInd] = np.mean(np.fabs(dwEE[R.preEE, R.posEE] / pA))\n",
    "        trialMAdwEI[trialInd] = np.mean(np.fabs(dwEI[R.preEI, R.posEI] / pA))\n",
    "        trialMAdwIE[trialInd] = np.mean(np.fabs(dwIE[R.preIE, R.posIE] / pA))\n",
    "        trialMAdwII[trialInd] = np.mean(np.fabs(dwII[R.preII, R.posII] / pA))\n",
    "        \n",
    "t1 = datetime.now()\n",
    "print('took', t1-t0)"
   ]
  },
  {
   "cell_type": "code",
   "execution_count": 102,
   "metadata": {
    "scrolled": true
   },
   "outputs": [
    {
     "data": {
      "text/plain": [
       "[<matplotlib.lines.Line2D at 0x23923749808>]"
      ]
     },
     "execution_count": 102,
     "metadata": {},
     "output_type": "execute_result"
    }
   ],
   "source": [
    "f, ax = plt.subplots()\n",
    "ax.plot(trialMAdwEE)"
   ]
  },
  {
   "cell_type": "code",
   "execution_count": 5,
   "metadata": {
    "collapsed": true
   },
   "outputs": [
    {
     "name": "stdout",
     "output_type": "stream",
     "text": [
      "1\n",
      "1\n",
      "1\n",
      "1\n",
      "1\n",
      "1\n",
      "1\n",
      "1\n",
      "1\n",
      "1\n",
      "1\n",
      "1\n",
      "1\n",
      "1\n",
      "1\n",
      "1\n",
      "1\n",
      "1\n"
     ]
    }
   ],
   "source": [
    "# check something about each file...\n",
    "\n",
    "for seedInd in range(9):\n",
    "    targetFile1, targetFile2 = analysisDict[seedInd]\n",
    "    R1 = Results()\n",
    "    try:\n",
    "        R1.init_from_file(targetFile1, targetPath)\n",
    "        print(R1.p['tauUpFRTrials'])\n",
    "    except FileNotFoundError:\n",
    "        print('one of the files wasn''t found for some reason')\n",
    "    R2 = Results()\n",
    "    try:\n",
    "        R2.init_from_file(targetFile2, targetPath)\n",
    "        print(R2.p['tauUpFRTrials'])\n",
    "    except FileNotFoundError:\n",
    "        print('one of the files wasn''t found for some reason')"
   ]
  },
  {
   "cell_type": "code",
   "execution_count": 20,
   "metadata": {
    "collapsed": true
   },
   "outputs": [
    {
     "name": "stdout",
     "output_type": "stream",
     "text": [
      "classicJercog_2000_0p25_cross-homeo-pre-scalar-homeo_seed0__2021-08-21-09-33\n",
      "5. Hz 1 8. fC 0.98\n",
      "We think the first convergent index is 1164\n",
      "0.3438049879554385\n",
      "-0.25267338753683105\n",
      "0.1026854251972901\n",
      "-0.7582299550928737\n"
     ]
    },
    {
     "name": "stderr",
     "output_type": "stream",
     "text": [
      "WARNING    ..\\stats.py:17: RuntimeWarning: invalid value encountered in greater\n",
      "  a_outlying = np.logical_or(a > a_mean + sd_thresh * a_std, a < a_mean - sd_thresh * a_std)\n",
      " [py.warnings]\n",
      "WARNING    ..\\stats.py:17: RuntimeWarning: invalid value encountered in less\n",
      "  a_outlying = np.logical_or(a > a_mean + sd_thresh * a_std, a < a_mean - sd_thresh * a_std)\n",
      " [py.warnings]\n",
      "WARNING    ..\\analysis.py:320: RuntimeWarning: invalid value encountered in less\n",
      "  wFullInitPlot[wFullInitPlot < vlims[0]] = np.nan\n",
      " [py.warnings]\n",
      "WARNING    ..\\analysis.py:321: RuntimeWarning: invalid value encountered in greater\n",
      "  wFullInitPlot[wFullInitPlot > vlims[1]] = np.nan\n",
      " [py.warnings]\n",
      "WARNING    ..\\analysis.py:323: RuntimeWarning: invalid value encountered in less\n",
      "  wFullFinalPlot[wFullFinalPlot < vlims[0]] = np.nan\n",
      " [py.warnings]\n",
      "WARNING    ..\\analysis.py:324: RuntimeWarning: invalid value encountered in greater\n",
      "  wFullFinalPlot[wFullFinalPlot > vlims[1]] = np.nan\n",
      " [py.warnings]\n",
      "WARNING    C:\\Users\\mikejseay\\anaconda3\\lib\\site-packages\\numpy\\lib\\histograms.py:839: RuntimeWarning: invalid value encountered in greater_equal\n",
      "  keep = (tmp_a >= first_edge)\n",
      " [py.warnings]\n",
      "WARNING    C:\\Users\\mikejseay\\anaconda3\\lib\\site-packages\\numpy\\lib\\histograms.py:840: RuntimeWarning: invalid value encountered in less_equal\n",
      "  keep &= (tmp_a <= last_edge)\n",
      " [py.warnings]\n",
      "WARNING    ..\\analysis.py:357: RuntimeWarning: invalid value encountered in less\n",
      "  wFullInitPlot[wFullInitPlot < vlims[0]] = np.nan\n",
      " [py.warnings]\n",
      "WARNING    ..\\analysis.py:358: RuntimeWarning: invalid value encountered in greater\n",
      "  wFullInitPlot[wFullInitPlot > vlims[1]] = np.nan\n",
      " [py.warnings]\n",
      "WARNING    ..\\analysis.py:360: RuntimeWarning: invalid value encountered in less\n",
      "  wFullFinalPlot[wFullFinalPlot < vlims[0]] = np.nan\n",
      " [py.warnings]\n",
      "WARNING    ..\\analysis.py:361: RuntimeWarning: invalid value encountered in greater\n",
      "  wFullFinalPlot[wFullFinalPlot > vlims[1]] = np.nan\n",
      " [py.warnings]\n"
     ]
    },
    {
     "name": "stdout",
     "output_type": "stream",
     "text": [
      "classicJercog_2000_0p25_cross-homeo-pre-scalar-homeo_seed1__2021-08-21-09-34\n",
      "5. Hz 1 8. fC 0.98\n",
      "We think the first convergent index is 536\n",
      "1.9519028104149363\n",
      "-0.05276630252854969\n",
      "1.3321280892914467\n",
      "-2.0132216651786075\n"
     ]
    },
    {
     "name": "stderr",
     "output_type": "stream",
     "text": [
      "WARNING    ..\\stats.py:17: RuntimeWarning: invalid value encountered in greater\n",
      "  a_outlying = np.logical_or(a > a_mean + sd_thresh * a_std, a < a_mean - sd_thresh * a_std)\n",
      " [py.warnings]\n",
      "WARNING    ..\\stats.py:17: RuntimeWarning: invalid value encountered in less\n",
      "  a_outlying = np.logical_or(a > a_mean + sd_thresh * a_std, a < a_mean - sd_thresh * a_std)\n",
      " [py.warnings]\n",
      "WARNING    ..\\analysis.py:320: RuntimeWarning: invalid value encountered in less\n",
      "  wFullInitPlot[wFullInitPlot < vlims[0]] = np.nan\n",
      " [py.warnings]\n",
      "WARNING    ..\\analysis.py:321: RuntimeWarning: invalid value encountered in greater\n",
      "  wFullInitPlot[wFullInitPlot > vlims[1]] = np.nan\n",
      " [py.warnings]\n",
      "WARNING    ..\\analysis.py:323: RuntimeWarning: invalid value encountered in less\n",
      "  wFullFinalPlot[wFullFinalPlot < vlims[0]] = np.nan\n",
      " [py.warnings]\n",
      "WARNING    ..\\analysis.py:324: RuntimeWarning: invalid value encountered in greater\n",
      "  wFullFinalPlot[wFullFinalPlot > vlims[1]] = np.nan\n",
      " [py.warnings]\n",
      "WARNING    C:\\Users\\mikejseay\\anaconda3\\lib\\site-packages\\numpy\\lib\\histograms.py:839: RuntimeWarning: invalid value encountered in greater_equal\n",
      "  keep = (tmp_a >= first_edge)\n",
      " [py.warnings]\n",
      "WARNING    C:\\Users\\mikejseay\\anaconda3\\lib\\site-packages\\numpy\\lib\\histograms.py:840: RuntimeWarning: invalid value encountered in less_equal\n",
      "  keep &= (tmp_a <= last_edge)\n",
      " [py.warnings]\n",
      "WARNING    ..\\analysis.py:357: RuntimeWarning: invalid value encountered in less\n",
      "  wFullInitPlot[wFullInitPlot < vlims[0]] = np.nan\n",
      " [py.warnings]\n",
      "WARNING    ..\\analysis.py:358: RuntimeWarning: invalid value encountered in greater\n",
      "  wFullInitPlot[wFullInitPlot > vlims[1]] = np.nan\n",
      " [py.warnings]\n",
      "WARNING    ..\\analysis.py:360: RuntimeWarning: invalid value encountered in less\n",
      "  wFullFinalPlot[wFullFinalPlot < vlims[0]] = np.nan\n",
      " [py.warnings]\n",
      "WARNING    ..\\analysis.py:361: RuntimeWarning: invalid value encountered in greater\n",
      "  wFullFinalPlot[wFullFinalPlot > vlims[1]] = np.nan\n",
      " [py.warnings]\n"
     ]
    },
    {
     "name": "stdout",
     "output_type": "stream",
     "text": [
      "classicJercog_2000_0p25_cross-homeo-pre-scalar-homeo_seed2__2021-08-21-09-34\n",
      "5. Hz 1 8. fC 0.98\n",
      "We think the first convergent index is 5626\n",
      "1.7345976444595907\n",
      "0.7466571490226588\n",
      "1.018813379420174\n",
      "-1.0040977452787898\n"
     ]
    },
    {
     "ename": "KeyboardInterrupt",
     "evalue": "",
     "output_type": "error",
     "traceback": [
      "\u001b[1;31m---------------------------------------------------------------------------\u001b[0m",
      "\u001b[1;31mKeyboardInterrupt\u001b[0m                         Traceback (most recent call last)",
      "\u001b[1;32m<ipython-input-20-1d6e0dfb225a>\u001b[0m in \u001b[0;36m<module>\u001b[1;34m\u001b[0m\n\u001b[0;32m     52\u001b[0m     \u001b[0mplt\u001b[0m\u001b[1;33m.\u001b[0m\u001b[0msavefig\u001b[0m\u001b[1;33m(\u001b[0m\u001b[0mpdfObject\u001b[0m\u001b[1;33m,\u001b[0m \u001b[0mformat\u001b[0m\u001b[1;33m=\u001b[0m\u001b[1;34m'pdf'\u001b[0m\u001b[1;33m)\u001b[0m\u001b[1;33m\u001b[0m\u001b[1;33m\u001b[0m\u001b[0m\n\u001b[0;32m     53\u001b[0m     \u001b[0mweights_scatter_matrix\u001b[0m\u001b[1;33m(\u001b[0m\u001b[0mR\u001b[0m\u001b[1;33m,\u001b[0m \u001b[0mstartTrialInd\u001b[0m\u001b[1;33m=\u001b[0m\u001b[0mfirstConvergentInd\u001b[0m\u001b[1;33m)\u001b[0m\u001b[1;33m\u001b[0m\u001b[1;33m\u001b[0m\u001b[0m\n\u001b[1;32m---> 54\u001b[1;33m     \u001b[0mplt\u001b[0m\u001b[1;33m.\u001b[0m\u001b[0msavefig\u001b[0m\u001b[1;33m(\u001b[0m\u001b[0mpdfObject\u001b[0m\u001b[1;33m,\u001b[0m \u001b[0mformat\u001b[0m\u001b[1;33m=\u001b[0m\u001b[1;34m'pdf'\u001b[0m\u001b[1;33m)\u001b[0m\u001b[1;33m\u001b[0m\u001b[1;33m\u001b[0m\u001b[0m\n\u001b[0m\u001b[0;32m     55\u001b[0m \u001b[1;33m\u001b[0m\u001b[0m\n\u001b[0;32m     56\u001b[0m     \u001b[1;31m# epilogue\u001b[0m\u001b[1;33m\u001b[0m\u001b[1;33m\u001b[0m\u001b[1;33m\u001b[0m\u001b[0m\n",
      "\u001b[1;32m~\\anaconda3\\lib\\site-packages\\matplotlib\\pyplot.py\u001b[0m in \u001b[0;36msavefig\u001b[1;34m(*args, **kwargs)\u001b[0m\n\u001b[0;32m    727\u001b[0m \u001b[1;32mdef\u001b[0m \u001b[0msavefig\u001b[0m\u001b[1;33m(\u001b[0m\u001b[1;33m*\u001b[0m\u001b[0margs\u001b[0m\u001b[1;33m,\u001b[0m \u001b[1;33m**\u001b[0m\u001b[0mkwargs\u001b[0m\u001b[1;33m)\u001b[0m\u001b[1;33m:\u001b[0m\u001b[1;33m\u001b[0m\u001b[1;33m\u001b[0m\u001b[0m\n\u001b[0;32m    728\u001b[0m     \u001b[0mfig\u001b[0m \u001b[1;33m=\u001b[0m \u001b[0mgcf\u001b[0m\u001b[1;33m(\u001b[0m\u001b[1;33m)\u001b[0m\u001b[1;33m\u001b[0m\u001b[1;33m\u001b[0m\u001b[0m\n\u001b[1;32m--> 729\u001b[1;33m     \u001b[0mres\u001b[0m \u001b[1;33m=\u001b[0m \u001b[0mfig\u001b[0m\u001b[1;33m.\u001b[0m\u001b[0msavefig\u001b[0m\u001b[1;33m(\u001b[0m\u001b[1;33m*\u001b[0m\u001b[0margs\u001b[0m\u001b[1;33m,\u001b[0m \u001b[1;33m**\u001b[0m\u001b[0mkwargs\u001b[0m\u001b[1;33m)\u001b[0m\u001b[1;33m\u001b[0m\u001b[1;33m\u001b[0m\u001b[0m\n\u001b[0m\u001b[0;32m    730\u001b[0m     \u001b[0mfig\u001b[0m\u001b[1;33m.\u001b[0m\u001b[0mcanvas\u001b[0m\u001b[1;33m.\u001b[0m\u001b[0mdraw_idle\u001b[0m\u001b[1;33m(\u001b[0m\u001b[1;33m)\u001b[0m   \u001b[1;31m# need this if 'transparent=True' to reset colors\u001b[0m\u001b[1;33m\u001b[0m\u001b[1;33m\u001b[0m\u001b[0m\n\u001b[0;32m    731\u001b[0m     \u001b[1;32mreturn\u001b[0m \u001b[0mres\u001b[0m\u001b[1;33m\u001b[0m\u001b[1;33m\u001b[0m\u001b[0m\n",
      "\u001b[1;32m~\\anaconda3\\lib\\site-packages\\matplotlib\\figure.py\u001b[0m in \u001b[0;36msavefig\u001b[1;34m(self, fname, transparent, **kwargs)\u001b[0m\n\u001b[0;32m   2178\u001b[0m             \u001b[0mself\u001b[0m\u001b[1;33m.\u001b[0m\u001b[0mpatch\u001b[0m\u001b[1;33m.\u001b[0m\u001b[0mset_visible\u001b[0m\u001b[1;33m(\u001b[0m\u001b[0mframeon\u001b[0m\u001b[1;33m)\u001b[0m\u001b[1;33m\u001b[0m\u001b[1;33m\u001b[0m\u001b[0m\n\u001b[0;32m   2179\u001b[0m \u001b[1;33m\u001b[0m\u001b[0m\n\u001b[1;32m-> 2180\u001b[1;33m         \u001b[0mself\u001b[0m\u001b[1;33m.\u001b[0m\u001b[0mcanvas\u001b[0m\u001b[1;33m.\u001b[0m\u001b[0mprint_figure\u001b[0m\u001b[1;33m(\u001b[0m\u001b[0mfname\u001b[0m\u001b[1;33m,\u001b[0m \u001b[1;33m**\u001b[0m\u001b[0mkwargs\u001b[0m\u001b[1;33m)\u001b[0m\u001b[1;33m\u001b[0m\u001b[1;33m\u001b[0m\u001b[0m\n\u001b[0m\u001b[0;32m   2181\u001b[0m \u001b[1;33m\u001b[0m\u001b[0m\n\u001b[0;32m   2182\u001b[0m         \u001b[1;32mif\u001b[0m \u001b[0mframeon\u001b[0m\u001b[1;33m:\u001b[0m\u001b[1;33m\u001b[0m\u001b[1;33m\u001b[0m\u001b[0m\n",
      "\u001b[1;32m~\\anaconda3\\lib\\site-packages\\matplotlib\\backends\\backend_qt5agg.py\u001b[0m in \u001b[0;36mprint_figure\u001b[1;34m(self, *args, **kwargs)\u001b[0m\n\u001b[0;32m     92\u001b[0m \u001b[1;33m\u001b[0m\u001b[0m\n\u001b[0;32m     93\u001b[0m     \u001b[1;32mdef\u001b[0m \u001b[0mprint_figure\u001b[0m\u001b[1;33m(\u001b[0m\u001b[0mself\u001b[0m\u001b[1;33m,\u001b[0m \u001b[1;33m*\u001b[0m\u001b[0margs\u001b[0m\u001b[1;33m,\u001b[0m \u001b[1;33m**\u001b[0m\u001b[0mkwargs\u001b[0m\u001b[1;33m)\u001b[0m\u001b[1;33m:\u001b[0m\u001b[1;33m\u001b[0m\u001b[1;33m\u001b[0m\u001b[0m\n\u001b[1;32m---> 94\u001b[1;33m         \u001b[0msuper\u001b[0m\u001b[1;33m(\u001b[0m\u001b[1;33m)\u001b[0m\u001b[1;33m.\u001b[0m\u001b[0mprint_figure\u001b[0m\u001b[1;33m(\u001b[0m\u001b[1;33m*\u001b[0m\u001b[0margs\u001b[0m\u001b[1;33m,\u001b[0m \u001b[1;33m**\u001b[0m\u001b[0mkwargs\u001b[0m\u001b[1;33m)\u001b[0m\u001b[1;33m\u001b[0m\u001b[1;33m\u001b[0m\u001b[0m\n\u001b[0m\u001b[0;32m     95\u001b[0m         \u001b[0mself\u001b[0m\u001b[1;33m.\u001b[0m\u001b[0mdraw\u001b[0m\u001b[1;33m(\u001b[0m\u001b[1;33m)\u001b[0m\u001b[1;33m\u001b[0m\u001b[1;33m\u001b[0m\u001b[0m\n\u001b[0;32m     96\u001b[0m \u001b[1;33m\u001b[0m\u001b[0m\n",
      "\u001b[1;32m~\\anaconda3\\lib\\site-packages\\matplotlib\\backend_bases.py\u001b[0m in \u001b[0;36mprint_figure\u001b[1;34m(self, filename, dpi, facecolor, edgecolor, orientation, format, bbox_inches, **kwargs)\u001b[0m\n\u001b[0;32m   2089\u001b[0m                     \u001b[0morientation\u001b[0m\u001b[1;33m=\u001b[0m\u001b[0morientation\u001b[0m\u001b[1;33m,\u001b[0m\u001b[1;33m\u001b[0m\u001b[1;33m\u001b[0m\u001b[0m\n\u001b[0;32m   2090\u001b[0m                     \u001b[0mbbox_inches_restore\u001b[0m\u001b[1;33m=\u001b[0m\u001b[0m_bbox_inches_restore\u001b[0m\u001b[1;33m,\u001b[0m\u001b[1;33m\u001b[0m\u001b[1;33m\u001b[0m\u001b[0m\n\u001b[1;32m-> 2091\u001b[1;33m                     **kwargs)\n\u001b[0m\u001b[0;32m   2092\u001b[0m             \u001b[1;32mfinally\u001b[0m\u001b[1;33m:\u001b[0m\u001b[1;33m\u001b[0m\u001b[1;33m\u001b[0m\u001b[0m\n\u001b[0;32m   2093\u001b[0m                 \u001b[1;32mif\u001b[0m \u001b[0mbbox_inches\u001b[0m \u001b[1;32mand\u001b[0m \u001b[0mrestore_bbox\u001b[0m\u001b[1;33m:\u001b[0m\u001b[1;33m\u001b[0m\u001b[1;33m\u001b[0m\u001b[0m\n",
      "\u001b[1;32m~\\anaconda3\\lib\\site-packages\\matplotlib\\backends\\backend_pdf.py\u001b[0m in \u001b[0;36mprint_pdf\u001b[1;34m(self, filename, dpi, bbox_inches_restore, metadata, **kwargs)\u001b[0m\n\u001b[0;32m   2501\u001b[0m                 \u001b[0mRendererPdf\u001b[0m\u001b[1;33m(\u001b[0m\u001b[0mfile\u001b[0m\u001b[1;33m,\u001b[0m \u001b[0mdpi\u001b[0m\u001b[1;33m,\u001b[0m \u001b[0mheight\u001b[0m\u001b[1;33m,\u001b[0m \u001b[0mwidth\u001b[0m\u001b[1;33m)\u001b[0m\u001b[1;33m,\u001b[0m\u001b[1;33m\u001b[0m\u001b[1;33m\u001b[0m\u001b[0m\n\u001b[0;32m   2502\u001b[0m                 bbox_inches_restore=bbox_inches_restore)\n\u001b[1;32m-> 2503\u001b[1;33m             \u001b[0mself\u001b[0m\u001b[1;33m.\u001b[0m\u001b[0mfigure\u001b[0m\u001b[1;33m.\u001b[0m\u001b[0mdraw\u001b[0m\u001b[1;33m(\u001b[0m\u001b[0mrenderer\u001b[0m\u001b[1;33m)\u001b[0m\u001b[1;33m\u001b[0m\u001b[1;33m\u001b[0m\u001b[0m\n\u001b[0m\u001b[0;32m   2504\u001b[0m             \u001b[0mrenderer\u001b[0m\u001b[1;33m.\u001b[0m\u001b[0mfinalize\u001b[0m\u001b[1;33m(\u001b[0m\u001b[1;33m)\u001b[0m\u001b[1;33m\u001b[0m\u001b[1;33m\u001b[0m\u001b[0m\n\u001b[0;32m   2505\u001b[0m             \u001b[1;32mif\u001b[0m \u001b[1;32mnot\u001b[0m \u001b[0misinstance\u001b[0m\u001b[1;33m(\u001b[0m\u001b[0mfilename\u001b[0m\u001b[1;33m,\u001b[0m \u001b[0mPdfPages\u001b[0m\u001b[1;33m)\u001b[0m\u001b[1;33m:\u001b[0m\u001b[1;33m\u001b[0m\u001b[1;33m\u001b[0m\u001b[0m\n",
      "\u001b[1;32m~\\anaconda3\\lib\\site-packages\\matplotlib\\artist.py\u001b[0m in \u001b[0;36mdraw_wrapper\u001b[1;34m(artist, renderer, *args, **kwargs)\u001b[0m\n\u001b[0;32m     36\u001b[0m                 \u001b[0mrenderer\u001b[0m\u001b[1;33m.\u001b[0m\u001b[0mstart_filter\u001b[0m\u001b[1;33m(\u001b[0m\u001b[1;33m)\u001b[0m\u001b[1;33m\u001b[0m\u001b[1;33m\u001b[0m\u001b[0m\n\u001b[0;32m     37\u001b[0m \u001b[1;33m\u001b[0m\u001b[0m\n\u001b[1;32m---> 38\u001b[1;33m             \u001b[1;32mreturn\u001b[0m \u001b[0mdraw\u001b[0m\u001b[1;33m(\u001b[0m\u001b[0martist\u001b[0m\u001b[1;33m,\u001b[0m \u001b[0mrenderer\u001b[0m\u001b[1;33m,\u001b[0m \u001b[1;33m*\u001b[0m\u001b[0margs\u001b[0m\u001b[1;33m,\u001b[0m \u001b[1;33m**\u001b[0m\u001b[0mkwargs\u001b[0m\u001b[1;33m)\u001b[0m\u001b[1;33m\u001b[0m\u001b[1;33m\u001b[0m\u001b[0m\n\u001b[0m\u001b[0;32m     39\u001b[0m         \u001b[1;32mfinally\u001b[0m\u001b[1;33m:\u001b[0m\u001b[1;33m\u001b[0m\u001b[1;33m\u001b[0m\u001b[0m\n\u001b[0;32m     40\u001b[0m             \u001b[1;32mif\u001b[0m \u001b[0martist\u001b[0m\u001b[1;33m.\u001b[0m\u001b[0mget_agg_filter\u001b[0m\u001b[1;33m(\u001b[0m\u001b[1;33m)\u001b[0m \u001b[1;32mis\u001b[0m \u001b[1;32mnot\u001b[0m \u001b[1;32mNone\u001b[0m\u001b[1;33m:\u001b[0m\u001b[1;33m\u001b[0m\u001b[1;33m\u001b[0m\u001b[0m\n",
      "\u001b[1;32m~\\anaconda3\\lib\\site-packages\\matplotlib\\figure.py\u001b[0m in \u001b[0;36mdraw\u001b[1;34m(self, renderer)\u001b[0m\n\u001b[0;32m   1707\u001b[0m             \u001b[0mself\u001b[0m\u001b[1;33m.\u001b[0m\u001b[0mpatch\u001b[0m\u001b[1;33m.\u001b[0m\u001b[0mdraw\u001b[0m\u001b[1;33m(\u001b[0m\u001b[0mrenderer\u001b[0m\u001b[1;33m)\u001b[0m\u001b[1;33m\u001b[0m\u001b[1;33m\u001b[0m\u001b[0m\n\u001b[0;32m   1708\u001b[0m             mimage._draw_list_compositing_images(\n\u001b[1;32m-> 1709\u001b[1;33m                 renderer, self, artists, self.suppressComposite)\n\u001b[0m\u001b[0;32m   1710\u001b[0m \u001b[1;33m\u001b[0m\u001b[0m\n\u001b[0;32m   1711\u001b[0m             \u001b[0mrenderer\u001b[0m\u001b[1;33m.\u001b[0m\u001b[0mclose_group\u001b[0m\u001b[1;33m(\u001b[0m\u001b[1;34m'figure'\u001b[0m\u001b[1;33m)\u001b[0m\u001b[1;33m\u001b[0m\u001b[1;33m\u001b[0m\u001b[0m\n",
      "\u001b[1;32m~\\anaconda3\\lib\\site-packages\\matplotlib\\image.py\u001b[0m in \u001b[0;36m_draw_list_compositing_images\u001b[1;34m(renderer, parent, artists, suppress_composite)\u001b[0m\n\u001b[0;32m    133\u001b[0m     \u001b[1;32mif\u001b[0m \u001b[0mnot_composite\u001b[0m \u001b[1;32mor\u001b[0m \u001b[1;32mnot\u001b[0m \u001b[0mhas_images\u001b[0m\u001b[1;33m:\u001b[0m\u001b[1;33m\u001b[0m\u001b[1;33m\u001b[0m\u001b[0m\n\u001b[0;32m    134\u001b[0m         \u001b[1;32mfor\u001b[0m \u001b[0ma\u001b[0m \u001b[1;32min\u001b[0m \u001b[0martists\u001b[0m\u001b[1;33m:\u001b[0m\u001b[1;33m\u001b[0m\u001b[1;33m\u001b[0m\u001b[0m\n\u001b[1;32m--> 135\u001b[1;33m             \u001b[0ma\u001b[0m\u001b[1;33m.\u001b[0m\u001b[0mdraw\u001b[0m\u001b[1;33m(\u001b[0m\u001b[0mrenderer\u001b[0m\u001b[1;33m)\u001b[0m\u001b[1;33m\u001b[0m\u001b[1;33m\u001b[0m\u001b[0m\n\u001b[0m\u001b[0;32m    136\u001b[0m     \u001b[1;32melse\u001b[0m\u001b[1;33m:\u001b[0m\u001b[1;33m\u001b[0m\u001b[1;33m\u001b[0m\u001b[0m\n\u001b[0;32m    137\u001b[0m         \u001b[1;31m# Composite any adjacent images together\u001b[0m\u001b[1;33m\u001b[0m\u001b[1;33m\u001b[0m\u001b[1;33m\u001b[0m\u001b[0m\n",
      "\u001b[1;32m~\\anaconda3\\lib\\site-packages\\matplotlib\\artist.py\u001b[0m in \u001b[0;36mdraw_wrapper\u001b[1;34m(artist, renderer, *args, **kwargs)\u001b[0m\n\u001b[0;32m     36\u001b[0m                 \u001b[0mrenderer\u001b[0m\u001b[1;33m.\u001b[0m\u001b[0mstart_filter\u001b[0m\u001b[1;33m(\u001b[0m\u001b[1;33m)\u001b[0m\u001b[1;33m\u001b[0m\u001b[1;33m\u001b[0m\u001b[0m\n\u001b[0;32m     37\u001b[0m \u001b[1;33m\u001b[0m\u001b[0m\n\u001b[1;32m---> 38\u001b[1;33m             \u001b[1;32mreturn\u001b[0m \u001b[0mdraw\u001b[0m\u001b[1;33m(\u001b[0m\u001b[0martist\u001b[0m\u001b[1;33m,\u001b[0m \u001b[0mrenderer\u001b[0m\u001b[1;33m,\u001b[0m \u001b[1;33m*\u001b[0m\u001b[0margs\u001b[0m\u001b[1;33m,\u001b[0m \u001b[1;33m**\u001b[0m\u001b[0mkwargs\u001b[0m\u001b[1;33m)\u001b[0m\u001b[1;33m\u001b[0m\u001b[1;33m\u001b[0m\u001b[0m\n\u001b[0m\u001b[0;32m     39\u001b[0m         \u001b[1;32mfinally\u001b[0m\u001b[1;33m:\u001b[0m\u001b[1;33m\u001b[0m\u001b[1;33m\u001b[0m\u001b[0m\n\u001b[0;32m     40\u001b[0m             \u001b[1;32mif\u001b[0m \u001b[0martist\u001b[0m\u001b[1;33m.\u001b[0m\u001b[0mget_agg_filter\u001b[0m\u001b[1;33m(\u001b[0m\u001b[1;33m)\u001b[0m \u001b[1;32mis\u001b[0m \u001b[1;32mnot\u001b[0m \u001b[1;32mNone\u001b[0m\u001b[1;33m:\u001b[0m\u001b[1;33m\u001b[0m\u001b[1;33m\u001b[0m\u001b[0m\n",
      "\u001b[1;32m~\\anaconda3\\lib\\site-packages\\matplotlib\\axes\\_base.py\u001b[0m in \u001b[0;36mdraw\u001b[1;34m(self, renderer, inframe)\u001b[0m\n\u001b[0;32m   2645\u001b[0m             \u001b[0mrenderer\u001b[0m\u001b[1;33m.\u001b[0m\u001b[0mstop_rasterizing\u001b[0m\u001b[1;33m(\u001b[0m\u001b[1;33m)\u001b[0m\u001b[1;33m\u001b[0m\u001b[1;33m\u001b[0m\u001b[0m\n\u001b[0;32m   2646\u001b[0m \u001b[1;33m\u001b[0m\u001b[0m\n\u001b[1;32m-> 2647\u001b[1;33m         \u001b[0mmimage\u001b[0m\u001b[1;33m.\u001b[0m\u001b[0m_draw_list_compositing_images\u001b[0m\u001b[1;33m(\u001b[0m\u001b[0mrenderer\u001b[0m\u001b[1;33m,\u001b[0m \u001b[0mself\u001b[0m\u001b[1;33m,\u001b[0m \u001b[0martists\u001b[0m\u001b[1;33m)\u001b[0m\u001b[1;33m\u001b[0m\u001b[1;33m\u001b[0m\u001b[0m\n\u001b[0m\u001b[0;32m   2648\u001b[0m \u001b[1;33m\u001b[0m\u001b[0m\n\u001b[0;32m   2649\u001b[0m         \u001b[0mrenderer\u001b[0m\u001b[1;33m.\u001b[0m\u001b[0mclose_group\u001b[0m\u001b[1;33m(\u001b[0m\u001b[1;34m'axes'\u001b[0m\u001b[1;33m)\u001b[0m\u001b[1;33m\u001b[0m\u001b[1;33m\u001b[0m\u001b[0m\n",
      "\u001b[1;32m~\\anaconda3\\lib\\site-packages\\matplotlib\\image.py\u001b[0m in \u001b[0;36m_draw_list_compositing_images\u001b[1;34m(renderer, parent, artists, suppress_composite)\u001b[0m\n\u001b[0;32m    133\u001b[0m     \u001b[1;32mif\u001b[0m \u001b[0mnot_composite\u001b[0m \u001b[1;32mor\u001b[0m \u001b[1;32mnot\u001b[0m \u001b[0mhas_images\u001b[0m\u001b[1;33m:\u001b[0m\u001b[1;33m\u001b[0m\u001b[1;33m\u001b[0m\u001b[0m\n\u001b[0;32m    134\u001b[0m         \u001b[1;32mfor\u001b[0m \u001b[0ma\u001b[0m \u001b[1;32min\u001b[0m \u001b[0martists\u001b[0m\u001b[1;33m:\u001b[0m\u001b[1;33m\u001b[0m\u001b[1;33m\u001b[0m\u001b[0m\n\u001b[1;32m--> 135\u001b[1;33m             \u001b[0ma\u001b[0m\u001b[1;33m.\u001b[0m\u001b[0mdraw\u001b[0m\u001b[1;33m(\u001b[0m\u001b[0mrenderer\u001b[0m\u001b[1;33m)\u001b[0m\u001b[1;33m\u001b[0m\u001b[1;33m\u001b[0m\u001b[0m\n\u001b[0m\u001b[0;32m    136\u001b[0m     \u001b[1;32melse\u001b[0m\u001b[1;33m:\u001b[0m\u001b[1;33m\u001b[0m\u001b[1;33m\u001b[0m\u001b[0m\n\u001b[0;32m    137\u001b[0m         \u001b[1;31m# Composite any adjacent images together\u001b[0m\u001b[1;33m\u001b[0m\u001b[1;33m\u001b[0m\u001b[1;33m\u001b[0m\u001b[0m\n",
      "\u001b[1;32m~\\anaconda3\\lib\\site-packages\\matplotlib\\artist.py\u001b[0m in \u001b[0;36mdraw_wrapper\u001b[1;34m(artist, renderer, *args, **kwargs)\u001b[0m\n\u001b[0;32m     36\u001b[0m                 \u001b[0mrenderer\u001b[0m\u001b[1;33m.\u001b[0m\u001b[0mstart_filter\u001b[0m\u001b[1;33m(\u001b[0m\u001b[1;33m)\u001b[0m\u001b[1;33m\u001b[0m\u001b[1;33m\u001b[0m\u001b[0m\n\u001b[0;32m     37\u001b[0m \u001b[1;33m\u001b[0m\u001b[0m\n\u001b[1;32m---> 38\u001b[1;33m             \u001b[1;32mreturn\u001b[0m \u001b[0mdraw\u001b[0m\u001b[1;33m(\u001b[0m\u001b[0martist\u001b[0m\u001b[1;33m,\u001b[0m \u001b[0mrenderer\u001b[0m\u001b[1;33m,\u001b[0m \u001b[1;33m*\u001b[0m\u001b[0margs\u001b[0m\u001b[1;33m,\u001b[0m \u001b[1;33m**\u001b[0m\u001b[0mkwargs\u001b[0m\u001b[1;33m)\u001b[0m\u001b[1;33m\u001b[0m\u001b[1;33m\u001b[0m\u001b[0m\n\u001b[0m\u001b[0;32m     39\u001b[0m         \u001b[1;32mfinally\u001b[0m\u001b[1;33m:\u001b[0m\u001b[1;33m\u001b[0m\u001b[1;33m\u001b[0m\u001b[0m\n\u001b[0;32m     40\u001b[0m             \u001b[1;32mif\u001b[0m \u001b[0martist\u001b[0m\u001b[1;33m.\u001b[0m\u001b[0mget_agg_filter\u001b[0m\u001b[1;33m(\u001b[0m\u001b[1;33m)\u001b[0m \u001b[1;32mis\u001b[0m \u001b[1;32mnot\u001b[0m \u001b[1;32mNone\u001b[0m\u001b[1;33m:\u001b[0m\u001b[1;33m\u001b[0m\u001b[1;33m\u001b[0m\u001b[0m\n",
      "\u001b[1;32m~\\anaconda3\\lib\\site-packages\\matplotlib\\collections.py\u001b[0m in \u001b[0;36mdraw\u001b[1;34m(self, renderer)\u001b[0m\n\u001b[0;32m    864\u001b[0m     \u001b[1;32mdef\u001b[0m \u001b[0mdraw\u001b[0m\u001b[1;33m(\u001b[0m\u001b[0mself\u001b[0m\u001b[1;33m,\u001b[0m \u001b[0mrenderer\u001b[0m\u001b[1;33m)\u001b[0m\u001b[1;33m:\u001b[0m\u001b[1;33m\u001b[0m\u001b[1;33m\u001b[0m\u001b[0m\n\u001b[0;32m    865\u001b[0m         \u001b[0mself\u001b[0m\u001b[1;33m.\u001b[0m\u001b[0mset_sizes\u001b[0m\u001b[1;33m(\u001b[0m\u001b[0mself\u001b[0m\u001b[1;33m.\u001b[0m\u001b[0m_sizes\u001b[0m\u001b[1;33m,\u001b[0m \u001b[0mself\u001b[0m\u001b[1;33m.\u001b[0m\u001b[0mfigure\u001b[0m\u001b[1;33m.\u001b[0m\u001b[0mdpi\u001b[0m\u001b[1;33m)\u001b[0m\u001b[1;33m\u001b[0m\u001b[1;33m\u001b[0m\u001b[0m\n\u001b[1;32m--> 866\u001b[1;33m         \u001b[0mCollection\u001b[0m\u001b[1;33m.\u001b[0m\u001b[0mdraw\u001b[0m\u001b[1;33m(\u001b[0m\u001b[0mself\u001b[0m\u001b[1;33m,\u001b[0m \u001b[0mrenderer\u001b[0m\u001b[1;33m)\u001b[0m\u001b[1;33m\u001b[0m\u001b[1;33m\u001b[0m\u001b[0m\n\u001b[0m\u001b[0;32m    867\u001b[0m \u001b[1;33m\u001b[0m\u001b[0m\n\u001b[0;32m    868\u001b[0m \u001b[1;33m\u001b[0m\u001b[0m\n",
      "\u001b[1;32m~\\anaconda3\\lib\\site-packages\\matplotlib\\artist.py\u001b[0m in \u001b[0;36mdraw_wrapper\u001b[1;34m(artist, renderer, *args, **kwargs)\u001b[0m\n\u001b[0;32m     36\u001b[0m                 \u001b[0mrenderer\u001b[0m\u001b[1;33m.\u001b[0m\u001b[0mstart_filter\u001b[0m\u001b[1;33m(\u001b[0m\u001b[1;33m)\u001b[0m\u001b[1;33m\u001b[0m\u001b[1;33m\u001b[0m\u001b[0m\n\u001b[0;32m     37\u001b[0m \u001b[1;33m\u001b[0m\u001b[0m\n\u001b[1;32m---> 38\u001b[1;33m             \u001b[1;32mreturn\u001b[0m \u001b[0mdraw\u001b[0m\u001b[1;33m(\u001b[0m\u001b[0martist\u001b[0m\u001b[1;33m,\u001b[0m \u001b[0mrenderer\u001b[0m\u001b[1;33m,\u001b[0m \u001b[1;33m*\u001b[0m\u001b[0margs\u001b[0m\u001b[1;33m,\u001b[0m \u001b[1;33m**\u001b[0m\u001b[0mkwargs\u001b[0m\u001b[1;33m)\u001b[0m\u001b[1;33m\u001b[0m\u001b[1;33m\u001b[0m\u001b[0m\n\u001b[0m\u001b[0;32m     39\u001b[0m         \u001b[1;32mfinally\u001b[0m\u001b[1;33m:\u001b[0m\u001b[1;33m\u001b[0m\u001b[1;33m\u001b[0m\u001b[0m\n\u001b[0;32m     40\u001b[0m             \u001b[1;32mif\u001b[0m \u001b[0martist\u001b[0m\u001b[1;33m.\u001b[0m\u001b[0mget_agg_filter\u001b[0m\u001b[1;33m(\u001b[0m\u001b[1;33m)\u001b[0m \u001b[1;32mis\u001b[0m \u001b[1;32mnot\u001b[0m \u001b[1;32mNone\u001b[0m\u001b[1;33m:\u001b[0m\u001b[1;33m\u001b[0m\u001b[1;33m\u001b[0m\u001b[0m\n",
      "\u001b[1;32m~\\anaconda3\\lib\\site-packages\\matplotlib\\collections.py\u001b[0m in \u001b[0;36mdraw\u001b[1;34m(self, renderer)\u001b[0m\n\u001b[0;32m    327\u001b[0m                 \u001b[0mself\u001b[0m\u001b[1;33m.\u001b[0m\u001b[0m_linewidths\u001b[0m\u001b[1;33m,\u001b[0m \u001b[0mself\u001b[0m\u001b[1;33m.\u001b[0m\u001b[0m_linestyles\u001b[0m\u001b[1;33m,\u001b[0m\u001b[1;33m\u001b[0m\u001b[1;33m\u001b[0m\u001b[0m\n\u001b[0;32m    328\u001b[0m                 \u001b[0mself\u001b[0m\u001b[1;33m.\u001b[0m\u001b[0m_antialiaseds\u001b[0m\u001b[1;33m,\u001b[0m \u001b[0mself\u001b[0m\u001b[1;33m.\u001b[0m\u001b[0m_urls\u001b[0m\u001b[1;33m,\u001b[0m\u001b[1;33m\u001b[0m\u001b[1;33m\u001b[0m\u001b[0m\n\u001b[1;32m--> 329\u001b[1;33m                 self._offset_position)\n\u001b[0m\u001b[0;32m    330\u001b[0m \u001b[1;33m\u001b[0m\u001b[0m\n\u001b[0;32m    331\u001b[0m         \u001b[0mgc\u001b[0m\u001b[1;33m.\u001b[0m\u001b[0mrestore\u001b[0m\u001b[1;33m(\u001b[0m\u001b[1;33m)\u001b[0m\u001b[1;33m\u001b[0m\u001b[1;33m\u001b[0m\u001b[0m\n",
      "\u001b[1;32m~\\anaconda3\\lib\\site-packages\\matplotlib\\backends\\backend_pdf.py\u001b[0m in \u001b[0;36mdraw_path_collection\u001b[1;34m(self, gc, master_transform, paths, all_transforms, offsets, offsetTrans, facecolors, edgecolors, linewidths, linestyles, antialiaseds, urls, offset_position)\u001b[0m\n\u001b[0;32m   1747\u001b[0m             \u001b[0mdx\u001b[0m\u001b[1;33m,\u001b[0m \u001b[0mdy\u001b[0m \u001b[1;33m=\u001b[0m \u001b[0mxo\u001b[0m \u001b[1;33m-\u001b[0m \u001b[0mlastx\u001b[0m\u001b[1;33m,\u001b[0m \u001b[0myo\u001b[0m \u001b[1;33m-\u001b[0m \u001b[0mlasty\u001b[0m\u001b[1;33m\u001b[0m\u001b[1;33m\u001b[0m\u001b[0m\n\u001b[0;32m   1748\u001b[0m             output(1, 0, 0, 1, dx, dy, Op.concat_matrix, path_id,\n\u001b[1;32m-> 1749\u001b[1;33m                    Op.use_xobject)\n\u001b[0m\u001b[0;32m   1750\u001b[0m             \u001b[0mlastx\u001b[0m\u001b[1;33m,\u001b[0m \u001b[0mlasty\u001b[0m \u001b[1;33m=\u001b[0m \u001b[0mxo\u001b[0m\u001b[1;33m,\u001b[0m \u001b[0myo\u001b[0m\u001b[1;33m\u001b[0m\u001b[1;33m\u001b[0m\u001b[0m\n\u001b[0;32m   1751\u001b[0m         \u001b[0moutput\u001b[0m\u001b[1;33m(\u001b[0m\u001b[1;33m*\u001b[0m\u001b[0mself\u001b[0m\u001b[1;33m.\u001b[0m\u001b[0mgc\u001b[0m\u001b[1;33m.\u001b[0m\u001b[0mpop\u001b[0m\u001b[1;33m(\u001b[0m\u001b[1;33m)\u001b[0m\u001b[1;33m)\u001b[0m\u001b[1;33m\u001b[0m\u001b[1;33m\u001b[0m\u001b[0m\n",
      "\u001b[1;32m~\\anaconda3\\lib\\site-packages\\matplotlib\\backends\\backend_pdf.py\u001b[0m in \u001b[0;36moutput\u001b[1;34m(self, *data)\u001b[0m\n\u001b[0;32m    614\u001b[0m \u001b[1;33m\u001b[0m\u001b[0m\n\u001b[0;32m    615\u001b[0m     \u001b[1;32mdef\u001b[0m \u001b[0moutput\u001b[0m\u001b[1;33m(\u001b[0m\u001b[0mself\u001b[0m\u001b[1;33m,\u001b[0m \u001b[1;33m*\u001b[0m\u001b[0mdata\u001b[0m\u001b[1;33m)\u001b[0m\u001b[1;33m:\u001b[0m\u001b[1;33m\u001b[0m\u001b[1;33m\u001b[0m\u001b[0m\n\u001b[1;32m--> 616\u001b[1;33m         \u001b[0mself\u001b[0m\u001b[1;33m.\u001b[0m\u001b[0mwrite\u001b[0m\u001b[1;33m(\u001b[0m\u001b[0mfill\u001b[0m\u001b[1;33m(\u001b[0m\u001b[1;33m[\u001b[0m\u001b[0mpdfRepr\u001b[0m\u001b[1;33m(\u001b[0m\u001b[0mx\u001b[0m\u001b[1;33m)\u001b[0m \u001b[1;32mfor\u001b[0m \u001b[0mx\u001b[0m \u001b[1;32min\u001b[0m \u001b[0mdata\u001b[0m\u001b[1;33m]\u001b[0m\u001b[1;33m)\u001b[0m\u001b[1;33m)\u001b[0m\u001b[1;33m\u001b[0m\u001b[1;33m\u001b[0m\u001b[0m\n\u001b[0m\u001b[0;32m    617\u001b[0m         \u001b[0mself\u001b[0m\u001b[1;33m.\u001b[0m\u001b[0mwrite\u001b[0m\u001b[1;33m(\u001b[0m\u001b[1;34mb'\\n'\u001b[0m\u001b[1;33m)\u001b[0m\u001b[1;33m\u001b[0m\u001b[1;33m\u001b[0m\u001b[0m\n\u001b[0;32m    618\u001b[0m \u001b[1;33m\u001b[0m\u001b[0m\n",
      "\u001b[1;32m~\\anaconda3\\lib\\site-packages\\matplotlib\\backends\\backend_pdf.py\u001b[0m in \u001b[0;36mwrite\u001b[1;34m(self, data)\u001b[0m\n\u001b[0;32m    611\u001b[0m             \u001b[0mself\u001b[0m\u001b[1;33m.\u001b[0m\u001b[0mfh\u001b[0m\u001b[1;33m.\u001b[0m\u001b[0mwrite\u001b[0m\u001b[1;33m(\u001b[0m\u001b[0mdata\u001b[0m\u001b[1;33m)\u001b[0m\u001b[1;33m\u001b[0m\u001b[1;33m\u001b[0m\u001b[0m\n\u001b[0;32m    612\u001b[0m         \u001b[1;32melse\u001b[0m\u001b[1;33m:\u001b[0m\u001b[1;33m\u001b[0m\u001b[1;33m\u001b[0m\u001b[0m\n\u001b[1;32m--> 613\u001b[1;33m             \u001b[0mself\u001b[0m\u001b[1;33m.\u001b[0m\u001b[0mcurrentstream\u001b[0m\u001b[1;33m.\u001b[0m\u001b[0mwrite\u001b[0m\u001b[1;33m(\u001b[0m\u001b[0mdata\u001b[0m\u001b[1;33m)\u001b[0m\u001b[1;33m\u001b[0m\u001b[1;33m\u001b[0m\u001b[0m\n\u001b[0m\u001b[0;32m    614\u001b[0m \u001b[1;33m\u001b[0m\u001b[0m\n\u001b[0;32m    615\u001b[0m     \u001b[1;32mdef\u001b[0m \u001b[0moutput\u001b[0m\u001b[1;33m(\u001b[0m\u001b[0mself\u001b[0m\u001b[1;33m,\u001b[0m \u001b[1;33m*\u001b[0m\u001b[0mdata\u001b[0m\u001b[1;33m)\u001b[0m\u001b[1;33m:\u001b[0m\u001b[1;33m\u001b[0m\u001b[1;33m\u001b[0m\u001b[0m\n",
      "\u001b[1;32m~\\anaconda3\\lib\\site-packages\\matplotlib\\backends\\backend_pdf.py\u001b[0m in \u001b[0;36mwrite\u001b[1;34m(self, data)\u001b[0m\n\u001b[0;32m    409\u001b[0m             \u001b[0mself\u001b[0m\u001b[1;33m.\u001b[0m\u001b[0mfile\u001b[0m\u001b[1;33m.\u001b[0m\u001b[0mwrite\u001b[0m\u001b[1;33m(\u001b[0m\u001b[0mdata\u001b[0m\u001b[1;33m)\u001b[0m\u001b[1;33m\u001b[0m\u001b[1;33m\u001b[0m\u001b[0m\n\u001b[0;32m    410\u001b[0m         \u001b[1;32melse\u001b[0m\u001b[1;33m:\u001b[0m\u001b[1;33m\u001b[0m\u001b[1;33m\u001b[0m\u001b[0m\n\u001b[1;32m--> 411\u001b[1;33m             \u001b[0mcompressed\u001b[0m \u001b[1;33m=\u001b[0m \u001b[0mself\u001b[0m\u001b[1;33m.\u001b[0m\u001b[0mcompressobj\u001b[0m\u001b[1;33m.\u001b[0m\u001b[0mcompress\u001b[0m\u001b[1;33m(\u001b[0m\u001b[0mdata\u001b[0m\u001b[1;33m)\u001b[0m\u001b[1;33m\u001b[0m\u001b[1;33m\u001b[0m\u001b[0m\n\u001b[0m\u001b[0;32m    412\u001b[0m             \u001b[0mself\u001b[0m\u001b[1;33m.\u001b[0m\u001b[0mfile\u001b[0m\u001b[1;33m.\u001b[0m\u001b[0mwrite\u001b[0m\u001b[1;33m(\u001b[0m\u001b[0mcompressed\u001b[0m\u001b[1;33m)\u001b[0m\u001b[1;33m\u001b[0m\u001b[1;33m\u001b[0m\u001b[0m\n\u001b[0;32m    413\u001b[0m \u001b[1;33m\u001b[0m\u001b[0m\n",
      "\u001b[1;31mKeyboardInterrupt\u001b[0m: "
     ]
    }
   ],
   "source": [
    "# script to create all the figures for the multiTraining sessions\n",
    "\n",
    "for seedInd in range(9):\n",
    "    targetFile1, targetFile2 = analysisDict[seedInd]\n",
    "    R1 = Results()\n",
    "    R1.init_from_file(targetFile1, targetPath)\n",
    "    R2 = Results()\n",
    "    R2.init_from_file(targetFile2, targetPath)\n",
    "    R = combine_two_sessions(R1, R2)\n",
    "\n",
    "    print(R.rID)\n",
    "    print(R.p['setUpFRExc'], R.p['tauUpFRTrials'], R.p['alpha1'], R.p['spikeInputAmplitude'])\n",
    "    plt.close('all')\n",
    "    pdfObject = PdfPages(targetPath + 'reports/' + R.rID + '_report.pdf')\n",
    "    removeOutliers = False\n",
    "\n",
    "    generate_description(R)\n",
    "\n",
    "    FR_weights(R)\n",
    "    plt.savefig(pdfObject, format='pdf')\n",
    "\n",
    "    # firstConvergentInd = int(R.trialwEE.size / 2)\n",
    "    # firstConvergentInd = 4700\n",
    "    firstConvergentInd = determine_first_convergent_trial(R)\n",
    "    # firstConvergentInd = determine_first_convergent_trial(R) + 1500\n",
    "    print('We think the first convergent index is', firstConvergentInd)\n",
    "\n",
    "    determine_drift_rates(R, firstConvergentInd)\n",
    "    print(R.driftRateEE)\n",
    "    print(R.driftRateEI)\n",
    "    print(R.driftRateIE)\n",
    "    print(R.driftRateII)\n",
    "\n",
    "    # convergence process\n",
    "    FR_scatter(R, endTrialInd=firstConvergentInd)\n",
    "    plt.savefig(pdfObject, format='pdf')\n",
    "    FR_hist1d_compare(R, endTrialInd=firstConvergentInd)\n",
    "    plt.savefig(pdfObject, format='pdf')\n",
    "    FR_weights_std(R, endTrialInd=firstConvergentInd)\n",
    "    plt.savefig(pdfObject, format='pdf')\n",
    "    weights_scatter_matrix(R, endTrialInd=firstConvergentInd)\n",
    "    plt.savefig(pdfObject, format='pdf')\n",
    "\n",
    "    # post convergence\n",
    "    FR_scatter(R, startTrialInd=firstConvergentInd, removeOutliers=removeOutliers)\n",
    "    plt.savefig(pdfObject, format='pdf')\n",
    "    FR_hist2d(R, startTrialInd=firstConvergentInd, removeOutliers=removeOutliers)\n",
    "    plt.savefig(pdfObject, format='pdf')\n",
    "    FR_hist1d_compare(R, startTrialInd=firstConvergentInd)\n",
    "    plt.savefig(pdfObject, format='pdf')\n",
    "    FR_weights_std(R, startTrialInd=firstConvergentInd)\n",
    "    plt.savefig(pdfObject, format='pdf')\n",
    "    weights_scatter_matrix(R, startTrialInd=firstConvergentInd)\n",
    "    plt.savefig(pdfObject, format='pdf')\n",
    "\n",
    "    # epilogue\n",
    "    weights_hist1d_compare(R)\n",
    "    plt.savefig(pdfObject, format='pdf')\n",
    "    weights_matrix_compare(R)\n",
    "    plt.savefig(pdfObject, format='pdf')\n",
    "\n",
    "    pdfObject.close()"
   ]
  },
  {
   "cell_type": "code",
   "execution_count": 34,
   "metadata": {},
   "outputs": [],
   "source": [
    "overallDF.columns = overallDF.sort_index(axis=1, level=[0, 1], ascending=[True, True]).columns"
   ]
  }
 ],
 "metadata": {
  "kernelspec": {
   "display_name": "Python 3",
   "language": "python",
   "name": "python3"
  },
  "language_info": {
   "codemirror_mode": {
    "name": "ipython",
    "version": 3
   },
   "file_extension": ".py",
   "mimetype": "text/x-python",
   "name": "python",
   "nbconvert_exporter": "python",
   "pygments_lexer": "ipython3",
   "version": "3.7.6"
  }
 },
 "nbformat": 4,
 "nbformat_minor": 4
}

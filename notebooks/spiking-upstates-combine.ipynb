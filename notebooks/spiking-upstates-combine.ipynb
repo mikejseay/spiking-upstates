{
 "cells": [
  {
   "cell_type": "code",
   "execution_count": 1,
   "metadata": {},
   "outputs": [
    {
     "name": "stdout",
     "output_type": "stream",
     "text": [
      "Using matplotlib backend: Qt5Agg\n"
     ]
    },
    {
     "name": "stderr",
     "output_type": "stream",
     "text": [
      "INFO       Cache size for target \"cython\": 14433 MB.\n",
      "You can call \"clear_cache('cython')\" to delete all files from the cache or manually delete files in the \"C:\\Users\\mikejseay\\.cython\\brian_extensions\" directory. [brian2]\n"
     ]
    }
   ],
   "source": [
    "# to add the spiking model codebase to the path\n",
    "import sys\n",
    "sys.path.append('..')\n",
    "\n",
    "%matplotlib\n",
    "import matplotlib.pyplot as plt\n",
    "import matplotlib.colors as colors\n",
    "from matplotlib.animation import FuncAnimation\n",
    "# plt.style.use('seaborn-pastel')\n",
    "\n",
    "from brian2 import pA, Hz, second, ms\n",
    "import numpy as np\n",
    "\n",
    "from results import Results\n",
    "from plot import (MidpointNormalize, weight_matrix, remove_axes_less, prune_figure, prune_figure_less, prune_figure_more,\n",
    "                  plot_spike_raster, plot_firing_rate, plot_voltage_detail)\n",
    "from generate import weight_matrix_from_flat_inds_weights, adjacency_matrix_from_flat_inds"
   ]
  },
  {
   "cell_type": "code",
   "execution_count": 2,
   "metadata": {},
   "outputs": [],
   "source": [
    "plt.close('all')"
   ]
  },
  {
   "cell_type": "code",
   "execution_count": 4,
   "metadata": {},
   "outputs": [],
   "source": [
    "targetPath = 'C:/Users/mikejseay/Documents/BrianResults/'\n",
    "targetFile1 = 'classicJercog_2000_0p25_cross-homeo-pre-scalar-homeo_seed0__2021-08-21-09-33_results'\n",
    "targetFile2 = 'classicJercog_2000_0p25_cross-homeo-pre-scalar-homeo-reMean_seed0_reMean_2021-08-20-10-07_results'"
   ]
  },
  {
   "cell_type": "code",
   "execution_count": 5,
   "metadata": {},
   "outputs": [],
   "source": [
    "R1 = Results()\n",
    "R1.init_from_file(targetFile1, targetPath)\n",
    "R2 = Results()\n",
    "R2.init_from_file(targetFile2, targetPath)"
   ]
  },
  {
   "cell_type": "code",
   "execution_count": 25,
   "metadata": {},
   "outputs": [],
   "source": [
    "# R will concatenate the \"trials\" dimension of R1 and R2 for all \"trial-based\" attributes...\n",
    "\n",
    "R = Results()\n",
    "for attribute in dir(R1):\n",
    "    if attribute[0] == '_':\n",
    "        continue\n",
    "    setattr(R, attribute, getattr(R1, attribute))\n",
    "for attribute in dir(R1):\n",
    "    if attribute[0] == '_':\n",
    "        continue\n",
    "    if isinstance(getattr(R1, attribute), np.ndarray):\n",
    "        a = getattr(R1, attribute)\n",
    "        if R1.p['nTrials'] in a.shape:\n",
    "            useAxis = a.shape.index(R1.p['nTrials'])\n",
    "            setattr(R, attribute, np.concatenate((getattr(R1, attribute), getattr(R2, attribute), ), axis=useAxis))"
   ]
  }
 ],
 "metadata": {
  "kernelspec": {
   "display_name": "Python 3",
   "language": "python",
   "name": "python3"
  },
  "language_info": {
   "codemirror_mode": {
    "name": "ipython",
    "version": 3
   },
   "file_extension": ".py",
   "mimetype": "text/x-python",
   "name": "python",
   "nbconvert_exporter": "python",
   "pygments_lexer": "ipython3",
   "version": "3.7.6"
  }
 },
 "nbformat": 4,
 "nbformat_minor": 4
}

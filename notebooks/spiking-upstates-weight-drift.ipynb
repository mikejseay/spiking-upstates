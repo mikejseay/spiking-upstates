{
 "cells": [
  {
   "cell_type": "code",
   "execution_count": 1,
   "metadata": {},
   "outputs": [
    {
     "name": "stdout",
     "output_type": "stream",
     "text": [
      "Using matplotlib backend: Qt5Agg\n"
     ]
    },
    {
     "name": "stderr",
     "output_type": "stream",
     "text": [
      "INFO       Cache size for target \"cython\": 14562 MB.\n",
      "You can call \"clear_cache('cython')\" to delete all files from the cache or manually delete files in the \"C:\\Users\\mikejseay\\.cython\\brian_extensions\" directory. [brian2]\n"
     ]
    }
   ],
   "source": [
    "# to add the spiking model codebase to the path\n",
    "import sys\n",
    "sys.path.append('..')\n",
    "\n",
    "%matplotlib\n",
    "import matplotlib.pyplot as plt\n",
    "import matplotlib.colors as colors\n",
    "from matplotlib.animation import FuncAnimation\n",
    "# plt.style.use('seaborn-pastel')\n",
    "\n",
    "from brian2 import pA, Hz, second, ms\n",
    "import numpy as np\n",
    "\n",
    "from results import Results\n",
    "from plot import (MidpointNormalize, weight_matrix, remove_axes_less, prune_figure, prune_figure_less, prune_figure_more,\n",
    "                  plot_spike_raster, plot_firing_rate, plot_voltage_detail)\n",
    "\n",
    "from generate import weight_matrix_from_flat_inds_weights, adjacency_matrix_from_flat_inds, generate_adjacency_indices_within\n",
    "import pandas as pd\n",
    "from sklearn.neighbors import KernelDensity\n",
    "def cv(a):\n",
    "    return a.std() / a.mean()"
   ]
  },
  {
   "cell_type": "code",
   "execution_count": 391,
   "metadata": {},
   "outputs": [],
   "source": [
    "plt.close('all')"
   ]
  },
  {
   "cell_type": "code",
   "execution_count": 3,
   "metadata": {},
   "outputs": [],
   "source": [
    "targetPath = 'C:/Users/mikejseay/Documents/BrianResults/'\n",
    "# targetPath = 'C:/Users/mikejseay/Documents/BrianResultsHoff/'"
   ]
  },
  {
   "cell_type": "code",
   "execution_count": 4,
   "metadata": {},
   "outputs": [],
   "source": [
    "targetFile1 = 'classicJercog_2000_0p25_cross-homeo-pre-scalar-homeo_guessGoodWeights2e3p025LogNormal_movAvg1_2021-08-05-11-02_results'  # converges at 330+\n",
    "targetFile2 = 'classicJercog_2000_1_cross-homeo-pre-scalar-homeo_guessGoodWeights2e3p1LogNormal_fullConn_2021-08-13-09-38_results'  # converges at 230+"
   ]
  },
  {
   "cell_type": "code",
   "execution_count": 5,
   "metadata": {},
   "outputs": [
    {
     "name": "stdout",
     "output_type": "stream",
     "text": [
      "wEE mult: 0.9607961654663084\n",
      "wIE mult: 0.9257208082411026\n",
      "wEI mult: 1.046995162963867\n",
      "wII mult: 0.8950419249358\n"
     ]
    }
   ],
   "source": [
    "R1 = Results()\n",
    "R1.init_from_file(targetFile1, targetPath)\n",
    "\n",
    "if R1.p['useRule'][:5] == 'cross':\n",
    "    R1.p['alpha2'] = -1e-12\n",
    "    R1.p['tauPlasticityTrials'] = None\n",
    "elif R1.p['useRule'] == 'homeo':\n",
    "    R1.p['alpha2'] = -1e-12\n",
    "    R1.p['tauPlasticityTrials'] = None\n",
    "\n",
    "if 'wEEScale' not in R1.p:\n",
    "    R1.p['wEEScale'] = None\n",
    "    R1.p['wIEScale'] = None\n",
    "    R1.p['wEIScale'] = None\n",
    "    R1.p['wIIScale'] = None\n",
    "\n",
    "importantInfoString = 'Name: {}\\nEE: {}, IE: {}, EI: {}, II: {}\\n tauFR={}, a1={:.4f} pA, a2={:.4f} pA, tauP={}'.format(R1.rID,\n",
    "    R1.p['wEEScale'],R1.p['wIEScale'],R1.p['wEIScale'],R1.p['wIIScale'],\n",
    "    R1.p['tauUpFRTrials'], R1.p['alpha1'] / pA, R1.p['alpha2'] / pA, R1.p['tauPlasticityTrials'])\n",
    "\n",
    "wEEInit1 = weight_matrix_from_flat_inds_weights(R1.p['nExc'], R1.p['nExc'], R1.preEE, R1.posEE, R1.wEE_init)\n",
    "wIEInit1 = weight_matrix_from_flat_inds_weights(R1.p['nExc'], R1.p['nInh'], R1.preIE, R1.posIE, R1.wIE_init)\n",
    "wEIInit1 = weight_matrix_from_flat_inds_weights(R1.p['nInh'], R1.p['nExc'], R1.preEI, R1.posEI, R1.wEI_init)\n",
    "wIIInit1 = weight_matrix_from_flat_inds_weights(R1.p['nInh'], R1.p['nInh'], R1.preII, R1.posII, R1.wII_init)\n",
    "\n",
    "wEEFinal1 = weight_matrix_from_flat_inds_weights(R1.p['nExc'], R1.p['nExc'], R1.preEE, R1.posEE, R1.wEE_final)\n",
    "wIEFinal1 = weight_matrix_from_flat_inds_weights(R1.p['nExc'], R1.p['nInh'], R1.preIE, R1.posIE, R1.wIE_final)\n",
    "wEIFinal1 = weight_matrix_from_flat_inds_weights(R1.p['nInh'], R1.p['nExc'], R1.preEI, R1.posEI, R1.wEI_final)\n",
    "wIIFinal1 = weight_matrix_from_flat_inds_weights(R1.p['nInh'], R1.p['nInh'], R1.preII, R1.posII, R1.wII_final)\n",
    "\n",
    "wFullInit1 = np.block([[wEEInit1, wIEInit1], [-wEIInit1, -wIIInit1]])\n",
    "wFullFinal1 = np.block([[wEEFinal1, wIEFinal1], [-wEIFinal1, -wIIFinal1]])\n",
    "\n",
    "# get summed presynaptic input to each unit\n",
    "\n",
    "wEEInitP1 = np.nansum(wEEInit1, 0)\n",
    "wIEInitP1 = np.nansum(wIEInit1, 0)\n",
    "wEIInitP1 = np.nansum(wEIInit1, 0)\n",
    "wIIInitP1 = np.nansum(wIIInit1, 0)\n",
    "\n",
    "wEEFinalP1 = np.nansum(wEEFinal1, 0)\n",
    "wIEFinalP1 = np.nansum(wIEFinal1, 0)\n",
    "wEIFinalP1 = np.nansum(wEIFinal1, 0)\n",
    "wIIFinalP1 = np.nansum(wIIFinal1, 0)\n",
    "\n",
    "print('wEE mult:', R1.wEE_final.mean() / R1.wEE_init.mean())\n",
    "print('wIE mult:', R1.wIE_final.mean() / R1.wIE_init.mean())\n",
    "print('wEI mult:', R1.wEI_final.mean() / R1.wEI_init.mean())\n",
    "print('wII mult:', R1.wII_final.mean() / R1.wII_init.mean())"
   ]
  },
  {
   "cell_type": "code",
   "execution_count": 6,
   "metadata": {},
   "outputs": [
    {
     "name": "stdout",
     "output_type": "stream",
     "text": [
      "wEE mult: 1.0086468378702806\n",
      "wIE mult: 1.0044846428765195\n",
      "wEI mult: 0.987797370323768\n",
      "wII mult: 0.9804810418023001\n"
     ]
    }
   ],
   "source": [
    "R2 = Results()\n",
    "R2.init_from_file(targetFile2, targetPath)\n",
    "\n",
    "if R2.p['useRule'][:5] == 'cross':\n",
    "    R2.p['alpha2'] = -1e-12\n",
    "    R2.p['tauPlasticityTrials'] = None\n",
    "elif R2.p['useRule'] == 'homeo':\n",
    "    R2.p['alpha2'] = -1e-12\n",
    "    R2.p['tauPlasticityTrials'] = None\n",
    "\n",
    "if 'wEEScale' not in R2.p:\n",
    "    R2.p['wEEScale'] = None\n",
    "    R2.p['wIEScale'] = None\n",
    "    R2.p['wEIScale'] = None\n",
    "    R2.p['wIIScale'] = None\n",
    "\n",
    "importantInfoString = 'Name: {}\\nEE: {}, IE: {}, EI: {}, II: {}\\n tauFR={}, a2={:.4f} pA, a2={:.4f} pA, tauP={}'.format(R2.rID,\n",
    "    R2.p['wEEScale'],R2.p['wIEScale'],R2.p['wEIScale'],R2.p['wIIScale'],\n",
    "    R2.p['tauUpFRTrials'], R2.p['alpha2'] / pA, R2.p['alpha2'] / pA, R2.p['tauPlasticityTrials'])\n",
    "\n",
    "wEEInit2 = weight_matrix_from_flat_inds_weights(R2.p['nExc'], R2.p['nExc'], R2.preEE, R2.posEE, R2.wEE_init)\n",
    "wIEInit2 = weight_matrix_from_flat_inds_weights(R2.p['nExc'], R2.p['nInh'], R2.preIE, R2.posIE, R2.wIE_init)\n",
    "wEIInit2 = weight_matrix_from_flat_inds_weights(R2.p['nInh'], R2.p['nExc'], R2.preEI, R2.posEI, R2.wEI_init)\n",
    "wIIInit2 = weight_matrix_from_flat_inds_weights(R2.p['nInh'], R2.p['nInh'], R2.preII, R2.posII, R2.wII_init)\n",
    "\n",
    "wEEFinal2 = weight_matrix_from_flat_inds_weights(R2.p['nExc'], R2.p['nExc'], R2.preEE, R2.posEE, R2.wEE_final)\n",
    "wIEFinal2 = weight_matrix_from_flat_inds_weights(R2.p['nExc'], R2.p['nInh'], R2.preIE, R2.posIE, R2.wIE_final)\n",
    "wEIFinal2 = weight_matrix_from_flat_inds_weights(R2.p['nInh'], R2.p['nExc'], R2.preEI, R2.posEI, R2.wEI_final)\n",
    "wIIFinal2 = weight_matrix_from_flat_inds_weights(R2.p['nInh'], R2.p['nInh'], R2.preII, R2.posII, R2.wII_final)\n",
    "\n",
    "wFullInit2 = np.block([[wEEInit2, wIEInit2], [-wEIInit2, -wIIInit2]])\n",
    "wFullFinal2 = np.block([[wEEFinal2, wIEFinal2], [-wEIFinal2, -wIIFinal2]])\n",
    "\n",
    "# get summed presynaptic input to each unit\n",
    "\n",
    "wEEInitP2 = np.nansum(wEEInit2, 0)\n",
    "wIEInitP2 = np.nansum(wIEInit2, 0)\n",
    "wEIInitP2 = np.nansum(wEIInit2, 0)\n",
    "wIIInitP2 = np.nansum(wIIInit2, 0)\n",
    "\n",
    "wEEFinalP2 = np.nansum(wEEFinal2, 0)\n",
    "wIEFinalP2 = np.nansum(wIEFinal2, 0)\n",
    "wEIFinalP2 = np.nansum(wEIFinal2, 0)\n",
    "wIIFinalP2 = np.nansum(wIIFinal2, 0)\n",
    "\n",
    "print('wEE mult:', R2.wEE_final.mean() / R2.wEE_init.mean())\n",
    "print('wIE mult:', R2.wIE_final.mean() / R2.wIE_init.mean())\n",
    "print('wEI mult:', R2.wEI_final.mean() / R2.wEI_init.mean())\n",
    "print('wII mult:', R2.wII_final.mean() / R2.wII_init.mean())"
   ]
  },
  {
   "cell_type": "code",
   "execution_count": 7,
   "metadata": {},
   "outputs": [],
   "source": [
    "# let's set up an artificial learning scenario\n",
    "# we will start with weight matrices from the \"full connectivity\"\n",
    "# we will also start with some post-convergence trial position\n",
    "# we will take the individual unit firing rates at that position\n",
    "# then we will calculate the proposed weight changes given each interpretation of the matrices"
   ]
  },
  {
   "cell_type": "code",
   "execution_count": 7,
   "metadata": {},
   "outputs": [],
   "source": [
    "p = R1.p"
   ]
  },
  {
   "cell_type": "code",
   "execution_count": 8,
   "metadata": {},
   "outputs": [],
   "source": [
    "plt.close('all')"
   ]
  },
  {
   "cell_type": "code",
   "execution_count": 9,
   "metadata": {},
   "outputs": [],
   "source": [
    "# save the difference in the mean between the full and sparse II mat for each trial\n",
    "# in 3 scenarios:\n",
    "# 1: fromSim: the actual observed individual unit firing rates\n",
    "# 2: randn1: normally distributed firing rates near the set point\n",
    "# 3: randn2: normally distibuted but biased to be low\n",
    "\n",
    "dwIIFullMeanTrial1 = np.empty(R1.trialUpFRExc.size)\n",
    "dwIISparseMeanTrial1 = np.empty(R1.trialUpFRExc.size)\n",
    "dwIIFullMeanTrial2 = np.empty(R1.trialUpFRExc.size)\n",
    "dwIISparseMeanTrial2 = np.empty(R1.trialUpFRExc.size)\n",
    "dwIIFullMeanTrial3 = np.empty(R1.trialUpFRExc.size)\n",
    "dwIISparseMeanTrial3 = np.empty(R1.trialUpFRExc.size)\n",
    "\n",
    "commonRand = np.random.normal(0, 0.05, R1.trialUpFRExc.size)\n",
    "dummyInd = 0\n",
    "\n",
    "for trialInd in range(R1.trialUpFRExc.size):\n",
    "    movAvgUpFRInhUnits1 = R1.trialUpFRInhUnits[trialInd, :] * Hz\n",
    "    movAvgUpFRInhUnits2 = np.random.normal(1, 0.1, p['nInh']) * p['setUpFRInh']\n",
    "    movAvgUpFRInhUnits3 = p['setUpFRInh'] + (commonRand[dummyInd] * p['setUpFRInh']) + np.random.normal(0, 0.1, p['nInh']) * p['setUpFRInh']\n",
    "    dwIIHCurrent1 = -np.outer(movAvgUpFRInhUnits1, (p['setUpFRInh'] - movAvgUpFRInhUnits1))\n",
    "    dwIIHCurrent2 = -np.outer(movAvgUpFRInhUnits2, (p['setUpFRInh'] - movAvgUpFRInhUnits2))\n",
    "    dwIIHCurrent3 = -np.outer(movAvgUpFRInhUnits3, (p['setUpFRInh'] - movAvgUpFRInhUnits3))\n",
    "    dwIIFullMeanTrial1[trialInd] = dwIIHCurrent1.mean()\n",
    "    dwIISparseMeanTrial1[trialInd] = dwIIHCurrent1[R1.preII, R1.posII].mean()\n",
    "    dwIIFullMeanTrial2[trialInd] = dwIIHCurrent2.mean()\n",
    "    dwIISparseMeanTrial2[trialInd] = dwIIHCurrent2[R1.preII, R1.posII].mean()\n",
    "    dwIIFullMeanTrial3[trialInd] = dwIIHCurrent3.mean()\n",
    "    dwIISparseMeanTrial3[trialInd] = dwIIHCurrent3[R1.preII, R1.posII].mean()\n",
    "    dummyInd += 1\n",
    "\n",
    "dwIIFullSparseDiffTrials1 = dwIISparseMeanTrial1 - dwIIFullMeanTrial1\n",
    "dwIIFullSparseDiffTrials2 = dwIISparseMeanTrial2 - dwIIFullMeanTrial2\n",
    "dwIIFullSparseDiffTrials3 = dwIISparseMeanTrial3 - dwIIFullMeanTrial3"
   ]
  },
  {
   "cell_type": "code",
   "execution_count": 10,
   "metadata": {
    "scrolled": true
   },
   "outputs": [],
   "source": [
    "inhDF = pd.DataFrame({'fromSim': movAvgUpFRInhUnits1,\n",
    "                      'randn1': movAvgUpFRInhUnits2,\n",
    "                      'randn2': movAvgUpFRInhUnits3})"
   ]
  },
  {
   "cell_type": "code",
   "execution_count": 11,
   "metadata": {
    "collapsed": true
   },
   "outputs": [
    {
     "data": {
      "text/html": [
       "<div>\n",
       "<style scoped>\n",
       "    .dataframe tbody tr th:only-of-type {\n",
       "        vertical-align: middle;\n",
       "    }\n",
       "\n",
       "    .dataframe tbody tr th {\n",
       "        vertical-align: top;\n",
       "    }\n",
       "\n",
       "    .dataframe thead th {\n",
       "        text-align: right;\n",
       "    }\n",
       "</style>\n",
       "<table border=\"1\" class=\"dataframe\">\n",
       "  <thead>\n",
       "    <tr style=\"text-align: right;\">\n",
       "      <th></th>\n",
       "      <th>fromSim</th>\n",
       "      <th>randn1</th>\n",
       "      <th>randn2</th>\n",
       "    </tr>\n",
       "  </thead>\n",
       "  <tbody>\n",
       "    <tr>\n",
       "      <th>count</th>\n",
       "      <td>400.000000</td>\n",
       "      <td>400.000000</td>\n",
       "      <td>400.000000</td>\n",
       "    </tr>\n",
       "    <tr>\n",
       "      <th>mean</th>\n",
       "      <td>14.033333</td>\n",
       "      <td>13.995539</td>\n",
       "      <td>13.455829</td>\n",
       "    </tr>\n",
       "    <tr>\n",
       "      <th>std</th>\n",
       "      <td>2.987182</td>\n",
       "      <td>1.478974</td>\n",
       "      <td>1.464156</td>\n",
       "    </tr>\n",
       "    <tr>\n",
       "      <th>min</th>\n",
       "      <td>5.925926</td>\n",
       "      <td>9.580195</td>\n",
       "      <td>8.356762</td>\n",
       "    </tr>\n",
       "    <tr>\n",
       "      <th>25%</th>\n",
       "      <td>11.851852</td>\n",
       "      <td>13.024114</td>\n",
       "      <td>12.443207</td>\n",
       "    </tr>\n",
       "    <tr>\n",
       "      <th>50%</th>\n",
       "      <td>14.074074</td>\n",
       "      <td>13.894081</td>\n",
       "      <td>13.443605</td>\n",
       "    </tr>\n",
       "    <tr>\n",
       "      <th>75%</th>\n",
       "      <td>16.296296</td>\n",
       "      <td>15.017009</td>\n",
       "      <td>14.451009</td>\n",
       "    </tr>\n",
       "    <tr>\n",
       "      <th>max</th>\n",
       "      <td>27.407407</td>\n",
       "      <td>19.559547</td>\n",
       "      <td>18.063289</td>\n",
       "    </tr>\n",
       "  </tbody>\n",
       "</table>\n",
       "</div>"
      ],
      "text/plain": [
       "          fromSim      randn1      randn2\n",
       "count  400.000000  400.000000  400.000000\n",
       "mean    14.033333   13.995539   13.455829\n",
       "std      2.987182    1.478974    1.464156\n",
       "min      5.925926    9.580195    8.356762\n",
       "25%     11.851852   13.024114   12.443207\n",
       "50%     14.074074   13.894081   13.443605\n",
       "75%     16.296296   15.017009   14.451009\n",
       "max     27.407407   19.559547   18.063289"
      ]
     },
     "execution_count": 11,
     "metadata": {},
     "output_type": "execute_result"
    }
   ],
   "source": [
    "inhDF.describe()"
   ]
  },
  {
   "cell_type": "code",
   "execution_count": 18,
   "metadata": {},
   "outputs": [
    {
     "data": {
      "text/plain": [
       "<matplotlib.collections.LineCollection at 0x1f050d7b088>"
      ]
     },
     "execution_count": 18,
     "metadata": {},
     "output_type": "execute_result"
    }
   ],
   "source": [
    "# plotting the mean dWII for each trial for the full matrix, the sparse matrix, and the average difference\n",
    "# for all 3 scenarios\n",
    "\n",
    "f, ax = plt.subplots(3, 1, sharey=True)\n",
    "\n",
    "ax[0].hlines(0, 0, R1.trialUpFRExc.size, linestyles='--')\n",
    "ax[0].plot(dwIIFullMeanTrial1, alpha=0.5, color='b')\n",
    "ax[0].plot(dwIISparseMeanTrial1, alpha=0.5, color='g')\n",
    "ax[0].hlines(dwIIFullSparseDiffTrials1.mean(), 0, R1.trialUpFRExc.size)\n",
    "\n",
    "ax[1].hlines(0, 0, R1.trialUpFRExc.size, linestyles='--')\n",
    "ax[1].plot(dwIIFullMeanTrial2, alpha=0.5, color='b')\n",
    "ax[1].plot(dwIISparseMeanTrial2, alpha=0.5, color='g')\n",
    "ax[1].hlines(dwIIFullSparseDiffTrials2.mean(), 0, R1.trialUpFRExc.size)\n",
    "\n",
    "ax[2].hlines(0, 0, R1.trialUpFRExc.size, linestyles='--')\n",
    "ax[2].plot(dwIIFullMeanTrial3, alpha=0.5, color='b')\n",
    "ax[2].plot(dwIISparseMeanTrial3, alpha=0.5, color='g')\n",
    "ax[2].hlines(dwIIFullSparseDiffTrials3.mean(), 0, R1.trialUpFRExc.size)"
   ]
  },
  {
   "cell_type": "code",
   "execution_count": 19,
   "metadata": {},
   "outputs": [],
   "source": [
    "# goal here is to actually calculate the dw on EVERY trial (massive array)\n",
    "# to save memory we will accumulate a sum and divide at the end\n",
    "\n",
    "startTrialInd = 400\n",
    "endTrialInd = R1.trialUpFRExc.size\n",
    "\n",
    "nTrials = endTrialInd - startTrialInd\n",
    "nUnits = p['nInh']\n",
    "\n",
    "dwEEHTrialSum = np.zeros((p['nExc'], p['nExc']))\n",
    "dwEIHTrialSum = np.zeros((p['nInh'], p['nExc']))\n",
    "dwIEHTrialSum = np.zeros((p['nExc'], p['nInh']))\n",
    "dwIIHTrialSum = np.zeros((p['nInh'], p['nInh']))\n",
    "\n",
    "trialDiffII = np.empty(())\n",
    "\n",
    "for trialInd in range(startTrialInd, endTrialInd):\n",
    "    movAvgUpFRExcUnits = R1.trialUpFRExcUnits[trialInd, :] * Hz\n",
    "    movAvgUpFRInhUnits = R1.trialUpFRInhUnits[trialInd, :] * Hz\n",
    "    dwEEHTrialSum += np.outer(movAvgUpFRExcUnits, (p['setUpFRExc'] - movAvgUpFRExcUnits))\n",
    "    dwEIHTrialSum += -np.outer(movAvgUpFRInhUnits, (p['setUpFRExc'] - movAvgUpFRExcUnits)) \n",
    "    dwIEHTrialSum += np.outer(movAvgUpFRExcUnits, (p['setUpFRInh'] - movAvgUpFRInhUnits)) \n",
    "    dwIIHTrialSum += -np.outer(movAvgUpFRInhUnits, (p['setUpFRInh'] - movAvgUpFRInhUnits)) \n",
    "\n",
    "dwEEHHat = dwEEHTrialSum / nTrials\n",
    "dwEIHHat = dwEIHTrialSum / nTrials\n",
    "dwIEHHat = dwIEHTrialSum / nTrials\n",
    "dwIIHHat = dwIIHTrialSum / nTrials\n",
    "\n",
    "dwEEHHatS = np.full((p['nExc'], p['nExc']), np.nan)\n",
    "dwEIHHatS = np.full((p['nInh'], p['nExc']), np.nan)\n",
    "dwIEHHatS = np.full((p['nExc'], p['nInh']), np.nan)\n",
    "dwIIHHatS = np.full((p['nInh'], p['nInh']), np.nan)\n",
    "\n",
    "dwEEHHatS[R1.preEE, R1.posEE] = dwEEHHat[R1.preEE, R1.posEE]\n",
    "dwEIHHatS[R1.preEI, R1.posEI] = dwEIHHat[R1.preEI, R1.posEI]\n",
    "dwIEHHatS[R1.preIE, R1.posIE] = dwIEHHat[R1.preIE, R1.posIE]\n",
    "dwIIHHatS[R1.preII, R1.posII] = dwIIHHat[R1.preII, R1.posII]"
   ]
  },
  {
   "cell_type": "code",
   "execution_count": 177,
   "metadata": {},
   "outputs": [],
   "source": [
    "dwIIHHatSInv = np.full((p['nInh'], p['nInh']), np.nan)\n",
    "dwIIHHatSInv[R1.posII, R1.preII] = dwIIHHat[R1.posII, R1.preII]"
   ]
  },
  {
   "cell_type": "code",
   "execution_count": 179,
   "metadata": {},
   "outputs": [],
   "source": [
    "dwIIHHatSAnti = dwIIHHat.copy()\n",
    "dwIIHHatSAnti[R1.preII, R1.posII] = np.nan"
   ]
  },
  {
   "cell_type": "code",
   "execution_count": 129,
   "metadata": {},
   "outputs": [
    {
     "name": "stdout",
     "output_type": "stream",
     "text": [
      "-0.022719073430059446\n",
      "-0.12391167628929009\n",
      "-0.07269817233591887\n",
      "-0.2797260996483352\n"
     ]
    }
   ],
   "source": [
    "print(np.nanmean(dwEEHHatS) - dwEEHHat.mean())\n",
    "print(np.nanmean(dwEIHHatS) - dwEIHHat.mean())\n",
    "print(np.nanmean(dwIEHHatS) - dwIEHHat.mean())\n",
    "print(np.nanmean(dwIIHHatS) - dwIIHHat.mean())"
   ]
  },
  {
   "cell_type": "code",
   "execution_count": 21,
   "metadata": {},
   "outputs": [],
   "source": [
    "# now let's repeat the same thing but draw the firing rates from a normal distribution centered around the setpoints\n",
    "# and see if the bias is still there...\n",
    "\n",
    "startTrialInd = 400\n",
    "endTrialInd = R1.trialUpFRExc.size\n",
    "\n",
    "nTrials = endTrialInd - startTrialInd\n",
    "nUnits = p['nInh']\n",
    "\n",
    "dwEEHTrialSumF = np.zeros((p['nExc'], p['nExc']))\n",
    "dwEIHTrialSumF = np.zeros((p['nInh'], p['nExc']))\n",
    "dwIEHTrialSumF = np.zeros((p['nExc'], p['nInh']))\n",
    "dwIIHTrialSumF = np.zeros((p['nInh'], p['nInh']))\n",
    "\n",
    "for trialInd in range(startTrialInd, endTrialInd):\n",
    "    movAvgUpFRExcUnits = np.random.normal(1, 0.1, p['nExc']) * p['setUpFRExc']\n",
    "    movAvgUpFRInhUnits = np.random.normal(1, 0.1, p['nInh']) * p['setUpFRInh']\n",
    "    dwEEHTrialSumF += np.outer(movAvgUpFRExcUnits, (p['setUpFRExc'] - movAvgUpFRExcUnits))\n",
    "    dwEIHTrialSumF += -np.outer(movAvgUpFRInhUnits, (p['setUpFRExc'] - movAvgUpFRExcUnits)) \n",
    "    dwIEHTrialSumF += np.outer(movAvgUpFRExcUnits, (p['setUpFRInh'] - movAvgUpFRInhUnits)) \n",
    "    dwIIHTrialSumF += -np.outer(movAvgUpFRInhUnits, (p['setUpFRInh'] - movAvgUpFRInhUnits)) \n",
    "\n",
    "dwEEHHatF = dwEEHTrialSumF / nTrials\n",
    "dwEIHHatF = dwEIHTrialSumF / nTrials\n",
    "dwIEHHatF = dwIEHTrialSumF / nTrials\n",
    "dwIIHHatF = dwIIHTrialSumF / nTrials\n",
    "\n",
    "dwEEHHatSF = np.full((p['nExc'], p['nExc']), np.nan)\n",
    "dwEIHHatSF = np.full((p['nInh'], p['nExc']), np.nan)\n",
    "dwIEHHatSF = np.full((p['nExc'], p['nInh']), np.nan)\n",
    "dwIIHHatSF = np.full((p['nInh'], p['nInh']), np.nan)\n",
    "\n",
    "dwEEHHatSF[R1.preEE, R1.posEE] = dwEEHHatF[R1.preEE, R1.posEE]\n",
    "dwEIHHatSF[R1.preEI, R1.posEI] = dwEIHHatF[R1.preEI, R1.posEI]\n",
    "dwIEHHatSF[R1.preIE, R1.posIE] = dwIEHHatF[R1.preIE, R1.posIE]\n",
    "dwIIHHatSF[R1.preII, R1.posII] = dwIIHHatF[R1.preII, R1.posII]"
   ]
  },
  {
   "cell_type": "code",
   "execution_count": 22,
   "metadata": {
    "collapsed": true
   },
   "outputs": [
    {
     "data": {
      "text/plain": [
       "(array([ 87.,  90.,  94.,  94., 106.,  99., 109., 103., 105.,  83.,  89.,\n",
       "        102., 107., 101.,  90.,  95.,  97., 114., 103., 109.,  93.,  89.,\n",
       "         97.,  91., 107., 102.,  91.,  81.,  95.,  99.,  86., 108.,  99.,\n",
       "         95., 110.,  98., 114.,  92., 108., 103., 102., 106.,  96., 113.,\n",
       "         91., 100.,  92., 103.,  86., 100., 109.,  82.,  89., 104., 100.,\n",
       "         98.,  95., 108.,  94.,  99.,  99., 101., 108., 109., 107., 125.,\n",
       "        118.,  96., 112.,  99.,  97.,  84., 102.,  93., 105.,  87.,  98.,\n",
       "         94.,  87., 103., 109., 120.,  99.,  99., 100., 106.,  86., 111.,\n",
       "        105., 107., 126., 113., 102.,  86.,  90., 101.,  97.,  95., 104.,\n",
       "         88., 109., 112.,  95.,  93., 112., 106., 100., 108., 110., 100.,\n",
       "         98., 108.,  99., 106.,  94.,  87.,  99.,  95., 101., 103.,  90.,\n",
       "        104.,  91.,  99.,  98., 107., 110., 105.,  97.,  98.,  86., 117.,\n",
       "         88., 104.,  92., 101.,  89., 109., 109.,  93.,  91., 105., 106.,\n",
       "         94., 103.,  88., 106., 115.,  97.,  98.,  89.,  89., 109., 104.,\n",
       "        102., 109.,  80.,  96., 102.,  97., 108.,  99., 104.,  98., 100.,\n",
       "        107., 106., 101.,  85.,  97., 107.,  80.,  86., 103.,  85.,  87.,\n",
       "         98., 102.,  90.,  98.,  93.,  94.,  94., 119.,  94., 111., 112.,\n",
       "        102., 108.,  95.,  87.,  94., 110., 106., 109.,  95., 103., 113.,\n",
       "        107., 101.,  84.,  96., 113.,  96., 103., 104., 105., 101.,  91.,\n",
       "         92.,  83., 112., 117.,  90.,  85., 109., 102.,  98.,  97., 109.,\n",
       "        101., 107., 105.,  99., 101., 107.,  78., 102., 108., 108., 116.,\n",
       "        117.,  98.,  87., 100.,  88., 104.,  88., 100., 105., 110.,  90.,\n",
       "         88.,  89.,  98., 111.,  99.,  94.,  96.,  97., 105., 118., 109.,\n",
       "        101.,  95.,  95., 118., 100.,  98., 107., 108.,  93.,  95., 105.,\n",
       "         89., 100., 100., 106.,  87., 102., 106.,  84.,  97., 106., 108.,\n",
       "         85., 106., 107., 100.,  96., 105., 126., 104.,  97., 112., 103.,\n",
       "         98.,  91., 104., 100.,  96., 100., 104.,  83.,  88., 106.,  90.,\n",
       "         88.,  97.,  92.,  95.,  98., 104.,  92.,  93., 101., 104., 113.,\n",
       "        106.,  94., 112., 104.,  91., 111., 102., 107.,  92., 104., 103.,\n",
       "         86., 101.,  92., 102.,  98.,  99., 110.,  98.,  98.,  89.,  91.,\n",
       "        107., 115., 101.,  89., 110.,  83., 107., 120., 106., 106.,  97.,\n",
       "         97., 109., 101., 112., 112., 121.,  97.,  98.,  86.,  92., 112.,\n",
       "        103.,  92.,  92.,  88.,  95.,  91.,  99.,  90., 101.,  94.,  90.,\n",
       "         96.,  92., 101., 106.,  92., 103., 104., 105.,  99., 109.,  86.,\n",
       "        115., 101.,  97., 108.,  88.,  99., 111., 106., 110., 108.,  95.,\n",
       "        108.,  95., 103., 107.,  92., 110.,  96., 114., 100., 101., 105.,\n",
       "        103.,  91.,  92., 101.]),\n",
       " array([  0.    ,   0.9975,   1.995 ,   2.9925,   3.99  ,   4.9875,\n",
       "          5.985 ,   6.9825,   7.98  ,   8.9775,   9.975 ,  10.9725,\n",
       "         11.97  ,  12.9675,  13.965 ,  14.9625,  15.96  ,  16.9575,\n",
       "         17.955 ,  18.9525,  19.95  ,  20.9475,  21.945 ,  22.9425,\n",
       "         23.94  ,  24.9375,  25.935 ,  26.9325,  27.93  ,  28.9275,\n",
       "         29.925 ,  30.9225,  31.92  ,  32.9175,  33.915 ,  34.9125,\n",
       "         35.91  ,  36.9075,  37.905 ,  38.9025,  39.9   ,  40.8975,\n",
       "         41.895 ,  42.8925,  43.89  ,  44.8875,  45.885 ,  46.8825,\n",
       "         47.88  ,  48.8775,  49.875 ,  50.8725,  51.87  ,  52.8675,\n",
       "         53.865 ,  54.8625,  55.86  ,  56.8575,  57.855 ,  58.8525,\n",
       "         59.85  ,  60.8475,  61.845 ,  62.8425,  63.84  ,  64.8375,\n",
       "         65.835 ,  66.8325,  67.83  ,  68.8275,  69.825 ,  70.8225,\n",
       "         71.82  ,  72.8175,  73.815 ,  74.8125,  75.81  ,  76.8075,\n",
       "         77.805 ,  78.8025,  79.8   ,  80.7975,  81.795 ,  82.7925,\n",
       "         83.79  ,  84.7875,  85.785 ,  86.7825,  87.78  ,  88.7775,\n",
       "         89.775 ,  90.7725,  91.77  ,  92.7675,  93.765 ,  94.7625,\n",
       "         95.76  ,  96.7575,  97.755 ,  98.7525,  99.75  , 100.7475,\n",
       "        101.745 , 102.7425, 103.74  , 104.7375, 105.735 , 106.7325,\n",
       "        107.73  , 108.7275, 109.725 , 110.7225, 111.72  , 112.7175,\n",
       "        113.715 , 114.7125, 115.71  , 116.7075, 117.705 , 118.7025,\n",
       "        119.7   , 120.6975, 121.695 , 122.6925, 123.69  , 124.6875,\n",
       "        125.685 , 126.6825, 127.68  , 128.6775, 129.675 , 130.6725,\n",
       "        131.67  , 132.6675, 133.665 , 134.6625, 135.66  , 136.6575,\n",
       "        137.655 , 138.6525, 139.65  , 140.6475, 141.645 , 142.6425,\n",
       "        143.64  , 144.6375, 145.635 , 146.6325, 147.63  , 148.6275,\n",
       "        149.625 , 150.6225, 151.62  , 152.6175, 153.615 , 154.6125,\n",
       "        155.61  , 156.6075, 157.605 , 158.6025, 159.6   , 160.5975,\n",
       "        161.595 , 162.5925, 163.59  , 164.5875, 165.585 , 166.5825,\n",
       "        167.58  , 168.5775, 169.575 , 170.5725, 171.57  , 172.5675,\n",
       "        173.565 , 174.5625, 175.56  , 176.5575, 177.555 , 178.5525,\n",
       "        179.55  , 180.5475, 181.545 , 182.5425, 183.54  , 184.5375,\n",
       "        185.535 , 186.5325, 187.53  , 188.5275, 189.525 , 190.5225,\n",
       "        191.52  , 192.5175, 193.515 , 194.5125, 195.51  , 196.5075,\n",
       "        197.505 , 198.5025, 199.5   , 200.4975, 201.495 , 202.4925,\n",
       "        203.49  , 204.4875, 205.485 , 206.4825, 207.48  , 208.4775,\n",
       "        209.475 , 210.4725, 211.47  , 212.4675, 213.465 , 214.4625,\n",
       "        215.46  , 216.4575, 217.455 , 218.4525, 219.45  , 220.4475,\n",
       "        221.445 , 222.4425, 223.44  , 224.4375, 225.435 , 226.4325,\n",
       "        227.43  , 228.4275, 229.425 , 230.4225, 231.42  , 232.4175,\n",
       "        233.415 , 234.4125, 235.41  , 236.4075, 237.405 , 238.4025,\n",
       "        239.4   , 240.3975, 241.395 , 242.3925, 243.39  , 244.3875,\n",
       "        245.385 , 246.3825, 247.38  , 248.3775, 249.375 , 250.3725,\n",
       "        251.37  , 252.3675, 253.365 , 254.3625, 255.36  , 256.3575,\n",
       "        257.355 , 258.3525, 259.35  , 260.3475, 261.345 , 262.3425,\n",
       "        263.34  , 264.3375, 265.335 , 266.3325, 267.33  , 268.3275,\n",
       "        269.325 , 270.3225, 271.32  , 272.3175, 273.315 , 274.3125,\n",
       "        275.31  , 276.3075, 277.305 , 278.3025, 279.3   , 280.2975,\n",
       "        281.295 , 282.2925, 283.29  , 284.2875, 285.285 , 286.2825,\n",
       "        287.28  , 288.2775, 289.275 , 290.2725, 291.27  , 292.2675,\n",
       "        293.265 , 294.2625, 295.26  , 296.2575, 297.255 , 298.2525,\n",
       "        299.25  , 300.2475, 301.245 , 302.2425, 303.24  , 304.2375,\n",
       "        305.235 , 306.2325, 307.23  , 308.2275, 309.225 , 310.2225,\n",
       "        311.22  , 312.2175, 313.215 , 314.2125, 315.21  , 316.2075,\n",
       "        317.205 , 318.2025, 319.2   , 320.1975, 321.195 , 322.1925,\n",
       "        323.19  , 324.1875, 325.185 , 326.1825, 327.18  , 328.1775,\n",
       "        329.175 , 330.1725, 331.17  , 332.1675, 333.165 , 334.1625,\n",
       "        335.16  , 336.1575, 337.155 , 338.1525, 339.15  , 340.1475,\n",
       "        341.145 , 342.1425, 343.14  , 344.1375, 345.135 , 346.1325,\n",
       "        347.13  , 348.1275, 349.125 , 350.1225, 351.12  , 352.1175,\n",
       "        353.115 , 354.1125, 355.11  , 356.1075, 357.105 , 358.1025,\n",
       "        359.1   , 360.0975, 361.095 , 362.0925, 363.09  , 364.0875,\n",
       "        365.085 , 366.0825, 367.08  , 368.0775, 369.075 , 370.0725,\n",
       "        371.07  , 372.0675, 373.065 , 374.0625, 375.06  , 376.0575,\n",
       "        377.055 , 378.0525, 379.05  , 380.0475, 381.045 , 382.0425,\n",
       "        383.04  , 384.0375, 385.035 , 386.0325, 387.03  , 388.0275,\n",
       "        389.025 , 390.0225, 391.02  , 392.0175, 393.015 , 394.0125,\n",
       "        395.01  , 396.0075, 397.005 , 398.0025, 399.    ]),\n",
       " <a list of 400 Patch objects>)"
      ]
     },
     "execution_count": 22,
     "metadata": {},
     "output_type": "execute_result"
    }
   ],
   "source": [
    "f, ax = plt.subplots(1, 2)\n",
    "ax[0].hist(R1.preII, bins=400)\n",
    "ax[1].hist(R1.posII, bins=400)"
   ]
  },
  {
   "cell_type": "code",
   "execution_count": 23,
   "metadata": {
    "scrolled": true
   },
   "outputs": [
    {
     "name": "stdout",
     "output_type": "stream",
     "text": [
      "0.00013743233586260687\n",
      "0.00048803256966801546\n",
      "-0.00014300326783331027\n",
      "-0.005680311537440637\n"
     ]
    }
   ],
   "source": [
    "print(np.nanmean(dwEEHHatSF) - dwEEHHatF.mean())\n",
    "print(np.nanmean(dwEIHHatSF) - dwEIHHatF.mean())\n",
    "print(np.nanmean(dwIEHHatSF) - dwIEHHatF.mean())\n",
    "print(np.nanmean(dwIIHHatSF) - dwIIHHatF.mean())"
   ]
  },
  {
   "cell_type": "code",
   "execution_count": 378,
   "metadata": {},
   "outputs": [],
   "source": [
    "plt.close('all')"
   ]
  },
  {
   "cell_type": "code",
   "execution_count": 188,
   "metadata": {},
   "outputs": [
    {
     "data": {
      "text/plain": [
       "<matplotlib.legend.Legend at 0x1f0cd916748>"
      ]
     },
     "execution_count": 188,
     "metadata": {},
     "output_type": "execute_result"
    }
   ],
   "source": [
    "# maybe the distribution of the Inh FRs from the training are not normal?\n",
    "\n",
    "movAvgUpFRInhUnits2 = np.random.normal(1, 0.1, p['nInh']) * p['setUpFRInh']\n",
    "movAvgUpFRInhUnits3 = p['setUpFRInh'] + (commonRand[0] * p['setUpFRInh']) + np.random.normal(0, 0.1, p['nInh']) * p['setUpFRInh']\n",
    "\n",
    "f, ax = plt.subplots()\n",
    "ax.hist(R1.trialUpFRInhUnits[startTrialInd:endTrialInd].ravel(), bins=40, density=True, histtype='step', color='red')\n",
    "ax.hist(movAvgUpFRInhUnits2 / Hz, bins=40, density=True, histtype='step', color='blue')\n",
    "ax.hist(movAvgUpFRInhUnits3 / Hz, bins=40, density=True, histtype='step', color='green')\n",
    "ax.vlines(p['setUpFRInh'] / Hz, *ax.get_ylim(), linestyle='--')\n",
    "ax.set(xlabel='I FR (Hz)', ylabel='Proportion of occurences')\n",
    "ax.legend(('actual', 'fake1', 'fake2'))"
   ]
  },
  {
   "cell_type": "code",
   "execution_count": 260,
   "metadata": {},
   "outputs": [],
   "source": [
    "frCorrIIBetweenTrials = np.corrcoef(R1.trialUpFRInhUnits[startTrialInd:endTrialInd])\n",
    "frCorrIIBetweenUnits = np.corrcoef(R1.trialUpFRInhUnits[startTrialInd:endTrialInd].T)\n",
    "frCorrIIBetweenTrials[np.triu_indices(frCorrIIBetweenTrials.shape[0])] = np.nan\n",
    "frCorrIIBetweenUnits[np.triu_indices(frCorrIIBetweenUnits.shape[0])] = np.nan"
   ]
  },
  {
   "cell_type": "code",
   "execution_count": 261,
   "metadata": {},
   "outputs": [
    {
     "name": "stdout",
     "output_type": "stream",
     "text": [
      "-1.06058027142493e-05\n",
      "-0.022405479591587556\n",
      "0.00743690044267962\n"
     ]
    }
   ],
   "source": [
    "frCorrIIBetweenUnitsAnti = frCorrIIBetweenUnits.copy()\n",
    "frCorrIIBetweenUnitsAnti[R1.preII, R1.posII] = np.nan\n",
    "print(np.nanmean(frCorrIIBetweenUnits))\n",
    "print(np.nanmean(frCorrIIBetweenUnits[R1.preII, R1.posII]))\n",
    "print(np.nanmean(frCorrIIBetweenUnitsAnti))"
   ]
  },
  {
   "cell_type": "code",
   "execution_count": 262,
   "metadata": {},
   "outputs": [],
   "source": [
    "# does the same type of bias exist in the correlations between FRs???\n",
    "\n",
    "frCorrIIBetweenUnitsS = np.full(frCorrIIBetweenUnits.shape, np.nan)\n",
    "frCorrIIBetweenUnitsS[R1.preII, R1.posII] = frCorrIIBetweenUnits[R1.preII, R1.posII]\n",
    "\n",
    "allNumbers = frCorrIIBetweenUnits.ravel()\n",
    "\n",
    "vlims = (-np.nanmax(np.fabs(frCorrIIBetweenUnits)), np.nanmax(np.fabs(frCorrIIBetweenUnits)))\n",
    "\n",
    "fig7, ax7 = plt.subplots(1, 2, figsize=(17, 7))\n",
    "weight_matrix(ax7[0], frCorrIIBetweenUnitsS, xlabel='Post Index', ylabel='Pre Index',\n",
    "              clabel='Corr. Coef.', limsMethod='custom', vlims=vlims)\n",
    "weight_matrix(ax7[1], frCorrIIBetweenUnits, xlabel='Post Index', ylabel='Pre Index',\n",
    "              clabel='Corr. Coef.', limsMethod='custom', vlims=vlims)"
   ]
  },
  {
   "cell_type": "code",
   "execution_count": 265,
   "metadata": {},
   "outputs": [],
   "source": [
    "frCorrEEBetweenTrials = np.corrcoef(R1.trialUpFRExcUnits[startTrialInd:endTrialInd])\n",
    "frCorrEEBetweenUnits = np.corrcoef(R1.trialUpFRExcUnits[startTrialInd:endTrialInd].T)\n",
    "frCorrEEBetweenTrials[np.triu_indices(frCorrEEBetweenTrials.shape[0])] = np.nan\n",
    "frCorrEEBetweenUnits[np.triu_indices(frCorrEEBetweenUnits.shape[0])] = np.nan"
   ]
  },
  {
   "cell_type": "code",
   "execution_count": 277,
   "metadata": {},
   "outputs": [
    {
     "name": "stdout",
     "output_type": "stream",
     "text": [
      "0.0018183634732697994\n",
      "0.014625433244700269\n",
      "-0.002451656570437842\n"
     ]
    }
   ],
   "source": [
    "frCorrEEBetweenUnitsAnti = frCorrEEBetweenUnits.copy()\n",
    "frCorrEEBetweenUnitsAnti[R1.preEE, R1.posEE] = np.nan\n",
    "print(np.nanmean(frCorrEEBetweenUnits))\n",
    "print(np.nanmean(frCorrEEBetweenUnits[R1.preEE, R1.posEE]))\n",
    "print(np.nanmean(frCorrEEBetweenUnitsAnti))"
   ]
  },
  {
   "cell_type": "code",
   "execution_count": 213,
   "metadata": {},
   "outputs": [],
   "source": [
    "# does the same type of bias exist in the correlations between FRs???\n",
    "\n",
    "frCorrEEBetweenUnitsS = np.full(frCorrEEBetweenUnits.shape, np.nan)\n",
    "frCorrEEBetweenUnitsS[R1.preEE, R1.posEE] = frCorrEEBetweenUnits[R1.preEE, R1.posEE]\n",
    "\n",
    "allNumbers = frCorrEEBetweenUnits.ravel()\n",
    "\n",
    "vlims = (-np.nanmax(np.fabs(frCorrEEBetweenUnits)), np.nanmax(np.fabs(frCorrEEBetweenUnits)))\n",
    "\n",
    "fig7, ax7 = plt.subplots(1, 2, figsize=(17, 7))\n",
    "weight_matrix(ax7[0], frCorrEEBetweenUnitsS, xlabel='Post Index', ylabel='Pre Index',\n",
    "              clabel='Corr. Coef.', limsMethod='custom', vlims=vlims)\n",
    "weight_matrix(ax7[1], frCorrEEBetweenUnits, xlabel='Post Index', ylabel='Pre Index',\n",
    "              clabel='Corr. Coef.', limsMethod='custom', vlims=vlims)"
   ]
  },
  {
   "cell_type": "code",
   "execution_count": 363,
   "metadata": {},
   "outputs": [
    {
     "data": {
      "text/plain": [
       "(6765, 400)"
      ]
     },
     "execution_count": 363,
     "metadata": {},
     "output_type": "execute_result"
    }
   ],
   "source": [
    "R1.trialUpFRInhUnits.shape"
   ]
  },
  {
   "cell_type": "code",
   "execution_count": 278,
   "metadata": {},
   "outputs": [],
   "source": [
    "trialUpFRAllUnits = np.concatenate((R1.trialUpFRExcUnits, R1.trialUpFRInhUnits, ), axis=1)"
   ]
  },
  {
   "cell_type": "code",
   "execution_count": 379,
   "metadata": {},
   "outputs": [],
   "source": [
    "trialUpFRAllUnits = np.concatenate((R2.trialUpFRExcUnits, R2.trialUpFRInhUnits, ), axis=1)"
   ]
  },
  {
   "cell_type": "code",
   "execution_count": 380,
   "metadata": {},
   "outputs": [],
   "source": [
    "frCorrBetweenUnits = np.corrcoef(trialUpFRAllUnits[startTrialInd:endTrialInd].T)\n",
    "frCorrBetweenUnits[np.triu_indices(frCorrBetweenUnits.shape[0])] = np.nan\n",
    "\n",
    "frCorrEEBetweenUnits = frCorrBetweenUnits[:p['nExc'], :p['nExc']]\n",
    "frCorrEIBetweenUnits = frCorrBetweenUnits[p['nExc']:, :p['nExc']]\n",
    "frCorrIIBetweenUnits = frCorrBetweenUnits[p['nExc']:, p['nExc']:]"
   ]
  },
  {
   "cell_type": "code",
   "execution_count": 348,
   "metadata": {},
   "outputs": [],
   "source": [
    "frCorrBetweenUnitsAnti = frCorrBetweenUnits.copy()\n",
    "frCorrBetweenUnitsAnti[R1.preEE, R1.posEE] = np.nan\n",
    "frCorrBetweenUnitsAnti[p['nExc'] + R1.preEI, R1.posEI] = np.nan\n",
    "frCorrBetweenUnitsAnti[R1.preIE, p['nExc'] + R1.posIE] = np.nan\n",
    "frCorrBetweenUnitsAnti[p['nExc'] + R1.preII, p['nExc'] + R1.posII] = np.nan"
   ]
  },
  {
   "cell_type": "code",
   "execution_count": 349,
   "metadata": {},
   "outputs": [],
   "source": [
    "frCorrBetweenUnitsConn = np.full(frCorrBetweenUnits.shape, np.nan)\n",
    "frCorrBetweenUnitsConn[R1.preEE, R1.posEE] = frCorrBetweenUnits[R1.preEE, R1.posEE]\n",
    "frCorrBetweenUnitsConn[p['nExc'] + R1.preEI, R1.posEI] = frCorrBetweenUnits[p['nExc'] + R1.preEI, R1.posEI]\n",
    "frCorrBetweenUnitsConn[R1.preIE, p['nExc'] + R1.posIE] = frCorrBetweenUnits[R1.preIE, p['nExc'] + R1.posIE]\n",
    "frCorrBetweenUnitsConn[p['nExc'] + R1.preII, p['nExc'] + R1.posII] = frCorrBetweenUnits[p['nExc'] + R1.preII, p['nExc'] + R1.posII]"
   ]
  },
  {
   "cell_type": "code",
   "execution_count": 350,
   "metadata": {
    "scrolled": true
   },
   "outputs": [
    {
     "name": "stdout",
     "output_type": "stream",
     "text": [
      "0.011065483134125077\n",
      "0.011064017320842803\n"
     ]
    }
   ],
   "source": [
    "print(np.nanmean(frCorrBetweenUnits[:p['nExc'], :p['nExc']]))\n",
    "print(np.nanmean(frCorrBetweenUnits[R1.preEE, R1.posEE]))"
   ]
  },
  {
   "cell_type": "code",
   "execution_count": 351,
   "metadata": {},
   "outputs": [
    {
     "name": "stdout",
     "output_type": "stream",
     "text": [
      "0.012377046733391234\n",
      "0.012418071920910939\n",
      "0.012386202626964892\n"
     ]
    }
   ],
   "source": [
    "print(np.nanmean(frCorrBetweenUnits[p['nExc']:, :p['nExc']]))\n",
    "print(np.nanmean(frCorrBetweenUnits[p['nExc'] + R1.preEI, R1.posEI]))\n",
    "print(np.nanmean(frCorrBetweenUnits[p['nExc'] + R1.posIE, R1.preIE]))"
   ]
  },
  {
   "cell_type": "code",
   "execution_count": 352,
   "metadata": {
    "scrolled": true
   },
   "outputs": [
    {
     "name": "stdout",
     "output_type": "stream",
     "text": [
      "0.01198655592312059\n",
      "0.01215968478355726\n"
     ]
    }
   ],
   "source": [
    "print(np.nanmean(frCorrBetweenUnits[p['nExc']:, p['nExc']:]))\n",
    "print(np.nanmean(frCorrBetweenUnits[p['nExc'] + R1.preII, p['nExc'] + R1.posII]))"
   ]
  },
  {
   "cell_type": "code",
   "execution_count": 353,
   "metadata": {},
   "outputs": [],
   "source": [
    "unitCorrEERavel = frCorrBetweenUnits[R1.preEE, R1.posEE]\n",
    "unitCorrEIRavel = frCorrBetweenUnits[p['nExc'] + R1.preEI, R1.posEI]\n",
    "unitCorrIERavel = frCorrBetweenUnits[p['nExc'] + R1.posIE, R1.preIE]\n",
    "unitCorrIIRavel = frCorrBetweenUnits[p['nExc'] + R1.preII, p['nExc'] + R1.posII]"
   ]
  },
  {
   "cell_type": "code",
   "execution_count": 381,
   "metadata": {},
   "outputs": [],
   "source": [
    "unitCorrEERavel = frCorrBetweenUnits[R2.preEE, R2.posEE]\n",
    "unitCorrEIRavel = frCorrBetweenUnits[p['nExc'] + R2.preEI, R2.posEI]\n",
    "unitCorrIERavel = frCorrBetweenUnits[p['nExc'] + R2.posIE, R2.preIE]\n",
    "unitCorrIIRavel = frCorrBetweenUnits[p['nExc'] + R2.preII, p['nExc'] + R2.posII]"
   ]
  },
  {
   "cell_type": "code",
   "execution_count": 382,
   "metadata": {},
   "outputs": [
    {
     "name": "stdout",
     "output_type": "stream",
     "text": [
      "0.011065483134125082\n",
      "0.012377046733391236\n",
      "0.012377046733391238\n",
      "0.01198655592312059\n"
     ]
    }
   ],
   "source": [
    "print(np.nanmean(unitCorrEERavel))\n",
    "print(np.nanmean(unitCorrEIRavel))\n",
    "print(np.nanmean(unitCorrIERavel))\n",
    "print(np.nanmean(unitCorrIIRavel))"
   ]
  },
  {
   "cell_type": "code",
   "execution_count": 355,
   "metadata": {},
   "outputs": [],
   "source": [
    "# correlate the unit correlation coefficient with the corresponding average cross-trial bias"
   ]
  },
  {
   "cell_type": "code",
   "execution_count": 356,
   "metadata": {},
   "outputs": [
    {
     "data": {
      "text/plain": [
       "(array([ 0.01423898,  0.0110971 ,  0.1134997 , ...,  0.04314964,\n",
       "         0.01663128, -0.18278544]),\n",
       " array([-0.39713344, -0.11542401,  0.06807905, ..., -0.3937676 ,\n",
       "        -0.12531913, -0.29440433]),\n",
       " array([-0.14850719, -0.00151379, -0.35615783, ..., -0.09692234,\n",
       "        -0.17748947, -0.22666331]),\n",
       " array([-0.20898584, -0.16637291, -0.19693493, ..., -0.45114331,\n",
       "        -0.0202397 , -0.99746545]))"
      ]
     },
     "execution_count": 356,
     "metadata": {},
     "output_type": "execute_result"
    }
   ],
   "source": [
    "(dwEEHHat[R1.preEE, R1.posEE], dwEIHHat[R1.preEI, R1.posEI], dwIEHHat[R1.preIE, R1.posIE], dwIIHHat[R1.preII, R1.posII], )"
   ]
  },
  {
   "cell_type": "code",
   "execution_count": 357,
   "metadata": {},
   "outputs": [
    {
     "data": {
      "text/plain": [
       "[(-2.6635262096164136, 1.7732896704955854),\n",
       " Text(0, 0.5, 'average proposed dwII'),\n",
       " (-0.28957593935738385, 0.3196907665264049),\n",
       " Text(0.5, 0, 'connected I -> I corr. coeff.')]"
      ]
     },
     "execution_count": 357,
     "metadata": {},
     "output_type": "execute_result"
    }
   ],
   "source": [
    "f, ax = plt.subplots(2, 2, figsize=(10, 10), sharex=True, sharey=True)\n",
    "\n",
    "useAlpha = 1\n",
    "useSize = 1\n",
    "\n",
    "allX = np.concatenate((unitCorrEERavel, unitCorrEIRavel, unitCorrIERavel, unitCorrIIRavel, ))\n",
    "allY = np.concatenate((dwEEHHat[R1.preEE, R1.posEE], dwEIHHat[R1.preEI, R1.posEI], dwIEHHat[R1.preIE, R1.posIE], dwIIHHat[R1.preII, R1.posII], ))\n",
    "\n",
    "xLims = (np.nanmin(allX) - 0.1, np.nanmax(allX) + 0.1)\n",
    "yLims = (np.nanmin(allY) - 0.1, np.nanmax(allY) + 0.1)\n",
    "\n",
    "ax[0, 0].scatter(unitCorrEERavel, dwEEHHat[R1.preEE, R1.posEE], useSize, alpha=useAlpha, marker='.')\n",
    "ax[0, 1].scatter(unitCorrEIRavel, dwEIHHat[R1.preEI, R1.posEI], useSize, alpha=useAlpha, marker='.')\n",
    "ax[1, 0].scatter(unitCorrIERavel, dwIEHHat[R1.preIE, R1.posIE], useSize, alpha=useAlpha, marker='.')\n",
    "ax[1, 1].scatter(unitCorrIIRavel, dwIIHHat[R1.preII, R1.posII], useSize, alpha=useAlpha, marker='.')\n",
    "\n",
    "for anax in ax.ravel():\n",
    "    anax.hlines(0, *xLims, linestyles='--')\n",
    "    anax.vlines(0, *yLims, linestyles='--')\n",
    "    \n",
    "ax[0, 0].set(xlim=xLims, ylim=yLims, xlabel='connected E -> E corr. coeff.', ylabel='average proposed dwEE')\n",
    "ax[0, 1].set(xlim=xLims, ylim=yLims, xlabel='connected E -> I corr. coeff.', ylabel='average proposed dwEI')\n",
    "ax[1, 0].set(xlim=xLims, ylim=yLims, xlabel='connected I -> E corr. coeff.', ylabel='average proposed dwIE')\n",
    "ax[1, 1].set(xlim=xLims, ylim=yLims, xlabel='connected I -> I corr. coeff.', ylabel='average proposed dwII')"
   ]
  },
  {
   "cell_type": "code",
   "execution_count": 386,
   "metadata": {},
   "outputs": [
    {
     "data": {
      "text/plain": [
       "[Text(0, 0.5, '# of occurences'), Text(0.5, 0, 'Correlation Coefficient')]"
      ]
     },
     "execution_count": 386,
     "metadata": {},
     "output_type": "execute_result"
    }
   ],
   "source": [
    "# connected\n",
    "\n",
    "f, ax = plt.subplots(figsize=(12, 4))\n",
    "\n",
    "useBins = np.linspace(-0.2, 0.2, 100)\n",
    "useDensity = True\n",
    "\n",
    "ax.hist(unitCorrEERavel, bins=useBins, histtype='step', density=useDensity)\n",
    "ax.hist(unitCorrEIRavel, bins=useBins, histtype='step', density=useDensity)\n",
    "ax.hist(unitCorrIERavel, bins=useBins, histtype='step', density=useDensity)\n",
    "ax.hist(unitCorrIIRavel, bins=useBins, histtype='step', density=useDensity)\n",
    "ax.vlines(0, *ax.get_ylim())\n",
    "ax.legend(('EE', 'EI', 'IE', 'II'))\n",
    "ax.set(xlabel='Correlation Coefficient', ylabel='# of occurences')"
   ]
  },
  {
   "cell_type": "code",
   "execution_count": 387,
   "metadata": {},
   "outputs": [
    {
     "name": "stdout",
     "output_type": "stream",
     "text": [
      "0.011065483134125077\n",
      "0.012377046733391234\n",
      "0.012377046733391234\n",
      "0.01198655592312059\n"
     ]
    }
   ],
   "source": [
    "print(np.nanmean(frCorrBetweenUnits[:p['nExc'], :p['nExc']]))\n",
    "print(np.nanmean(frCorrBetweenUnits[p['nExc']:, :p['nExc']]))\n",
    "print(np.nanmean(frCorrBetweenUnits[p['nExc']:, :p['nExc']]))\n",
    "print(np.nanmean(frCorrBetweenUnits[p['nExc']:, p['nExc']:]))"
   ]
  },
  {
   "cell_type": "code",
   "execution_count": 388,
   "metadata": {},
   "outputs": [
    {
     "data": {
      "text/plain": [
       "[Text(0, 0.5, '# of occurences'), Text(0.5, 0, 'Correlation Coefficient')]"
      ]
     },
     "execution_count": 388,
     "metadata": {},
     "output_type": "execute_result"
    }
   ],
   "source": [
    "# all possible\n",
    "\n",
    "f, ax = plt.subplots(figsize=(12, 4))\n",
    "\n",
    "useBins = np.linspace(-0.2, 0.2, 100)\n",
    "useDensity = True\n",
    "\n",
    "ax.hist(frCorrBetweenUnits[:p['nExc'], :p['nExc']].ravel(), bins=useBins, histtype='step', density=useDensity)\n",
    "ax.hist(frCorrBetweenUnits[p['nExc']:, :p['nExc']].ravel(), bins=useBins, histtype='step', density=useDensity)\n",
    "ax.hist(frCorrBetweenUnits[p['nExc']:, :p['nExc']].ravel(), bins=useBins, histtype='step', density=useDensity)\n",
    "ax.hist(frCorrBetweenUnits[p['nExc']:, p['nExc']:].ravel(), bins=useBins, histtype='step', density=useDensity)\n",
    "ax.vlines(0, *ax.get_ylim())\n",
    "ax.legend(('EE', 'EI', 'IE', 'II'))\n",
    "ax.set(xlabel='Correlation Coefficient', ylabel='# of occurences')"
   ]
  },
  {
   "cell_type": "code",
   "execution_count": 389,
   "metadata": {},
   "outputs": [],
   "source": [
    "# another way of showing it is to show it in an array of histograms"
   ]
  },
  {
   "cell_type": "code",
   "execution_count": 390,
   "metadata": {},
   "outputs": [],
   "source": [
    "f, ax = plt.subplots(2, 2, figsize=(18, 8), sharex=True)\n",
    "\n",
    "useBins = np.linspace(-0.15, 0.15, 100)\n",
    "useDensity = False\n",
    "\n",
    "ax[0, 0].hist(unitCorrEERavel, bins=useBins, histtype='step', density=useDensity)\n",
    "ax[0, 1].hist(unitCorrEIRavel, bins=useBins, histtype='step', density=useDensity)\n",
    "ax[1, 0].hist(unitCorrIERavel, bins=useBins, histtype='step', density=useDensity)\n",
    "ax[1, 1].hist(unitCorrIIRavel, bins=useBins, histtype='step', density=useDensity)\n",
    "\n",
    "ax[0, 0].hist(frCorrBetweenUnits[:p['nExc'], :p['nExc']].ravel(), bins=useBins, histtype='step', density=useDensity)\n",
    "ax[0, 1].hist(frCorrBetweenUnits[p['nExc']:, :p['nExc']].ravel(), bins=useBins, histtype='step', density=useDensity)\n",
    "ax[1, 0].hist(frCorrBetweenUnits[p['nExc']:, :p['nExc']].ravel(), bins=useBins, histtype='step', density=useDensity)\n",
    "ax[1, 1].hist(frCorrBetweenUnits[p['nExc']:, p['nExc']:].ravel(), bins=useBins, histtype='step', density=useDensity)\n",
    "\n",
    "ax[0, 0].set(title='EE', ylabel='# of occurences')\n",
    "ax[0, 1].set(title='EI')\n",
    "ax[1, 0].set(title='IE', ylabel='# of occurences', xlabel='Correlation Coefficient')\n",
    "ax[1, 1].set(title='II', xlabel='Correlation Coefficient')\n",
    "\n",
    "for anax in ax.ravel():\n",
    "    anax.vlines(0, *anax.get_ylim(), linestyles='--')\n",
    "    anax.legend(('connected', 'not connected'))"
   ]
  },
  {
   "cell_type": "code",
   "execution_count": 359,
   "metadata": {},
   "outputs": [],
   "source": [
    "# correlation between E and I\n",
    "\n",
    "vlims = (-np.nanmax(np.fabs(frCorrBetweenUnits)), np.nanmax(np.fabs(frCorrBetweenUnits)))\n",
    "\n",
    "fig7, ax7 = plt.subplots(1, 2, figsize=(17, 7), sharex=True, sharey=True)\n",
    "weight_matrix(ax7[0], frCorrBetweenUnitsConn, xlabel='Post Index', ylabel='Pre Index',\n",
    "              clabel='Corr. Coef.', limsMethod='custom', vlims=vlims)\n",
    "weight_matrix(ax7[1], frCorrBetweenUnits, xlabel='Post Index', ylabel='Pre Index',\n",
    "              clabel='Corr. Coef.', limsMethod='custom', vlims=vlims)"
   ]
  },
  {
   "cell_type": "code",
   "execution_count": 51,
   "metadata": {},
   "outputs": [],
   "source": [
    "dwIIHHatNoDiag = dwIIHHat.copy()\n",
    "dwIIHHatNoDiag[np.diag_indices_from(dwIIHHatNoDiag)] = np.nan"
   ]
  },
  {
   "cell_type": "code",
   "execution_count": 170,
   "metadata": {},
   "outputs": [
    {
     "data": {
      "text/plain": [
       "<matplotlib.legend.Legend at 0x1f0a02c0b88>"
      ]
     },
     "execution_count": 170,
     "metadata": {},
     "output_type": "execute_result"
    }
   ],
   "source": [
    "doDensity = False\n",
    "\n",
    "useMin = np.min([np.nanmin(dwIIHHatS), np.nanmin(dwIIHHatNoDiag),])\n",
    "useMax = np.max([np.nanmax(dwIIHHatS), np.nanmax(dwIIHHatNoDiag),])\n",
    "\n",
    "useBins = np.linspace(useMin, useMax, 100)\n",
    "\n",
    "f, ax = plt.subplots()\n",
    "ax.hist(dwIIHHatNoDiag[~np.isnan(dwIIHHatNoDiag)], bins=useBins, density=doDensity, histtype='step', color='g')\n",
    "ax.hist(dwIIHHatS[~np.isnan(dwIIHHatS)], bins=useBins, density=doDensity, histtype='step', color='b')\n",
    "\n",
    "ax.vlines(np.nanmean(dwIIHHatNoDiag), 0, ax.get_ylim()[1], colors='g', linestyle='--')\n",
    "ax.vlines(np.nanmean(dwIIHHatS), 0, ax.get_ylim()[1], colors='b', linestyle='--')\n",
    "\n",
    "ax.set(xlabel='Proposed dW', ylabel='# of occurences')\n",
    "ax.legend(('all proposed dW', 'connected synapses'))"
   ]
  },
  {
   "cell_type": "code",
   "execution_count": 55,
   "metadata": {
    "collapsed": true
   },
   "outputs": [
    {
     "ename": "NameError",
     "evalue": "name 'dwIIH' is not defined",
     "output_type": "error",
     "traceback": [
      "\u001b[1;31m---------------------------------------------------------------------------\u001b[0m",
      "\u001b[1;31mNameError\u001b[0m                                 Traceback (most recent call last)",
      "\u001b[1;32m<ipython-input-55-7f727845f95b>\u001b[0m in \u001b[0;36m<module>\u001b[1;34m\u001b[0m\n\u001b[1;32m----> 1\u001b[1;33m \u001b[0mdwIIHNoDiag\u001b[0m \u001b[1;33m=\u001b[0m \u001b[0mdwIIH\u001b[0m\u001b[1;33m.\u001b[0m\u001b[0mcopy\u001b[0m\u001b[1;33m(\u001b[0m\u001b[1;33m)\u001b[0m\u001b[1;33m\u001b[0m\u001b[1;33m\u001b[0m\u001b[0m\n\u001b[0m\u001b[0;32m      2\u001b[0m \u001b[0mdwIIHNoDiag\u001b[0m\u001b[1;33m[\u001b[0m\u001b[0mnp\u001b[0m\u001b[1;33m.\u001b[0m\u001b[0mdiag_indices_from\u001b[0m\u001b[1;33m(\u001b[0m\u001b[0mdwIIHNoDiag\u001b[0m\u001b[1;33m)\u001b[0m\u001b[1;33m]\u001b[0m \u001b[1;33m=\u001b[0m \u001b[0mnp\u001b[0m\u001b[1;33m.\u001b[0m\u001b[0mnan\u001b[0m\u001b[1;33m\u001b[0m\u001b[1;33m\u001b[0m\u001b[0m\n",
      "\u001b[1;31mNameError\u001b[0m: name 'dwIIH' is not defined"
     ]
    }
   ],
   "source": [
    "dwIIHNoDiag = dwIIH.copy()\n",
    "dwIIHNoDiag[np.diag_indices_from(dwIIHNoDiag)] = np.nan"
   ]
  },
  {
   "cell_type": "code",
   "execution_count": 214,
   "metadata": {},
   "outputs": [
    {
     "data": {
      "text/plain": [
       "<matplotlib.legend.Legend at 0x1973f545a88>"
      ]
     },
     "execution_count": 214,
     "metadata": {},
     "output_type": "execute_result"
    }
   ],
   "source": [
    "doDensity = False\n",
    "\n",
    "useMin = np.min([np.nanmin(dwIIHS), np.nanmin(dwIIHNoDiag),])\n",
    "useMax = np.max([np.nanmax(dwIIHS), np.nanmax(dwIIHNoDiag),])\n",
    "\n",
    "useBins = np.linspace(useMin, useMax, 100)\n",
    "\n",
    "f, ax = plt.subplots()\n",
    "ax.hist(dwIIHS[~np.isnan(dwIIHS)], bins=useBins, density=doDensity, histtype='step', color='b')\n",
    "ax.hist(dwIIHNoDiag[~np.isnan(dwIIHNoDiag)], bins=useBins, density=doDensity, histtype='step', color='g')\n",
    "ax.vlines(np.nanmean(dwIIHS), 0, ax.get_ylim()[1], colors='b', linestyle='--')\n",
    "ax.vlines(np.nanmean(dwIIHNoDiag), 0, ax.get_ylim()[1], colors='g', linestyle='--')\n",
    "ax.legend(('actual', 'all'))"
   ]
  },
  {
   "cell_type": "code",
   "execution_count": 56,
   "metadata": {
    "collapsed": true
   },
   "outputs": [
    {
     "ename": "NameError",
     "evalue": "name 'dwIIHS' is not defined",
     "output_type": "error",
     "traceback": [
      "\u001b[1;31m---------------------------------------------------------------------------\u001b[0m",
      "\u001b[1;31mNameError\u001b[0m                                 Traceback (most recent call last)",
      "\u001b[1;32m<ipython-input-56-9dae9e5b8c96>\u001b[0m in \u001b[0;36m<module>\u001b[1;34m\u001b[0m\n\u001b[1;32m----> 1\u001b[1;33m \u001b[0mprint\u001b[0m\u001b[1;33m(\u001b[0m\u001b[0mnp\u001b[0m\u001b[1;33m.\u001b[0m\u001b[0mnanmean\u001b[0m\u001b[1;33m(\u001b[0m\u001b[0mdwIIHS\u001b[0m\u001b[1;33m)\u001b[0m\u001b[1;33m)\u001b[0m\u001b[1;33m\u001b[0m\u001b[1;33m\u001b[0m\u001b[0m\n\u001b[0m",
      "\u001b[1;31mNameError\u001b[0m: name 'dwIIHS' is not defined"
     ]
    }
   ],
   "source": [
    "print(np.nanmean(dwIIHS))"
   ]
  },
  {
   "cell_type": "code",
   "execution_count": 144,
   "metadata": {
    "scrolled": false
   },
   "outputs": [
    {
     "data": {
      "text/plain": [
       "0.06354718045386862"
      ]
     },
     "execution_count": 144,
     "metadata": {},
     "output_type": "execute_result"
    }
   ],
   "source": [
    "dwIIHHatSRandRavel = np.random.choice(dwIIHHat.ravel(), int(dwIIHHat.size / 4), replace=False)\n",
    "dwIIHHatSRandRavel.mean()"
   ]
  },
  {
   "cell_type": "code",
   "execution_count": 58,
   "metadata": {
    "scrolled": true
   },
   "outputs": [
    {
     "data": {
      "text/plain": [
       "0.039445272125656156"
      ]
     },
     "execution_count": 58,
     "metadata": {},
     "output_type": "execute_result"
    }
   ],
   "source": [
    "preInds, postInds = generate_adjacency_indices_within(p['nInh'], p['propConnect'], allowAutapses=False)\n",
    "dwIIHHatSNewSyns = dwIIHHat[preInds, postInds]\n",
    "dwIIHHatSNewSyns.mean()"
   ]
  },
  {
   "cell_type": "code",
   "execution_count": 59,
   "metadata": {},
   "outputs": [],
   "source": [
    "ravelIndsII = np.ravel_multi_index((R1.preII, R1.posII,), (p['nInh'], p['nInh']))"
   ]
  },
  {
   "cell_type": "code",
   "execution_count": 60,
   "metadata": {},
   "outputs": [
    {
     "data": {
      "text/plain": [
       "-0.21075704793662225"
      ]
     },
     "execution_count": 60,
     "metadata": {},
     "output_type": "execute_result"
    }
   ],
   "source": [
    "dwIIHHatSRavel = dwIIHHat.ravel()[ravelIndsII]\n",
    "dwIIHHatSRavel.mean()"
   ]
  },
  {
   "cell_type": "code",
   "execution_count": 61,
   "metadata": {},
   "outputs": [
    {
     "data": {
      "text/plain": [
       "0.06896905171171298"
      ]
     },
     "execution_count": 61,
     "metadata": {},
     "output_type": "execute_result"
    }
   ],
   "source": [
    "dwIIHHat.mean()"
   ]
  },
  {
   "cell_type": "code",
   "execution_count": 62,
   "metadata": {},
   "outputs": [
    {
     "data": {
      "text/plain": [
       "0.04081709116325066"
      ]
     },
     "execution_count": 62,
     "metadata": {},
     "output_type": "execute_result"
    }
   ],
   "source": [
    "np.nanmean(dwIIHHatNoDiag)"
   ]
  },
  {
   "cell_type": "code",
   "execution_count": 63,
   "metadata": {
    "scrolled": true
   },
   "outputs": [
    {
     "data": {
      "text/plain": [
       "-0.21075704793662225"
      ]
     },
     "execution_count": 63,
     "metadata": {},
     "output_type": "execute_result"
    }
   ],
   "source": [
    "np.nanmean(dwIIHHatS)"
   ]
  },
  {
   "cell_type": "code",
   "execution_count": 64,
   "metadata": {},
   "outputs": [],
   "source": [
    "# now let's repeat the same thing as the fake, but the firing rates are correlated with each other (eccentric ellipse)\n",
    "\n",
    "startTrialInd = 400\n",
    "endTrialInd = R1.trialUpFRExc.size\n",
    "\n",
    "nTrials = endTrialInd - startTrialInd\n",
    "nUnits = p['nInh']\n",
    "\n",
    "dwEEHTrialSumF2 = np.zeros((p['nExc'], p['nExc']))\n",
    "dwEIHTrialSumF2 = np.zeros((p['nInh'], p['nExc']))\n",
    "dwIEHTrialSumF2 = np.zeros((p['nExc'], p['nInh']))\n",
    "dwIIHTrialSumF2 = np.zeros((p['nInh'], p['nInh']))\n",
    "\n",
    "commonRand = np.random.normal(0, 0.05, nTrials)\n",
    "dummyInd = 0\n",
    "for trialInd in range(startTrialInd, endTrialInd):\n",
    "    movAvgUpFRExcUnits = p['setUpFRExc'] + (commonRand[dummyInd] * p['setUpFRExc']) + np.random.normal(0, 0.1, p['nExc']) * p['setUpFRExc']\n",
    "    movAvgUpFRInhUnits = p['setUpFRInh'] + (commonRand[dummyInd] * p['setUpFRInh']) + np.random.normal(0, 0.1, p['nInh']) * p['setUpFRInh']\n",
    "    dwEEHTrialSumF2 += np.outer(movAvgUpFRExcUnits, (p['setUpFRExc'] - movAvgUpFRExcUnits))\n",
    "    dwEIHTrialSumF2 += -np.outer(movAvgUpFRInhUnits, (p['setUpFRExc'] - movAvgUpFRExcUnits)) \n",
    "    dwIEHTrialSumF2 += np.outer(movAvgUpFRExcUnits, (p['setUpFRInh'] - movAvgUpFRInhUnits)) \n",
    "    dwIIHTrialSumF2 += -np.outer(movAvgUpFRInhUnits, (p['setUpFRInh'] - movAvgUpFRInhUnits))\n",
    "    dummyInd += 1\n",
    "\n",
    "dwEEHHatF2 = dwEEHTrialSumF2 / nTrials\n",
    "dwEIHHatF2 = dwEIHTrialSumF2 / nTrials\n",
    "dwIEHHatF2 = dwIEHTrialSumF2 / nTrials\n",
    "dwIIHHatF2 = dwIIHTrialSumF2 / nTrials\n",
    "\n",
    "dwEEHHatSF2 = np.full((p['nExc'], p['nExc']), np.nan)\n",
    "dwEIHHatSF2 = np.full((p['nInh'], p['nExc']), np.nan)\n",
    "dwIEHHatSF2 = np.full((p['nExc'], p['nInh']), np.nan)\n",
    "dwIIHHatSF2 = np.full((p['nInh'], p['nInh']), np.nan)\n",
    "\n",
    "dwEEHHatSF2[R1.preEE, R1.posEE] = dwEEHHatF2[R1.preEE, R1.posEE]\n",
    "dwEIHHatSF2[R1.preEI, R1.posEI] = dwEIHHatF2[R1.preEI, R1.posEI]\n",
    "dwIEHHatSF2[R1.preIE, R1.posIE] = dwIEHHatF2[R1.preIE, R1.posIE]\n",
    "dwIIHHatSF2[R1.preII, R1.posII] = dwIIHHatF2[R1.preII, R1.posII]"
   ]
  },
  {
   "cell_type": "code",
   "execution_count": 65,
   "metadata": {
    "scrolled": true
   },
   "outputs": [
    {
     "name": "stdout",
     "output_type": "stream",
     "text": [
      "0.00019815192133687543\n",
      "-0.00023176324764120904\n",
      "0.0002886799915373939\n",
      "-0.0037956936789795837\n"
     ]
    }
   ],
   "source": [
    "print(np.nanmean(dwEEHHatSF2) - dwEEHHatF2.mean())\n",
    "print(np.nanmean(dwEIHHatSF2) - dwEIHHatF2.mean())\n",
    "print(np.nanmean(dwIEHHatSF2) - dwIEHHatF2.mean())\n",
    "print(np.nanmean(dwIIHHatSF2) - dwIIHHatF2.mean())"
   ]
  },
  {
   "cell_type": "code",
   "execution_count": 66,
   "metadata": {},
   "outputs": [],
   "source": [
    "dwIIHHatNorm = dwIIHHat.copy()\n",
    "dwIIHHatNorm[np.diag_indices_from(dwIIHHatNorm)] = 0\n",
    "dwIIHHatNorm = dwIIHHatNorm / np.max(np.fabs(dwIIHHatNorm))"
   ]
  },
  {
   "cell_type": "code",
   "execution_count": 67,
   "metadata": {},
   "outputs": [],
   "source": [
    "dwIIHHatNormF = dwIIHHatF.copy()\n",
    "dwIIHHatNormF[np.diag_indices_from(dwIIHHatNormF)] = 0\n",
    "dwIIHHatNormF = dwIIHHatNormF / np.max(np.fabs(dwIIHHatNormF))"
   ]
  },
  {
   "cell_type": "code",
   "execution_count": 68,
   "metadata": {},
   "outputs": [],
   "source": [
    "dwIIHHatNormF2 = dwIIHHatF2.copy()\n",
    "dwIIHHatNormF2[np.diag_indices_from(dwIIHHatNormF2)] = 0\n",
    "dwIIHHatNormF2 = dwIIHHatNormF2 / np.max(np.fabs(dwIIHHatNormF2))"
   ]
  },
  {
   "cell_type": "code",
   "execution_count": 69,
   "metadata": {
    "collapsed": true
   },
   "outputs": [
    {
     "data": {
      "text/plain": [
       "array([ 0.00000000e+00,  3.30692436e-01,  5.85084199e-02, -3.25452263e-01,\n",
       "       -1.10724434e-01, -9.33513766e-02,  2.93308681e-03,  1.40905829e-01,\n",
       "        9.64936185e-02, -4.36818873e-02,  5.92230430e-02,  2.33087621e-01,\n",
       "       -1.84758889e-01, -2.56458176e-01,  8.24481270e-02,  8.75811424e-02,\n",
       "        5.34978521e-02, -1.50041197e-02, -4.15388107e-02,  9.48994939e-03,\n",
       "        1.78297394e-01,  2.28724494e-01,  1.33324278e-01,  5.31235363e-02,\n",
       "       -1.16529839e-01,  1.87293830e-01, -5.40561901e-02, -1.85866425e-01,\n",
       "        6.77133913e-02,  5.32678735e-02,  2.33581667e-01,  3.97803748e-02,\n",
       "       -1.59883331e-01,  3.46935795e-02,  2.20919580e-01, -2.84875679e-01,\n",
       "       -1.29707955e-01,  5.52200177e-02, -8.67990751e-02, -9.48860949e-02,\n",
       "        2.53980659e-01,  2.23057746e-01,  3.03130502e-01,  1.25172789e-02,\n",
       "        4.58420660e-02,  2.79070225e-01,  3.58517338e-02, -2.33090827e-02,\n",
       "       -1.04933439e-01,  1.65360077e-01, -8.76888034e-02, -2.52084854e-03,\n",
       "        1.16524275e-01, -6.31781659e-02, -1.07799831e-01, -6.20735653e-02,\n",
       "       -3.87254688e-02, -1.02295378e-01,  2.22006442e-01,  1.58544672e-01,\n",
       "        1.98667129e-02,  2.46347219e-01,  2.19427934e-01, -3.49618016e-01,\n",
       "       -1.19651858e-01, -4.92079108e-02, -1.48634786e-01, -3.74969842e-02,\n",
       "       -1.32772410e-01,  1.07100071e-01, -3.43367841e-02, -3.93903318e-02,\n",
       "        3.16404832e-01,  6.15137229e-02,  2.10484498e-01,  6.55308593e-02,\n",
       "       -1.72439721e-01,  1.90775324e-03,  5.80061526e-02,  2.76428779e-01,\n",
       "       -4.20832406e-02, -4.06595249e-02,  2.00412470e-01,  1.30094247e-01,\n",
       "        8.60725043e-02, -1.16042261e-02,  1.56444543e-01,  3.11798996e-02,\n",
       "        4.56359318e-02, -8.48484462e-02, -6.84212456e-02, -5.46827020e-02,\n",
       "        6.46495027e-02,  1.33608646e-01, -4.04500245e-02,  7.51848049e-02,\n",
       "       -5.33842020e-02, -8.32292586e-02,  5.41655404e-02,  5.05229983e-02,\n",
       "        1.83917324e-01,  6.76779401e-02,  8.05341204e-02, -1.65888899e-01,\n",
       "        3.75302700e-01,  1.03549476e-01, -2.95148686e-01,  1.54763658e-01,\n",
       "       -1.24668066e-01, -2.64108518e-01,  1.88999621e-01,  1.32609787e-01,\n",
       "        6.39554269e-02,  3.35694565e-02, -3.23243404e-01, -6.41207566e-02,\n",
       "       -1.04394276e-02,  1.38288877e-01,  2.13804616e-02,  1.36805826e-01,\n",
       "       -9.65005056e-02, -3.08750140e-02,  4.19981120e-02,  1.90640649e-03,\n",
       "       -2.14129015e-01, -7.81519926e-02,  3.18948325e-01, -2.58457426e-01,\n",
       "       -1.25992946e-01, -1.76606112e-01,  1.78620823e-02,  8.06010395e-03,\n",
       "        2.08971493e-01, -4.63204494e-02,  3.06596934e-01, -9.63321749e-02,\n",
       "        1.81305806e-01,  7.54650332e-02, -1.19527039e-02, -1.89413337e-02,\n",
       "       -8.09525698e-03,  1.83046415e-02,  1.22729754e-01, -2.24802515e-01,\n",
       "       -7.54618233e-02, -4.79452127e-02, -5.86268925e-02, -4.64363978e-02,\n",
       "        8.83451018e-03, -1.21890492e-01, -1.01241583e-01, -2.54358331e-02,\n",
       "        1.95412340e-01, -2.37428400e-02, -7.06881854e-02,  3.82510389e-02,\n",
       "        7.41814515e-02, -7.40291989e-02,  1.61514690e-01,  1.50599703e-01,\n",
       "       -3.52567078e-01, -1.87189756e-01,  1.61472463e-01, -1.06522925e-01,\n",
       "        1.20735245e-01, -2.16217180e-01, -2.93308790e-01, -1.39796140e-01,\n",
       "        1.70036197e-01, -1.51329813e-01,  2.19728307e-01,  7.26125373e-02,\n",
       "        5.18282798e-02, -3.78813062e-03,  6.68925200e-02,  2.95387767e-01,\n",
       "        1.49170421e-01, -4.86486321e-02,  1.61885464e-01,  2.06021220e-03,\n",
       "       -2.83149034e-02, -1.69630429e-01,  2.49855591e-01,  2.66141130e-01,\n",
       "       -2.47476953e-01, -3.44093547e-02, -2.67596464e-01,  1.05948480e-01,\n",
       "       -1.02729766e-01,  9.38557237e-02,  1.24993259e-01,  2.99199635e-01,\n",
       "       -4.66541239e-02,  2.41084145e-03,  1.37684760e-01,  3.91539693e-02,\n",
       "       -7.91600098e-02,  2.94509772e-01,  1.36370620e-01,  1.21091223e-01,\n",
       "       -1.48403801e-01,  8.37873526e-02, -2.64001436e-02,  1.15731077e-01,\n",
       "       -1.03528566e-01,  2.03775503e-02, -5.93208874e-03,  2.37360252e-01,\n",
       "        9.76715444e-02,  1.22439868e-02,  2.90842006e-02,  1.16631098e-01,\n",
       "        5.92592764e-02,  2.30880740e-01,  2.02605634e-01,  1.12338943e-01,\n",
       "       -1.24660360e-01, -2.56904451e-01, -7.06148800e-03,  3.17285732e-01,\n",
       "        4.39384323e-02,  2.96070156e-01, -5.87904797e-02, -6.89053168e-02,\n",
       "       -1.81493396e-01, -1.41977130e-01,  1.79463787e-01, -6.15225337e-02,\n",
       "       -5.41699872e-02, -1.84206510e-01, -8.22323125e-02, -1.16911769e-01,\n",
       "       -1.64262204e-01, -1.36585409e-02, -7.32875470e-02, -1.52071759e-02,\n",
       "       -2.48380380e-02,  3.26760135e-01,  2.65360356e-02,  1.99084713e-01,\n",
       "       -3.59174556e-01, -7.35407742e-01,  1.59712773e-01, -3.25607907e-02,\n",
       "       -3.19519172e-02,  6.84874854e-02, -5.47711759e-02, -4.18219740e-02,\n",
       "       -6.87037872e-02,  9.32122278e-02,  1.02133178e-01, -8.14479940e-03,\n",
       "        5.17157027e-02,  3.57727934e-02,  9.38300801e-02, -3.08882310e-02,\n",
       "       -1.87144455e-01, -3.35115906e-01,  2.38647928e-01, -5.06248483e-02,\n",
       "        1.78577931e-01, -1.49000309e-02,  1.73200836e-01,  2.97252868e-02,\n",
       "        2.40023955e-02, -2.99175853e-02, -8.45290542e-02,  1.74970567e-01,\n",
       "       -1.32380491e-01,  1.09405770e-01, -4.35179674e-02, -6.73632774e-02,\n",
       "       -6.96844943e-02,  5.73568159e-02,  2.45978819e-01,  1.21842773e-01,\n",
       "       -8.57350257e-02,  6.61671629e-02,  1.75173230e-01, -2.34104860e-01,\n",
       "       -5.77940858e-03, -6.88222202e-04, -2.40759089e-02, -4.07741317e-02,\n",
       "       -1.01019016e-01, -2.28341543e-01,  1.80988645e-01,  2.24469254e-02,\n",
       "        4.87729466e-02, -1.55093536e-01,  1.45212983e-01, -5.03592761e-02,\n",
       "        6.31438214e-02,  8.32991522e-02, -2.54263603e-02, -1.38448845e-01,\n",
       "       -1.47945873e-01, -2.29376402e-01,  3.31287141e-01, -2.57046046e-01,\n",
       "       -2.77207534e-01,  7.32378940e-02,  5.02439152e-02,  2.10390829e-01,\n",
       "        1.17842711e-01,  2.32280218e-01,  2.50992690e-01,  1.33173907e-01,\n",
       "       -2.02221992e-01,  4.47442329e-03,  2.65639958e-01, -2.65172546e-02,\n",
       "        1.02244194e-01, -5.15403720e-03,  4.80629491e-01,  2.31455400e-01,\n",
       "        1.02728116e-02,  1.85136938e-01,  2.28080700e-01,  1.66878735e-01,\n",
       "        2.62988282e-01,  1.16085231e-01,  1.57497151e-01,  2.53516830e-02,\n",
       "       -1.53614997e-01,  1.60012267e-01,  1.64746472e-01,  1.41259393e-01,\n",
       "        1.35385126e-01,  6.17735442e-03,  6.24780094e-02,  3.24336492e-02,\n",
       "        2.79200875e-01, -2.43028682e-02, -1.87783995e-01,  1.02953849e-01,\n",
       "        1.67727538e-02,  4.88525871e-03, -6.67329141e-02,  1.73006750e-01,\n",
       "        7.07736448e-02,  1.21946118e-01,  8.98935812e-02,  1.41689400e-01,\n",
       "       -1.36395785e-02, -2.33324119e-01,  6.31016054e-02,  1.88103636e-01,\n",
       "       -2.11066134e-01,  3.95995301e-02, -8.74068160e-03,  2.88134890e-01,\n",
       "       -2.30681871e-02,  2.72115742e-01,  2.11265703e-01,  2.54765460e-01,\n",
       "        1.75959334e-01, -7.30812323e-02,  1.33195919e-01,  3.58603862e-02,\n",
       "        3.43988048e-02, -1.16459851e-01,  2.73012801e-02,  1.27478515e-01,\n",
       "       -2.59781579e-01, -9.89087935e-02, -1.82869447e-01,  3.39641503e-03,\n",
       "        1.40679450e-01,  1.97735511e-01,  2.15486989e-01, -2.56946497e-01,\n",
       "        1.43051579e-01,  3.80467178e-02, -6.97302983e-02,  9.72115169e-02,\n",
       "        2.97465905e-02,  5.34848840e-02,  2.92538232e-01,  8.76737131e-02,\n",
       "       -1.57721626e-01,  2.20274981e-02,  3.93120844e-02,  1.52703183e-02,\n",
       "        1.20030562e-01, -2.59670001e-01,  1.01053624e-01,  9.48924568e-02,\n",
       "        1.02896928e-01,  2.75760567e-01,  1.95524580e-01,  7.69723020e-02,\n",
       "       -2.07483398e-02, -1.52643362e-02,  4.60395211e-02,  6.47594154e-02,\n",
       "        2.96823951e-02,  2.99764787e-01, -1.65939445e-01,  2.31911887e-01])"
      ]
     },
     "execution_count": 69,
     "metadata": {},
     "output_type": "execute_result"
    }
   ],
   "source": [
    "dwIIHHatNorm[:, 0]"
   ]
  },
  {
   "cell_type": "code",
   "execution_count": 70,
   "metadata": {
    "collapsed": true
   },
   "outputs": [
    {
     "data": {
      "text/plain": [
       "array([ 0.        , -0.12210316, -0.10983357, -0.11348636, -0.16553782,\n",
       "       -0.08927872, -0.16647243, -0.12102108, -0.16857124, -0.13415019,\n",
       "       -0.16098192, -0.09578992, -0.13953643, -0.11740248, -0.12627249,\n",
       "       -0.14815868, -0.1136888 , -0.14710066, -0.17769469, -0.18775682,\n",
       "       -0.11820397, -0.13354729, -0.15661426, -0.13057347, -0.10275234,\n",
       "       -0.09295946, -0.13341465, -0.10266774, -0.07555564, -0.15202973,\n",
       "       -0.17936197, -0.13182839, -0.17301157, -0.14783482, -0.15661527,\n",
       "       -0.11911874, -0.14628531, -0.13669432, -0.14041829, -0.12441228,\n",
       "       -0.12171915, -0.10138468, -0.1233399 , -0.15666706, -0.14206891,\n",
       "       -0.11183099, -0.1600045 , -0.14207584, -0.15688646, -0.17577316,\n",
       "       -0.16462439, -0.11757145, -0.1740296 , -0.13311107, -0.15574182,\n",
       "       -0.14078519, -0.17512121, -0.11519818, -0.13488477, -0.10317022,\n",
       "       -0.1731719 , -0.17312074, -0.08911369, -0.13098085, -0.18914832,\n",
       "       -0.18461054, -0.16382215, -0.09964536, -0.15790161, -0.11391012,\n",
       "       -0.13275582, -0.08259157, -0.2085566 , -0.11361823, -0.19600401,\n",
       "       -0.16067591, -0.10458135, -0.17729755, -0.14356291, -0.11488646,\n",
       "       -0.17713913, -0.18008549, -0.13880926, -0.09141869, -0.17711529,\n",
       "       -0.11781271, -0.14385849, -0.07611359, -0.14801863, -0.16185467,\n",
       "       -0.13215249, -0.15589758, -0.10468669, -0.16426225, -0.15645891,\n",
       "       -0.13581199, -0.15272217, -0.0963539 , -0.16005905, -0.12955896,\n",
       "       -0.09425023, -0.15730185, -0.09912871, -0.15338663, -0.11738503,\n",
       "       -0.13642781, -0.17268044, -0.11670228, -0.1357219 , -0.15273464,\n",
       "       -0.1815252 , -0.10469028, -0.15504216, -0.18323245, -0.11812189,\n",
       "       -0.10719114, -0.16253129, -0.13227829, -0.12739842, -0.1488934 ,\n",
       "       -0.13938749, -0.13580281, -0.0990679 , -0.10110093, -0.11899729,\n",
       "       -0.15641893, -0.17753751, -0.10750788, -0.16830129, -0.14816459,\n",
       "       -0.17725731, -0.08994325, -0.13328047, -0.14218083, -0.11431566,\n",
       "       -0.1112156 , -0.15984197, -0.11277812, -0.16262467, -0.1529335 ,\n",
       "       -0.13439781, -0.11377019, -0.15681062, -0.21297556, -0.07744886,\n",
       "       -0.08013168, -0.12994999, -0.12679585, -0.17468651, -0.12745124,\n",
       "       -0.15094727, -0.11262771, -0.10995958, -0.11785918, -0.10818311,\n",
       "       -0.17054231, -0.12554969, -0.16508178, -0.19131572, -0.09128056,\n",
       "       -0.16078639, -0.13363042, -0.16802391, -0.19192582, -0.15692318,\n",
       "       -0.14566685, -0.12296226, -0.15287754, -0.10234569, -0.1339697 ,\n",
       "       -0.1574896 , -0.18494245, -0.1365538 , -0.12774105, -0.14358417,\n",
       "       -0.0980493 , -0.09012038, -0.1370209 , -0.15992444, -0.13553175,\n",
       "       -0.16874606, -0.14119037, -0.13454909, -0.13788585, -0.16382947,\n",
       "       -0.15295506, -0.12748404, -0.11082791, -0.15191075, -0.10497619,\n",
       "       -0.14344718, -0.12913184, -0.1320583 , -0.21742192, -0.12725016,\n",
       "       -0.12242464, -0.16571682, -0.12227136, -0.09476501, -0.07403571,\n",
       "       -0.1524087 , -0.17077386, -0.10542926, -0.06827959, -0.13087613,\n",
       "       -0.16926026, -0.11575621, -0.17964569, -0.11180091, -0.10957499,\n",
       "       -0.07722107, -0.1512282 , -0.16459306, -0.15624863, -0.17171812,\n",
       "       -0.13163153, -0.10728015, -0.12275099, -0.08269341, -0.11493297,\n",
       "       -0.13981596, -0.13308023, -0.12565601, -0.14355155, -0.13267654,\n",
       "       -0.18192427, -0.16473432, -0.10208869, -0.11477382, -0.16034684,\n",
       "       -0.14301742, -0.15691067, -0.1252177 , -0.10630872, -0.22456388,\n",
       "       -0.14747645, -0.12944086, -0.19098383, -0.1661968 , -0.09140741,\n",
       "       -0.13226006, -0.128208  , -0.14054537, -0.12228003, -0.1546246 ,\n",
       "       -0.10205456, -0.11937054, -0.11835184, -0.10944387, -0.1344292 ,\n",
       "       -0.16446143, -0.1322106 , -0.13712957, -0.12228919, -0.16465322,\n",
       "       -0.18093778, -0.12935385, -0.13219912, -0.05442786, -0.21841341,\n",
       "       -0.15682491, -0.1481849 , -0.1289847 , -0.19766573, -0.14332409,\n",
       "       -0.12784822, -0.16722819, -0.11112935, -0.11582186, -0.18023253,\n",
       "       -0.0810563 , -0.13194125, -0.18112914, -0.13463329, -0.16701508,\n",
       "       -0.1601767 , -0.09908497, -0.07005578, -0.16741705, -0.1276815 ,\n",
       "       -0.21949664, -0.1326559 , -0.08922293, -0.13270616, -0.16627798,\n",
       "       -0.13702433, -0.18989824, -0.08305275, -0.17895188, -0.11405767,\n",
       "       -0.07037811, -0.12181738, -0.17081707, -0.11507939, -0.10590135,\n",
       "       -0.19193676, -0.13946059, -0.20241807, -0.13607198, -0.14530431,\n",
       "       -0.12501064, -0.13758177, -0.13066241, -0.11026745, -0.15379683,\n",
       "       -0.15857692, -0.16812527, -0.1600077 , -0.15584435, -0.13747897,\n",
       "       -0.14742878, -0.14255376, -0.15377223, -0.16656411, -0.17555459,\n",
       "       -0.15479479, -0.15127937, -0.08687722, -0.10942754, -0.1503575 ,\n",
       "       -0.13815801, -0.12741427, -0.12875726, -0.0745848 , -0.09730785,\n",
       "       -0.12203558, -0.11640245, -0.14148147, -0.13464615, -0.1357471 ,\n",
       "       -0.13907125, -0.14169785, -0.09722853, -0.16690077, -0.18298535,\n",
       "       -0.11655775, -0.15803434, -0.16892001, -0.07179867, -0.17554935,\n",
       "       -0.15526327, -0.11061793, -0.13327701, -0.11575621, -0.05848034,\n",
       "       -0.13592673, -0.15005816, -0.10239088, -0.1647123 , -0.13309703,\n",
       "       -0.14372822, -0.16356485, -0.11174351, -0.15576722, -0.184885  ,\n",
       "       -0.13227814, -0.10273174, -0.10902114, -0.12267349, -0.11182484,\n",
       "       -0.17084741, -0.14527739, -0.1293625 , -0.13787283, -0.12054905,\n",
       "       -0.19143405, -0.19165325, -0.14304841, -0.18778062, -0.16138558,\n",
       "       -0.09401666, -0.15060537, -0.1284379 , -0.14334489, -0.12316976,\n",
       "       -0.13722441, -0.14729491, -0.12772564, -0.13044568, -0.14113253,\n",
       "       -0.09976407, -0.14661182, -0.08219195, -0.15001596, -0.13824708,\n",
       "       -0.16235913, -0.0943665 , -0.09376912, -0.16997262, -0.15108029,\n",
       "       -0.14801436, -0.1307696 , -0.11200447, -0.12046482, -0.18536593,\n",
       "       -0.13066791, -0.1395968 , -0.1725285 , -0.17807183, -0.10468361])"
      ]
     },
     "execution_count": 70,
     "metadata": {},
     "output_type": "execute_result"
    }
   ],
   "source": [
    "dwIIHHatNormF[:, 0]"
   ]
  },
  {
   "cell_type": "code",
   "execution_count": 71,
   "metadata": {
    "collapsed": true
   },
   "outputs": [
    {
     "data": {
      "text/plain": [
       "array([0.        , 0.30369244, 0.32587999, 0.27829854, 0.31742834,\n",
       "       0.30903728, 0.32248871, 0.32784784, 0.29298362, 0.30596454,\n",
       "       0.32183314, 0.35897506, 0.31451888, 0.33726393, 0.27690393,\n",
       "       0.30161047, 0.28466908, 0.3197785 , 0.30960472, 0.29255071,\n",
       "       0.32327243, 0.3233712 , 0.33075952, 0.30849937, 0.29992144,\n",
       "       0.29385123, 0.3052381 , 0.31625632, 0.31141082, 0.29918697,\n",
       "       0.32466444, 0.28597279, 0.32511386, 0.27964296, 0.31132363,\n",
       "       0.28404704, 0.30748412, 0.31938209, 0.30274297, 0.32901424,\n",
       "       0.26857891, 0.27541193, 0.34552504, 0.31238683, 0.29269919,\n",
       "       0.32426437, 0.3587412 , 0.31050696, 0.34104168, 0.31792604,\n",
       "       0.30672446, 0.33696597, 0.33044818, 0.30202037, 0.30287924,\n",
       "       0.32926646, 0.31842036, 0.30714917, 0.33693087, 0.32879881,\n",
       "       0.33662258, 0.32575031, 0.30399097, 0.30600226, 0.31603764,\n",
       "       0.33026573, 0.2729713 , 0.33335014, 0.3093732 , 0.30523564,\n",
       "       0.28259911, 0.27916346, 0.30169233, 0.32632577, 0.30115872,\n",
       "       0.25164309, 0.27891718, 0.31321339, 0.32852574, 0.29126899,\n",
       "       0.32544807, 0.31083561, 0.33236259, 0.31071962, 0.33082796,\n",
       "       0.31266392, 0.30934734, 0.30656727, 0.30372541, 0.28936343,\n",
       "       0.3146849 , 0.30277548, 0.30888187, 0.29385965, 0.28971076,\n",
       "       0.3054777 , 0.31226792, 0.28829683, 0.31272737, 0.29207625,\n",
       "       0.31004527, 0.3122683 , 0.2739567 , 0.29849559, 0.34372128,\n",
       "       0.32426157, 0.32094768, 0.30096236, 0.34170785, 0.32963705,\n",
       "       0.33543382, 0.29595475, 0.33820564, 0.30311471, 0.32205417,\n",
       "       0.29951166, 0.34030112, 0.31146676, 0.33303349, 0.28960464,\n",
       "       0.28098119, 0.31972343, 0.30624503, 0.32732356, 0.33016729,\n",
       "       0.30946688, 0.30614569, 0.30289101, 0.29910394, 0.33952644,\n",
       "       0.31054709, 0.30026599, 0.32613389, 0.30941108, 0.32305933,\n",
       "       0.2966484 , 0.32361807, 0.30190286, 0.32188524, 0.29028803,\n",
       "       0.33381056, 0.30689959, 0.35566559, 0.33585748, 0.29863173,\n",
       "       0.32616025, 0.34079595, 0.32286087, 0.3172707 , 0.27004621,\n",
       "       0.31060988, 0.35485148, 0.31794133, 0.29496642, 0.33429195,\n",
       "       0.32605577, 0.30156178, 0.28061113, 0.29557002, 0.33382212,\n",
       "       0.27953623, 0.32291826, 0.28130844, 0.29234258, 0.32916875,\n",
       "       0.30295992, 0.31524668, 0.31890377, 0.32747973, 0.31678316,\n",
       "       0.29692661, 0.27087748, 0.33610482, 0.33520431, 0.29655926,\n",
       "       0.3081395 , 0.2820666 , 0.26768996, 0.31966039, 0.3374831 ,\n",
       "       0.2949406 , 0.28580498, 0.29273076, 0.32032477, 0.33126578,\n",
       "       0.28931307, 0.32914777, 0.34060316, 0.30412506, 0.30472934,\n",
       "       0.32305853, 0.31441073, 0.32027517, 0.3228256 , 0.32683057,\n",
       "       0.31331131, 0.32985787, 0.28214151, 0.30341919, 0.32892097,\n",
       "       0.29081033, 0.30068404, 0.31889928, 0.3167105 , 0.30923475,\n",
       "       0.33322939, 0.29162824, 0.32331303, 0.30120932, 0.32169863,\n",
       "       0.33135041, 0.3152608 , 0.28345038, 0.27545839, 0.32792265,\n",
       "       0.30631072, 0.27117847, 0.30532389, 0.34656657, 0.32972586,\n",
       "       0.28912603, 0.26872498, 0.31711218, 0.31086323, 0.30887321,\n",
       "       0.31874178, 0.32175023, 0.27899451, 0.3070765 , 0.32124869,\n",
       "       0.33855363, 0.28950913, 0.28716457, 0.33495829, 0.29911365,\n",
       "       0.32171514, 0.32693144, 0.31304731, 0.30386161, 0.33286894,\n",
       "       0.3439865 , 0.29441168, 0.33309012, 0.31495121, 0.33520491,\n",
       "       0.34444738, 0.29527401, 0.32414526, 0.3305036 , 0.30751995,\n",
       "       0.32081862, 0.27785776, 0.32268981, 0.32137654, 0.29991634,\n",
       "       0.28793536, 0.36164838, 0.30408969, 0.35989135, 0.31390257,\n",
       "       0.31047532, 0.31481798, 0.32263409, 0.30208639, 0.3317376 ,\n",
       "       0.30161776, 0.30701576, 0.36147047, 0.32839828, 0.30182591,\n",
       "       0.30657153, 0.28462829, 0.33527653, 0.31310065, 0.3492876 ,\n",
       "       0.30849753, 0.27801485, 0.30798127, 0.3278703 , 0.3070729 ,\n",
       "       0.29958448, 0.31853221, 0.32835143, 0.28021753, 0.32068645,\n",
       "       0.31043758, 0.32273957, 0.27988422, 0.26807221, 0.31326802,\n",
       "       0.31910839, 0.30421306, 0.32409076, 0.30088661, 0.30201321,\n",
       "       0.31178724, 0.29773888, 0.32152566, 0.32302493, 0.30927902,\n",
       "       0.30460261, 0.29635244, 0.31715611, 0.29514318, 0.32003212,\n",
       "       0.31401134, 0.33345441, 0.3363996 , 0.27916785, 0.33470278,\n",
       "       0.27042311, 0.34896656, 0.31059512, 0.30930411, 0.30063282,\n",
       "       0.30040488, 0.27472602, 0.319407  , 0.28061176, 0.32176817,\n",
       "       0.31673429, 0.31040933, 0.29712085, 0.31945132, 0.30384891,\n",
       "       0.31993363, 0.29898256, 0.25484914, 0.32849931, 0.31917476,\n",
       "       0.32507666, 0.2966824 , 0.30467449, 0.30595723, 0.29066346,\n",
       "       0.32469918, 0.33688492, 0.29531599, 0.30250081, 0.32105821,\n",
       "       0.29482887, 0.29909591, 0.27016369, 0.34291821, 0.31189118,\n",
       "       0.32314442, 0.35659338, 0.3008136 , 0.2904096 , 0.3325646 ,\n",
       "       0.3011717 , 0.30127172, 0.30890995, 0.31063995, 0.32154332,\n",
       "       0.2862858 , 0.32908745, 0.32309882, 0.2850749 , 0.29301302,\n",
       "       0.3152939 , 0.29179843, 0.30356425, 0.28126999, 0.31974591,\n",
       "       0.29159205, 0.2860772 , 0.31649596, 0.33598367, 0.30675683,\n",
       "       0.3137575 , 0.30127283, 0.32977005, 0.3200302 , 0.29614285,\n",
       "       0.31222513, 0.30734473, 0.30230123, 0.29365091, 0.29883458,\n",
       "       0.29758395, 0.34291944, 0.32278957, 0.34165639, 0.28154103,\n",
       "       0.35371807, 0.32251053, 0.28437052, 0.29504039, 0.30382433,\n",
       "       0.28971043, 0.30258652, 0.29970469, 0.30288083, 0.31919651,\n",
       "       0.31218618, 0.31441026, 0.32796332, 0.30847814, 0.3385872 ])"
      ]
     },
     "execution_count": 71,
     "metadata": {},
     "output_type": "execute_result"
    }
   ],
   "source": [
    "dwIIHHatNormF2[:, 0]"
   ]
  },
  {
   "cell_type": "code",
   "execution_count": 76,
   "metadata": {},
   "outputs": [],
   "source": [
    "# plotting the full and sparse versions of dwII\n",
    "\n",
    "vlims = (-1, 1)\n",
    "\n",
    "fig7, ax7 = plt.subplots(1, 3, figsize=(17, 5))\n",
    "ax7 = ax7.ravel()\n",
    "weight_matrix(ax7[0], dwIIHHatNorm, xlabel='Post Index', ylabel='Pre Index',\n",
    "              clabel='', limsMethod='custom', vlims=vlims)\n",
    "weight_matrix(ax7[1], dwIIHHatNormF, xlabel='Post Index', ylabel='',\n",
    "              clabel='', limsMethod='custom', vlims=vlims)\n",
    "weight_matrix(ax7[2], dwIIHHatNormF2, xlabel='Post Index', ylabel='',\n",
    "              clabel='Weight (pA)', limsMethod='custom', vlims=vlims)"
   ]
  },
  {
   "cell_type": "code",
   "execution_count": 88,
   "metadata": {},
   "outputs": [
    {
     "data": {
      "text/plain": [
       "0.015882438916602622"
      ]
     },
     "execution_count": 88,
     "metadata": {},
     "output_type": "execute_result"
    }
   ],
   "source": [
    "dwIIHHatNorm.mean()"
   ]
  },
  {
   "cell_type": "code",
   "execution_count": 89,
   "metadata": {},
   "outputs": [
    {
     "data": {
      "text/plain": [
       "0.009256578517511398"
      ]
     },
     "execution_count": 89,
     "metadata": {},
     "output_type": "execute_result"
    }
   ],
   "source": [
    "dwIIHHatNormF.mean()"
   ]
  },
  {
   "cell_type": "code",
   "execution_count": 90,
   "metadata": {},
   "outputs": [
    {
     "data": {
      "text/plain": [
       "0.41346299913009016"
      ]
     },
     "execution_count": 90,
     "metadata": {},
     "output_type": "execute_result"
    }
   ],
   "source": [
    "dwIIHHatNormF2.mean()"
   ]
  },
  {
   "cell_type": "code",
   "execution_count": 91,
   "metadata": {},
   "outputs": [],
   "source": [
    "\n",
    "mixUpFRs = False\n",
    "normByIncomingConns = False\n",
    "normByOutgoingConns = False\n",
    "normByBothCH = False\n",
    "normByBothH = False\n",
    "normIncomingH = False\n",
    "normHCheat = False\n",
    "convergentInd = 400\n",
    "deviation = 0.2\n",
    "# E1 = R1.trialUpFRExc[convergentInd]\n",
    "# E2 = R2.trialUpFRExc[convergentInd]\n",
    "E = 6  # 4 or 6\n",
    "I = 16.8  # 16.8 or 11.2\n",
    "useIndex = 402\n",
    "\n",
    "# movAvgUpFRExcUnits = np.ones((R1.p['nExc'])) * E * Hz\n",
    "# movAvgUpFRInhUnits = np.ones((R1.p['nInh'])) * I * Hz\n",
    "\n",
    "# movAvgUpFRExcUnits = np.linspace(p['setUpFRExc'] * 0.8, p['setUpFRExc'] * 1.2,  R1.p['nExc']) + 0.2 * p['setUpFRExc']\n",
    "# movAvgUpFRInhUnits = np.linspace(p['setUpFRInh'] * 0.8, p['setUpFRInh'] * 1.2,  R1.p['nInh']) + 0.2 * p['setUpFRInh']\n",
    "\n",
    "aEE = adjacency_matrix_from_flat_inds(p['nExc'], p['nExc'], R1.preEE, R1.posEE)\n",
    "aIE = adjacency_matrix_from_flat_inds(p['nExc'], p['nInh'], R1.preIE, R1.posIE)\n",
    "aEI = adjacency_matrix_from_flat_inds(p['nInh'], p['nExc'], R1.preEI, R1.posEI)\n",
    "aII = adjacency_matrix_from_flat_inds(p['nInh'], p['nInh'], R1.preII, R1.posII)\n",
    "\n",
    "nOutgoingToExcFromEachExc = aEE.sum(1)\n",
    "nOutgoingToExcFromEachInh = aEI.sum(1)\n",
    "nOutgoingToInhFromEachExc = aIE.sum(1)\n",
    "nOutgoingToInhFromEachInh = aII.sum(1)\n",
    "\n",
    "nIncomingExcOntoEachExc = aEE.sum(0)\n",
    "nIncomingInhOntoEachExc = aEI.sum(0)\n",
    "nIncomingExcOntoEachInh = aIE.sum(0)\n",
    "nIncomingInhOntoEachInh = aII.sum(0)\n",
    "\n",
    "if mixUpFRs:\n",
    "    movAvgUpFRExcUnits[:int(R1.p['nExc'] / 3)] = p['setUpFRExc'] * (1 - deviation)\n",
    "    movAvgUpFRExcUnits[int(R1.p['nExc'] / 3):] = p['setUpFRExc'] * (1 + deviation)\n",
    "    movAvgUpFRInhUnits[:int(R1.p['nInh'] / 3)] = p['setUpFRInh'] * (1 - deviation)\n",
    "    movAvgUpFRInhUnits[int(R1.p['nInh'] / 3):] = p['setUpFRInh'] * (1 + deviation)\n",
    "\n",
    "movAvgUpFRExcUnits = R1.trialUpFRExcUnits[useIndex, :] * Hz\n",
    "movAvgUpFRInhUnits = R1.trialUpFRInhUnits[useIndex, :] * Hz\n",
    "    \n",
    "# each of these is preInds elements long, so must be tiled by postInds\n",
    "dwEECH1 = movAvgUpFRExcUnits * (p['setUpFRInh'] - movAvgUpFRInhUnits.mean()) / Hz / Hz\n",
    "dwEICH1 = -movAvgUpFRInhUnits * (p['setUpFRInh'] - movAvgUpFRInhUnits.mean()) / Hz / Hz \n",
    "dwIECH1 = -movAvgUpFRExcUnits * (p['setUpFRExc'] - movAvgUpFRExcUnits.mean()) / Hz / Hz \n",
    "dwIICH1 = movAvgUpFRInhUnits * (p['setUpFRExc'] - movAvgUpFRExcUnits.mean()) / Hz / Hz \n",
    "\n",
    "# if normByOutgoingConns:\n",
    "#     dwEECH1 *= (p['nExc'] * p['propConnect']) / nOutgoingToExcFromEachExc\n",
    "#     dwEICH1 *= (p['nInh'] * p['propConnect']) / nOutgoingToExcFromEachInh\n",
    "#     dwIECH1 *= (p['nExc'] * p['propConnect']) / nOutgoingToInhFromEachExc\n",
    "#     dwIICH1 *= (p['nInh'] * p['propConnect']) / nOutgoingToInhFromEachInh\n",
    "\n",
    "dwEECH = np.tile(dwEECH1.reshape(-1, 1), wEEInit2.shape[1])\n",
    "dwEICH = np.tile(dwEICH1.reshape(-1, 1), wEIInit2.shape[1])\n",
    "dwIECH = np.tile(dwIECH1.reshape(-1, 1), wIEInit2.shape[1])\n",
    "dwIICH = np.tile(dwIICH1.reshape(-1, 1), wIIInit2.shape[1])\n",
    "\n",
    "# norm by incoming AND outgoing\n",
    "normMatEE = (p['nExc'] * p['nExc'] * p['propConnect'] ** 2) / np.outer(nOutgoingToExcFromEachExc, nIncomingExcOntoEachExc)\n",
    "normMatEI = (p['nExc'] * p['nInh'] * p['propConnect'] ** 2) / np.outer(nOutgoingToExcFromEachInh, nIncomingInhOntoEachExc)\n",
    "normMatIE = (p['nExc'] * p['nInh'] * p['propConnect'] ** 2) / np.outer(nOutgoingToInhFromEachExc, nIncomingExcOntoEachInh)\n",
    "normMatII = (p['nInh'] * p['nInh'] * p['propConnect'] ** 2) / np.outer(nOutgoingToInhFromEachInh, nIncomingInhOntoEachInh) \n",
    "\n",
    "# norm by incoming\n",
    "\n",
    "if normByOutgoingConns:\n",
    "    dwEECH *= (p['nExc'] * p['propConnect']) / nOutgoingToExcFromEachExc.reshape(-1, 1)\n",
    "    dwEICH *= (p['nInh'] * p['propConnect']) / nOutgoingToExcFromEachInh.reshape(-1, 1)\n",
    "    dwIECH *= (p['nExc'] * p['propConnect']) / nOutgoingToInhFromEachExc.reshape(-1, 1)\n",
    "    dwIICH *= (p['nInh'] * p['propConnect']) / nOutgoingToInhFromEachInh.reshape(-1, 1)\n",
    "\n",
    "if normByIncomingConns:\n",
    "    dwEECH *= ((p['nExc'] * p['propConnect']) / nIncomingExcOntoEachExc).reshape(1, -1)\n",
    "    dwEICH *= ((p['nInh'] * p['propConnect']) / nIncomingInhOntoEachExc).reshape(1, -1)\n",
    "    dwIECH *= ((p['nExc'] * p['propConnect']) / nIncomingExcOntoEachInh).reshape(1, -1)\n",
    "    dwIICH *= ((p['nInh'] * p['propConnect']) / nIncomingInhOntoEachInh).reshape(1, -1)\n",
    "\n",
    "if normByBothCH:\n",
    "    dwEECH *= normMatEE\n",
    "    dwEICH *= normMatEI\n",
    "    dwIECH *= normMatIE\n",
    "    dwIICH *= normMatII\n",
    "\n",
    "# regular homeo (outer product)\n",
    "# since outer strips units and because of alpha we multiply by Hz to convert to amps\n",
    "dwEEH = np.outer(movAvgUpFRExcUnits, (p['setUpFRExc'] - movAvgUpFRExcUnits))\n",
    "dwEIH = -np.outer(movAvgUpFRInhUnits, (p['setUpFRExc'] - movAvgUpFRExcUnits)) \n",
    "dwIEH = np.outer(movAvgUpFRExcUnits, (p['setUpFRInh'] - movAvgUpFRInhUnits)) \n",
    "dwIIH = -np.outer(movAvgUpFRInhUnits, (p['setUpFRInh'] - movAvgUpFRInhUnits)) \n",
    "\n",
    "if normByBothH:\n",
    "    dwEEH *= normMatEE\n",
    "    dwEIH *= normMatEI\n",
    "    dwIEH *= normMatIE\n",
    "    dwIIH *= normMatII\n",
    "\n",
    "if normIncomingH:\n",
    "    dwEEH *= ((p['nExc'] * p['propConnect']) / nIncomingExcOntoEachExc).reshape(1, -1)\n",
    "    dwEIH *= ((p['nInh'] * p['propConnect']) / nIncomingInhOntoEachExc).reshape(1, -1)\n",
    "    dwIEH *= ((p['nExc'] * p['propConnect']) / nIncomingExcOntoEachInh).reshape(1, -1)\n",
    "    dwIIH *= ((p['nInh'] * p['propConnect']) / nIncomingInhOntoEachInh).reshape(1, -1)\n",
    "    \n",
    "if normHCheat:\n",
    "    pass\n",
    "\n",
    "dwEE = dwEECH + dwEEH\n",
    "dwEI = dwEICH + dwEIH\n",
    "dwIE = dwIECH + dwIEH\n",
    "dwII = dwIICH + dwIIH\n",
    "\n",
    "dwEES = np.full((R1.p['nExc'], R1.p['nExc']), np.nan, dtype=np.float32)\n",
    "dwEIS = np.full((R1.p['nInh'], R1.p['nExc']), np.nan, dtype=np.float32)\n",
    "dwIES = np.full((R1.p['nExc'], R1.p['nInh']), np.nan, dtype=np.float32)\n",
    "dwIIS = np.full((R1.p['nInh'], R1.p['nInh']), np.nan, dtype=np.float32)\n",
    "\n",
    "dwEES[R1.preEE, R1.posEE] = dwEE[R1.preEE, R1.posEE]\n",
    "dwEIS[R1.preEI, R1.posEI] = dwEI[R1.preEI, R1.posEI]\n",
    "dwIES[R1.preIE, R1.posIE] = dwIE[R1.preIE, R1.posIE]\n",
    "dwIIS[R1.preII, R1.posII] = dwII[R1.preII, R1.posII]\n",
    "\n",
    "dwEECHS = np.full((R1.p['nExc'], R1.p['nExc']), np.nan, dtype=np.float32)\n",
    "dwEICHS = np.full((R1.p['nInh'], R1.p['nExc']), np.nan, dtype=np.float32)\n",
    "dwIECHS = np.full((R1.p['nExc'], R1.p['nInh']), np.nan, dtype=np.float32)\n",
    "dwIICHS = np.full((R1.p['nInh'], R1.p['nInh']), np.nan, dtype=np.float32)\n",
    "\n",
    "dwEECHS[R1.preEE, R1.posEE] = dwEECH[R1.preEE, R1.posEE]\n",
    "dwEICHS[R1.preEI, R1.posEI] = dwEICH[R1.preEI, R1.posEI]\n",
    "dwIECHS[R1.preIE, R1.posIE] = dwIECH[R1.preIE, R1.posIE]\n",
    "dwIICHS[R1.preII, R1.posII] = dwIICH[R1.preII, R1.posII]\n",
    "\n",
    "dwEEHS = np.full((R1.p['nExc'], R1.p['nExc']), np.nan, dtype=np.float32)\n",
    "dwEIHS = np.full((R1.p['nInh'], R1.p['nExc']), np.nan, dtype=np.float32)\n",
    "dwIEHS = np.full((R1.p['nExc'], R1.p['nInh']), np.nan, dtype=np.float32)\n",
    "dwIIHS = np.full((R1.p['nInh'], R1.p['nInh']), np.nan, dtype=np.float32)\n",
    "\n",
    "dwEEHS[R1.preEE, R1.posEE] = dwEEH[R1.preEE, R1.posEE]\n",
    "dwEIHS[R1.preEI, R1.posEI] = dwEIH[R1.preEI, R1.posEI]\n",
    "dwIEHS[R1.preIE, R1.posIE] = dwIEH[R1.preIE, R1.posIE]\n",
    "dwIIHS[R1.preII, R1.posII] = dwIIH[R1.preII, R1.posII]"
   ]
  },
  {
   "cell_type": "code",
   "execution_count": null,
   "metadata": {},
   "outputs": [],
   "source": [
    "# instead, use the \"average\" dW mat from the convergent period\n",
    "dwII = dwIIHa"
   ]
  },
  {
   "cell_type": "code",
   "execution_count": 92,
   "metadata": {},
   "outputs": [],
   "source": [
    "dwIIHS[R1.preII, R1.posII] = dwIIH[R1.preII, R1.posII]"
   ]
  },
  {
   "cell_type": "code",
   "execution_count": 93,
   "metadata": {},
   "outputs": [],
   "source": [
    "dwIIHS = np.full((R1.p['nInh'], R1.p['nInh']), np.nan, dtype=np.float32)\n",
    "dwIIHS[R1.preII, R1.posII] = dwIIH[R1.preII, R1.posII]"
   ]
  },
  {
   "cell_type": "code",
   "execution_count": 94,
   "metadata": {},
   "outputs": [],
   "source": [
    "dwIICH1 = movAvgUpFRInhUnits * (p['setUpFRExc'] - movAvgUpFRExcUnits.mean()) / Hz / Hz"
   ]
  },
  {
   "cell_type": "code",
   "execution_count": 95,
   "metadata": {},
   "outputs": [],
   "source": [
    "dwIIH = -np.outer(movAvgUpFRInhUnits, (p['setUpFRInh'] - movAvgUpFRInhUnits)) "
   ]
  },
  {
   "cell_type": "code",
   "execution_count": 98,
   "metadata": {
    "scrolled": true
   },
   "outputs": [
    {
     "name": "stdout",
     "output_type": "stream",
     "text": [
      "0.4915015408736994\n",
      "-1.5319528546712946\n",
      "-1.040451313797595\n",
      "0.49150088\n",
      "-1.7381049\n",
      "-1.2466041\n",
      "-0.20615277117097186\n",
      "-0.2061520847894598\n"
     ]
    }
   ],
   "source": [
    "print(dwIICH.mean())\n",
    "print(dwIIH.mean())\n",
    "print(dwII.mean())\n",
    "print(np.nanmean(dwIICHS))\n",
    "print(np.nanmean(dwIIHS))\n",
    "print(np.nanmean(dwIIS))\n",
    "print(np.nanmean(dwIIS) - dwII.mean())\n",
    "print(np.nanmean(dwIIHS) - dwIIH.mean())"
   ]
  },
  {
   "cell_type": "code",
   "execution_count": 147,
   "metadata": {},
   "outputs": [],
   "source": [
    "dwIIH = dwIIHHat.copy()"
   ]
  },
  {
   "cell_type": "code",
   "execution_count": 148,
   "metadata": {},
   "outputs": [],
   "source": [
    "dwIIHFlat = dwIIH.ravel()"
   ]
  },
  {
   "cell_type": "code",
   "execution_count": 149,
   "metadata": {},
   "outputs": [
    {
     "name": "stdout",
     "output_type": "stream",
     "text": [
      "-0.0037902051634822603\n",
      "0.006684547698671828\n",
      "0.0018275621013599391\n",
      "-0.0047861885973650015\n",
      "-1.607099020387373e-05\n"
     ]
    }
   ],
   "source": [
    "dividerNums = np.random.rand(*dwIIHFlat.shape) * 4\n",
    "\n",
    "dwIIHFlatSub1 = dwIIHFlat[np.logical_and(dividerNums >= 0, dividerNums < 1)]\n",
    "dwIIHFlatSub2 = dwIIHFlat[np.logical_and(dividerNums >= 1, dividerNums < 2)]\n",
    "dwIIHFlatSub3 = dwIIHFlat[np.logical_and(dividerNums >= 2, dividerNums < 3)]\n",
    "dwIIHFlatSub4 = dwIIHFlat[np.logical_and(dividerNums >= 3, dividerNums < 4)]\n",
    "\n",
    "diffSub1 = dwIIHFlatSub1.mean() - dwIIHFlat.mean()\n",
    "diffSub2 = dwIIHFlatSub2.mean() - dwIIHFlat.mean()\n",
    "diffSub3 = dwIIHFlatSub3.mean() - dwIIHFlat.mean()\n",
    "diffSub4 = dwIIHFlatSub4.mean() - dwIIHFlat.mean()\n",
    "\n",
    "print(diffSub1)\n",
    "print(diffSub2)\n",
    "print(diffSub3)\n",
    "print(diffSub4)\n",
    "print((diffSub1 + diffSub2 + diffSub3 + diffSub4) / 4)"
   ]
  },
  {
   "cell_type": "code",
   "execution_count": 150,
   "metadata": {},
   "outputs": [
    {
     "name": "stdout",
     "output_type": "stream",
     "text": [
      "1.311847889555904e-05\n"
     ]
    }
   ],
   "source": [
    "nSamples = 1000\n",
    "diffArray = np.empty((nSamples,))\n",
    "for sampleInd in range(nSamples):\n",
    "    diffArray[sampleInd] = np.random.choice(dwIIHFlat, int(dwIIHFlat.size * p['propConnect']), replace=False).mean() - dwIIH.mean()\n",
    "\n",
    "print(diffArray.mean())"
   ]
  },
  {
   "cell_type": "code",
   "execution_count": 151,
   "metadata": {},
   "outputs": [
    {
     "name": "stdout",
     "output_type": "stream",
     "text": [
      "0.0004420077314013161\n"
     ]
    }
   ],
   "source": [
    "dwEIHFlat = dwEIH.ravel()\n",
    "\n",
    "nSamples = 1000\n",
    "diffArray = np.empty((nSamples,))\n",
    "for sampleInd in range(nSamples):\n",
    "    diffArray[sampleInd] = np.random.choice(dwEIHFlat, int(dwEIHFlat.size * p['propConnect']), replace=False).mean() - dwEIH.mean()\n",
    "\n",
    "print(diffArray.mean())"
   ]
  },
  {
   "cell_type": "code",
   "execution_count": 152,
   "metadata": {},
   "outputs": [
    {
     "name": "stdout",
     "output_type": "stream",
     "text": [
      "-0.028175957236761074\n"
     ]
    }
   ],
   "source": [
    "# can't pick the diagonal...\n",
    "\n",
    "probabilityArray = np.full((dwII.shape[0], dwII.shape[-1]), 1 / (dwII.shape[0] * (dwII.shape[-1] - 1)))\n",
    "probabilityArray[np.diag_indices_from(probabilityArray)] = 0\n",
    "\n",
    "nSamples = 1000\n",
    "diffArray = np.empty((nSamples,))\n",
    "for sampleInd in range(nSamples):\n",
    "    currentRandomSubset = np.random.choice(dwIIHFlat, int(dwIIHFlat.size * p['propConnect']), replace=False, p=probabilityArray.ravel())\n",
    "    diffArray[sampleInd] = currentRandomSubset.mean() - dwIIH.mean()\n",
    "\n",
    "print(diffArray.mean())"
   ]
  },
  {
   "cell_type": "code",
   "execution_count": 157,
   "metadata": {},
   "outputs": [],
   "source": [
    "# choosing the same positions as from a different training session (basically equivalent to choosing randomly...)\n",
    "\n",
    "targetFile3 = 'classicJercog_2000_0p25_cross-homeo-pre-scalar-homeo-reMean_guessGoodWeights2e3p025LogNormal_reMean_2021-08-19-20-37_results'\n",
    "R3 = Results()\n",
    "R3.init_from_file(targetFile3, targetPath)"
   ]
  },
  {
   "cell_type": "code",
   "execution_count": 158,
   "metadata": {
    "scrolled": false
   },
   "outputs": [
    {
     "data": {
      "text/plain": [
       "-0.021980929199457204"
      ]
     },
     "execution_count": 158,
     "metadata": {},
     "output_type": "execute_result"
    }
   ],
   "source": [
    "dwIIH[R3.preII, R3.posII].mean() - dwIIH.mean()"
   ]
  },
  {
   "cell_type": "code",
   "execution_count": 166,
   "metadata": {},
   "outputs": [
    {
     "data": {
      "text/plain": [
       "-0.2797260996483352"
      ]
     },
     "execution_count": 166,
     "metadata": {},
     "output_type": "execute_result"
    }
   ],
   "source": [
    "np.nanmean(dwIIHHatS) - np.nanmean(dwIIHHat)"
   ]
  },
  {
   "cell_type": "code",
   "execution_count": 153,
   "metadata": {
    "collapsed": true
   },
   "outputs": [
    {
     "name": "stderr",
     "output_type": "stream",
     "text": [
      "WARNING    C:\\Users\\mikejseay\\anaconda3\\lib\\site-packages\\ipykernel_launcher.py:8: RuntimeWarning: Mean of empty slice.\n",
      "  \n",
      " [py.warnings]\n",
      "WARNING    C:\\Users\\mikejseay\\anaconda3\\lib\\site-packages\\numpy\\core\\_methods.py:161: RuntimeWarning: invalid value encountered in double_scalars\n",
      "  ret = ret.dtype.type(ret / rcount)\n",
      " [py.warnings]\n",
      "WARNING    C:\\Users\\mikejseay\\anaconda3\\lib\\site-packages\\ipykernel_launcher.py:9: RuntimeWarning: Mean of empty slice\n",
      "  if __name__ == '__main__':\n",
      " [py.warnings]\n"
     ]
    }
   ],
   "source": [
    "# check the diagonals\n",
    "\n",
    "diagonalInds = np.arange(-dwII.shape[0], dwII.shape[0])\n",
    "diagonalMeans = np.zeros(*diagonalInds.shape)\n",
    "diagonalMeansS = np.zeros(*diagonalInds.shape)\n",
    "\n",
    "for diagonalInd, diagonalVal in enumerate(diagonalInds):\n",
    "    diagonalMeans[diagonalInd] = np.diagonal(dwIIH, offset=diagonalVal).mean()\n",
    "    diagonalMeansS[diagonalInd] = np.nanmean(np.diagonal(dwIIHS, offset=diagonalVal))"
   ]
  },
  {
   "cell_type": "code",
   "execution_count": 108,
   "metadata": {},
   "outputs": [
    {
     "data": {
      "text/plain": [
       "<matplotlib.legend.Legend at 0x1f0c9dd6188>"
      ]
     },
     "execution_count": 108,
     "metadata": {},
     "output_type": "execute_result"
    }
   ],
   "source": [
    "f, ax = plt.subplots()\n",
    "ax.plot(diagonalInds, diagonalMeansS)\n",
    "ax.plot(diagonalInds, diagonalMeans)\n",
    "ax.legend(('actual', 'full'))"
   ]
  },
  {
   "cell_type": "code",
   "execution_count": 154,
   "metadata": {
    "scrolled": false
   },
   "outputs": [
    {
     "data": {
      "text/plain": [
       "-1.717977756146144"
      ]
     },
     "execution_count": 154,
     "metadata": {},
     "output_type": "execute_result"
    }
   ],
   "source": [
    "np.nanmean(diagonalMeansS) - np.nanmean(diagonalMeans)"
   ]
  },
  {
   "cell_type": "code",
   "execution_count": 110,
   "metadata": {
    "scrolled": false
   },
   "outputs": [
    {
     "data": {
      "text/plain": [
       "(400, 400)"
      ]
     },
     "execution_count": 110,
     "metadata": {},
     "output_type": "execute_result"
    }
   ],
   "source": [
    "dwIIHS.shape"
   ]
  },
  {
   "cell_type": "code",
   "execution_count": 111,
   "metadata": {},
   "outputs": [
    {
     "data": {
      "text/plain": [
       "<matplotlib.legend.Legend at 0x1f0ca0c4c08>"
      ]
     },
     "execution_count": 111,
     "metadata": {},
     "output_type": "execute_result"
    }
   ],
   "source": [
    "# check the rows / columns\n",
    "\n",
    "rowMeans = dwIIH.mean(0)\n",
    "rowMeansS = np.nanmean(dwIIHS, 0)\n",
    "\n",
    "f, ax = plt.subplots()\n",
    "ax.plot(np.arange(dwIIH.shape[0]), rowMeansS)\n",
    "ax.plot(np.arange(dwIIH.shape[0]), rowMeans)\n",
    "ax.legend(('actual', 'full'))"
   ]
  },
  {
   "cell_type": "code",
   "execution_count": 112,
   "metadata": {
    "scrolled": false
   },
   "outputs": [
    {
     "data": {
      "text/plain": [
       "-1.8615770744015323"
      ]
     },
     "execution_count": 112,
     "metadata": {},
     "output_type": "execute_result"
    }
   ],
   "source": [
    "rowMeansS.mean() - rowMeans.mean()"
   ]
  },
  {
   "cell_type": "code",
   "execution_count": 113,
   "metadata": {},
   "outputs": [
    {
     "data": {
      "text/plain": [
       "-1.792608"
      ]
     },
     "execution_count": 113,
     "metadata": {},
     "output_type": "execute_result"
    }
   ],
   "source": [
    "rowMeansS.mean()"
   ]
  },
  {
   "cell_type": "code",
   "execution_count": 114,
   "metadata": {
    "scrolled": true
   },
   "outputs": [
    {
     "data": {
      "text/plain": [
       "0.06896905171171298"
      ]
     },
     "execution_count": 114,
     "metadata": {},
     "output_type": "execute_result"
    }
   ],
   "source": [
    "rowMeans.mean()"
   ]
  },
  {
   "cell_type": "code",
   "execution_count": 115,
   "metadata": {},
   "outputs": [
    {
     "data": {
      "text/plain": [
       "<matplotlib.legend.Legend at 0x1f0ca2074c8>"
      ]
     },
     "execution_count": 115,
     "metadata": {},
     "output_type": "execute_result"
    }
   ],
   "source": [
    "# check the rows / columns\n",
    "\n",
    "colMeans = dwIIH.mean(1)\n",
    "colMeansS = np.nanmean(dwIIHS, 1)\n",
    "\n",
    "f, ax = plt.subplots()\n",
    "ax.plot(np.arange(dwIIH.shape[0]), colMeansS)\n",
    "ax.plot(np.arange(dwIIH.shape[0]), colMeans)\n",
    "ax.legend(('actual', 'full'))"
   ]
  },
  {
   "cell_type": "code",
   "execution_count": 116,
   "metadata": {
    "scrolled": true
   },
   "outputs": [
    {
     "data": {
      "text/plain": [
       "-1.8372813867260562"
      ]
     },
     "execution_count": 116,
     "metadata": {},
     "output_type": "execute_result"
    }
   ],
   "source": [
    "colMeansS.mean() - colMeans.mean()"
   ]
  },
  {
   "cell_type": "code",
   "execution_count": 119,
   "metadata": {},
   "outputs": [
    {
     "data": {
      "text/plain": [
       "40000"
      ]
     },
     "execution_count": 119,
     "metadata": {},
     "output_type": "execute_result"
    }
   ],
   "source": [
    "int(dwIIHFlat.size * p['propConnect'])"
   ]
  },
  {
   "cell_type": "code",
   "execution_count": 120,
   "metadata": {},
   "outputs": [
    {
     "data": {
      "text/plain": [
       "(160000,)"
      ]
     },
     "execution_count": 120,
     "metadata": {},
     "output_type": "execute_result"
    }
   ],
   "source": [
    "dwIIHFlat.shape"
   ]
  },
  {
   "cell_type": "code",
   "execution_count": 121,
   "metadata": {},
   "outputs": [
    {
     "name": "stdout",
     "output_type": "stream",
     "text": [
      "0.5475677173443043\n",
      "0.1756779759812953\n",
      "0.7232456933256\n",
      "0.54772836\n",
      "0.15919223\n",
      "0.70692027\n",
      "-0.016325427174171736\n"
     ]
    }
   ],
   "source": [
    "print(dwEECH.mean())\n",
    "print(dwEEH.mean())\n",
    "print(dwEE.mean())\n",
    "print(np.nanmean(dwEECHS))\n",
    "print(np.nanmean(dwEEHS))\n",
    "print(np.nanmean(dwEES))\n",
    "print(np.nanmean(dwEES) - dwEE.mean())"
   ]
  },
  {
   "cell_type": "code",
   "execution_count": 122,
   "metadata": {},
   "outputs": [
    {
     "name": "stdout",
     "output_type": "stream",
     "text": [
      "-1.5319528546713177\n",
      "-0.4915015408737082\n",
      "-2.023454395545026\n",
      "-1.5323205\n",
      "-0.6117297\n",
      "-2.1440504\n",
      "-0.120595964180926\n"
     ]
    }
   ],
   "source": [
    "print(dwEICH.mean())\n",
    "print(dwEIH.mean())\n",
    "print(dwEI.mean())\n",
    "print(np.nanmean(dwEICHS))\n",
    "print(np.nanmean(dwEIHS))\n",
    "print(np.nanmean(dwEIS))\n",
    "print(np.nanmean(dwEIS) - dwEI.mean())"
   ]
  },
  {
   "cell_type": "code",
   "execution_count": 123,
   "metadata": {},
   "outputs": [
    {
     "name": "stdout",
     "output_type": "stream",
     "text": [
      "-0.17567797598129223\n",
      "0.5475677173442958\n",
      "0.3718897413630035\n",
      "-0.17588355\n",
      "0.47531742\n",
      "0.29943398\n",
      "-0.07245576495118405\n"
     ]
    }
   ],
   "source": [
    "print(dwIECH.mean())\n",
    "print(dwIEH.mean())\n",
    "print(dwIE.mean())\n",
    "print(np.nanmean(dwIECHS))\n",
    "print(np.nanmean(dwIEHS))\n",
    "print(np.nanmean(dwIES))\n",
    "print(np.nanmean(dwIES) - dwIE.mean())"
   ]
  },
  {
   "cell_type": "code",
   "execution_count": 167,
   "metadata": {},
   "outputs": [],
   "source": [
    "# plotting the full and sparse versions of dwII\n",
    "\n",
    "allNumbers = np.concatenate((dwII, dwIIS)).ravel()\n",
    "\n",
    "# vlims = (np.nanmin(allNumbers), np.nanmax(allNumbers))\n",
    "vlims = (-np.nanmax(np.fabs(allNumbers)), np.nanmax(np.fabs(allNumbers)))\n",
    "\n",
    "fig7, ax7 = plt.subplots(1, 2, figsize=(17, 8))\n",
    "weight_matrix(ax7[0], dwII, xlabel='Post Index', ylabel='Pre Index',\n",
    "              clabel='Weight (pA)', limsMethod='custom', vlims=vlims)\n",
    "weight_matrix(ax7[1], dwIIS, xlabel='Post Index', ylabel='Pre Index',\n",
    "              clabel='Weight (pA)', limsMethod='custom', vlims=vlims)"
   ]
  },
  {
   "cell_type": "code",
   "execution_count": 176,
   "metadata": {},
   "outputs": [],
   "source": [
    "# plotting the full and sparse versions of dwII - using the average post-convergence numbers for only the homeo portion\n",
    "\n",
    "dwIIHHatPlot = dwIIHHat.copy()\n",
    "dwIIHHatPlot[np.diag_indices_from(dwIIHHatPlot)] = np.nan\n",
    "\n",
    "allNumbers = np.concatenate((dwIIHHatPlot, dwIIHHatS)).ravel()\n",
    "\n",
    "# vlims = (np.nanmin(allNumbers), np.nanmax(allNumbers))\n",
    "vlims = (-np.nanmax(np.fabs(allNumbers)), np.nanmax(np.fabs(allNumbers)))\n",
    "\n",
    "fig7, ax7 = plt.subplots(1, 2, figsize=(17, 7))\n",
    "weight_matrix(ax7[0], dwIIHHatPlot, xlabel='Post Index', ylabel='Pre Index',\n",
    "              clabel='Weight (pA)', limsMethod='custom', vlims=vlims)\n",
    "weight_matrix(ax7[1], dwIIHHatS, xlabel='Post Index', ylabel='Pre Index',\n",
    "              clabel='Weight (pA)', limsMethod='custom', vlims=vlims)"
   ]
  },
  {
   "cell_type": "code",
   "execution_count": 185,
   "metadata": {},
   "outputs": [],
   "source": [
    "# plotting the sparse-INVERTED and ANTI-sparse versions of dwII - using the average post-convergence numbers for only the homeo portion\n",
    "\n",
    "dwIIHHatSAntiPlot = dwIIHHatSAnti.copy()\n",
    "dwIIHHatSAntiPlot[np.diag_indices_from(dwIIHHatSAntiPlot)] = np.nan\n",
    "\n",
    "allNumbers = np.concatenate((dwIIHHatSAntiPlot, dwIIHHatSInv)).ravel()\n",
    "\n",
    "# vlims = (np.nanmin(allNumbers), np.nanmax(allNumbers))\n",
    "vlims = (-np.nanmax(np.fabs(allNumbers)), np.nanmax(np.fabs(allNumbers)))\n",
    "\n",
    "fig7, ax7 = plt.subplots(1, 2, figsize=(17, 7))\n",
    "weight_matrix(ax7[0], dwIIHHatSAntiPlot, xlabel='Post Index', ylabel='Pre Index',\n",
    "              clabel='Weight (pA)', limsMethod='custom', vlims=vlims)\n",
    "weight_matrix(ax7[1], dwIIHHatSInv, xlabel='Post Index', ylabel='Pre Index',\n",
    "              clabel='Weight (pA)', limsMethod='custom', vlims=vlims)"
   ]
  },
  {
   "cell_type": "code",
   "execution_count": 1110,
   "metadata": {},
   "outputs": [],
   "source": [
    "# plotting the distribution of the weights that are kept in the sparse vs left out"
   ]
  },
  {
   "cell_type": "code",
   "execution_count": 125,
   "metadata": {
    "collapsed": true
   },
   "outputs": [
    {
     "name": "stderr",
     "output_type": "stream",
     "text": [
      "WARNING    C:\\Users\\mikejseay\\anaconda3\\lib\\site-packages\\numpy\\lib\\histograms.py:839: RuntimeWarning: invalid value encountered in greater_equal\n",
      "  keep = (tmp_a >= first_edge)\n",
      " [py.warnings]\n",
      "WARNING    C:\\Users\\mikejseay\\anaconda3\\lib\\site-packages\\numpy\\lib\\histograms.py:840: RuntimeWarning: invalid value encountered in less_equal\n",
      "  keep &= (tmp_a <= last_edge)\n",
      " [py.warnings]\n",
      "WARNING    C:\\Users\\mikejseay\\anaconda3\\lib\\site-packages\\numpy\\lib\\histograms.py:839: RuntimeWarning: invalid value encountered in greater_equal\n",
      "  keep = (tmp_a >= first_edge)\n",
      " [py.warnings]\n",
      "WARNING    C:\\Users\\mikejseay\\anaconda3\\lib\\site-packages\\numpy\\lib\\histograms.py:840: RuntimeWarning: invalid value encountered in less_equal\n",
      "  keep &= (tmp_a <= last_edge)\n",
      " [py.warnings]\n",
      "WARNING    C:\\Users\\mikejseay\\anaconda3\\lib\\site-packages\\numpy\\lib\\histograms.py:839: RuntimeWarning: invalid value encountered in greater_equal\n",
      "  keep = (tmp_a >= first_edge)\n",
      " [py.warnings]\n",
      "WARNING    C:\\Users\\mikejseay\\anaconda3\\lib\\site-packages\\numpy\\lib\\histograms.py:840: RuntimeWarning: invalid value encountered in less_equal\n",
      "  keep &= (tmp_a <= last_edge)\n",
      " [py.warnings]\n",
      "WARNING    C:\\Users\\mikejseay\\anaconda3\\lib\\site-packages\\numpy\\lib\\histograms.py:839: RuntimeWarning: invalid value encountered in greater_equal\n",
      "  keep = (tmp_a >= first_edge)\n",
      " [py.warnings]\n",
      "WARNING    C:\\Users\\mikejseay\\anaconda3\\lib\\site-packages\\numpy\\lib\\histograms.py:840: RuntimeWarning: invalid value encountered in less_equal\n",
      "  keep &= (tmp_a <= last_edge)\n",
      " [py.warnings]\n"
     ]
    },
    {
     "data": {
      "text/plain": [
       "(array([1.61904762e-06, 0.00000000e+00, 4.85714286e-06, 0.00000000e+00,\n",
       "        0.00000000e+00, 6.47619048e-06, 1.13333333e-05, 1.61904762e-06,\n",
       "        9.71428571e-06, 1.61904762e-05, 4.20952381e-05, 3.23809524e-06,\n",
       "        5.01904762e-05, 5.18095238e-05, 1.61904762e-05, 7.60952381e-05,\n",
       "        1.11714286e-04, 1.18190476e-04, 5.82857143e-05, 2.02380952e-04,\n",
       "        1.79714286e-04, 2.07238095e-04, 2.93047619e-04, 3.78857143e-04,\n",
       "        4.98666667e-04, 7.12380952e-04, 5.82857143e-04, 1.18676190e-03,\n",
       "        1.40371429e-03, 1.14466667e-03, 2.23752381e-03, 2.16628571e-03,\n",
       "        2.75076190e-03, 3.68657143e-03, 3.32876190e-03, 4.67257143e-03,\n",
       "        5.00933333e-03, 4.61590476e-03, 7.62409524e-03, 7.75200000e-03,\n",
       "        7.94466667e-03, 1.02971429e-02, 7.70342857e-03, 7.13028571e-03,\n",
       "        8.90638095e-03, 1.45552381e-03, 1.11034286e-02, 3.91971429e-03,\n",
       "        1.10370476e-02, 7.42980952e-03, 6.23009524e-03, 8.46276190e-03,\n",
       "        5.66666667e-03, 7.82323810e-03, 4.67904762e-03, 4.65638095e-03,\n",
       "        3.96019048e-03, 3.72542857e-03, 2.49980952e-03, 3.26723810e-03,\n",
       "        2.39619048e-03, 2.19057143e-03, 1.71619048e-03, 1.18676190e-03,\n",
       "        1.73561905e-03, 8.62952381e-04, 7.99809524e-04, 7.85238095e-04,\n",
       "        6.18476190e-04, 6.13619048e-04, 4.08000000e-04, 3.85333333e-04,\n",
       "        2.16952381e-04, 2.54190476e-04, 1.40857143e-04, 1.47333333e-04,\n",
       "        1.84571429e-04, 1.10095238e-04, 1.45714286e-05, 9.55238095e-05,\n",
       "        5.01904762e-05, 8.09523810e-05, 3.23809524e-05, 2.26666667e-05,\n",
       "        4.20952381e-05, 1.78095238e-05, 8.09523810e-06, 2.42857143e-05,\n",
       "        8.09523810e-06, 0.00000000e+00, 9.71428571e-06, 0.00000000e+00,\n",
       "        8.09523810e-06, 1.61904762e-06, 0.00000000e+00, 0.00000000e+00,\n",
       "        3.23809524e-06, 0.00000000e+00, 0.00000000e+00, 1.61904762e-06]),\n",
       " array([-238.82123162, -233.67417279, -228.52711397, -223.38005515,\n",
       "        -218.23299632, -213.0859375 , -207.93887868, -202.79181985,\n",
       "        -197.64476103, -192.49770221, -187.35064338, -182.20358456,\n",
       "        -177.05652574, -171.90946691, -166.76240809, -161.61534926,\n",
       "        -156.46829044, -151.32123162, -146.17417279, -141.02711397,\n",
       "        -135.88005515, -130.73299632, -125.5859375 , -120.43887868,\n",
       "        -115.29181985, -110.14476103, -104.99770221,  -99.85064338,\n",
       "         -94.70358456,  -89.55652574,  -84.40946691,  -79.26240809,\n",
       "         -74.11534926,  -68.96829044,  -63.82123162,  -58.67417279,\n",
       "         -53.52711397,  -48.38005515,  -43.23299632,  -38.0859375 ,\n",
       "         -32.93887868,  -27.79181985,  -22.64476103,  -17.49770221,\n",
       "         -12.35064338,   -7.20358456,   -2.05652574,    3.09053309,\n",
       "           8.23759191,   13.38465074,   18.53170956,   23.67876838,\n",
       "          28.82582721,   33.97288603,   39.11994485,   44.26700368,\n",
       "          49.4140625 ,   54.56112132,   59.70818015,   64.85523897,\n",
       "          70.00229779,   75.14935662,   80.29641544,   85.44347426,\n",
       "          90.59053309,   95.73759191,  100.88465074,  106.03170956,\n",
       "         111.17876838,  116.32582721,  121.47288603,  126.61994485,\n",
       "         131.76700368,  136.9140625 ,  142.06112132,  147.20818015,\n",
       "         152.35523897,  157.50229779,  162.64935662,  167.79641544,\n",
       "         172.94347426,  178.09053309,  183.23759191,  188.38465074,\n",
       "         193.53170956,  198.67876838,  203.82582721,  208.97288603,\n",
       "         214.11994485,  219.26700368,  224.4140625 ,  229.56112132,\n",
       "         234.70818015,  239.85523897,  245.00229779,  250.14935662,\n",
       "         255.29641544,  260.44347426,  265.59053309,  270.73759191,\n",
       "         275.88465074]),\n",
       " <a list of 1 Patch objects>)"
      ]
     },
     "execution_count": 125,
     "metadata": {},
     "output_type": "execute_result"
    }
   ],
   "source": [
    "dwEERemConn = dwEE.copy()\n",
    "dwEIRemConn = dwEI.copy()\n",
    "dwIERemConn = dwIE.copy()\n",
    "dwIIRemConn = dwII.copy()\n",
    "\n",
    "dwEERemConn[R1.preEE, R1.posEE] = np.nan\n",
    "dwEIRemConn[R1.preEI, R1.posEI] = np.nan\n",
    "dwIERemConn[R1.preIE, R1.posIE] = np.nan\n",
    "dwIIRemConn[R1.preII, R1.posII] = np.nan\n",
    "\n",
    "nBins = 100\n",
    "\n",
    "f, ax = plt.subplots(2, 2)\n",
    "\n",
    "ax[0, 0].hist(dwEE[R1.preEE, R1.posEE], bins=nBins, density=True, histtype='step')\n",
    "ax[0, 1].hist(dwEI[R1.preEI, R1.posEI], bins=nBins, density=True, histtype='step')\n",
    "ax[1, 0].hist(dwIE[R1.preIE, R1.posIE], bins=nBins, density=True, histtype='step')\n",
    "ax[1, 1].hist(dwII[R1.preII, R1.posII], bins=nBins, density=True, histtype='step')\n",
    "\n",
    "ax[0, 0].hist(dwEERemConn.ravel(), bins=nBins, density=True, histtype='step')\n",
    "ax[0, 1].hist(dwEIRemConn.ravel(), bins=nBins, density=True, histtype='step')\n",
    "ax[1, 0].hist(dwIERemConn.ravel(), bins=nBins, density=True, histtype='step')\n",
    "ax[1, 1].hist(dwIIRemConn.ravel(), bins=nBins, density=True, histtype='step')"
   ]
  },
  {
   "cell_type": "code",
   "execution_count": 1173,
   "metadata": {},
   "outputs": [
    {
     "data": {
      "text/plain": [
       "<matplotlib.legend.Legend at 0x2b13aa65988>"
      ]
     },
     "execution_count": 1173,
     "metadata": {},
     "output_type": "execute_result"
    }
   ],
   "source": [
    "dwIIHSRemConn = dwIIH.copy()\n",
    "dwIIHSRemConn[R1.preII, R1.posII] = np.nan\n",
    "\n",
    "useBins = np.linspace(dwIIH.min(), dwIIH.max(), 100)\n",
    "\n",
    "f, ax = plt.subplots()\n",
    "ax.hist(dwIIHS[R1.preII, R1.posII], bins=useBins, density=True, histtype='step')\n",
    "ax.hist(dwIIHSRemConn.ravel(), bins=useBins, density=True, histtype='step')\n",
    "ax.legend(('actual', 'all'))"
   ]
  },
  {
   "cell_type": "code",
   "execution_count": 1164,
   "metadata": {},
   "outputs": [
    {
     "data": {
      "text/plain": [
       "<matplotlib.legend.Legend at 0x2b1352c12c8>"
      ]
     },
     "execution_count": 1164,
     "metadata": {},
     "output_type": "execute_result"
    }
   ],
   "source": [
    "dwIICHSRemConn = dwIICH.copy()\n",
    "dwIICHSRemConn[R1.preII, R1.posII] = np.nan\n",
    "\n",
    "useBins = np.linspace(dwIICH.min(), dwIICH.max(), 100)\n",
    "\n",
    "f, ax = plt.subplots()\n",
    "ax.hist(dwIICHS[R1.preII, R1.posII], bins=useBins, density=True, histtype='step')\n",
    "ax.hist(dwIICHSRemConn.ravel(), bins=useBins, density=True, histtype='step')\n",
    "ax.legend(('actual', 'all'))"
   ]
  },
  {
   "cell_type": "code",
   "execution_count": 126,
   "metadata": {
    "scrolled": false
   },
   "outputs": [
    {
     "data": {
      "text/plain": [
       "-0.20615277117097186"
      ]
     },
     "execution_count": 126,
     "metadata": {},
     "output_type": "execute_result"
    }
   ],
   "source": [
    "np.nanmean(dwIIS) - dwII.mean()"
   ]
  },
  {
   "cell_type": "code",
   "execution_count": 127,
   "metadata": {
    "scrolled": true
   },
   "outputs": [
    {
     "data": {
      "text/plain": [
       "-1.8070739911724674"
      ]
     },
     "execution_count": 127,
     "metadata": {},
     "output_type": "execute_result"
    }
   ],
   "source": [
    "np.nanmean(dwIIHS) - dwIIH.mean()"
   ]
  },
  {
   "cell_type": "code",
   "execution_count": 128,
   "metadata": {
    "scrolled": true
   },
   "outputs": [
    {
     "data": {
      "text/plain": [
       "-6.565791895174478e-07"
      ]
     },
     "execution_count": 128,
     "metadata": {},
     "output_type": "execute_result"
    }
   ],
   "source": [
    "np.nanmean(dwIICHS) - dwIICH.mean()"
   ]
  },
  {
   "cell_type": "code",
   "execution_count": 1060,
   "metadata": {},
   "outputs": [],
   "source": [
    "plt.close('all')"
   ]
  },
  {
   "cell_type": "code",
   "execution_count": 985,
   "metadata": {},
   "outputs": [],
   "source": [
    "# plotting the cross-homeo and homeo dW matrices next to each other\n",
    "\n",
    "dwFullCH = np.block([[dwEECH, dwIECH], [-dwEICH, -dwIICH]])\n",
    "dwFullH = np.block([[dwEEH, dwIEH], [-dwEIH, -dwIIH]])\n",
    "\n",
    "allNumbers = np.concatenate((dwFullCH, dwFullH)).ravel()\n",
    "\n",
    "# vlims = (np.nanmin(allNumbers), np.nanmax(allNumbers))\n",
    "vlims = (-np.nanmax(np.fabs(allNumbers)), np.nanmax(np.fabs(allNumbers)))\n",
    "\n",
    "wFullInitPlot = dwFullCH.copy()\n",
    "wFullFinalPlot = dwFullH.copy()\n",
    "\n",
    "fig7, ax7 = plt.subplots(1, 2, figsize=(17, 8))\n",
    "weight_matrix(ax7[0], wFullInitPlot, xlabel='Post Index', ylabel='Pre Index',\n",
    "              clabel='Weight (pA)', limsMethod='custom', vlims=vlims)\n",
    "weight_matrix(ax7[1], wFullFinalPlot, xlabel='Post Index', ylabel='Pre Index',\n",
    "              clabel='Weight (pA)', limsMethod='custom', vlims=vlims)"
   ]
  },
  {
   "cell_type": "code",
   "execution_count": 986,
   "metadata": {},
   "outputs": [],
   "source": [
    "# plotting the two-term sum compared to its sparse version\n",
    "\n",
    "dwFull = np.block([[dwEE, dwIE], [-dwEI, -dwII]])\n",
    "dwFullS = np.block([[dwEES, dwIES], [-dwEIS, -dwIIS]])\n",
    "\n",
    "allNumbers = np.concatenate((dwFull, dwFullS)).ravel()\n",
    "\n",
    "# vlims = (np.nanmin(allNumbers), np.nanmax(allNumbers))\n",
    "vlims = (-np.nanmax(np.fabs(allNumbers)), np.nanmax(np.fabs(allNumbers)))\n",
    "\n",
    "wFullInitPlot = dwFull.copy()\n",
    "wFullFinalPlot = dwFullS.copy()\n",
    "\n",
    "wFullInitPlot[np.isnan(wFullInitPlot)] = 0\n",
    "wFullFinalPlot[np.isnan(wFullFinalPlot)] = 0\n",
    "\n",
    "fig7, ax7 = plt.subplots(1, 2, figsize=(17, 8))\n",
    "weight_matrix(ax7[0], wFullInitPlot, xlabel='Post Index', ylabel='Pre Index',\n",
    "              clabel='Weight (pA)', limsMethod='custom', vlims=vlims)\n",
    "weight_matrix(ax7[1], wFullFinalPlot, xlabel='Post Index', ylabel='Pre Index',\n",
    "              clabel='Weight (pA)', limsMethod='custom', vlims=vlims)"
   ]
  },
  {
   "cell_type": "code",
   "execution_count": 987,
   "metadata": {
    "scrolled": true
   },
   "outputs": [],
   "source": [
    "incomingExcCurrentOntoEachExcCH = np.nansum(dwEECHS, 0)\n",
    "incomingInhCurrentOntoEachExcCH = np.nansum(dwEICHS, 0)\n",
    "incomingExcCurrentOntoEachInhCH = np.nansum(dwIECHS, 0)\n",
    "incomingInhCurrentOntoEachInhCH = np.nansum(dwIICHS, 0)\n",
    "outgoingCurrentToExcFromEachExcCH = np.nansum(dwEECHS, 1)\n",
    "outgoingCurrentToExcFromEachInhCH = np.nansum(dwEICHS, 1)\n",
    "outgoingCurrentToInhFromEachExcCH = np.nansum(dwIECHS, 1)\n",
    "outgoingCurrentToInhFromEachInhCH = np.nansum(dwIICHS, 1)\n",
    "\n",
    "incomingExcCurrentOntoEachExcH = np.nansum(dwEEHS, 0)\n",
    "incomingInhCurrentOntoEachExcH = np.nansum(dwEIHS, 0)\n",
    "incomingExcCurrentOntoEachInhH = np.nansum(dwIEHS, 0)\n",
    "incomingInhCurrentOntoEachInhH = np.nansum(dwIIHS, 0)\n",
    "outgoingCurrentToExcFromEachExcH = np.nansum(dwEEHS, 1)\n",
    "outgoingCurrentToExcFromEachInhH = np.nansum(dwEIHS, 1)\n",
    "outgoingCurrentToInhFromEachExcH = np.nansum(dwIEHS, 1)\n",
    "outgoingCurrentToInhFromEachInhH = np.nansum(dwIIHS, 1)\n",
    "\n",
    "incomingExcCurrentOntoEachExc = np.nansum(dwEES, 0)\n",
    "incomingInhCurrentOntoEachExc = np.nansum(dwEIS, 0)\n",
    "incomingExcCurrentOntoEachInh = np.nansum(dwIES, 0)\n",
    "incomingInhCurrentOntoEachInh = np.nansum(dwIIS, 0)\n",
    "outgoingCurrentToExcFromEachExc = np.nansum(dwEES, 1)\n",
    "outgoingCurrentToExcFromEachInh = np.nansum(dwEIS, 1)\n",
    "outgoingCurrentToInhFromEachExc = np.nansum(dwIES, 1)\n",
    "outgoingCurrentToInhFromEachInh = np.nansum(dwIIS, 1)"
   ]
  },
  {
   "cell_type": "code",
   "execution_count": null,
   "metadata": {},
   "outputs": [],
   "source": []
  },
  {
   "cell_type": "code",
   "execution_count": 961,
   "metadata": {},
   "outputs": [
    {
     "data": {
      "text/plain": [
       "array([-6713.287 , -6714.1016, -6713.2764, ..., -6704.177 , -6691.0044,\n",
       "       -6704.8345], dtype=float32)"
      ]
     },
     "execution_count": 961,
     "metadata": {},
     "output_type": "execute_result"
    }
   ],
   "source": [
    "incomingExcCurrentOntoEachExcCH"
   ]
  },
  {
   "cell_type": "code",
   "execution_count": 925,
   "metadata": {
    "scrolled": true
   },
   "outputs": [],
   "source": [
    "labels = ['incomingExcCurrentOntoEachExcCH', 'incomingInhCurrentOntoEachExcCH', 'incomingExcCurrentOntoEachInhCH', 'incomingInhCurrentOntoEachInhCH', 'outgoingCurrentToExcFromEachExcCH', 'outgoingCurrentToExcFromEachInhCH', 'outgoingCurrentToInhFromEachExcCH', 'outgoingCurrentToInhFromEachInhCH', 'incomingExcCurrentOntoEachExcH', 'incomingInhCurrentOntoEachExcH', 'incomingExcCurrentOntoEachInhH', 'incomingInhCurrentOntoEachInhH', 'outgoingCurrentToExcFromEachExcH', 'outgoingCurrentToExcFromEachInhH', 'outgoingCurrentToInhFromEachExcH', 'outgoingCurrentToInhFromEachInhH', 'incomingExcCurrentOntoEachExc', 'incomingInhCurrentOntoEachExc', 'incomingExcCurrentOntoEachInh', 'incomingInhCurrentOntoEachInh', 'outgoingCurrentToExcFromEachExc', 'outgoingCurrentToExcFromEachInh', 'outgoingCurrentToInhFromEachExc', 'outgoingCurrentToInhFromEachInh',]"
   ]
  },
  {
   "cell_type": "code",
   "execution_count": 926,
   "metadata": {
    "scrolled": true
   },
   "outputs": [],
   "source": [
    "allCVs = np.array([cv(incomingExcCurrentOntoEachExcCH), cv(incomingInhCurrentOntoEachExcCH), cv(incomingExcCurrentOntoEachInhCH), cv(incomingInhCurrentOntoEachInhCH), cv(outgoingCurrentToExcFromEachExcCH), cv(outgoingCurrentToExcFromEachInhCH), cv(outgoingCurrentToInhFromEachExcCH), cv(outgoingCurrentToInhFromEachInhCH), cv(incomingExcCurrentOntoEachExcH), cv(incomingInhCurrentOntoEachExcH), cv(incomingExcCurrentOntoEachInhH), cv(incomingInhCurrentOntoEachInhH), cv(outgoingCurrentToExcFromEachExcH), cv(outgoingCurrentToExcFromEachInhH), cv(outgoingCurrentToInhFromEachExcH), cv(outgoingCurrentToInhFromEachInhH), cv(incomingExcCurrentOntoEachExc), cv(incomingInhCurrentOntoEachExc), cv(incomingExcCurrentOntoEachInh), cv(incomingInhCurrentOntoEachInh), cv(outgoingCurrentToExcFromEachExc), cv(outgoingCurrentToExcFromEachInh), cv(outgoingCurrentToInhFromEachExc), cv(outgoingCurrentToInhFromEachInh), ])"
   ]
  },
  {
   "cell_type": "code",
   "execution_count": 927,
   "metadata": {},
   "outputs": [],
   "source": [
    "cvDF = pd.DataFrame(allCVs * 100, labels)"
   ]
  },
  {
   "cell_type": "code",
   "execution_count": 928,
   "metadata": {},
   "outputs": [
    {
     "data": {
      "text/html": [
       "<div>\n",
       "<style scoped>\n",
       "    .dataframe tbody tr th:only-of-type {\n",
       "        vertical-align: middle;\n",
       "    }\n",
       "\n",
       "    .dataframe tbody tr th {\n",
       "        vertical-align: top;\n",
       "    }\n",
       "\n",
       "    .dataframe thead th {\n",
       "        text-align: right;\n",
       "    }\n",
       "</style>\n",
       "<table border=\"1\" class=\"dataframe\">\n",
       "  <thead>\n",
       "    <tr style=\"text-align: right;\">\n",
       "      <th></th>\n",
       "      <th>0</th>\n",
       "    </tr>\n",
       "  </thead>\n",
       "  <tbody>\n",
       "    <tr>\n",
       "      <th>incomingExcCurrentOntoEachExcCH</th>\n",
       "      <td>-0.418812</td>\n",
       "    </tr>\n",
       "    <tr>\n",
       "      <th>incomingInhCurrentOntoEachExcCH</th>\n",
       "      <td>0.837739</td>\n",
       "    </tr>\n",
       "    <tr>\n",
       "      <th>incomingExcCurrentOntoEachInhCH</th>\n",
       "      <td>0.423381</td>\n",
       "    </tr>\n",
       "    <tr>\n",
       "      <th>incomingInhCurrentOntoEachInhCH</th>\n",
       "      <td>-0.861423</td>\n",
       "    </tr>\n",
       "    <tr>\n",
       "      <th>outgoingCurrentToExcFromEachExcCH</th>\n",
       "      <td>-10.440950</td>\n",
       "    </tr>\n",
       "    <tr>\n",
       "      <th>outgoingCurrentToExcFromEachInhCH</th>\n",
       "      <td>10.383132</td>\n",
       "    </tr>\n",
       "    <tr>\n",
       "      <th>outgoingCurrentToInhFromEachExcCH</th>\n",
       "      <td>13.013013</td>\n",
       "    </tr>\n",
       "    <tr>\n",
       "      <th>outgoingCurrentToInhFromEachInhCH</th>\n",
       "      <td>-12.788823</td>\n",
       "    </tr>\n",
       "    <tr>\n",
       "      <th>incomingExcCurrentOntoEachExcH</th>\n",
       "      <td>-57.980984</td>\n",
       "    </tr>\n",
       "    <tr>\n",
       "      <th>incomingInhCurrentOntoEachExcH</th>\n",
       "      <td>58.653854</td>\n",
       "    </tr>\n",
       "    <tr>\n",
       "      <th>incomingExcCurrentOntoEachInhH</th>\n",
       "      <td>-58.055229</td>\n",
       "    </tr>\n",
       "    <tr>\n",
       "      <th>incomingInhCurrentOntoEachInhH</th>\n",
       "      <td>58.796017</td>\n",
       "    </tr>\n",
       "    <tr>\n",
       "      <th>outgoingCurrentToExcFromEachExcH</th>\n",
       "      <td>-10.687449</td>\n",
       "    </tr>\n",
       "    <tr>\n",
       "      <th>outgoingCurrentToExcFromEachInhH</th>\n",
       "      <td>10.649462</td>\n",
       "    </tr>\n",
       "    <tr>\n",
       "      <th>outgoingCurrentToInhFromEachExcH</th>\n",
       "      <td>-13.842519</td>\n",
       "    </tr>\n",
       "    <tr>\n",
       "      <th>outgoingCurrentToInhFromEachInhH</th>\n",
       "      <td>13.689325</td>\n",
       "    </tr>\n",
       "    <tr>\n",
       "      <th>incomingExcCurrentOntoEachExc</th>\n",
       "      <td>-15.245244</td>\n",
       "    </tr>\n",
       "    <tr>\n",
       "      <th>incomingInhCurrentOntoEachExc</th>\n",
       "      <td>15.478234</td>\n",
       "    </tr>\n",
       "    <tr>\n",
       "      <th>incomingExcCurrentOntoEachInh</th>\n",
       "      <td>-90.340408</td>\n",
       "    </tr>\n",
       "    <tr>\n",
       "      <th>incomingInhCurrentOntoEachInh</th>\n",
       "      <td>91.372124</td>\n",
       "    </tr>\n",
       "    <tr>\n",
       "      <th>outgoingCurrentToExcFromEachExc</th>\n",
       "      <td>-10.448026</td>\n",
       "    </tr>\n",
       "    <tr>\n",
       "      <th>outgoingCurrentToExcFromEachInh</th>\n",
       "      <td>10.390779</td>\n",
       "    </tr>\n",
       "    <tr>\n",
       "      <th>outgoingCurrentToInhFromEachExc</th>\n",
       "      <td>-15.002015</td>\n",
       "    </tr>\n",
       "    <tr>\n",
       "      <th>outgoingCurrentToInhFromEachInh</th>\n",
       "      <td>14.950821</td>\n",
       "    </tr>\n",
       "  </tbody>\n",
       "</table>\n",
       "</div>"
      ],
      "text/plain": [
       "                                           0\n",
       "incomingExcCurrentOntoEachExcCH    -0.418812\n",
       "incomingInhCurrentOntoEachExcCH     0.837739\n",
       "incomingExcCurrentOntoEachInhCH     0.423381\n",
       "incomingInhCurrentOntoEachInhCH    -0.861423\n",
       "outgoingCurrentToExcFromEachExcCH -10.440950\n",
       "outgoingCurrentToExcFromEachInhCH  10.383132\n",
       "outgoingCurrentToInhFromEachExcCH  13.013013\n",
       "outgoingCurrentToInhFromEachInhCH -12.788823\n",
       "incomingExcCurrentOntoEachExcH    -57.980984\n",
       "incomingInhCurrentOntoEachExcH     58.653854\n",
       "incomingExcCurrentOntoEachInhH    -58.055229\n",
       "incomingInhCurrentOntoEachInhH     58.796017\n",
       "outgoingCurrentToExcFromEachExcH  -10.687449\n",
       "outgoingCurrentToExcFromEachInhH   10.649462\n",
       "outgoingCurrentToInhFromEachExcH  -13.842519\n",
       "outgoingCurrentToInhFromEachInhH   13.689325\n",
       "incomingExcCurrentOntoEachExc     -15.245244\n",
       "incomingInhCurrentOntoEachExc      15.478234\n",
       "incomingExcCurrentOntoEachInh     -90.340408\n",
       "incomingInhCurrentOntoEachInh      91.372124\n",
       "outgoingCurrentToExcFromEachExc   -10.448026\n",
       "outgoingCurrentToExcFromEachInh    10.390779\n",
       "outgoingCurrentToInhFromEachExc   -15.002015\n",
       "outgoingCurrentToInhFromEachInh    14.950821"
      ]
     },
     "execution_count": 928,
     "metadata": {},
     "output_type": "execute_result"
    }
   ],
   "source": [
    "cvDF"
   ]
  },
  {
   "cell_type": "code",
   "execution_count": 812,
   "metadata": {},
   "outputs": [
    {
     "data": {
      "text/plain": [
       "array([-0.04245139,  0.08597401,  0.04286776, -0.08697999, -0.10442287,\n",
       "        0.1038627 ,  0.13032407, -0.12737298, -0.57980984,  0.58653855,\n",
       "       -0.5805523 ,  0.5879602 , -0.10687449,  0.10649461, -0.13842519,\n",
       "        0.13689326, -0.15769655,  0.1769976 , -0.902717  ,  0.906475  ,\n",
       "       -0.10449539,  0.10396127, -0.14992274,  0.1496405 ], dtype=float32)"
      ]
     },
     "execution_count": 812,
     "metadata": {},
     "output_type": "execute_result"
    }
   ],
   "source": [
    "allCVs"
   ]
  },
  {
   "cell_type": "code",
   "execution_count": 528,
   "metadata": {
    "scrolled": true
   },
   "outputs": [
    {
     "name": "stdout",
     "output_type": "stream",
     "text": [
      "(1600,)\n"
     ]
    }
   ],
   "source": [
    "print(incomingExcCurrentOntoEachExc.shape)"
   ]
  },
  {
   "cell_type": "code",
   "execution_count": 523,
   "metadata": {},
   "outputs": [
    {
     "data": {
      "text/plain": [
       "12.557544"
      ]
     },
     "execution_count": 523,
     "metadata": {},
     "output_type": "execute_result"
    }
   ],
   "source": [
    "incomingExcCurrentOntoEachExc.std()"
   ]
  },
  {
   "cell_type": "code",
   "execution_count": 524,
   "metadata": {},
   "outputs": [
    {
     "data": {
      "text/plain": [
       "array([-6744.02  , -6709.878 , -6700.067 , ..., -6737.6187, -6722.0674,\n",
       "       -6714.1416], dtype=float32)"
      ]
     },
     "execution_count": 524,
     "metadata": {},
     "output_type": "execute_result"
    }
   ],
   "source": [
    "outgoingExcCurrentToEachExc = np.nansum(dwEECHS, 1)\n",
    "outgoingExcCurrentToEachExc"
   ]
  },
  {
   "cell_type": "code",
   "execution_count": 525,
   "metadata": {},
   "outputs": [
    {
     "data": {
      "text/plain": [
       "12.510517"
      ]
     },
     "execution_count": 525,
     "metadata": {},
     "output_type": "execute_result"
    }
   ],
   "source": [
    "outgoingExcCurrentToEachExc.std()"
   ]
  },
  {
   "cell_type": "code",
   "execution_count": 526,
   "metadata": {},
   "outputs": [
    {
     "data": {
      "text/plain": [
       "array([-9057.689, -8949.369, -9204.297, ..., -9171.056, -8984.055,\n",
       "       -9165.846], dtype=float32)"
      ]
     },
     "execution_count": 526,
     "metadata": {},
     "output_type": "execute_result"
    }
   ],
   "source": [
    "np.nansum(dwEES, 0)"
   ]
  },
  {
   "cell_type": "code",
   "execution_count": 527,
   "metadata": {},
   "outputs": [
    {
     "data": {
      "text/plain": [
       "array([-23.21856026, -24.24514108, -22.30134881, ..., -22.42062698,\n",
       "       -23.67049097, -22.34091519])"
      ]
     },
     "execution_count": 527,
     "metadata": {},
     "output_type": "execute_result"
    }
   ],
   "source": [
    "np.nansum(dwEE, 0) / p['nExc']"
   ]
  },
  {
   "cell_type": "code",
   "execution_count": 224,
   "metadata": {},
   "outputs": [
    {
     "data": {
      "text/plain": [
       "array([-22.79990959, -22.79991584, -22.799904  , ..., -22.79990473,\n",
       "       -22.79991234, -22.79990424])"
      ]
     },
     "execution_count": 224,
     "metadata": {},
     "output_type": "execute_result"
    }
   ],
   "source": [
    "np.nansum(dwEES, 0) / (~np.isnan(dwEES)).sum(0)"
   ]
  },
  {
   "cell_type": "code",
   "execution_count": 225,
   "metadata": {},
   "outputs": [
    {
     "data": {
      "text/plain": [
       "array([-22.286911, -21.032923, -23.540901, ..., -23.369902, -21.716917,\n",
       "       -23.483902], dtype=float32)"
      ]
     },
     "execution_count": 225,
     "metadata": {},
     "output_type": "execute_result"
    }
   ],
   "source": [
    "np.nansum(dwEES, 0) / (p['nExc'] * p['propConnect'])"
   ]
  },
  {
   "cell_type": "code",
   "execution_count": null,
   "metadata": {},
   "outputs": [],
   "source": []
  },
  {
   "cell_type": "code",
   "execution_count": null,
   "metadata": {},
   "outputs": [],
   "source": []
  },
  {
   "cell_type": "code",
   "execution_count": null,
   "metadata": {},
   "outputs": [],
   "source": []
  },
  {
   "cell_type": "code",
   "execution_count": null,
   "metadata": {},
   "outputs": [],
   "source": []
  },
  {
   "cell_type": "code",
   "execution_count": null,
   "metadata": {},
   "outputs": [],
   "source": []
  },
  {
   "cell_type": "code",
   "execution_count": null,
   "metadata": {},
   "outputs": [],
   "source": []
  },
  {
   "cell_type": "code",
   "execution_count": 10,
   "metadata": {},
   "outputs": [],
   "source": [
    "downSampleFactorForE = 0.025\n",
    "downSampleFactorForI = 0.1\n",
    "\n",
    "downSampleNForE = int(downSampleFactorForE * R1.p['nExc'])\n",
    "downSampleNForI = int(downSampleFactorForI * R1.p['nInh'])\n",
    "\n",
    "downSampleE = np.random.choice(R1.p['nExc'], size=downSampleNForE, replace=False)\n",
    "downSampleI = np.random.choice(R1.p['nInh'], size=downSampleNForI, replace=False)"
   ]
  },
  {
   "cell_type": "code",
   "execution_count": 13,
   "metadata": {},
   "outputs": [
    {
     "data": {
      "text/plain": [
       "True"
      ]
     },
     "execution_count": 13,
     "metadata": {},
     "output_type": "execute_result"
    }
   ],
   "source": [
    "np.all(R1.trialUpFRExc == R2.trialUpFRExc)"
   ]
  },
  {
   "cell_type": "code",
   "execution_count": 14,
   "metadata": {},
   "outputs": [
    {
     "data": {
      "text/plain": [
       "True"
      ]
     },
     "execution_count": 14,
     "metadata": {},
     "output_type": "execute_result"
    }
   ],
   "source": [
    "np.all(R1.trialwEE == R2.trialwEE)"
   ]
  },
  {
   "cell_type": "code",
   "execution_count": 20,
   "metadata": {},
   "outputs": [
    {
     "data": {
      "text/plain": [
       "True"
      ]
     },
     "execution_count": 20,
     "metadata": {},
     "output_type": "execute_result"
    }
   ],
   "source": [
    "np.allclose(wFullInit1, wFullInit2, equal_nan=True)"
   ]
  },
  {
   "cell_type": "code",
   "execution_count": 21,
   "metadata": {},
   "outputs": [
    {
     "data": {
      "text/plain": [
       "True"
      ]
     },
     "execution_count": 21,
     "metadata": {},
     "output_type": "execute_result"
    }
   ],
   "source": [
    "np.allclose(wFullFinal1, wFullFinal2, equal_nan=True)"
   ]
  },
  {
   "cell_type": "code",
   "execution_count": 813,
   "metadata": {
    "scrolled": true
   },
   "outputs": [],
   "source": [
    "labels = ['incomingExcCurrentOntoEachExcCH',\n",
    "'incomingInhCurrentOntoEachExcCH',\n",
    "'incomingExcCurrentOntoEachInhCH',\n",
    "'incomingInhCurrentOntoEachInhCH',\n",
    "'outgoingCurrentToExcFromEachExcCH',\n",
    "'outgoingCurrentToExcFromEachInhCH',\n",
    "'outgoingCurrentToInhFromEachExcCH',\n",
    "'outgoingCurrentToInhFromEachInhCH',\n",
    "'incomingExcCurrentOntoEachExcH',\n",
    "'incomingInhCurrentOntoEachExcH',\n",
    "'incomingExcCurrentOntoEachInhH',\n",
    "'incomingInhCurrentOntoEachInhH',\n",
    "'outgoingCurrentToExcFromEachExcH',\n",
    "'outgoingCurrentToExcFromEachInhH',\n",
    "'outgoingCurrentToInhFromEachExcH',\n",
    "'outgoingCurrentToInhFromEachInhH',\n",
    "'incomingExcCurrentOntoEachExc',\n",
    "'incomingInhCurrentOntoEachExc',\n",
    "'incomingExcCurrentOntoEachInh',\n",
    "'incomingInhCurrentOntoEachInh',\n",
    "'outgoingCurrentToExcFromEachExc',\n",
    "'outgoingCurrentToExcFromEachInh',\n",
    "'outgoingCurrentToInhFromEachExc',\n",
    "'outgoingCurrentToInhFromEachInh',]"
   ]
  },
  {
   "cell_type": "code",
   "execution_count": 810,
   "metadata": {
    "scrolled": true
   },
   "outputs": [
    {
     "name": "stdout",
     "output_type": "stream",
     "text": [
      "-0.042451385\n",
      "0.08597401\n",
      "0.042867765\n",
      "-0.086979985\n",
      "-0.10442287\n",
      "0.1038627\n",
      "0.13032407\n",
      "-0.12737298\n",
      "-0.57980984\n",
      "0.58653855\n",
      "-0.5805523\n",
      "0.5879602\n",
      "-0.10687449\n",
      "0.10649461\n",
      "-0.13842519\n",
      "0.13689326\n",
      "-0.15769655\n",
      "0.1769976\n",
      "-0.902717\n",
      "0.906475\n",
      "-0.10449539\n",
      "0.103961274\n",
      "-0.14992274\n",
      "0.1496405\n"
     ]
    }
   ],
   "source": [
    "incomingExcCurrentOntoEachExcCH\n",
    "incomingInhCurrentOntoEachExcCH\n",
    "incomingExcCurrentOntoEachInhCH\n",
    "incomingInhCurrentOntoEachInhCH\n",
    "outgoingCurrentToExcFromEachExcCH\n",
    "outgoingCurrentToExcFromEachInhCH\n",
    "outgoingCurrentToInhFromEachExcCH\n",
    "outgoingCurrentToInhFromEachInhCH\n",
    "incomingExcCurrentOntoEachExcH\n",
    "incomingInhCurrentOntoEachExcH\n",
    "incomingExcCurrentOntoEachInhH\n",
    "incomingInhCurrentOntoEachInhH\n",
    "outgoingCurrentToExcFromEachExcH\n",
    "outgoingCurrentToExcFromEachInhH\n",
    "outgoingCurrentToInhFromEachExcH\n",
    "outgoingCurrentToInhFromEachInhH\n",
    "incomingExcCurrentOntoEachExc\n",
    "incomingInhCurrentOntoEachExc\n",
    "incomingExcCurrentOntoEachInh\n",
    "incomingInhCurrentOntoEachInh\n",
    "outgoingCurrentToExcFromEachExc\n",
    "outgoingCurrentToExcFromEachInh\n",
    "outgoingCurrentToInhFromEachExc\n",
    "outgoingCurrentToInhFromEachInh"
   ]
  }
 ],
 "metadata": {
  "kernelspec": {
   "display_name": "Python 3",
   "language": "python",
   "name": "python3"
  },
  "language_info": {
   "codemirror_mode": {
    "name": "ipython",
    "version": 3
   },
   "file_extension": ".py",
   "mimetype": "text/x-python",
   "name": "python",
   "nbconvert_exporter": "python",
   "pygments_lexer": "ipython3",
   "version": "3.7.6"
  }
 },
 "nbformat": 4,
 "nbformat_minor": 4
}

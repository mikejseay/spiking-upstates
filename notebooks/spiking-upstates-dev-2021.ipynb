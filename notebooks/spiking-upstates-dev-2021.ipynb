{
 "cells": [
  {
   "cell_type": "code",
   "execution_count": 1,
   "metadata": {},
   "outputs": [
    {
     "name": "stdout",
     "output_type": "stream",
     "text": [
      "Using matplotlib backend: Qt5Agg\n"
     ]
    },
    {
     "name": "stderr",
     "output_type": "stream",
     "text": [
      "INFO       Cache size for target \"cython\": 7893 MB.\n",
      "You can call \"clear_cache('cython')\" to delete all files from the cache or manually delete files in the \"C:\\Users\\mikejseay\\.cython\\brian_extensions\" directory. [brian2]\n"
     ]
    }
   ],
   "source": [
    "%matplotlib\n",
    "# to add the spiking model codebase to the path\n",
    "import sys\n",
    "sys.path.append('..')\n",
    "\n",
    "from results import Results\n",
    "from analysis import (generate_description, FR_weights, determine_first_convergent_trial, determine_drift_rates,\n",
    "                      FR_scatter, FR_hist2d, FR_hist1d_compare, FR_weights_std, weights_scatter_matrix,\n",
    "                      weights_hist1d_compare, weights_matrix_compare, combine_two_sessions)\n",
    "\n",
    "import matplotlib.pyplot as plt\n",
    "from matplotlib.backends.backend_pdf import PdfPages"
   ]
  },
  {
   "cell_type": "code",
   "execution_count": 25,
   "metadata": {},
   "outputs": [],
   "source": [
    "plt.close('all')"
   ]
  },
  {
   "cell_type": "code",
   "execution_count": 32,
   "metadata": {},
   "outputs": [],
   "source": [
    "targetPath = 'C:/Users/mikejseay/Documents/BrianResults/'\n",
    "# targetFile = 'classicJercog_2000_0p25_cross-homeo-pre-scalar-homeo-reMean_guessGoodWeights2e3p025LogNormal_reMean_2021-08-19-20-37_results'\n",
    "targetFile = 'classicJercog_2000_0p25_cross-homeo-pre-outer-homeo_goodCrossHomeoExamp__2022-01-27-07-30-31_results'\n",
    "# targetFile = 'classicJercog_2000_1_cross-homeo-pre-scalar-homeo_guessGoodWeights2e3p1LogNormal_fullConn_2021-08-13-09-38_results'\n",
    "# targetFile = 'classicJercog_2000_0p25_cross-homeo-pre-outer-homeo_guessGoodWeights2e3p025LogNormal__2021-08-31-09-23_results'\n",
    "# targetFile = 'buonoEphysBen1_2000_0p25_cross-homeo-pre-outer-homeo_guessBuono7Weights2e3p025SlightLow__2021-09-04-08-20_results'"
   ]
  },
  {
   "cell_type": "code",
   "execution_count": 33,
   "metadata": {},
   "outputs": [],
   "source": [
    "R = Results()\n",
    "R.init_from_file(targetFile, targetPath)"
   ]
  },
  {
   "cell_type": "code",
   "execution_count": 34,
   "metadata": {},
   "outputs": [
    {
     "name": "stdout",
     "output_type": "stream",
     "text": [
      "5. Hz 2 8. fC 0.98\n"
     ]
    }
   ],
   "source": [
    "print(R.p['setUpFRExc'], R.p['tauUpFRTrials'], R.p['alpha1'], R.p['spikeInputAmplitude'])\n",
    "plt.close('all')\n",
    "pdfObject = PdfPages(targetPath + 'reports/' + R.rID + '_report.pdf')\n",
    "removeOutliers = True"
   ]
  },
  {
   "cell_type": "code",
   "execution_count": 35,
   "metadata": {},
   "outputs": [
    {
     "name": "stdout",
     "output_type": "stream",
     "text": [
      "We think the first convergent index is 400\n",
      "0.19381972799230637\n",
      "-0.4396667802756437\n",
      "-0.029965425974038326\n",
      "-0.2424887071674788\n"
     ]
    }
   ],
   "source": [
    "generate_description(R)\n",
    "\n",
    "FR_weights(R)\n",
    "plt.savefig(pdfObject, format='pdf')\n",
    "\n",
    "# firstConvergentInd = int(R.trialwEE.size / 2)\n",
    "firstConvergentInd = 400\n",
    "# firstConvergentInd = determine_first_convergent_trial(R)\n",
    "# firstConvergentInd = determine_first_convergent_trial(R) + 1500\n",
    "print('We think the first convergent index is', firstConvergentInd)\n",
    "\n",
    "determine_drift_rates(R, firstConvergentInd)\n",
    "print(R.driftRateEE)\n",
    "print(R.driftRateEI)\n",
    "print(R.driftRateIE)\n",
    "print(R.driftRateII)"
   ]
  },
  {
   "cell_type": "code",
   "execution_count": 36,
   "metadata": {},
   "outputs": [],
   "source": [
    "# convergence process\n",
    "FR_scatter(R, endTrialInd=firstConvergentInd)\n",
    "plt.savefig(pdfObject, format='pdf')\n",
    "FR_hist1d_compare(R, endTrialInd=firstConvergentInd)\n",
    "plt.savefig(pdfObject, format='pdf')\n",
    "FR_weights_std(R, endTrialInd=firstConvergentInd)\n",
    "plt.savefig(pdfObject, format='pdf')\n",
    "weights_scatter_matrix(R, endTrialInd=firstConvergentInd)\n",
    "plt.savefig(pdfObject, format='pdf')\n",
    "\n",
    "# post convergence\n",
    "FR_scatter(R, startTrialInd=firstConvergentInd, removeOutliers=removeOutliers)\n",
    "plt.savefig(pdfObject, format='pdf')\n",
    "FR_hist2d(R, startTrialInd=firstConvergentInd, removeOutliers=removeOutliers)\n",
    "plt.savefig(pdfObject, format='pdf')\n",
    "FR_hist1d_compare(R, startTrialInd=firstConvergentInd)\n",
    "plt.savefig(pdfObject, format='pdf')\n",
    "FR_weights_std(R, startTrialInd=firstConvergentInd)\n",
    "plt.savefig(pdfObject, format='pdf')\n",
    "weights_scatter_matrix(R, startTrialInd=firstConvergentInd)\n",
    "plt.savefig(pdfObject, format='pdf')\n",
    "\n",
    "# epilogue\n",
    "weights_hist1d_compare(R)\n",
    "plt.savefig(pdfObject, format='pdf')\n",
    "weights_matrix_compare(R)\n",
    "plt.savefig(pdfObject, format='pdf')\n",
    "\n",
    "pdfObject.close()"
   ]
  },
  {
   "cell_type": "code",
   "execution_count": 37,
   "metadata": {},
   "outputs": [],
   "source": [
    "plt.close('all')"
   ]
  },
  {
   "cell_type": "code",
   "execution_count": null,
   "metadata": {},
   "outputs": [],
   "source": []
  },
  {
   "cell_type": "code",
   "execution_count": null,
   "metadata": {},
   "outputs": [],
   "source": []
  },
  {
   "cell_type": "code",
   "execution_count": null,
   "metadata": {},
   "outputs": [],
   "source": []
  },
  {
   "cell_type": "code",
   "execution_count": 7,
   "metadata": {},
   "outputs": [],
   "source": [
    "# imports for further development\n",
    "\n",
    "from brian2 import pA, second, Hz\n",
    "import numpy as np\n",
    "from stats import moving_average, regress_linear, remove_outliers\n",
    "from generate import weight_matrix_from_flat_inds_weights\n",
    "from plot import weight_matrix\n",
    "from scipy.stats import mode\n",
    "from sklearn.neighbors import KernelDensity"
   ]
  },
  {
   "cell_type": "code",
   "execution_count": 8,
   "metadata": {},
   "outputs": [
    {
     "data": {
      "text/plain": [
       "[(0.0, 2000.0), (0.0, 2000.0)]"
      ]
     },
     "execution_count": 8,
     "metadata": {},
     "output_type": "execute_result"
    }
   ],
   "source": [
    "# the following plot shows the weight matrices in a pretty labeled way\n",
    "\n",
    "wEEInit = weight_matrix_from_flat_inds_weights(R.p['nExc'], R.p['nExc'], R.preEE, R.posEE, R.wEE_init)\n",
    "wIEInit = weight_matrix_from_flat_inds_weights(R.p['nExc'], R.p['nInh'], R.preIE, R.posIE, R.wIE_init)\n",
    "wEIInit = weight_matrix_from_flat_inds_weights(R.p['nInh'], R.p['nExc'], R.preEI, R.posEI, R.wEI_init)\n",
    "wIIInit = weight_matrix_from_flat_inds_weights(R.p['nInh'], R.p['nInh'], R.preII, R.posII, R.wII_init)\n",
    "\n",
    "wEEFinal = weight_matrix_from_flat_inds_weights(R.p['nExc'], R.p['nExc'], R.preEE, R.posEE, R.wEE_final)\n",
    "wIEFinal = weight_matrix_from_flat_inds_weights(R.p['nExc'], R.p['nInh'], R.preIE, R.posIE, R.wIE_final)\n",
    "wEIFinal = weight_matrix_from_flat_inds_weights(R.p['nInh'], R.p['nExc'], R.preEI, R.posEI, R.wEI_final)\n",
    "wIIFinal = weight_matrix_from_flat_inds_weights(R.p['nInh'], R.p['nInh'], R.preII, R.posII, R.wII_final)\n",
    "\n",
    "wFullInit = np.block([[wEEInit, wIEInit], [-wEIInit, -wIIInit]])\n",
    "wFullFinal = np.block([[wEEFinal, wIEFinal], [-wEIFinal, -wIIFinal]])\n",
    "\n",
    "allNumbers = np.concatenate((wFullInit, wFullFinal)).ravel()\n",
    "allNumbersClean = remove_outliers(allNumbers)\n",
    "\n",
    "vlims = (np.nanmin(allNumbersClean), np.nanmax(allNumbersClean))\n",
    "\n",
    "wFullInitPlot = wFullInit.copy()\n",
    "wFullFinalPlot = wFullFinal.copy()\n",
    "\n",
    "wFullInitPlot[wFullInitPlot < vlims[0]] = np.nan\n",
    "wFullInitPlot[wFullInitPlot > vlims[1]] = np.nan\n",
    "\n",
    "wFullFinalPlot[wFullFinalPlot < vlims[0]] = np.nan\n",
    "wFullFinalPlot[wFullFinalPlot > vlims[1]] = np.nan\n",
    "\n",
    "wFullInitPlot[np.isnan(wFullInitPlot)] = 0\n",
    "wFullFinalPlot[np.isnan(wFullFinalPlot)] = 0\n",
    "\n",
    "useSize = 16\n",
    "\n",
    "fig, ax = plt.subplots(figsize=(6, 5))\n",
    "weight_matrix(ax, wFullFinalPlot, xlabel='Post Index', ylabel='Pre Index',\n",
    "              clabel='Weight (pA)', limsMethod='custom', vlims=vlims)\n",
    "ax.hlines(R.p['nExc'], 0, R.p['nUnits'], colors='k')\n",
    "ax.vlines(R.p['nExc'], 0, R.p['nUnits'], colors='k')\n",
    "ax.text(R.p['nExc'] / 2, R.p['nExc'] / 2, 'EE', size=useSize)\n",
    "ax.text(R.p['nExc'] + R.p['nInh'] / 2, R.p['nExc'] / 2, 'IE', size=useSize)\n",
    "ax.text(R.p['nExc'] / 2, R.p['nExc'] + R.p['nInh'] / 2, 'EI', size=useSize)\n",
    "ax.text(R.p['nExc'] + R.p['nInh'] / 2, R.p['nExc'] + R.p['nInh'] / 2, 'II', size=useSize)\n",
    "ax.set(xlim=(0, R.p['nUnits']), ylim=(0, R.p['nUnits']))"
   ]
  },
  {
   "cell_type": "code",
   "execution_count": 13,
   "metadata": {},
   "outputs": [
    {
     "name": "stdout",
     "output_type": "stream",
     "text": [
      "252.07347\n",
      "264.48114\n",
      "307.73352\n",
      "281.88086\n"
     ]
    }
   ],
   "source": [
    "print(np.nanmean(wEEFinal))\n",
    "print(np.nanmean(wIEFinal))\n",
    "print(np.nanmean(wEIFinal))\n",
    "print(np.nanmean(wIIFinal))"
   ]
  },
  {
   "cell_type": "code",
   "execution_count": null,
   "metadata": {},
   "outputs": [],
   "source": [
    "# a plot for a single trial\n",
    "\n"
   ]
  },
  {
   "cell_type": "code",
   "execution_count": null,
   "metadata": {},
   "outputs": [],
   "source": []
  },
  {
   "cell_type": "code",
   "execution_count": 22,
   "metadata": {},
   "outputs": [],
   "source": [
    "plt.close('all')"
   ]
  },
  {
   "cell_type": "code",
   "execution_count": 31,
   "metadata": {
    "collapsed": true
   },
   "outputs": [
    {
     "name": "stdout",
     "output_type": "stream",
     "text": [
      "311.39233\n",
      "388.17596\n",
      "222.7006\n",
      "195.84949\n"
     ]
    }
   ],
   "source": [
    "print(np.nanmean(R.wEE_final))\n",
    "print(np.nanmean(R.wEI_final))\n",
    "print(np.nanmean(R.wIE_final))\n",
    "print(np.nanmean(R.wII_final))"
   ]
  },
  {
   "cell_type": "code",
   "execution_count": null,
   "metadata": {},
   "outputs": [],
   "source": []
  },
  {
   "cell_type": "code",
   "execution_count": null,
   "metadata": {},
   "outputs": [],
   "source": [
    "# what about cumulative prob at a certain percent"
   ]
  },
  {
   "cell_type": "code",
   "execution_count": 74,
   "metadata": {},
   "outputs": [
    {
     "data": {
      "text/plain": [
       "(0, 0.1)"
      ]
     },
     "execution_count": 74,
     "metadata": {},
     "output_type": "execute_result"
    }
   ],
   "source": [
    "# v1.2\n",
    "\n",
    "f, ax = plt.subplots(num=1)\n",
    "\n",
    "movAvgWidth = 31\n",
    "\n",
    "wEEDiffAbsMAvg = np.fabs(moving_average(np.ediff1d(R.trialwEE), movAvgWidth))\n",
    "wEIDiffAbsMAvg = np.fabs(moving_average(np.ediff1d(R.trialwEI), movAvgWidth))\n",
    "wIEDiffAbsMAvg = np.fabs(moving_average(np.ediff1d(R.trialwIE), movAvgWidth))\n",
    "wIIDiffAbsMAvg = np.fabs(moving_average(np.ediff1d(R.trialwII), movAvgWidth))\n",
    "\n",
    "wSum = wEEDiffAbsMAvg + wEIDiffAbsMAvg + wIEDiffAbsMAvg + wIIDiffAbsMAvg\n",
    "wSumMode = mode(wSum)[0][0]\n",
    "\n",
    "belowThreshBool = wSum < (wSum.mean() + wSumMode) / 2\n",
    "belowThreshBoolMAvg = moving_average(belowThreshBool, 51)\n",
    "if np.any(belowThreshBoolMAvg == 1):\n",
    "    firstConvergentInd = np.argmax(belowThreshBoolMAvg == 1)\n",
    "else:\n",
    "    alpha = 0.05\n",
    "    nTrials = belowThreshBoolMAvg.size\n",
    "    thresholdInd = int(np.round((1 - alpha) * nTrials))\n",
    "    thresholdValue = np.sort(belowThreshBoolMAvg)[thresholdInd]\n",
    "    firstConvergentInd = np.argmax(belowThreshBoolMAvg >= thresholdValue)\n",
    "\n",
    "alpha = 0.05\n",
    "nTrials = belowThreshBoolMAvg.size\n",
    "thresholdInd = int(np.round((1 - alpha) * nTrials))\n",
    "thresholdValue = np.sort(belowThreshBoolMAvg)[thresholdInd]\n",
    "firstConvergentInd = np.argmax(belowThreshBoolMAvg >= thresholdValue)\n",
    "\n",
    "ax.plot(wSum)\n",
    "ax.hlines(0, 0, R.trialwEE.size)\n",
    "ax.hlines(wSum.mean(), 0, R.trialwEE.size, color='r', ls='--')\n",
    "# ax.hlines(wSumMode, 0, R.trialwEE.size, color='g', ls='--')\n",
    "ax.hlines((wSum.mean() + wSumMode) / 2, 0, R.trialwEE.size, color='b', ls='--')\n",
    "ax.vlines(firstConvergentInd, ax.get_ylim()[0], ax.get_ylim()[1], color='g', ls='--')\n",
    "# ax.set_xlim(0, 2000)\n",
    "ax.set_ylim(0, 0.1)"
   ]
  },
  {
   "cell_type": "code",
   "execution_count": 78,
   "metadata": {},
   "outputs": [
    {
     "data": {
      "text/plain": [
       "<matplotlib.collections.LineCollection at 0x194dedbc188>"
      ]
     },
     "execution_count": 78,
     "metadata": {},
     "output_type": "execute_result"
    }
   ],
   "source": [
    "f, ax = plt.subplots()\n",
    "ax.plot(belowThreshBoolMAvg)\n",
    "ax.vlines(firstConvergentInd, ax.get_ylim()[0], ax.get_ylim()[1], color='g', ls='--')"
   ]
  },
  {
   "cell_type": "code",
   "execution_count": 49,
   "metadata": {},
   "outputs": [
    {
     "data": {
      "text/plain": [
       "0"
      ]
     },
     "execution_count": 49,
     "metadata": {},
     "output_type": "execute_result"
    }
   ],
   "source": [
    "firstConvergentInd"
   ]
  },
  {
   "cell_type": "code",
   "execution_count": 32,
   "metadata": {},
   "outputs": [
    {
     "data": {
      "text/plain": [
       "0.013143943818654462"
      ]
     },
     "execution_count": 32,
     "metadata": {},
     "output_type": "execute_result"
    }
   ],
   "source": [
    "alpha = 0.1\n",
    "alphaInd = int(np.round(wSum.size * (1 - alpha)))\n",
    "\n",
    "np.sort(wSum)[alphaInd]"
   ]
  },
  {
   "cell_type": "code",
   "execution_count": 27,
   "metadata": {},
   "outputs": [],
   "source": [
    "wCumSort = np.cumsum(np.sort(wSum))"
   ]
  },
  {
   "cell_type": "code",
   "execution_count": 28,
   "metadata": {},
   "outputs": [
    {
     "data": {
      "text/plain": [
       "[<matplotlib.lines.Line2D at 0x24f1b3cae48>]"
      ]
     },
     "execution_count": 28,
     "metadata": {},
     "output_type": "execute_result"
    }
   ],
   "source": [
    "f, ax = plt.subplots()\n",
    "ax.plot(wCumSort)"
   ]
  },
  {
   "cell_type": "code",
   "execution_count": 22,
   "metadata": {},
   "outputs": [],
   "source": []
  },
  {
   "cell_type": "code",
   "execution_count": 24,
   "metadata": {},
   "outputs": [
    {
     "data": {
      "text/plain": [
       "0.011037429225254969"
      ]
     },
     "execution_count": 24,
     "metadata": {},
     "output_type": "execute_result"
    }
   ],
   "source": [
    "wSum.mean()"
   ]
  },
  {
   "cell_type": "code",
   "execution_count": 23,
   "metadata": {},
   "outputs": [],
   "source": []
  },
  {
   "cell_type": "code",
   "execution_count": null,
   "metadata": {},
   "outputs": [],
   "source": []
  },
  {
   "cell_type": "code",
   "execution_count": 8,
   "metadata": {},
   "outputs": [],
   "source": []
  },
  {
   "cell_type": "code",
   "execution_count": 15,
   "metadata": {},
   "outputs": [],
   "source": [
    "x = wSum\n",
    "x_d = np.linspace(wSum.min(), wSum.max(), 1000)\n",
    "\n",
    "# instantiate and fit the KDE model\n",
    "kde = KernelDensity(bandwidth=0.01, kernel='gaussian')\n",
    "kde.fit(x[:, None])\n",
    "\n",
    "# score_samples returns the log of the probability density\n",
    "logprob = kde.score_samples(x_d[:, None])\n",
    "\n",
    "f, ax = plt.subplots()\n",
    "ax.fill_between(x_d, np.exp(logprob), alpha=0.5)\n",
    "ax.plot(x, np.full_like(x, -0.01), '|k', markeredgewidth=1)"
   ]
  },
  {
   "cell_type": "code",
   "execution_count": 19,
   "metadata": {
    "collapsed": true
   },
   "outputs": [
    {
     "data": {
      "text/plain": [
       "(array([5.463e+03, 5.100e+02, 1.010e+02, 1.070e+02, 2.600e+01, 3.800e+01,\n",
       "        2.500e+01, 2.100e+01, 1.300e+01, 1.400e+01, 3.900e+01, 2.000e+01,\n",
       "        2.400e+01, 1.700e+01, 2.800e+01, 2.700e+01, 2.500e+01, 3.500e+01,\n",
       "        3.400e+01, 5.900e+01, 1.000e+00, 1.000e+00, 1.000e+00, 2.000e+00,\n",
       "        2.000e+00, 1.000e+00, 1.000e+00, 2.000e+00, 1.000e+00, 1.000e+00,\n",
       "        1.000e+00, 1.000e+00, 1.000e+00, 1.000e+00, 1.000e+00, 1.000e+00,\n",
       "        1.000e+00, 1.000e+00, 1.000e+00, 1.000e+00, 1.000e+00, 1.000e+00,\n",
       "        1.000e+00, 1.000e+00, 1.000e+00, 1.000e+00, 1.000e+00, 1.000e+00,\n",
       "        1.000e+00, 1.000e+00, 1.000e+00, 1.000e+00, 0.000e+00, 1.000e+00,\n",
       "        1.000e+00, 1.000e+00, 1.000e+00, 1.000e+00, 1.000e+00, 1.000e+00,\n",
       "        1.000e+00, 1.000e+00, 1.000e+00, 1.000e+00, 1.000e+00, 1.000e+00,\n",
       "        1.000e+00, 1.000e+00, 1.000e+00, 1.000e+00, 1.000e+00, 2.000e+00,\n",
       "        1.000e+00, 0.000e+00, 3.000e+00, 1.000e+00, 2.000e+00, 0.000e+00,\n",
       "        2.000e+00, 2.000e+00, 0.000e+00, 3.000e+00, 1.000e+00, 2.000e+00,\n",
       "        0.000e+00, 2.000e+00, 1.000e+00, 2.000e+00, 1.000e+00, 2.000e+00,\n",
       "        1.000e+00, 2.000e+00, 2.000e+00, 1.000e+00, 3.000e+00, 1.000e+00,\n",
       "        4.000e+00, 2.000e+00, 5.000e+00, 7.000e+00]),\n",
       " array([0.00049714, 0.00489939, 0.00930165, 0.01370391, 0.01810616,\n",
       "        0.02250842, 0.02691067, 0.03131293, 0.03571519, 0.04011744,\n",
       "        0.0445197 , 0.04892195, 0.05332421, 0.05772646, 0.06212872,\n",
       "        0.06653098, 0.07093323, 0.07533549, 0.07973774, 0.08414   ,\n",
       "        0.08854226, 0.09294451, 0.09734677, 0.10174902, 0.10615128,\n",
       "        0.11055354, 0.11495579, 0.11935805, 0.1237603 , 0.12816256,\n",
       "        0.13256481, 0.13696707, 0.14136933, 0.14577158, 0.15017384,\n",
       "        0.15457609, 0.15897835, 0.16338061, 0.16778286, 0.17218512,\n",
       "        0.17658737, 0.18098963, 0.18539189, 0.18979414, 0.1941964 ,\n",
       "        0.19859865, 0.20300091, 0.20740316, 0.21180542, 0.21620768,\n",
       "        0.22060993, 0.22501219, 0.22941444, 0.2338167 , 0.23821896,\n",
       "        0.24262121, 0.24702347, 0.25142572, 0.25582798, 0.26023024,\n",
       "        0.26463249, 0.26903475, 0.273437  , 0.27783926, 0.28224152,\n",
       "        0.28664377, 0.29104603, 0.29544828, 0.29985054, 0.30425279,\n",
       "        0.30865505, 0.31305731, 0.31745956, 0.32186182, 0.32626407,\n",
       "        0.33066633, 0.33506859, 0.33947084, 0.3438731 , 0.34827535,\n",
       "        0.35267761, 0.35707987, 0.36148212, 0.36588438, 0.37028663,\n",
       "        0.37468889, 0.37909114, 0.3834934 , 0.38789566, 0.39229791,\n",
       "        0.39670017, 0.40110242, 0.40550468, 0.40990694, 0.41430919,\n",
       "        0.41871145, 0.4231137 , 0.42751596, 0.43191822, 0.43632047,\n",
       "        0.44072273]),\n",
       " <a list of 1 Patch objects>)"
      ]
     },
     "execution_count": 19,
     "metadata": {},
     "output_type": "execute_result"
    }
   ],
   "source": [
    "f, ax = plt.subplots()\n",
    "ax.hist(wSum, 100, histtype='step')"
   ]
  },
  {
   "cell_type": "code",
   "execution_count": null,
   "metadata": {},
   "outputs": [],
   "source": [
    "belowThreshBool = wSum < wSum.mean()\n",
    "belowThreshBoolMAvg = moving_average(belowThreshBool, movAvgWidth)\n",
    "firstConvergentInd = np.argmax(belowThreshBoolMAvg == 1)"
   ]
  },
  {
   "cell_type": "code",
   "execution_count": null,
   "metadata": {},
   "outputs": [],
   "source": []
  },
  {
   "cell_type": "code",
   "execution_count": null,
   "metadata": {},
   "outputs": [],
   "source": []
  },
  {
   "cell_type": "code",
   "execution_count": 3,
   "metadata": {},
   "outputs": [],
   "source": [
    "targetPath = 'C:/Users/mikejseay/Documents/BrianResults/'\n",
    "# local\n",
    "# targetFile = 'classicJercog_2000_0p25_cross-homeo-scalar_guessGoodWeights2e3p025LogNormal_movAvg1_2021-08-05-00-57_results'\n",
    "# targetFile = 'classicJercog_2000_0p25_cross-homeo-scalar-homeo_guessGoodWeights2e3p025LogNormal_movAvg1_2021-08-05-00-57_results'\n",
    "# targetFile = 'classicJercog_2000_0p25_cross-homeo-pre-scalar_guessGoodWeights2e3p025LogNormal__2021-08-03-10-00_results'\n",
    "# targetFile = 'classicJercog_2000_0p25_cross-homeo-pre-scalar-homeo_guessGoodWeights2e3p025LogNormal__2021-08-02-14-26_results'\n",
    "# targetFile = 'classicJercog_2000_0p25_cross-homeo-pre-scalar-homeo_guessGoodWeights2e3p025LogNormal_movAvg2_2021-08-04-11-12_results'\n",
    "# targetFile = 'classicJercog_2000_0p25_cross-homeo-pre-scalar-homeo_guessGoodWeights2e3p025LogNormal_movAvg4_2021-08-04-11-13_results'\n",
    "targetFile = 'classicJercog_2000_0p25_cross-homeo-pre-scalar-homeo_guessGoodWeights2e3p025LogNormal_movAvg1_2021-08-05-11-02_results'\n",
    "# targetFile = 'classicJercog_2000_0p25_cross-homeo-scalar-homeo_guessUpperLeftWeights2e3p025LogNormal_movAvg1_2021-08-05-23-54_results'\n",
    "# targetFile = 'classicJercog_2000_0p25_cross-homeo-pre-scalar-homeo_guessGoodWeights2e3p025LogNormal_movAvg8_2021-08-05-11-03_results'\n",
    "\n",
    "# targetFile = 'classicJercog_2000_0p25_cross-homeo-pre-scalar-homeo_guessUpperLeftWeights2e3p025LogNormal_movAvg1_2021-08-06-10-42_results'\n",
    "# targetFile = 'classicJercog_2000_0p25_cross-homeo-pre-scalar-homeo_guessLowerRightWeights2e3p025LogNormal_movAvg1_2021-08-06-09-01_results'\n",
    "# targetFile = 'classicJercog_2000_0p25_cross-homeo-pre-scalar-homeo_guessGoodWeights2e3p025LogNormal_lowNoise_2021-08-07-09-04_results'\n",
    "# targetFile = 'classicJercog_2000_0p25_cross-homeo-pre-scalar-homeo_guessGoodWeights2e3p025LogNormal_lowNoiseBigKickPop_2021-08-07-09-08_results'\n",
    "\n",
    "# targetFile = 'classicJercog_2000_0p25_cross-homeo-pre-scalar-homeo-corrected_guessGoodWeights2e3p025LogNormal_fixSigns_2021-08-09-09-10_results'\n",
    "# targetFile = 'classicJercog_2000_0p25_cross-homeo-pre-scalar-homeo_guessGoodWeights2e3p025LogNormal_movAvg1_2021-08-05-11-02_results'\n",
    "\n",
    "# targetFile = 'classicJercog_2000_0p25_cross-homeo-pre-scalar-homeo-corrected_guessLowerRightWeights2e3p025LogNormal_fixSigns_2021-08-10-13-52_results'\n",
    "\n",
    "# targetPath = 'C:/Users/mikejseay/Documents/BrianResultsHoff/'\n",
    "# hoff\n",
    "# targetFile = 'classicJercog_2000_0p25_cross-homeo-pre-scalar-homeo_guessUpperLeftWeights2e3p025LogNormal_movAvg1_2021-08-05-17-00_results'  # was a very bad guess... actually lower RIGHT\n",
    "# targetFile = 'classicJercog_2000_0p25_cross-homeo-pre-scalar-homeo_guessGoodWeights2e3p025LogNormal_movAvg1_2021-08-05-21-06_results'   # findout out the upper left weights..."
   ]
  },
  {
   "cell_type": "code",
   "execution_count": null,
   "metadata": {},
   "outputs": [],
   "source": []
  },
  {
   "cell_type": "code",
   "execution_count": 403,
   "metadata": {
    "scrolled": false
   },
   "outputs": [],
   "source": [
    "# goal: evaluate the average weight change according to various rules for the ACTUAL mean weights\n",
    "\n",
    "startTrialInd = 1000\n",
    "endTrialInd = -1\n",
    "\n",
    "# f, ax = plt.subplots()\n",
    "plt.hist2d(R.trialUpFRExc[startTrialInd:endTrialInd], R.trialUpFRInh[startTrialInd:endTrialInd], bins=50)\n",
    "# ax.plot(R.trialUpFRExc, R.trialUpFRInh, color='k', alpha=0.1)\n",
    "ax.hlines(R.p['setUpFRInh'] / Hz, ax.get_xlim()[0], ax.get_xlim()[1], linestyles='dotted')\n",
    "ax.vlines(R.p['setUpFRExc'] / Hz, ax.get_ylim()[0], ax.get_ylim()[1], linestyles='dotted')\n",
    "ax.set_xlabel('E (Hz)')\n",
    "ax.set_ylabel('I (Hz)')\n",
    "\n",
    "plt.colorbar()\n",
    "plt.show()"
   ]
  },
  {
   "cell_type": "code",
   "execution_count": null,
   "metadata": {},
   "outputs": [],
   "source": []
  },
  {
   "cell_type": "code",
   "execution_count": 15,
   "metadata": {},
   "outputs": [
    {
     "data": {
      "text/plain": [
       "[Text(0, 0.5, 'wEI (pA)'), Text(0.5, 0, 'wEE (pA)')]"
      ]
     },
     "execution_count": 15,
     "metadata": {},
     "output_type": "execute_result"
    }
   ],
   "source": [
    "# scattering weights before and after ??\n",
    "\n",
    "downSampleFactorForE = 0.25\n",
    "downSampleNForE = int(downSampleFactorForE * wEEInitP.size)\n",
    "\n",
    "fig4, ax4 = plt.subplots(2, 1, figsize=(7, 9))\n",
    "\n",
    "ax4[0].scatter(wEEInitP[:downSampleNForE], wEIInitP[:downSampleNForE], 1, color='lightgreen')\n",
    "ax4[0].scatter(wEEFinalP[:downSampleNForE], wEIFinalP[:downSampleNForE], 1, color='darkgreen', marker='^')\n",
    "ax4[0].plot(np.stack((wEEInitP[:downSampleNForE], wEEFinalP[:downSampleNForE])),\n",
    "            np.stack((wEIInitP[:downSampleNForE], wEIFinalP[:downSampleNForE])), color='grey', alpha=0.02)\n",
    "\n",
    "ax4[1].scatter(wIEInitP, wIIInitP, 1, color='lightcoral')\n",
    "ax4[1].scatter(wIEFinalP, wIIFinalP, 1, color='darkred', marker='^')\n",
    "ax4[1].plot(np.stack((wIEFinalP, wIEInitP)), np.stack((wIIFinalP, wIIInitP)), color='grey', alpha=0.1)\n",
    "\n",
    "ax4[0].set(xlabel='wEE (pA)', ylabel='wEI (pA)')\n",
    "ax4[1].set(xlabel='wEE (pA)', ylabel='wEI (pA)')"
   ]
  },
  {
   "cell_type": "code",
   "execution_count": null,
   "metadata": {},
   "outputs": [],
   "source": []
  },
  {
   "cell_type": "code",
   "execution_count": null,
   "metadata": {},
   "outputs": [],
   "source": []
  },
  {
   "cell_type": "code",
   "execution_count": null,
   "metadata": {},
   "outputs": [],
   "source": []
  },
  {
   "cell_type": "code",
   "execution_count": 260,
   "metadata": {},
   "outputs": [
    {
     "data": {
      "text/plain": [
       "Text(0, 0.5, 'Trial Index')"
      ]
     },
     "execution_count": 260,
     "metadata": {},
     "output_type": "execute_result"
    }
   ],
   "source": [
    "# goal: scatter plot the average change in E firing rate vs. I firing rate for each trial\n",
    "\n",
    "FRDiffExc = np.ediff1d(R.trialUpFRExc)\n",
    "FRDiffInh = np.ediff1d(R.trialUpFRInh)\n",
    "\n",
    "f, ax = plt.subplots()\n",
    "s = ax.scatter(FRDiffExc, FRDiffInh, s=3, c=np.arange(FRDiffExc.size) + 2, cmap=plt.cm.viridis, alpha=0.5)\n",
    "ax.hlines(0, ax.get_xlim()[0], ax.get_xlim()[1], linestyles='dotted')\n",
    "ax.vlines(0, ax.get_ylim()[0], ax.get_ylim()[1], linestyles='dotted')\n",
    "ax.set_xlabel('delta E (Hz)')\n",
    "ax.set_ylabel('delta I (Hz)')\n",
    "\n",
    "cb = plt.colorbar(s, ax=ax)\n",
    "cb.ax.set_ylabel('Trial Index', rotation=270)"
   ]
  },
  {
   "cell_type": "code",
   "execution_count": 15,
   "metadata": {},
   "outputs": [
    {
     "data": {
      "text/plain": [
       "Text(0, 0.5, 'Trial Index')"
      ]
     },
     "execution_count": 15,
     "metadata": {},
     "output_type": "execute_result"
    }
   ],
   "source": [
    "# goal: scatter plot the average change in wEE vs. wEI\n",
    "\n",
    "wEEDiff = np.ediff1d(R.trialwEE)\n",
    "wEIDiff = np.ediff1d(R.trialwEI)\n",
    "\n",
    "wIEDiff = np.ediff1d(R.trialwIE)\n",
    "wIIDiff = np.ediff1d(R.trialwII)\n",
    "\n",
    "f, ax = plt.subplots(2, 1, figsize=(6, 11))\n",
    "\n",
    "s = ax[0].scatter(wEEDiff, wEIDiff, s=3, c=np.arange(wEEDiff.size) + 2, cmap=plt.cm.viridis, alpha=0.5)\n",
    "ax[0].set_xlabel('delta wEE (pA)')\n",
    "ax[0].set_ylabel('delta wEI (pA)')\n",
    "\n",
    "s = ax[1].scatter(wIEDiff, wIIDiff, s=3, c=np.arange(wIEDiff.size) + 2, cmap=plt.cm.viridis, alpha=0.5)\n",
    "ax[1].set_xlabel('delta wIE (pA)')\n",
    "ax[1].set_ylabel('delta wII (pA)')\n",
    "cb = plt.colorbar(s, ax=ax)\n",
    "cb.ax.set_ylabel('Trial Index', rotation=270)"
   ]
  },
  {
   "cell_type": "code",
   "execution_count": 409,
   "metadata": {},
   "outputs": [
    {
     "data": {
      "text/plain": [
       "[<matplotlib.lines.Line2D at 0x28b90d7b208>]"
      ]
     },
     "execution_count": 409,
     "metadata": {},
     "output_type": "execute_result"
    }
   ],
   "source": [
    "f, ax = plt.subplots()\n",
    "ax.plot(R.trialUpDur)"
   ]
  },
  {
   "cell_type": "markdown",
   "metadata": {},
   "source": [
    "FR and weights, multiple lines"
   ]
  },
  {
   "cell_type": "code",
   "execution_count": 43,
   "metadata": {
    "scrolled": true
   },
   "outputs": [
    {
     "data": {
      "text/plain": [
       "Text(0.5, 0.98, 'Name: classicJercog_2000_0p25_cross-homeo-pre-scalar-homeo_guessLowerRightWeights2e3p025LogNormal_movAvg1_2021-08-06-09-01\\nEE: 1, IE: 1, EI: 1, II: 1\\n tauFR=1, a1=0.0080 pA, a2=-1.0000 pA, tauP=None')"
      ]
     },
     "execution_count": 43,
     "metadata": {},
     "output_type": "execute_result"
    }
   ],
   "source": [
    "startTrialInd = 0\n",
    "endTrialInd = 500\n",
    "\n",
    "f, ax = plt.subplots(3, 1, sharex=True, figsize=(7, 9))\n",
    "\n",
    "# FRs on bottom...\n",
    "\n",
    "clipVeryHighFRs = False\n",
    "yMax = 40\n",
    "\n",
    "if clipVeryHighFRs:\n",
    "    tmptrialUpFRExcUnits = R.trialUpFRExcUnits.copy()\n",
    "    tmptrialUpFRInhUnits = R.trialUpFRInhUnits.copy()\n",
    "    tmptrialUpFRExcUnits[R.trialUpFRExcUnits > R.p['maxAllowedFRExc']] = np.nan\n",
    "    tmptrialUpFRInhUnits[R.trialUpFRInhUnits > R.p['maxAllowedFRInh']] = np.nan\n",
    "else:\n",
    "    tmptrialUpFRExcUnits = R.trialUpFRExcUnits.copy()\n",
    "    tmptrialUpFRInhUnits = R.trialUpFRInhUnits.copy()\n",
    "\n",
    "    \n",
    "ax[0].plot(R.trialwEE[startTrialInd:endTrialInd], label='wEE', color='cyan')\n",
    "ax[0].plot(R.trialwIE[startTrialInd:endTrialInd], label='wIE', color='purple')\n",
    "ax[0].plot(R.trialwEI[startTrialInd:endTrialInd], label='wEI', color='cyan', ls='--')\n",
    "ax[0].plot(R.trialwII[startTrialInd:endTrialInd], label='wII', color='purple', ls='--')\n",
    "ax[0].legend()\n",
    "ax[0].set_xlabel('Trial #')\n",
    "ax[0].set_ylabel('Weight (pA)')\n",
    "\n",
    "ax[1].plot(tmptrialUpFRExcUnits[startTrialInd:endTrialInd, downSampleE], color='g', alpha=0.2)\n",
    "ax[2].plot(tmptrialUpFRInhUnits[startTrialInd:endTrialInd, downSampleI], color='r', alpha=0.2)\n",
    "ax[1].plot(R.trialUpFRExc[startTrialInd:endTrialInd], color='darkgreen', lw=3)\n",
    "ax[2].plot(R.trialUpFRInh[startTrialInd:endTrialInd], color='darkred', lw=3)\n",
    "ax[1].set(ylabel='Firing Rate (Hz)', ylim=(0, 30))\n",
    "ax[2].set(ylabel='Firing Rate (Hz)', ylim=(0, 30))\n",
    "\n",
    "f.suptitle(importantInfoString)"
   ]
  },
  {
   "cell_type": "code",
   "execution_count": null,
   "metadata": {},
   "outputs": [],
   "source": []
  },
  {
   "cell_type": "code",
   "execution_count": null,
   "metadata": {},
   "outputs": [],
   "source": []
  },
  {
   "cell_type": "markdown",
   "metadata": {},
   "source": [
    "FR and weights, multiple lines, multiple sessions"
   ]
  },
  {
   "cell_type": "code",
   "execution_count": 18,
   "metadata": {
    "scrolled": true
   },
   "outputs": [
    {
     "ename": "NameError",
     "evalue": "name 'crossHomeoLongSessions' is not defined",
     "output_type": "error",
     "traceback": [
      "\u001b[1;31m---------------------------------------------------------------------------\u001b[0m",
      "\u001b[1;31mNameError\u001b[0m                                 Traceback (most recent call last)",
      "\u001b[1;32m<ipython-input-18-dba1ee411cf0>\u001b[0m in \u001b[0;36m<module>\u001b[1;34m\u001b[0m\n\u001b[1;32m----> 1\u001b[1;33m \u001b[1;32mfor\u001b[0m \u001b[0mtargetFile\u001b[0m \u001b[1;32min\u001b[0m \u001b[0mcrossHomeoLongSessions\u001b[0m\u001b[1;33m:\u001b[0m\u001b[1;33m\u001b[0m\u001b[1;33m\u001b[0m\u001b[0m\n\u001b[0m\u001b[0;32m      2\u001b[0m \u001b[1;33m\u001b[0m\u001b[0m\n\u001b[0;32m      3\u001b[0m     \u001b[0mR\u001b[0m \u001b[1;33m=\u001b[0m \u001b[0mResults\u001b[0m\u001b[1;33m(\u001b[0m\u001b[1;33m)\u001b[0m\u001b[1;33m\u001b[0m\u001b[1;33m\u001b[0m\u001b[0m\n\u001b[0;32m      4\u001b[0m     \u001b[0mR\u001b[0m\u001b[1;33m.\u001b[0m\u001b[0minit_from_file\u001b[0m\u001b[1;33m(\u001b[0m\u001b[0mtargetFile\u001b[0m\u001b[1;33m,\u001b[0m \u001b[0mtargetPath\u001b[0m\u001b[1;33m)\u001b[0m\u001b[1;33m\u001b[0m\u001b[1;33m\u001b[0m\u001b[0m\n\u001b[0;32m      5\u001b[0m \u001b[1;33m\u001b[0m\u001b[0m\n",
      "\u001b[1;31mNameError\u001b[0m: name 'crossHomeoLongSessions' is not defined"
     ]
    }
   ],
   "source": [
    "for targetFile in crossHomeoLongSessions:\n",
    "\n",
    "    R = Results()\n",
    "    R.init_from_file(targetFile, targetPath)\n",
    "    \n",
    "    trialUpFRExcUnitsSTD = np.std(R.trialUpFRExcUnits)\n",
    "    trialUpFRInhUnitsSTD = np.std(R.trialUpFRInhUnits)\n",
    "\n",
    "    if R.p['useRule'][:5] == 'cross':\n",
    "        R.p['alpha2'] = -1e-12\n",
    "        R.p['tauPlasticityTrials'] = None\n",
    "    if 'wEEScale' not in R.p:\n",
    "        R.p['wEEScale'] = None\n",
    "        R.p['wIEScale'] = None\n",
    "        R.p['wEIScale'] = None\n",
    "        R.p['wIIScale'] = None\n",
    "\n",
    "    importantInfoString = 'Name: {}\\nEE: {}, IE: {}, EI: {}, II: {}\\n tauFR={}, a1={:.4f} pA, a2={:.4f} pA, tauP={}'.format(R.rID,\n",
    "        R.p['wEEScale'],R.p['wIEScale'],R.p['wEIScale'],R.p['wIIScale'],\n",
    "        R.p['tauUpFRTrials'], R.p['alpha1'] / pA, R.p['alpha2'] / pA, R.p['tauPlasticityTrials'])\n",
    "\n",
    "    f, ax = plt.subplots(3, 1, sharex=True, figsize=(7, 9))\n",
    "\n",
    "    # FRs on bottom...\n",
    "\n",
    "    clipVeryHighFRs = False\n",
    "    yMax = 40\n",
    "\n",
    "    ax[0].plot(R.trialwEE, label='wEE', color='cyan')\n",
    "    ax[0].plot(R.trialwIE, label='wIE', color='purple')\n",
    "    ax[0].plot(R.trialwEI, label='wEI', color='cyan', ls='--')\n",
    "    ax[0].plot(R.trialwII, label='wII', color='purple', ls='--')\n",
    "    ax[0].legend()\n",
    "    ax[0].set_xlabel('Trial #')\n",
    "    ax[0].set_ylabel('Weight (pA)')\n",
    "\n",
    "    ax[1].plot(R.trialUpFRExc, color='darkgreen', lw=1)\n",
    "    ax[2].plot(R.trialUpFRInh, color='darkred', lw=1)\n",
    "    \n",
    "    ax[1].fill_between(np.arange(R.trialUpFRExc.size),\n",
    "                   R.trialUpFRExc - trialUpFRExcUnitsSTD,\n",
    "                   R.trialUpFRExc + trialUpFRExcUnitsSTD,\n",
    "                   color='green', alpha=0.1)\n",
    "\n",
    "    ax[2].fill_between(np.arange(R.trialUpFRInh.size),\n",
    "                       R.trialUpFRInh - trialUpFRInhUnitsSTD,\n",
    "                       R.trialUpFRInh + trialUpFRInhUnitsSTD,\n",
    "                       color='red', alpha=0.1)\n",
    "    \n",
    "    ax[1].set(ylabel='Firing Rate (Hz)', ylim=(0, 30))\n",
    "    ax[2].set(ylabel='Firing Rate (Hz)', ylim=(0, 30))\n",
    "\n",
    "    f.suptitle(importantInfoString)"
   ]
  },
  {
   "cell_type": "code",
   "execution_count": 44,
   "metadata": {},
   "outputs": [],
   "source": [
    "# since the weight matrix elements represent the connection FROM the row indexed unit TO the column indexed unit,\n",
    "# the mean of INCOMING weights onto each unit is given by taking the mean along the row dimension (0)\n",
    "# the mean of OUTGOING weights onto each unit is given by taking the mean along the column dimension (1)"
   ]
  },
  {
   "cell_type": "code",
   "execution_count": 56,
   "metadata": {
    "scrolled": true
   },
   "outputs": [
    {
     "name": "stdout",
     "output_type": "stream",
     "text": [
      "(1600, 1600)\n",
      "(1600, 400)\n",
      "(400, 1600)\n",
      "(400, 400)\n"
     ]
    }
   ],
   "source": [
    "print(wEEInit.shape)\n",
    "print(wEIInit.shape)\n",
    "print(wIEInit.shape)\n",
    "print(wIIInit.shape)"
   ]
  },
  {
   "cell_type": "code",
   "execution_count": 59,
   "metadata": {},
   "outputs": [
    {
     "data": {
      "text/plain": [
       "18"
      ]
     },
     "execution_count": 59,
     "metadata": {},
     "output_type": "execute_result"
    }
   ],
   "source": [
    "len('cross-homeo-scalar')"
   ]
  },
  {
   "cell_type": "code",
   "execution_count": 58,
   "metadata": {},
   "outputs": [],
   "source": [
    "wEEInitIncoming = np.nanmean(wEEInit, 0)\n",
    "wEIInitIncoming = np.nanmean(wEIInit, 0)\n",
    "wIEInitIncoming = np.nanmean(wIEInit, 0)\n",
    "wIIInitIncoming = np.nanmean(wIIInit, 0)"
   ]
  },
  {
   "cell_type": "code",
   "execution_count": 52,
   "metadata": {
    "collapsed": true
   },
   "outputs": [
    {
     "data": {
      "text/plain": [
       "array([-0.0911293, -0.0911293, -0.0911293, -0.0911293, -0.0911293,\n",
       "       -0.0911293, -0.0911293, -0.0911293, -0.0911293, -0.0911293,\n",
       "       -0.0911293, -0.0911293, -0.0911293, -0.0911293, -0.0911293,\n",
       "       -0.0911293, -0.0911293, -0.0911293, -0.0911293, -0.0911293,\n",
       "       -0.0911293, -0.0911293, -0.0911293, -0.0911293, -0.0911293,\n",
       "       -0.0911293, -0.0911293, -0.0911293, -0.0911293, -0.0911293,\n",
       "       -0.0911293, -0.0911293, -0.0911293, -0.0911293, -0.0911293,\n",
       "       -0.0911293, -0.0911293, -0.0911293, -0.0911293, -0.0911293,\n",
       "       -0.0911293, -0.0911293, -0.0911293, -0.0911293, -0.0911293,\n",
       "       -0.0911293, -0.0911293, -0.0911293, -0.0911293, -0.0911293,\n",
       "       -0.0911293, -0.0911293, -0.0911293, -0.0911293, -0.0911293,\n",
       "       -0.0911293, -0.0911293, -0.0911293, -0.0911293, -0.0911293,\n",
       "       -0.0911293, -0.0911293, -0.0911293, -0.0911293, -0.0911293,\n",
       "       -0.0911293, -0.0911293, -0.0911293, -0.0911293, -0.0911293,\n",
       "       -0.0911293, -0.0911293, -0.0911293, -0.0911293, -0.0911293,\n",
       "       -0.0911293, -0.0911293, -0.0911293, -0.0911293, -0.0911293,\n",
       "       -0.0911293, -0.0911293, -0.0911293, -0.0911293, -0.0911293,\n",
       "       -0.0911293, -0.0911293, -0.0911293, -0.0911293, -0.0911293,\n",
       "       -0.0911293, -0.0911293, -0.0911293, -0.0911293, -0.0911293,\n",
       "       -0.0911293, -0.0911293, -0.0911293, -0.0911293, -0.0911293,\n",
       "       -0.0911293, -0.0911293, -0.0911293, -0.0911293, -0.0911293,\n",
       "       -0.0911293, -0.0911293, -0.0911293, -0.0911293, -0.0911293,\n",
       "       -0.0911293, -0.0911293, -0.0911293, -0.0911293, -0.0911293,\n",
       "       -0.0911293, -0.0911293, -0.0911293, -0.0911293, -0.0911293,\n",
       "       -0.0911293, -0.0911293, -0.0911293, -0.0911293, -0.0911293,\n",
       "       -0.0911293, -0.0911293, -0.0911293, -0.0911293, -0.0911293,\n",
       "       -0.0911293, -0.0911293, -0.0911293, -0.0911293, -0.0911293,\n",
       "       -0.0911293, -0.0911293, -0.0911293, -0.0911293, -0.0911293,\n",
       "       -0.0911293, -0.0911293, -0.0911293, -0.0911293, -0.0911293,\n",
       "       -0.0911293, -0.0911293, -0.0911293, -0.0911293, -0.0911293,\n",
       "       -0.0911293, -0.0911293, -0.0911293, -0.0911293, -0.0911293,\n",
       "       -0.0911293, -0.0911293, -0.0911293, -0.0911293, -0.0911293,\n",
       "       -0.0911293, -0.0911293, -0.0911293, -0.0911293, -0.0911293,\n",
       "       -0.0911293, -0.0911293, -0.0911293, -0.0911293, -0.0911293,\n",
       "       -0.0911293, -0.0911293, -0.0911293, -0.0911293, -0.0911293,\n",
       "       -0.0911293, -0.0911293, -0.0911293, -0.0911293, -0.0911293,\n",
       "       -0.0911293, -0.0911293, -0.0911293, -0.0911293, -0.0911293,\n",
       "       -0.0911293, -0.0911293, -0.0911293, -0.0911293, -0.0911293,\n",
       "       -0.0911293, -0.0911293, -0.0911293, -0.0911293, -0.0911293,\n",
       "       -0.0911293, -0.0911293, -0.0911293, -0.0911293, -0.0911293,\n",
       "       -0.0911293, -0.0911293, -0.0911293, -0.0911293, -0.0911293,\n",
       "       -0.0911293, -0.0911293, -0.0911293, -0.0911293, -0.0911293,\n",
       "       -0.0911293, -0.0911293, -0.0911293, -0.0911293, -0.0911293,\n",
       "       -0.0911293, -0.0911293, -0.0911293, -0.0911293, -0.0911293,\n",
       "       -0.0911293, -0.0911293, -0.0911293, -0.0911293, -0.0911293,\n",
       "       -0.0911293, -0.0911293, -0.0911293, -0.0911293, -0.0911293,\n",
       "       -0.0911293, -0.0911293, -0.0911293, -0.0911293, -0.0911293,\n",
       "       -0.0911293, -0.0911293, -0.0911293, -0.0911293, -0.0911293,\n",
       "       -0.0911293, -0.0911293, -0.0911293, -0.0911293, -0.0911293,\n",
       "       -0.0911293, -0.0911293, -0.0911293, -0.0911293, -0.0911293,\n",
       "       -0.0911293, -0.0911293, -0.0911293, -0.0911293, -0.0911293,\n",
       "       -0.0911293, -0.0911293, -0.0911293, -0.0911293, -0.0911293,\n",
       "       -0.0911293, -0.0911293, -0.0911293, -0.0911293, -0.0911293,\n",
       "       -0.0911293, -0.0911293, -0.0911293, -0.0911293, -0.0911293,\n",
       "       -0.0911293, -0.0911293, -0.0911293, -0.0911293, -0.0911293,\n",
       "       -0.0911293, -0.0911293, -0.0911293, -0.0911293, -0.0911293,\n",
       "       -0.0911293, -0.0911293, -0.0911293, -0.0911293, -0.0911293,\n",
       "       -0.0911293, -0.0911293, -0.0911293, -0.0911293, -0.0911293,\n",
       "       -0.0911293, -0.0911293, -0.0911293, -0.0911293, -0.0911293,\n",
       "       -0.0911293, -0.0911293, -0.0911293, -0.0911293, -0.0911293,\n",
       "       -0.0911293, -0.0911293, -0.0911293, -0.0911293, -0.0911293,\n",
       "       -0.0911293, -0.0911293, -0.0911293, -0.0911293, -0.0911293,\n",
       "       -0.0911293, -0.0911293, -0.0911293, -0.0911293, -0.0911293,\n",
       "       -0.0911293, -0.0911293, -0.0911293, -0.0911293, -0.0911293,\n",
       "       -0.0911293, -0.0911293, -0.0911293, -0.0911293, -0.0911293,\n",
       "       -0.0911293, -0.0911293, -0.0911293, -0.0911293, -0.0911293,\n",
       "       -0.0911293, -0.0911293, -0.0911293, -0.0911293, -0.0911293,\n",
       "       -0.0911293, -0.0911293, -0.0911293, -0.0911293, -0.0911293,\n",
       "       -0.0911293, -0.0911293, -0.0911293, -0.0911293, -0.0911293,\n",
       "       -0.0911293, -0.0911293, -0.0911293, -0.0911293, -0.0911293,\n",
       "       -0.0911293, -0.0911293, -0.0911293, -0.0911293, -0.0911293,\n",
       "       -0.0911293, -0.0911293, -0.0911293, -0.0911293, -0.0911293,\n",
       "       -0.0911293, -0.0911293, -0.0911293, -0.0911293, -0.0911293,\n",
       "       -0.0911293, -0.0911293, -0.0911293, -0.0911293, -0.0911293,\n",
       "       -0.0911293, -0.0911293, -0.0911293, -0.0911293, -0.0911293,\n",
       "       -0.0911293, -0.0911293, -0.0911293, -0.0911293, -0.0911293,\n",
       "       -0.0911293, -0.0911293, -0.0911293, -0.0911293, -0.0911293,\n",
       "       -0.0911293, -0.0911293, -0.0911293, -0.0911293, -0.0911293,\n",
       "       -0.0911293, -0.0911293, -0.0911293, -0.0911293, -0.0911293,\n",
       "       -0.0911293, -0.0911293, -0.0911293, -0.0911293, -0.0911293],\n",
       "      dtype=float32)"
      ]
     },
     "execution_count": 52,
     "metadata": {},
     "output_type": "execute_result"
    }
   ],
   "source": [
    "R.trialdwIEUnits[0, :]"
   ]
  },
  {
   "cell_type": "code",
   "execution_count": 53,
   "metadata": {},
   "outputs": [],
   "source": [
    "test = np.isnan(wEEInit)"
   ]
  },
  {
   "cell_type": "code",
   "execution_count": 55,
   "metadata": {},
   "outputs": [],
   "source": [
    "wEEInit[test] = 0"
   ]
  },
  {
   "cell_type": "code",
   "execution_count": 47,
   "metadata": {},
   "outputs": [
    {
     "data": {
      "text/plain": [
       "(400,)"
      ]
     },
     "execution_count": 47,
     "metadata": {},
     "output_type": "execute_result"
    }
   ],
   "source": [
    "wIEInitIncoming.shape"
   ]
  },
  {
   "cell_type": "code",
   "execution_count": 48,
   "metadata": {},
   "outputs": [
    {
     "data": {
      "text/plain": [
       "(6765, 400)"
      ]
     },
     "execution_count": 48,
     "metadata": {},
     "output_type": "execute_result"
    }
   ],
   "source": [
    "R.trialdwIEUnits.shape"
   ]
  },
  {
   "cell_type": "code",
   "execution_count": 49,
   "metadata": {},
   "outputs": [
    {
     "data": {
      "text/plain": [
       "(1600,)"
      ]
     },
     "execution_count": 49,
     "metadata": {},
     "output_type": "execute_result"
    }
   ],
   "source": [
    "wEIInitIncoming.shape"
   ]
  },
  {
   "cell_type": "code",
   "execution_count": 50,
   "metadata": {},
   "outputs": [
    {
     "data": {
      "text/plain": [
       "(6765, 1600)"
      ]
     },
     "execution_count": 50,
     "metadata": {},
     "output_type": "execute_result"
    }
   ],
   "source": [
    "R.trialdwEIUnits.shape"
   ]
  },
  {
   "cell_type": "code",
   "execution_count": 36,
   "metadata": {},
   "outputs": [],
   "source": [
    "test = np.nanmean(wEEInit, 0)"
   ]
  },
  {
   "cell_type": "code",
   "execution_count": 38,
   "metadata": {},
   "outputs": [],
   "source": [
    "test2 = np.nanmean(wEEInit, 1)"
   ]
  },
  {
   "cell_type": "code",
   "execution_count": 37,
   "metadata": {},
   "outputs": [
    {
     "data": {
      "text/plain": [
       "array([122.63855 , 127.911026, 118.092354, ..., 123.24856 , 124.19884 ,\n",
       "       107.14553 ], dtype=float32)"
      ]
     },
     "execution_count": 37,
     "metadata": {},
     "output_type": "execute_result"
    }
   ],
   "source": [
    "test"
   ]
  },
  {
   "cell_type": "code",
   "execution_count": 39,
   "metadata": {
    "scrolled": true
   },
   "outputs": [
    {
     "data": {
      "text/plain": [
       "array([124.808   , 126.54074 , 117.35509 , ..., 121.43316 , 114.129234,\n",
       "       107.79609 ], dtype=float32)"
      ]
     },
     "execution_count": 39,
     "metadata": {},
     "output_type": "execute_result"
    }
   ],
   "source": [
    "test2"
   ]
  },
  {
   "cell_type": "code",
   "execution_count": 40,
   "metadata": {},
   "outputs": [],
   "source": [
    "test3 = np.array([[1, 2, 3,], [4, 5, 6]])"
   ]
  },
  {
   "cell_type": "code",
   "execution_count": 42,
   "metadata": {},
   "outputs": [
    {
     "data": {
      "text/plain": [
       "array([[1, 2, 3],\n",
       "       [4, 5, 6]])"
      ]
     },
     "execution_count": 42,
     "metadata": {},
     "output_type": "execute_result"
    }
   ],
   "source": [
    "test3"
   ]
  },
  {
   "cell_type": "code",
   "execution_count": 43,
   "metadata": {},
   "outputs": [
    {
     "data": {
      "text/plain": [
       "array([2.5, 3.5, 4.5])"
      ]
     },
     "execution_count": 43,
     "metadata": {},
     "output_type": "execute_result"
    }
   ],
   "source": [
    "test3.mean(0)"
   ]
  },
  {
   "cell_type": "code",
   "execution_count": 41,
   "metadata": {},
   "outputs": [
    {
     "data": {
      "text/plain": [
       "array([2., 5.])"
      ]
     },
     "execution_count": 41,
     "metadata": {},
     "output_type": "execute_result"
    }
   ],
   "source": [
    "test3.mean(1)"
   ]
  },
  {
   "cell_type": "code",
   "execution_count": null,
   "metadata": {},
   "outputs": [],
   "source": []
  },
  {
   "cell_type": "code",
   "execution_count": null,
   "metadata": {},
   "outputs": [],
   "source": []
  },
  {
   "cell_type": "code",
   "execution_count": null,
   "metadata": {},
   "outputs": [],
   "source": []
  },
  {
   "cell_type": "code",
   "execution_count": null,
   "metadata": {},
   "outputs": [],
   "source": []
  },
  {
   "cell_type": "code",
   "execution_count": null,
   "metadata": {},
   "outputs": [],
   "source": []
  },
  {
   "cell_type": "code",
   "execution_count": 27,
   "metadata": {},
   "outputs": [
    {
     "data": {
      "text/plain": [
       "[Text(0, 0.5, 'Firing Rate (Hz)')]"
      ]
     },
     "execution_count": 27,
     "metadata": {},
     "output_type": "execute_result"
    }
   ],
   "source": [
    "# individual FRs, bad version\n",
    "\n",
    "clipVeryHighFRs = False\n",
    "yMax = 40\n",
    "\n",
    "if clipVeryHighFRs:\n",
    "    tmptrialUpFRExcUnits = R.trialUpFRExcUnits.copy()\n",
    "    tmptrialUpFRInhUnits = R.trialUpFRInhUnits.copy()\n",
    "    tmptrialUpFRExcUnits[R.trialUpFRExcUnits > R.p['maxAllowedFRExc']] = np.nan\n",
    "    tmptrialUpFRInhUnits[R.trialUpFRInhUnits > R.p['maxAllowedFRInh']] = np.nan\n",
    "else:\n",
    "    tmptrialUpFRExcUnits = R.trialUpFRExcUnits.copy()\n",
    "    tmptrialUpFRInhUnits = R.trialUpFRInhUnits.copy()\n",
    "\n",
    "fig3, ax3 = plt.subplots(2, figsize=(5, 9), sharex=True)\n",
    "ax3[0].plot(tmptrialUpFRExcUnits[:, downSampleE], color='g', alpha=0.2)\n",
    "ax3[1].plot(tmptrialUpFRInhUnits[:, downSampleI], color='r', alpha=0.2)\n",
    "ax3[0].plot(R.trialUpFRExc, color='darkgreen', lw=3)\n",
    "ax3[1].plot(R.trialUpFRInh, color='darkred', lw=3)\n",
    "\n",
    "ax3[0].set(ylabel='Firing Rate (Hz)') # , xlim=(0, 100), ylim=(0, 15))\n",
    "ax3[1].set(ylabel='Firing Rate (Hz)') #, xlabel='Trial Index', xlim=(0, 100), ylim=(0, 30))"
   ]
  },
  {
   "cell_type": "code",
   "execution_count": 23,
   "metadata": {},
   "outputs": [
    {
     "name": "stdout",
     "output_type": "stream",
     "text": [
      "(6765, 1600)\n",
      "(6765, 400)\n",
      "(6765, 1600)\n",
      "(6765, 400)\n"
     ]
    }
   ],
   "source": [
    "# weights over trials, bad version\n",
    "\n",
    "f, axs = plt.subplots(2, 2, sharex=True)\n",
    "axArr = axs.ravel()\n",
    "\n",
    "wColors = ('lightskyblue', 'purple', 'lightskyblue', 'purple', )\n",
    "wColorsDark = ('deepskyblue', 'indigo', 'deepskyblue', 'indigo',)\n",
    "wLinestyles = ('-', '-', '--', '--', )\n",
    "\n",
    "dwMats = ('trialdwEEUnits',\n",
    "          'trialdwIEUnits',\n",
    "          'trialdwEIUnits',\n",
    "          'trialdwIIUnits',\n",
    "         )\n",
    "\n",
    "wInitMats = (wEEInitP,\n",
    "          wIEInitP,\n",
    "          wEIInitP,\n",
    "          wIIInitP,\n",
    "         )\n",
    "\n",
    "scalers = (R.p['wEEScale'],\n",
    "          R.p['wIEScale'],\n",
    "          R.p['wEIScale'],\n",
    "          R.p['wIIScale'],)\n",
    "\n",
    "for axInd, ax in enumerate(axArr):\n",
    "    values = getattr(R, dwMats[axInd]) * scalers[axInd]\n",
    "    values = wInitMats[axInd] + values.cumsum(0)\n",
    "    print(values.shape)\n",
    "    \n",
    "    ax.plot(values, alpha=0.1, color=wColors[axInd], ls=wLinestyles[axInd])\n",
    "    ax.plot(values.mean(1), lw=2, color=wColorsDark[axInd], ls=wLinestyles[axInd])\n",
    "#     valuesNorm = values / np.max(np.fabs(values))\n",
    "#     ax.plot(valuesNorm, alpha=0.1)\n",
    "#     ax.plot(values.cumsum(0), alpha=0.1)\n",
    "#     ax.plot(wInitMats[axInd] + values.cumsum(0), alpha=0.1)\n",
    "    \n",
    "    ax.set_xlabel('Trial #')\n",
    "    ax.set_ylabel('Summed current (pA)')\n",
    "    ax.set(title=dwMats[axInd])\n",
    "\n",
    "prune_figure(axs, pruneYTicks=False)"
   ]
  },
  {
   "cell_type": "code",
   "execution_count": 32,
   "metadata": {},
   "outputs": [],
   "source": [
    "# weight changes over trials, bad version\n",
    "\n",
    "clipVeryHighFRs = True\n",
    "\n",
    "if clipVeryHighFRs:\n",
    "    R.trialUpFRExcUnits[R.trialUpFRExcUnits > R.p['maxAllowedFRExc']] = np.nan\n",
    "    R.trialUpFRInhUnits[R.trialUpFRInhUnits > R.p['maxAllowedFRInh']] = np.nan\n",
    "\n",
    "fig3, ax3 = plt.subplots(2, figsize=(10, 9), gridspec_kw={'height_ratios': [4, 1]})\n",
    "i = ax3[0].imshow(R.trialUpFRExcUnits.T,\n",
    "               cmap='Greys',\n",
    "               aspect='auto',\n",
    "               interpolation='none',\n",
    "               origin='lower')\n",
    "cb = plt.colorbar(i, ax=ax3[0])\n",
    "i = ax3[1].imshow(R.trialUpFRInhUnits.T,\n",
    "               cmap='Greys',\n",
    "               aspect='auto',\n",
    "               interpolation='none',\n",
    "               origin='lower')\n",
    "cb = plt.colorbar(i, ax=ax3[1])"
   ]
  },
  {
   "cell_type": "code",
   "execution_count": 34,
   "metadata": {},
   "outputs": [],
   "source": [
    "# weight changes over trials, bad version\n",
    "\n",
    "fig3, ax3 = plt.subplots(2, 2, figsize=(10, 9), gridspec_kw={'height_ratios': [4, 1]})\n",
    "i = ax3[0, 0].imshow(R.trialdwEEUnits.T,\n",
    "               cmap='Greys',\n",
    "               aspect='auto',\n",
    "               interpolation='none',\n",
    "               origin='lower')\n",
    "cb = plt.colorbar(i, ax=ax3[0, 0])\n",
    "i = ax3[0, 1].imshow(R.trialdwIEUnits.T,\n",
    "               cmap='Greys',\n",
    "               aspect='auto',\n",
    "               interpolation='none',\n",
    "               origin='lower')\n",
    "cb = plt.colorbar(i, ax=ax3[0, 1])\n",
    "i = ax3[1, 0].imshow(R.trialdwEIUnits.T,\n",
    "               cmap='Greys',\n",
    "               aspect='auto',\n",
    "               interpolation='none',\n",
    "               origin='lower')\n",
    "cb = plt.colorbar(i, ax=ax3[1, 0])\n",
    "i = ax3[1, 1].imshow(R.trialdwIIUnits.T,\n",
    "               cmap='Greys',\n",
    "               aspect='auto',\n",
    "               interpolation='none',\n",
    "               origin='lower')\n",
    "cb = plt.colorbar(i, ax=ax3[1, 1])"
   ]
  },
  {
   "cell_type": "code",
   "execution_count": 35,
   "metadata": {},
   "outputs": [],
   "source": [
    "# weight changes over trials, bad version 2\n",
    "\n",
    "f, axs = plt.subplots(2, 2)\n",
    "axArr = axs.ravel()\n",
    "\n",
    "dwMats = ('trialdwEEUnits',\n",
    "          'trialdwEIUnits',\n",
    "          'trialdwIEUnits',\n",
    "          'trialdwIIUnits',\n",
    "         )\n",
    "\n",
    "for axInd, ax in enumerate(axArr):\n",
    "    values = getattr(R, dwMats[axInd]).T\n",
    "    i = ax.imshow(values,\n",
    "                 cmap=plt.cm.RdBu_r,\n",
    "                 aspect='auto',\n",
    "                 interpolation='none')\n",
    "    ax.set_xlabel('Trial #')\n",
    "    ax.set_ylabel('Unit Index')\n",
    "    \n",
    "    vmax, vmin = np.max(values), np.min(values)\n",
    "    norm = MidpointNormalize(vmin, vmax, 0)\n",
    "    i.set_clim(vmin, vmax)\n",
    "    i.set_norm(norm)\n",
    "    \n",
    "    cb = plt.colorbar(i, ax=ax)\n",
    "    if axInd in (1, 3):\n",
    "        cb.ax.set_ylabel('Weight (pA)')\n",
    "        \n",
    "    ax.set_title(dwMats[axInd])\n",
    "\n",
    "prune_figure(axs)"
   ]
  },
  {
   "cell_type": "code",
   "execution_count": null,
   "metadata": {},
   "outputs": [],
   "source": []
  },
  {
   "cell_type": "code",
   "execution_count": null,
   "metadata": {},
   "outputs": [],
   "source": []
  },
  {
   "cell_type": "code",
   "execution_count": null,
   "metadata": {},
   "outputs": [],
   "source": []
  },
  {
   "cell_type": "code",
   "execution_count": 1,
   "metadata": {},
   "outputs": [],
   "source": [
    "from itertools import product"
   ]
  },
  {
   "cell_type": "code",
   "execution_count": 5,
   "metadata": {},
   "outputs": [
    {
     "data": {
      "text/plain": [
       "[(0, 0), (0, 1), (0, 2), (1, 0), (1, 1), (1, 2), (2, 0), (2, 1), (2, 2)]"
      ]
     },
     "execution_count": 5,
     "metadata": {},
     "output_type": "execute_result"
    }
   ],
   "source": [
    "list(product(list(range(3)), list(range(3))))"
   ]
  },
  {
   "cell_type": "code",
   "execution_count": 10,
   "metadata": {},
   "outputs": [],
   "source": [
    "excMeanWeightsPossible = (75, 112.5, 150)\n",
    "inhMeanWeightsPossible = (700, 450, 200)\n",
    "mappingStringSeq = (('wIE', 'wEE'), ('wII', 'wEI'),)\n",
    "excWeightTupleList = list(product(excMeanWeightsPossible, excMeanWeightsPossible))\n",
    "inhWeightTupleList = list(product(inhMeanWeightsPossible, inhMeanWeightsPossible))"
   ]
  },
  {
   "cell_type": "code",
   "execution_count": 55,
   "metadata": {},
   "outputs": [
    {
     "name": "stdout",
     "output_type": "stream",
     "text": [
      "1.0 0.8392199274933195 0.06740215278227316 7.230029105824054\n"
     ]
    }
   ],
   "source": [
    "logNormNums = np.random.lognormal(0, 0.75, (1000,))\n",
    "logNormNums /= logNormNums.mean()\n",
    "print(logNormNums.mean(), np.std(logNormNums), logNormNums.min(), logNormNums.max())"
   ]
  },
  {
   "cell_type": "code",
   "execution_count": 48,
   "metadata": {},
   "outputs": [
    {
     "data": {
      "text/plain": [
       "(array([607., 268.,  87.,  25.,   6.,   4.,   1.,   0.,   0.,   2.]),\n",
       " array([0.08403355, 0.95236029, 1.82068703, 2.68901378, 3.55734052,\n",
       "        4.42566726, 5.293994  , 6.16232074, 7.03064748, 7.89897423,\n",
       "        8.76730097]),\n",
       " <a list of 1 Patch objects>)"
      ]
     },
     "execution_count": 48,
     "metadata": {},
     "output_type": "execute_result"
    }
   ],
   "source": [
    "f, ax = plt.subplots()\n",
    "ax.hist(logNormNums, histtype='step')"
   ]
  },
  {
   "cell_type": "code",
   "execution_count": 11,
   "metadata": {},
   "outputs": [
    {
     "name": "stdout",
     "output_type": "stream",
     "text": [
      "[(75, 75), (75, 112.5), (75, 150), (112.5, 75), (112.5, 112.5), (112.5, 150), (150, 75), (150, 112.5), (150, 150)]\n"
     ]
    }
   ],
   "source": [
    "print(excWeightTupleList)"
   ]
  },
  {
   "cell_type": "code",
   "execution_count": 12,
   "metadata": {},
   "outputs": [
    {
     "name": "stdout",
     "output_type": "stream",
     "text": [
      "[(700, 700), (700, 450), (700, 200), (450, 700), (450, 450), (450, 200), (200, 700), (200, 450), (200, 200)]\n"
     ]
    }
   ],
   "source": [
    "print(inhWeightTupleList)"
   ]
  },
  {
   "cell_type": "code",
   "execution_count": null,
   "metadata": {},
   "outputs": [],
   "source": []
  },
  {
   "cell_type": "code",
   "execution_count": null,
   "metadata": {},
   "outputs": [],
   "source": []
  },
  {
   "cell_type": "code",
   "execution_count": 25,
   "metadata": {},
   "outputs": [],
   "source": [
    "nUnits = 10\n",
    "pConn = 1\n",
    "allowAutapses = False"
   ]
  },
  {
   "cell_type": "code",
   "execution_count": null,
   "metadata": {},
   "outputs": [],
   "source": []
  },
  {
   "cell_type": "code",
   "execution_count": 33,
   "metadata": {},
   "outputs": [
    {
     "name": "stdout",
     "output_type": "stream",
     "text": [
      "100\n",
      "90\n"
     ]
    }
   ],
   "source": [
    "bestNumberOfSynapses = int(np.round(pConn * nUnits ** 2))\n",
    "print(bestNumberOfSynapses)\n",
    "\n",
    "if allowAutapses:\n",
    "    indicesFlat = np.random.choice(nUnits ** 2, bestNumberOfSynapses, replace=False)\n",
    "else:\n",
    "    probabilityArray = np.full((nUnits, nUnits), 1 / (nUnits * (nUnits - 1)))\n",
    "    probabilityArray[np.diag_indices_from(probabilityArray)] = 0\n",
    "    \n",
    "    if pConn > (nUnits - 1) / nUnits:\n",
    "        bestNumberOfSynapses -= int(np.round(nUnits ** 2 * (pConn - (nUnits - 1) / nUnits)))\n",
    "        print(bestNumberOfSynapses)\n",
    "    \n",
    "    indicesFlat = np.random.choice(nUnits ** 2, bestNumberOfSynapses, replace=False, p=probabilityArray.ravel())\n",
    "\n",
    "preInds, postInds = np.unravel_index(indicesFlat, (nUnits, nUnits))"
   ]
  },
  {
   "cell_type": "code",
   "execution_count": 32,
   "metadata": {},
   "outputs": [
    {
     "data": {
      "text/plain": [
       "10"
      ]
     },
     "execution_count": 32,
     "metadata": {},
     "output_type": "execute_result"
    }
   ],
   "source": [
    "int(np.round(nUnits ** 2 * (pConn - (nUnits - 1) / nUnits)))"
   ]
  },
  {
   "cell_type": "code",
   "execution_count": 28,
   "metadata": {},
   "outputs": [
    {
     "data": {
      "text/plain": [
       "0"
      ]
     },
     "execution_count": 28,
     "metadata": {},
     "output_type": "execute_result"
    }
   ],
   "source": [
    "int(np.round(((1 - pConn) * nUnits ** 2)))"
   ]
  },
  {
   "cell_type": "code",
   "execution_count": null,
   "metadata": {},
   "outputs": [],
   "source": [
    "bestNumbe"
   ]
  },
  {
   "cell_type": "code",
   "execution_count": 4,
   "metadata": {},
   "outputs": [],
   "source": [
    "# goal 2: apply normally distributed weights"
   ]
  },
  {
   "cell_type": "code",
   "execution_count": 15,
   "metadata": {
    "scrolled": true
   },
   "outputs": [],
   "source": [
    "nExc = 8\n",
    "nInh = 2\n",
    "pConn = 0.25\n",
    "randnMean = 1\n",
    "randnSD = 0.2\n",
    "\n",
    "aEE = generate_adjacency_matrix_within(nExc, pConn, allowAutapses=False)\n",
    "aIE = generate_adjacency_matrix_between(nExc, nInh, pConn)\n",
    "aEI = generate_adjacency_matrix_between(nInh, nExc, pConn)\n",
    "aII = generate_adjacency_matrix_within(nInh, pConn, allowAutapses=False)\n",
    "\n",
    "wEE = w_from_a(aEE, randnMean, randnSD)\n",
    "wIE = w_from_a(aIE, randnMean, randnSD)\n",
    "wEI = w_from_a(aEI, randnMean, randnSD)\n",
    "wII = w_from_a(aII, randnMean, randnSD)"
   ]
  },
  {
   "cell_type": "code",
   "execution_count": 16,
   "metadata": {
    "collapsed": true
   },
   "outputs": [
    {
     "data": {
      "text/plain": [
       "array([[0.        , 1.14111646, 0.        , 0.        , 0.91245524,\n",
       "        0.        , 0.        , 0.58845372],\n",
       "       [0.        , 0.        , 0.        , 0.6840502 , 0.        ,\n",
       "        0.        , 0.85097995, 0.        ],\n",
       "       [0.        , 0.        , 0.        , 0.        , 0.        ,\n",
       "        0.        , 0.        , 1.10777655],\n",
       "       [1.32835325, 0.        , 0.        , 0.        , 0.93841501,\n",
       "        0.        , 0.        , 0.        ],\n",
       "       [0.        , 0.        , 1.06376324, 0.        , 0.        ,\n",
       "        1.08381029, 0.        , 0.        ],\n",
       "       [0.        , 0.        , 0.        , 1.1919193 , 0.        ,\n",
       "        0.        , 0.        , 0.70794324],\n",
       "       [0.        , 1.26854389, 0.        , 0.8659907 , 0.        ,\n",
       "        0.        , 0.        , 0.        ],\n",
       "       [0.        , 0.        , 0.        , 0.80745652, 0.        ,\n",
       "        0.        , 1.12804687, 0.        ]])"
      ]
     },
     "execution_count": 16,
     "metadata": {},
     "output_type": "execute_result"
    }
   ],
   "source": [
    "wEE"
   ]
  },
  {
   "cell_type": "code",
   "execution_count": 6,
   "metadata": {},
   "outputs": [],
   "source": [
    "preInds, postInds = np.where(aEE)"
   ]
  },
  {
   "cell_type": "code",
   "execution_count": 7,
   "metadata": {},
   "outputs": [
    {
     "data": {
      "text/plain": [
       "array([0, 1, 1, 1, 1, 2, 2, 3, 3, 4, 5, 5, 6, 7, 7, 7], dtype=int64)"
      ]
     },
     "execution_count": 7,
     "metadata": {},
     "output_type": "execute_result"
    }
   ],
   "source": [
    "preInds "
   ]
  },
  {
   "cell_type": "code",
   "execution_count": 8,
   "metadata": {
    "scrolled": true
   },
   "outputs": [
    {
     "data": {
      "text/plain": [
       "array([2, 0, 2, 4, 6, 4, 5, 1, 5, 5, 4, 6, 0, 0, 2, 4], dtype=int64)"
      ]
     },
     "execution_count": 8,
     "metadata": {},
     "output_type": "execute_result"
    }
   ],
   "source": [
    "postInds"
   ]
  },
  {
   "cell_type": "code",
   "execution_count": 11,
   "metadata": {},
   "outputs": [],
   "source": [
    "weights = np.random.normal(size=preInds.size)"
   ]
  },
  {
   "cell_type": "code",
   "execution_count": 12,
   "metadata": {},
   "outputs": [
    {
     "data": {
      "text/plain": [
       "array([ 0.54428341,  0.42842826, -0.1290585 , -1.68726729,  0.40761932,\n",
       "       -0.48984529,  0.14953924,  0.58476359,  0.39997037,  1.15748391,\n",
       "        0.325102  , -0.43593126, -1.13064903, -0.70461682,  1.49334686,\n",
       "        0.0551257 ])"
      ]
     },
     "execution_count": 12,
     "metadata": {},
     "output_type": "execute_result"
    }
   ],
   "source": [
    "weights"
   ]
  },
  {
   "cell_type": "code",
   "execution_count": 13,
   "metadata": {},
   "outputs": [],
   "source": [
    "wEE[preInds, postInds] = weights"
   ]
  },
  {
   "cell_type": "code",
   "execution_count": 14,
   "metadata": {},
   "outputs": [
    {
     "data": {
      "text/plain": [
       "array([[ 0.        ,  0.        ,  0.54428341,  0.        ,  0.        ,\n",
       "         0.        ,  0.        ,  0.        ],\n",
       "       [ 0.42842826,  0.        , -0.1290585 ,  0.        , -1.68726729,\n",
       "         0.        ,  0.40761932,  0.        ],\n",
       "       [ 0.        ,  0.        ,  0.        ,  0.        , -0.48984529,\n",
       "         0.14953924,  0.        ,  0.        ],\n",
       "       [ 0.        ,  0.58476359,  0.        ,  0.        ,  0.        ,\n",
       "         0.39997037,  0.        ,  0.        ],\n",
       "       [ 0.        ,  0.        ,  0.        ,  0.        ,  0.        ,\n",
       "         1.15748391,  0.        ,  0.        ],\n",
       "       [ 0.        ,  0.        ,  0.        ,  0.        ,  0.325102  ,\n",
       "         0.        , -0.43593126,  0.        ],\n",
       "       [-1.13064903,  0.        ,  0.        ,  0.        ,  0.        ,\n",
       "         0.        ,  0.        ,  0.        ],\n",
       "       [-0.70461682,  0.        ,  1.49334686,  0.        ,  0.0551257 ,\n",
       "         0.        ,  0.        ,  0.        ]])"
      ]
     },
     "execution_count": 14,
     "metadata": {},
     "output_type": "execute_result"
    }
   ],
   "source": [
    "wEE"
   ]
  },
  {
   "cell_type": "code",
   "execution_count": 6,
   "metadata": {},
   "outputs": [],
   "source": [
    "wFull = np.block([[wEE, wIE],[-wEI, -wII]])"
   ]
  },
  {
   "cell_type": "code",
   "execution_count": 7,
   "metadata": {
    "scrolled": true
   },
   "outputs": [
    {
     "data": {
      "image/png": "[encoded data removed]",
      "text/plain": [
       "<Figure size 432x288 with 2 Axes>"
      ]
     },
     "metadata": {
      "needs_background": "light"
     },
     "output_type": "display_data"
    }
   ],
   "source": [
    "f, ax = plt.subplots()\n",
    "weight_matrix(ax, wFull,\n",
    "                   xlabel='Pre Index',\n",
    "                   ylabel='Post Index',\n",
    "                   clabel='Normalized Weight',)"
   ]
  },
  {
   "cell_type": "code",
   "execution_count": 174,
   "metadata": {},
   "outputs": [
    {
     "data": {
      "text/plain": [
       "Text(0, 0.5, 'Normalized Weight')"
      ]
     },
     "execution_count": 174,
     "metadata": {},
     "output_type": "execute_result"
    }
   ],
   "source": [
    "f, ax = plt.subplots()\n",
    "i = ax.imshow(wFull,\n",
    "              cmap='RdBu_r',\n",
    "              aspect='auto',\n",
    "              interpolation='none', )\n",
    "ax.set(xlabel='Post Index', ylabel='Pre Index')\n",
    "cb = plt.colorbar(i, ax=ax)\n",
    "cb.ax.set_ylabel('Normalized Weight', rotation=270)"
   ]
  },
  {
   "cell_type": "code",
   "execution_count": null,
   "metadata": {},
   "outputs": [],
   "source": []
  },
  {
   "cell_type": "code",
   "execution_count": null,
   "metadata": {},
   "outputs": [],
   "source": []
  },
  {
   "cell_type": "code",
   "execution_count": null,
   "metadata": {},
   "outputs": [],
   "source": []
  },
  {
   "cell_type": "code",
   "execution_count": null,
   "metadata": {},
   "outputs": [],
   "source": []
  },
  {
   "cell_type": "code",
   "execution_count": null,
   "metadata": {},
   "outputs": [],
   "source": []
  },
  {
   "cell_type": "code",
   "execution_count": 104,
   "metadata": {},
   "outputs": [],
   "source": [
    "def method2():\n",
    "    # more exact method\n",
    "    nUnits = 10000\n",
    "    pConn = 0.05\n",
    "    allowAutapses = False\n",
    "\n",
    "    bestNumberOfSynapses = int(np.round(pConn * nUnits ** 2))\n",
    "    roughIndices = np.random.choice(nUnits ** 2, bestNumberOfSynapses, replace=False)\n",
    "    adjMat = np.zeros((nUnits, nUnits), dtype=bool)\n",
    "    adjMat[np.unravel_index(roughIndices, (nUnits, nUnits))] = True\n",
    "    print(adjMat)\n",
    "    traceRough = np.trace(adjMat)\n",
    "    adjMat[np.diag_indices_from(adjMat)] = False\n",
    "    nonDiagonalZeroBool = ~(np.eye(nUnits, dtype=bool) | adjMat)\n",
    "    nonDiagonalIndicesFlattened = np.ravel_multi_index(np.where(nonDiagonalZeroBool), (nUnits, nUnits))\n",
    "    newSynapseIndices = np.random.choice(nonDiagonalIndicesFlattened, traceRough, replace=False)\n",
    "    adjMat[np.unravel_index(newSynapseIndices, (nUnits, nUnits))] = True"
   ]
  },
  {
   "cell_type": "code",
   "execution_count": null,
   "metadata": {},
   "outputs": [],
   "source": []
  },
  {
   "cell_type": "code",
   "execution_count": 2,
   "metadata": {},
   "outputs": [],
   "source": [
    "# goal 0: create a concise presentation of model parameters and compare two\n",
    "# actually on second thought this doesn't really matter\n",
    "\n",
    "importantParams = ['nUnits', 'propConnect', ]\n",
    "from params import paramsJercog, paramsDestexhe\n",
    "import pandas as pd\n",
    "paramsJercog"
   ]
  },
  {
   "cell_type": "code",
   "execution_count": null,
   "metadata": {},
   "outputs": [],
   "source": []
  },
  {
   "cell_type": "code",
   "execution_count": null,
   "metadata": {},
   "outputs": [],
   "source": []
  },
  {
   "cell_type": "code",
   "execution_count": null,
   "metadata": {},
   "outputs": [],
   "source": []
  },
  {
   "cell_type": "code",
   "execution_count": 9,
   "metadata": {},
   "outputs": [
    {
     "name": "stdout",
     "output_type": "stream",
     "text": [
      "wEE mult: 1.5280555838516545\n",
      "wIE mult: 1.3184911495933698\n",
      "wEI mult: 1.9576444879836656\n",
      "wII mult: 1.8852440442085339\n"
     ]
    }
   ],
   "source": [
    "print('wEE mult:', R.trialwEE[-1] / R.trialwEE[0])\n",
    "print('wIE mult:', R.trialwIE[-1] / R.trialwIE[0])\n",
    "print('wEI mult:', R.trialwEI[-1] / R.trialwEI[0])\n",
    "print('wII mult:', R.trialwII[-1] / R.trialwII[0])"
   ]
  },
  {
   "cell_type": "code",
   "execution_count": 10,
   "metadata": {},
   "outputs": [
    {
     "name": "stdout",
     "output_type": "stream",
     "text": [
      "wEE mult: 1.184605613007468\n",
      "wIE mult: 1.0560333163489584\n",
      "wEI mult: 1.346584426306244\n",
      "wII mult: 1.2871234460198888\n"
     ]
    }
   ],
   "source": [
    "print('wEE mult:', R.trialwEE[450] / R.trialwEE[0])\n",
    "print('wIE mult:', R.trialwIE[450] / R.trialwIE[0])\n",
    "print('wEI mult:', R.trialwEI[450] / R.trialwEI[0])\n",
    "print('wII mult:', R.trialwII[450] / R.trialwII[0])"
   ]
  },
  {
   "cell_type": "code",
   "execution_count": 11,
   "metadata": {
    "scrolled": true
   },
   "outputs": [
    {
     "name": "stdout",
     "output_type": "stream",
     "text": [
      "wEE mult: 0.9980488751419867\n",
      "wIE mult: 0.9999039713855463\n",
      "wEI mult: 1.0002111869462413\n",
      "wII mult: 1.0002430924208603\n"
     ]
    }
   ],
   "source": [
    "print('wEE mult:', R.wEE_final.mean() / R.wEE_init.mean())\n",
    "print('wIE mult:', R.wIE_final.mean() / R.wIE_init.mean())\n",
    "print('wEI mult:', R.wEI_final.mean() / R.wEI_init.mean())\n",
    "print('wII mult:', R.wII_final.mean() / R.wII_init.mean())"
   ]
  },
  {
   "cell_type": "code",
   "execution_count": 12,
   "metadata": {
    "scrolled": true
   },
   "outputs": [
    {
     "data": {
      "text/plain": [
       "1.06755195e-11"
      ]
     },
     "execution_count": 12,
     "metadata": {},
     "output_type": "execute_result"
    }
   ],
   "source": [
    "R.wEE_final.mean()"
   ]
  },
  {
   "cell_type": "code",
   "execution_count": 13,
   "metadata": {},
   "outputs": [
    {
     "data": {
      "text/plain": [
       "1.06755195e-11"
      ]
     },
     "execution_count": 13,
     "metadata": {},
     "output_type": "execute_result"
    }
   ],
   "source": [
    "R.wEE_final.mean()"
   ]
  },
  {
   "cell_type": "code",
   "execution_count": null,
   "metadata": {},
   "outputs": [],
   "source": []
  },
  {
   "cell_type": "code",
   "execution_count": null,
   "metadata": {},
   "outputs": [],
   "source": []
  },
  {
   "cell_type": "code",
   "execution_count": null,
   "metadata": {},
   "outputs": [],
   "source": []
  },
  {
   "cell_type": "code",
   "execution_count": 30,
   "metadata": {},
   "outputs": [],
   "source": [
    "dwEE1 = np.random.randint(1, 2, (1, 4)) * pA\n",
    "dwEE2 = np.random.randint(1, 2, (4, 1)) * pA\n",
    "dwEE3 = np.random.randint(1, 2, (4,)) * pA\n",
    "dwEE1[:, 2:] = 2 * pA\n",
    "dwEE2[2:] = 2 * pA\n",
    "dwEE3[2:] = 2 * pA"
   ]
  },
  {
   "cell_type": "code",
   "execution_count": 31,
   "metadata": {},
   "outputs": [
    {
     "data": {
      "text/latex": [
       "$\\left[\\begin{matrix}1.0 & 1.0 & 2.0 & 2.0\\end{matrix}\\right]\\,\\mathrm{p}\\,\\mathrm{A}$"
      ],
      "text/plain": [
       "array([[1., 1., 2., 2.]]) * pamp"
      ]
     },
     "execution_count": 31,
     "metadata": {},
     "output_type": "execute_result"
    }
   ],
   "source": [
    "dwEE1"
   ]
  },
  {
   "cell_type": "code",
   "execution_count": 32,
   "metadata": {},
   "outputs": [
    {
     "data": {
      "text/latex": [
       "$\\left[\\begin{matrix}1.0\\\\1.0\\\\2.0\\\\2.0\\end{matrix}\\right]\\,\\mathrm{p}\\,\\mathrm{A}$"
      ],
      "text/plain": [
       "array([[1.],\n",
       "       [1.],\n",
       "       [2.],\n",
       "       [2.]]) * pamp"
      ]
     },
     "execution_count": 32,
     "metadata": {},
     "output_type": "execute_result"
    }
   ],
   "source": [
    "dwEE2"
   ]
  },
  {
   "cell_type": "code",
   "execution_count": 33,
   "metadata": {},
   "outputs": [
    {
     "data": {
      "text/latex": [
       "$\\left[\\begin{matrix}1.0\\\\1.0\\\\2.0\\\\2.0\\end{matrix}\\right]\\,\\mathrm{p}\\,\\mathrm{A}$"
      ],
      "text/plain": [
       "array([1., 1., 2., 2.]) * pamp"
      ]
     },
     "execution_count": 33,
     "metadata": {},
     "output_type": "execute_result"
    }
   ],
   "source": [
    "dwEE3"
   ]
  },
  {
   "cell_type": "code",
   "execution_count": 34,
   "metadata": {},
   "outputs": [
    {
     "data": {
      "text/plain": [
       "(1, 4)"
      ]
     },
     "execution_count": 34,
     "metadata": {},
     "output_type": "execute_result"
    }
   ],
   "source": [
    "dwEE1.shape"
   ]
  },
  {
   "cell_type": "code",
   "execution_count": 35,
   "metadata": {},
   "outputs": [
    {
     "data": {
      "text/plain": [
       "(4, 1)"
      ]
     },
     "execution_count": 35,
     "metadata": {},
     "output_type": "execute_result"
    }
   ],
   "source": [
    "dwEE2.shape"
   ]
  },
  {
   "cell_type": "code",
   "execution_count": 36,
   "metadata": {},
   "outputs": [
    {
     "data": {
      "text/plain": [
       "(4,)"
      ]
     },
     "execution_count": 36,
     "metadata": {},
     "output_type": "execute_result"
    }
   ],
   "source": [
    "dwEE3.shape"
   ]
  },
  {
   "cell_type": "code",
   "execution_count": 37,
   "metadata": {
    "scrolled": true
   },
   "outputs": [
    {
     "data": {
      "text/latex": [
       "$\\left[\\begin{matrix}2.0 & 11.0 & 4.0 & 5.0\\\\7.0 & 4.0 & 13.0 & 15.0\\\\2.0 & 10.0 & 15.0 & 15.0\\\\8.0 & 9.0 & 14.0 & 7.0\\end{matrix}\\right]\\,\\mathrm{p}\\,\\mathrm{A}$"
      ],
      "text/plain": [
       "array([[ 2., 11.,  4.,  5.],\n",
       "       [ 7.,  4., 13., 15.],\n",
       "       [ 2., 10., 15., 15.],\n",
       "       [ 8.,  9., 14.,  7.]]) * pamp"
      ]
     },
     "execution_count": 37,
     "metadata": {},
     "output_type": "execute_result"
    }
   ],
   "source": [
    "wEE + dwEE1"
   ]
  },
  {
   "cell_type": "code",
   "execution_count": 38,
   "metadata": {},
   "outputs": [
    {
     "data": {
      "text/latex": [
       "$\\left[\\begin{matrix}2.0 & 11.0 & 3.0 & 4.0\\\\7.0 & 4.0 & 12.0 & 14.0\\\\3.0 & 11.0 & 15.0 & 15.0\\\\9.0 & 10.0 & 14.0 & 7.0\\end{matrix}\\right]\\,\\mathrm{p}\\,\\mathrm{A}$"
      ],
      "text/plain": [
       "array([[ 2., 11.,  3.,  4.],\n",
       "       [ 7.,  4., 12., 14.],\n",
       "       [ 3., 11., 15., 15.],\n",
       "       [ 9., 10., 14.,  7.]]) * pamp"
      ]
     },
     "execution_count": 38,
     "metadata": {},
     "output_type": "execute_result"
    }
   ],
   "source": [
    "wEE + dwEE2"
   ]
  },
  {
   "cell_type": "code",
   "execution_count": 39,
   "metadata": {},
   "outputs": [
    {
     "data": {
      "text/latex": [
       "$\\left[\\begin{matrix}2.0 & 11.0 & 4.0 & 5.0\\\\7.0 & 4.0 & 13.0 & 15.0\\\\2.0 & 10.0 & 15.0 & 15.0\\\\8.0 & 9.0 & 14.0 & 7.0\\end{matrix}\\right]\\,\\mathrm{p}\\,\\mathrm{A}$"
      ],
      "text/plain": [
       "array([[ 2., 11.,  4.,  5.],\n",
       "       [ 7.,  4., 13., 15.],\n",
       "       [ 2., 10., 15., 15.],\n",
       "       [ 8.,  9., 14.,  7.]]) * pamp"
      ]
     },
     "execution_count": 39,
     "metadata": {},
     "output_type": "execute_result"
    }
   ],
   "source": [
    "wEE + dwEE3"
   ]
  },
  {
   "cell_type": "code",
   "execution_count": null,
   "metadata": {},
   "outputs": [],
   "source": [
    "wEE + dwEE1"
   ]
  },
  {
   "cell_type": "code",
   "execution_count": null,
   "metadata": {},
   "outputs": [],
   "source": []
  },
  {
   "cell_type": "code",
   "execution_count": 41,
   "metadata": {},
   "outputs": [],
   "source": [
    "scale1 = np.array([1, 1, 1, 1])\n",
    "scale2 = np.array([.25, .25, 1, 1])\n",
    "scale3 = np.array([.25, .125, 1, .5])"
   ]
  },
  {
   "cell_type": "code",
   "execution_count": 83,
   "metadata": {},
   "outputs": [
    {
     "data": {
      "text/plain": [
       "0.46875"
      ]
     },
     "execution_count": 83,
     "metadata": {},
     "output_type": "execute_result"
    }
   ],
   "source": [
    "scale2.mean() * .75"
   ]
  },
  {
   "cell_type": "code",
   "execution_count": 84,
   "metadata": {},
   "outputs": [
    {
     "data": {
      "text/plain": [
       "0.46875"
      ]
     },
     "execution_count": 84,
     "metadata": {},
     "output_type": "execute_result"
    }
   ],
   "source": [
    "scale3.mean()"
   ]
  },
  {
   "cell_type": "code",
   "execution_count": null,
   "metadata": {},
   "outputs": [],
   "source": []
  },
  {
   "cell_type": "code",
   "execution_count": 14,
   "metadata": {},
   "outputs": [
    {
     "data": {
      "text/plain": [
       "[Text(0, 0.5, 'last wEI (pA)'), Text(0.5, 0, 'last wEE (pA)')]"
      ]
     },
     "execution_count": 14,
     "metadata": {},
     "output_type": "execute_result"
    }
   ],
   "source": [
    "fig4a, ax4a = plt.subplots(2, 1, figsize=(4, 9), sharex=True, sharey=True)\n",
    "fig4b, ax4b = plt.subplots(2, 1, figsize=(4, 9), sharex=True, sharey=True)\n",
    "\n",
    "ax4a[0].scatter(wEEInitP, wEIInitP, 1, color='g')\n",
    "ax4a[1].scatter(wEEFinalP, wEIFinalP, 1, color='g')\n",
    "ax4b[0].scatter(wIEFinalP, wIIFinalP, 1, color='r')\n",
    "ax4b[1].scatter(wIEInitP, wIIInitP, 1, color='r')\n",
    "\n",
    "ax4a[0].set(xlabel='init wEE (pA)', ylabel='init wEI (pA)')\n",
    "ax4a[1].set(xlabel='last wEE (pA)', ylabel='last wEI (pA)')\n",
    "ax4b[0].set(xlabel='init wIE (pA)', ylabel='init wII (pA)')\n",
    "ax4b[1].set(xlabel='last wEE (pA)', ylabel='last wEI (pA)')"
   ]
  },
  {
   "cell_type": "code",
   "execution_count": null,
   "metadata": {},
   "outputs": [],
   "source": []
  },
  {
   "cell_type": "code",
   "execution_count": null,
   "metadata": {},
   "outputs": [],
   "source": []
  },
  {
   "cell_type": "code",
   "execution_count": 5,
   "metadata": {},
   "outputs": [],
   "source": [
    "# targetFile = 'jercogDefaultP05_2021-04-18-18-58_results'  # cross-homeo\n",
    "# targetFile = 'jercogDefaultP05_2021-04-18-21-36_results'  # balance\n",
    "# targetFile = 'jercogDefaultP05_2021-04-18-23-01_results'  # test\n",
    "\n",
    "# targetFile = 'destexheDefaultP02_2021-04-19-22-43_results'  # cross-homeo\n",
    "\n",
    "# weight changes customized separately\n",
    "# targetFile = 'jercogDefault_1e3_P05_randn_2021-04-23-00-52_cross-homeo_results'  # starting from good weights?\n",
    "# targetFile = 'jercogDefault_1e3_P05_randn_2021-04-23-01-17_cross-homeo_results'  # starting from bad weights\n",
    "# targetFile = 'jercogDefault_1e3_P05_randn_2021-04-24-20-55_balance_results'  # starting from good weights?\n",
    "# targetFile = 'jercogDefault_1e3_P05_randn_2021-04-25-15-07_balance_results'  # starting from bad weights\n",
    "# targetFile = 'jercogDefault_1e3_P05_randn_2021-04-25-21-10_balance_results'  # starting from good weights?\n",
    "# targetFile = 'jercogDefault_1e3_P05_randn_2021-04-26-08-56_balance_results'  # starting from good weights?\n",
    "# targetFile = 'jercogDefault_1e3_P05_randn_2021-04-26-09-11_balance_results'  # starting from good weights, no weight change scaling\n",
    "# targetFile = 'jercogDefault_1e3_P05_randn_2021-04-26-11-26_balance_results'  # starting from good weights, weight change scaling\n",
    "# targetFile = 'jercogDefault_1e3_P05_randn_2021-04-26-14-10_balance_results'  # starting from good weights, weight change scaling with the membrane tau scaling\n",
    "# targetFile = 'jercogDefault_1e3_P05_randn_2021-04-26-16-25_balance_results'  # starting from good weights, weight change scaling with the membrane tau scaling, alpha 10x\n",
    "# targetFile = 'jercogDefault_1e3_P05_randn_2021-04-26-16-27_balance_results'  # carefully altered init weights (.75, 1.25, 1.5, 0.5), weight change scaling with the membrane tau scaling, alpha 10x\n",
    "# targetFile = 'jercogDefault_1e3_P05_randn_2021-04-26-16-56_balance_results'  # random init weights, weight change scaling with the membrane tau scaling, alpha 10x\n",
    "\n",
    "# targetFile = 'jercogDefault_1e3_P05_randn_repro_2021-04-27-18-23_balance_results'  # good params regained!! short\n",
    "# targetFile = 'jercogDefault_1e3_P05_randn_repro_2021-04-27-18-32_balance_results'  # good params regained full\n",
    "# targetFile = 'jercogDefault_1e3_P05_randn_repro_2021-04-27-20-00_balance_results' # also good, different alphas\n",
    "# targetFile = 'jercogDefault_1e3_P05_randn_repro_2021-04-27-20-04_balance_results' # also good, different alphas\n",
    "# targetFile = 'jercogDefault_1e3_P05_randn_repro_2021-04-27-21-47_balance_results'  # tauP too low, bad\n",
    "# targetFile = 'jercogDefault_1e3_P05_randn_repro_2021-04-28-06-22_balance_results'  # a2 too high, bad\n",
    "# targetFile = 'jercogDefault_1e3_P05_randn_repro_2021-04-28-06-51_balance_results'  # changed alphas, also bad\n",
    "\n",
    "# at this point i realized that i had been initializing the weights wrong by swapping the EI and IE weights...\n",
    "\n",
    "# targetFile = 'jercogDefault_1e3_P05_randn_repro_2021-04-28-09-42_balance_results'  # alphas too high, bad\n",
    "# targetFile = 'jercogDefault_1e3_P05_randn_repro_2021-04-28-09-52_balance_results' # randn repro, very good\n",
    "# targetFile = 'jercogDefault_1e3_P05_rand_2021-04-28-11-31_balance_results'  # rand repro, very good\n",
    "# targetFile = 'jercogDefault_1e3_P05_rand_2021-04-28-12-03_balance_results'  # ??? don't know what's different, but it's good\n",
    "\n",
    "# targetFile = 'jercogDefault_1e3_P05_rand_2021-04-28-13-55_balance_results'  # bad init weights? bad\n",
    "# targetFile = 'jercogDefault_1e3_P05_rand_2021-04-28-13-58_balance_results'  # bad init weights? bad\n",
    "\n",
    "# targetFile = 'jercogDefault_1e3_P05_eqwts_noscale_2021-04-28-16-40_balance_results'  # no scaling = bad\n",
    "# targetFile = 'jercogDefault_1e3_P05_eqwts_halfscale_2021-04-28-16-40_balance_results'  # also no scale = bad\n",
    "# targetFile = 'jercogDefault_1e3_P05_eqwts_noUnlessRefract_2021-04-28-21-30_balance_results'  # i think this uses buono.. also no (unless refractory) means the firing rates start out insanely high...\n",
    "\n",
    "# targetFile = 'jercogDefault_1e3_P05_eqwts_jercog_2021-04-29-13-47_cross-homeo_results'  # testing cross-homeo again\n",
    "# targetFile = 'jercogDefault_1e3_P05_eqwts_jercog_2021-04-29-12-59_balance_results'  # repro, good\n",
    "# targetFile = 'jercogDefault_1e3_P05_eqwts_buono_2021-04-29-13-57_cross-homeo_results'  # cross homeo buono\n",
    "# targetFile = 'jercogDefault_1e3_P05_eqwts_buono_2021-04-29-14-04_balance_results'  # honestly no idea why this failed\n",
    "\n",
    "# targetFile = 'jercogDefault_1e3_P05_eqwts_jercog_2021-04-29-17-06_balance_results'  # honestly no idea why this failed\n",
    "# targetFile = 'jercogDefault_1e3_P05_eqwts_jercog_noscale_2021-04-29-17-08_balance_results'  # obviously this failed worse\n",
    "\n",
    "# targetFile = 'jercogDefault_1e3_P05_randn_jercog_2021-04-29-21-27_balance_results'  # failed the same as the eqwts version above\n",
    "# targetFile = 'jercogDefault_1e3_P05_rand_jercog_2021-04-29-21-31_balance_results' # failed the same as the eqwts version above\n",
    "# targetFile = 'jercogDefault_1e3_P05_randn_jercog_lowalpha_2021-04-29-21-43_balance_results' # failed. relative weight changes still don't work\n",
    "# targetFile = 'jercogDefault_1e3_P05_rand_jercog_lowalpha_2021-04-29-21-42_balance_results'  # failed. relative weight changes still don't work\n",
    "\n",
    "# targetFile = 'jercogDefault_1e3_P05_eqwts_jercog_repro2_2021-04-30-08-18_balance_results'  \n",
    "# targetFile = 'jercogDefault_1e3_P05_eqwts_jercog_scale2_smallwts_2021-04-30-08-32_balance_results'  # this one worked the best for some reason???\n",
    "# targetFile = 'jercogDefault_1e3_P05_eqwts_jercog_scale3_smallwts_2021-04-30-08-37_balance_results'\n",
    "\n",
    "# targetFile = 'jercogDefault_1e3_P05_eqwts_jercog_scale2_smallwts_repro_2021-04-30-10-17_balance_results'  # just reproducing the good one\n",
    "# targetFile = 'classicJercog_1000_0p5_defaultNormal_testTrainer_2021-04-30-12-35_results'  # again, with normal weights\n",
    "\n",
    "# targetFile = 'classicJercog_1000_0p5_randomUniform_testTrainer_2021-04-30-21-15_results'  # doesn't work, oscillatory\n",
    "\n",
    "# targetFile = 'classicJercog_5000_0p2_defaultNormal_testTrainer_2021-05-01-07-46_results'  # larger network with less connections, works great!!\n",
    "# targetFile = 'classicJercog_1000_0p5_defaultNormalHalved_testTrainer_2021-05-03-08-34_results'  # oscillatory with ~200 trial cycle\n",
    "# targetFile = 'classicJercog_1000_0p5_defaultNormalHalved_testTrainer_2021-05-03-09-42_results'  # changed the way the learning rule works??\n",
    "# targetFile = 'classicJercog_1000_0p5_defaultNormalScaled_testTrainer_2021-05-03-10-07_results'  # applied like 0.9 or 1.1 and it still worked\n",
    "# targetFile = 'classicJercog_1000_0p5_defaultNormalScaled_testTrainer_2021-05-03-10-09_results' # applied like 0.8 or 1.2 and it still worked\n",
    "# targetFile = 'classicJercog_1000_0p5_defaultNormalScaled_testTrainer_2021-05-03-11-10_results'  # starting from specific ratios to see if it eventually converged\n",
    "# targetFile = 'classicJercog_1000_0p5_defaultNormalScaled_logPreFR_2021-05-03-11-19_results'  # same as the above but with the log on the preFR\n",
    "# targetFile = 'classicJercog_1000_0p5_defaultNormalScaled_logPreFR_randScales_2021-05-03-11-36_results'  # random multipliers 0.5 to 1.5... worked great\n",
    "\n",
    "# targetFile = 'classicJercog_1000_0p5_defaultNormalScaled_logPreFR_randScales_2021-05-03-14-24_results'  # random multipliers 0.5 to 2\n",
    "# targetFile = 'classicJercog_1000_0p5_randomUniform_logPreFR_randScales_2021-05-03-14-30_results'  # balance random uniform 10 to 20.. works!\n",
    "\n",
    "# targetFile = 'classicJercog_1000_0p5_randomUniform_logPreFR_2021-05-03-16-36_results'  # cross-homeo from random... catastrophic forgetting in the beginning wastes like 100 trials\n",
    "# targetFile = 'classicJercog_1000_0p5_randomUniform_maxFR_2021-05-03-16-43_results'  # cross-homeo from random with the max FR saturation for the learning rule... better\n",
    "\n",
    "# targetFile = 'classicJercog_1000_0p5_defaultNormal_maxFR_2021-05-03-20-41_results'  # cross-homeo... fairly unstable overall\n",
    "# targetFile = 'classicJercog_1000_0p5_defaultUniform_maxFR_2021-05-03-20-41_results'  # cross-homeo... fairly unstable overall\n",
    "# targetFile = 'classicJercog_1000_0p5_defaultNormalScaled_maxFR_2021-05-03-20-46_results'  # cross-homeo... fairly unstable overall\n",
    "# targetFile = 'classicJercog_1000_0p5_defaultNormal_maxFR_lowAlpha_2021-05-03-20-48_results'  # cross-homeo... fairly unstable overall\n",
    "# targetFile = 'classicJercog_1000_0p5_defaultNormalScaled_maxFR_lowAlpha_2021-05-03-20-48_results'  # cross-homeo... fairly unstable overall\n",
    "# targetFile = 'classicJercog_1000_0p5_randomUniform_maxFR_lowAlpha_2021-05-03-20-48_results'  # cross-homeo... fairly unstable overall\n",
    "\n",
    "# targetFile = 'classicJercog_1000_0p5_defaultNormal_origEverything_2021-05-04-07-38_results'\n",
    "# targetFile = 'classicJercog_1000_0p5_defaultEqual_origEverything_2021-05-04-07-37_results'\n",
    "# targetFile = 'classicJercog_1000_0p5_defaultNormal_origEverything_noScale_2021-05-04-07-45_results'\n",
    "# targetFile = 'classicJercog_1000_0p5_defaultNormal_newWMag_vLowAlpha_2021-05-04-07-51_results'\n",
    "\n",
    "# targetFile = 'classicJercog_1000_0p5_defaultNormal_newWMag_vvLowAlpha_2021-05-04-09-22_results'  # still not that stable\n",
    "# targetFile = 'classicJercog_1000_0p5_randomUniform_newWMag_vvLowAlpha_2021-05-04-09-23_results'  # works!\n",
    "# targetFile = 'classicJercog_1000_0p5_randomUniformLow__2021-05-04-09-31_results'  # extremely unstable...\n",
    "# targetFile = 'classicJercog_1000_0p5_cross-homeo_randomUniformLow_newWMag_vvLowAlpha_2021-05-04-09-39_results'\n",
    "\n",
    "# targetFile = 'classicJercog_5000_0p05_balance_defaultEqual_bimodTest_2021-05-04-15-30_results'\n",
    "\n",
    "# targetFile = 'classicJercog_1000_0p5_balance_defaultNormal__2021-05-04-22-36_results'  # the classic extremely stable one\n",
    "# targetFile = 'classicJercog_1000_0p5_balance_randomUniformLow__2021-05-04-22-38_results'  # trying to get randomUniformLow to work\n",
    "# targetFile = 'classicJercog_1000_0p5_balance_randomUniformLow__2021-05-04-22-47_results'  # trying to get randomUniformLow to work\n",
    "\n",
    "# targetFile = 'classicJercog_1000_0p5_balance_randomUniform_noLog2_2021-05-05-12-59_results'\n",
    "\n",
    "# targetFile = 'classicJercog_1000_0p5_balance_defaultNormal_scale2_2021-05-05-14-06_results'\n",
    "# targetFile = 'classicJercog_1000_0p5_balance_defaultNormal_scale3_2021-05-05-14-07_results'\n",
    "# targetFile = 'classicJercog_1000_0p5_balance_defaultNormal_scale1_2021-05-05-14-51_results'\n",
    "# targetFile = 'classicJercog_1000_0p5_balance_defaultNormal_scale2_2021-05-05-15-14_results'\n",
    "# targetFile = 'classicJercog_1000_0p5_balance_defaultNormal_scale1_2021-05-05-15-17_results'  # actually scale3\n",
    "\n",
    "# targetFile = 'classicJercog_1000_0p5_balance_randomUniform_noLog2_2021-05-05-15-06_results'\n",
    "# targetFile = 'classicJercog_1000_0p5_balance_randomUniform_yesLog2_2021-05-05-15-06_results'\n",
    "\n",
    "# targetFile = 'classicJercog_1000_0p5_balance_defaultNormal_lowTauP_2021-05-05-18-37_results'\n",
    "# targetFile = 'classicJercog_1000_0p5_balance_defaultNormal_scale025_2021-05-05-19-07_results'\n",
    "\n",
    "# targetFile = 'classicJercog_1000_0p5_balance_defaultNormal_lowAlpha_highBalance_2021-05-05-20-12_results'\n",
    "# targetFile = 'classicJercog_1000_0p5_balance_randomUniform_scale1_regBalance_2021-05-05-20-13_results'\n",
    "# targetFile = 'classicJercog_1000_0p5_balance_randomUniform_scale1_highBalance_2021-05-05-20-14_results'\n",
    "# targetFile = 'classicJercog_1000_0p5_balance_randomUniform_scale3_highBalance_2021-05-05-20-14_results'\n",
    "# targetFile = 'classicJercog_1000_0p5_balance_randomUniform_scale3_lowBalance_2021-05-05-20-15_results'\n",
    "\n",
    "# targetFile = 'classicJercog_1000_0p5_balance_defaultNormal_scale3_highAlphas_2021-05-05-21-56_results'\n",
    "# targetFile = 'classicJercog_1000_0p5_balance_randomUniform_scale3_highAlphas_2021-05-05-21-56_results'\n",
    "# targetFile = 'classicJercog_1000_0p5_balance_randomUniformSaray__2021-05-05-22-15_results'\n",
    "\n",
    "# targetFile = 'classicJercog_1000_0p5_balance_defaultNormal_scale3_midHighAlphas_2021-05-05-23-08_results'\n",
    "# targetFile = 'classicJercog_1000_0p5_balance_randomUniformSaray_scale3_midHighAlphas_2021-05-05-23-08_results'\n",
    "# targetFile = 'classicJercog_1000_0p5_balance_randomUniform_scale3_midHighAlphas_2021-05-05-23-08_results'"
   ]
  },
  {
   "cell_type": "code",
   "execution_count": 4,
   "metadata": {},
   "outputs": [],
   "source": [
    "targetFiles = ('classicJercog_1000_0p5_defaultNormal_origEverything_2021-05-04-07-38_results',\n",
    "'classicJercog_1000_0p5_defaultEqual_origEverything_2021-05-04-07-37_results',\n",
    "'classicJercog_1000_0p5_defaultNormal_origEverything_noScale_2021-05-04-07-45_results',\n",
    "'classicJercog_1000_0p5_defaultNormal_newWMag_vLowAlpha_2021-05-04-07-51_results',\n",
    "'classicJercog_1000_0p5_defaultNormal_newWMag_vvLowAlpha_2021-05-04-09-22_results',  # still not that stable\n",
    "'classicJercog_1000_0p5_randomUniform_newWMag_vvLowAlpha_2021-05-04-09-23_results',  # works!\n",
    "'classicJercog_1000_0p5_randomUniformLow__2021-05-04-09-31_results',  # extremely unstable...\n",
    "'classicJercog_1000_0p5_cross-homeo_randomUniformLow_newWMag_vvLowAlpha_2021-05-04-09-39_results',\n",
    "'classicJercog_5000_0p05_balance_defaultEqual_bimodTest_2021-05-04-15-30_results',\n",
    "'classicJercog_1000_0p5_balance_defaultNormal__2021-05-04-22-36_results',  # the classic extremely stable one\n",
    "'classicJercog_1000_0p5_balance_randomUniformLow__2021-05-04-22-38_results',  # trying to get randomUniformLow to work\n",
    "'classicJercog_1000_0p5_balance_randomUniformLow__2021-05-04-22-47_results',  # trying to get randomUniformLow to work\n",
    "'classicJercog_1000_0p5_balance_randomUniform_noLog2_2021-05-05-12-59_results',\n",
    "'classicJercog_1000_0p5_balance_defaultNormal_scale2_2021-05-05-14-06_results',\n",
    "'classicJercog_1000_0p5_balance_defaultNormal_scale3_2021-05-05-14-07_results',\n",
    "'classicJercog_1000_0p5_balance_defaultNormal_scale1_2021-05-05-14-51_results',\n",
    "'classicJercog_1000_0p5_balance_defaultNormal_scale2_2021-05-05-15-14_results',\n",
    "'classicJercog_1000_0p5_balance_defaultNormal_scale1_2021-05-05-15-17_results',  # actually scale3\n",
    "'classicJercog_1000_0p5_balance_randomUniform_noLog2_2021-05-05-15-06_results',\n",
    "'classicJercog_1000_0p5_balance_randomUniform_yesLog2_2021-05-05-15-06_results',\n",
    "'classicJercog_1000_0p5_balance_defaultNormal_lowTauP_2021-05-05-18-37_results',\n",
    "'classicJercog_1000_0p5_balance_defaultNormal_scale025_2021-05-05-19-07_results',\n",
    "'classicJercog_1000_0p5_balance_defaultNormal_lowAlpha_highBalance_2021-05-05-20-12_results',\n",
    "'classicJercog_1000_0p5_balance_randomUniform_scale1_regBalance_2021-05-05-20-13_results',\n",
    "'classicJercog_1000_0p5_balance_randomUniform_scale1_highBalance_2021-05-05-20-14_results',\n",
    "'classicJercog_1000_0p5_balance_randomUniform_scale3_highBalance_2021-05-05-20-14_results',\n",
    "'classicJercog_1000_0p5_balance_randomUniform_scale3_lowBalance_2021-05-05-20-15_results',\n",
    "'classicJercog_1000_0p5_balance_defaultNormal_scale3_highAlphas_2021-05-05-21-56_results',\n",
    "'classicJercog_1000_0p5_balance_randomUniform_scale3_highAlphas_2021-05-05-21-56_results',\n",
    "'classicJercog_1000_0p5_balance_randomUniformSaray__2021-05-05-22-15_results',\n",
    "'classicJercog_1000_0p5_balance_defaultNormal_scale3_midHighAlphas_2021-05-05-23-08_results',\n",
    "'classicJercog_1000_0p5_balance_randomUniformSaray_scale3_midHighAlphas_2021-05-05-23-08_results',\n",
    "'classicJercog_1000_0p5_balance_randomUniform_scale3_midHighAlphas_2021-05-05-23-08_results',)"
   ]
  },
  {
   "cell_type": "code",
   "execution_count": 5,
   "metadata": {},
   "outputs": [],
   "source": [
    "targetFiles2 = (\n",
    "'jercogDefault_1e3_P05_eqwts_jercog_repro2_2021-04-30-08-18_balance_results',  \n",
    "'jercogDefault_1e3_P05_eqwts_jercog_scale2_smallwts_2021-04-30-08-32_balance_results',  # this one worked the best for some reason???\n",
    "'jercogDefault_1e3_P05_eqwts_jercog_scale3_smallwts_2021-04-30-08-37_balance_results',\n",
    "'jercogDefault_1e3_P05_eqwts_jercog_scale2_smallwts_repro_2021-04-30-10-17_balance_results',  # just reproducing the good one\n",
    "'classicJercog_1000_0p5_defaultNormal_testTrainer_2021-04-30-12-35_results',  # again, with normal weights\n",
    "'classicJercog_1000_0p5_randomUniform_testTrainer_2021-04-30-21-15_results',  # doesn't work, oscillatory\n",
    "'classicJercog_5000_0p2_defaultNormal_testTrainer_2021-05-01-07-46_results',  # larger network with less connections, works great!!\n",
    "'classicJercog_1000_0p5_defaultNormalHalved_testTrainer_2021-05-03-08-34_results',  # oscillatory with ~200 trial cycle\n",
    "'classicJercog_1000_0p5_defaultNormalHalved_testTrainer_2021-05-03-09-42_results',  # changed the way the learning rule works??\n",
    "'classicJercog_1000_0p5_defaultNormalScaled_testTrainer_2021-05-03-10-07_results',  # applied like 0.9 or 1.1 and it still worked\n",
    "'classicJercog_1000_0p5_defaultNormalScaled_testTrainer_2021-05-03-10-09_results', # applied like 0.8 or 1.2 and it still worked\n",
    "'classicJercog_1000_0p5_defaultNormalScaled_testTrainer_2021-05-03-11-10_results',  # starting from specific ratios to see if it eventually converged\n",
    "'classicJercog_1000_0p5_defaultNormalScaled_logPreFR_2021-05-03-11-19_results',  # same as the above but with the log on the preFR\n",
    "'classicJercog_1000_0p5_defaultNormalScaled_logPreFR_randScales_2021-05-03-11-36_results',  # random multipliers 0.5 to 1.5... worked great\n",
    "'classicJercog_1000_0p5_defaultNormalScaled_logPreFR_randScales_2021-05-03-14-24_results',  # random multipliers 0.5 to 2\n",
    "'classicJercog_1000_0p5_randomUniform_logPreFR_randScales_2021-05-03-14-30_results',  # balance random uniform 10 to 20.. works!\n",
    "'classicJercog_1000_0p5_randomUniform_logPreFR_2021-05-03-16-36_results',  # cross-homeo from random... catastrophic forgetting in the beginning wastes like 100 trials\n",
    "'classicJercog_1000_0p5_randomUniform_maxFR_2021-05-03-16-43_results',  # cross-homeo from random with the max FR saturation for the learning rule... better\n",
    "'classicJercog_1000_0p5_defaultNormal_maxFR_2021-05-03-20-41_results',  # cross-homeo... fairly unstable overall\n",
    "'classicJercog_1000_0p5_defaultUniform_maxFR_2021-05-03-20-41_results',  # cross-homeo... fairly unstable overall\n",
    "'classicJercog_1000_0p5_defaultNormalScaled_maxFR_2021-05-03-20-46_results',  # cross-homeo... fairly unstable overall\n",
    "'classicJercog_1000_0p5_defaultNormal_maxFR_lowAlpha_2021-05-03-20-48_results',  # cross-homeo... fairly unstable overall\n",
    "'classicJercog_1000_0p5_defaultNormalScaled_maxFR_lowAlpha_2021-05-03-20-48_results',  # cross-homeo... fairly unstable overall\n",
    "'classicJercog_1000_0p5_randomUniform_maxFR_lowAlpha_2021-05-03-20-48_results',  # cross-homeo... fairly unstable overall\n",
    ")"
   ]
  },
  {
   "cell_type": "code",
   "execution_count": 6,
   "metadata": {},
   "outputs": [],
   "source": [
    "extremelyStableSessions = (\n",
    "# 'classicJercog_5000_0p05_balance_defaultEqual_bimodTest_2021-05-04-15-30_results',\n",
    "# 'classicJercog_1000_0p5_balance_randomUniform_noLog2_2021-05-05-12-59_results',\n",
    "# 'classicJercog_1000_0p5_balance_defaultNormal_scale2_2021-05-05-14-06_results',\n",
    "# 'classicJercog_1000_0p5_balance_defaultNormal_scale1_2021-05-05-14-51_results',\n",
    "'classicJercog_1000_0p5_defaultNormal_testTrainer_2021-04-30-12-35_results',  # again, with normal weights\n",
    "'classicJercog_5000_0p2_defaultNormal_testTrainer_2021-05-01-07-46_results',  # larger network with less connections, works great!!\n",
    "'jercogDefault_1e3_P05_eqwts_jercog_scale2_smallwts_2021-04-30-08-32_balance_results',\n",
    "'jercogDefault_1e3_P05_eqwts_jercog_scale2_smallwts_repro_2021-04-30-10-17_balance_results',  # just reproducing the good one\n",
    ")"
   ]
  },
  {
   "cell_type": "code",
   "execution_count": 4,
   "metadata": {},
   "outputs": [],
   "source": [
    "findStableSessions = (\n",
    "    'classicJercog_1000_0p5_balance_defaultNormal_findStable_2021-05-06-09-04_results',\n",
    "    'classicJercog_1000_0p5_balance_randomUniformSaray_findStable_2021-05-06-09-05_results',  # saray worked!!!\n",
    "    'classicJercog_1000_0p5_balance_defaultNormal_findStable_scale025_2021-05-06-09-08_results',\n",
    "    'classicJercog_1000_0p5_balance_defaultNormal_findStable_noLog_2021-05-06-09-08_results',\n",
    "    'classicJercog_1000_0p5_balance_randomUniform_findStable_2021-05-06-09-04_results',\n",
    "    'classicJercog_1000_0p5_balance_randomUniformSaray_findStable_lowAlpha_scale1_noLog_2021-05-06-13-18_results',\n",
    "    'classicJercog_1000_0p5_balance_defaultNormal_findStable_lowAlpha_scale1_noLog_2021-05-06-13-17_results',\n",
    "    'classicJercog_1000_0p5_balance_randomUniform_findStable_lowAlpha_scale1_noLog_2021-05-06-13-18_results',\n",
    "    'classicJercog_1000_0p5_balance_defaultNormal_findStable_slowBalance_2021-05-06-15-11_results',\n",
    "    'classicJercog_1000_0p5_balance_randomUniformSaray_findStable_slowBalance_2021-05-06-15-11_results',\n",
    "    'classicJercog_1000_0p5_balance_randomUniform_findStable_slowBalance_2021-05-06-15-11_results',\n",
    ")\n",
    "targetFile = 'classicJercog_1000_0p5_balance_defaultNormal_findStable_scale025_2021-05-06-09-08_results'\n",
    "findStableSaraySessions = (\n",
    "    'classicJercog_1000_0p5_balance_randomUniformSaray_findStable_2021-05-06-09-05_results',\n",
    "    'classicJercog_1000_0p5_balance_randomUniformSaray_findStable_slowBalance_lowerAlpha_2021-05-06-16-43_results',\n",
    "    'classicJercog_1000_0p5_balance_randomUniformSaray_findStable_midBalance_midAlpha_2021-05-06-16-46_results',\n",
    "    'classicJercog_1000_0p5_balance_randomUniformSaray_findStable_slowBalance_lowerAlpha_2021-05-06-16-48_results',\n",
    "    'classicJercog_1000_0p5_balance_randomUniformSaray_findStable_midBalance_midAlpha_2021-05-06-16-47_results',\n",
    "    'classicJercog_1000_0p5_balance_randomUniformSaray_goodRepro_2021-05-06-22-02_results',\n",
    "    'classicJercog_1000_0p5_balance_randomUniformSaray_goodRepro_setMinsBalanceEmpirical_2021-05-06-23-18_results',\n",
    ")"
   ]
  },
  {
   "cell_type": "code",
   "execution_count": 7,
   "metadata": {},
   "outputs": [],
   "source": [
    "crossHomeoSessions = (\n",
    "    'classicJercog_1000_0p5_cross-homeo_defaultNormal_figureCross_highAlpha_2021-05-06-13-40_results',\n",
    "    'classicJercog_1000_0p5_cross-homeo_defaultNormal_figureCross_lowAlpha_2021-05-06-13-40_results',\n",
    "    'classicJercog_1000_0p5_cross-homeo_defaultNormal_figureCross_2021-05-06-13-39_results',\n",
    "    'classicJercog_1000_0p5_cross-homeo_defaultNormal_figureCross_lowAlpha_scale2_2021-05-06-15-42_results',\n",
    "    'classicJercog_1000_0p5_cross-homeo_defaultNormal_figureCross_lowAlpha_scale3_2021-05-06-15-42_results',\n",
    "    \n",
    "    'classicJercog_1000_0p5_cross-homeo_defaultNormal_figureCross_5xalpha_scale2_2021-05-06-16-54_results',\n",
    "    'classicJercog_1000_0p5_cross-homeo_defaultNormal_figureCross_5xalpha_scale3_2021-05-06-16-54_results',\n",
    ")\n",
    "targetFile = 'classicJercog_1000_0p5_cross-homeo_defaultNormal_figureCross_lowAlpha_2021-05-06-13-40_results'"
   ]
  },
  {
   "cell_type": "code",
   "execution_count": 9,
   "metadata": {},
   "outputs": [],
   "source": [
    "newSessions = (\n",
    "    'classicJercog_1000_0p5_balance_defaultNormal_scaleThreshDifferent_balance1000_2021-05-06-23-27_results',\n",
    "    'classicJercog_1000_0p5_balance_defaultNormal_scaleThreshDifferent_balance100_2021-05-06-23-27_results',\n",
    "    'classicJercog_1000_0p5_cross-homeo_randomUniformSaray_scaleThreshDifferent_balance100_2021-05-07-09-29_results',\n",
    "    'classicJercog_1000_0p5_cross-homeo_randomUniform_scaleThreshDifferent_balance100_2021-05-07-09-29_results',\n",
    ")"
   ]
  },
  {
   "cell_type": "code",
   "execution_count": 5,
   "metadata": {},
   "outputs": [],
   "source": [
    "simpleBalanceSessions = (\n",
    "    'classicJercog_1000_0p5_balance_defaultNormal_balanceSimple_2021-05-12-10-18_results',\n",
    "    'classicJercog_1000_0p5_balance_randomUniform_balanceSimple_2021-05-12-10-18_results',\n",
    "    'classicJercog_1000_0p5_balance_randomUniformLow_balanceSimple_2021-05-12-10-18_results',\n",
    "    'classicJercog_1000_0p5_balance_randomUniformSaray_balanceSimple_2021-05-12-10-18_results',\n",
    ")\n",
    "targetFile = 'classicJercog_1000_0p5_balance_randomUniformSaray_balanceSimple_2021-05-12-10-18_results'"
   ]
  },
  {
   "cell_type": "code",
   "execution_count": 6,
   "metadata": {},
   "outputs": [],
   "source": [
    "simpleBalanceSessions2 = (\n",
    "    'classicJercog_5000_0p1_balance_randomUniformSaray_balancePreAvg_2021-05-12-23-58_results',\n",
    "    'classicJercog_5000_0p1_balance_randomUniformSaray_balanceSimple_2021-05-12-23-57_results',\n",
    "    'classicJercog_5000_0p1_balance_randomUniform_balancePreAvg_2021-05-12-23-58_results',\n",
    "    'classicJercog_5000_0p1_balance_randomUniform_balanceSimple_2021-05-12-23-57_results',    \n",
    ")"
   ]
  },
  {
   "cell_type": "code",
   "execution_count": 6,
   "metadata": {},
   "outputs": [],
   "source": [
    "balance2Sessions = (\n",
    "    'classicJercog_1000_0p5_balance2_defaultNormal_testOldMag_2021-05-19-14-19_results',\n",
    "    'classicJercog_1000_0p5_balance2_defaultNormal_ratioBalance_2021-05-19-14-31_results',\n",
    "    'classicJercog_1000_0p5_balance2_defaultNormal_ratioBalance_2021-05-19-15-24_results',\n",
    "    'classicJercog_1000_0p5_balance2_defaultNormal_slopeBalance_2021-05-19-15-46_results',\n",
    "    'classicJercog_1000_0p5_balance2_randomUniformSaray_slopeBalance_2021-05-20-00-35_results',\n",
    "    'classicJercog_1000_0p5_balance2_randomUniform_slopeBalance_2021-05-20-00-35_results',\n",
    "    'classicJercog_1000_0p5_balance2_randomUniform_divBalance_2021-05-20-01-22_results',\n",
    "    'classicJercog_1000_0p5_balance2_randomUniform_subtractBalance_2021-05-20-01-22_results',\n",
    "    'classicJercog_1000_0p5_balance2_randomUniformSaray_fastSlopeBalance_2021-05-21-08-54_results',\n",
    "    'classicJercog_2000_0p2_balance2_randomUniformSaray_slopeBalance_2021-05-21-08-53_results',\n",
    ")\n",
    "balance2SessionsSubset = (\n",
    "    'classicJercog_1000_0p5_balance2_defaultNormal_slopeBalance_2021-05-19-15-46_results',\n",
    "    'classicJercog_1000_0p5_balance2_randomUniformSaray_slopeBalance_2021-05-20-00-35_results',\n",
    "    'classicJercog_1000_0p5_balance2_randomUniform_slopeBalance_2021-05-20-00-35_results',\n",
    "    'classicJercog_1000_0p5_balance2_randomUniformSaray_fastSlopeBalance_2021-05-21-08-54_results',\n",
    ")"
   ]
  },
  {
   "cell_type": "code",
   "execution_count": 25,
   "metadata": {},
   "outputs": [],
   "source": [
    "newCrossHomeoSessions = (\n",
    "    'classicJercog_1000_0p5_cross-homeo_randomUniformSaray_slopeMovie_2021-06-09-09-43_results',\n",
    "    'classicJercog_1000_0p5_cross-homeo_randomUniform_slopeMovie_2021-06-09-09-44_results',\n",
    "    'classicJercog_1000_0p5_cross-homeo_randomUniformSaray_slopeMovie_2021-06-09-12-59_results',\n",
    "    'classicJercog_1000_0p5_cross-homeo_randomUniform_slopeMovie_2021-06-09-12-59_results',\n",
    "    'classicJercog_1000_0p5_cross-homeo_defaultNormal_slopeMovie_2021-06-11-09-33_results',\n",
    "    'classicJercog_1000_0p5_cross-homeo_defaultNormal_slopeMovie_2021-06-15-10-00_results',\n",
    "    'classicJercog_1000_0p5_cross-homeo_randomUniformSaray_slopeMovie_2021-06-15-10-11_results',\n",
    "    'classicJercog_1000_0p5_cross-homeo_randomUniform_slopeMovie_2021-06-15-10-11_results',\n",
    "    'classicJercog_1000_0p5_cross-homeo_randomUniformSaray_slopeMovie_2021-06-15-10-35_results',\n",
    "    'classicJercog_1000_0p5_cross-homeo_randomUniformMid_slopeMovie_2021-06-15-13-44_results',\n",
    "    'classicJercog_1000_0p5_cross-homeo_randomUniformMid_slopeMovie_2021-06-15-14-42_results',\n",
    "    'classicJercog_1000_0p5_cross-homeo_randomUniformMid_slopeMovie_2021-06-15-14-50_results',\n",
    ")"
   ]
  },
  {
   "cell_type": "code",
   "execution_count": 22,
   "metadata": {},
   "outputs": [],
   "source": [
    "crossHomeoPreSessions = (\n",
    "    'classicJercog_1000_0p5_cross-homeo-pre_randomUniformSarayMid_slopeMovie_2021-06-17-16-36_results',  # outer product version\n",
    "    'classicJercog_1000_0p5_cross-homeo-pre_defaultNormal_slopeMovie_2021-06-17-16-38_results',  # outer product version\n",
    "    'classicJercog_1000_0p5_cross-homeo-pre_defaultNormal_slopeMovie_2021-06-18-09-29_results',\n",
    "    'classicJercog_1000_0p5_cross-homeo-pre_defaultNormal_slopeMovie_2021-06-18-10-59_results',\n",
    "    'classicJercog_1000_0p5_cross-homeo-pre_defaultNormal_slopeMovie_2021-06-18-11-05_results',\n",
    "    'classicJercog_1000_0p5_cross-homeo-pre_randomUniformSarayMid_slopeMovie_2021-06-18-11-19_results',\n",
    "    'classicJercog_1000_0p5_cross-homeo-pre_randomUniformMid_slopeMovie_2021-06-18-12-39_results',\n",
    ")"
   ]
  },
  {
   "cell_type": "code",
   "execution_count": 9,
   "metadata": {},
   "outputs": [],
   "source": [
    "crossHomeoPreScalarSessions = (\n",
    "#     'classicJercog_1000_0p5_cross-homeo-pre-scalar_defaultNormal_higherAlpha_2021-06-23-09-46_results',\n",
    "#     'classicJercog_1000_0p5_cross-homeo-pre-scalar-homeo_defaultNormal_higherAlpha_2021-06-23-09-57_results',\n",
    "#     'classicJercog_1000_0p5_cross-homeo-pre-scalar_randomUniformSarayHigh_higherAlpha_2021-06-23-10-21_results',\n",
    "#     'classicJercog_1000_0p5_cross-homeo-pre-scalar-homeo_randomUniformSarayHigh_higherAlpha_2021-06-23-10-21_results',\n",
    "    'classicJercog_1000_0p5_cross-homeo-pre-scalar_defaultNormal_evenHigherAlpha_2021-06-23-12-01_results',\n",
    "    'classicJercog_1000_0p5_cross-homeo-pre-scalar-homeo_defaultNormal_evenHigherAlpha_2021-06-23-12-01_results',\n",
    "    'classicJercog_1000_0p5_cross-homeo-pre-scalar_randomUniformSarayHigh_evenHigherAlpha_2021-06-23-12-00_results',\n",
    "    'classicJercog_1000_0p5_cross-homeo-pre-scalar-homeo_randomUniformSarayHigh_evenHigherAlpha_2021-06-23-12-00_results',\n",
    ")"
   ]
  },
  {
   "cell_type": "code",
   "execution_count": 4,
   "metadata": {},
   "outputs": [],
   "source": [
    "crossHomeoLongSessions = (\n",
    "    'classicJercog_1000_0p5_cross-homeo-pre-outer_randomUniformSarayHigh_evenHigherAlpha_2021-06-24-00-35_results',\n",
    "    'classicJercog_1000_0p5_cross-homeo-pre-outer-homeo_randomUniformSarayHigh_evenHigherAlpha_2021-06-24-00-35_results',\n",
    "    'classicJercog_1000_0p5_cross-homeo-pre-scalar_randomUniformSarayHigh_evenHigherAlpha_2021-06-24-00-35_results',\n",
    "    'classicJercog_1000_0p5_cross-homeo-pre-scalar-homeo_randomUniformSarayHigh_evenHigherAlpha_2021-06-24-00-35_results',\n",
    "    'classicJercog_1000_0p5_cross-homeo-pre-outer_randomUniformHighUnequal_evenHigherAlpha_2021-06-24-09-42_results',\n",
    "    'classicJercog_1000_0p5_cross-homeo-pre-outer-homeo_randomUniformHighUnequal_evenHigherAlpha_2021-06-24-09-42_results',\n",
    "    'classicJercog_1000_0p5_cross-homeo-pre-scalar_randomUniformHighUnequal_evenHigherAlpha_2021-06-24-09-42_results',\n",
    "    'classicJercog_1000_0p5_cross-homeo-pre-scalar-homeo_randomUniformHighUnequal_evenHigherAlpha_2021-06-24-09-42_results',\n",
    "    'classicJercog_1000_0p5_cross-homeo-pre-outer_randomUniformMidUnequal_evenHigherAlpha_2021-06-25-00-32_results',\n",
    "    'classicJercog_1000_0p5_cross-homeo-pre-outer-homeo_randomUniformMidUnequal_evenHigherAlpha_2021-06-25-00-32_results',\n",
    "    'classicJercog_1000_0p5_cross-homeo-pre-scalar_randomUniformMidUnequal_evenHigherAlpha_2021-06-25-00-33_results',\n",
    "    'classicJercog_1000_0p5_cross-homeo-pre-scalar-homeo_randomUniformMidUnequal_evenHigherAlpha_2021-06-25-00-33_results',\n",
    ")"
   ]
  },
  {
   "cell_type": "code",
   "execution_count": 23,
   "metadata": {},
   "outputs": [],
   "source": [
    "crossHomeoWeightScaleSessions = (\n",
    "    'classicJercog_1000_0p5_cross-homeo-pre-scalar_defaultNormal_weightScaleC1_2021-06-25-09-07_results',\n",
    "    'classicJercog_1000_0p5_cross-homeo-pre-scalar_defaultNormal_weightScaleC2_2021-06-25-09-09_results',\n",
    "    'classicJercog_1000_0p5_cross-homeo-pre-scalar-homeo_defaultNormal_weightScaleC1_2021-06-25-09-08_results',\n",
    "    'classicJercog_1000_0p5_cross-homeo-pre-scalar-homeo_defaultNormal_weightScaleC2_2021-06-25-09-09_results',\n",
    "    'classicJercog_1000_0p5_cross-homeo-pre-scalar-homeo_randomUniformMidUnequal_weightScaleC1_2021-06-28-11-04_results',\n",
    "    'classicJercog_1000_0p5_cross-homeo-pre-scalar-homeo_randomUniformMidUnequal_weightScaleC2_2021-06-28-11-04_results',\n",
    "    'classicJercog_1000_0p5_cross-homeo-pre-scalar-homeo_randomUniformSarayHigh_weightScaleC1_2021-06-28-11-05_results',\n",
    "    'classicJercog_1000_0p5_cross-homeo-pre-scalar-homeo_randomUniformSarayHigh_weightScaleC2_2021-06-28-11-04_results',\n",
    "    'classicJercog_1000_0p5_cross-homeo-pre-scalar-homeo_randomUniformMidUnequal_weightScaleC1_highAlpha_2021-06-28-16-45_results',\n",
    "    'classicJercog_1000_0p5_cross-homeo-pre-scalar-homeo_randomUniformMidUnequal_weightScaleC2_highAlpha_2021-06-28-16-46_results',\n",
    "    'classicJercog_1000_0p5_cross-homeo-pre-scalar-homeo_randomUniformSarayHigh_weightScaleC1_highAlpha_2021-06-28-16-45_results',\n",
    "    'classicJercog_1000_0p5_cross-homeo-pre-scalar-homeo_randomUniformSarayHigh_weightScaleC2_highAlpha_2021-06-28-16-46_results',\n",
    ")"
   ]
  },
  {
   "cell_type": "code",
   "execution_count": 51,
   "metadata": {},
   "outputs": [],
   "source": [
    "crossHomeoLargeNetSessions = (\n",
    "    'classicJercog_5000_0p2_cross-homeo-pre-scalar_defaultNormal_weightScaleC2_highAlpha_2021-06-29-00-02_results',\n",
    "    'classicJercog_5000_0p2_cross-homeo-pre-scalar-homeo_defaultNormal_weightScaleC2_highAlpha_2021-06-29-00-01_results',\n",
    "    'classicJercog_5000_0p2_cross-homeo-pre-scalar_randomUniformSarayHigh__2021-07-01-09-04_results',\n",
    "    'classicJercog_5000_0p2_cross-homeo-pre-scalar-homeo_randomUniformSarayHigh__2021-07-01-09-04_results',\n",
    "    'classicJercog_5000_0p2_cross-homeo-pre-outer_randomUniformSarayHigh__2021-07-01-09-04_results',\n",
    "    'classicJercog_5000_0p2_cross-homeo-pre-outer-homeo_randomUniformSarayHigh__2021-07-01-09-04_results',\n",
    ")"
   ]
  },
  {
   "cell_type": "code",
   "execution_count": null,
   "metadata": {},
   "outputs": [],
   "source": [
    "crossHomeoLargeNetSessions1 = (\n",
    "    'classicJercog_5000_0p2_cross-homeo-pre-scalar_randomUniformSarayHigh__2021-07-02-10-05_results',\n",
    "    'classicJercog_5000_0p2_cross-homeo-pre-scalar-homeo_randomUniformSarayHigh__2021-07-02-10-04_results',\n",
    "    'classicJercog_5000_0p2_cross-homeo-pre-outer_randomUniformSarayHigh__2021-07-02-10-04_results',\n",
    "    'classicJercog_5000_0p2_cross-homeo-pre-outer-homeo_randomUniformSarayHigh__2021-07-02-10-04_results',\n",
    ")"
   ]
  },
  {
   "cell_type": "code",
   "execution_count": 6,
   "metadata": {},
   "outputs": [],
   "source": [
    "crossHomeoLargeNetSessions2 = (\n",
    "    'classicJercog_5000_0p2_cross-homeo-pre-scalar_randomUniformSarayHigh__2021-07-02-10-05_results',\n",
    "    'classicJercog_5000_0p2_cross-homeo-pre-scalar-homeo_randomUniformSarayHigh__2021-07-02-10-04_results',\n",
    "    'classicJercog_5000_0p2_cross-homeo-pre-outer_randomUniformSarayHigh__2021-07-02-10-04_results',\n",
    "    'classicJercog_5000_0p2_cross-homeo-pre-outer-homeo_randomUniformSarayHigh__2021-07-02-10-04_results',\n",
    "    'classicJercog_5000_0p2_cross-homeo-pre-scalar-homeo_randomUniformSarayHigh5e3p02Converge__2021-07-06-10-16_results',\n",
    "    'classicJercog_5000_0p2_cross-homeo-pre-outer-homeo_randomUniformSarayHigh5e3p02Converge__2021-07-06-10-15_results',\n",
    "    'classicJercog_5000_0p2_cross-homeo-pre-scalar-homeo_randomUniformSarayHigh5e3p02Converge__2021-07-07-10-16_results',\n",
    "    'classicJercog_5000_0p2_cross-homeo-pre-outer-homeo_randomUniformSarayHigh5e3p02Converge__2021-07-07-10-16_results',\n",
    "    'classicJercog_5000_0p2_cross-homeo-pre-scalar-homeo_randomUniformSarayHigh5e3p02Converge__2021-07-08-10-14_results',\n",
    "    'classicJercog_5000_0p2_cross-homeo-pre-outer-homeo_randomUniformSarayHigh5e3p02Converge__2021-07-08-10-14_results',\n",
    "    'classicJercog_5000_0p2_cross-homeo-pre-scalar-homeo_randomUniformSarayHigh5e3p02Converge_HighAlpha_2021-07-08-11-08_results',\n",
    "    'classicJercog_5000_0p2_cross-homeo-pre-outer-homeo_randomUniformSarayHigh5e3p02Converge_HighAlpha_2021-07-08-11-08_results',\n",
    "    'classicJercog_5000_0p2_cross-homeo-pre-scalar-homeo_randomUniformSarayHigh5e3p02Converge__2021-07-09-09-02_results',\n",
    "    'classicJercog_5000_0p2_cross-homeo-pre-outer-homeo_randomUniformSarayHigh5e3p02Converge__2021-07-09-09-02_results',\n",
    "    'classicJercog_5000_0p2_cross-homeo-pre-scalar-homeo_randomUniformSarayHigh5e3p02Converge_HighAlpha_2021-07-09-09-02_results',\n",
    "    'classicJercog_5000_0p2_cross-homeo-pre-outer-homeo_randomUniformSarayHigh5e3p02Converge_HighAlpha_2021-07-09-09-02_results',\n",
    ")"
   ]
  },
  {
   "cell_type": "code",
   "execution_count": 14,
   "metadata": {},
   "outputs": [],
   "source": [
    "crossHomeoLargeNetSessions3 = (\n",
    "    'classicJercog_5000_0p2_cross-homeo-pre-scalar_randomUniformSarayHigh5e3p02Converge__2021-07-10-09-20_results',\n",
    "    'classicJercog_5000_0p2_cross-homeo-pre-outer_randomUniformSarayHigh5e3p02Converge__2021-07-10-09-20_results',\n",
    "    'classicJercog_5000_0p2_cross-homeo-pre-scalar-homeo_randomUniformSarayHigh5e3p02Converge__2021-07-10-09-20_results',\n",
    "    'classicJercog_5000_0p2_cross-homeo-pre-outer-homeo_randomUniformSarayHigh5e3p02Converge__2021-07-10-09-19_results',\n",
    "    'classicJercog_5000_0p2_homeo_randomUniformSarayHigh5e3p02Converge__2021-07-14-23-38_results',\n",
    "    'classicJercog_5000_0p2_cross-homeo-pre-scalar-homeo-norm_randomUniformSarayHigh5e3p02Converge__2021-07-15-09-56_results',\n",
    "    'classicJercog_5000_0p2_cross-homeo-pre-scalar-homeo_guessLowActivityWeights2e3p025__2021-07-20-14-23_results',\n",
    "    'classicJercog_5000_0p2_cross-homeo-pre-scalar_resumePrior__2021-07-21-12-52_results',\n",
    ")"
   ]
  },
  {
   "cell_type": "code",
   "execution_count": 36,
   "metadata": {},
   "outputs": [],
   "source": [
    "crossHomeo2e3Sessions = (\n",
    "    'classicJercog_2000_0p25_cross-homeo-pre-scalar-homeo_guessZeroActivityWeights2e3p025__2021-07-13-13-05_results',\n",
    "    'classicJercog_2000_0p25_cross-homeo-pre-scalar-homeo_guessGoodWeights2e3p025__2021-07-13-13-05_results',\n",
    "    'classicJercog_2000_0p25_cross-homeo-pre-scalar-homeo_guessLowActivityWeights2e3p025__2021-07-21-10-22_results',\n",
    ")"
   ]
  },
  {
   "cell_type": "code",
   "execution_count": 4,
   "metadata": {},
   "outputs": [],
   "source": [
    "crossHomeoSingleTermSessions = (\n",
    "    'classicJercog_5000_0p2_cross-homeo-pre-scalar_randomUniformSarayHigh__2021-07-02-10-05_results',\n",
    "    'classicJercog_5000_0p2_cross-homeo-pre-scalar_resumePrior__2021-07-21-12-52_results',\n",
    "    'classicJercog_5000_0p2_cross-homeo-pre-scalar_resumePrior__2021-07-22-09-28_results',\n",
    ")"
   ]
  },
  {
   "cell_type": "code",
   "execution_count": 60,
   "metadata": {},
   "outputs": [],
   "source": [
    "crossHomeoLogNormalSessions = (\n",
    "    'classicJercog_2000_0p25_cross-homeo-pre-scalar-homeo_seed0__2021-08-02-14-26_results',\n",
    "    'classicJercog_2000_0p25_cross-homeo-pre-scalar-homeo_resumePrior_seed0_2021-08-03-09-57_results',\n",
    "    'classicJercog_2000_0p25_cross-homeo-pre-scalar-homeo_seed8__2021-08-02-14-33_results',\n",
    "    'classicJercog_2000_0p25_cross-homeo-pre-scalar-homeo_resumePrior_seed8_2021-08-03-09-58_results',\n",
    "    'classicJercog_2000_0p25_cross-homeo-pre-scalar-homeo_guessGoodWeights2e3p025LogNormal__2021-08-02-14-15_results',  # DON'T USE THIS ONE\n",
    "    'classicJercog_2000_0p25_cross-homeo-pre-scalar-homeo_guessGoodWeights2e3p025LogNormal__2021-08-02-14-26_results', #\n",
    "    'classicJercog_2000_0p25_cross-homeo-pre-scalar_guessGoodWeights2e3p025LogNormal__2021-08-03-10-00_results', #\n",
    "    'classicJercog_2000_0p25_cross-homeo-pre-outer-homeo_guessGoodWeights2e3p025LogNormal__2021-08-03-10-00_results', #\n",
    ")"
   ]
  },
  {
   "cell_type": "code",
   "execution_count": 149,
   "metadata": {},
   "outputs": [],
   "source": [
    "crossHomeoLogNormalSessions2 = (\n",
    "    'classicJercog_2000_0p25_cross-homeo-pre-scalar-homeo_guessGoodWeights2e3p025LogNormal_movAvg4_2021-08-04-11-13_results',\n",
    "    'classicJercog_2000_0p25_cross-homeo-pre-scalar-homeo_guessGoodWeights2e3p025LogNormal_movAvg2_2021-08-04-11-12_results',\n",
    "    'classicJercog_2000_0p25_cross-homeo-scalar_guessGoodWeights2e3p025LogNormal_movAvg4_2021-08-04-11-32_results',\n",
    "    'classicJercog_2000_0p25_cross-homeo-scalar-homeo_guessGoodWeights2e3p025LogNormal_movAvg4_2021-08-04-11-42_results',\n",
    "    'classicJercog_2000_0p25_cross-homeo-pre-scalar-homeo_guessHighActivityWeights2e3p025LogNormal_movAvg1_2021-08-05-01-04_results',\n",
    "    'classicJercog_2000_0p25_cross-homeo-pre-scalar-homeo_guessZeroActivityWeights2e3p025LogNormal_movAvg1_2021-08-05-01-04_results',\n",
    "    'classicJercog_2000_0p25_cross-homeo-scalar_guessGoodWeights2e3p025LogNormal_movAvg1_2021-08-05-00-57_results',\n",
    "    'classicJercog_2000_0p25_cross-homeo-scalar-homeo_guessGoodWeights2e3p025LogNormal_movAvg1_2021-08-05-00-57_results',\n",
    ")"
   ]
  },
  {
   "cell_type": "code",
   "execution_count": 476,
   "metadata": {},
   "outputs": [],
   "source": [
    "crossHomeoLogNormalSessions3 = (\n",
    "    'classicJercog_2000_0p25_cross-homeo-pre-scalar-homeo_guessGoodWeights2e3p025LogNormal_movAvg1_2021-08-05-11-02_results',\n",
    "    'classicJercog_2000_0p25_cross-homeo-pre-scalar-homeo_guessGoodWeights2e3p025LogNormal_movAvg8_2021-08-05-11-03_results',\n",
    "    'classicJercog_2000_0p25_cross-homeo-scalar-homeo_guessHighActivityWeights2e3p025LogNormal_movAvg1_2021-08-05-11-12_results',\n",
    "    'classicJercog_2000_0p25_cross-homeo-scalar-homeo_guessUpperLeftWeights2e3p025LogNormal_movAvg1_2021-08-05-23-54_results',\n",
    "    'classicJercog_2000_0p25_cross-homeo-pre-scalar-homeo_guessZeroActivityWeights2e3p025LogNormal_movAvg8_2021-08-06-01-04_results',\n",
    "    'classicJercog_2000_0p25_cross-homeo-pre-outer-homeo_guessGoodWeights2e3p025LogNormal_movAvg8_2021-08-06-01-05_results',\n",
    "    'classicJercog_2000_0p25_cross-homeo-pre-outer-homeo_guessGoodWeights2e3p025LogNormal_movAvg1_2021-08-06-01-05_results',\n",
    "    'classicJercog_2000_0p25_cross-homeo-pre-scalar-homeo_guessLowerRightWeights2e3p025LogNormal_movAvg1_2021-08-06-09-01_results',\n",
    "    'classicJercog_2000_0p25_cross-homeo-pre-scalar-homeo-corrected_guessGoodWeights2e3p025LogNormal_movAvg1_2021-08-06-10-26_results',  # wrong correction 1\n",
    "    'classicJercog_2000_0p25_cross-homeo-pre-scalar-homeo-corrected2_guessGoodWeights2e3p025LogNormal_movAvg1_2021-08-06-10-26_results', # wrong correction 2\n",
    "    'classicJercog_2000_0p25_cross-homeo-pre-scalar-homeo_guessUpperLeftWeights2e3p025LogNormal_movAvg1_2021-08-06-10-42_results',\n",
    ")"
   ]
  },
  {
   "cell_type": "code",
   "execution_count": 30,
   "metadata": {},
   "outputs": [],
   "source": [
    "compareSeedSessions = (\n",
    "    'classicJercog_2000_0p25_cross-homeo-pre-scalar-homeo_seed4_testSeed_2021-08-03-12-11_results',\n",
    "    'classicJercog_2000_0p25_cross-homeo-pre-scalar-homeo_seed4_testSeed_2021-08-03-12-41_results'\n",
    ")"
   ]
  },
  {
   "cell_type": "code",
   "execution_count": 480,
   "metadata": {},
   "outputs": [],
   "source": [
    "for targetFile in crossHomeoLogNormalSessions3:\n",
    "\n",
    "    R = Results()\n",
    "    R.init_from_file(targetFile, targetPath)\n",
    "\n",
    "    if R.p['useRule'][:5] == 'cross':\n",
    "        R.p['alpha2'] = -1e-12\n",
    "        R.p['tauPlasticityTrials'] = None\n",
    "    elif R.p['useRule'] == 'homeo':\n",
    "        R.p['alpha2'] = -1e-12\n",
    "        R.p['tauPlasticityTrials'] = None\n",
    "        \n",
    "    if 'wEEScale' not in R.p:\n",
    "        R.p['wEEScale'] = None\n",
    "        R.p['wIEScale'] = None\n",
    "        R.p['wEIScale'] = None\n",
    "        R.p['wIIScale'] = None\n",
    "\n",
    "    importantInfoString = 'Name: {}\\nEE: {}, IE: {}, EI: {}, II: {}\\n tauFR={}, a1={:.4f} pA, a2={:.4f} pA, tauP={}'.format(R.rID,\n",
    "        R.p['wEEScale'],R.p['wIEScale'],R.p['wEIScale'],R.p['wIIScale'],\n",
    "        R.p['tauUpFRTrials'], R.p['alpha1'] / pA, R.p['alpha2'] / pA, R.p['tauPlasticityTrials'])\n",
    "\n",
    "    f, ax = plt.subplots(2, 1, sharex=True, figsize=(5, 9))\n",
    "\n",
    "    ax[0].plot(R.trialUpFRExc, label='E', color='g')\n",
    "    ax[0].plot(R.trialUpFRInh, label='I', color='r', alpha=.5)\n",
    "    ax[0].legend()\n",
    "    ax[0].hlines(R.p['setUpFRExc'], 0, len(R.trialUpFRExc), ls='--', color='g')\n",
    "    ax[0].hlines(R.p['setUpFRInh'], 0, len(R.trialUpFRInh), ls='--', color='r')\n",
    "    # ax[0].set_xlabel('Trial #')\n",
    "    ax[0].set_ylabel('Firing Rate (Hz)')\n",
    "    ax[0].set_ylim(0, 20)\n",
    "\n",
    "    ax[1].plot(R.trialwEE, label='wEE', color='cyan')\n",
    "    ax[1].plot(R.trialwIE, label='wIE', color='purple')\n",
    "    ax[1].plot(R.trialwEI, label='wEI', color='cyan', ls='--')\n",
    "    ax[1].plot(R.trialwII, label='wII', color='purple', ls='--')\n",
    "    ax[1].legend()\n",
    "    ax[1].set_xlabel('Trial #')\n",
    "    ax[1].set_ylabel('Weight (pA)')\n",
    "\n",
    "    f.suptitle(importantInfoString)"
   ]
  },
  {
   "cell_type": "code",
   "execution_count": null,
   "metadata": {},
   "outputs": [],
   "source": [
    "# targetFile = 'classicJercog_1000_0p5_cross-homeo_defaultNormal_slopeMovie_2021-06-11-09-33_results'  # reference successful cross-homeo\n",
    "# targetFile = 'classicJercog_1000_0p5_cross-homeo-pre-outer_defaultNormal_slopeMovie_2021-06-22-10-06_results'  # first try at outer\n",
    "# targetFile = 'classicJercog_1000_0p5_cross-homeo-pre-outer_defaultNormal_evenSmallerAlpha_2021-06-22-10-17_results'  # same with smaller alpha\n",
    "# targetFile = 'classicJercog_1000_0p5_cross-homeo-pre-outer-homeo_defaultNormal_evenSmallerAlpha_2021-06-22-10-37_results'  # first try at outer with the homeo as well\n",
    "# targetFile = 'classicJercog_1000_0p5_cross-homeo-pre-elementwise-homeo_defaultNormal_evenSmallerAlpha_2021-06-22-11-09_results'  # elementwise with homeo\n",
    "# targetFile = 'classicJercog_1000_0p5_cross-homeo-pre-outer_defaultNormal_fixDimsMaybe_2021-06-22-11-35_results'  # name says it\n",
    "# targetFile = 'classicJercog_1000_0p5_cross-homeo-pre-elementwise_defaultNormal_fixDimsMaybe_2021-06-22-11-52_results'  # name says it\n",
    "# targetFile = 'classicJercog_1000_0p5_cross-homeo-pre-outer-homeo_defaultNormal_fixDimsMaybeLilHigherAlpha_2021-06-22-12-07_results'\n",
    "# targetFile = 'classicJercog_1000_0p5_cross-homeo-pre-elementwise-homeo_defaultNormal_fixDimsMaybeLilHigherAlpha_2021-06-22-12-56_results'\n",
    "# targetFile = 'classicJercog_1000_0p5_cross-homeo-pre-outer_randomUniformSarayHigh_fixDimsMaybeLilHigherAlpha_2021-06-22-13-20_results'\n",
    "# targetFile = 'classicJercog_1000_0p5_cross-homeo-pre-elementwise_randomUniformSarayHigh_fixDimsMaybeLilHigherAlpha_2021-06-22-13-20_results'\n",
    "# targetFile = 'classicJercog_1000_0p5_cross-homeo-pre-scalar-homeo_defaultNormal_evenHigherAlpha_2021-06-23-12-01_results'\n",
    "# targetFile = 'classicJercog_1000_0p5_cross-homeo-pre-scalar-homeo_randomUniformSarayHigh_evenHigherAlpha_2021-06-24-00-35_results'\n",
    "# targetFile = 'classicJercog_1000_0p5_cross-homeo-pre-outer-homeo_randomUniformMidUnequal_evenHigherAlpha_2021-06-25-00-32_results'\n",
    "# targetFile = 'classicJercog_5000_0p2_cross-homeo-pre-scalar-homeo_defaultNormal_weightScaleC2_highAlpha_2021-06-29-00-01_results'\n",
    "# targetFile = 'classicJercog_5000_0p2_cross-homeo-pre-scalar_defaultNormal_weightScaleC2_highAlpha_2021-06-29-00-02_results'\n",
    "\n",
    "# targetFile = 'classicJercog_1000_0p5_cross-homeo-pre-scalar_defaultNormal_evenHigherAlpha_2021-06-23-12-01_results'\n",
    "# targetFile = 'classicJercog_1000_0p5_cross-homeo-pre-scalar_defaultNormal_evenHigherAlpha_2021-06-23-12-01_results'\n",
    "# targetFile = 'classicJercog_1000_0p5_cross-homeo-pre-scalar-homeo_defaultNormal_evenHigherAlpha_2021-06-23-12-01_results'\n",
    "# targetFile = 'classicJercog_5000_0p2_cross-homeo-pre-scalar-homeo_randomUniformSarayHigh__2021-07-02-10-04_results'\n",
    "# targetFile = 'classicJercog_5000_0p2_cross-homeo-pre-scalar-homeo_randomUniformSarayHigh5e3p02Converge__2021-07-10-09-20_results',\n",
    "# targetFile = 'classicJercog_5000_0p2_cross-homeo-pre-outer-homeo_randomUniformSarayHigh5e3p02Converge__2021-07-10-09-19_results',\n",
    "\n",
    "# targetFile = 'classicJercog_5000_0p2_cross-homeo-pre-outer_randomUniformSarayHigh5e3p02Converge__2021-07-10-09-20_results'\n",
    "# targetFile = 'classicJercog_5000_0p2_cross-homeo-pre-scalar_randomUniformSarayHigh__2021-07-02-10-05_results'\n",
    "# targetFile = 'classicJercog_5000_0p2_cross-homeo-pre-scalar-homeo_randomUniformSarayHigh__2021-07-02-10-04_results'\n",
    "# targetFile = 'classicJercog_5000_0p2_cross-homeo-pre-scalar_randomUniformSarayHigh5e3p02Converge__2021-07-10-09-20_results'\n",
    "# targetFile = 'classicJercog_5000_0p2_homeo_randomUniformSarayHigh5e3p02Converge__2021-07-14-23-38_results'\n",
    "# targetFile = 'classicJercog_5000_0p2_cross-homeo-pre-scalar_randomUniformSarayHigh__2021-07-02-10-05_results'\n",
    "# targetFile = 'classicJercog_5000_0p2_cross-homeo-pre-scalar_randomUniformSarayHigh__2021-07-02-10-05_results'\n",
    "# targetFile = 'classicJercog_5000_0p2_cross-homeo-pre-scalar_resumePrior__2021-07-21-12-52_results'\n",
    "# targetFile = 'classicJercog_2000_0p25_cross-homeo-pre-scalar-homeo_guessGoodWeights2e3p025LogNormal__2021-08-02-14-15_results'\n",
    "# targetFile = 'classicJercog_2000_0p25_cross-homeo-pre-scalar-homeo_guessGoodWeights2e3p025LogNormal__2021-08-02-14-26_results'\n",
    "# targetFile = 'classicJercog_2000_0p25_cross-homeo-pre-scalar-homeo_seed0__2021-08-02-14-26_results'\n",
    "# targetFile = 'classicJercog_2000_0p25_cross-homeo-pre-scalar-homeo_seed8__2021-08-02-14-33_results'\n",
    "\n",
    "# targetFile = 'classicJercog_2000_0p25_cross-homeo-pre-scalar-homeo_guessGoodWeights2e3p025LogNormal__2021-08-02-14-26_results' #\n",
    "# targetFile = 'classicJercog_2000_0p25_cross-homeo-pre-scalar_guessGoodWeights2e3p025LogNormal__2021-08-03-10-00_results' #\n",
    "# targetFile = 'classicJercog_2000_0p25_cross-homeo-pre-outer-homeo_guessGoodWeights2e3p025LogNormal__2021-08-03-10-00_results' #"
   ]
  },
  {
   "cell_type": "code",
   "execution_count": null,
   "metadata": {},
   "outputs": [],
   "source": []
  },
  {
   "cell_type": "code",
   "execution_count": null,
   "metadata": {},
   "outputs": [],
   "source": []
  },
  {
   "cell_type": "code",
   "execution_count": 15,
   "metadata": {},
   "outputs": [
    {
     "data": {
      "text/plain": [
       "[<matplotlib.lines.Line2D at 0x1c20d6a2308>]"
      ]
     },
     "execution_count": 15,
     "metadata": {},
     "output_type": "execute_result"
    }
   ],
   "source": [
    "# this is shitty\n",
    "\n",
    "f, ax = plt.subplots()\n",
    "\n",
    "movAvgWidth = 10\n",
    "\n",
    "wEEDiffAbsMAvg = np.fabs(R.trialdwEEUnits).mean(1)\n",
    "wEIDiffAbsMAvg = np.fabs(R.trialdwEIUnits).mean(1)\n",
    "wIEDiffAbsMAvg = np.fabs(R.trialdwIEUnits).mean(1)\n",
    "wIIDiffAbsMAvg = np.fabs(R.trialdwIIUnits).mean(1)\n",
    "\n",
    "ax.plot(wEEDiffAbsMAvg)\n",
    "ax.plot(wEIDiffAbsMAvg)\n",
    "ax.plot(wIEDiffAbsMAvg)\n",
    "ax.plot(wIIDiffAbsMAvg)"
   ]
  },
  {
   "cell_type": "code",
   "execution_count": 32,
   "metadata": {},
   "outputs": [],
   "source": [
    "plt.close('all')"
   ]
  },
  {
   "cell_type": "code",
   "execution_count": 43,
   "metadata": {
    "scrolled": true
   },
   "outputs": [
    {
     "data": {
      "text/plain": [
       "(0, 600)"
      ]
     },
     "execution_count": 43,
     "metadata": {},
     "output_type": "execute_result"
    }
   ],
   "source": [
    "# v1\n",
    "\n",
    "f, ax = plt.subplots()\n",
    "\n",
    "movAvgWidth = 10\n",
    "\n",
    "wEEDiffAbsMAvg = moving_average(np.ediff1d(R.trialwEE), movAvgWidth)\n",
    "wEIDiffAbsMAvg = moving_average(np.ediff1d(R.trialwEI), movAvgWidth)\n",
    "wIEDiffAbsMAvg = moving_average(np.ediff1d(R.trialwIE), movAvgWidth)\n",
    "wIIDiffAbsMAvg = moving_average(np.ediff1d(R.trialwII), movAvgWidth)\n",
    "\n",
    "ax.plot(wEEDiffAbsMAvg)\n",
    "ax.plot(wEIDiffAbsMAvg)\n",
    "ax.plot(wIEDiffAbsMAvg)\n",
    "ax.plot(wIIDiffAbsMAvg)\n",
    "ax.hlines(0, 0, R.trialwEE.size)\n",
    "ax.set_xlim(0, 600)"
   ]
  },
  {
   "cell_type": "code",
   "execution_count": 78,
   "metadata": {
    "scrolled": true
   },
   "outputs": [
    {
     "data": {
      "text/plain": [
       "(0, 0.1)"
      ]
     },
     "execution_count": 78,
     "metadata": {},
     "output_type": "execute_result"
    }
   ],
   "source": [
    "# v1.2\n",
    "\n",
    "f, ax = plt.subplots(num=1)\n",
    "\n",
    "movAvgWidth = 31\n",
    "\n",
    "wEEDiffAbsMAvg = np.fabs(moving_average(np.ediff1d(R.trialwEE), movAvgWidth))\n",
    "wEIDiffAbsMAvg = np.fabs(moving_average(np.ediff1d(R.trialwEI), movAvgWidth))\n",
    "wIEDiffAbsMAvg = np.fabs(moving_average(np.ediff1d(R.trialwIE), movAvgWidth))\n",
    "wIIDiffAbsMAvg = np.fabs(moving_average(np.ediff1d(R.trialwII), movAvgWidth))\n",
    "\n",
    "wSum = wEEDiffAbsMAvg + wEIDiffAbsMAvg + wIEDiffAbsMAvg + wIIDiffAbsMAvg\n",
    "\n",
    "ax.plot(wSum)\n",
    "ax.hlines(0, 0, R.trialwEE.size)\n",
    "ax.hlines(wSum.mean(), 0, R.trialwEE.size, color='r', ls='--')\n",
    "ax.hlines(wSum.mean() + np.std(wSum), 0, R.trialwEE.size, color='g', ls='--')\n",
    "ax.set_xlim(0, 600)\n",
    "ax.set_ylim(0, 0.1)"
   ]
  },
  {
   "cell_type": "code",
   "execution_count": 88,
   "metadata": {},
   "outputs": [
    {
     "data": {
      "text/plain": [
       "309"
      ]
     },
     "execution_count": 88,
     "metadata": {},
     "output_type": "execute_result"
    }
   ],
   "source": [
    "firstConvergentInd"
   ]
  },
  {
   "cell_type": "code",
   "execution_count": 84,
   "metadata": {},
   "outputs": [
    {
     "data": {
      "text/plain": [
       "(0, 600)"
      ]
     },
     "execution_count": 84,
     "metadata": {},
     "output_type": "execute_result"
    }
   ],
   "source": [
    "f, ax = plt.subplots(num=2)\n",
    "\n",
    "ax.plot(belowThreshBoolMAvg)\n",
    "ax.set_xlim(0, 600)"
   ]
  },
  {
   "cell_type": "code",
   "execution_count": 54,
   "metadata": {},
   "outputs": [
    {
     "data": {
      "text/plain": [
       "0.01635359612327642"
      ]
     },
     "execution_count": 54,
     "metadata": {},
     "output_type": "execute_result"
    }
   ],
   "source": [
    "wSum.mean()"
   ]
  },
  {
   "cell_type": "code",
   "execution_count": 55,
   "metadata": {},
   "outputs": [
    {
     "data": {
      "text/plain": [
       "0.060893115022726776"
      ]
     },
     "execution_count": 55,
     "metadata": {},
     "output_type": "execute_result"
    }
   ],
   "source": [
    "np.std(wSum)"
   ]
  },
  {
   "cell_type": "code",
   "execution_count": 40,
   "metadata": {
    "scrolled": true
   },
   "outputs": [
    {
     "data": {
      "text/plain": [
       "(0, 600)"
      ]
     },
     "execution_count": 40,
     "metadata": {},
     "output_type": "execute_result"
    }
   ],
   "source": [
    "# v2.2 - trying to improve\n",
    "\n",
    "f, ax = plt.subplots()\n",
    "\n",
    "movAvgWidth = 10\n",
    "\n",
    "wEEDiffAbsMAvg = np.fabs(np.ediff1d(R.trialwEE))\n",
    "wEIDiffAbsMAvg = np.fabs(np.ediff1d(R.trialwEI))\n",
    "wIEDiffAbsMAvg = np.fabs(np.ediff1d(R.trialwIE))\n",
    "wIIDiffAbsMAvg = np.fabs(np.ediff1d(R.trialwII))\n",
    "\n",
    "wSum = wEEDiffAbsMAvg + wEIDiffAbsMAvg + wIEDiffAbsMAvg + wIIDiffAbsMAvg\n",
    "\n",
    "ax.plot(wSum)\n",
    "ax.set_xlim(0, 600)"
   ]
  },
  {
   "cell_type": "code",
   "execution_count": 29,
   "metadata": {},
   "outputs": [
    {
     "data": {
      "text/plain": [
       "(0, 600)"
      ]
     },
     "execution_count": 29,
     "metadata": {},
     "output_type": "execute_result"
    }
   ],
   "source": [
    "f, ax = plt.subplots()\n",
    "\n",
    "movAvgWidth = 10\n",
    "\n",
    "FRExcDiffAbsMAvg = np.ediff1d(R.trialUpFRExc)\n",
    "FRInhDiffAbsMAvg = np.ediff1d(R.trialUpFRInh)\n",
    "\n",
    "# FRExcDiffAbsMAvg = moving_average(np.fabs(np.ediff1d(R.trialUpFRExc)), movAvgWidth)\n",
    "# FRInhDiffAbsMAvg = moving_average(np.fabs(np.ediff1d(R.trialUpFRInh)), movAvgWidth)\n",
    "\n",
    "ax.plot(FRExcDiffAbsMAvg, alpha=0.5)\n",
    "ax.plot(FRInhDiffAbsMAvg, alpha=0.5)\n",
    "ax.set_xlim(0, 600)"
   ]
  },
  {
   "cell_type": "code",
   "execution_count": 30,
   "metadata": {},
   "outputs": [
    {
     "data": {
      "text/plain": [
       "(0, 600)"
      ]
     },
     "execution_count": 30,
     "metadata": {},
     "output_type": "execute_result"
    }
   ],
   "source": [
    "# difference of the FR from the set-point\n",
    "\n",
    "f, ax = plt.subplots()\n",
    "\n",
    "movAvgWidth = 20\n",
    "\n",
    "FRExcDiffAbsMAvg = moving_average(np.fabs(R.trialUpFRExc - R.p['setUpFRExc'] / Hz), movAvgWidth)\n",
    "FRInhDiffAbsMAvg = moving_average(np.fabs(R.trialUpFRInh - R.p['setUpFRInh'] / Hz), movAvgWidth)\n",
    "\n",
    "# FRExcDiffAbsMAvg = moving_average(np.fabs(np.ediff1d(R.trialUpFRExc)), movAvgWidth)\n",
    "# FRInhDiffAbsMAvg = moving_average(np.fabs(np.ediff1d(R.trialUpFRInh)), movAvgWidth)\n",
    "\n",
    "ax.plot(FRExcDiffAbsMAvg, alpha=0.5)\n",
    "ax.plot(FRInhDiffAbsMAvg, alpha=0.5)\n",
    "ax.set_xlim(0, 600)"
   ]
  },
  {
   "cell_type": "code",
   "execution_count": null,
   "metadata": {},
   "outputs": [],
   "source": [
    "# downSampleFactorForE = 0.025\n",
    "# downSampleFactorForI = 0.1\n",
    "\n",
    "# get summed presynaptic input to each unit\n",
    "\n",
    "# wEEInitP = np.nansum(wEEInit, 0)\n",
    "# wIEInitP = np.nansum(wIEInit, 0)\n",
    "# wEIInitP = np.nansum(wEIInit, 0)\n",
    "# wIIInitP = np.nansum(wIIInit, 0)\n",
    "\n",
    "# wEEFinalP = np.nansum(wEEFinal, 0)\n",
    "# wIEFinalP = np.nansum(wIEFinal, 0)\n",
    "# wEIFinalP = np.nansum(wEIFinal, 0)\n",
    "# wIIFinalP = np.nansum(wIIFinal, 0)\n",
    "\n",
    "# downSampleNForE = int(downSampleFactorForE * R.p['nExc'])\n",
    "# downSampleNForI = int(downSampleFactorForI * R.p['nInh'])\n",
    "\n",
    "# downSampleE = np.random.choice(R.p['nExc'], size=downSampleNForE, replace=False)\n",
    "# downSampleI = np.random.choice(R.p['nInh'], size=downSampleNForI, replace=False)\n",
    "\n",
    "print('wEE mult:', R.wEE_final.mean() / R.wEE_init.mean())\n",
    "print('wIE mult:', R.wIE_final.mean() / R.wIE_init.mean())\n",
    "print('wEI mult:', R.wEI_final.mean() / R.wEI_init.mean())\n",
    "print('wII mult:', R.wII_final.mean() / R.wII_init.mean())"
   ]
  },
  {
   "cell_type": "code",
   "execution_count": 28,
   "metadata": {},
   "outputs": [],
   "source": [
    "targetFile1 = 'classicJercog_2000_0p25_cross-homeo-pre-scalar-homeo_seed0__2021-08-21-09-33_results'\n",
    "targetFile2 = 'classicJercog_2000_0p25_cross-homeo-pre-scalar-homeo_resumePrior_seed0_2021-08-24-12-33_results'\n",
    "\n",
    "targetFile1 = 'classicJercog_2000_0p25_cross-homeo-pre-scalar-homeo_seed1__2021-08-21-09-34_results'\n",
    "targetFile2 = 'classicJercog_2000_0p25_cross-homeo-pre-scalar-homeo_resumePrior_seed1_2021-08-24-12-34_results'\n",
    "\n",
    "targetFile1 = 'classicJercog_2000_0p25_cross-homeo-pre-scalar-homeo_seed2__2021-08-21-09-34_results'\n",
    "targetFile2 = 'classicJercog_2000_0p25_cross-homeo-pre-scalar-homeo_resumePrior_seed2_2021-08-24-12-34_results'\n",
    "\n",
    "targetFile1 = 'classicJercog_2000_0p25_cross-homeo-pre-scalar-homeo_seed3__2021-08-21-09-34_results'\n",
    "targetFile2 = 'classicJercog_2000_0p25_cross-homeo-pre-scalar-homeo_resumePrior_seed3_2021-08-24-12-34_results'\n",
    "\n",
    "targetFile1 = 'classicJercog_2000_0p25_cross-homeo-pre-scalar-homeo_seed4__2021-08-21-10-12_results'\n",
    "targetFile2 = 'classicJercog_2000_0p25_cross-homeo-pre-scalar-homeo_resumePrior_seed4_2021-08-24-12-49_results'\n",
    "\n",
    "targetFile1 = 'classicJercog_2000_0p25_cross-homeo-pre-scalar-homeo_seed5__2021-08-21-10-12_results'\n",
    "targetFile2 = 'classicJercog_2000_0p25_cross-homeo-pre-scalar-homeo_resumePrior_seed5_2021-08-24-12-51_results'\n",
    "\n",
    "targetFile1 = 'classicJercog_2000_0p25_cross-homeo-pre-scalar-homeo_seed6__2021-08-21-10-11_results'\n",
    "targetFile2 = 'classicJercog_2000_0p25_cross-homeo-pre-scalar-homeo_resumePrior_seed6_2021-08-24-12-52_results'\n",
    "\n",
    "targetFile1 = 'classicJercog_2000_0p25_cross-homeo-pre-scalar-homeo_seed7__2021-08-21-10-11_results'\n",
    "targetFile2 = 'classicJercog_2000_0p25_cross-homeo-pre-scalar-homeo_resumePrior_seed7_2021-08-24-13-20_results'\n",
    "\n",
    "targetFile1 = 'classicJercog_2000_0p25_cross-homeo-pre-scalar-homeo_seed8__2021-08-21-10-11_results'\n",
    "targetFile2 = 'classicJercog_2000_0p25_cross-homeo-pre-scalar-homeo_resumePrior_seed8_2021-08-24-13-20_results'\n",
    "\n",
    "targetFile1 = 'classicJercog_2000_0p25_cross-homeo-pre-scalar-homeo-reMean_seed0_reMean_2021-08-20-10-07_results'\n",
    "targetFile1 = 'classicJercog_2000_0p25_cross-homeo-pre-scalar-homeo-reMean_resumePrior_seed0reMean_2021-08-24-23-31_results'\n",
    "\n",
    "targetFile1 = 'classicJercog_2000_0p25_cross-homeo-pre-scalar-homeo-reMean_seed1_reMean_2021-08-20-10-07_results'\n",
    "targetFile1 = 'classicJercog_2000_0p25_cross-homeo-pre-scalar-homeo-reMean_resumePrior_seed1reMean_2021-08-24-23-32_results'\n",
    "\n",
    "targetFile1 = 'classicJercog_2000_0p25_cross-homeo-pre-scalar-homeo-reMean_seed2_reMean_2021-08-20-10-08_results'\n",
    "targetFile1 = 'classicJercog_2000_0p25_cross-homeo-pre-scalar-homeo-reMean_resumePrior_seed2reMean_2021-08-24-23-32_results'\n",
    "\n",
    "targetFile1 = 'classicJercog_2000_0p25_cross-homeo-pre-scalar-homeo-reMean_seed3_reMean_2021-08-20-10-08_results'\n",
    "targetFile2 = 'classicJercog_2000_0p25_cross-homeo-pre-scalar-homeo-reMean_resumePrior_seed3reMean_2021-08-24-23-32_results'\n",
    "\n",
    "targetFile1 = 'classicJercog_2000_0p25_cross-homeo-pre-scalar-homeo-reMean_seed4_reMean_2021-08-20-15-13_results'\n",
    "targetFile1 = ''\n",
    "\n",
    "targetFile1 = 'classicJercog_2000_0p25_cross-homeo-pre-scalar-homeo-reMean_seed5_reMean_2021-08-20-15-15_results'\n",
    "targetFile1 = ''\n",
    "\n",
    "targetFile1 = 'classicJercog_2000_0p25_cross-homeo-pre-scalar-homeo-reMean_seed6_reMean_2021-08-20-15-15_results'\n",
    "targetFile1 = ''\n",
    "\n",
    "targetFile1 = 'classicJercog_2000_0p25_cross-homeo-pre-scalar-homeo-reMean_seed7_reMean_2021-08-20-15-15_results'\n",
    "targetFile1 = ''\n",
    "\n",
    "targetFile1 = 'classicJercog_2000_0p25_cross-homeo-pre-scalar-homeo-reMean_seed8_reMean_2021-08-20-15-15_results'\n",
    "targetFile1 = ''"
   ]
  }
 ],
 "metadata": {
  "kernelspec": {
   "display_name": "Python 3",
   "language": "python",
   "name": "python3"
  },
  "language_info": {
   "codemirror_mode": {
    "name": "ipython",
    "version": 3
   },
   "file_extension": ".py",
   "mimetype": "text/x-python",
   "name": "python",
   "nbconvert_exporter": "python",
   "pygments_lexer": "ipython3",
   "version": "3.7.6"
  }
 },
 "nbformat": 4,
 "nbformat_minor": 4
}

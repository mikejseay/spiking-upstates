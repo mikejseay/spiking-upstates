{
 "cells": [
  {
   "cell_type": "code",
   "execution_count": 1,
   "metadata": {},
   "outputs": [],
   "source": [
    "# to add the spiking model codebase to the path\n",
    "import sys\n",
    "sys.path.append('..')"
   ]
  },
  {
   "cell_type": "code",
   "execution_count": 2,
   "metadata": {},
   "outputs": [
    {
     "name": "stdout",
     "output_type": "stream",
     "text": [
      "Using matplotlib backend: Qt5Agg\n"
     ]
    }
   ],
   "source": [
    "%matplotlib\n",
    "import matplotlib.pyplot as plt\n",
    "import matplotlib.colors as colors\n",
    "import numpy as np"
   ]
  },
  {
   "cell_type": "code",
   "execution_count": 3,
   "metadata": {},
   "outputs": [],
   "source": [
    "# goal: plot results of a learning run: average firing rate and weight changes"
   ]
  },
  {
   "cell_type": "code",
   "execution_count": 194,
   "metadata": {
    "scrolled": true
   },
   "outputs": [],
   "source": [
    "from results import Results\n",
    "from plot import MidpointNormalize, weight_matrix\n",
    "from generate import weight_matrix_from_flat_inds_weights"
   ]
  },
  {
   "cell_type": "code",
   "execution_count": 78,
   "metadata": {},
   "outputs": [],
   "source": [
    "from brian2 import pA"
   ]
  },
  {
   "cell_type": "code",
   "execution_count": 216,
   "metadata": {},
   "outputs": [],
   "source": [
    "plt.close('all')"
   ]
  },
  {
   "cell_type": "code",
   "execution_count": 114,
   "metadata": {},
   "outputs": [],
   "source": [
    "# TODO: REMEMBER TO RE-RUN THE FIRST COUPLE WITH LESS SCALING TO MAKE SURE THAT'S THE PROBLEM"
   ]
  },
  {
   "cell_type": "code",
   "execution_count": 213,
   "metadata": {},
   "outputs": [],
   "source": [
    "targetPath = 'C:/Users/mikejseay/Documents/BrianResults/'\n",
    "\n",
    "# targetFile = 'jercogDefaultP05_2021-04-18-18-58_results'  # cross-homeo\n",
    "# targetFile = 'jercogDefaultP05_2021-04-18-21-36_results'  # balance\n",
    "# targetFile = 'jercogDefaultP05_2021-04-18-23-01_results'  # test\n",
    "\n",
    "# targetFile = 'destexheDefaultP02_2021-04-19-22-43_results'  # cross-homeo\n",
    "\n",
    "# weight changes customized separately\n",
    "# targetFile = 'jercogDefault_1e3_P05_randn_2021-04-23-00-52_cross-homeo_results'  # starting from good weights?\n",
    "# targetFile = 'jercogDefault_1e3_P05_randn_2021-04-23-01-17_cross-homeo_results'  # starting from bad weights\n",
    "# targetFile = 'jercogDefault_1e3_P05_randn_2021-04-24-20-55_balance_results'  # starting from good weights?\n",
    "# targetFile = 'jercogDefault_1e3_P05_randn_2021-04-25-15-07_balance_results'  # starting from bad weights\n",
    "# targetFile = 'jercogDefault_1e3_P05_randn_2021-04-25-21-10_balance_results'  # starting from good weights?\n",
    "# targetFile = 'jercogDefault_1e3_P05_randn_2021-04-26-08-56_balance_results'  # starting from good weights?\n",
    "# targetFile = 'jercogDefault_1e3_P05_randn_2021-04-26-09-11_balance_results'  # starting from good weights, no weight change scaling\n",
    "# targetFile = 'jercogDefault_1e3_P05_randn_2021-04-26-11-26_balance_results'  # starting from good weights, weight change scaling\n",
    "# targetFile = 'jercogDefault_1e3_P05_randn_2021-04-26-14-10_balance_results'  # starting from good weights, weight change scaling with the membrane tau scaling\n",
    "# targetFile = 'jercogDefault_1e3_P05_randn_2021-04-26-16-25_balance_results'  # starting from good weights, weight change scaling with the membrane tau scaling, alpha 10x\n",
    "# targetFile = 'jercogDefault_1e3_P05_randn_2021-04-26-16-27_balance_results'  # carefully altered init weights (.75, 1.25, 1.5, 0.5), weight change scaling with the membrane tau scaling, alpha 10x\n",
    "# targetFile = 'jercogDefault_1e3_P05_randn_2021-04-26-16-56_balance_results'  # random init weights, weight change scaling with the membrane tau scaling, alpha 10x\n",
    "\n",
    "# targetFile = 'jercogDefault_1e3_P05_randn_repro_2021-04-27-18-23_balance_results'  # good params regained!!\n",
    "# targetFile = 'jercogDefault_1e3_P05_randn_repro_2021-04-27-18-32_balance_results'  \n",
    "# targetFile = 'jercogDefault_1e3_P05_randn_repro_2021-04-27-20-00_balance_results'\n",
    "# targetFile = 'jercogDefault_1e3_P05_randn_repro_2021-04-27-20-04_balance_results'\n",
    "# targetFile = 'jercogDefault_1e3_P05_randn_repro_2021-04-27-21-47_balance_results'\n",
    "# targetFile = 'jercogDefault_1e3_P05_randn_repro_2021-04-28-06-22_balance_results'\n",
    "# targetFile = 'jercogDefault_1e3_P05_randn_repro_2021-04-28-06-51_balance_results'\n",
    "\n",
    "# at this point i realized that i had been initializing the weights wrong by swapping the EI and IE weights...\n",
    "\n",
    "# targetFile = 'jercogDefault_1e3_P05_randn_repro_2021-04-28-09-42_balance_results'\n",
    "# targetFile = 'jercogDefault_1e3_P05_randn_repro_2021-04-28-09-52_balance_results'\n",
    "# targetFile = 'jercogDefault_1e3_P05_rand_2021-04-28-11-31_balance_results'\n",
    "# targetFile = 'jercogDefault_1e3_P05_rand_2021-04-28-12-03_balance_results'\n",
    "\n",
    "# targetFile = 'jercogDefault_1e3_P05_rand_2021-04-28-13-55_balance_results'\n",
    "# targetFile = 'jercogDefault_1e3_P05_rand_2021-04-28-13-58_balance_results'\n",
    "\n",
    "# targetFile = 'jercogDefault_1e3_P05_eqwts_noscale_2021-04-28-16-40_balance_results'\n",
    "# targetFile = 'jercogDefault_1e3_P05_eqwts_halfscale_2021-04-28-16-40_balance_results'\n",
    "targetFile = 'jercogDefault_1e3_P05_eqwts_noUnlessRefract_2021-04-28-21-30_balance_results'"
   ]
  },
  {
   "cell_type": "code",
   "execution_count": 214,
   "metadata": {},
   "outputs": [],
   "source": [
    "R = Results()\n",
    "R.init_from_file(targetFile, targetPath)\n",
    "R.p['useRule']\n",
    "importantInfoString = 'Name: {}\\nEE: {}, IE: {}, EI: {}, II: {}\\n tauFR={}, a1={} pA, a2={} pA, tauP={}'.format(R.rID,\n",
    "    R.p['wEEScale'],R.p['wIEScale'],R.p['wEIScale'],R.p['wIIScale'],\n",
    "    R.p['tauUpFRTrials'], R.p['alpha1'] / pA, R.p['alpha2'] / pA, R.p['tauPlasticityTrials'])"
   ]
  },
  {
   "cell_type": "code",
   "execution_count": 215,
   "metadata": {
    "scrolled": true
   },
   "outputs": [
    {
     "data": {
      "text/plain": [
       "Text(0.5, 0.98, 'Name: jercogDefault_1e3_P05_eqwts_noUnlessRefract_2021-04-28-21-30_balance\\nEE: 0.25, IE: 0.125, EI: 1.0, II: 0.5\\n tauFR=2, a1=0.1 pA, a2=0.01 pA, tauP=500')"
      ]
     },
     "execution_count": 215,
     "metadata": {},
     "output_type": "execute_result"
    }
   ],
   "source": [
    "f, ax = plt.subplots(2, 1, sharex=True, figsize=(5, 9))\n",
    "\n",
    "ax[0].plot(R.trialUpFRExc, label='E', color='g')\n",
    "ax[0].plot(R.trialUpFRInh, label='I', color='r', alpha=.5)\n",
    "ax[0].legend()\n",
    "ax[0].hlines(R.p['setUpFRExc'], 0, len(R.trialUpFRExc), ls='--', color='g')\n",
    "ax[0].hlines(R.p['setUpFRInh'], 0, len(R.trialUpFRInh), ls='--', color='r')\n",
    "# ax[0].set_xlabel('Trial #')\n",
    "ax[0].set_ylabel('Firing Rate (Hz)')\n",
    "ax[0].set_ylim(0, 20)\n",
    "\n",
    "ax[1].plot(R.trialwEE, label='wEE', color='cyan')\n",
    "ax[1].plot(R.trialwIE, label='wIE', color='purple')\n",
    "ax[1].plot(R.trialwEI, label='wEI', color='cyan', ls='--')\n",
    "ax[1].plot(R.trialwII, label='wII', color='purple', ls='--')\n",
    "ax[1].legend()\n",
    "ax[1].set_xlabel('Trial #')\n",
    "ax[1].set_ylabel('Weight (pA)')\n",
    "\n",
    "f.suptitle(importantInfoString)"
   ]
  },
  {
   "cell_type": "code",
   "execution_count": 197,
   "metadata": {
    "collapsed": true
   },
   "outputs": [
    {
     "data": {
      "text/plain": [
       "{'saveFolder': 'C:/Users/mikejseay/Documents/BrianResults/',\n",
       " 'simName': 'jercogDefault_1e3_P05_rand',\n",
       " 'saveWithDate': True,\n",
       " 'dt': 100. * usecond,\n",
       " 'duration': 1.5 * second,\n",
       " 'updateMethod': 'euler',\n",
       " 'reportType': 'stdout',\n",
       " 'reportPeriod': 10. * second,\n",
       " 'doProfile': False,\n",
       " 'propSpikemon': 1,\n",
       " 'recordStateVariables': ['v'],\n",
       " 'indsRecordStateExc': [0, 799],\n",
       " 'indsRecordStateInh': [0],\n",
       " 'nUnits': 1000.0,\n",
       " 'propInh': 0.2,\n",
       " 'propConnect': 0.5,\n",
       " 'propKicked': 0.1,\n",
       " 'kickMode': 'Poisson',\n",
       " 'kickTau': 0.5 * msecond,\n",
       " 'kickDur': 2. * msecond,\n",
       " 'kickLambda': 0.4 * second,\n",
       " 'kickMinimumISI': 1. * second,\n",
       " 'kickMaximumISI': 10. * second,\n",
       " 'kickTimes': [100. * msecond],\n",
       " 'kickSizes': [1],\n",
       " 'kickAmplitudeExc': 2.2 * namp,\n",
       " 'kickAmplitudeInh': 0.88 * namp,\n",
       " 'noiseSigma': 2.5 * mvolt,\n",
       " 'eLeakExc': 7.6 * mvolt,\n",
       " 'eLeakInh': 6.5 * mvolt,\n",
       " 'vResetExc': 14. * mvolt,\n",
       " 'vResetInh': 14. * mvolt,\n",
       " 'vThreshExc': 20. * mvolt,\n",
       " 'vThreshInh': 20. * mvolt,\n",
       " 'adaptTau': 0.5 * second,\n",
       " 'adaptStrengthExc': 15. * mvolt,\n",
       " 'adaptStrengthInh': 0. * volt,\n",
       " 'refractoryPeriodExc': 2.5 * msecond,\n",
       " 'refractoryPeriodInh': 1. * msecond,\n",
       " 'refractoryPeriod': 1. * msecond,\n",
       " 'membraneCapacitanceExc': 200. * pfarad,\n",
       " 'membraneCapacitanceInh': 100. * pfarad,\n",
       " 'gLeakExc': 10. * nsiemens,\n",
       " 'gLeakInh': 10. * nsiemens,\n",
       " 'betaAdaptExc': 3. * pcoulomb,\n",
       " 'betaAdaptInh': 0. * coulomb,\n",
       " 'jEE': 2.8 * namp,\n",
       " 'jEI': 0.7 * namp,\n",
       " 'jIE': 5. * namp,\n",
       " 'jII': 1. * namp,\n",
       " 'tauRiseExc': 8. * msecond,\n",
       " 'tauFallExc': 23. * msecond,\n",
       " 'tauRiseInh': 1. * msecond,\n",
       " 'tauFallInh': 1. * msecond,\n",
       " 'delayExc': 1. * msecond,\n",
       " 'delayInh': 0.5 * msecond,\n",
       " 'scaleWeightsByPConn': True,\n",
       " 'critExc': 0.784 * volt,\n",
       " 'critInh': 0.67625 * volt,\n",
       " 'nIncInh': 100,\n",
       " 'nIncExc': 400,\n",
       " 'onlyKickExc': True,\n",
       " 'iKickRecorded': <brian2.input.timedarray.TimedArray at 0x1f898c04908>,\n",
       " 'setUpFRExc': 5. * hertz,\n",
       " 'setUpFRInh': 14. * hertz,\n",
       " 'tauUpFRTrials': 2,\n",
       " 'useRule': 'balance',\n",
       " 'kickType': 'spike',\n",
       " 'threshExc': 130. * pamp,\n",
       " 'threshInh': 140. * pamp,\n",
       " 'gainExc': 5.77777778e+11 * second ** -1 * amp ** -1,\n",
       " 'gainInh': 1.85882353e+12 * second ** -1 * amp ** -1,\n",
       " 'alpha1': 100. * famp,\n",
       " 'alpha2': 10. * famp,\n",
       " 'tauPlasticityTrials': 500,\n",
       " 'alphaBalance': 0.002,\n",
       " 'minAllowedWEE': 2. * pamp,\n",
       " 'minAllowedWEI': 2. * pamp,\n",
       " 'minAllowedWIE': 2. * pamp,\n",
       " 'minAllowedWII': 2. * pamp,\n",
       " 'maxAllowedFRExc': 25,\n",
       " 'maxAllowedFRInh': 70,\n",
       " 'nTrials': 1597,\n",
       " 'saveTrials': array([   0,    2,    4,    7,   12,   20,   33,   54,   88,  143,  232,\n",
       "         376,  609,  986, 1596]),\n",
       " 'initTime': '2021-04-28-11-31',\n",
       " 'nInh': 200,\n",
       " 'nExc': 800,\n",
       " 'nExcSpikemon': 800,\n",
       " 'nInhSpikemon': 200,\n",
       " 'wEEScale': 0.25,\n",
       " 'wEIScale': 1.0,\n",
       " 'wIEScale': 0.125,\n",
       " 'wIIScale': 0.5,\n",
       " 'wEE_init': array([176.96147325, 182.30854326, 175.91404722, ..., 186.36267529,\n",
       "        184.9191078 , 180.74478025]) * pamp,\n",
       " 'wIE_init': array([144.49878794, 140.92231548, 152.21288119, ..., 138.29669354,\n",
       "        141.0111472 , 138.3146514 ]) * pamp,\n",
       " 'wEI_init': array([251.11734914, 228.36170455, 248.57835235, ..., 258.04852699,\n",
       "        239.29416781, 236.60112758]) * pamp,\n",
       " 'wII_init': array([171.69145272, 188.24919401, 177.3671765 , ..., 170.80706294,\n",
       "        168.10688952, 167.40329956]) * pamp}"
      ]
     },
     "execution_count": 197,
     "metadata": {},
     "output_type": "execute_result"
    }
   ],
   "source": [
    "R.p"
   ]
  },
  {
   "cell_type": "code",
   "execution_count": 195,
   "metadata": {
    "collapsed": true
   },
   "outputs": [
    {
     "ename": "AttributeError",
     "evalue": "'Results' object has no attribute 'preInds_EE'",
     "output_type": "error",
     "traceback": [
      "\u001b[1;31m---------------------------------------------------------------------------\u001b[0m",
      "\u001b[1;31mAttributeError\u001b[0m                            Traceback (most recent call last)",
      "\u001b[1;32m<ipython-input-195-611c79d68a45>\u001b[0m in \u001b[0;36m<module>\u001b[1;34m\u001b[0m\n\u001b[1;32m----> 1\u001b[1;33m \u001b[0mwEE\u001b[0m \u001b[1;33m=\u001b[0m \u001b[0mweight_matrix_from_flat_inds_weights\u001b[0m\u001b[1;33m(\u001b[0m\u001b[0mR\u001b[0m\u001b[1;33m.\u001b[0m\u001b[0mp\u001b[0m\u001b[1;33m[\u001b[0m\u001b[1;34m'nExc'\u001b[0m\u001b[1;33m]\u001b[0m\u001b[1;33m,\u001b[0m \u001b[0mR\u001b[0m\u001b[1;33m.\u001b[0m\u001b[0mp\u001b[0m\u001b[1;33m[\u001b[0m\u001b[1;34m'nExc'\u001b[0m\u001b[1;33m]\u001b[0m\u001b[1;33m,\u001b[0m \u001b[0mR\u001b[0m\u001b[1;33m.\u001b[0m\u001b[0mpreInds_EE\u001b[0m\u001b[1;33m,\u001b[0m \u001b[0mR\u001b[0m\u001b[1;33m.\u001b[0m\u001b[0mpostInds_EE\u001b[0m\u001b[1;33m,\u001b[0m \u001b[0mR\u001b[0m\u001b[1;33m.\u001b[0m\u001b[0mp\u001b[0m\u001b[1;33m[\u001b[0m\u001b[1;34m'wEE_init'\u001b[0m\u001b[1;33m]\u001b[0m\u001b[1;33m)\u001b[0m\u001b[1;33m\u001b[0m\u001b[1;33m\u001b[0m\u001b[0m\n\u001b[0m\u001b[0;32m      2\u001b[0m \u001b[0mwIE\u001b[0m \u001b[1;33m=\u001b[0m \u001b[0mweight_matrix_from_flat_inds_weights\u001b[0m\u001b[1;33m(\u001b[0m\u001b[0mR\u001b[0m\u001b[1;33m.\u001b[0m\u001b[0mp\u001b[0m\u001b[1;33m[\u001b[0m\u001b[1;34m'nExc'\u001b[0m\u001b[1;33m]\u001b[0m\u001b[1;33m,\u001b[0m \u001b[0mR\u001b[0m\u001b[1;33m.\u001b[0m\u001b[0mp\u001b[0m\u001b[1;33m[\u001b[0m\u001b[1;34m'nInh'\u001b[0m\u001b[1;33m]\u001b[0m\u001b[1;33m,\u001b[0m \u001b[0mR\u001b[0m\u001b[1;33m.\u001b[0m\u001b[0mpreInds_IE\u001b[0m\u001b[1;33m,\u001b[0m \u001b[0mR\u001b[0m\u001b[1;33m.\u001b[0m\u001b[0mpostInds_IE\u001b[0m\u001b[1;33m,\u001b[0m \u001b[0mR\u001b[0m\u001b[1;33m.\u001b[0m\u001b[0mp\u001b[0m\u001b[1;33m[\u001b[0m\u001b[1;34m'wIE_init'\u001b[0m\u001b[1;33m]\u001b[0m\u001b[1;33m)\u001b[0m\u001b[1;33m\u001b[0m\u001b[1;33m\u001b[0m\u001b[0m\n\u001b[0;32m      3\u001b[0m \u001b[0mwEI\u001b[0m \u001b[1;33m=\u001b[0m \u001b[0mweight_matrix_from_flat_inds_weights\u001b[0m\u001b[1;33m(\u001b[0m\u001b[0mR\u001b[0m\u001b[1;33m.\u001b[0m\u001b[0mp\u001b[0m\u001b[1;33m[\u001b[0m\u001b[1;34m'nInh'\u001b[0m\u001b[1;33m]\u001b[0m\u001b[1;33m,\u001b[0m \u001b[0mR\u001b[0m\u001b[1;33m.\u001b[0m\u001b[0mp\u001b[0m\u001b[1;33m[\u001b[0m\u001b[1;34m'nExc'\u001b[0m\u001b[1;33m]\u001b[0m\u001b[1;33m,\u001b[0m \u001b[0mR\u001b[0m\u001b[1;33m.\u001b[0m\u001b[0mpreInds_EI\u001b[0m\u001b[1;33m,\u001b[0m \u001b[0mR\u001b[0m\u001b[1;33m.\u001b[0m\u001b[0mpostInds_EI\u001b[0m\u001b[1;33m,\u001b[0m \u001b[0mR\u001b[0m\u001b[1;33m.\u001b[0m\u001b[0mp\u001b[0m\u001b[1;33m[\u001b[0m\u001b[1;34m'wEI_init'\u001b[0m\u001b[1;33m]\u001b[0m\u001b[1;33m)\u001b[0m\u001b[1;33m\u001b[0m\u001b[1;33m\u001b[0m\u001b[0m\n\u001b[0;32m      4\u001b[0m \u001b[0mwII\u001b[0m \u001b[1;33m=\u001b[0m \u001b[0mweight_matrix_from_flat_inds_weights\u001b[0m\u001b[1;33m(\u001b[0m\u001b[0mR\u001b[0m\u001b[1;33m.\u001b[0m\u001b[0mp\u001b[0m\u001b[1;33m[\u001b[0m\u001b[1;34m'nInh'\u001b[0m\u001b[1;33m]\u001b[0m\u001b[1;33m,\u001b[0m \u001b[0mR\u001b[0m\u001b[1;33m.\u001b[0m\u001b[0mp\u001b[0m\u001b[1;33m[\u001b[0m\u001b[1;34m'nInh'\u001b[0m\u001b[1;33m]\u001b[0m\u001b[1;33m,\u001b[0m \u001b[0mR\u001b[0m\u001b[1;33m.\u001b[0m\u001b[0mpreInds_II\u001b[0m\u001b[1;33m,\u001b[0m \u001b[0mR\u001b[0m\u001b[1;33m.\u001b[0m\u001b[0mpostInds_II\u001b[0m\u001b[1;33m,\u001b[0m \u001b[0mR\u001b[0m\u001b[1;33m.\u001b[0m\u001b[0mp\u001b[0m\u001b[1;33m[\u001b[0m\u001b[1;34m'wII_init'\u001b[0m\u001b[1;33m]\u001b[0m\u001b[1;33m)\u001b[0m\u001b[1;33m\u001b[0m\u001b[1;33m\u001b[0m\u001b[0m\n\u001b[0;32m      5\u001b[0m \u001b[1;33m\u001b[0m\u001b[0m\n",
      "\u001b[1;31mAttributeError\u001b[0m: 'Results' object has no attribute 'preInds_EE'"
     ]
    }
   ],
   "source": [
    "wEE = weight_matrix_from_flat_inds_weights(R.p['nExc'], R.p['nExc'], R.preInds_EE, R.postInds_EE, R.p['wEE_init'])\n",
    "wIE = weight_matrix_from_flat_inds_weights(R.p['nExc'], R.p['nInh'], R.preInds_IE, R.postInds_IE, R.p['wIE_init'])\n",
    "wEI = weight_matrix_from_flat_inds_weights(R.p['nInh'], R.p['nExc'], R.preInds_EI, R.postInds_EI, R.p['wEI_init'])\n",
    "wII = weight_matrix_from_flat_inds_weights(R.p['nInh'], R.p['nInh'], R.preInds_II, R.postInds_II, R.p['wII_init'])\n",
    "\n",
    "wFull = np.block([[wEE, wIE], [-wEI, -wII]])\n",
    "\n",
    "fig7, ax7 = plt.subplots(num=7, figsize=(10, 9))\n",
    "weight_matrix(ax7, wFull, xlabel='Pre Index', ylabel='Post Index', clabel='Normalized Weight',)"
   ]
  },
  {
   "cell_type": "code",
   "execution_count": 190,
   "metadata": {
    "scrolled": false
   },
   "outputs": [],
   "source": [
    "f, ax = plt.subplots(2, 2)\n",
    "axArr = ax.ravel()\n",
    "\n",
    "dwMats = ('trialdwEEUnits',\n",
    "          'trialdwEIUnits',\n",
    "          'trialdwIEUnits',\n",
    "          'trialdwIIUnits',\n",
    "         )\n",
    "\n",
    "for axInd, ax in enumerate(axArr):\n",
    "    values = getattr(R, dwMats[axInd]).T\n",
    "    i = ax.imshow(values,\n",
    "                 cmap=plt.cm.RdBu_r,\n",
    "                 aspect='auto',\n",
    "                 interpolation='none')\n",
    "    ax.set_xlabel('Trial #')\n",
    "    ax.set_ylabel('Unit Index')\n",
    "    \n",
    "    vmax, vmin = np.max(values), np.min(values)\n",
    "    norm = MidpointNormalize(vmin, vmax, 0)\n",
    "    i.set_clim(vmin, vmax)\n",
    "    i.set_norm(norm)\n",
    "    \n",
    "    cb = plt.colorbar(i, ax=ax)\n",
    "    cb.ax.set_ylabel('Weight (pA)')\n",
    "    ax.set_title(dwMats[axInd])\n",
    "    "
   ]
  },
  {
   "cell_type": "code",
   "execution_count": 38,
   "metadata": {
    "scrolled": true
   },
   "outputs": [
    {
     "data": {
      "text/plain": [
       "(1597, 800)"
      ]
     },
     "execution_count": 38,
     "metadata": {},
     "output_type": "execute_result"
    }
   ],
   "source": [
    "R.trialdwEEUnits.shape"
   ]
  },
  {
   "cell_type": "code",
   "execution_count": 42,
   "metadata": {},
   "outputs": [
    {
     "data": {
      "text/plain": [
       "-20025.176"
      ]
     },
     "execution_count": 42,
     "metadata": {},
     "output_type": "execute_result"
    }
   ],
   "source": [
    "R.trialdwEEUnits[:1500, :].min()"
   ]
  },
  {
   "cell_type": "code",
   "execution_count": 41,
   "metadata": {},
   "outputs": [
    {
     "data": {
      "text/plain": [
       "-12101160.0"
      ]
     },
     "execution_count": 41,
     "metadata": {},
     "output_type": "execute_result"
    }
   ],
   "source": [
    "R.trialdwEEUnits.min()"
   ]
  },
  {
   "cell_type": "code",
   "execution_count": 40,
   "metadata": {},
   "outputs": [
    {
     "data": {
      "text/plain": [
       "3831.6306"
      ]
     },
     "execution_count": 40,
     "metadata": {},
     "output_type": "execute_result"
    }
   ],
   "source": [
    "R.trialdwEEUnits.max()"
   ]
  },
  {
   "cell_type": "code",
   "execution_count": null,
   "metadata": {},
   "outputs": [],
   "source": [
    "np.full()"
   ]
  },
  {
   "cell_type": "code",
   "execution_count": 26,
   "metadata": {},
   "outputs": [],
   "source": [
    "test = np.empty((1500, 800,), dtype='float32')"
   ]
  },
  {
   "cell_type": "code",
   "execution_count": null,
   "metadata": {},
   "outputs": [],
   "source": []
  },
  {
   "cell_type": "code",
   "execution_count": 126,
   "metadata": {},
   "outputs": [
    {
     "data": {
      "text/plain": [
       "4.57763671875"
      ]
     },
     "execution_count": 126,
     "metadata": {},
     "output_type": "execute_result"
    }
   ],
   "source": [
    "test.size * test.itemsize / 1024 / 1024"
   ]
  },
  {
   "cell_type": "code",
   "execution_count": 71,
   "metadata": {},
   "outputs": [],
   "source": [
    "testSpikeInds = np.array([0, 1, 5, 2, 1, 4]).astype(int)\n",
    "test = np.bincount(testSpikeInds)\n",
    "test2 = np.bincount(testSpikeInds, minlength = 7)"
   ]
  },
  {
   "cell_type": "code",
   "execution_count": 72,
   "metadata": {},
   "outputs": [
    {
     "data": {
      "text/plain": [
       "array([1, 2, 1, 0, 1, 1], dtype=int64)"
      ]
     },
     "execution_count": 72,
     "metadata": {},
     "output_type": "execute_result"
    }
   ],
   "source": [
    "test"
   ]
  },
  {
   "cell_type": "code",
   "execution_count": 73,
   "metadata": {},
   "outputs": [
    {
     "data": {
      "text/plain": [
       "array([1, 2, 1, 0, 1, 1, 0], dtype=int64)"
      ]
     },
     "execution_count": 73,
     "metadata": {},
     "output_type": "execute_result"
    }
   ],
   "source": [
    "test2"
   ]
  },
  {
   "cell_type": "code",
   "execution_count": null,
   "metadata": {},
   "outputs": [],
   "source": []
  },
  {
   "cell_type": "code",
   "execution_count": null,
   "metadata": {},
   "outputs": [],
   "source": []
  },
  {
   "cell_type": "code",
   "execution_count": null,
   "metadata": {},
   "outputs": [],
   "source": []
  },
  {
   "cell_type": "code",
   "execution_count": null,
   "metadata": {},
   "outputs": [],
   "source": []
  },
  {
   "cell_type": "code",
   "execution_count": null,
   "metadata": {},
   "outputs": [],
   "source": []
  },
  {
   "cell_type": "code",
   "execution_count": null,
   "metadata": {},
   "outputs": [],
   "source": []
  },
  {
   "cell_type": "code",
   "execution_count": null,
   "metadata": {},
   "outputs": [],
   "source": []
  },
  {
   "cell_type": "code",
   "execution_count": 25,
   "metadata": {},
   "outputs": [],
   "source": [
    "nUnits = 10\n",
    "pConn = 1\n",
    "allowAutapses = False"
   ]
  },
  {
   "cell_type": "code",
   "execution_count": null,
   "metadata": {},
   "outputs": [],
   "source": []
  },
  {
   "cell_type": "code",
   "execution_count": 33,
   "metadata": {},
   "outputs": [
    {
     "name": "stdout",
     "output_type": "stream",
     "text": [
      "100\n",
      "90\n"
     ]
    }
   ],
   "source": [
    "bestNumberOfSynapses = int(np.round(pConn * nUnits ** 2))\n",
    "print(bestNumberOfSynapses)\n",
    "\n",
    "if allowAutapses:\n",
    "    indicesFlat = np.random.choice(nUnits ** 2, bestNumberOfSynapses, replace=False)\n",
    "else:\n",
    "    probabilityArray = np.full((nUnits, nUnits), 1 / (nUnits * (nUnits - 1)))\n",
    "    probabilityArray[np.diag_indices_from(probabilityArray)] = 0\n",
    "    \n",
    "    if pConn > (nUnits - 1) / nUnits:\n",
    "        bestNumberOfSynapses -= int(np.round(nUnits ** 2 * (pConn - (nUnits - 1) / nUnits)))\n",
    "        print(bestNumberOfSynapses)\n",
    "    \n",
    "    indicesFlat = np.random.choice(nUnits ** 2, bestNumberOfSynapses, replace=False, p=probabilityArray.ravel())\n",
    "\n",
    "preInds, postInds = np.unravel_index(indicesFlat, (nUnits, nUnits))"
   ]
  },
  {
   "cell_type": "code",
   "execution_count": 32,
   "metadata": {},
   "outputs": [
    {
     "data": {
      "text/plain": [
       "10"
      ]
     },
     "execution_count": 32,
     "metadata": {},
     "output_type": "execute_result"
    }
   ],
   "source": [
    "int(np.round(nUnits ** 2 * (pConn - (nUnits - 1) / nUnits)))"
   ]
  },
  {
   "cell_type": "code",
   "execution_count": 28,
   "metadata": {},
   "outputs": [
    {
     "data": {
      "text/plain": [
       "0"
      ]
     },
     "execution_count": 28,
     "metadata": {},
     "output_type": "execute_result"
    }
   ],
   "source": [
    "int(np.round(((1 - pConn) * nUnits ** 2)))"
   ]
  },
  {
   "cell_type": "code",
   "execution_count": null,
   "metadata": {},
   "outputs": [],
   "source": [
    "bestNumbe"
   ]
  },
  {
   "cell_type": "code",
   "execution_count": 4,
   "metadata": {},
   "outputs": [],
   "source": [
    "# goal 2: apply normally distributed weights"
   ]
  },
  {
   "cell_type": "code",
   "execution_count": 15,
   "metadata": {
    "scrolled": true
   },
   "outputs": [],
   "source": [
    "nExc = 8\n",
    "nInh = 2\n",
    "pConn = 0.25\n",
    "randnMean = 1\n",
    "randnSD = 0.2\n",
    "\n",
    "aEE = generate_adjacency_matrix_within(nExc, pConn, allowAutapses=False)\n",
    "aIE = generate_adjacency_matrix_between(nExc, nInh, pConn)\n",
    "aEI = generate_adjacency_matrix_between(nInh, nExc, pConn)\n",
    "aII = generate_adjacency_matrix_within(nInh, pConn, allowAutapses=False)\n",
    "\n",
    "wEE = w_from_a(aEE, randnMean, randnSD)\n",
    "wIE = w_from_a(aIE, randnMean, randnSD)\n",
    "wEI = w_from_a(aEI, randnMean, randnSD)\n",
    "wII = w_from_a(aII, randnMean, randnSD)"
   ]
  },
  {
   "cell_type": "code",
   "execution_count": 16,
   "metadata": {
    "collapsed": true
   },
   "outputs": [
    {
     "data": {
      "text/plain": [
       "array([[0.        , 1.14111646, 0.        , 0.        , 0.91245524,\n",
       "        0.        , 0.        , 0.58845372],\n",
       "       [0.        , 0.        , 0.        , 0.6840502 , 0.        ,\n",
       "        0.        , 0.85097995, 0.        ],\n",
       "       [0.        , 0.        , 0.        , 0.        , 0.        ,\n",
       "        0.        , 0.        , 1.10777655],\n",
       "       [1.32835325, 0.        , 0.        , 0.        , 0.93841501,\n",
       "        0.        , 0.        , 0.        ],\n",
       "       [0.        , 0.        , 1.06376324, 0.        , 0.        ,\n",
       "        1.08381029, 0.        , 0.        ],\n",
       "       [0.        , 0.        , 0.        , 1.1919193 , 0.        ,\n",
       "        0.        , 0.        , 0.70794324],\n",
       "       [0.        , 1.26854389, 0.        , 0.8659907 , 0.        ,\n",
       "        0.        , 0.        , 0.        ],\n",
       "       [0.        , 0.        , 0.        , 0.80745652, 0.        ,\n",
       "        0.        , 1.12804687, 0.        ]])"
      ]
     },
     "execution_count": 16,
     "metadata": {},
     "output_type": "execute_result"
    }
   ],
   "source": [
    "wEE"
   ]
  },
  {
   "cell_type": "code",
   "execution_count": 6,
   "metadata": {},
   "outputs": [],
   "source": [
    "preInds, postInds = np.where(aEE)"
   ]
  },
  {
   "cell_type": "code",
   "execution_count": 7,
   "metadata": {},
   "outputs": [
    {
     "data": {
      "text/plain": [
       "array([0, 1, 1, 1, 1, 2, 2, 3, 3, 4, 5, 5, 6, 7, 7, 7], dtype=int64)"
      ]
     },
     "execution_count": 7,
     "metadata": {},
     "output_type": "execute_result"
    }
   ],
   "source": [
    "preInds "
   ]
  },
  {
   "cell_type": "code",
   "execution_count": 8,
   "metadata": {
    "scrolled": true
   },
   "outputs": [
    {
     "data": {
      "text/plain": [
       "array([2, 0, 2, 4, 6, 4, 5, 1, 5, 5, 4, 6, 0, 0, 2, 4], dtype=int64)"
      ]
     },
     "execution_count": 8,
     "metadata": {},
     "output_type": "execute_result"
    }
   ],
   "source": [
    "postInds"
   ]
  },
  {
   "cell_type": "code",
   "execution_count": 11,
   "metadata": {},
   "outputs": [],
   "source": [
    "weights = np.random.normal(size=preInds.size)"
   ]
  },
  {
   "cell_type": "code",
   "execution_count": 12,
   "metadata": {},
   "outputs": [
    {
     "data": {
      "text/plain": [
       "array([ 0.54428341,  0.42842826, -0.1290585 , -1.68726729,  0.40761932,\n",
       "       -0.48984529,  0.14953924,  0.58476359,  0.39997037,  1.15748391,\n",
       "        0.325102  , -0.43593126, -1.13064903, -0.70461682,  1.49334686,\n",
       "        0.0551257 ])"
      ]
     },
     "execution_count": 12,
     "metadata": {},
     "output_type": "execute_result"
    }
   ],
   "source": [
    "weights"
   ]
  },
  {
   "cell_type": "code",
   "execution_count": 13,
   "metadata": {},
   "outputs": [],
   "source": [
    "wEE[preInds, postInds] = weights"
   ]
  },
  {
   "cell_type": "code",
   "execution_count": 14,
   "metadata": {},
   "outputs": [
    {
     "data": {
      "text/plain": [
       "array([[ 0.        ,  0.        ,  0.54428341,  0.        ,  0.        ,\n",
       "         0.        ,  0.        ,  0.        ],\n",
       "       [ 0.42842826,  0.        , -0.1290585 ,  0.        , -1.68726729,\n",
       "         0.        ,  0.40761932,  0.        ],\n",
       "       [ 0.        ,  0.        ,  0.        ,  0.        , -0.48984529,\n",
       "         0.14953924,  0.        ,  0.        ],\n",
       "       [ 0.        ,  0.58476359,  0.        ,  0.        ,  0.        ,\n",
       "         0.39997037,  0.        ,  0.        ],\n",
       "       [ 0.        ,  0.        ,  0.        ,  0.        ,  0.        ,\n",
       "         1.15748391,  0.        ,  0.        ],\n",
       "       [ 0.        ,  0.        ,  0.        ,  0.        ,  0.325102  ,\n",
       "         0.        , -0.43593126,  0.        ],\n",
       "       [-1.13064903,  0.        ,  0.        ,  0.        ,  0.        ,\n",
       "         0.        ,  0.        ,  0.        ],\n",
       "       [-0.70461682,  0.        ,  1.49334686,  0.        ,  0.0551257 ,\n",
       "         0.        ,  0.        ,  0.        ]])"
      ]
     },
     "execution_count": 14,
     "metadata": {},
     "output_type": "execute_result"
    }
   ],
   "source": [
    "wEE"
   ]
  },
  {
   "cell_type": "code",
   "execution_count": 6,
   "metadata": {},
   "outputs": [],
   "source": [
    "wFull = np.block([[wEE, wIE],[-wEI, -wII]])"
   ]
  },
  {
   "cell_type": "code",
   "execution_count": 7,
   "metadata": {
    "scrolled": true
   },
   "outputs": [
    {
     "data": {
      "image/png": "[encoded data removed]",
      "text/plain": [
       "<Figure size 432x288 with 2 Axes>"
      ]
     },
     "metadata": {
      "needs_background": "light"
     },
     "output_type": "display_data"
    }
   ],
   "source": [
    "f, ax = plt.subplots()\n",
    "weight_matrix(ax, wFull,\n",
    "                   xlabel='Pre Index',\n",
    "                   ylabel='Post Index',\n",
    "                   clabel='Normalized Weight',)"
   ]
  },
  {
   "cell_type": "code",
   "execution_count": 174,
   "metadata": {},
   "outputs": [
    {
     "data": {
      "text/plain": [
       "Text(0, 0.5, 'Normalized Weight')"
      ]
     },
     "execution_count": 174,
     "metadata": {},
     "output_type": "execute_result"
    }
   ],
   "source": [
    "f, ax = plt.subplots()\n",
    "i = ax.imshow(wFull,\n",
    "              cmap='RdBu_r',\n",
    "              aspect='auto',\n",
    "              interpolation='none', )\n",
    "ax.set(xlabel='Post Index', ylabel='Pre Index')\n",
    "cb = plt.colorbar(i, ax=ax)\n",
    "cb.ax.set_ylabel('Normalized Weight', rotation=270)"
   ]
  },
  {
   "cell_type": "code",
   "execution_count": null,
   "metadata": {},
   "outputs": [],
   "source": []
  },
  {
   "cell_type": "code",
   "execution_count": null,
   "metadata": {},
   "outputs": [],
   "source": []
  },
  {
   "cell_type": "code",
   "execution_count": null,
   "metadata": {},
   "outputs": [],
   "source": []
  },
  {
   "cell_type": "code",
   "execution_count": null,
   "metadata": {},
   "outputs": [],
   "source": []
  },
  {
   "cell_type": "code",
   "execution_count": null,
   "metadata": {},
   "outputs": [],
   "source": []
  },
  {
   "cell_type": "code",
   "execution_count": 104,
   "metadata": {},
   "outputs": [],
   "source": [
    "def method2():\n",
    "    # more exact method\n",
    "    nUnits = 10000\n",
    "    pConn = 0.05\n",
    "    allowAutapses = False\n",
    "\n",
    "    bestNumberOfSynapses = int(np.round(pConn * nUnits ** 2))\n",
    "    roughIndices = np.random.choice(nUnits ** 2, bestNumberOfSynapses, replace=False)\n",
    "    adjMat = np.zeros((nUnits, nUnits), dtype=bool)\n",
    "    adjMat[np.unravel_index(roughIndices, (nUnits, nUnits))] = True\n",
    "    print(adjMat)\n",
    "    traceRough = np.trace(adjMat)\n",
    "    adjMat[np.diag_indices_from(adjMat)] = False\n",
    "    nonDiagonalZeroBool = ~(np.eye(nUnits, dtype=bool) | adjMat)\n",
    "    nonDiagonalIndicesFlattened = np.ravel_multi_index(np.where(nonDiagonalZeroBool), (nUnits, nUnits))\n",
    "    newSynapseIndices = np.random.choice(nonDiagonalIndicesFlattened, traceRough, replace=False)\n",
    "    adjMat[np.unravel_index(newSynapseIndices, (nUnits, nUnits))] = True"
   ]
  },
  {
   "cell_type": "code",
   "execution_count": null,
   "metadata": {},
   "outputs": [],
   "source": []
  },
  {
   "cell_type": "code",
   "execution_count": 2,
   "metadata": {},
   "outputs": [],
   "source": [
    "# goal 0: create a concise presentation of model parameters and compare two\n",
    "# actually on second thought this doesn't really matter\n",
    "\n",
    "importantParams = ['nUnits', 'propConnect', ]\n",
    "from params import paramsJercog, paramsDestexhe\n",
    "import pandas as pd\n",
    "paramsJercog"
   ]
  },
  {
   "cell_type": "code",
   "execution_count": null,
   "metadata": {},
   "outputs": [],
   "source": []
  }
 ],
 "metadata": {
  "kernelspec": {
   "display_name": "Python 3",
   "language": "python",
   "name": "python3"
  },
  "language_info": {
   "codemirror_mode": {
    "name": "ipython",
    "version": 3
   },
   "file_extension": ".py",
   "mimetype": "text/x-python",
   "name": "python",
   "nbconvert_exporter": "python",
   "pygments_lexer": "ipython3",
   "version": "3.7.6"
  }
 },
 "nbformat": 4,
 "nbformat_minor": 4
}

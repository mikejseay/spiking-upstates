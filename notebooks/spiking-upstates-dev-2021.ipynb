{
 "cells": [
  {
   "cell_type": "code",
   "execution_count": null,
   "metadata": {},
   "outputs": [],
   "source": [
    "# to add the spiking model codebase to the path\n",
    "import sys\n",
    "sys.path.append('..')"
   ]
  },
  {
   "cell_type": "code",
   "execution_count": 1,
   "metadata": {},
   "outputs": [],
   "source": [
    "%matplotlib inline\n",
    "import matplotlib.pyplot as plt\n",
    "import matplotlib.colors as colors\n",
    "import numpy as np"
   ]
  },
  {
   "cell_type": "code",
   "execution_count": 2,
   "metadata": {},
   "outputs": [],
   "source": [
    "class MidpointNormalize(colors.Normalize):\n",
    "    ''' create asymmetric norm '''\n",
    "\n",
    "    def __init__(self, vmin=None, vmax=None, midpoint=None, clip=False):\n",
    "        self.midpoint = midpoint\n",
    "        colors.Normalize.__init__(self, vmin, vmax, clip)\n",
    "\n",
    "    def __call__(self, value, clip=None):\n",
    "        # I'm ignoring masked values and all kinds of edge cases to make a\n",
    "        # simple example...\n",
    "        x, y = [self.vmin, self.midpoint, self.vmax], [0, 0.5, 1]\n",
    "        return np.ma.masked_array(np.interp(value, x, y))\n",
    "\n",
    "def generate_adjacency_matrix_within(nUnits, pConn, allowAutapses=False):\n",
    "    \n",
    "    # pre is row, post is column\n",
    "    \n",
    "    bestNumberOfSynapses = int(np.round(pConn * nUnits ** 2))\n",
    "    \n",
    "    if allowAutapses:\n",
    "        indicesFlat = np.random.choice(nUnits ** 2, bestNumberOfSynapses, replace=False)\n",
    "        adjMat = np.zeros((nUnits, nUnits), dtype=bool)\n",
    "        adjMat[np.unravel_index(indicesFlat, (nUnits, nUnits))] = True\n",
    "    else:\n",
    "        probabilityArray = np.full((nUnits, nUnits), 1 / (nUnits * (nUnits - 1)))\n",
    "        probabilityArray[np.diag_indices_from(probabilityArray)] = 0\n",
    "        indicesFlat = np.random.choice(nUnits ** 2, bestNumberOfSynapses, replace=False, p=probabilityArray.ravel())\n",
    "        adjMat = np.zeros((nUnits, nUnits), dtype=bool)\n",
    "        adjMat[np.unravel_index(indicesFlat, (nUnits, nUnits))] = True\n",
    "        \n",
    "    return adjMat\n",
    "\n",
    "def generate_adjacency_matrix_between(nUnitsPre, nUnitsPost, pConn):\n",
    "    \n",
    "    # pre is row, post is column\n",
    "    \n",
    "    bestNumberOfSynapses = int(np.round(pConn * nUnitsPre * nUnitsPost))\n",
    "    indicesFlat = np.random.choice(nUnitsPre * nUnitsPost, bestNumberOfSynapses, replace=False)\n",
    "    adjMat = np.zeros((nUnitsPre, nUnitsPost), dtype=bool)\n",
    "    adjMat[np.unravel_index(indicesFlat, (nUnitsPre, nUnitsPost))] = True\n",
    "    \n",
    "    return adjMat\n",
    "\n",
    "def w_from_a(a, mean, sd):\n",
    "    \"\"\" given adjacency matrix a, generate weight matrix w\n",
    "    from a random normal distribution with mean and sd.\n",
    "    clip negative weights to be 0.\n",
    "    \"\"\"\n",
    "    \n",
    "    preInds, postInds = np.where(a)\n",
    "    weights = np.random.normal(mean, sd, preInds.size)\n",
    "    weights[weights < 0] = 0\n",
    "    w = np.zeros_like(a, dtype=float)\n",
    "    w[a] = weights\n",
    "    return w"
   ]
  },
  {
   "cell_type": "code",
   "execution_count": 3,
   "metadata": {},
   "outputs": [],
   "source": [
    "def weight_matrix(ax, values,\n",
    "                       useCmap='RdBu_r', limsMethod='absmax',\n",
    "                       xlabel='', ylabel='', clabel=''):\n",
    "    \"\"\" given an axis handle, an array of values, and some optional params,\n",
    "        visualize a weight matrix in a heat map using imshow\n",
    "    \"\"\"\n",
    "    \n",
    "    i = ax.imshow(values,\n",
    "                  cmap=getattr(plt.cm, useCmap),\n",
    "                  aspect='auto',\n",
    "                  interpolation='none')\n",
    "    ax.set(xlabel=xlabel, ylabel=ylabel)\n",
    "\n",
    "    if limsMethod == 'absmax':\n",
    "        vmax = np.max(np.fabs(values))\n",
    "        vmin = -vmax\n",
    "    elif limsMethod == 'minmax':\n",
    "        vmax, vmin = np.max(values), np.min(values)\n",
    "\n",
    "    if vmin != -vmax:\n",
    "        norm = MidpointNormalize(vmin, vmax, 0)\n",
    "    else:\n",
    "        norm = False\n",
    "\n",
    "    i.set_clim(vmin, vmax)\n",
    "    if norm:\n",
    "        i.set_norm(norm)\n",
    "\n",
    "    cb = plt.colorbar(i, ax=ax)\n",
    "    cb.ax.set_ylabel(clabel, rotation=270)    "
   ]
  },
  {
   "cell_type": "code",
   "execution_count": 25,
   "metadata": {},
   "outputs": [],
   "source": [
    "nUnits = 10\n",
    "pConn = 1\n",
    "allowAutapses = False"
   ]
  },
  {
   "cell_type": "code",
   "execution_count": 33,
   "metadata": {},
   "outputs": [
    {
     "name": "stdout",
     "output_type": "stream",
     "text": [
      "100\n",
      "90\n"
     ]
    }
   ],
   "source": [
    "bestNumberOfSynapses = int(np.round(pConn * nUnits ** 2))\n",
    "print(bestNumberOfSynapses)\n",
    "\n",
    "if allowAutapses:\n",
    "    indicesFlat = np.random.choice(nUnits ** 2, bestNumberOfSynapses, replace=False)\n",
    "else:\n",
    "    probabilityArray = np.full((nUnits, nUnits), 1 / (nUnits * (nUnits - 1)))\n",
    "    probabilityArray[np.diag_indices_from(probabilityArray)] = 0\n",
    "    \n",
    "    if pConn > (nUnits - 1) / nUnits:\n",
    "        bestNumberOfSynapses -= int(np.round(nUnits ** 2 * (pConn - (nUnits - 1) / nUnits)))\n",
    "        print(bestNumberOfSynapses)\n",
    "    \n",
    "    indicesFlat = np.random.choice(nUnits ** 2, bestNumberOfSynapses, replace=False, p=probabilityArray.ravel())\n",
    "\n",
    "preInds, postInds = np.unravel_index(indicesFlat, (nUnits, nUnits))"
   ]
  },
  {
   "cell_type": "code",
   "execution_count": 32,
   "metadata": {},
   "outputs": [
    {
     "data": {
      "text/plain": [
       "10"
      ]
     },
     "execution_count": 32,
     "metadata": {},
     "output_type": "execute_result"
    }
   ],
   "source": [
    "int(np.round(nUnits ** 2 * (pConn - (nUnits - 1) / nUnits)))"
   ]
  },
  {
   "cell_type": "code",
   "execution_count": 28,
   "metadata": {},
   "outputs": [
    {
     "data": {
      "text/plain": [
       "0"
      ]
     },
     "execution_count": 28,
     "metadata": {},
     "output_type": "execute_result"
    }
   ],
   "source": [
    "int(np.round(((1 - pConn) * nUnits ** 2)))"
   ]
  },
  {
   "cell_type": "code",
   "execution_count": null,
   "metadata": {},
   "outputs": [],
   "source": [
    "bestNumbe"
   ]
  },
  {
   "cell_type": "code",
   "execution_count": 4,
   "metadata": {},
   "outputs": [],
   "source": [
    "# goal 2: apply normally distributed weights"
   ]
  },
  {
   "cell_type": "code",
   "execution_count": 15,
   "metadata": {
    "scrolled": true
   },
   "outputs": [],
   "source": [
    "nExc = 8\n",
    "nInh = 2\n",
    "pConn = 0.25\n",
    "randnMean = 1\n",
    "randnSD = 0.2\n",
    "\n",
    "aEE = generate_adjacency_matrix_within(nExc, pConn, allowAutapses=False)\n",
    "aIE = generate_adjacency_matrix_between(nExc, nInh, pConn)\n",
    "aEI = generate_adjacency_matrix_between(nInh, nExc, pConn)\n",
    "aII = generate_adjacency_matrix_within(nInh, pConn, allowAutapses=False)\n",
    "\n",
    "wEE = w_from_a(aEE, randnMean, randnSD)\n",
    "wIE = w_from_a(aIE, randnMean, randnSD)\n",
    "wEI = w_from_a(aEI, randnMean, randnSD)\n",
    "wII = w_from_a(aII, randnMean, randnSD)"
   ]
  },
  {
   "cell_type": "code",
   "execution_count": 16,
   "metadata": {
    "collapsed": true
   },
   "outputs": [
    {
     "data": {
      "text/plain": [
       "array([[0.        , 1.14111646, 0.        , 0.        , 0.91245524,\n",
       "        0.        , 0.        , 0.58845372],\n",
       "       [0.        , 0.        , 0.        , 0.6840502 , 0.        ,\n",
       "        0.        , 0.85097995, 0.        ],\n",
       "       [0.        , 0.        , 0.        , 0.        , 0.        ,\n",
       "        0.        , 0.        , 1.10777655],\n",
       "       [1.32835325, 0.        , 0.        , 0.        , 0.93841501,\n",
       "        0.        , 0.        , 0.        ],\n",
       "       [0.        , 0.        , 1.06376324, 0.        , 0.        ,\n",
       "        1.08381029, 0.        , 0.        ],\n",
       "       [0.        , 0.        , 0.        , 1.1919193 , 0.        ,\n",
       "        0.        , 0.        , 0.70794324],\n",
       "       [0.        , 1.26854389, 0.        , 0.8659907 , 0.        ,\n",
       "        0.        , 0.        , 0.        ],\n",
       "       [0.        , 0.        , 0.        , 0.80745652, 0.        ,\n",
       "        0.        , 1.12804687, 0.        ]])"
      ]
     },
     "execution_count": 16,
     "metadata": {},
     "output_type": "execute_result"
    }
   ],
   "source": [
    "wEE"
   ]
  },
  {
   "cell_type": "code",
   "execution_count": 6,
   "metadata": {},
   "outputs": [],
   "source": [
    "preInds, postInds = np.where(aEE)"
   ]
  },
  {
   "cell_type": "code",
   "execution_count": 7,
   "metadata": {},
   "outputs": [
    {
     "data": {
      "text/plain": [
       "array([0, 1, 1, 1, 1, 2, 2, 3, 3, 4, 5, 5, 6, 7, 7, 7], dtype=int64)"
      ]
     },
     "execution_count": 7,
     "metadata": {},
     "output_type": "execute_result"
    }
   ],
   "source": [
    "preInds "
   ]
  },
  {
   "cell_type": "code",
   "execution_count": 8,
   "metadata": {
    "scrolled": true
   },
   "outputs": [
    {
     "data": {
      "text/plain": [
       "array([2, 0, 2, 4, 6, 4, 5, 1, 5, 5, 4, 6, 0, 0, 2, 4], dtype=int64)"
      ]
     },
     "execution_count": 8,
     "metadata": {},
     "output_type": "execute_result"
    }
   ],
   "source": [
    "postInds"
   ]
  },
  {
   "cell_type": "code",
   "execution_count": 11,
   "metadata": {},
   "outputs": [],
   "source": [
    "weights = np.random.normal(size=preInds.size)"
   ]
  },
  {
   "cell_type": "code",
   "execution_count": 12,
   "metadata": {},
   "outputs": [
    {
     "data": {
      "text/plain": [
       "array([ 0.54428341,  0.42842826, -0.1290585 , -1.68726729,  0.40761932,\n",
       "       -0.48984529,  0.14953924,  0.58476359,  0.39997037,  1.15748391,\n",
       "        0.325102  , -0.43593126, -1.13064903, -0.70461682,  1.49334686,\n",
       "        0.0551257 ])"
      ]
     },
     "execution_count": 12,
     "metadata": {},
     "output_type": "execute_result"
    }
   ],
   "source": [
    "weights"
   ]
  },
  {
   "cell_type": "code",
   "execution_count": 13,
   "metadata": {},
   "outputs": [],
   "source": [
    "wEE[preInds, postInds] = weights"
   ]
  },
  {
   "cell_type": "code",
   "execution_count": 14,
   "metadata": {},
   "outputs": [
    {
     "data": {
      "text/plain": [
       "array([[ 0.        ,  0.        ,  0.54428341,  0.        ,  0.        ,\n",
       "         0.        ,  0.        ,  0.        ],\n",
       "       [ 0.42842826,  0.        , -0.1290585 ,  0.        , -1.68726729,\n",
       "         0.        ,  0.40761932,  0.        ],\n",
       "       [ 0.        ,  0.        ,  0.        ,  0.        , -0.48984529,\n",
       "         0.14953924,  0.        ,  0.        ],\n",
       "       [ 0.        ,  0.58476359,  0.        ,  0.        ,  0.        ,\n",
       "         0.39997037,  0.        ,  0.        ],\n",
       "       [ 0.        ,  0.        ,  0.        ,  0.        ,  0.        ,\n",
       "         1.15748391,  0.        ,  0.        ],\n",
       "       [ 0.        ,  0.        ,  0.        ,  0.        ,  0.325102  ,\n",
       "         0.        , -0.43593126,  0.        ],\n",
       "       [-1.13064903,  0.        ,  0.        ,  0.        ,  0.        ,\n",
       "         0.        ,  0.        ,  0.        ],\n",
       "       [-0.70461682,  0.        ,  1.49334686,  0.        ,  0.0551257 ,\n",
       "         0.        ,  0.        ,  0.        ]])"
      ]
     },
     "execution_count": 14,
     "metadata": {},
     "output_type": "execute_result"
    }
   ],
   "source": [
    "wEE"
   ]
  },
  {
   "cell_type": "code",
   "execution_count": 6,
   "metadata": {},
   "outputs": [],
   "source": [
    "wFull = np.block([[wEE, wIE],[-wEI, -wII]])"
   ]
  },
  {
   "cell_type": "code",
   "execution_count": 7,
   "metadata": {
    "scrolled": true
   },
   "outputs": [
    {
     "data": {
      "image/png": "[encoded data removed]",
      "text/plain": [
       "<Figure size 432x288 with 2 Axes>"
      ]
     },
     "metadata": {
      "needs_background": "light"
     },
     "output_type": "display_data"
    }
   ],
   "source": [
    "f, ax = plt.subplots()\n",
    "weight_matrix(ax, wFull,\n",
    "                   xlabel='Pre Index',\n",
    "                   ylabel='Post Index',\n",
    "                   clabel='Normalized Weight',)"
   ]
  },
  {
   "cell_type": "code",
   "execution_count": 174,
   "metadata": {},
   "outputs": [
    {
     "data": {
      "text/plain": [
       "Text(0, 0.5, 'Normalized Weight')"
      ]
     },
     "execution_count": 174,
     "metadata": {},
     "output_type": "execute_result"
    }
   ],
   "source": [
    "f, ax = plt.subplots()\n",
    "i = ax.imshow(wFull,\n",
    "              cmap='RdBu_r',\n",
    "              aspect='auto',\n",
    "              interpolation='none', )\n",
    "ax.set(xlabel='Post Index', ylabel='Pre Index')\n",
    "cb = plt.colorbar(i, ax=ax)\n",
    "cb.ax.set_ylabel('Normalized Weight', rotation=270)"
   ]
  },
  {
   "cell_type": "code",
   "execution_count": null,
   "metadata": {},
   "outputs": [],
   "source": []
  },
  {
   "cell_type": "code",
   "execution_count": null,
   "metadata": {},
   "outputs": [],
   "source": []
  },
  {
   "cell_type": "code",
   "execution_count": null,
   "metadata": {},
   "outputs": [],
   "source": []
  },
  {
   "cell_type": "code",
   "execution_count": null,
   "metadata": {},
   "outputs": [],
   "source": []
  },
  {
   "cell_type": "code",
   "execution_count": null,
   "metadata": {},
   "outputs": [],
   "source": []
  },
  {
   "cell_type": "code",
   "execution_count": 104,
   "metadata": {},
   "outputs": [],
   "source": [
    "def method2():\n",
    "    # more exact method\n",
    "    nUnits = 10000\n",
    "    pConn = 0.05\n",
    "    allowAutapses = False\n",
    "\n",
    "    bestNumberOfSynapses = int(np.round(pConn * nUnits ** 2))\n",
    "    roughIndices = np.random.choice(nUnits ** 2, bestNumberOfSynapses, replace=False)\n",
    "    adjMat = np.zeros((nUnits, nUnits), dtype=bool)\n",
    "    adjMat[np.unravel_index(roughIndices, (nUnits, nUnits))] = True\n",
    "    print(adjMat)\n",
    "    traceRough = np.trace(adjMat)\n",
    "    adjMat[np.diag_indices_from(adjMat)] = False\n",
    "    nonDiagonalZeroBool = ~(np.eye(nUnits, dtype=bool) | adjMat)\n",
    "    nonDiagonalIndicesFlattened = np.ravel_multi_index(np.where(nonDiagonalZeroBool), (nUnits, nUnits))\n",
    "    newSynapseIndices = np.random.choice(nonDiagonalIndicesFlattened, traceRough, replace=False)\n",
    "    adjMat[np.unravel_index(newSynapseIndices, (nUnits, nUnits))] = True"
   ]
  },
  {
   "cell_type": "code",
   "execution_count": null,
   "metadata": {},
   "outputs": [],
   "source": []
  },
  {
   "cell_type": "code",
   "execution_count": 2,
   "metadata": {},
   "outputs": [],
   "source": [
    "# goal 0: create a concise presentation of model parameters and compare two\n",
    "# actually on second thought this doesn't really matter\n",
    "\n",
    "importantParams = ['nUnits', 'propConnect', ]\n",
    "from params import paramsJercog, paramsDestexhe\n",
    "import pandas as pd\n",
    "paramsJercog"
   ]
  }
 ],
 "metadata": {
  "kernelspec": {
   "display_name": "Python 3",
   "language": "python",
   "name": "python3"
  },
  "language_info": {
   "codemirror_mode": {
    "name": "ipython",
    "version": 3
   },
   "file_extension": ".py",
   "mimetype": "text/x-python",
   "name": "python",
   "nbconvert_exporter": "python",
   "pygments_lexer": "ipython3",
   "version": "3.7.6"
  }
 },
 "nbformat": 4,
 "nbformat_minor": 4
}
